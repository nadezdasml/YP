{
 "cells": [
  {
   "cell_type": "markdown",
   "metadata": {},
   "source": [
    "# Определение перспективного тарифа для  компании «Мегалайн» — федерального оператора сотовой связи"
   ]
  },
  {
   "cell_type": "markdown",
   "metadata": {},
   "source": [
    "**Цель**: Определить выгодный тарифный план для корректировки рекламного бюджета.\n",
    "\n",
    "**Выборка**. Данные 500 пользователей тарифных планов «Смарт» и «Ультра»: кто они, откуда, каким тарифом пользуются, сколько звонков и сообщений каждый отправил за 2018 год.\n",
    "\n",
    "**Примечание**: «Мегалайн» всегда округляет секунды до минут, а мегабайты — до гигабайт:\n",
    "\n",
    "* Каждый звонок округляется отдельно: даже если он длился всего 1 секунду, будет засчитан как 1 минута. \n",
    "* Для веб-трафика отдельные сессии не считаются. Вместо этого общая сумма за месяц округляется в бо́льшую сторону. Если абонент использует 1025 мегабайт в этом месяце, с него возьмут плату за 2 гигабайта."
   ]
  },
  {
   "cell_type": "code",
   "execution_count": 1,
   "metadata": {},
   "outputs": [],
   "source": [
    "# Необходимые библиотеки для исследования \n",
    "\n",
    "import pandas as pd\n",
    "import matplotlib.pyplot as plt\n",
    "import numpy as np    \n",
    "from scipy import stats as st\n",
    "import seaborn as sns\n",
    "\n",
    "%matplotlib inline\n",
    "\n",
    "pd.options.display.float_format = '{:.3f}'.format"
   ]
  },
  {
   "cell_type": "code",
   "execution_count": 2,
   "metadata": {},
   "outputs": [],
   "source": [
    "## Предобработка данных# Загрузка файлов\n",
    "\n",
    "df_calls = pd.read_csv('https://code.s3.yandex.net/datasets/calls.csv')\n",
    "df_internet = pd.read_csv('https://code.s3.yandex.net/datasets/internet.csv')\n",
    "df_messages = pd.read_csv('https://code.s3.yandex.net/datasets/messages.csv')\n",
    "df_tariffs = pd.read_csv('https://code.s3.yandex.net/datasets/tariffs.csv')\n",
    "df_users = pd.read_csv('https://code.s3.yandex.net/datasets/users.csv')"
   ]
  },
  {
   "cell_type": "markdown",
   "metadata": {},
   "source": [
    "## Общая информаци о данных"
   ]
  },
  {
   "cell_type": "markdown",
   "metadata": {},
   "source": [
    "- Пропуски\n",
    "- Дубликаты\n",
    "- Типы данных"
   ]
  },
  {
   "cell_type": "code",
   "execution_count": 3,
   "metadata": {},
   "outputs": [
    {
     "name": "stdout",
     "output_type": "stream",
     "text": [
      "<class 'pandas.core.frame.DataFrame'>\n",
      "RangeIndex: 202607 entries, 0 to 202606\n",
      "Data columns (total 4 columns):\n",
      " #   Column     Non-Null Count   Dtype  \n",
      "---  ------     --------------   -----  \n",
      " 0   id         202607 non-null  object \n",
      " 1   call_date  202607 non-null  object \n",
      " 2   duration   202607 non-null  float64\n",
      " 3   user_id    202607 non-null  int64  \n",
      "dtypes: float64(1), int64(1), object(2)\n",
      "memory usage: 6.2+ MB\n"
     ]
    }
   ],
   "source": [
    "df_calls.info()"
   ]
  },
  {
   "cell_type": "code",
   "execution_count": 4,
   "metadata": {},
   "outputs": [
    {
     "data": {
      "text/html": [
       "<div>\n",
       "<style scoped>\n",
       "    .dataframe tbody tr th:only-of-type {\n",
       "        vertical-align: middle;\n",
       "    }\n",
       "\n",
       "    .dataframe tbody tr th {\n",
       "        vertical-align: top;\n",
       "    }\n",
       "\n",
       "    .dataframe thead th {\n",
       "        text-align: right;\n",
       "    }\n",
       "</style>\n",
       "<table border=\"1\" class=\"dataframe\">\n",
       "  <thead>\n",
       "    <tr style=\"text-align: right;\">\n",
       "      <th></th>\n",
       "      <th>id</th>\n",
       "      <th>call_date</th>\n",
       "      <th>duration</th>\n",
       "      <th>user_id</th>\n",
       "    </tr>\n",
       "  </thead>\n",
       "  <tbody>\n",
       "    <tr>\n",
       "      <th>0</th>\n",
       "      <td>1000_0</td>\n",
       "      <td>2018-07-25</td>\n",
       "      <td>0.000</td>\n",
       "      <td>1000</td>\n",
       "    </tr>\n",
       "    <tr>\n",
       "      <th>1</th>\n",
       "      <td>1000_1</td>\n",
       "      <td>2018-08-17</td>\n",
       "      <td>0.000</td>\n",
       "      <td>1000</td>\n",
       "    </tr>\n",
       "    <tr>\n",
       "      <th>2</th>\n",
       "      <td>1000_2</td>\n",
       "      <td>2018-06-11</td>\n",
       "      <td>2.850</td>\n",
       "      <td>1000</td>\n",
       "    </tr>\n",
       "    <tr>\n",
       "      <th>3</th>\n",
       "      <td>1000_3</td>\n",
       "      <td>2018-09-21</td>\n",
       "      <td>13.800</td>\n",
       "      <td>1000</td>\n",
       "    </tr>\n",
       "    <tr>\n",
       "      <th>4</th>\n",
       "      <td>1000_4</td>\n",
       "      <td>2018-12-15</td>\n",
       "      <td>5.180</td>\n",
       "      <td>1000</td>\n",
       "    </tr>\n",
       "  </tbody>\n",
       "</table>\n",
       "</div>"
      ],
      "text/plain": [
       "       id   call_date  duration  user_id\n",
       "0  1000_0  2018-07-25     0.000     1000\n",
       "1  1000_1  2018-08-17     0.000     1000\n",
       "2  1000_2  2018-06-11     2.850     1000\n",
       "3  1000_3  2018-09-21    13.800     1000\n",
       "4  1000_4  2018-12-15     5.180     1000"
      ]
     },
     "execution_count": 4,
     "metadata": {},
     "output_type": "execute_result"
    }
   ],
   "source": [
    "df_calls.head()"
   ]
  },
  {
   "cell_type": "markdown",
   "metadata": {},
   "source": [
    "В таблице с информацией о звонках пропусков нет. Проверим данные на наличие дубликатов."
   ]
  },
  {
   "cell_type": "code",
   "execution_count": 5,
   "metadata": {},
   "outputs": [
    {
     "data": {
      "text/plain": [
       "0"
      ]
     },
     "execution_count": 5,
     "metadata": {},
     "output_type": "execute_result"
    }
   ],
   "source": [
    "df_calls.duplicated().sum()# подсчёт явных дубликатов"
   ]
  },
  {
   "cell_type": "markdown",
   "metadata": {},
   "source": [
    "Явные дубликаты отсутсвуют."
   ]
  },
  {
   "cell_type": "code",
   "execution_count": 6,
   "metadata": {},
   "outputs": [
    {
     "name": "stdout",
     "output_type": "stream",
     "text": [
      "<class 'pandas.core.frame.DataFrame'>\n",
      "RangeIndex: 149396 entries, 0 to 149395\n",
      "Data columns (total 5 columns):\n",
      " #   Column        Non-Null Count   Dtype  \n",
      "---  ------        --------------   -----  \n",
      " 0   Unnamed: 0    149396 non-null  int64  \n",
      " 1   id            149396 non-null  object \n",
      " 2   mb_used       149396 non-null  float64\n",
      " 3   session_date  149396 non-null  object \n",
      " 4   user_id       149396 non-null  int64  \n",
      "dtypes: float64(1), int64(2), object(2)\n",
      "memory usage: 5.7+ MB\n"
     ]
    }
   ],
   "source": [
    "df_internet.info()"
   ]
  },
  {
   "cell_type": "code",
   "execution_count": 7,
   "metadata": {},
   "outputs": [
    {
     "data": {
      "text/html": [
       "<div>\n",
       "<style scoped>\n",
       "    .dataframe tbody tr th:only-of-type {\n",
       "        vertical-align: middle;\n",
       "    }\n",
       "\n",
       "    .dataframe tbody tr th {\n",
       "        vertical-align: top;\n",
       "    }\n",
       "\n",
       "    .dataframe thead th {\n",
       "        text-align: right;\n",
       "    }\n",
       "</style>\n",
       "<table border=\"1\" class=\"dataframe\">\n",
       "  <thead>\n",
       "    <tr style=\"text-align: right;\">\n",
       "      <th></th>\n",
       "      <th>Unnamed: 0</th>\n",
       "      <th>id</th>\n",
       "      <th>mb_used</th>\n",
       "      <th>session_date</th>\n",
       "      <th>user_id</th>\n",
       "    </tr>\n",
       "  </thead>\n",
       "  <tbody>\n",
       "    <tr>\n",
       "      <th>0</th>\n",
       "      <td>0</td>\n",
       "      <td>1000_0</td>\n",
       "      <td>112.950</td>\n",
       "      <td>2018-11-25</td>\n",
       "      <td>1000</td>\n",
       "    </tr>\n",
       "    <tr>\n",
       "      <th>1</th>\n",
       "      <td>1</td>\n",
       "      <td>1000_1</td>\n",
       "      <td>1052.810</td>\n",
       "      <td>2018-09-07</td>\n",
       "      <td>1000</td>\n",
       "    </tr>\n",
       "    <tr>\n",
       "      <th>2</th>\n",
       "      <td>2</td>\n",
       "      <td>1000_2</td>\n",
       "      <td>1197.260</td>\n",
       "      <td>2018-06-25</td>\n",
       "      <td>1000</td>\n",
       "    </tr>\n",
       "    <tr>\n",
       "      <th>3</th>\n",
       "      <td>3</td>\n",
       "      <td>1000_3</td>\n",
       "      <td>550.270</td>\n",
       "      <td>2018-08-22</td>\n",
       "      <td>1000</td>\n",
       "    </tr>\n",
       "    <tr>\n",
       "      <th>4</th>\n",
       "      <td>4</td>\n",
       "      <td>1000_4</td>\n",
       "      <td>302.560</td>\n",
       "      <td>2018-09-24</td>\n",
       "      <td>1000</td>\n",
       "    </tr>\n",
       "  </tbody>\n",
       "</table>\n",
       "</div>"
      ],
      "text/plain": [
       "   Unnamed: 0      id  mb_used session_date  user_id\n",
       "0           0  1000_0  112.950   2018-11-25     1000\n",
       "1           1  1000_1 1052.810   2018-09-07     1000\n",
       "2           2  1000_2 1197.260   2018-06-25     1000\n",
       "3           3  1000_3  550.270   2018-08-22     1000\n",
       "4           4  1000_4  302.560   2018-09-24     1000"
      ]
     },
     "execution_count": 7,
     "metadata": {},
     "output_type": "execute_result"
    }
   ],
   "source": [
    "df_internet.head()"
   ]
  },
  {
   "cell_type": "markdown",
   "metadata": {},
   "source": [
    "В таблице с информацией об интернет-сессиях пропусков нет. Проверим данные на наличие дубликатов."
   ]
  },
  {
   "cell_type": "code",
   "execution_count": 8,
   "metadata": {},
   "outputs": [
    {
     "data": {
      "text/plain": [
       "0"
      ]
     },
     "execution_count": 8,
     "metadata": {},
     "output_type": "execute_result"
    }
   ],
   "source": [
    "df_internet.duplicated().sum()# подсчёт явных дубликатов"
   ]
  },
  {
   "cell_type": "markdown",
   "metadata": {},
   "source": [
    "Явные дубликаты отсутсвуют."
   ]
  },
  {
   "cell_type": "code",
   "execution_count": 9,
   "metadata": {},
   "outputs": [
    {
     "name": "stdout",
     "output_type": "stream",
     "text": [
      "<class 'pandas.core.frame.DataFrame'>\n",
      "RangeIndex: 123036 entries, 0 to 123035\n",
      "Data columns (total 3 columns):\n",
      " #   Column        Non-Null Count   Dtype \n",
      "---  ------        --------------   ----- \n",
      " 0   id            123036 non-null  object\n",
      " 1   message_date  123036 non-null  object\n",
      " 2   user_id       123036 non-null  int64 \n",
      "dtypes: int64(1), object(2)\n",
      "memory usage: 2.8+ MB\n"
     ]
    }
   ],
   "source": [
    "df_messages.info()"
   ]
  },
  {
   "cell_type": "code",
   "execution_count": 10,
   "metadata": {},
   "outputs": [
    {
     "data": {
      "text/html": [
       "<div>\n",
       "<style scoped>\n",
       "    .dataframe tbody tr th:only-of-type {\n",
       "        vertical-align: middle;\n",
       "    }\n",
       "\n",
       "    .dataframe tbody tr th {\n",
       "        vertical-align: top;\n",
       "    }\n",
       "\n",
       "    .dataframe thead th {\n",
       "        text-align: right;\n",
       "    }\n",
       "</style>\n",
       "<table border=\"1\" class=\"dataframe\">\n",
       "  <thead>\n",
       "    <tr style=\"text-align: right;\">\n",
       "      <th></th>\n",
       "      <th>id</th>\n",
       "      <th>message_date</th>\n",
       "      <th>user_id</th>\n",
       "    </tr>\n",
       "  </thead>\n",
       "  <tbody>\n",
       "    <tr>\n",
       "      <th>0</th>\n",
       "      <td>1000_0</td>\n",
       "      <td>2018-06-27</td>\n",
       "      <td>1000</td>\n",
       "    </tr>\n",
       "    <tr>\n",
       "      <th>1</th>\n",
       "      <td>1000_1</td>\n",
       "      <td>2018-10-08</td>\n",
       "      <td>1000</td>\n",
       "    </tr>\n",
       "    <tr>\n",
       "      <th>2</th>\n",
       "      <td>1000_2</td>\n",
       "      <td>2018-08-04</td>\n",
       "      <td>1000</td>\n",
       "    </tr>\n",
       "    <tr>\n",
       "      <th>3</th>\n",
       "      <td>1000_3</td>\n",
       "      <td>2018-06-16</td>\n",
       "      <td>1000</td>\n",
       "    </tr>\n",
       "    <tr>\n",
       "      <th>4</th>\n",
       "      <td>1000_4</td>\n",
       "      <td>2018-12-05</td>\n",
       "      <td>1000</td>\n",
       "    </tr>\n",
       "  </tbody>\n",
       "</table>\n",
       "</div>"
      ],
      "text/plain": [
       "       id message_date  user_id\n",
       "0  1000_0   2018-06-27     1000\n",
       "1  1000_1   2018-10-08     1000\n",
       "2  1000_2   2018-08-04     1000\n",
       "3  1000_3   2018-06-16     1000\n",
       "4  1000_4   2018-12-05     1000"
      ]
     },
     "execution_count": 10,
     "metadata": {},
     "output_type": "execute_result"
    }
   ],
   "source": [
    "df_messages.head()"
   ]
  },
  {
   "cell_type": "markdown",
   "metadata": {},
   "source": [
    "В таблице с информацией о сообщениях пропусков нет. Проверим данные на наличие дубликатов."
   ]
  },
  {
   "cell_type": "code",
   "execution_count": 11,
   "metadata": {},
   "outputs": [
    {
     "data": {
      "text/plain": [
       "0"
      ]
     },
     "execution_count": 11,
     "metadata": {},
     "output_type": "execute_result"
    }
   ],
   "source": [
    "df_messages.duplicated().sum()# подсчёт явных дубликатов"
   ]
  },
  {
   "cell_type": "markdown",
   "metadata": {},
   "source": [
    "Явные дубликаты отсутсвуют."
   ]
  },
  {
   "cell_type": "code",
   "execution_count": 12,
   "metadata": {},
   "outputs": [
    {
     "name": "stdout",
     "output_type": "stream",
     "text": [
      "<class 'pandas.core.frame.DataFrame'>\n",
      "RangeIndex: 2 entries, 0 to 1\n",
      "Data columns (total 8 columns):\n",
      " #   Column                 Non-Null Count  Dtype \n",
      "---  ------                 --------------  ----- \n",
      " 0   messages_included      2 non-null      int64 \n",
      " 1   mb_per_month_included  2 non-null      int64 \n",
      " 2   minutes_included       2 non-null      int64 \n",
      " 3   rub_monthly_fee        2 non-null      int64 \n",
      " 4   rub_per_gb             2 non-null      int64 \n",
      " 5   rub_per_message        2 non-null      int64 \n",
      " 6   rub_per_minute         2 non-null      int64 \n",
      " 7   tariff_name            2 non-null      object\n",
      "dtypes: int64(7), object(1)\n",
      "memory usage: 256.0+ bytes\n"
     ]
    }
   ],
   "source": [
    "df_tariffs.info()"
   ]
  },
  {
   "cell_type": "code",
   "execution_count": 13,
   "metadata": {},
   "outputs": [
    {
     "data": {
      "text/html": [
       "<div>\n",
       "<style scoped>\n",
       "    .dataframe tbody tr th:only-of-type {\n",
       "        vertical-align: middle;\n",
       "    }\n",
       "\n",
       "    .dataframe tbody tr th {\n",
       "        vertical-align: top;\n",
       "    }\n",
       "\n",
       "    .dataframe thead th {\n",
       "        text-align: right;\n",
       "    }\n",
       "</style>\n",
       "<table border=\"1\" class=\"dataframe\">\n",
       "  <thead>\n",
       "    <tr style=\"text-align: right;\">\n",
       "      <th></th>\n",
       "      <th>messages_included</th>\n",
       "      <th>mb_per_month_included</th>\n",
       "      <th>minutes_included</th>\n",
       "      <th>rub_monthly_fee</th>\n",
       "      <th>rub_per_gb</th>\n",
       "      <th>rub_per_message</th>\n",
       "      <th>rub_per_minute</th>\n",
       "      <th>tariff_name</th>\n",
       "    </tr>\n",
       "  </thead>\n",
       "  <tbody>\n",
       "    <tr>\n",
       "      <th>0</th>\n",
       "      <td>50</td>\n",
       "      <td>15360</td>\n",
       "      <td>500</td>\n",
       "      <td>550</td>\n",
       "      <td>200</td>\n",
       "      <td>3</td>\n",
       "      <td>3</td>\n",
       "      <td>smart</td>\n",
       "    </tr>\n",
       "    <tr>\n",
       "      <th>1</th>\n",
       "      <td>1000</td>\n",
       "      <td>30720</td>\n",
       "      <td>3000</td>\n",
       "      <td>1950</td>\n",
       "      <td>150</td>\n",
       "      <td>1</td>\n",
       "      <td>1</td>\n",
       "      <td>ultra</td>\n",
       "    </tr>\n",
       "  </tbody>\n",
       "</table>\n",
       "</div>"
      ],
      "text/plain": [
       "   messages_included  mb_per_month_included  minutes_included  \\\n",
       "0                 50                  15360               500   \n",
       "1               1000                  30720              3000   \n",
       "\n",
       "   rub_monthly_fee  rub_per_gb  rub_per_message  rub_per_minute tariff_name  \n",
       "0              550         200                3               3       smart  \n",
       "1             1950         150                1               1       ultra  "
      ]
     },
     "execution_count": 13,
     "metadata": {},
     "output_type": "execute_result"
    }
   ],
   "source": [
    "df_tariffs.head()"
   ]
  },
  {
   "cell_type": "code",
   "execution_count": 14,
   "metadata": {},
   "outputs": [
    {
     "name": "stdout",
     "output_type": "stream",
     "text": [
      "<class 'pandas.core.frame.DataFrame'>\n",
      "RangeIndex: 500 entries, 0 to 499\n",
      "Data columns (total 8 columns):\n",
      " #   Column      Non-Null Count  Dtype \n",
      "---  ------      --------------  ----- \n",
      " 0   user_id     500 non-null    int64 \n",
      " 1   age         500 non-null    int64 \n",
      " 2   churn_date  38 non-null     object\n",
      " 3   city        500 non-null    object\n",
      " 4   first_name  500 non-null    object\n",
      " 5   last_name   500 non-null    object\n",
      " 6   reg_date    500 non-null    object\n",
      " 7   tariff      500 non-null    object\n",
      "dtypes: int64(2), object(6)\n",
      "memory usage: 31.4+ KB\n"
     ]
    }
   ],
   "source": [
    "df_users.info()"
   ]
  },
  {
   "cell_type": "code",
   "execution_count": 15,
   "metadata": {},
   "outputs": [
    {
     "data": {
      "text/html": [
       "<div>\n",
       "<style scoped>\n",
       "    .dataframe tbody tr th:only-of-type {\n",
       "        vertical-align: middle;\n",
       "    }\n",
       "\n",
       "    .dataframe tbody tr th {\n",
       "        vertical-align: top;\n",
       "    }\n",
       "\n",
       "    .dataframe thead th {\n",
       "        text-align: right;\n",
       "    }\n",
       "</style>\n",
       "<table border=\"1\" class=\"dataframe\">\n",
       "  <thead>\n",
       "    <tr style=\"text-align: right;\">\n",
       "      <th></th>\n",
       "      <th>user_id</th>\n",
       "      <th>age</th>\n",
       "      <th>churn_date</th>\n",
       "      <th>city</th>\n",
       "      <th>first_name</th>\n",
       "      <th>last_name</th>\n",
       "      <th>reg_date</th>\n",
       "      <th>tariff</th>\n",
       "    </tr>\n",
       "  </thead>\n",
       "  <tbody>\n",
       "    <tr>\n",
       "      <th>0</th>\n",
       "      <td>1000</td>\n",
       "      <td>52</td>\n",
       "      <td>NaN</td>\n",
       "      <td>Краснодар</td>\n",
       "      <td>Рафаил</td>\n",
       "      <td>Верещагин</td>\n",
       "      <td>2018-05-25</td>\n",
       "      <td>ultra</td>\n",
       "    </tr>\n",
       "    <tr>\n",
       "      <th>1</th>\n",
       "      <td>1001</td>\n",
       "      <td>41</td>\n",
       "      <td>NaN</td>\n",
       "      <td>Москва</td>\n",
       "      <td>Иван</td>\n",
       "      <td>Ежов</td>\n",
       "      <td>2018-11-01</td>\n",
       "      <td>smart</td>\n",
       "    </tr>\n",
       "    <tr>\n",
       "      <th>2</th>\n",
       "      <td>1002</td>\n",
       "      <td>59</td>\n",
       "      <td>NaN</td>\n",
       "      <td>Стерлитамак</td>\n",
       "      <td>Евгений</td>\n",
       "      <td>Абрамович</td>\n",
       "      <td>2018-06-17</td>\n",
       "      <td>smart</td>\n",
       "    </tr>\n",
       "    <tr>\n",
       "      <th>3</th>\n",
       "      <td>1003</td>\n",
       "      <td>23</td>\n",
       "      <td>NaN</td>\n",
       "      <td>Москва</td>\n",
       "      <td>Белла</td>\n",
       "      <td>Белякова</td>\n",
       "      <td>2018-08-17</td>\n",
       "      <td>ultra</td>\n",
       "    </tr>\n",
       "    <tr>\n",
       "      <th>4</th>\n",
       "      <td>1004</td>\n",
       "      <td>68</td>\n",
       "      <td>NaN</td>\n",
       "      <td>Новокузнецк</td>\n",
       "      <td>Татьяна</td>\n",
       "      <td>Авдеенко</td>\n",
       "      <td>2018-05-14</td>\n",
       "      <td>ultra</td>\n",
       "    </tr>\n",
       "  </tbody>\n",
       "</table>\n",
       "</div>"
      ],
      "text/plain": [
       "   user_id  age churn_date         city first_name  last_name    reg_date  \\\n",
       "0     1000   52        NaN    Краснодар     Рафаил  Верещагин  2018-05-25   \n",
       "1     1001   41        NaN       Москва       Иван       Ежов  2018-11-01   \n",
       "2     1002   59        NaN  Стерлитамак    Евгений  Абрамович  2018-06-17   \n",
       "3     1003   23        NaN       Москва      Белла   Белякова  2018-08-17   \n",
       "4     1004   68        NaN  Новокузнецк    Татьяна   Авдеенко  2018-05-14   \n",
       "\n",
       "  tariff  \n",
       "0  ultra  \n",
       "1  smart  \n",
       "2  smart  \n",
       "3  ultra  \n",
       "4  ultra  "
      ]
     },
     "execution_count": 15,
     "metadata": {},
     "output_type": "execute_result"
    }
   ],
   "source": [
    "df_users.head()"
   ]
  },
  {
   "cell_type": "markdown",
   "metadata": {},
   "source": [
    "В таблице с информацией о пользователях 462 пропуска. Проверим данные на наличие дубликатов."
   ]
  },
  {
   "cell_type": "code",
   "execution_count": 16,
   "metadata": {},
   "outputs": [
    {
     "data": {
      "text/plain": [
       "0"
      ]
     },
     "execution_count": 16,
     "metadata": {},
     "output_type": "execute_result"
    }
   ],
   "source": [
    "df_users.duplicated().sum()# подсчёт явных дубликатов"
   ]
  },
  {
   "cell_type": "markdown",
   "metadata": {},
   "source": [
    "Явные дубликаты отсутсвуют."
   ]
  },
  {
   "cell_type": "markdown",
   "metadata": {},
   "source": [
    "***Выводы***\n",
    "\n",
    "В результате превичного анализа данных таблиц устновлено следующее:\n",
    "-  для таблицы calls (информация о звонках) необходимо:\n",
    "    * перевести даты из объектного типа в тип datetime64;\n",
    "    * добавить столбец с категорией месяца: Январь - 1, Февраль - 2, ..., Декабрь - 12;\n",
    "    * добавить столбец с началом календарного месяца;\n",
    "    * округлить длительность звонков и изменить тип данных на целочисленный.\n",
    "    \n",
    "-  для таблицы internet (информация об интернет-сессиях) необходимо:\n",
    "    * перевести даты из объектного типа в тип datetime64.\n",
    "    * добавить столбец с категорией месяца: Январь - 1, Февраль - 2, ..., Декабрь - 12;\n",
    "    * добавить столбец с началом календарного месяца.\n",
    "    \n",
    "- для таблицы messages (информация о сообщениях) необходимо:\n",
    "    * перевести даты из объектного типа в тип datetime64.\n",
    "    * добавить столбец с категорией месяца: Январь - 1, Февраль - 2, ..., Декабрь - 12;\n",
    "    * добавить столбец с началом календарного месяца.\n",
    "    \n",
    "- для таблицы users (информация о пользователях) необходимо:\n",
    "    * перевести даты из объектного типа в тип datetime64.\n",
    "\n",
    "Следует отметить, что в таблице calls (информация о звонках) содержатся записи о звонках с нулевой продолжительностью. Согалсно документации к данным то не ошибка: нулями обозначены пропущенные звонки, поэтому их не нужно удалять.\n",
    "В таблице internet (информация об интернет-сессиях) также содержатся записи о звонках с нулевой продолжительностью. Вероятно пользователи не использовали мобильный интернет. Возможно есть проблема с выгрузкой и про это стоит создать тикет человеку, который эти данные формировал. Но, предварительно, эти данные для анализа нам нужны и мы не сможем их заменить другими значениями."
   ]
  },
  {
   "cell_type": "markdown",
   "metadata": {},
   "source": [
    "## Предобработка данных"
   ]
  },
  {
   "cell_type": "markdown",
   "metadata": {},
   "source": [
    "### Таблица calls (информация о звонках)"
   ]
  },
  {
   "cell_type": "code",
   "execution_count": 17,
   "metadata": {},
   "outputs": [],
   "source": [
    "# перевод даты из объектного типа в тип datetime64\n",
    "df_calls['call_date'] = pd.to_datetime(df_calls['call_date'], format='%Y-%m-%d')\n",
    "\n",
    "# добавляем столбец с категорией месяца: Январь - 1, Февраль - 2, ..., Декабрь - 12\n",
    "df_calls['month_num'] = pd.DatetimeIndex(df_calls['call_date']).month\n",
    "\n",
    "# добавляем столбец с началом календарного месяца\n",
    "df_calls['month'] = df_calls['call_date'].astype('datetime64[M]')\n",
    "\n",
    "# округляем длительность звонков и меняем тип данных на целочисленный\n",
    "df_calls['duration'] = np.ceil(df_calls['duration']).astype('int')"
   ]
  },
  {
   "cell_type": "code",
   "execution_count": 18,
   "metadata": {},
   "outputs": [
    {
     "data": {
      "text/html": [
       "<div>\n",
       "<style scoped>\n",
       "    .dataframe tbody tr th:only-of-type {\n",
       "        vertical-align: middle;\n",
       "    }\n",
       "\n",
       "    .dataframe tbody tr th {\n",
       "        vertical-align: top;\n",
       "    }\n",
       "\n",
       "    .dataframe thead th {\n",
       "        text-align: right;\n",
       "    }\n",
       "</style>\n",
       "<table border=\"1\" class=\"dataframe\">\n",
       "  <thead>\n",
       "    <tr style=\"text-align: right;\">\n",
       "      <th></th>\n",
       "      <th>id</th>\n",
       "      <th>call_date</th>\n",
       "      <th>duration</th>\n",
       "      <th>user_id</th>\n",
       "      <th>month_num</th>\n",
       "      <th>month</th>\n",
       "    </tr>\n",
       "  </thead>\n",
       "  <tbody>\n",
       "    <tr>\n",
       "      <th>0</th>\n",
       "      <td>1000_0</td>\n",
       "      <td>2018-07-25</td>\n",
       "      <td>0</td>\n",
       "      <td>1000</td>\n",
       "      <td>7</td>\n",
       "      <td>2018-07-01</td>\n",
       "    </tr>\n",
       "    <tr>\n",
       "      <th>1</th>\n",
       "      <td>1000_1</td>\n",
       "      <td>2018-08-17</td>\n",
       "      <td>0</td>\n",
       "      <td>1000</td>\n",
       "      <td>8</td>\n",
       "      <td>2018-08-01</td>\n",
       "    </tr>\n",
       "    <tr>\n",
       "      <th>2</th>\n",
       "      <td>1000_2</td>\n",
       "      <td>2018-06-11</td>\n",
       "      <td>3</td>\n",
       "      <td>1000</td>\n",
       "      <td>6</td>\n",
       "      <td>2018-06-01</td>\n",
       "    </tr>\n",
       "    <tr>\n",
       "      <th>3</th>\n",
       "      <td>1000_3</td>\n",
       "      <td>2018-09-21</td>\n",
       "      <td>14</td>\n",
       "      <td>1000</td>\n",
       "      <td>9</td>\n",
       "      <td>2018-09-01</td>\n",
       "    </tr>\n",
       "    <tr>\n",
       "      <th>4</th>\n",
       "      <td>1000_4</td>\n",
       "      <td>2018-12-15</td>\n",
       "      <td>6</td>\n",
       "      <td>1000</td>\n",
       "      <td>12</td>\n",
       "      <td>2018-12-01</td>\n",
       "    </tr>\n",
       "  </tbody>\n",
       "</table>\n",
       "</div>"
      ],
      "text/plain": [
       "       id  call_date  duration  user_id  month_num      month\n",
       "0  1000_0 2018-07-25         0     1000          7 2018-07-01\n",
       "1  1000_1 2018-08-17         0     1000          8 2018-08-01\n",
       "2  1000_2 2018-06-11         3     1000          6 2018-06-01\n",
       "3  1000_3 2018-09-21        14     1000          9 2018-09-01\n",
       "4  1000_4 2018-12-15         6     1000         12 2018-12-01"
      ]
     },
     "metadata": {},
     "output_type": "display_data"
    }
   ],
   "source": [
    "display(df_calls.head())"
   ]
  },
  {
   "cell_type": "code",
   "execution_count": 19,
   "metadata": {},
   "outputs": [],
   "source": [
    "def hist_maker(column):\n",
    "    print(column.describe())\n",
    "    plt.figure(figsize=(10,6))\n",
    "    plt.hist(column, bins=30, color='grey', edgecolor='grey', alpha=0.8)\n",
    "    plt.axvline(column.describe()['mean'], color='r', linestyle='dashed', linewidth=3, label='Mean value: {:.2f}'.format(column.describe()['mean']))\n",
    "    plt.axvline(column.describe()['50%'], color='b', linestyle='dotted', linewidth=3, label='Median value: {:.0f}'.format(column.describe()['50%']))\n",
    "    plt.legend()\n",
    "    plt.title('Histogramm {}'.format(column.name))"
   ]
  },
  {
   "cell_type": "code",
   "execution_count": 20,
   "metadata": {},
   "outputs": [
    {
     "name": "stdout",
     "output_type": "stream",
     "text": [
      "count   202607.000\n",
      "mean         7.158\n",
      "std          5.959\n",
      "min          0.000\n",
      "25%          2.000\n",
      "50%          6.000\n",
      "75%         11.000\n",
      "max         38.000\n",
      "Name: duration, dtype: float64\n"
     ]
    },
    {
     "data": {
      "image/png": "[encoded data removed]",
      "text/plain": [
       "<Figure size 720x432 with 1 Axes>"
      ]
     },
     "metadata": {
      "needs_background": "light"
     },
     "output_type": "display_data"
    }
   ],
   "source": [
    "hist_maker(df_calls['duration'])"
   ]
  },
  {
   "cell_type": "markdown",
   "metadata": {},
   "source": [
    "### Таблица  internet (информация об интернет-сессиях) "
   ]
  },
  {
   "cell_type": "code",
   "execution_count": 21,
   "metadata": {},
   "outputs": [],
   "source": [
    "# перевод даты из объектного типа в тип datetime64\n",
    "df_internet['session_date'] = pd.to_datetime(df_internet['session_date'], format='%Y-%m-%d')\n",
    "\n",
    "# добавляем столбец с категорией месяца: Январь - 1, Февраль - 2, ..., Декабрь - 12\n",
    "df_internet['month_num'] = pd.DatetimeIndex(df_internet['session_date']).month\n",
    "\n",
    "# добавляем столбец с началом календарного месяца\n",
    "df_internet['month'] = df_internet['session_date'].astype('datetime64[M]')\n"
   ]
  },
  {
   "cell_type": "code",
   "execution_count": 22,
   "metadata": {},
   "outputs": [
    {
     "data": {
      "text/html": [
       "<div>\n",
       "<style scoped>\n",
       "    .dataframe tbody tr th:only-of-type {\n",
       "        vertical-align: middle;\n",
       "    }\n",
       "\n",
       "    .dataframe tbody tr th {\n",
       "        vertical-align: top;\n",
       "    }\n",
       "\n",
       "    .dataframe thead th {\n",
       "        text-align: right;\n",
       "    }\n",
       "</style>\n",
       "<table border=\"1\" class=\"dataframe\">\n",
       "  <thead>\n",
       "    <tr style=\"text-align: right;\">\n",
       "      <th></th>\n",
       "      <th>Unnamed: 0</th>\n",
       "      <th>id</th>\n",
       "      <th>mb_used</th>\n",
       "      <th>session_date</th>\n",
       "      <th>user_id</th>\n",
       "      <th>month_num</th>\n",
       "      <th>month</th>\n",
       "    </tr>\n",
       "  </thead>\n",
       "  <tbody>\n",
       "    <tr>\n",
       "      <th>0</th>\n",
       "      <td>0</td>\n",
       "      <td>1000_0</td>\n",
       "      <td>112.950</td>\n",
       "      <td>2018-11-25</td>\n",
       "      <td>1000</td>\n",
       "      <td>11</td>\n",
       "      <td>2018-11-01</td>\n",
       "    </tr>\n",
       "    <tr>\n",
       "      <th>1</th>\n",
       "      <td>1</td>\n",
       "      <td>1000_1</td>\n",
       "      <td>1052.810</td>\n",
       "      <td>2018-09-07</td>\n",
       "      <td>1000</td>\n",
       "      <td>9</td>\n",
       "      <td>2018-09-01</td>\n",
       "    </tr>\n",
       "    <tr>\n",
       "      <th>2</th>\n",
       "      <td>2</td>\n",
       "      <td>1000_2</td>\n",
       "      <td>1197.260</td>\n",
       "      <td>2018-06-25</td>\n",
       "      <td>1000</td>\n",
       "      <td>6</td>\n",
       "      <td>2018-06-01</td>\n",
       "    </tr>\n",
       "    <tr>\n",
       "      <th>3</th>\n",
       "      <td>3</td>\n",
       "      <td>1000_3</td>\n",
       "      <td>550.270</td>\n",
       "      <td>2018-08-22</td>\n",
       "      <td>1000</td>\n",
       "      <td>8</td>\n",
       "      <td>2018-08-01</td>\n",
       "    </tr>\n",
       "    <tr>\n",
       "      <th>4</th>\n",
       "      <td>4</td>\n",
       "      <td>1000_4</td>\n",
       "      <td>302.560</td>\n",
       "      <td>2018-09-24</td>\n",
       "      <td>1000</td>\n",
       "      <td>9</td>\n",
       "      <td>2018-09-01</td>\n",
       "    </tr>\n",
       "  </tbody>\n",
       "</table>\n",
       "</div>"
      ],
      "text/plain": [
       "   Unnamed: 0      id  mb_used session_date  user_id  month_num      month\n",
       "0           0  1000_0  112.950   2018-11-25     1000         11 2018-11-01\n",
       "1           1  1000_1 1052.810   2018-09-07     1000          9 2018-09-01\n",
       "2           2  1000_2 1197.260   2018-06-25     1000          6 2018-06-01\n",
       "3           3  1000_3  550.270   2018-08-22     1000          8 2018-08-01\n",
       "4           4  1000_4  302.560   2018-09-24     1000          9 2018-09-01"
      ]
     },
     "execution_count": 22,
     "metadata": {},
     "output_type": "execute_result"
    }
   ],
   "source": [
    "df_internet.head()"
   ]
  },
  {
   "cell_type": "code",
   "execution_count": 23,
   "metadata": {},
   "outputs": [
    {
     "name": "stdout",
     "output_type": "stream",
     "text": [
      "count   149396.000\n",
      "mean       370.192\n",
      "std        278.301\n",
      "min          0.000\n",
      "25%        138.188\n",
      "50%        348.015\n",
      "75%        559.553\n",
      "max       1724.830\n",
      "Name: mb_used, dtype: float64\n"
     ]
    },
    {
     "data": {
      "image/png": "[encoded data removed]",
      "text/plain": [
       "<Figure size 720x432 with 1 Axes>"
      ]
     },
     "metadata": {
      "needs_background": "light"
     },
     "output_type": "display_data"
    }
   ],
   "source": [
    "hist_maker(df_internet['mb_used'])"
   ]
  },
  {
   "cell_type": "markdown",
   "metadata": {},
   "source": [
    "### Таблица  messages (информация о сообщениях) "
   ]
  },
  {
   "cell_type": "code",
   "execution_count": 24,
   "metadata": {},
   "outputs": [],
   "source": [
    "# перевод даты из объектного типа в тип datetime64\n",
    "df_messages['message_date'] = pd.to_datetime(df_messages['message_date'] , format='%Y-%m-%d')\n",
    "\n",
    "# добавляем столбец с категорией месяца: Январь - 1, Февраль - 2, ..., Декабрь - 12\n",
    "df_messages['month_num'] = pd.DatetimeIndex(df_messages['message_date']).month\n",
    "\n",
    "# добавляем столбец с началом календарного месяца\n",
    "df_messages['month'] = df_messages['message_date'].astype('datetime64[M]')"
   ]
  },
  {
   "cell_type": "code",
   "execution_count": 25,
   "metadata": {},
   "outputs": [
    {
     "data": {
      "text/html": [
       "<div>\n",
       "<style scoped>\n",
       "    .dataframe tbody tr th:only-of-type {\n",
       "        vertical-align: middle;\n",
       "    }\n",
       "\n",
       "    .dataframe tbody tr th {\n",
       "        vertical-align: top;\n",
       "    }\n",
       "\n",
       "    .dataframe thead th {\n",
       "        text-align: right;\n",
       "    }\n",
       "</style>\n",
       "<table border=\"1\" class=\"dataframe\">\n",
       "  <thead>\n",
       "    <tr style=\"text-align: right;\">\n",
       "      <th></th>\n",
       "      <th>id</th>\n",
       "      <th>message_date</th>\n",
       "      <th>user_id</th>\n",
       "      <th>month_num</th>\n",
       "      <th>month</th>\n",
       "    </tr>\n",
       "  </thead>\n",
       "  <tbody>\n",
       "    <tr>\n",
       "      <th>0</th>\n",
       "      <td>1000_0</td>\n",
       "      <td>2018-06-27</td>\n",
       "      <td>1000</td>\n",
       "      <td>6</td>\n",
       "      <td>2018-06-01</td>\n",
       "    </tr>\n",
       "    <tr>\n",
       "      <th>1</th>\n",
       "      <td>1000_1</td>\n",
       "      <td>2018-10-08</td>\n",
       "      <td>1000</td>\n",
       "      <td>10</td>\n",
       "      <td>2018-10-01</td>\n",
       "    </tr>\n",
       "    <tr>\n",
       "      <th>2</th>\n",
       "      <td>1000_2</td>\n",
       "      <td>2018-08-04</td>\n",
       "      <td>1000</td>\n",
       "      <td>8</td>\n",
       "      <td>2018-08-01</td>\n",
       "    </tr>\n",
       "    <tr>\n",
       "      <th>3</th>\n",
       "      <td>1000_3</td>\n",
       "      <td>2018-06-16</td>\n",
       "      <td>1000</td>\n",
       "      <td>6</td>\n",
       "      <td>2018-06-01</td>\n",
       "    </tr>\n",
       "    <tr>\n",
       "      <th>4</th>\n",
       "      <td>1000_4</td>\n",
       "      <td>2018-12-05</td>\n",
       "      <td>1000</td>\n",
       "      <td>12</td>\n",
       "      <td>2018-12-01</td>\n",
       "    </tr>\n",
       "  </tbody>\n",
       "</table>\n",
       "</div>"
      ],
      "text/plain": [
       "       id message_date  user_id  month_num      month\n",
       "0  1000_0   2018-06-27     1000          6 2018-06-01\n",
       "1  1000_1   2018-10-08     1000         10 2018-10-01\n",
       "2  1000_2   2018-08-04     1000          8 2018-08-01\n",
       "3  1000_3   2018-06-16     1000          6 2018-06-01\n",
       "4  1000_4   2018-12-05     1000         12 2018-12-01"
      ]
     },
     "execution_count": 25,
     "metadata": {},
     "output_type": "execute_result"
    }
   ],
   "source": [
    "df_messages.head()"
   ]
  },
  {
   "cell_type": "code",
   "execution_count": 26,
   "metadata": {},
   "outputs": [
    {
     "name": "stdout",
     "output_type": "stream",
     "text": [
      "count   2717.000\n",
      "mean      45.284\n",
      "std       35.051\n",
      "min        1.000\n",
      "25%       19.000\n",
      "50%       38.000\n",
      "75%       63.000\n",
      "max      224.000\n",
      "Name: messages, dtype: float64\n",
      "Amount of clients used the service (messages): 426\n"
     ]
    },
    {
     "data": {
      "image/png": "[encoded data removed]",
      "text/plain": [
       "<Figure size 720x432 with 1 Axes>"
      ]
     },
     "metadata": {
      "needs_background": "light"
     },
     "output_type": "display_data"
    }
   ],
   "source": [
    "messages_count = df_messages.groupby(['user_id','month']).agg(\n",
    "    messages = ('id', 'count')\n",
    ").reset_index()\n",
    "\n",
    "hist_maker(messages_count['messages'])\n",
    "print('Amount of clients used the service (messages):',messages_count['user_id'].nunique())"
   ]
  },
  {
   "cell_type": "markdown",
   "metadata": {},
   "source": [
    "### Таблица  users (информация о пользователях)"
   ]
  },
  {
   "cell_type": "code",
   "execution_count": 27,
   "metadata": {},
   "outputs": [],
   "source": [
    "# перевод даты из объектного типа в тип datetime64\n",
    "df_users['reg_date'] = pd.to_datetime(df_users['reg_date'] , format='%Y-%m-%d')"
   ]
  },
  {
   "cell_type": "markdown",
   "metadata": {},
   "source": [
    "***Выводы***\n",
    "\n",
    "- Данные в таблицах преобразованы в соответствии с вышеуказанными требованиями. Для дальнейшего анализа данных в разрезе по месяцам в таблица с сведениями о звонках, сообщениях и интенет- сессиях добавлены столбцы  с категорией месяца: Январь - 1, Февраль - 2, ..., Декабрь - 12 и началом календарного месяца.\n",
    "\n",
    "- На полученных графиках значения среднего и медианы отличаются несущественно, следовательно данные в таблицах вероятнее всего не содержат выбросов.\n",
    "\n",
    "- Пики нулевых значений на гистограммах с длительностью звонков и интернет-сессиях связаны с пропущенными звонками и наличием фактов неиспользования мобильного интернета (обозначены в таблицах 0).\n",
    "\n",
    "- Кроме того, гистограмма с количеством сообщений тоже свидетельствует о том, что не все пользователи тарифов используют текстовые сообщения.\n",
    "\n",
    "Данная информация может быть использована в дальнейшем для принятий решений об изменениях условий действующих тарифов или при создании нового, учитывающего либо предпочтения клиентов, либо возможности для получения дополнительной прибыли сотового оператора."
   ]
  },
  {
   "cell_type": "markdown",
   "metadata": {},
   "source": [
    "### Расчеты агрегированных данных"
   ]
  },
  {
   "cell_type": "markdown",
   "metadata": {},
   "source": [
    "**С помощью сводных таблиц рассчитаем необходимые параметры:**\n",
    "\n",
    "Сгруппируем данные по user_id и month, применим методы к соответствующим значениям."
   ]
  },
  {
   "cell_type": "code",
   "execution_count": 28,
   "metadata": {},
   "outputs": [
    {
     "data": {
      "text/html": [
       "<div>\n",
       "<style scoped>\n",
       "    .dataframe tbody tr th:only-of-type {\n",
       "        vertical-align: middle;\n",
       "    }\n",
       "\n",
       "    .dataframe tbody tr th {\n",
       "        vertical-align: top;\n",
       "    }\n",
       "\n",
       "    .dataframe thead th {\n",
       "        text-align: right;\n",
       "    }\n",
       "</style>\n",
       "<table border=\"1\" class=\"dataframe\">\n",
       "  <thead>\n",
       "    <tr style=\"text-align: right;\">\n",
       "      <th></th>\n",
       "      <th></th>\n",
       "      <th>calls_count</th>\n",
       "      <th>calls_duration</th>\n",
       "    </tr>\n",
       "    <tr>\n",
       "      <th>user_id</th>\n",
       "      <th>month</th>\n",
       "      <th></th>\n",
       "      <th></th>\n",
       "    </tr>\n",
       "  </thead>\n",
       "  <tbody>\n",
       "    <tr>\n",
       "      <th rowspan=\"5\" valign=\"top\">1000</th>\n",
       "      <th>2018-05-01</th>\n",
       "      <td>22</td>\n",
       "      <td>159</td>\n",
       "    </tr>\n",
       "    <tr>\n",
       "      <th>2018-06-01</th>\n",
       "      <td>43</td>\n",
       "      <td>172</td>\n",
       "    </tr>\n",
       "    <tr>\n",
       "      <th>2018-07-01</th>\n",
       "      <td>47</td>\n",
       "      <td>340</td>\n",
       "    </tr>\n",
       "    <tr>\n",
       "      <th>2018-08-01</th>\n",
       "      <td>52</td>\n",
       "      <td>408</td>\n",
       "    </tr>\n",
       "    <tr>\n",
       "      <th>2018-09-01</th>\n",
       "      <td>58</td>\n",
       "      <td>466</td>\n",
       "    </tr>\n",
       "  </tbody>\n",
       "</table>\n",
       "</div>"
      ],
      "text/plain": [
       "                    calls_count  calls_duration\n",
       "user_id month                                  \n",
       "1000    2018-05-01           22             159\n",
       "        2018-06-01           43             172\n",
       "        2018-07-01           47             340\n",
       "        2018-08-01           52             408\n",
       "        2018-09-01           58             466"
      ]
     },
     "execution_count": 28,
     "metadata": {},
     "output_type": "execute_result"
    }
   ],
   "source": [
    "df_calls_pivot = df_calls.pivot_table(index=['user_id', 'month'], aggfunc={'call_date':'count', 'duration':sum}) \n",
    "df_calls_pivot.columns = ['calls_count', 'calls_duration']\n",
    "df_calls_pivot.head()"
   ]
  },
  {
   "cell_type": "code",
   "execution_count": 29,
   "metadata": {},
   "outputs": [
    {
     "data": {
      "text/html": [
       "<div>\n",
       "<style scoped>\n",
       "    .dataframe tbody tr th:only-of-type {\n",
       "        vertical-align: middle;\n",
       "    }\n",
       "\n",
       "    .dataframe tbody tr th {\n",
       "        vertical-align: top;\n",
       "    }\n",
       "\n",
       "    .dataframe thead th {\n",
       "        text-align: right;\n",
       "    }\n",
       "</style>\n",
       "<table border=\"1\" class=\"dataframe\">\n",
       "  <thead>\n",
       "    <tr style=\"text-align: right;\">\n",
       "      <th></th>\n",
       "      <th></th>\n",
       "      <th>messages_count</th>\n",
       "    </tr>\n",
       "    <tr>\n",
       "      <th>user_id</th>\n",
       "      <th>month</th>\n",
       "      <th></th>\n",
       "    </tr>\n",
       "  </thead>\n",
       "  <tbody>\n",
       "    <tr>\n",
       "      <th rowspan=\"5\" valign=\"top\">1000</th>\n",
       "      <th>2018-05-01</th>\n",
       "      <td>22</td>\n",
       "    </tr>\n",
       "    <tr>\n",
       "      <th>2018-06-01</th>\n",
       "      <td>60</td>\n",
       "    </tr>\n",
       "    <tr>\n",
       "      <th>2018-07-01</th>\n",
       "      <td>75</td>\n",
       "    </tr>\n",
       "    <tr>\n",
       "      <th>2018-08-01</th>\n",
       "      <td>81</td>\n",
       "    </tr>\n",
       "    <tr>\n",
       "      <th>2018-09-01</th>\n",
       "      <td>57</td>\n",
       "    </tr>\n",
       "  </tbody>\n",
       "</table>\n",
       "</div>"
      ],
      "text/plain": [
       "                    messages_count\n",
       "user_id month                     \n",
       "1000    2018-05-01              22\n",
       "        2018-06-01              60\n",
       "        2018-07-01              75\n",
       "        2018-08-01              81\n",
       "        2018-09-01              57"
      ]
     },
     "execution_count": 29,
     "metadata": {},
     "output_type": "execute_result"
    }
   ],
   "source": [
    "df_messages_pivot = df_messages.pivot_table(index=['user_id', 'month'], aggfunc={'id':'count'})\n",
    "df_messages_pivot.columns = ['messages_count']\n",
    "df_messages_pivot.head()"
   ]
  },
  {
   "cell_type": "code",
   "execution_count": 30,
   "metadata": {},
   "outputs": [
    {
     "data": {
      "text/html": [
       "<div>\n",
       "<style scoped>\n",
       "    .dataframe tbody tr th:only-of-type {\n",
       "        vertical-align: middle;\n",
       "    }\n",
       "\n",
       "    .dataframe tbody tr th {\n",
       "        vertical-align: top;\n",
       "    }\n",
       "\n",
       "    .dataframe thead th {\n",
       "        text-align: right;\n",
       "    }\n",
       "</style>\n",
       "<table border=\"1\" class=\"dataframe\">\n",
       "  <thead>\n",
       "    <tr style=\"text-align: right;\">\n",
       "      <th></th>\n",
       "      <th></th>\n",
       "      <th>traffic_volume</th>\n",
       "    </tr>\n",
       "    <tr>\n",
       "      <th>user_id</th>\n",
       "      <th>month</th>\n",
       "      <th></th>\n",
       "    </tr>\n",
       "  </thead>\n",
       "  <tbody>\n",
       "    <tr>\n",
       "      <th rowspan=\"5\" valign=\"top\">1000</th>\n",
       "      <th>2018-05-01</th>\n",
       "      <td>2253.490</td>\n",
       "    </tr>\n",
       "    <tr>\n",
       "      <th>2018-06-01</th>\n",
       "      <td>23233.770</td>\n",
       "    </tr>\n",
       "    <tr>\n",
       "      <th>2018-07-01</th>\n",
       "      <td>14003.640</td>\n",
       "    </tr>\n",
       "    <tr>\n",
       "      <th>2018-08-01</th>\n",
       "      <td>14055.930</td>\n",
       "    </tr>\n",
       "    <tr>\n",
       "      <th>2018-09-01</th>\n",
       "      <td>14568.910</td>\n",
       "    </tr>\n",
       "  </tbody>\n",
       "</table>\n",
       "</div>"
      ],
      "text/plain": [
       "                    traffic_volume\n",
       "user_id month                     \n",
       "1000    2018-05-01        2253.490\n",
       "        2018-06-01       23233.770\n",
       "        2018-07-01       14003.640\n",
       "        2018-08-01       14055.930\n",
       "        2018-09-01       14568.910"
      ]
     },
     "execution_count": 30,
     "metadata": {},
     "output_type": "execute_result"
    }
   ],
   "source": [
    "df_internet_pivot = df_internet.pivot_table(index=['user_id', 'month'], aggfunc={'mb_used':sum})\n",
    "df_internet_pivot.columns = ['traffic_volume']\n",
    "df_internet_pivot.head()"
   ]
  },
  {
   "cell_type": "markdown",
   "metadata": {},
   "source": [
    "Для рассчета помесячной выручки объеденим все сводные таблицы и таблицу df_users."
   ]
  },
  {
   "cell_type": "code",
   "execution_count": 31,
   "metadata": {},
   "outputs": [
    {
     "data": {
      "text/html": [
       "<div>\n",
       "<style scoped>\n",
       "    .dataframe tbody tr th:only-of-type {\n",
       "        vertical-align: middle;\n",
       "    }\n",
       "\n",
       "    .dataframe tbody tr th {\n",
       "        vertical-align: top;\n",
       "    }\n",
       "\n",
       "    .dataframe thead th {\n",
       "        text-align: right;\n",
       "    }\n",
       "</style>\n",
       "<table border=\"1\" class=\"dataframe\">\n",
       "  <thead>\n",
       "    <tr style=\"text-align: right;\">\n",
       "      <th></th>\n",
       "      <th>month</th>\n",
       "      <th>traffic_volume</th>\n",
       "      <th>calls_count</th>\n",
       "      <th>calls_duration</th>\n",
       "      <th>messages_count</th>\n",
       "    </tr>\n",
       "    <tr>\n",
       "      <th>user_id</th>\n",
       "      <th></th>\n",
       "      <th></th>\n",
       "      <th></th>\n",
       "      <th></th>\n",
       "      <th></th>\n",
       "    </tr>\n",
       "  </thead>\n",
       "  <tbody>\n",
       "    <tr>\n",
       "      <th>1000</th>\n",
       "      <td>2018-05-01</td>\n",
       "      <td>2253.490</td>\n",
       "      <td>22.000</td>\n",
       "      <td>159.000</td>\n",
       "      <td>22.000</td>\n",
       "    </tr>\n",
       "    <tr>\n",
       "      <th>1000</th>\n",
       "      <td>2018-06-01</td>\n",
       "      <td>23233.770</td>\n",
       "      <td>43.000</td>\n",
       "      <td>172.000</td>\n",
       "      <td>60.000</td>\n",
       "    </tr>\n",
       "  </tbody>\n",
       "</table>\n",
       "</div>"
      ],
      "text/plain": [
       "             month  traffic_volume  calls_count  calls_duration  \\\n",
       "user_id                                                           \n",
       "1000    2018-05-01        2253.490       22.000         159.000   \n",
       "1000    2018-06-01       23233.770       43.000         172.000   \n",
       "\n",
       "         messages_count  \n",
       "user_id                  \n",
       "1000             22.000  \n",
       "1000             60.000  "
      ]
     },
     "execution_count": 31,
     "metadata": {},
     "output_type": "execute_result"
    }
   ],
   "source": [
    "# при помощи метода join объеденим сразу все сводные таблицы по индексам\n",
    "# и сбросим индекс month для последующего объединения с df_users\n",
    "\n",
    "df_cmi_pivot = df_internet_pivot.join([df_calls_pivot, df_messages_pivot], how='outer').reset_index(level='month')\n",
    "df_cmi_pivot.head(2)"
   ]
  },
  {
   "cell_type": "code",
   "execution_count": 32,
   "metadata": {},
   "outputs": [
    {
     "data": {
      "text/html": [
       "<div>\n",
       "<style scoped>\n",
       "    .dataframe tbody tr th:only-of-type {\n",
       "        vertical-align: middle;\n",
       "    }\n",
       "\n",
       "    .dataframe tbody tr th {\n",
       "        vertical-align: top;\n",
       "    }\n",
       "\n",
       "    .dataframe thead th {\n",
       "        text-align: right;\n",
       "    }\n",
       "</style>\n",
       "<table border=\"1\" class=\"dataframe\">\n",
       "  <thead>\n",
       "    <tr style=\"text-align: right;\">\n",
       "      <th></th>\n",
       "      <th>user_id</th>\n",
       "      <th>age</th>\n",
       "      <th>churn_date</th>\n",
       "      <th>city</th>\n",
       "      <th>first_name</th>\n",
       "      <th>last_name</th>\n",
       "      <th>reg_date</th>\n",
       "      <th>tariff</th>\n",
       "      <th>month</th>\n",
       "      <th>traffic_volume</th>\n",
       "      <th>calls_count</th>\n",
       "      <th>calls_duration</th>\n",
       "      <th>messages_count</th>\n",
       "    </tr>\n",
       "  </thead>\n",
       "  <tbody>\n",
       "    <tr>\n",
       "      <th>0</th>\n",
       "      <td>1000</td>\n",
       "      <td>52</td>\n",
       "      <td>NaN</td>\n",
       "      <td>Краснодар</td>\n",
       "      <td>Рафаил</td>\n",
       "      <td>Верещагин</td>\n",
       "      <td>2018-05-25</td>\n",
       "      <td>ultra</td>\n",
       "      <td>2018-05-01</td>\n",
       "      <td>2253.490</td>\n",
       "      <td>22.000</td>\n",
       "      <td>159.000</td>\n",
       "      <td>22.000</td>\n",
       "    </tr>\n",
       "    <tr>\n",
       "      <th>0</th>\n",
       "      <td>1000</td>\n",
       "      <td>52</td>\n",
       "      <td>NaN</td>\n",
       "      <td>Краснодар</td>\n",
       "      <td>Рафаил</td>\n",
       "      <td>Верещагин</td>\n",
       "      <td>2018-05-25</td>\n",
       "      <td>ultra</td>\n",
       "      <td>2018-06-01</td>\n",
       "      <td>23233.770</td>\n",
       "      <td>43.000</td>\n",
       "      <td>172.000</td>\n",
       "      <td>60.000</td>\n",
       "    </tr>\n",
       "  </tbody>\n",
       "</table>\n",
       "</div>"
      ],
      "text/plain": [
       "   user_id  age churn_date       city first_name  last_name   reg_date tariff  \\\n",
       "0     1000   52        NaN  Краснодар     Рафаил  Верещагин 2018-05-25  ultra   \n",
       "0     1000   52        NaN  Краснодар     Рафаил  Верещагин 2018-05-25  ultra   \n",
       "\n",
       "       month  traffic_volume  calls_count  calls_duration  messages_count  \n",
       "0 2018-05-01        2253.490       22.000         159.000          22.000  \n",
       "0 2018-06-01       23233.770       43.000         172.000          60.000  "
      ]
     },
     "execution_count": 32,
     "metadata": {},
     "output_type": "execute_result"
    }
   ],
   "source": [
    "# объединяем df_users и df_cmi_pivot также методом join\n",
    "# параметру 'on' передаем значения df_users['user_id']\n",
    "# метод join будет искать совпадения этих значений с индексами df_cmi_pivot и объединять по ним\n",
    "\n",
    "df_cmiu_pivot = df_users.join(df_cmi_pivot, on='user_id')\n",
    "df_cmiu_pivot.head(2)"
   ]
  },
  {
   "cell_type": "code",
   "execution_count": 33,
   "metadata": {},
   "outputs": [
    {
     "data": {
      "text/html": [
       "<div>\n",
       "<style scoped>\n",
       "    .dataframe tbody tr th:only-of-type {\n",
       "        vertical-align: middle;\n",
       "    }\n",
       "\n",
       "    .dataframe tbody tr th {\n",
       "        vertical-align: top;\n",
       "    }\n",
       "\n",
       "    .dataframe thead th {\n",
       "        text-align: right;\n",
       "    }\n",
       "</style>\n",
       "<table border=\"1\" class=\"dataframe\">\n",
       "  <thead>\n",
       "    <tr style=\"text-align: right;\">\n",
       "      <th></th>\n",
       "      <th>user_id</th>\n",
       "      <th>age</th>\n",
       "      <th>city</th>\n",
       "      <th>tariff</th>\n",
       "      <th>month</th>\n",
       "      <th>traffic_volume</th>\n",
       "      <th>calls_count</th>\n",
       "      <th>calls_duration</th>\n",
       "      <th>messages_count</th>\n",
       "    </tr>\n",
       "  </thead>\n",
       "  <tbody>\n",
       "    <tr>\n",
       "      <th>0</th>\n",
       "      <td>1000</td>\n",
       "      <td>52</td>\n",
       "      <td>Краснодар</td>\n",
       "      <td>ultra</td>\n",
       "      <td>2018-05-01</td>\n",
       "      <td>2253.490</td>\n",
       "      <td>22.000</td>\n",
       "      <td>159.000</td>\n",
       "      <td>22.000</td>\n",
       "    </tr>\n",
       "    <tr>\n",
       "      <th>0</th>\n",
       "      <td>1000</td>\n",
       "      <td>52</td>\n",
       "      <td>Краснодар</td>\n",
       "      <td>ultra</td>\n",
       "      <td>2018-06-01</td>\n",
       "      <td>23233.770</td>\n",
       "      <td>43.000</td>\n",
       "      <td>172.000</td>\n",
       "      <td>60.000</td>\n",
       "    </tr>\n",
       "    <tr>\n",
       "      <th>0</th>\n",
       "      <td>1000</td>\n",
       "      <td>52</td>\n",
       "      <td>Краснодар</td>\n",
       "      <td>ultra</td>\n",
       "      <td>2018-07-01</td>\n",
       "      <td>14003.640</td>\n",
       "      <td>47.000</td>\n",
       "      <td>340.000</td>\n",
       "      <td>75.000</td>\n",
       "    </tr>\n",
       "    <tr>\n",
       "      <th>0</th>\n",
       "      <td>1000</td>\n",
       "      <td>52</td>\n",
       "      <td>Краснодар</td>\n",
       "      <td>ultra</td>\n",
       "      <td>2018-08-01</td>\n",
       "      <td>14055.930</td>\n",
       "      <td>52.000</td>\n",
       "      <td>408.000</td>\n",
       "      <td>81.000</td>\n",
       "    </tr>\n",
       "    <tr>\n",
       "      <th>0</th>\n",
       "      <td>1000</td>\n",
       "      <td>52</td>\n",
       "      <td>Краснодар</td>\n",
       "      <td>ultra</td>\n",
       "      <td>2018-09-01</td>\n",
       "      <td>14568.910</td>\n",
       "      <td>58.000</td>\n",
       "      <td>466.000</td>\n",
       "      <td>57.000</td>\n",
       "    </tr>\n",
       "  </tbody>\n",
       "</table>\n",
       "</div>"
      ],
      "text/plain": [
       "   user_id  age       city tariff      month  traffic_volume  calls_count  \\\n",
       "0     1000   52  Краснодар  ultra 2018-05-01        2253.490       22.000   \n",
       "0     1000   52  Краснодар  ultra 2018-06-01       23233.770       43.000   \n",
       "0     1000   52  Краснодар  ultra 2018-07-01       14003.640       47.000   \n",
       "0     1000   52  Краснодар  ultra 2018-08-01       14055.930       52.000   \n",
       "0     1000   52  Краснодар  ultra 2018-09-01       14568.910       58.000   \n",
       "\n",
       "   calls_duration  messages_count  \n",
       "0         159.000          22.000  \n",
       "0         172.000          60.000  \n",
       "0         340.000          75.000  \n",
       "0         408.000          81.000  \n",
       "0         466.000          57.000  "
      ]
     },
     "execution_count": 33,
     "metadata": {},
     "output_type": "execute_result"
    }
   ],
   "source": [
    "# удалим столбцы, которые нам не пригодятся чтобы легче было ориентироваться в таблице\n",
    "\n",
    "df_cmiu_pivot = df_cmiu_pivot.drop(['churn_date', 'first_name', 'last_name', 'reg_date'], axis='columns')\n",
    "df_cmiu_pivot.head()"
   ]
  },
  {
   "cell_type": "code",
   "execution_count": 34,
   "metadata": {},
   "outputs": [
    {
     "data": {
      "text/html": [
       "<div>\n",
       "<style scoped>\n",
       "    .dataframe tbody tr th:only-of-type {\n",
       "        vertical-align: middle;\n",
       "    }\n",
       "\n",
       "    .dataframe tbody tr th {\n",
       "        vertical-align: top;\n",
       "    }\n",
       "\n",
       "    .dataframe thead th {\n",
       "        text-align: right;\n",
       "    }\n",
       "</style>\n",
       "<table border=\"1\" class=\"dataframe\">\n",
       "  <thead>\n",
       "    <tr style=\"text-align: right;\">\n",
       "      <th></th>\n",
       "      <th>messages_included</th>\n",
       "      <th>mb_per_month_included</th>\n",
       "      <th>minutes_included</th>\n",
       "      <th>rub_monthly_fee</th>\n",
       "      <th>rub_per_gb</th>\n",
       "      <th>rub_per_message</th>\n",
       "      <th>rub_per_minute</th>\n",
       "      <th>tariff</th>\n",
       "    </tr>\n",
       "  </thead>\n",
       "  <tbody>\n",
       "    <tr>\n",
       "      <th>0</th>\n",
       "      <td>50</td>\n",
       "      <td>15360</td>\n",
       "      <td>500</td>\n",
       "      <td>550</td>\n",
       "      <td>200</td>\n",
       "      <td>3</td>\n",
       "      <td>3</td>\n",
       "      <td>smart</td>\n",
       "    </tr>\n",
       "    <tr>\n",
       "      <th>1</th>\n",
       "      <td>1000</td>\n",
       "      <td>30720</td>\n",
       "      <td>3000</td>\n",
       "      <td>1950</td>\n",
       "      <td>150</td>\n",
       "      <td>1</td>\n",
       "      <td>1</td>\n",
       "      <td>ultra</td>\n",
       "    </tr>\n",
       "  </tbody>\n",
       "</table>\n",
       "</div>"
      ],
      "text/plain": [
       "   messages_included  mb_per_month_included  minutes_included  \\\n",
       "0                 50                  15360               500   \n",
       "1               1000                  30720              3000   \n",
       "\n",
       "   rub_monthly_fee  rub_per_gb  rub_per_message  rub_per_minute tariff  \n",
       "0              550         200                3               3  smart  \n",
       "1             1950         150                1               1  ultra  "
      ]
     },
     "execution_count": 34,
     "metadata": {},
     "output_type": "execute_result"
    }
   ],
   "source": [
    "# добавим к df_cmiu_pivot информацию о тарифах из таблицы df_tariffs\n",
    "# объединим таблицы по колонке с названиями тарифов\n",
    "# для этого сначала в df_tariffs поменяем название нужного столбца на tariff\n",
    "\n",
    "df_tariffs.columns = ['messages_included', 'mb_per_month_included', 'minutes_included', 'rub_monthly_fee',\\\n",
    "                      'rub_per_gb', 'rub_per_message', 'rub_per_minute', 'tariff']\n",
    "df_tariffs"
   ]
  },
  {
   "cell_type": "code",
   "execution_count": 35,
   "metadata": {},
   "outputs": [
    {
     "data": {
      "text/html": [
       "<div>\n",
       "<style scoped>\n",
       "    .dataframe tbody tr th:only-of-type {\n",
       "        vertical-align: middle;\n",
       "    }\n",
       "\n",
       "    .dataframe tbody tr th {\n",
       "        vertical-align: top;\n",
       "    }\n",
       "\n",
       "    .dataframe thead th {\n",
       "        text-align: right;\n",
       "    }\n",
       "</style>\n",
       "<table border=\"1\" class=\"dataframe\">\n",
       "  <thead>\n",
       "    <tr style=\"text-align: right;\">\n",
       "      <th></th>\n",
       "      <th>user_id</th>\n",
       "      <th>age</th>\n",
       "      <th>city</th>\n",
       "      <th>tariff</th>\n",
       "      <th>month</th>\n",
       "      <th>traffic_volume</th>\n",
       "      <th>calls_count</th>\n",
       "      <th>calls_duration</th>\n",
       "      <th>messages_count</th>\n",
       "      <th>messages_included</th>\n",
       "      <th>mb_per_month_included</th>\n",
       "      <th>minutes_included</th>\n",
       "      <th>rub_monthly_fee</th>\n",
       "      <th>rub_per_gb</th>\n",
       "      <th>rub_per_message</th>\n",
       "      <th>rub_per_minute</th>\n",
       "    </tr>\n",
       "  </thead>\n",
       "  <tbody>\n",
       "    <tr>\n",
       "      <th>0</th>\n",
       "      <td>1000</td>\n",
       "      <td>52</td>\n",
       "      <td>Краснодар</td>\n",
       "      <td>ultra</td>\n",
       "      <td>2018-05-01</td>\n",
       "      <td>2253.490</td>\n",
       "      <td>22.000</td>\n",
       "      <td>159.000</td>\n",
       "      <td>22.000</td>\n",
       "      <td>1000</td>\n",
       "      <td>30720</td>\n",
       "      <td>3000</td>\n",
       "      <td>1950</td>\n",
       "      <td>150</td>\n",
       "      <td>1</td>\n",
       "      <td>1</td>\n",
       "    </tr>\n",
       "    <tr>\n",
       "      <th>1</th>\n",
       "      <td>1000</td>\n",
       "      <td>52</td>\n",
       "      <td>Краснодар</td>\n",
       "      <td>ultra</td>\n",
       "      <td>2018-06-01</td>\n",
       "      <td>23233.770</td>\n",
       "      <td>43.000</td>\n",
       "      <td>172.000</td>\n",
       "      <td>60.000</td>\n",
       "      <td>1000</td>\n",
       "      <td>30720</td>\n",
       "      <td>3000</td>\n",
       "      <td>1950</td>\n",
       "      <td>150</td>\n",
       "      <td>1</td>\n",
       "      <td>1</td>\n",
       "    </tr>\n",
       "    <tr>\n",
       "      <th>2</th>\n",
       "      <td>1000</td>\n",
       "      <td>52</td>\n",
       "      <td>Краснодар</td>\n",
       "      <td>ultra</td>\n",
       "      <td>2018-07-01</td>\n",
       "      <td>14003.640</td>\n",
       "      <td>47.000</td>\n",
       "      <td>340.000</td>\n",
       "      <td>75.000</td>\n",
       "      <td>1000</td>\n",
       "      <td>30720</td>\n",
       "      <td>3000</td>\n",
       "      <td>1950</td>\n",
       "      <td>150</td>\n",
       "      <td>1</td>\n",
       "      <td>1</td>\n",
       "    </tr>\n",
       "    <tr>\n",
       "      <th>3</th>\n",
       "      <td>1000</td>\n",
       "      <td>52</td>\n",
       "      <td>Краснодар</td>\n",
       "      <td>ultra</td>\n",
       "      <td>2018-08-01</td>\n",
       "      <td>14055.930</td>\n",
       "      <td>52.000</td>\n",
       "      <td>408.000</td>\n",
       "      <td>81.000</td>\n",
       "      <td>1000</td>\n",
       "      <td>30720</td>\n",
       "      <td>3000</td>\n",
       "      <td>1950</td>\n",
       "      <td>150</td>\n",
       "      <td>1</td>\n",
       "      <td>1</td>\n",
       "    </tr>\n",
       "    <tr>\n",
       "      <th>4</th>\n",
       "      <td>1000</td>\n",
       "      <td>52</td>\n",
       "      <td>Краснодар</td>\n",
       "      <td>ultra</td>\n",
       "      <td>2018-09-01</td>\n",
       "      <td>14568.910</td>\n",
       "      <td>58.000</td>\n",
       "      <td>466.000</td>\n",
       "      <td>57.000</td>\n",
       "      <td>1000</td>\n",
       "      <td>30720</td>\n",
       "      <td>3000</td>\n",
       "      <td>1950</td>\n",
       "      <td>150</td>\n",
       "      <td>1</td>\n",
       "      <td>1</td>\n",
       "    </tr>\n",
       "  </tbody>\n",
       "</table>\n",
       "</div>"
      ],
      "text/plain": [
       "   user_id  age       city tariff      month  traffic_volume  calls_count  \\\n",
       "0     1000   52  Краснодар  ultra 2018-05-01        2253.490       22.000   \n",
       "1     1000   52  Краснодар  ultra 2018-06-01       23233.770       43.000   \n",
       "2     1000   52  Краснодар  ultra 2018-07-01       14003.640       47.000   \n",
       "3     1000   52  Краснодар  ultra 2018-08-01       14055.930       52.000   \n",
       "4     1000   52  Краснодар  ultra 2018-09-01       14568.910       58.000   \n",
       "\n",
       "   calls_duration  messages_count  messages_included  mb_per_month_included  \\\n",
       "0         159.000          22.000               1000                  30720   \n",
       "1         172.000          60.000               1000                  30720   \n",
       "2         340.000          75.000               1000                  30720   \n",
       "3         408.000          81.000               1000                  30720   \n",
       "4         466.000          57.000               1000                  30720   \n",
       "\n",
       "   minutes_included  rub_monthly_fee  rub_per_gb  rub_per_message  \\\n",
       "0              3000             1950         150                1   \n",
       "1              3000             1950         150                1   \n",
       "2              3000             1950         150                1   \n",
       "3              3000             1950         150                1   \n",
       "4              3000             1950         150                1   \n",
       "\n",
       "   rub_per_minute  \n",
       "0               1  \n",
       "1               1  \n",
       "2               1  \n",
       "3               1  \n",
       "4               1  "
      ]
     },
     "execution_count": 35,
     "metadata": {},
     "output_type": "execute_result"
    }
   ],
   "source": [
    "# применим метод merge, параметру \"on\" передадим колонку с названиями тарифов, \n",
    "# параметр \"how\" установим \"outer\"\n",
    "\n",
    "df_cmiu_pivot = df_cmiu_pivot.merge(df_tariffs,  how='outer', on='tariff')\n",
    "df_cmiu_pivot.head()"
   ]
  },
  {
   "cell_type": "markdown",
   "metadata": {},
   "source": [
    "После объединения таблиц образовалось немало пропусков, особенно в messages_count. Это произошло из-за разницы в исходных данных (см. \"Общая информация о данных\"). Оставить как есть или отбросить их не вариант, т.к. в первом случае они повляют на дальнейшие расчеты, а во втором потеряем много данных. Поэтому заменим все пропуски на ноль."
   ]
  },
  {
   "cell_type": "code",
   "execution_count": 36,
   "metadata": {},
   "outputs": [
    {
     "data": {
      "text/plain": [
       "user_id                    0\n",
       "age                        0\n",
       "city                       0\n",
       "tariff                     0\n",
       "month                      2\n",
       "traffic_volume            13\n",
       "calls_count               42\n",
       "calls_duration            42\n",
       "messages_count           499\n",
       "messages_included          0\n",
       "mb_per_month_included      0\n",
       "minutes_included           0\n",
       "rub_monthly_fee            0\n",
       "rub_per_gb                 0\n",
       "rub_per_message            0\n",
       "rub_per_minute             0\n",
       "dtype: int64"
      ]
     },
     "execution_count": 36,
     "metadata": {},
     "output_type": "execute_result"
    }
   ],
   "source": [
    "# проверим на пропуски получившийся датафрейм\n",
    "df_cmiu_pivot.isnull().sum()"
   ]
  },
  {
   "cell_type": "code",
   "execution_count": 37,
   "metadata": {},
   "outputs": [
    {
     "data": {
      "text/html": [
       "<div>\n",
       "<style scoped>\n",
       "    .dataframe tbody tr th:only-of-type {\n",
       "        vertical-align: middle;\n",
       "    }\n",
       "\n",
       "    .dataframe tbody tr th {\n",
       "        vertical-align: top;\n",
       "    }\n",
       "\n",
       "    .dataframe thead th {\n",
       "        text-align: right;\n",
       "    }\n",
       "</style>\n",
       "<table border=\"1\" class=\"dataframe\">\n",
       "  <thead>\n",
       "    <tr style=\"text-align: right;\">\n",
       "      <th></th>\n",
       "      <th>user_id</th>\n",
       "      <th>age</th>\n",
       "      <th>city</th>\n",
       "      <th>tariff</th>\n",
       "      <th>month</th>\n",
       "      <th>traffic_volume</th>\n",
       "      <th>calls_count</th>\n",
       "      <th>calls_duration</th>\n",
       "      <th>messages_count</th>\n",
       "      <th>messages_included</th>\n",
       "      <th>mb_per_month_included</th>\n",
       "      <th>minutes_included</th>\n",
       "      <th>rub_monthly_fee</th>\n",
       "      <th>rub_per_gb</th>\n",
       "      <th>rub_per_message</th>\n",
       "      <th>rub_per_minute</th>\n",
       "    </tr>\n",
       "  </thead>\n",
       "  <tbody>\n",
       "    <tr>\n",
       "      <th>243</th>\n",
       "      <td>1128</td>\n",
       "      <td>51</td>\n",
       "      <td>Волжский</td>\n",
       "      <td>ultra</td>\n",
       "      <td>NaT</td>\n",
       "      <td>NaN</td>\n",
       "      <td>NaN</td>\n",
       "      <td>NaN</td>\n",
       "      <td>NaN</td>\n",
       "      <td>1000</td>\n",
       "      <td>30720</td>\n",
       "      <td>3000</td>\n",
       "      <td>1950</td>\n",
       "      <td>150</td>\n",
       "      <td>1</td>\n",
       "      <td>1</td>\n",
       "    </tr>\n",
       "    <tr>\n",
       "      <th>2619</th>\n",
       "      <td>1371</td>\n",
       "      <td>50</td>\n",
       "      <td>Омск</td>\n",
       "      <td>smart</td>\n",
       "      <td>NaT</td>\n",
       "      <td>NaN</td>\n",
       "      <td>NaN</td>\n",
       "      <td>NaN</td>\n",
       "      <td>NaN</td>\n",
       "      <td>50</td>\n",
       "      <td>15360</td>\n",
       "      <td>500</td>\n",
       "      <td>550</td>\n",
       "      <td>200</td>\n",
       "      <td>3</td>\n",
       "      <td>3</td>\n",
       "    </tr>\n",
       "  </tbody>\n",
       "</table>\n",
       "</div>"
      ],
      "text/plain": [
       "      user_id  age      city tariff month  traffic_volume  calls_count  \\\n",
       "243      1128   51  Волжский  ultra   NaT             NaN          NaN   \n",
       "2619     1371   50      Омск  smart   NaT             NaN          NaN   \n",
       "\n",
       "      calls_duration  messages_count  messages_included  \\\n",
       "243              NaN             NaN               1000   \n",
       "2619             NaN             NaN                 50   \n",
       "\n",
       "      mb_per_month_included  minutes_included  rub_monthly_fee  rub_per_gb  \\\n",
       "243                   30720              3000             1950         150   \n",
       "2619                  15360               500              550         200   \n",
       "\n",
       "      rub_per_message  rub_per_minute  \n",
       "243                 1               1  \n",
       "2619                3               3  "
      ]
     },
     "execution_count": 37,
     "metadata": {},
     "output_type": "execute_result"
    }
   ],
   "source": [
    "df_cmiu_pivot[df_cmiu_pivot['month'].isnull()]"
   ]
  },
  {
   "cell_type": "code",
   "execution_count": 38,
   "metadata": {},
   "outputs": [
    {
     "data": {
      "text/html": [
       "<div>\n",
       "<style scoped>\n",
       "    .dataframe tbody tr th:only-of-type {\n",
       "        vertical-align: middle;\n",
       "    }\n",
       "\n",
       "    .dataframe tbody tr th {\n",
       "        vertical-align: top;\n",
       "    }\n",
       "\n",
       "    .dataframe thead th {\n",
       "        text-align: right;\n",
       "    }\n",
       "</style>\n",
       "<table border=\"1\" class=\"dataframe\">\n",
       "  <thead>\n",
       "    <tr style=\"text-align: right;\">\n",
       "      <th></th>\n",
       "      <th>user_id</th>\n",
       "      <th>age</th>\n",
       "      <th>city</th>\n",
       "      <th>tariff</th>\n",
       "      <th>month</th>\n",
       "      <th>traffic_volume</th>\n",
       "      <th>calls_count</th>\n",
       "      <th>calls_duration</th>\n",
       "      <th>messages_count</th>\n",
       "      <th>messages_included</th>\n",
       "      <th>mb_per_month_included</th>\n",
       "      <th>minutes_included</th>\n",
       "      <th>rub_monthly_fee</th>\n",
       "      <th>rub_per_gb</th>\n",
       "      <th>rub_per_message</th>\n",
       "      <th>rub_per_minute</th>\n",
       "    </tr>\n",
       "  </thead>\n",
       "  <tbody>\n",
       "  </tbody>\n",
       "</table>\n",
       "</div>"
      ],
      "text/plain": [
       "Empty DataFrame\n",
       "Columns: [user_id, age, city, tariff, month, traffic_volume, calls_count, calls_duration, messages_count, messages_included, mb_per_month_included, minutes_included, rub_monthly_fee, rub_per_gb, rub_per_message, rub_per_minute]\n",
       "Index: []"
      ]
     },
     "execution_count": 38,
     "metadata": {},
     "output_type": "execute_result"
    }
   ],
   "source": [
    "# пропуски в колонке month заменить на ноль нельзя, всего три строки с пропусками, поэтому удалим их\n",
    "\n",
    "df_cmiu_pivot = df_cmiu_pivot.dropna(subset=['month'])\n",
    "df_cmiu_pivot[df_cmiu_pivot['month'].isnull()]"
   ]
  },
  {
   "cell_type": "code",
   "execution_count": 39,
   "metadata": {},
   "outputs": [
    {
     "data": {
      "text/plain": [
       "user_id                  0\n",
       "age                      0\n",
       "city                     0\n",
       "tariff                   0\n",
       "month                    0\n",
       "traffic_volume           0\n",
       "calls_count              0\n",
       "calls_duration           0\n",
       "messages_count           0\n",
       "messages_included        0\n",
       "mb_per_month_included    0\n",
       "minutes_included         0\n",
       "rub_monthly_fee          0\n",
       "rub_per_gb               0\n",
       "rub_per_message          0\n",
       "rub_per_minute           0\n",
       "dtype: int64"
      ]
     },
     "execution_count": 39,
     "metadata": {},
     "output_type": "execute_result"
    }
   ],
   "source": [
    "# остальные пропуски заменим на ноль\n",
    "\n",
    "df_cmiu_pivot = df_cmiu_pivot.fillna(0)\n",
    "df_cmiu_pivot.isnull().sum()"
   ]
  },
  {
   "cell_type": "markdown",
   "metadata": {},
   "source": [
    "***Для каждого пользователя рассчитано:***\n",
    "\n",
    "* количество сделанных звонков и израсходованных минут разговора по месяцам;\n",
    "* количество отправленных сообщений по месяцам;\n",
    "* объем израсходованного интернет-трафика по месяцам.\n",
    "\n",
    "Такми образом, данные подготовлены для последующего расчета помесячной выручки с каждого пользователя. "
   ]
  },
  {
   "cell_type": "markdown",
   "metadata": {},
   "source": [
    "### Расчет выручки"
   ]
  },
  {
   "cell_type": "markdown",
   "metadata": {},
   "source": [
    "Рассчитаем помесячную выручку при помощи функции total_bill_monthly, в которой в качестве pd.Series будет выступать строка датафрейма."
   ]
  },
  {
   "cell_type": "code",
   "execution_count": 40,
   "metadata": {},
   "outputs": [],
   "source": [
    "def total_bill_monthly(row):\n",
    "    \n",
    "# определим переменные\n",
    "    \n",
    "    bill_minutes = 0\n",
    "    bill_sms = 0\n",
    "    bill_traffic = 0\n",
    "    minutes = row['calls_duration']\n",
    "    sms = row['messages_count']\n",
    "    traffic = row['traffic_volume']\n",
    "    tariff = row['tariff']\n",
    "    minutes_limit = row['minutes_included']\n",
    "    sms_limit = row['messages_included']\n",
    "    traffic_limit = row['mb_per_month_included']\n",
    "    monthly_fee = row['rub_monthly_fee']\n",
    "    rub_per_gb = row['rub_per_gb']\n",
    "    rub_per_message = row['rub_per_message']\n",
    "    rub_per_minute = row['rub_per_minute']\n",
    "\n",
    "# проверим разницу между суммарными значениями звонков, сообщений, трафика и бесплатным лимитом тарифа\n",
    "# если эта разница меньше нуля, то возвращаем ноль - клиент не израсходовал бесплатный лимит\n",
    "# если больше - то разницу умножаем на стоимость сверх тарифного плана\n",
    "    \n",
    "    if minutes > minutes_limit:\n",
    "        bill_minutes += (minutes - minutes_limit) * rub_per_minute\n",
    "    if minutes < minutes_limit:\n",
    "        bill_minutes = 0\n",
    "    if sms > sms_limit:\n",
    "        bill_sms += (sms - sms_limit) * rub_per_message\n",
    "    if sms < sms_limit:\n",
    "        bill_sms = 0\n",
    "    if traffic > traffic_limit:\n",
    "        bill_traffic += (np.ceil((traffic - traffic_limit) / 1024 )) * rub_per_gb# округляем мегабайты вверх до гигабайт\n",
    "    if traffic < traffic_limit:\n",
    "        bill_traffic = 0\n",
    "        \n",
    "# функция возвращает итоговый счет за месяц для клиента,\n",
    "# в котором к сумме счетов за отдельные категории услуг прибавляется абонентская плата за тариф\n",
    "        \n",
    "    return bill_minutes + bill_sms + bill_traffic + monthly_fee"
   ]
  },
  {
   "cell_type": "code",
   "execution_count": 41,
   "metadata": {},
   "outputs": [
    {
     "data": {
      "text/html": [
       "<div>\n",
       "<style scoped>\n",
       "    .dataframe tbody tr th:only-of-type {\n",
       "        vertical-align: middle;\n",
       "    }\n",
       "\n",
       "    .dataframe tbody tr th {\n",
       "        vertical-align: top;\n",
       "    }\n",
       "\n",
       "    .dataframe thead th {\n",
       "        text-align: right;\n",
       "    }\n",
       "</style>\n",
       "<table border=\"1\" class=\"dataframe\">\n",
       "  <thead>\n",
       "    <tr style=\"text-align: right;\">\n",
       "      <th></th>\n",
       "      <th>user_id</th>\n",
       "      <th>age</th>\n",
       "      <th>city</th>\n",
       "      <th>tariff</th>\n",
       "      <th>month</th>\n",
       "      <th>traffic_volume</th>\n",
       "      <th>calls_count</th>\n",
       "      <th>calls_duration</th>\n",
       "      <th>messages_count</th>\n",
       "      <th>messages_included</th>\n",
       "      <th>mb_per_month_included</th>\n",
       "      <th>minutes_included</th>\n",
       "      <th>rub_monthly_fee</th>\n",
       "      <th>rub_per_gb</th>\n",
       "      <th>rub_per_message</th>\n",
       "      <th>rub_per_minute</th>\n",
       "      <th>total_bill</th>\n",
       "    </tr>\n",
       "  </thead>\n",
       "  <tbody>\n",
       "    <tr>\n",
       "      <th>0</th>\n",
       "      <td>1000</td>\n",
       "      <td>52</td>\n",
       "      <td>Краснодар</td>\n",
       "      <td>ultra</td>\n",
       "      <td>2018-05-01</td>\n",
       "      <td>2253.490</td>\n",
       "      <td>22.000</td>\n",
       "      <td>159.000</td>\n",
       "      <td>22.000</td>\n",
       "      <td>1000</td>\n",
       "      <td>30720</td>\n",
       "      <td>3000</td>\n",
       "      <td>1950</td>\n",
       "      <td>150</td>\n",
       "      <td>1</td>\n",
       "      <td>1</td>\n",
       "      <td>1950.000</td>\n",
       "    </tr>\n",
       "    <tr>\n",
       "      <th>1</th>\n",
       "      <td>1000</td>\n",
       "      <td>52</td>\n",
       "      <td>Краснодар</td>\n",
       "      <td>ultra</td>\n",
       "      <td>2018-06-01</td>\n",
       "      <td>23233.770</td>\n",
       "      <td>43.000</td>\n",
       "      <td>172.000</td>\n",
       "      <td>60.000</td>\n",
       "      <td>1000</td>\n",
       "      <td>30720</td>\n",
       "      <td>3000</td>\n",
       "      <td>1950</td>\n",
       "      <td>150</td>\n",
       "      <td>1</td>\n",
       "      <td>1</td>\n",
       "      <td>1950.000</td>\n",
       "    </tr>\n",
       "    <tr>\n",
       "      <th>2</th>\n",
       "      <td>1000</td>\n",
       "      <td>52</td>\n",
       "      <td>Краснодар</td>\n",
       "      <td>ultra</td>\n",
       "      <td>2018-07-01</td>\n",
       "      <td>14003.640</td>\n",
       "      <td>47.000</td>\n",
       "      <td>340.000</td>\n",
       "      <td>75.000</td>\n",
       "      <td>1000</td>\n",
       "      <td>30720</td>\n",
       "      <td>3000</td>\n",
       "      <td>1950</td>\n",
       "      <td>150</td>\n",
       "      <td>1</td>\n",
       "      <td>1</td>\n",
       "      <td>1950.000</td>\n",
       "    </tr>\n",
       "    <tr>\n",
       "      <th>3</th>\n",
       "      <td>1000</td>\n",
       "      <td>52</td>\n",
       "      <td>Краснодар</td>\n",
       "      <td>ultra</td>\n",
       "      <td>2018-08-01</td>\n",
       "      <td>14055.930</td>\n",
       "      <td>52.000</td>\n",
       "      <td>408.000</td>\n",
       "      <td>81.000</td>\n",
       "      <td>1000</td>\n",
       "      <td>30720</td>\n",
       "      <td>3000</td>\n",
       "      <td>1950</td>\n",
       "      <td>150</td>\n",
       "      <td>1</td>\n",
       "      <td>1</td>\n",
       "      <td>1950.000</td>\n",
       "    </tr>\n",
       "    <tr>\n",
       "      <th>4</th>\n",
       "      <td>1000</td>\n",
       "      <td>52</td>\n",
       "      <td>Краснодар</td>\n",
       "      <td>ultra</td>\n",
       "      <td>2018-09-01</td>\n",
       "      <td>14568.910</td>\n",
       "      <td>58.000</td>\n",
       "      <td>466.000</td>\n",
       "      <td>57.000</td>\n",
       "      <td>1000</td>\n",
       "      <td>30720</td>\n",
       "      <td>3000</td>\n",
       "      <td>1950</td>\n",
       "      <td>150</td>\n",
       "      <td>1</td>\n",
       "      <td>1</td>\n",
       "      <td>1950.000</td>\n",
       "    </tr>\n",
       "    <tr>\n",
       "      <th>...</th>\n",
       "      <td>...</td>\n",
       "      <td>...</td>\n",
       "      <td>...</td>\n",
       "      <td>...</td>\n",
       "      <td>...</td>\n",
       "      <td>...</td>\n",
       "      <td>...</td>\n",
       "      <td>...</td>\n",
       "      <td>...</td>\n",
       "      <td>...</td>\n",
       "      <td>...</td>\n",
       "      <td>...</td>\n",
       "      <td>...</td>\n",
       "      <td>...</td>\n",
       "      <td>...</td>\n",
       "      <td>...</td>\n",
       "      <td>...</td>\n",
       "    </tr>\n",
       "    <tr>\n",
       "      <th>3211</th>\n",
       "      <td>1498</td>\n",
       "      <td>68</td>\n",
       "      <td>Владикавказ</td>\n",
       "      <td>smart</td>\n",
       "      <td>2018-10-01</td>\n",
       "      <td>20579.360</td>\n",
       "      <td>41.000</td>\n",
       "      <td>247.000</td>\n",
       "      <td>42.000</td>\n",
       "      <td>50</td>\n",
       "      <td>15360</td>\n",
       "      <td>500</td>\n",
       "      <td>550</td>\n",
       "      <td>200</td>\n",
       "      <td>3</td>\n",
       "      <td>3</td>\n",
       "      <td>1750.000</td>\n",
       "    </tr>\n",
       "    <tr>\n",
       "      <th>3212</th>\n",
       "      <td>1499</td>\n",
       "      <td>35</td>\n",
       "      <td>Пермь</td>\n",
       "      <td>smart</td>\n",
       "      <td>2018-09-01</td>\n",
       "      <td>1845.750</td>\n",
       "      <td>9.000</td>\n",
       "      <td>70.000</td>\n",
       "      <td>11.000</td>\n",
       "      <td>50</td>\n",
       "      <td>15360</td>\n",
       "      <td>500</td>\n",
       "      <td>550</td>\n",
       "      <td>200</td>\n",
       "      <td>3</td>\n",
       "      <td>3</td>\n",
       "      <td>550.000</td>\n",
       "    </tr>\n",
       "    <tr>\n",
       "      <th>3213</th>\n",
       "      <td>1499</td>\n",
       "      <td>35</td>\n",
       "      <td>Пермь</td>\n",
       "      <td>smart</td>\n",
       "      <td>2018-10-01</td>\n",
       "      <td>17788.510</td>\n",
       "      <td>68.000</td>\n",
       "      <td>449.000</td>\n",
       "      <td>48.000</td>\n",
       "      <td>50</td>\n",
       "      <td>15360</td>\n",
       "      <td>500</td>\n",
       "      <td>550</td>\n",
       "      <td>200</td>\n",
       "      <td>3</td>\n",
       "      <td>3</td>\n",
       "      <td>1150.000</td>\n",
       "    </tr>\n",
       "    <tr>\n",
       "      <th>3214</th>\n",
       "      <td>1499</td>\n",
       "      <td>35</td>\n",
       "      <td>Пермь</td>\n",
       "      <td>smart</td>\n",
       "      <td>2018-11-01</td>\n",
       "      <td>17963.310</td>\n",
       "      <td>74.000</td>\n",
       "      <td>612.000</td>\n",
       "      <td>59.000</td>\n",
       "      <td>50</td>\n",
       "      <td>15360</td>\n",
       "      <td>500</td>\n",
       "      <td>550</td>\n",
       "      <td>200</td>\n",
       "      <td>3</td>\n",
       "      <td>3</td>\n",
       "      <td>1513.000</td>\n",
       "    </tr>\n",
       "    <tr>\n",
       "      <th>3215</th>\n",
       "      <td>1499</td>\n",
       "      <td>35</td>\n",
       "      <td>Пермь</td>\n",
       "      <td>smart</td>\n",
       "      <td>2018-12-01</td>\n",
       "      <td>13055.580</td>\n",
       "      <td>69.000</td>\n",
       "      <td>492.000</td>\n",
       "      <td>66.000</td>\n",
       "      <td>50</td>\n",
       "      <td>15360</td>\n",
       "      <td>500</td>\n",
       "      <td>550</td>\n",
       "      <td>200</td>\n",
       "      <td>3</td>\n",
       "      <td>3</td>\n",
       "      <td>598.000</td>\n",
       "    </tr>\n",
       "  </tbody>\n",
       "</table>\n",
       "<p>3214 rows × 17 columns</p>\n",
       "</div>"
      ],
      "text/plain": [
       "      user_id  age         city tariff      month  traffic_volume  \\\n",
       "0        1000   52    Краснодар  ultra 2018-05-01        2253.490   \n",
       "1        1000   52    Краснодар  ultra 2018-06-01       23233.770   \n",
       "2        1000   52    Краснодар  ultra 2018-07-01       14003.640   \n",
       "3        1000   52    Краснодар  ultra 2018-08-01       14055.930   \n",
       "4        1000   52    Краснодар  ultra 2018-09-01       14568.910   \n",
       "...       ...  ...          ...    ...        ...             ...   \n",
       "3211     1498   68  Владикавказ  smart 2018-10-01       20579.360   \n",
       "3212     1499   35        Пермь  smart 2018-09-01        1845.750   \n",
       "3213     1499   35        Пермь  smart 2018-10-01       17788.510   \n",
       "3214     1499   35        Пермь  smart 2018-11-01       17963.310   \n",
       "3215     1499   35        Пермь  smart 2018-12-01       13055.580   \n",
       "\n",
       "      calls_count  calls_duration  messages_count  messages_included  \\\n",
       "0          22.000         159.000          22.000               1000   \n",
       "1          43.000         172.000          60.000               1000   \n",
       "2          47.000         340.000          75.000               1000   \n",
       "3          52.000         408.000          81.000               1000   \n",
       "4          58.000         466.000          57.000               1000   \n",
       "...           ...             ...             ...                ...   \n",
       "3211       41.000         247.000          42.000                 50   \n",
       "3212        9.000          70.000          11.000                 50   \n",
       "3213       68.000         449.000          48.000                 50   \n",
       "3214       74.000         612.000          59.000                 50   \n",
       "3215       69.000         492.000          66.000                 50   \n",
       "\n",
       "      mb_per_month_included  minutes_included  rub_monthly_fee  rub_per_gb  \\\n",
       "0                     30720              3000             1950         150   \n",
       "1                     30720              3000             1950         150   \n",
       "2                     30720              3000             1950         150   \n",
       "3                     30720              3000             1950         150   \n",
       "4                     30720              3000             1950         150   \n",
       "...                     ...               ...              ...         ...   \n",
       "3211                  15360               500              550         200   \n",
       "3212                  15360               500              550         200   \n",
       "3213                  15360               500              550         200   \n",
       "3214                  15360               500              550         200   \n",
       "3215                  15360               500              550         200   \n",
       "\n",
       "      rub_per_message  rub_per_minute  total_bill  \n",
       "0                   1               1    1950.000  \n",
       "1                   1               1    1950.000  \n",
       "2                   1               1    1950.000  \n",
       "3                   1               1    1950.000  \n",
       "4                   1               1    1950.000  \n",
       "...               ...             ...         ...  \n",
       "3211                3               3    1750.000  \n",
       "3212                3               3     550.000  \n",
       "3213                3               3    1150.000  \n",
       "3214                3               3    1513.000  \n",
       "3215                3               3     598.000  \n",
       "\n",
       "[3214 rows x 17 columns]"
      ]
     },
     "execution_count": 41,
     "metadata": {},
     "output_type": "execute_result"
    }
   ],
   "source": [
    "# применим функцию к датафрейму\n",
    "# метод apply() применяем в нашем случае ко всему датафрейму\n",
    "# Чтобы на вход в функцию отправлялись строки, указываем параметр axis = 1 метода apply()\n",
    "\n",
    "df_cmiu_pivot['total_bill'] = df_cmiu_pivot.apply(total_bill_monthly, axis=1)\n",
    "df_cmiu_pivot"
   ]
  },
  {
   "cell_type": "markdown",
   "metadata": {},
   "source": [
    "## Анализ данных"
   ]
  },
  {
   "cell_type": "code",
   "execution_count": 42,
   "metadata": {},
   "outputs": [],
   "source": [
    "# функция для расчета соновных характеристик поведения клиентов оператора\n",
    "def hist_maker_and_table(df, name,x_1_smart,x_2_ultra):\n",
    "    cd = df.groupby(df.tariff)[name]\n",
    "    cd_desc = cd.describe(percentiles = [.01,.25,.75,.99])\n",
    "    cd_desc['var']= [np.var(cd.get_group('smart'), ddof=1), np.var(cd.get_group('ultra'), ddof=1)]\n",
    "    display(cd_desc)\n",
    "    smart = df.query('tariff == \"smart\"')[name]\n",
    "    ultra = df.query('tariff == \"ultra\"')[name]\n",
    "    plt.figure(figsize=(10,6))\n",
    "    plt.hist(smart, bins=50, color='blue', edgecolor='grey', alpha=0.5, label = 'smart', density = False)\n",
    "    plt.hist(ultra, bins=50, color='orange', edgecolor='grey', alpha=0.5,label = 'ultra', density = False)\n",
    "    plt.axvline(cd_desc['mean'][0], color='blue', linestyle='dashed', linewidth=3, label='Mean smart: {:.2f}'.format(cd_desc['mean'][0]))\n",
    "    \n",
    "    plt.axvline(cd_desc['mean'][1], color='orange', linestyle='dashed', linewidth=3, label='Mean ultra: {:.2f}'.format(cd_desc['mean'][1]))\n",
    "\n",
    "    plt.axvline(x_1_smart, color='blue', linestyle='solid', linewidth=3, label='Included in tariff smart')\n",
    "    plt.axvline(x_2_ultra, color='orange', linestyle='solid', linewidth=3, label='Included in tariff ultra')\n",
    "    plt.legend()\n",
    "    plt.title('Histogramm {}'.format(name))"
   ]
  },
  {
   "cell_type": "code",
   "execution_count": 43,
   "metadata": {},
   "outputs": [
    {
     "name": "stdout",
     "output_type": "stream",
     "text": [
      "СРАВНЕНИЕ ТАРИФА ULTRA И SMART\n"
     ]
    },
    {
     "data": {
      "image/png": "[encoded data removed]",
      "text/plain": [
       "<Figure size 1512x432 with 2 Axes>"
      ]
     },
     "metadata": {
      "needs_background": "light"
     },
     "output_type": "display_data"
    }
   ],
   "source": [
    "print('СРАВНЕНИЕ ТАРИФА ULTRA И SMART')\n",
    "fig = plt.figure(figsize = (21,6))\n",
    "df_cmiu_pivot[df_cmiu_pivot['tariff'] == 'ultra'].boxplot('calls_duration', ax = plt.subplot(1,2,1))\n",
    "df_cmiu_pivot[df_cmiu_pivot['tariff'] == 'smart'].boxplot('calls_duration', ax = plt.subplot(1,2,2));"
   ]
  },
  {
   "cell_type": "code",
   "execution_count": 44,
   "metadata": {},
   "outputs": [
    {
     "data": {
      "text/html": [
       "<div>\n",
       "<style scoped>\n",
       "    .dataframe tbody tr th:only-of-type {\n",
       "        vertical-align: middle;\n",
       "    }\n",
       "\n",
       "    .dataframe tbody tr th {\n",
       "        vertical-align: top;\n",
       "    }\n",
       "\n",
       "    .dataframe thead th {\n",
       "        text-align: right;\n",
       "    }\n",
       "</style>\n",
       "<table border=\"1\" class=\"dataframe\">\n",
       "  <thead>\n",
       "    <tr style=\"text-align: right;\">\n",
       "      <th></th>\n",
       "      <th>count</th>\n",
       "      <th>mean</th>\n",
       "      <th>std</th>\n",
       "      <th>min</th>\n",
       "      <th>1%</th>\n",
       "      <th>25%</th>\n",
       "      <th>50%</th>\n",
       "      <th>75%</th>\n",
       "      <th>99%</th>\n",
       "      <th>max</th>\n",
       "      <th>var</th>\n",
       "    </tr>\n",
       "    <tr>\n",
       "      <th>tariff</th>\n",
       "      <th></th>\n",
       "      <th></th>\n",
       "      <th></th>\n",
       "      <th></th>\n",
       "      <th></th>\n",
       "      <th></th>\n",
       "      <th></th>\n",
       "      <th></th>\n",
       "      <th></th>\n",
       "      <th></th>\n",
       "      <th></th>\n",
       "    </tr>\n",
       "  </thead>\n",
       "  <tbody>\n",
       "    <tr>\n",
       "      <th>smart</th>\n",
       "      <td>2229.000</td>\n",
       "      <td>417.935</td>\n",
       "      <td>190.314</td>\n",
       "      <td>0.000</td>\n",
       "      <td>15.280</td>\n",
       "      <td>282.000</td>\n",
       "      <td>422.000</td>\n",
       "      <td>545.000</td>\n",
       "      <td>872.720</td>\n",
       "      <td>1435.000</td>\n",
       "      <td>36219.316</td>\n",
       "    </tr>\n",
       "    <tr>\n",
       "      <th>ultra</th>\n",
       "      <td>985.000</td>\n",
       "      <td>526.623</td>\n",
       "      <td>317.606</td>\n",
       "      <td>0.000</td>\n",
       "      <td>0.000</td>\n",
       "      <td>284.000</td>\n",
       "      <td>518.000</td>\n",
       "      <td>752.000</td>\n",
       "      <td>1291.120</td>\n",
       "      <td>1673.000</td>\n",
       "      <td>100873.633</td>\n",
       "    </tr>\n",
       "  </tbody>\n",
       "</table>\n",
       "</div>"
      ],
      "text/plain": [
       "          count    mean     std   min     1%     25%     50%     75%      99%  \\\n",
       "tariff                                                                          \n",
       "smart  2229.000 417.935 190.314 0.000 15.280 282.000 422.000 545.000  872.720   \n",
       "ultra   985.000 526.623 317.606 0.000  0.000 284.000 518.000 752.000 1291.120   \n",
       "\n",
       "            max        var  \n",
       "tariff                      \n",
       "smart  1435.000  36219.316  \n",
       "ultra  1673.000 100873.633  "
      ]
     },
     "metadata": {},
     "output_type": "display_data"
    },
    {
     "data": {
      "image/png": "[encoded data removed]",
      "text/plain": [
       "<Figure size 720x432 with 1 Axes>"
      ]
     },
     "metadata": {
      "needs_background": "light"
     },
     "output_type": "display_data"
    }
   ],
   "source": [
    "hist_maker_and_table(df_cmiu_pivot,'calls_duration',500,3000)"
   ]
  },
  {
   "cell_type": "markdown",
   "metadata": {},
   "source": [
    "- Пользователи тарифа Смарт в среднем в месяц тратят меньше минут разговора, чем пользователи тарифа Ультра.\n",
    "- На тарифе Смарт пользователи часто не укладываются в лимиты и доплачивают за звонки.\n",
    "- Дисперсия и стандартное отклонение выше на тарифе Ультра, но пользователи этого тарифа всегда укладываются в установленные лимиты. Максимальное число минут разговора в месяц значительно меньше заложенных в него 3000."
   ]
  },
  {
   "cell_type": "code",
   "execution_count": 45,
   "metadata": {},
   "outputs": [
    {
     "name": "stdout",
     "output_type": "stream",
     "text": [
      "СРАВНЕНИЕ ТАРИФА ULTRA И SMART\n"
     ]
    },
    {
     "data": {
      "image/png": "[encoded data removed]",
      "text/plain": [
       "<Figure size 1512x432 with 2 Axes>"
      ]
     },
     "metadata": {
      "needs_background": "light"
     },
     "output_type": "display_data"
    }
   ],
   "source": [
    "print('СРАВНЕНИЕ ТАРИФА ULTRA И SMART')\n",
    "fig = plt.figure(figsize = (21,6))\n",
    "df_cmiu_pivot[df_cmiu_pivot['tariff'] == 'ultra'].boxplot('messages_count', ax = plt.subplot(1,2,1))\n",
    "df_cmiu_pivot[df_cmiu_pivot['tariff'] == 'smart'].boxplot('messages_count', ax = plt.subplot(1,2,2));"
   ]
  },
  {
   "cell_type": "code",
   "execution_count": 46,
   "metadata": {},
   "outputs": [
    {
     "data": {
      "text/html": [
       "<div>\n",
       "<style scoped>\n",
       "    .dataframe tbody tr th:only-of-type {\n",
       "        vertical-align: middle;\n",
       "    }\n",
       "\n",
       "    .dataframe tbody tr th {\n",
       "        vertical-align: top;\n",
       "    }\n",
       "\n",
       "    .dataframe thead th {\n",
       "        text-align: right;\n",
       "    }\n",
       "</style>\n",
       "<table border=\"1\" class=\"dataframe\">\n",
       "  <thead>\n",
       "    <tr style=\"text-align: right;\">\n",
       "      <th></th>\n",
       "      <th>count</th>\n",
       "      <th>mean</th>\n",
       "      <th>std</th>\n",
       "      <th>min</th>\n",
       "      <th>1%</th>\n",
       "      <th>25%</th>\n",
       "      <th>50%</th>\n",
       "      <th>75%</th>\n",
       "      <th>99%</th>\n",
       "      <th>max</th>\n",
       "      <th>var</th>\n",
       "    </tr>\n",
       "    <tr>\n",
       "      <th>tariff</th>\n",
       "      <th></th>\n",
       "      <th></th>\n",
       "      <th></th>\n",
       "      <th></th>\n",
       "      <th></th>\n",
       "      <th></th>\n",
       "      <th></th>\n",
       "      <th></th>\n",
       "      <th></th>\n",
       "      <th></th>\n",
       "      <th></th>\n",
       "    </tr>\n",
       "  </thead>\n",
       "  <tbody>\n",
       "    <tr>\n",
       "      <th>smart</th>\n",
       "      <td>2229.000</td>\n",
       "      <td>33.384</td>\n",
       "      <td>28.228</td>\n",
       "      <td>0.000</td>\n",
       "      <td>0.000</td>\n",
       "      <td>10.000</td>\n",
       "      <td>28.000</td>\n",
       "      <td>51.000</td>\n",
       "      <td>108.000</td>\n",
       "      <td>143.000</td>\n",
       "      <td>796.813</td>\n",
       "    </tr>\n",
       "    <tr>\n",
       "      <th>ultra</th>\n",
       "      <td>985.000</td>\n",
       "      <td>49.363</td>\n",
       "      <td>47.804</td>\n",
       "      <td>0.000</td>\n",
       "      <td>0.000</td>\n",
       "      <td>6.000</td>\n",
       "      <td>38.000</td>\n",
       "      <td>79.000</td>\n",
       "      <td>183.320</td>\n",
       "      <td>224.000</td>\n",
       "      <td>2285.266</td>\n",
       "    </tr>\n",
       "  </tbody>\n",
       "</table>\n",
       "</div>"
      ],
      "text/plain": [
       "          count   mean    std   min    1%    25%    50%    75%     99%  \\\n",
       "tariff                                                                   \n",
       "smart  2229.000 33.384 28.228 0.000 0.000 10.000 28.000 51.000 108.000   \n",
       "ultra   985.000 49.363 47.804 0.000 0.000  6.000 38.000 79.000 183.320   \n",
       "\n",
       "           max      var  \n",
       "tariff                   \n",
       "smart  143.000  796.813  \n",
       "ultra  224.000 2285.266  "
      ]
     },
     "metadata": {},
     "output_type": "display_data"
    },
    {
     "data": {
      "image/png": "[encoded data removed]",
      "text/plain": [
       "<Figure size 720x432 with 1 Axes>"
      ]
     },
     "metadata": {
      "needs_background": "light"
     },
     "output_type": "display_data"
    }
   ],
   "source": [
    "hist_maker_and_table(df_cmiu_pivot,'messages_count',50,1000)"
   ]
  },
  {
   "cell_type": "markdown",
   "metadata": {},
   "source": [
    "- Пользователи тарифа Смарт в среднем в месяц отправляют меньше сообщений, чем пользователи тарифа Ультра.\n",
    "- На тарифе Смарт пользователи часто не укладываются в лимиты и доплачивают за сообщения.\n",
    "- Дисперсия и стандартное отклонение выше на тарифе Ультра, но пользователи этого тарифа всегда   укладываются в установленные лимиты. Максимальное число отправленных сообщений в месяц значительно меньше заложенных в него 1000."
   ]
  },
  {
   "cell_type": "code",
   "execution_count": 47,
   "metadata": {},
   "outputs": [
    {
     "name": "stdout",
     "output_type": "stream",
     "text": [
      "СРАВНЕНИЕ ТАРИФА ULTRA И SMART\n"
     ]
    },
    {
     "data": {
      "image/png": "[encoded data removed]",
      "text/plain": [
       "<Figure size 1512x432 with 2 Axes>"
      ]
     },
     "metadata": {
      "needs_background": "light"
     },
     "output_type": "display_data"
    }
   ],
   "source": [
    "print('СРАВНЕНИЕ ТАРИФА ULTRA И SMART')\n",
    "fig = plt.figure(figsize = (21,6))\n",
    "df_cmiu_pivot[df_cmiu_pivot['tariff'] == 'ultra'].boxplot('traffic_volume', ax = plt.subplot(1,2,1))\n",
    "df_cmiu_pivot[df_cmiu_pivot['tariff'] == 'smart'].boxplot('traffic_volume', ax = plt.subplot(1,2,2));"
   ]
  },
  {
   "cell_type": "code",
   "execution_count": 48,
   "metadata": {},
   "outputs": [
    {
     "data": {
      "text/html": [
       "<div>\n",
       "<style scoped>\n",
       "    .dataframe tbody tr th:only-of-type {\n",
       "        vertical-align: middle;\n",
       "    }\n",
       "\n",
       "    .dataframe tbody tr th {\n",
       "        vertical-align: top;\n",
       "    }\n",
       "\n",
       "    .dataframe thead th {\n",
       "        text-align: right;\n",
       "    }\n",
       "</style>\n",
       "<table border=\"1\" class=\"dataframe\">\n",
       "  <thead>\n",
       "    <tr style=\"text-align: right;\">\n",
       "      <th></th>\n",
       "      <th>count</th>\n",
       "      <th>mean</th>\n",
       "      <th>std</th>\n",
       "      <th>min</th>\n",
       "      <th>1%</th>\n",
       "      <th>25%</th>\n",
       "      <th>50%</th>\n",
       "      <th>75%</th>\n",
       "      <th>99%</th>\n",
       "      <th>max</th>\n",
       "      <th>var</th>\n",
       "    </tr>\n",
       "    <tr>\n",
       "      <th>tariff</th>\n",
       "      <th></th>\n",
       "      <th></th>\n",
       "      <th></th>\n",
       "      <th></th>\n",
       "      <th></th>\n",
       "      <th></th>\n",
       "      <th></th>\n",
       "      <th></th>\n",
       "      <th></th>\n",
       "      <th></th>\n",
       "      <th></th>\n",
       "    </tr>\n",
       "  </thead>\n",
       "  <tbody>\n",
       "    <tr>\n",
       "      <th>smart</th>\n",
       "      <td>2229.000</td>\n",
       "      <td>16208.387</td>\n",
       "      <td>5870.477</td>\n",
       "      <td>0.000</td>\n",
       "      <td>1496.038</td>\n",
       "      <td>12643.010</td>\n",
       "      <td>16506.840</td>\n",
       "      <td>20042.930</td>\n",
       "      <td>29693.696</td>\n",
       "      <td>38552.450</td>\n",
       "      <td>34462496.463</td>\n",
       "    </tr>\n",
       "    <tr>\n",
       "      <th>ultra</th>\n",
       "      <td>985.000</td>\n",
       "      <td>19468.805</td>\n",
       "      <td>10087.171</td>\n",
       "      <td>0.000</td>\n",
       "      <td>0.000</td>\n",
       "      <td>11770.260</td>\n",
       "      <td>19308.010</td>\n",
       "      <td>26837.690</td>\n",
       "      <td>43005.964</td>\n",
       "      <td>49745.690</td>\n",
       "      <td>101751013.783</td>\n",
       "    </tr>\n",
       "  </tbody>\n",
       "</table>\n",
       "</div>"
      ],
      "text/plain": [
       "          count      mean       std   min       1%       25%       50%  \\\n",
       "tariff                                                                   \n",
       "smart  2229.000 16208.387  5870.477 0.000 1496.038 12643.010 16506.840   \n",
       "ultra   985.000 19468.805 10087.171 0.000    0.000 11770.260 19308.010   \n",
       "\n",
       "             75%       99%       max           var  \n",
       "tariff                                              \n",
       "smart  20042.930 29693.696 38552.450  34462496.463  \n",
       "ultra  26837.690 43005.964 49745.690 101751013.783  "
      ]
     },
     "metadata": {},
     "output_type": "display_data"
    },
    {
     "data": {
      "image/png": "[encoded data removed]",
      "text/plain": [
       "<Figure size 720x432 with 1 Axes>"
      ]
     },
     "metadata": {
      "needs_background": "light"
     },
     "output_type": "display_data"
    }
   ],
   "source": [
    "hist_maker_and_table(df_cmiu_pivot,'traffic_volume',15360,30720)"
   ]
  },
  {
   "cell_type": "markdown",
   "metadata": {},
   "source": [
    "- Пользователи тарифа Смарт в среднем в месяц используют меньше Мб интернет-тарфика, чем пользователи тарифа Ультра.\n",
    "- На тарифе Смарт пользователи чаще не укладываются в лимиты и доплачивают за интернет-тарфик, чем пользователи тарифа Ультра.\n",
    "- Дисперсия и стандартное отклонение выше на тарифе Ультра, но пользователи этого тарифа чаще укладываются в установленные лимиты. Максимальное число использованного интернет-трафика в месяц незначительно больше заложенных в него 30 Гб (30720 Мб)."
   ]
  },
  {
   "cell_type": "markdown",
   "metadata": {},
   "source": [
    "Чтобы посмотреть поведение клиентов посчитаем помесячную сумму исследуемых параметров для всех пользователей:"
   ]
  },
  {
   "cell_type": "code",
   "execution_count": 49,
   "metadata": {},
   "outputs": [
    {
     "data": {
      "text/html": [
       "<div>\n",
       "<style scoped>\n",
       "    .dataframe tbody tr th:only-of-type {\n",
       "        vertical-align: middle;\n",
       "    }\n",
       "\n",
       "    .dataframe tbody tr th {\n",
       "        vertical-align: top;\n",
       "    }\n",
       "\n",
       "    .dataframe thead th {\n",
       "        text-align: right;\n",
       "    }\n",
       "</style>\n",
       "<table border=\"1\" class=\"dataframe\">\n",
       "  <thead>\n",
       "    <tr style=\"text-align: right;\">\n",
       "      <th></th>\n",
       "      <th>month</th>\n",
       "      <th>calls_count</th>\n",
       "      <th>calls_duration</th>\n",
       "      <th>messages_count</th>\n",
       "      <th>total_bill</th>\n",
       "      <th>traffic_volume</th>\n",
       "    </tr>\n",
       "    <tr>\n",
       "      <th>tariff</th>\n",
       "      <th></th>\n",
       "      <th></th>\n",
       "      <th></th>\n",
       "      <th></th>\n",
       "      <th></th>\n",
       "      <th></th>\n",
       "    </tr>\n",
       "  </thead>\n",
       "  <tbody>\n",
       "    <tr>\n",
       "      <th>smart</th>\n",
       "      <td>2018-01-01</td>\n",
       "      <td>941.000</td>\n",
       "      <td>6931.000</td>\n",
       "      <td>620.000</td>\n",
       "      <td>24525.000</td>\n",
       "      <td>289466.400</td>\n",
       "    </tr>\n",
       "    <tr>\n",
       "      <th>smart</th>\n",
       "      <td>2018-02-01</td>\n",
       "      <td>2331.000</td>\n",
       "      <td>17324.000</td>\n",
       "      <td>1397.000</td>\n",
       "      <td>48001.000</td>\n",
       "      <td>672629.150</td>\n",
       "    </tr>\n",
       "    <tr>\n",
       "      <th>smart</th>\n",
       "      <td>2018-03-01</td>\n",
       "      <td>4183.000</td>\n",
       "      <td>30034.000</td>\n",
       "      <td>2453.000</td>\n",
       "      <td>89676.000</td>\n",
       "      <td>1163020.250</td>\n",
       "    </tr>\n",
       "    <tr>\n",
       "      <th>smart</th>\n",
       "      <td>2018-04-01</td>\n",
       "      <td>5747.000</td>\n",
       "      <td>41119.000</td>\n",
       "      <td>3443.000</td>\n",
       "      <td>107866.000</td>\n",
       "      <td>1507764.230</td>\n",
       "    </tr>\n",
       "    <tr>\n",
       "      <th>smart</th>\n",
       "      <td>2018-05-01</td>\n",
       "      <td>7789.000</td>\n",
       "      <td>54618.000</td>\n",
       "      <td>4762.000</td>\n",
       "      <td>168849.000</td>\n",
       "      <td>2228530.990</td>\n",
       "    </tr>\n",
       "    <tr>\n",
       "      <th>smart</th>\n",
       "      <td>2018-06-01</td>\n",
       "      <td>9110.000</td>\n",
       "      <td>64885.000</td>\n",
       "      <td>5478.000</td>\n",
       "      <td>197459.000</td>\n",
       "      <td>2590322.270</td>\n",
       "    </tr>\n",
       "    <tr>\n",
       "      <th>smart</th>\n",
       "      <td>2018-07-01</td>\n",
       "      <td>11402.000</td>\n",
       "      <td>82079.000</td>\n",
       "      <td>6784.000</td>\n",
       "      <td>246014.000</td>\n",
       "      <td>3164373.220</td>\n",
       "    </tr>\n",
       "    <tr>\n",
       "      <th>smart</th>\n",
       "      <td>2018-08-01</td>\n",
       "      <td>13860.000</td>\n",
       "      <td>99045.000</td>\n",
       "      <td>7905.000</td>\n",
       "      <td>310340.000</td>\n",
       "      <td>3903519.220</td>\n",
       "    </tr>\n",
       "    <tr>\n",
       "      <th>smart</th>\n",
       "      <td>2018-09-01</td>\n",
       "      <td>15482.000</td>\n",
       "      <td>111439.000</td>\n",
       "      <td>8746.000</td>\n",
       "      <td>324986.000</td>\n",
       "      <td>4238930.490</td>\n",
       "    </tr>\n",
       "    <tr>\n",
       "      <th>smart</th>\n",
       "      <td>2018-10-01</td>\n",
       "      <td>17629.000</td>\n",
       "      <td>125284.000</td>\n",
       "      <td>9927.000</td>\n",
       "      <td>401267.000</td>\n",
       "      <td>4926594.130</td>\n",
       "    </tr>\n",
       "    <tr>\n",
       "      <th>smart</th>\n",
       "      <td>2018-11-01</td>\n",
       "      <td>19435.000</td>\n",
       "      <td>137544.000</td>\n",
       "      <td>10768.000</td>\n",
       "      <td>424403.000</td>\n",
       "      <td>5339040.140</td>\n",
       "    </tr>\n",
       "    <tr>\n",
       "      <th>smart</th>\n",
       "      <td>2018-12-01</td>\n",
       "      <td>22406.000</td>\n",
       "      <td>161275.000</td>\n",
       "      <td>12130.000</td>\n",
       "      <td>531965.000</td>\n",
       "      <td>6104304.110</td>\n",
       "    </tr>\n",
       "    <tr>\n",
       "      <th>ultra</th>\n",
       "      <td>2018-01-01</td>\n",
       "      <td>535.000</td>\n",
       "      <td>3853.000</td>\n",
       "      <td>304.000</td>\n",
       "      <td>17550.000</td>\n",
       "      <td>118266.130</td>\n",
       "    </tr>\n",
       "    <tr>\n",
       "      <th>ultra</th>\n",
       "      <td>2018-02-01</td>\n",
       "      <td>997.000</td>\n",
       "      <td>7131.000</td>\n",
       "      <td>527.000</td>\n",
       "      <td>47400.000</td>\n",
       "      <td>282622.500</td>\n",
       "    </tr>\n",
       "    <tr>\n",
       "      <th>ultra</th>\n",
       "      <td>2018-03-01</td>\n",
       "      <td>2504.000</td>\n",
       "      <td>18117.000</td>\n",
       "      <td>1195.000</td>\n",
       "      <td>74550.000</td>\n",
       "      <td>648815.360</td>\n",
       "    </tr>\n",
       "    <tr>\n",
       "      <th>ultra</th>\n",
       "      <td>2018-04-01</td>\n",
       "      <td>3525.000</td>\n",
       "      <td>25191.000</td>\n",
       "      <td>1736.000</td>\n",
       "      <td>110100.000</td>\n",
       "      <td>925547.390</td>\n",
       "    </tr>\n",
       "    <tr>\n",
       "      <th>ultra</th>\n",
       "      <td>2018-05-01</td>\n",
       "      <td>4858.000</td>\n",
       "      <td>34192.000</td>\n",
       "      <td>2536.000</td>\n",
       "      <td>138000.000</td>\n",
       "      <td>1297331.250</td>\n",
       "    </tr>\n",
       "    <tr>\n",
       "      <th>ultra</th>\n",
       "      <td>2018-06-01</td>\n",
       "      <td>5606.000</td>\n",
       "      <td>40295.000</td>\n",
       "      <td>3505.000</td>\n",
       "      <td>171300.000</td>\n",
       "      <td>1589694.900</td>\n",
       "    </tr>\n",
       "    <tr>\n",
       "      <th>ultra</th>\n",
       "      <td>2018-07-01</td>\n",
       "      <td>6896.000</td>\n",
       "      <td>49667.000</td>\n",
       "      <td>4536.000</td>\n",
       "      <td>192750.000</td>\n",
       "      <td>1865105.530</td>\n",
       "    </tr>\n",
       "    <tr>\n",
       "      <th>ultra</th>\n",
       "      <td>2018-08-01</td>\n",
       "      <td>7628.000</td>\n",
       "      <td>54653.000</td>\n",
       "      <td>5183.000</td>\n",
       "      <td>222900.000</td>\n",
       "      <td>2094637.850</td>\n",
       "    </tr>\n",
       "    <tr>\n",
       "      <th>ultra</th>\n",
       "      <td>2018-09-01</td>\n",
       "      <td>8579.000</td>\n",
       "      <td>62036.000</td>\n",
       "      <td>6013.000</td>\n",
       "      <td>232800.000</td>\n",
       "      <td>2208491.870</td>\n",
       "    </tr>\n",
       "    <tr>\n",
       "      <th>ultra</th>\n",
       "      <td>2018-10-01</td>\n",
       "      <td>9517.000</td>\n",
       "      <td>68644.000</td>\n",
       "      <td>7187.000</td>\n",
       "      <td>254100.000</td>\n",
       "      <td>2465576.490</td>\n",
       "    </tr>\n",
       "    <tr>\n",
       "      <th>ultra</th>\n",
       "      <td>2018-11-01</td>\n",
       "      <td>10066.000</td>\n",
       "      <td>72545.000</td>\n",
       "      <td>7476.000</td>\n",
       "      <td>280350.000</td>\n",
       "      <td>2651432.870</td>\n",
       "    </tr>\n",
       "    <tr>\n",
       "      <th>ultra</th>\n",
       "      <td>2018-12-01</td>\n",
       "      <td>11581.000</td>\n",
       "      <td>82400.000</td>\n",
       "      <td>8425.000</td>\n",
       "      <td>297300.000</td>\n",
       "      <td>3029250.990</td>\n",
       "    </tr>\n",
       "  </tbody>\n",
       "</table>\n",
       "</div>"
      ],
      "text/plain": [
       "            month  calls_count  calls_duration  messages_count  total_bill  \\\n",
       "tariff                                                                       \n",
       "smart  2018-01-01      941.000        6931.000         620.000   24525.000   \n",
       "smart  2018-02-01     2331.000       17324.000        1397.000   48001.000   \n",
       "smart  2018-03-01     4183.000       30034.000        2453.000   89676.000   \n",
       "smart  2018-04-01     5747.000       41119.000        3443.000  107866.000   \n",
       "smart  2018-05-01     7789.000       54618.000        4762.000  168849.000   \n",
       "smart  2018-06-01     9110.000       64885.000        5478.000  197459.000   \n",
       "smart  2018-07-01    11402.000       82079.000        6784.000  246014.000   \n",
       "smart  2018-08-01    13860.000       99045.000        7905.000  310340.000   \n",
       "smart  2018-09-01    15482.000      111439.000        8746.000  324986.000   \n",
       "smart  2018-10-01    17629.000      125284.000        9927.000  401267.000   \n",
       "smart  2018-11-01    19435.000      137544.000       10768.000  424403.000   \n",
       "smart  2018-12-01    22406.000      161275.000       12130.000  531965.000   \n",
       "ultra  2018-01-01      535.000        3853.000         304.000   17550.000   \n",
       "ultra  2018-02-01      997.000        7131.000         527.000   47400.000   \n",
       "ultra  2018-03-01     2504.000       18117.000        1195.000   74550.000   \n",
       "ultra  2018-04-01     3525.000       25191.000        1736.000  110100.000   \n",
       "ultra  2018-05-01     4858.000       34192.000        2536.000  138000.000   \n",
       "ultra  2018-06-01     5606.000       40295.000        3505.000  171300.000   \n",
       "ultra  2018-07-01     6896.000       49667.000        4536.000  192750.000   \n",
       "ultra  2018-08-01     7628.000       54653.000        5183.000  222900.000   \n",
       "ultra  2018-09-01     8579.000       62036.000        6013.000  232800.000   \n",
       "ultra  2018-10-01     9517.000       68644.000        7187.000  254100.000   \n",
       "ultra  2018-11-01    10066.000       72545.000        7476.000  280350.000   \n",
       "ultra  2018-12-01    11581.000       82400.000        8425.000  297300.000   \n",
       "\n",
       "        traffic_volume  \n",
       "tariff                  \n",
       "smart       289466.400  \n",
       "smart       672629.150  \n",
       "smart      1163020.250  \n",
       "smart      1507764.230  \n",
       "smart      2228530.990  \n",
       "smart      2590322.270  \n",
       "smart      3164373.220  \n",
       "smart      3903519.220  \n",
       "smart      4238930.490  \n",
       "smart      4926594.130  \n",
       "smart      5339040.140  \n",
       "smart      6104304.110  \n",
       "ultra       118266.130  \n",
       "ultra       282622.500  \n",
       "ultra       648815.360  \n",
       "ultra       925547.390  \n",
       "ultra      1297331.250  \n",
       "ultra      1589694.900  \n",
       "ultra      1865105.530  \n",
       "ultra      2094637.850  \n",
       "ultra      2208491.870  \n",
       "ultra      2465576.490  \n",
       "ultra      2651432.870  \n",
       "ultra      3029250.990  "
      ]
     },
     "metadata": {},
     "output_type": "display_data"
    }
   ],
   "source": [
    "df_month_sum = (df_cmiu_pivot\n",
    "                .pivot_table(index=['tariff', 'month'],\n",
    "                             values=['calls_count', 'calls_duration', 'messages_count', 'traffic_volume', 'total_bill'],\n",
    "                             aggfunc=sum))\n",
    "\n",
    "df_month_sum = df_month_sum.reset_index(level='month')\n",
    "display(df_month_sum)"
   ]
  },
  {
   "cell_type": "code",
   "execution_count": 50,
   "metadata": {},
   "outputs": [
    {
     "data": {
      "image/png": "[encoded data removed]",
      "text/plain": [
       "<Figure size 1080x360 with 2 Axes>"
      ]
     },
     "metadata": {
      "needs_background": "light"
     },
     "output_type": "display_data"
    },
    {
     "data": {
      "image/png": "[encoded data removed]",
      "text/plain": [
       "<Figure size 1080x360 with 2 Axes>"
      ]
     },
     "metadata": {
      "needs_background": "light"
     },
     "output_type": "display_data"
    },
    {
     "data": {
      "image/png": "[encoded data removed]",
      "text/plain": [
       "<Figure size 1080x360 with 2 Axes>"
      ]
     },
     "metadata": {
      "needs_background": "light"
     },
     "output_type": "display_data"
    },
    {
     "data": {
      "image/png": "[encoded data removed]",
      "text/plain": [
       "<Figure size 1080x360 with 2 Axes>"
      ]
     },
     "metadata": {
      "needs_background": "light"
     },
     "output_type": "display_data"
    },
    {
     "data": {
      "image/png": "[encoded data removed]",
      "text/plain": [
       "<Figure size 1080x360 with 2 Axes>"
      ]
     },
     "metadata": {
      "needs_background": "light"
     },
     "output_type": "display_data"
    }
   ],
   "source": [
    "# для большей наглядности построим столбчатые графики распределения суммарных значений параметров в течение года:\n",
    "\n",
    "for dms_col_name in ['calls_count', 'calls_duration', 'messages_count', 'traffic_volume', 'total_bill']:\n",
    "    fig, axs = plt.subplots(1,2)\n",
    "    df_month_sum[df_month_sum.index=='smart'].plot(x='month', y=dms_col_name, kind='bar', title='smart', ax=axs[0], figsize=(15, 5))\n",
    "    df_month_sum[df_month_sum.index=='ultra'].plot(x='month', y=dms_col_name, kind='bar', title='ultra', ax=axs[1], figsize=(15, 5))"
   ]
  },
  {
   "cell_type": "markdown",
   "metadata": {},
   "source": [
    "Как видно на гистограммах все параметры (количество звонков, продолжительность разговоров, количество сообщений, объем израсходованного интернет-трафика и ежемесячный счет) растут от января к декабрю, причем растут  линейно и не зависимо от того, какой тариф используют клиенты."
   ]
  },
  {
   "cell_type": "markdown",
   "metadata": {},
   "source": [
    "Если говорить об абсолютных показателях, то следует отметить, что в исследуемой выборке число пользователей тарифа Смарт более чем в 2 раза превышает число пользователей тарифа Ультра."
   ]
  },
  {
   "cell_type": "code",
   "execution_count": 51,
   "metadata": {},
   "outputs": [
    {
     "name": "stdout",
     "output_type": "stream",
     "text": [
      "2229\n",
      "Количество пользователей тарифа Смарт: 351\n"
     ]
    }
   ],
   "source": [
    "print(df_cmiu_pivot[df_cmiu_pivot['tariff']=='smart']['tariff'].count())\n",
    "print('Количество пользователей тарифа Смарт:', df_users[df_users['tariff']=='smart']['tariff'].count())"
   ]
  },
  {
   "cell_type": "code",
   "execution_count": 52,
   "metadata": {},
   "outputs": [
    {
     "name": "stdout",
     "output_type": "stream",
     "text": [
      "985\n",
      "Количество пользователей тарифа Ультра: 149\n"
     ]
    }
   ],
   "source": [
    "print(df_cmiu_pivot[df_cmiu_pivot['tariff']=='ultra']['tariff'].count())\n",
    "print('Количество пользователей тарифа Ультра:',df_users[df_users['tariff']=='ultra']['tariff'].count())"
   ]
  },
  {
   "cell_type": "markdown",
   "metadata": {},
   "source": [
    "## Гипотезы"
   ]
  },
  {
   "cell_type": "markdown",
   "metadata": {},
   "source": [
    "### Средняя выручка пользователей тарифов «Ультра» и «Смарт» различаются¶"
   ]
  },
  {
   "cell_type": "markdown",
   "metadata": {},
   "source": [
    "Н0 - Средняя выручка пользователей тарифов «Ультра» и «Смарт» **равны**, то есть средние значения равны.\n",
    "\n",
    "Н1 - Средняя выручка пользователей тарифов «Ультра» и «Смарт» **не равны**, то есть средние значения не равны.\n",
    "\n",
    "Дисперсии выборок были расчитаны выше, они отличаются более чем на 5%."
   ]
  },
  {
   "cell_type": "code",
   "execution_count": 53,
   "metadata": {},
   "outputs": [
    {
     "name": "stdout",
     "output_type": "stream",
     "text": [
      "p-значение:  1.4229814360764067e-160\n",
      "Принимаем альтернативную гипотезу\n"
     ]
    }
   ],
   "source": [
    "sample_1 = df_cmiu_pivot[df_cmiu_pivot['tariff'] == 'ultra']['total_bill'] \n",
    "sample_2 = df_cmiu_pivot[df_cmiu_pivot['tariff'] == 'smart']['total_bill'] \n",
    "results = st.ttest_ind(sample_1, sample_2)\n",
    "\n",
    "# уровень значимости 5%\n",
    "alpha = 0.05\n",
    "\n",
    "print('p-значение: ', results.pvalue)\n",
    "if results.pvalue < alpha:\n",
    "    print('Принимаем альтернативную гипотезу')\n",
    "else:\n",
    "    print('Опровергнуть нулевую гипотезу нельзя')"
   ]
  },
  {
   "cell_type": "markdown",
   "metadata": {},
   "source": [
    "p-значение достаточно мало, что дает основание отвергнуть предположение об отсутствии различий между выручками у разных тарифных планов, то есть маловероятна случайность результатов теста гипотезы.\n"
   ]
  },
  {
   "cell_type": "markdown",
   "metadata": {},
   "source": [
    "### Cредняя выручка пользователей из Москвы отличается от выручки пользователей из других регионов\n",
    "\n",
    "Н0 - средняя выручка пользователей из Москвы равна средней выручке пользователей из других регионов;\n",
    "\n",
    "Н1 - средняя выручка пользователей из Москвы отличается от выручки пользователей из других регионов.\n",
    "\n",
    "Альтернативная гипотеза у нас двусторонняя, так как средняя выручка из Москвы может отличаться от других регионов как в большую так и в меньшую сторону."
   ]
  },
  {
   "cell_type": "code",
   "execution_count": 54,
   "metadata": {},
   "outputs": [
    {
     "name": "stdout",
     "output_type": "stream",
     "text": [
      "p-значение:  0.5440152911670224\n",
      "Опровергнуть нулевую гипотезу нельзя\n"
     ]
    }
   ],
   "source": [
    "msc_df = df_cmiu_pivot[df_cmiu_pivot['city'] == 'Москва']['total_bill'] \n",
    "not_msc_df = df_cmiu_pivot[df_cmiu_pivot['city'] != 'Москва']['total_bill'] \n",
    "results = st.ttest_ind(msc_df, not_msc_df)\n",
    "\n",
    "# уровень значимости 5%\n",
    "alpha = 0.05\n",
    "\n",
    "print('p-значение: ', results.pvalue)\n",
    "if results.pvalue < alpha:\n",
    "    print('Принимаем альтернативную гипотезу')\n",
    "else:\n",
    "    print('Опровергнуть нулевую гипотезу нельзя')"
   ]
  },
  {
   "cell_type": "markdown",
   "metadata": {},
   "source": [
    "р-уровень значимости составил ,более 52 %, что значительно выше 5% => средняя выручка по Москве статистически значимо не отличается от средней выручки по другим регионам."
   ]
  },
  {
   "cell_type": "markdown",
   "metadata": {},
   "source": [
    "## Выводы\n",
    "\n",
    "Сделав предварительный анализ тарифов на небольшой выборке пользователей можем сделать следующие выводы:\n",
    "\n",
    "- Средние чеки тарифов Смарт и Ультра значимо различаются. В среднем пользователи тарифа Ультра платят больше;\n",
    "- Так как средняя выручка по Москве и другим регионам значимо не различаются, то рекламную компанию можно устроить по всей территории распространения сети;\n",
    "- На тарифе Смарт пользователи чаще не укладываются в лимиты и доплачивают за услуги связи, чем пользователи тарифа Ультра.\n",
    "- Пики нулевых значений на гистограммах с длительностью звонков и интернет-сессиях связаны с пропущенными звонками и наличием фактов неиспользования мобильного интернета (обозначены в таблицах 0). Кроме того, гистограмма с количеством сообщений тоже свидетельствует о том, что не все пользователи тарифов используют текстовые сообщения.\n",
    "Данная информация может быть использована в дальнейшем для принятий решений об изменениях условий действующих тарифов или при создании нового, учитывающего либо предпочтения клиентов, либо возможности для получения дополнительной прибыли сотового оператора.\n",
    "- Количество пользователей тарифа Ультра, которые в среднем тратят на услуги связи больше, более чем в 2 раза меньше количества пользователей тарифа Смарт в представленной выборке. Если такое распределение пользователей характерно и для генеральной совокупности, то коммерческой службе имеет смысл учесть данную информацию при разаработке маркетинговых стратегий.\n",
    "\n",
    "Таким образом, тариф Ультра выгоднее для компании \"Мегалайн\", так как в среднем пользователи тарифа Ультра платят больше."
   ]
  }
 ],
 "metadata": {
  "ExecuteTimeLog": [
   {
    "duration": 1853,
    "start_time": "2022-03-30T07:14:28.425Z"
   },
   {
    "duration": 1296,
    "start_time": "2022-03-30T07:16:15.745Z"
   },
   {
    "duration": 101,
    "start_time": "2022-03-30T07:17:14.290Z"
   },
   {
    "duration": 108,
    "start_time": "2022-03-30T07:17:18.771Z"
   },
   {
    "duration": 142,
    "start_time": "2022-03-30T07:17:32.963Z"
   },
   {
    "duration": 19,
    "start_time": "2022-03-30T07:19:57.162Z"
   },
   {
    "duration": 34,
    "start_time": "2022-03-30T07:20:53.633Z"
   },
   {
    "duration": 10,
    "start_time": "2022-03-30T07:21:23.964Z"
   },
   {
    "duration": 129,
    "start_time": "2022-03-30T07:21:34.851Z"
   },
   {
    "duration": 7,
    "start_time": "2022-03-30T07:21:40.899Z"
   },
   {
    "duration": 140,
    "start_time": "2022-03-30T07:28:00.241Z"
   },
   {
    "duration": 28,
    "start_time": "2022-03-30T07:29:31.825Z"
   },
   {
    "duration": 7,
    "start_time": "2022-03-30T07:29:47.865Z"
   },
   {
    "duration": 94,
    "start_time": "2022-03-30T07:30:59.801Z"
   },
   {
    "duration": 26,
    "start_time": "2022-03-30T07:31:34.449Z"
   },
   {
    "duration": 8,
    "start_time": "2022-03-30T07:31:50.101Z"
   },
   {
    "duration": 87,
    "start_time": "2022-03-30T07:32:29.064Z"
   },
   {
    "duration": 62,
    "start_time": "2022-03-30T07:32:48.031Z"
   },
   {
    "duration": 15,
    "start_time": "2022-03-30T07:33:28.912Z"
   },
   {
    "duration": 8,
    "start_time": "2022-03-30T07:34:07.208Z"
   },
   {
    "duration": 15,
    "start_time": "2022-03-30T07:34:20.070Z"
   },
   {
    "duration": 15,
    "start_time": "2022-03-30T07:35:14.096Z"
   },
   {
    "duration": 9,
    "start_time": "2022-03-30T07:35:46.086Z"
   },
   {
    "duration": 15,
    "start_time": "2022-03-30T07:35:58.366Z"
   },
   {
    "duration": 9,
    "start_time": "2022-03-30T07:38:55.443Z"
   },
   {
    "duration": 7,
    "start_time": "2022-03-30T07:39:36.021Z"
   },
   {
    "duration": 1021,
    "start_time": "2022-03-30T07:39:36.031Z"
   },
   {
    "duration": 33,
    "start_time": "2022-03-30T07:39:37.054Z"
   },
   {
    "duration": 15,
    "start_time": "2022-03-30T07:39:37.089Z"
   },
   {
    "duration": 141,
    "start_time": "2022-03-30T07:39:37.106Z"
   },
   {
    "duration": 35,
    "start_time": "2022-03-30T07:39:37.249Z"
   },
   {
    "duration": 12,
    "start_time": "2022-03-30T07:39:37.286Z"
   },
   {
    "duration": 134,
    "start_time": "2022-03-30T07:39:37.301Z"
   },
   {
    "duration": 35,
    "start_time": "2022-03-30T07:39:37.437Z"
   },
   {
    "duration": 11,
    "start_time": "2022-03-30T07:39:37.477Z"
   },
   {
    "duration": 95,
    "start_time": "2022-03-30T07:39:37.491Z"
   },
   {
    "duration": 15,
    "start_time": "2022-03-30T07:39:37.589Z"
   },
   {
    "duration": 19,
    "start_time": "2022-03-30T07:39:37.608Z"
   },
   {
    "duration": 42,
    "start_time": "2022-03-30T07:39:37.630Z"
   },
   {
    "duration": 16,
    "start_time": "2022-03-30T07:39:37.674Z"
   },
   {
    "duration": 7,
    "start_time": "2022-03-30T07:39:37.693Z"
   },
   {
    "duration": 6,
    "start_time": "2022-03-30T07:58:14.698Z"
   },
   {
    "duration": 1113,
    "start_time": "2022-03-30T07:58:14.707Z"
   },
   {
    "duration": 32,
    "start_time": "2022-03-30T07:58:15.823Z"
   },
   {
    "duration": 11,
    "start_time": "2022-03-30T07:58:15.857Z"
   },
   {
    "duration": 143,
    "start_time": "2022-03-30T07:58:15.871Z"
   },
   {
    "duration": 28,
    "start_time": "2022-03-30T07:58:16.017Z"
   },
   {
    "duration": 23,
    "start_time": "2022-03-30T07:58:16.047Z"
   },
   {
    "duration": 116,
    "start_time": "2022-03-30T07:58:16.072Z"
   },
   {
    "duration": 25,
    "start_time": "2022-03-30T07:58:16.191Z"
   },
   {
    "duration": 10,
    "start_time": "2022-03-30T07:58:16.218Z"
   },
   {
    "duration": 92,
    "start_time": "2022-03-30T07:58:16.232Z"
   },
   {
    "duration": 17,
    "start_time": "2022-03-30T07:58:16.327Z"
   },
   {
    "duration": 25,
    "start_time": "2022-03-30T07:58:16.346Z"
   },
   {
    "duration": 16,
    "start_time": "2022-03-30T07:58:16.374Z"
   },
   {
    "duration": 16,
    "start_time": "2022-03-30T07:58:16.393Z"
   },
   {
    "duration": 57,
    "start_time": "2022-03-30T07:58:16.412Z"
   },
   {
    "duration": 98,
    "start_time": "2022-03-30T08:12:26.890Z"
   },
   {
    "duration": 13,
    "start_time": "2022-03-30T08:12:40.306Z"
   },
   {
    "duration": 6,
    "start_time": "2022-03-30T08:13:05.682Z"
   },
   {
    "duration": 545,
    "start_time": "2022-03-30T08:13:19.833Z"
   },
   {
    "duration": 40,
    "start_time": "2022-03-30T08:16:15.737Z"
   },
   {
    "duration": 1521,
    "start_time": "2022-03-30T08:18:19.985Z"
   },
   {
    "duration": 12,
    "start_time": "2022-03-30T08:18:49.660Z"
   },
   {
    "duration": 61,
    "start_time": "2022-03-30T08:19:03.500Z"
   },
   {
    "duration": 455,
    "start_time": "2022-03-30T08:22:09.954Z"
   },
   {
    "duration": 61,
    "start_time": "2022-03-30T08:23:41.018Z"
   },
   {
    "duration": 13,
    "start_time": "2022-03-30T08:23:56.572Z"
   },
   {
    "duration": 448,
    "start_time": "2022-03-30T08:24:08.831Z"
   },
   {
    "duration": 115,
    "start_time": "2022-03-30T08:27:30.299Z"
   },
   {
    "duration": 6,
    "start_time": "2022-03-30T08:27:40.242Z"
   },
   {
    "duration": 7,
    "start_time": "2022-03-30T08:29:04.337Z"
   },
   {
    "duration": 1237,
    "start_time": "2022-03-30T08:29:04.347Z"
   },
   {
    "duration": 34,
    "start_time": "2022-03-30T08:29:05.587Z"
   },
   {
    "duration": 10,
    "start_time": "2022-03-30T08:29:05.623Z"
   },
   {
    "duration": 148,
    "start_time": "2022-03-30T08:29:05.637Z"
   },
   {
    "duration": 31,
    "start_time": "2022-03-30T08:29:05.787Z"
   },
   {
    "duration": 12,
    "start_time": "2022-03-30T08:29:05.821Z"
   },
   {
    "duration": 113,
    "start_time": "2022-03-30T08:29:05.868Z"
   },
   {
    "duration": 25,
    "start_time": "2022-03-30T08:29:05.984Z"
   },
   {
    "duration": 11,
    "start_time": "2022-03-30T08:29:06.011Z"
   },
   {
    "duration": 93,
    "start_time": "2022-03-30T08:29:06.026Z"
   },
   {
    "duration": 99,
    "start_time": "2022-03-30T08:29:06.121Z"
   },
   {
    "duration": 15,
    "start_time": "2022-03-30T08:29:06.222Z"
   },
   {
    "duration": 46,
    "start_time": "2022-03-30T08:29:06.239Z"
   },
   {
    "duration": 15,
    "start_time": "2022-03-30T08:29:06.287Z"
   },
   {
    "duration": 10,
    "start_time": "2022-03-30T08:29:06.305Z"
   },
   {
    "duration": 133,
    "start_time": "2022-03-30T08:29:06.318Z"
   },
   {
    "duration": 26,
    "start_time": "2022-03-30T08:29:06.453Z"
   },
   {
    "duration": 8,
    "start_time": "2022-03-30T08:29:06.482Z"
   },
   {
    "duration": 513,
    "start_time": "2022-03-30T08:29:06.492Z"
   },
   {
    "duration": 88,
    "start_time": "2022-03-30T08:29:07.007Z"
   },
   {
    "duration": 15,
    "start_time": "2022-03-30T08:29:07.097Z"
   },
   {
    "duration": 506,
    "start_time": "2022-03-30T08:29:07.115Z"
   },
   {
    "duration": 72,
    "start_time": "2022-03-30T08:29:07.625Z"
   },
   {
    "duration": 13,
    "start_time": "2022-03-30T08:29:07.699Z"
   },
   {
    "duration": 459,
    "start_time": "2022-03-30T08:29:07.714Z"
   },
   {
    "duration": 7,
    "start_time": "2022-03-30T08:29:08.176Z"
   },
   {
    "duration": 85,
    "start_time": "2022-03-30T08:54:03.319Z"
   },
   {
    "duration": 2175,
    "start_time": "2022-03-30T08:54:15.292Z"
   },
   {
    "duration": 1172,
    "start_time": "2022-03-30T08:54:17.471Z"
   },
   {
    "duration": 49,
    "start_time": "2022-03-30T08:54:18.646Z"
   },
   {
    "duration": 17,
    "start_time": "2022-03-30T08:54:18.698Z"
   },
   {
    "duration": 159,
    "start_time": "2022-03-30T08:54:18.743Z"
   },
   {
    "duration": 41,
    "start_time": "2022-03-30T08:54:18.905Z"
   },
   {
    "duration": 20,
    "start_time": "2022-03-30T08:54:18.950Z"
   },
   {
    "duration": 138,
    "start_time": "2022-03-30T08:54:18.973Z"
   },
   {
    "duration": 38,
    "start_time": "2022-03-30T08:54:19.113Z"
   },
   {
    "duration": 15,
    "start_time": "2022-03-30T08:54:19.156Z"
   },
   {
    "duration": 97,
    "start_time": "2022-03-30T08:54:19.174Z"
   },
   {
    "duration": 21,
    "start_time": "2022-03-30T08:54:19.274Z"
   },
   {
    "duration": 18,
    "start_time": "2022-03-30T08:54:19.298Z"
   },
   {
    "duration": 22,
    "start_time": "2022-03-30T08:54:19.344Z"
   },
   {
    "duration": 35,
    "start_time": "2022-03-30T08:54:19.368Z"
   },
   {
    "duration": 14,
    "start_time": "2022-03-30T08:54:19.406Z"
   },
   {
    "duration": 149,
    "start_time": "2022-03-30T08:54:19.422Z"
   },
   {
    "duration": 15,
    "start_time": "2022-03-30T08:54:19.574Z"
   },
   {
    "duration": 7,
    "start_time": "2022-03-30T08:54:19.592Z"
   },
   {
    "duration": 706,
    "start_time": "2022-03-30T08:54:19.602Z"
   },
   {
    "duration": 97,
    "start_time": "2022-03-30T08:54:20.311Z"
   },
   {
    "duration": 15,
    "start_time": "2022-03-30T08:54:20.411Z"
   },
   {
    "duration": 683,
    "start_time": "2022-03-30T08:54:20.444Z"
   },
   {
    "duration": 100,
    "start_time": "2022-03-30T08:54:21.130Z"
   },
   {
    "duration": 25,
    "start_time": "2022-03-30T08:54:21.232Z"
   },
   {
    "duration": 614,
    "start_time": "2022-03-30T08:54:21.259Z"
   },
   {
    "duration": 7,
    "start_time": "2022-03-30T08:54:21.876Z"
   },
   {
    "duration": 77,
    "start_time": "2022-03-30T08:54:21.888Z"
   },
   {
    "duration": 73,
    "start_time": "2022-03-30T08:54:33.724Z"
   },
   {
    "duration": 56,
    "start_time": "2022-03-30T08:55:00.369Z"
   },
   {
    "duration": 53,
    "start_time": "2022-03-30T08:59:30.919Z"
   },
   {
    "duration": 4827,
    "start_time": "2022-03-30T09:40:51.859Z"
   },
   {
    "duration": 60,
    "start_time": "2022-03-30T09:41:12.804Z"
   },
   {
    "duration": 13,
    "start_time": "2022-03-30T09:41:23.628Z"
   },
   {
    "duration": 60,
    "start_time": "2022-03-30T09:41:37.715Z"
   },
   {
    "duration": 13,
    "start_time": "2022-03-30T09:41:40.154Z"
   },
   {
    "duration": 14,
    "start_time": "2022-03-30T09:41:44.806Z"
   },
   {
    "duration": 56,
    "start_time": "2022-03-30T09:41:49.755Z"
   },
   {
    "duration": 15,
    "start_time": "2022-03-30T09:41:51.706Z"
   },
   {
    "duration": 7,
    "start_time": "2022-03-30T09:41:56.192Z"
   },
   {
    "duration": 1224,
    "start_time": "2022-03-30T09:41:56.201Z"
   },
   {
    "duration": 35,
    "start_time": "2022-03-30T09:41:57.427Z"
   },
   {
    "duration": 12,
    "start_time": "2022-03-30T09:41:57.464Z"
   },
   {
    "duration": 191,
    "start_time": "2022-03-30T09:41:57.480Z"
   },
   {
    "duration": 30,
    "start_time": "2022-03-30T09:41:57.674Z"
   },
   {
    "duration": 38,
    "start_time": "2022-03-30T09:41:57.707Z"
   },
   {
    "duration": 115,
    "start_time": "2022-03-30T09:41:57.747Z"
   },
   {
    "duration": 24,
    "start_time": "2022-03-30T09:41:57.864Z"
   },
   {
    "duration": 10,
    "start_time": "2022-03-30T09:41:57.891Z"
   },
   {
    "duration": 93,
    "start_time": "2022-03-30T09:41:57.905Z"
   },
   {
    "duration": 91,
    "start_time": "2022-03-30T09:41:58.000Z"
   },
   {
    "duration": 13,
    "start_time": "2022-03-30T09:41:58.093Z"
   },
   {
    "duration": 48,
    "start_time": "2022-03-30T09:41:58.108Z"
   },
   {
    "duration": 15,
    "start_time": "2022-03-30T09:41:58.158Z"
   },
   {
    "duration": 7,
    "start_time": "2022-03-30T09:41:58.175Z"
   },
   {
    "duration": 136,
    "start_time": "2022-03-30T09:41:58.184Z"
   },
   {
    "duration": 13,
    "start_time": "2022-03-30T09:41:58.322Z"
   },
   {
    "duration": 7,
    "start_time": "2022-03-30T09:41:58.343Z"
   },
   {
    "duration": 532,
    "start_time": "2022-03-30T09:41:58.352Z"
   },
   {
    "duration": 81,
    "start_time": "2022-03-30T09:41:58.886Z"
   },
   {
    "duration": 14,
    "start_time": "2022-03-30T09:41:58.969Z"
   },
   {
    "duration": 509,
    "start_time": "2022-03-30T09:41:58.985Z"
   },
   {
    "duration": 69,
    "start_time": "2022-03-30T09:41:59.496Z"
   },
   {
    "duration": 12,
    "start_time": "2022-03-30T09:41:59.567Z"
   },
   {
    "duration": 472,
    "start_time": "2022-03-30T09:41:59.581Z"
   },
   {
    "duration": 6,
    "start_time": "2022-03-30T09:42:00.055Z"
   },
   {
    "duration": 66,
    "start_time": "2022-03-30T09:42:00.064Z"
   },
   {
    "duration": 36,
    "start_time": "2022-03-30T09:42:00.144Z"
   },
   {
    "duration": 61,
    "start_time": "2022-03-30T09:42:00.182Z"
   },
   {
    "duration": 70,
    "start_time": "2022-03-30T09:42:48.298Z"
   },
   {
    "duration": 14,
    "start_time": "2022-03-30T09:42:53.387Z"
   },
   {
    "duration": 66,
    "start_time": "2022-03-30T09:43:38.739Z"
   },
   {
    "duration": 14,
    "start_time": "2022-03-30T09:43:41.436Z"
   },
   {
    "duration": 63,
    "start_time": "2022-03-30T09:45:14.403Z"
   },
   {
    "duration": 14,
    "start_time": "2022-03-30T09:45:17.796Z"
   },
   {
    "duration": 69,
    "start_time": "2022-03-30T09:46:38.740Z"
   },
   {
    "duration": 63,
    "start_time": "2022-03-30T09:46:45.510Z"
   },
   {
    "duration": 14,
    "start_time": "2022-03-30T09:46:47.692Z"
   },
   {
    "duration": 7,
    "start_time": "2022-03-30T09:47:19.372Z"
   },
   {
    "duration": 1139,
    "start_time": "2022-03-30T09:47:19.381Z"
   },
   {
    "duration": 37,
    "start_time": "2022-03-30T09:47:20.522Z"
   },
   {
    "duration": 11,
    "start_time": "2022-03-30T09:47:20.561Z"
   },
   {
    "duration": 147,
    "start_time": "2022-03-30T09:47:20.574Z"
   },
   {
    "duration": 40,
    "start_time": "2022-03-30T09:47:20.724Z"
   },
   {
    "duration": 12,
    "start_time": "2022-03-30T09:47:20.766Z"
   },
   {
    "duration": 146,
    "start_time": "2022-03-30T09:47:20.780Z"
   },
   {
    "duration": 31,
    "start_time": "2022-03-30T09:47:20.930Z"
   },
   {
    "duration": 11,
    "start_time": "2022-03-30T09:47:20.963Z"
   },
   {
    "duration": 99,
    "start_time": "2022-03-30T09:47:20.977Z"
   },
   {
    "duration": 21,
    "start_time": "2022-03-30T09:47:21.079Z"
   },
   {
    "duration": 43,
    "start_time": "2022-03-30T09:47:21.103Z"
   },
   {
    "duration": 24,
    "start_time": "2022-03-30T09:47:21.149Z"
   },
   {
    "duration": 18,
    "start_time": "2022-03-30T09:47:21.175Z"
   },
   {
    "duration": 16,
    "start_time": "2022-03-30T09:47:21.196Z"
   },
   {
    "duration": 177,
    "start_time": "2022-03-30T09:47:21.215Z"
   },
   {
    "duration": 19,
    "start_time": "2022-03-30T09:47:21.394Z"
   },
   {
    "duration": 28,
    "start_time": "2022-03-30T09:47:21.415Z"
   },
   {
    "duration": 519,
    "start_time": "2022-03-30T09:47:21.446Z"
   },
   {
    "duration": 92,
    "start_time": "2022-03-30T09:47:21.968Z"
   },
   {
    "duration": 14,
    "start_time": "2022-03-30T09:47:22.062Z"
   },
   {
    "duration": 549,
    "start_time": "2022-03-30T09:47:22.078Z"
   },
   {
    "duration": 68,
    "start_time": "2022-03-30T09:47:22.642Z"
   },
   {
    "duration": 31,
    "start_time": "2022-03-30T09:47:22.713Z"
   },
   {
    "duration": 602,
    "start_time": "2022-03-30T09:47:22.747Z"
   },
   {
    "duration": 6,
    "start_time": "2022-03-30T09:47:23.351Z"
   },
   {
    "duration": 66,
    "start_time": "2022-03-30T09:47:23.359Z"
   },
   {
    "duration": 45,
    "start_time": "2022-03-30T09:47:23.427Z"
   },
   {
    "duration": 39,
    "start_time": "2022-03-30T09:47:23.474Z"
   },
   {
    "duration": 30,
    "start_time": "2022-03-30T09:52:50.302Z"
   },
   {
    "duration": 14,
    "start_time": "2022-03-30T09:53:11.662Z"
   },
   {
    "duration": 170,
    "start_time": "2022-03-31T08:18:32.014Z"
   },
   {
    "duration": 1857,
    "start_time": "2022-03-31T08:18:40.880Z"
   },
   {
    "duration": 1222,
    "start_time": "2022-03-31T08:18:42.741Z"
   },
   {
    "duration": 36,
    "start_time": "2022-03-31T08:18:43.965Z"
   },
   {
    "duration": 34,
    "start_time": "2022-03-31T08:18:44.004Z"
   },
   {
    "duration": 177,
    "start_time": "2022-03-31T08:18:44.040Z"
   },
   {
    "duration": 29,
    "start_time": "2022-03-31T08:18:44.220Z"
   },
   {
    "duration": 36,
    "start_time": "2022-03-31T08:18:44.252Z"
   },
   {
    "duration": 141,
    "start_time": "2022-03-31T08:18:44.290Z"
   },
   {
    "duration": 27,
    "start_time": "2022-03-31T08:18:44.433Z"
   },
   {
    "duration": 26,
    "start_time": "2022-03-31T08:18:44.464Z"
   },
   {
    "duration": 103,
    "start_time": "2022-03-31T08:18:44.493Z"
   },
   {
    "duration": 15,
    "start_time": "2022-03-31T08:18:44.599Z"
   },
   {
    "duration": 35,
    "start_time": "2022-03-31T08:18:44.617Z"
   },
   {
    "duration": 38,
    "start_time": "2022-03-31T08:18:44.655Z"
   },
   {
    "duration": 41,
    "start_time": "2022-03-31T08:18:44.696Z"
   },
   {
    "duration": 46,
    "start_time": "2022-03-31T08:18:44.740Z"
   },
   {
    "duration": 132,
    "start_time": "2022-03-31T08:18:44.788Z"
   },
   {
    "duration": 15,
    "start_time": "2022-03-31T08:18:44.922Z"
   },
   {
    "duration": 45,
    "start_time": "2022-03-31T08:18:44.939Z"
   },
   {
    "duration": 591,
    "start_time": "2022-03-31T08:18:44.986Z"
   },
   {
    "duration": 83,
    "start_time": "2022-03-31T08:18:45.583Z"
   },
   {
    "duration": 27,
    "start_time": "2022-03-31T08:18:45.669Z"
   },
   {
    "duration": 511,
    "start_time": "2022-03-31T08:18:45.699Z"
   },
   {
    "duration": 71,
    "start_time": "2022-03-31T08:18:46.213Z"
   },
   {
    "duration": 14,
    "start_time": "2022-03-31T08:18:46.286Z"
   },
   {
    "duration": 516,
    "start_time": "2022-03-31T08:18:46.302Z"
   },
   {
    "duration": 5,
    "start_time": "2022-03-31T08:18:46.820Z"
   },
   {
    "duration": 80,
    "start_time": "2022-03-31T08:18:46.832Z"
   },
   {
    "duration": 41,
    "start_time": "2022-03-31T08:18:46.915Z"
   },
   {
    "duration": 64,
    "start_time": "2022-03-31T08:18:46.958Z"
   },
   {
    "duration": 174,
    "start_time": "2022-03-31T08:18:47.024Z"
   },
   {
    "duration": 34,
    "start_time": "2022-03-31T08:18:58.610Z"
   },
   {
    "duration": 35,
    "start_time": "2022-03-31T08:26:09.479Z"
   },
   {
    "duration": 34,
    "start_time": "2022-03-31T08:29:00.167Z"
   },
   {
    "duration": 173,
    "start_time": "2022-03-31T08:29:55.205Z"
   },
   {
    "duration": 64,
    "start_time": "2022-03-31T08:32:14.432Z"
   },
   {
    "duration": 36,
    "start_time": "2022-03-31T08:36:22.769Z"
   },
   {
    "duration": 37,
    "start_time": "2022-03-31T08:36:49.495Z"
   },
   {
    "duration": 37,
    "start_time": "2022-03-31T08:37:03.439Z"
   },
   {
    "duration": 1836,
    "start_time": "2022-03-31T08:37:45.269Z"
   },
   {
    "duration": 30,
    "start_time": "2022-03-31T08:37:59.822Z"
   },
   {
    "duration": 40,
    "start_time": "2022-03-31T08:38:19.422Z"
   },
   {
    "duration": 34,
    "start_time": "2022-03-31T08:38:30.966Z"
   },
   {
    "duration": 44,
    "start_time": "2022-03-31T08:38:50.431Z"
   },
   {
    "duration": 48,
    "start_time": "2022-03-31T08:39:08.945Z"
   },
   {
    "duration": 46,
    "start_time": "2022-03-31T08:39:26.026Z"
   },
   {
    "duration": 38,
    "start_time": "2022-03-31T08:39:49.419Z"
   },
   {
    "duration": 33,
    "start_time": "2022-03-31T08:39:56.585Z"
   },
   {
    "duration": 32,
    "start_time": "2022-03-31T08:40:07.273Z"
   },
   {
    "duration": 33,
    "start_time": "2022-03-31T08:41:06.409Z"
   },
   {
    "duration": 5,
    "start_time": "2022-03-31T08:43:20.218Z"
   },
   {
    "duration": 33,
    "start_time": "2022-03-31T08:45:49.195Z"
   },
   {
    "duration": 13,
    "start_time": "2022-03-31T08:46:44.658Z"
   },
   {
    "duration": 22,
    "start_time": "2022-03-31T08:46:51.405Z"
   },
   {
    "duration": 34,
    "start_time": "2022-03-31T08:48:09.912Z"
   },
   {
    "duration": 39,
    "start_time": "2022-03-31T08:48:38.587Z"
   },
   {
    "duration": 40,
    "start_time": "2022-03-31T08:48:48.990Z"
   },
   {
    "duration": 106,
    "start_time": "2022-03-31T08:49:21.292Z"
   },
   {
    "duration": 38,
    "start_time": "2022-03-31T08:50:00.137Z"
   },
   {
    "duration": 35,
    "start_time": "2022-03-31T08:50:18.277Z"
   },
   {
    "duration": 30,
    "start_time": "2022-03-31T08:50:29.485Z"
   },
   {
    "duration": 33,
    "start_time": "2022-03-31T08:50:43.924Z"
   },
   {
    "duration": 31,
    "start_time": "2022-03-31T08:59:04.742Z"
   },
   {
    "duration": 29,
    "start_time": "2022-03-31T08:59:10.044Z"
   },
   {
    "duration": 217,
    "start_time": "2022-03-31T08:59:44.625Z"
   },
   {
    "duration": 97,
    "start_time": "2022-03-31T08:59:56.575Z"
   },
   {
    "duration": 98,
    "start_time": "2022-03-31T09:00:16.132Z"
   },
   {
    "duration": 23,
    "start_time": "2022-03-31T09:00:21.133Z"
   },
   {
    "duration": 22,
    "start_time": "2022-03-31T09:00:33.418Z"
   },
   {
    "duration": 23,
    "start_time": "2022-03-31T09:02:09.163Z"
   },
   {
    "duration": 7,
    "start_time": "2022-03-31T09:02:14.126Z"
   },
   {
    "duration": 19,
    "start_time": "2022-03-31T09:02:44.320Z"
   },
   {
    "duration": 19,
    "start_time": "2022-03-31T09:03:44.415Z"
   },
   {
    "duration": 18,
    "start_time": "2022-03-31T09:06:17.967Z"
   },
   {
    "duration": 6,
    "start_time": "2022-03-31T09:06:20.764Z"
   },
   {
    "duration": 1063,
    "start_time": "2022-03-31T09:06:20.772Z"
   },
   {
    "duration": 34,
    "start_time": "2022-03-31T09:06:21.837Z"
   },
   {
    "duration": 12,
    "start_time": "2022-03-31T09:06:21.873Z"
   },
   {
    "duration": 150,
    "start_time": "2022-03-31T09:06:21.888Z"
   },
   {
    "duration": 30,
    "start_time": "2022-03-31T09:06:22.041Z"
   },
   {
    "duration": 13,
    "start_time": "2022-03-31T09:06:22.085Z"
   },
   {
    "duration": 140,
    "start_time": "2022-03-31T09:06:22.100Z"
   },
   {
    "duration": 42,
    "start_time": "2022-03-31T09:06:22.242Z"
   },
   {
    "duration": 11,
    "start_time": "2022-03-31T09:06:22.287Z"
   },
   {
    "duration": 89,
    "start_time": "2022-03-31T09:06:22.303Z"
   },
   {
    "duration": 15,
    "start_time": "2022-03-31T09:06:22.395Z"
   },
   {
    "duration": 13,
    "start_time": "2022-03-31T09:06:22.413Z"
   },
   {
    "duration": 22,
    "start_time": "2022-03-31T09:06:22.428Z"
   },
   {
    "duration": 14,
    "start_time": "2022-03-31T09:06:22.485Z"
   },
   {
    "duration": 9,
    "start_time": "2022-03-31T09:06:22.501Z"
   },
   {
    "duration": 125,
    "start_time": "2022-03-31T09:06:22.512Z"
   },
   {
    "duration": 13,
    "start_time": "2022-03-31T09:06:22.639Z"
   },
   {
    "duration": 8,
    "start_time": "2022-03-31T09:06:22.654Z"
   },
   {
    "duration": 517,
    "start_time": "2022-03-31T09:06:22.684Z"
   },
   {
    "duration": 89,
    "start_time": "2022-03-31T09:06:23.204Z"
   },
   {
    "duration": 13,
    "start_time": "2022-03-31T09:06:23.295Z"
   },
   {
    "duration": 504,
    "start_time": "2022-03-31T09:06:23.310Z"
   },
   {
    "duration": 85,
    "start_time": "2022-03-31T09:06:23.817Z"
   },
   {
    "duration": 17,
    "start_time": "2022-03-31T09:06:23.904Z"
   },
   {
    "duration": 492,
    "start_time": "2022-03-31T09:06:23.924Z"
   },
   {
    "duration": 6,
    "start_time": "2022-03-31T09:06:24.419Z"
   },
   {
    "duration": 59,
    "start_time": "2022-03-31T09:06:24.427Z"
   },
   {
    "duration": 33,
    "start_time": "2022-03-31T09:06:24.491Z"
   },
   {
    "duration": 33,
    "start_time": "2022-03-31T09:06:24.526Z"
   },
   {
    "duration": 223,
    "start_time": "2022-03-31T09:06:24.583Z"
   },
   {
    "duration": 25,
    "start_time": "2022-03-31T09:06:24.808Z"
   },
   {
    "duration": 7,
    "start_time": "2022-03-31T09:06:24.836Z"
   },
   {
    "duration": 39,
    "start_time": "2022-03-31T09:06:24.845Z"
   },
   {
    "duration": 19,
    "start_time": "2022-03-31T09:07:01.978Z"
   },
   {
    "duration": 7,
    "start_time": "2022-03-31T09:07:13.226Z"
   },
   {
    "duration": 1240,
    "start_time": "2022-03-31T09:07:13.236Z"
   },
   {
    "duration": 35,
    "start_time": "2022-03-31T09:07:14.478Z"
   },
   {
    "duration": 12,
    "start_time": "2022-03-31T09:07:14.516Z"
   },
   {
    "duration": 161,
    "start_time": "2022-03-31T09:07:14.530Z"
   },
   {
    "duration": 31,
    "start_time": "2022-03-31T09:07:14.693Z"
   },
   {
    "duration": 13,
    "start_time": "2022-03-31T09:07:14.726Z"
   },
   {
    "duration": 151,
    "start_time": "2022-03-31T09:07:14.741Z"
   },
   {
    "duration": 26,
    "start_time": "2022-03-31T09:07:14.894Z"
   },
   {
    "duration": 11,
    "start_time": "2022-03-31T09:07:14.924Z"
   },
   {
    "duration": 101,
    "start_time": "2022-03-31T09:07:14.937Z"
   },
   {
    "duration": 16,
    "start_time": "2022-03-31T09:07:15.041Z"
   },
   {
    "duration": 33,
    "start_time": "2022-03-31T09:07:15.059Z"
   },
   {
    "duration": 37,
    "start_time": "2022-03-31T09:07:15.094Z"
   },
   {
    "duration": 18,
    "start_time": "2022-03-31T09:07:15.133Z"
   },
   {
    "duration": 13,
    "start_time": "2022-03-31T09:07:15.154Z"
   },
   {
    "duration": 116,
    "start_time": "2022-03-31T09:07:15.184Z"
   },
   {
    "duration": 13,
    "start_time": "2022-03-31T09:07:15.302Z"
   },
   {
    "duration": 8,
    "start_time": "2022-03-31T09:07:15.318Z"
   },
   {
    "duration": 513,
    "start_time": "2022-03-31T09:07:15.328Z"
   },
   {
    "duration": 88,
    "start_time": "2022-03-31T09:07:15.844Z"
   },
   {
    "duration": 13,
    "start_time": "2022-03-31T09:07:15.935Z"
   },
   {
    "duration": 498,
    "start_time": "2022-03-31T09:07:15.950Z"
   },
   {
    "duration": 71,
    "start_time": "2022-03-31T09:07:16.450Z"
   },
   {
    "duration": 13,
    "start_time": "2022-03-31T09:07:16.523Z"
   },
   {
    "duration": 495,
    "start_time": "2022-03-31T09:07:16.538Z"
   },
   {
    "duration": 6,
    "start_time": "2022-03-31T09:07:17.035Z"
   },
   {
    "duration": 55,
    "start_time": "2022-03-31T09:07:17.045Z"
   },
   {
    "duration": 34,
    "start_time": "2022-03-31T09:07:17.102Z"
   },
   {
    "duration": 58,
    "start_time": "2022-03-31T09:07:17.138Z"
   },
   {
    "duration": 234,
    "start_time": "2022-03-31T09:07:17.198Z"
   },
   {
    "duration": 22,
    "start_time": "2022-03-31T09:07:17.434Z"
   },
   {
    "duration": 38,
    "start_time": "2022-03-31T09:07:17.458Z"
   },
   {
    "duration": 6,
    "start_time": "2022-03-31T09:07:17.499Z"
   },
   {
    "duration": 18,
    "start_time": "2022-03-31T09:07:44.055Z"
   },
   {
    "duration": 13,
    "start_time": "2022-03-31T09:08:15.207Z"
   },
   {
    "duration": 7,
    "start_time": "2022-03-31T09:08:41.609Z"
   },
   {
    "duration": 947,
    "start_time": "2022-03-31T09:08:41.619Z"
   },
   {
    "duration": 35,
    "start_time": "2022-03-31T09:08:42.569Z"
   },
   {
    "duration": 12,
    "start_time": "2022-03-31T09:08:42.607Z"
   },
   {
    "duration": 151,
    "start_time": "2022-03-31T09:08:42.621Z"
   },
   {
    "duration": 33,
    "start_time": "2022-03-31T09:08:42.774Z"
   },
   {
    "duration": 11,
    "start_time": "2022-03-31T09:08:42.809Z"
   },
   {
    "duration": 138,
    "start_time": "2022-03-31T09:08:42.822Z"
   },
   {
    "duration": 34,
    "start_time": "2022-03-31T09:08:42.963Z"
   },
   {
    "duration": 10,
    "start_time": "2022-03-31T09:08:42.999Z"
   },
   {
    "duration": 93,
    "start_time": "2022-03-31T09:08:43.011Z"
   },
   {
    "duration": 16,
    "start_time": "2022-03-31T09:08:43.106Z"
   },
   {
    "duration": 15,
    "start_time": "2022-03-31T09:08:43.124Z"
   },
   {
    "duration": 44,
    "start_time": "2022-03-31T09:08:43.141Z"
   },
   {
    "duration": 18,
    "start_time": "2022-03-31T09:08:43.188Z"
   },
   {
    "duration": 10,
    "start_time": "2022-03-31T09:08:43.208Z"
   },
   {
    "duration": 126,
    "start_time": "2022-03-31T09:08:43.220Z"
   },
   {
    "duration": 14,
    "start_time": "2022-03-31T09:08:43.348Z"
   },
   {
    "duration": 20,
    "start_time": "2022-03-31T09:08:43.364Z"
   },
   {
    "duration": 541,
    "start_time": "2022-03-31T09:08:43.386Z"
   },
   {
    "duration": 89,
    "start_time": "2022-03-31T09:08:43.929Z"
   },
   {
    "duration": 15,
    "start_time": "2022-03-31T09:08:44.021Z"
   },
   {
    "duration": 480,
    "start_time": "2022-03-31T09:08:44.038Z"
   },
   {
    "duration": 76,
    "start_time": "2022-03-31T09:08:44.523Z"
   },
   {
    "duration": 14,
    "start_time": "2022-03-31T09:08:44.601Z"
   },
   {
    "duration": 503,
    "start_time": "2022-03-31T09:08:44.617Z"
   },
   {
    "duration": 6,
    "start_time": "2022-03-31T09:08:45.122Z"
   },
   {
    "duration": 58,
    "start_time": "2022-03-31T09:08:45.131Z"
   },
   {
    "duration": 34,
    "start_time": "2022-03-31T09:08:45.192Z"
   },
   {
    "duration": 56,
    "start_time": "2022-03-31T09:08:45.229Z"
   },
   {
    "duration": 234,
    "start_time": "2022-03-31T09:08:45.288Z"
   },
   {
    "duration": 22,
    "start_time": "2022-03-31T09:08:45.524Z"
   },
   {
    "duration": 39,
    "start_time": "2022-03-31T09:08:45.548Z"
   },
   {
    "duration": 13,
    "start_time": "2022-03-31T09:08:45.589Z"
   },
   {
    "duration": 17,
    "start_time": "2022-03-31T09:08:45.604Z"
   },
   {
    "duration": 13,
    "start_time": "2022-03-31T09:08:54.040Z"
   },
   {
    "duration": 24,
    "start_time": "2022-03-31T09:09:37.404Z"
   },
   {
    "duration": 30,
    "start_time": "2022-03-31T09:10:15.916Z"
   },
   {
    "duration": 31,
    "start_time": "2022-03-31T09:10:38.687Z"
   },
   {
    "duration": 21,
    "start_time": "2022-03-31T09:10:48.561Z"
   },
   {
    "duration": 103,
    "start_time": "2022-03-31T09:13:20.378Z"
   },
   {
    "duration": 9,
    "start_time": "2022-03-31T09:13:23.690Z"
   },
   {
    "duration": 8,
    "start_time": "2022-03-31T09:14:55.655Z"
   },
   {
    "duration": 24,
    "start_time": "2022-03-31T09:15:01.669Z"
   },
   {
    "duration": 26,
    "start_time": "2022-03-31T09:15:20.402Z"
   },
   {
    "duration": 24,
    "start_time": "2022-03-31T09:15:38.027Z"
   },
   {
    "duration": 21,
    "start_time": "2022-03-31T09:15:48.465Z"
   },
   {
    "duration": 21,
    "start_time": "2022-03-31T09:16:38.704Z"
   },
   {
    "duration": 12,
    "start_time": "2022-03-31T09:16:41.268Z"
   },
   {
    "duration": 12,
    "start_time": "2022-03-31T09:16:53.842Z"
   },
   {
    "duration": 14,
    "start_time": "2022-03-31T09:17:11.623Z"
   },
   {
    "duration": 8,
    "start_time": "2022-03-31T09:17:59.021Z"
   },
   {
    "duration": 9,
    "start_time": "2022-03-31T09:18:01.955Z"
   },
   {
    "duration": 122,
    "start_time": "2022-03-31T09:18:26.180Z"
   },
   {
    "duration": 240,
    "start_time": "2022-03-31T09:18:29.879Z"
   },
   {
    "duration": 244,
    "start_time": "2022-03-31T09:20:50.363Z"
   },
   {
    "duration": 6,
    "start_time": "2022-03-31T09:22:13.865Z"
   },
   {
    "duration": 382,
    "start_time": "2022-03-31T09:24:20.421Z"
   },
   {
    "duration": 20,
    "start_time": "2022-03-31T14:05:01.835Z"
   },
   {
    "duration": 66,
    "start_time": "2022-03-31T14:05:56.922Z"
   },
   {
    "duration": 1873,
    "start_time": "2022-03-31T14:06:01.782Z"
   },
   {
    "duration": 1065,
    "start_time": "2022-03-31T14:06:03.658Z"
   },
   {
    "duration": 38,
    "start_time": "2022-03-31T14:06:04.725Z"
   },
   {
    "duration": 17,
    "start_time": "2022-03-31T14:06:04.766Z"
   },
   {
    "duration": 161,
    "start_time": "2022-03-31T14:06:04.785Z"
   },
   {
    "duration": 37,
    "start_time": "2022-03-31T14:06:04.949Z"
   },
   {
    "duration": 11,
    "start_time": "2022-03-31T14:06:04.989Z"
   },
   {
    "duration": 142,
    "start_time": "2022-03-31T14:06:05.003Z"
   },
   {
    "duration": 36,
    "start_time": "2022-03-31T14:06:05.148Z"
   },
   {
    "duration": 12,
    "start_time": "2022-03-31T14:06:05.188Z"
   },
   {
    "duration": 98,
    "start_time": "2022-03-31T14:06:05.202Z"
   },
   {
    "duration": 16,
    "start_time": "2022-03-31T14:06:05.302Z"
   },
   {
    "duration": 15,
    "start_time": "2022-03-31T14:06:05.320Z"
   },
   {
    "duration": 17,
    "start_time": "2022-03-31T14:06:05.337Z"
   },
   {
    "duration": 15,
    "start_time": "2022-03-31T14:06:05.384Z"
   },
   {
    "duration": 13,
    "start_time": "2022-03-31T14:06:05.401Z"
   },
   {
    "duration": 125,
    "start_time": "2022-03-31T14:06:05.416Z"
   },
   {
    "duration": 13,
    "start_time": "2022-03-31T14:06:05.543Z"
   },
   {
    "duration": 7,
    "start_time": "2022-03-31T14:06:05.558Z"
   },
   {
    "duration": 573,
    "start_time": "2022-03-31T14:06:05.584Z"
   },
   {
    "duration": 83,
    "start_time": "2022-03-31T14:06:06.160Z"
   },
   {
    "duration": 17,
    "start_time": "2022-03-31T14:06:06.245Z"
   },
   {
    "duration": 472,
    "start_time": "2022-03-31T14:06:06.283Z"
   },
   {
    "duration": 72,
    "start_time": "2022-03-31T14:06:06.757Z"
   },
   {
    "duration": 13,
    "start_time": "2022-03-31T14:06:06.832Z"
   },
   {
    "duration": 473,
    "start_time": "2022-03-31T14:06:06.847Z"
   },
   {
    "duration": 6,
    "start_time": "2022-03-31T14:06:07.322Z"
   },
   {
    "duration": 59,
    "start_time": "2022-03-31T14:06:07.333Z"
   },
   {
    "duration": 36,
    "start_time": "2022-03-31T14:06:07.394Z"
   },
   {
    "duration": 52,
    "start_time": "2022-03-31T14:06:07.433Z"
   },
   {
    "duration": 221,
    "start_time": "2022-03-31T14:06:07.487Z"
   },
   {
    "duration": 23,
    "start_time": "2022-03-31T14:06:07.710Z"
   },
   {
    "duration": 18,
    "start_time": "2022-03-31T14:06:07.736Z"
   },
   {
    "duration": 12,
    "start_time": "2022-03-31T14:06:07.784Z"
   },
   {
    "duration": 39,
    "start_time": "2022-03-31T14:06:07.798Z"
   },
   {
    "duration": 10,
    "start_time": "2022-03-31T14:06:07.839Z"
   },
   {
    "duration": 37,
    "start_time": "2022-03-31T14:06:07.851Z"
   },
   {
    "duration": 33,
    "start_time": "2022-03-31T14:06:07.890Z"
   },
   {
    "duration": 33,
    "start_time": "2022-03-31T14:06:07.925Z"
   },
   {
    "duration": 17,
    "start_time": "2022-03-31T14:06:07.960Z"
   },
   {
    "duration": 251,
    "start_time": "2022-03-31T14:06:07.980Z"
   },
   {
    "duration": 9,
    "start_time": "2022-03-31T14:06:08.234Z"
   },
   {
    "duration": 108,
    "start_time": "2022-03-31T14:06:08.246Z"
   },
   {
    "duration": 225,
    "start_time": "2022-03-31T14:06:53.788Z"
   },
   {
    "duration": 388,
    "start_time": "2022-03-31T14:07:01.651Z"
   },
   {
    "duration": 12,
    "start_time": "2022-03-31T14:08:02.141Z"
   },
   {
    "duration": 696,
    "start_time": "2022-03-31T14:08:06.731Z"
   },
   {
    "duration": 356,
    "start_time": "2022-03-31T14:10:02.250Z"
   },
   {
    "duration": 697,
    "start_time": "2022-03-31T14:10:20.924Z"
   },
   {
    "duration": 710,
    "start_time": "2022-03-31T14:11:08.063Z"
   },
   {
    "duration": 741,
    "start_time": "2022-03-31T14:11:22.213Z"
   },
   {
    "duration": 358,
    "start_time": "2022-03-31T14:12:05.166Z"
   },
   {
    "duration": 675,
    "start_time": "2022-03-31T14:12:28.775Z"
   },
   {
    "duration": 674,
    "start_time": "2022-03-31T14:12:52.613Z"
   },
   {
    "duration": 686,
    "start_time": "2022-03-31T14:13:27.597Z"
   },
   {
    "duration": 44,
    "start_time": "2022-04-01T03:19:04.237Z"
   },
   {
    "duration": 6,
    "start_time": "2022-04-01T03:20:53.624Z"
   },
   {
    "duration": 1300,
    "start_time": "2022-04-01T03:20:58.960Z"
   },
   {
    "duration": 3040,
    "start_time": "2022-04-01T03:21:00.262Z"
   },
   {
    "duration": 27,
    "start_time": "2022-04-01T03:21:03.304Z"
   },
   {
    "duration": 11,
    "start_time": "2022-04-01T03:21:03.333Z"
   },
   {
    "duration": 89,
    "start_time": "2022-04-01T03:21:03.346Z"
   },
   {
    "duration": 22,
    "start_time": "2022-04-01T03:21:03.437Z"
   },
   {
    "duration": 22,
    "start_time": "2022-04-01T03:21:03.460Z"
   },
   {
    "duration": 51,
    "start_time": "2022-04-01T03:21:03.484Z"
   },
   {
    "duration": 18,
    "start_time": "2022-04-01T03:21:03.537Z"
   },
   {
    "duration": 8,
    "start_time": "2022-04-01T03:21:03.580Z"
   },
   {
    "duration": 40,
    "start_time": "2022-04-01T03:21:03.590Z"
   },
   {
    "duration": 10,
    "start_time": "2022-04-01T03:21:03.631Z"
   },
   {
    "duration": 8,
    "start_time": "2022-04-01T03:21:03.643Z"
   },
   {
    "duration": 34,
    "start_time": "2022-04-01T03:21:03.653Z"
   },
   {
    "duration": 9,
    "start_time": "2022-04-01T03:21:03.689Z"
   },
   {
    "duration": 8,
    "start_time": "2022-04-01T03:21:03.699Z"
   },
   {
    "duration": 89,
    "start_time": "2022-04-01T03:21:03.708Z"
   },
   {
    "duration": 8,
    "start_time": "2022-04-01T03:21:03.799Z"
   },
   {
    "duration": 5,
    "start_time": "2022-04-01T03:21:03.809Z"
   },
   {
    "duration": 417,
    "start_time": "2022-04-01T03:21:03.815Z"
   },
   {
    "duration": 56,
    "start_time": "2022-04-01T03:21:04.234Z"
   },
   {
    "duration": 9,
    "start_time": "2022-04-01T03:21:04.292Z"
   },
   {
    "duration": 298,
    "start_time": "2022-04-01T03:21:04.302Z"
   },
   {
    "duration": 42,
    "start_time": "2022-04-01T03:21:04.601Z"
   },
   {
    "duration": 7,
    "start_time": "2022-04-01T03:21:04.645Z"
   },
   {
    "duration": 311,
    "start_time": "2022-04-01T03:21:04.654Z"
   },
   {
    "duration": 3,
    "start_time": "2022-04-01T03:21:04.967Z"
   },
   {
    "duration": 29,
    "start_time": "2022-04-01T03:21:04.983Z"
   },
   {
    "duration": 22,
    "start_time": "2022-04-01T03:21:05.013Z"
   },
   {
    "duration": 20,
    "start_time": "2022-04-01T03:21:05.037Z"
   },
   {
    "duration": 167,
    "start_time": "2022-04-01T03:21:05.058Z"
   },
   {
    "duration": 13,
    "start_time": "2022-04-01T03:21:05.226Z"
   },
   {
    "duration": 10,
    "start_time": "2022-04-01T03:21:05.240Z"
   },
   {
    "duration": 29,
    "start_time": "2022-04-01T03:21:05.252Z"
   },
   {
    "duration": 15,
    "start_time": "2022-04-01T03:21:05.282Z"
   },
   {
    "duration": 5,
    "start_time": "2022-04-01T03:21:05.298Z"
   },
   {
    "duration": 11,
    "start_time": "2022-04-01T03:21:05.305Z"
   },
   {
    "duration": 9,
    "start_time": "2022-04-01T03:21:05.317Z"
   },
   {
    "duration": 6,
    "start_time": "2022-04-01T03:21:05.328Z"
   },
   {
    "duration": 4,
    "start_time": "2022-04-01T03:21:05.336Z"
   },
   {
    "duration": 153,
    "start_time": "2022-04-01T03:21:05.342Z"
   },
   {
    "duration": 5,
    "start_time": "2022-04-01T03:21:05.497Z"
   },
   {
    "duration": 190,
    "start_time": "2022-04-01T03:21:05.504Z"
   },
   {
    "duration": 472,
    "start_time": "2022-04-01T03:21:05.696Z"
   },
   {
    "duration": 182,
    "start_time": "2022-04-01T03:21:06.169Z"
   },
   {
    "duration": 408,
    "start_time": "2022-04-01T03:21:06.352Z"
   },
   {
    "duration": 189,
    "start_time": "2022-04-01T03:21:06.761Z"
   },
   {
    "duration": 403,
    "start_time": "2022-04-01T03:21:06.951Z"
   },
   {
    "duration": 8,
    "start_time": "2022-04-01T03:21:07.355Z"
   },
   {
    "duration": 7,
    "start_time": "2022-04-01T03:23:04.276Z"
   },
   {
    "duration": 7,
    "start_time": "2022-04-01T03:23:07.616Z"
   },
   {
    "duration": 520,
    "start_time": "2022-04-01T03:33:19.541Z"
   },
   {
    "duration": 441,
    "start_time": "2022-04-01T03:38:01.654Z"
   },
   {
    "duration": 467,
    "start_time": "2022-04-01T03:38:42.608Z"
   },
   {
    "duration": 444,
    "start_time": "2022-04-01T03:42:26.902Z"
   },
   {
    "duration": 59,
    "start_time": "2022-04-01T03:42:50.885Z"
   },
   {
    "duration": 410,
    "start_time": "2022-04-01T03:44:05.780Z"
   },
   {
    "duration": 413,
    "start_time": "2022-04-01T03:44:38.761Z"
   },
   {
    "duration": 7,
    "start_time": "2022-04-01T03:52:39.114Z"
   },
   {
    "duration": 4,
    "start_time": "2022-04-01T03:53:10.084Z"
   },
   {
    "duration": 2910,
    "start_time": "2022-04-01T03:53:10.090Z"
   },
   {
    "duration": 24,
    "start_time": "2022-04-01T03:53:13.001Z"
   },
   {
    "duration": 7,
    "start_time": "2022-04-01T03:53:13.026Z"
   },
   {
    "duration": 77,
    "start_time": "2022-04-01T03:53:13.035Z"
   },
   {
    "duration": 21,
    "start_time": "2022-04-01T03:53:13.113Z"
   },
   {
    "duration": 7,
    "start_time": "2022-04-01T03:53:13.135Z"
   },
   {
    "duration": 68,
    "start_time": "2022-04-01T03:53:13.143Z"
   },
   {
    "duration": 18,
    "start_time": "2022-04-01T03:53:13.212Z"
   },
   {
    "duration": 8,
    "start_time": "2022-04-01T03:53:13.231Z"
   },
   {
    "duration": 49,
    "start_time": "2022-04-01T03:53:13.240Z"
   },
   {
    "duration": 108,
    "start_time": "2022-04-01T03:53:13.291Z"
   },
   {
    "duration": 7,
    "start_time": "2022-04-01T03:53:13.401Z"
   },
   {
    "duration": 10,
    "start_time": "2022-04-01T03:53:13.410Z"
   },
   {
    "duration": 11,
    "start_time": "2022-04-01T03:53:13.421Z"
   },
   {
    "duration": 6,
    "start_time": "2022-04-01T03:53:13.433Z"
   },
   {
    "duration": 91,
    "start_time": "2022-04-01T03:53:13.440Z"
   },
   {
    "duration": 8,
    "start_time": "2022-04-01T03:53:13.533Z"
   },
   {
    "duration": 6,
    "start_time": "2022-04-01T03:53:13.542Z"
   },
   {
    "duration": 344,
    "start_time": "2022-04-01T03:53:13.549Z"
   },
   {
    "duration": 49,
    "start_time": "2022-04-01T03:53:13.894Z"
   },
   {
    "duration": 8,
    "start_time": "2022-04-01T03:53:13.945Z"
   },
   {
    "duration": 338,
    "start_time": "2022-04-01T03:53:13.955Z"
   },
   {
    "duration": 39,
    "start_time": "2022-04-01T03:53:14.294Z"
   },
   {
    "duration": 7,
    "start_time": "2022-04-01T03:53:14.335Z"
   },
   {
    "duration": 341,
    "start_time": "2022-04-01T03:53:14.343Z"
   },
   {
    "duration": 4,
    "start_time": "2022-04-01T03:53:14.685Z"
   },
   {
    "duration": 32,
    "start_time": "2022-04-01T03:53:14.691Z"
   },
   {
    "duration": 22,
    "start_time": "2022-04-01T03:53:14.724Z"
   },
   {
    "duration": 35,
    "start_time": "2022-04-01T03:53:14.747Z"
   },
   {
    "duration": 81,
    "start_time": "2022-04-01T03:53:14.784Z"
   },
   {
    "duration": 26,
    "start_time": "2022-04-01T03:53:14.866Z"
   },
   {
    "duration": 10,
    "start_time": "2022-04-01T03:53:14.894Z"
   },
   {
    "duration": 11,
    "start_time": "2022-04-01T03:53:14.905Z"
   },
   {
    "duration": 15,
    "start_time": "2022-04-01T03:53:14.917Z"
   },
   {
    "duration": 5,
    "start_time": "2022-04-01T03:53:14.933Z"
   },
   {
    "duration": 11,
    "start_time": "2022-04-01T03:53:14.940Z"
   },
   {
    "duration": 10,
    "start_time": "2022-04-01T03:53:14.980Z"
   },
   {
    "duration": 6,
    "start_time": "2022-04-01T03:53:14.992Z"
   },
   {
    "duration": 5,
    "start_time": "2022-04-01T03:53:14.999Z"
   },
   {
    "duration": 133,
    "start_time": "2022-04-01T03:53:15.008Z"
   },
   {
    "duration": 6,
    "start_time": "2022-04-01T03:53:15.143Z"
   },
   {
    "duration": 196,
    "start_time": "2022-04-01T03:53:15.151Z"
   },
   {
    "duration": 522,
    "start_time": "2022-04-01T03:53:15.348Z"
   },
   {
    "duration": 184,
    "start_time": "2022-04-01T03:53:15.872Z"
   },
   {
    "duration": 420,
    "start_time": "2022-04-01T03:53:16.058Z"
   },
   {
    "duration": 185,
    "start_time": "2022-04-01T03:53:16.480Z"
   },
   {
    "duration": 393,
    "start_time": "2022-04-01T03:53:16.666Z"
   },
   {
    "duration": 8,
    "start_time": "2022-04-01T03:53:17.060Z"
   },
   {
    "duration": 16,
    "start_time": "2022-04-01T03:53:17.069Z"
   },
   {
    "duration": 122,
    "start_time": "2022-04-01T04:12:23.081Z"
   },
   {
    "duration": 8,
    "start_time": "2022-04-01T04:14:11.384Z"
   },
   {
    "duration": 8,
    "start_time": "2022-04-01T04:14:35.542Z"
   },
   {
    "duration": 8,
    "start_time": "2022-04-01T04:14:45.006Z"
   },
   {
    "duration": 9,
    "start_time": "2022-04-01T04:15:20.855Z"
   },
   {
    "duration": 4,
    "start_time": "2022-04-01T04:15:33.312Z"
   },
   {
    "duration": 2586,
    "start_time": "2022-04-01T04:15:33.318Z"
   },
   {
    "duration": 23,
    "start_time": "2022-04-01T04:15:35.906Z"
   },
   {
    "duration": 7,
    "start_time": "2022-04-01T04:15:35.931Z"
   },
   {
    "duration": 81,
    "start_time": "2022-04-01T04:15:35.939Z"
   },
   {
    "duration": 21,
    "start_time": "2022-04-01T04:15:36.021Z"
   },
   {
    "duration": 8,
    "start_time": "2022-04-01T04:15:36.044Z"
   },
   {
    "duration": 65,
    "start_time": "2022-04-01T04:15:36.053Z"
   },
   {
    "duration": 17,
    "start_time": "2022-04-01T04:15:36.121Z"
   },
   {
    "duration": 6,
    "start_time": "2022-04-01T04:15:36.140Z"
   },
   {
    "duration": 57,
    "start_time": "2022-04-01T04:15:36.148Z"
   },
   {
    "duration": 11,
    "start_time": "2022-04-01T04:15:36.207Z"
   },
   {
    "duration": 10,
    "start_time": "2022-04-01T04:15:36.219Z"
   },
   {
    "duration": 10,
    "start_time": "2022-04-01T04:15:36.230Z"
   },
   {
    "duration": 11,
    "start_time": "2022-04-01T04:15:36.242Z"
   },
   {
    "duration": 27,
    "start_time": "2022-04-01T04:15:36.254Z"
   },
   {
    "duration": 67,
    "start_time": "2022-04-01T04:15:36.282Z"
   },
   {
    "duration": 8,
    "start_time": "2022-04-01T04:15:36.350Z"
   },
   {
    "duration": 8,
    "start_time": "2022-04-01T04:15:36.360Z"
   },
   {
    "duration": 307,
    "start_time": "2022-04-01T04:15:36.381Z"
   },
   {
    "duration": 49,
    "start_time": "2022-04-01T04:15:36.690Z"
   },
   {
    "duration": 8,
    "start_time": "2022-04-01T04:15:36.740Z"
   },
   {
    "duration": 334,
    "start_time": "2022-04-01T04:15:36.749Z"
   },
   {
    "duration": 41,
    "start_time": "2022-04-01T04:15:37.086Z"
   },
   {
    "duration": 8,
    "start_time": "2022-04-01T04:15:37.128Z"
   },
   {
    "duration": 319,
    "start_time": "2022-04-01T04:15:37.138Z"
   },
   {
    "duration": 5,
    "start_time": "2022-04-01T04:15:37.458Z"
   },
   {
    "duration": 36,
    "start_time": "2022-04-01T04:15:37.464Z"
   },
   {
    "duration": 20,
    "start_time": "2022-04-01T04:15:37.502Z"
   },
   {
    "duration": 20,
    "start_time": "2022-04-01T04:15:37.524Z"
   },
   {
    "duration": 194,
    "start_time": "2022-04-01T04:15:37.545Z"
   },
   {
    "duration": 13,
    "start_time": "2022-04-01T04:15:37.741Z"
   },
   {
    "duration": 27,
    "start_time": "2022-04-01T04:15:37.756Z"
   },
   {
    "duration": 7,
    "start_time": "2022-04-01T04:15:37.785Z"
   },
   {
    "duration": 15,
    "start_time": "2022-04-01T04:15:37.794Z"
   },
   {
    "duration": 5,
    "start_time": "2022-04-01T04:15:37.811Z"
   },
   {
    "duration": 11,
    "start_time": "2022-04-01T04:15:37.818Z"
   },
   {
    "duration": 10,
    "start_time": "2022-04-01T04:15:37.830Z"
   },
   {
    "duration": 44,
    "start_time": "2022-04-01T04:15:37.842Z"
   },
   {
    "duration": 5,
    "start_time": "2022-04-01T04:15:37.888Z"
   },
   {
    "duration": 127,
    "start_time": "2022-04-01T04:15:37.895Z"
   },
   {
    "duration": 8,
    "start_time": "2022-04-01T04:15:38.023Z"
   },
   {
    "duration": 0,
    "start_time": "2022-04-01T04:15:38.032Z"
   },
   {
    "duration": 0,
    "start_time": "2022-04-01T04:15:38.034Z"
   },
   {
    "duration": 0,
    "start_time": "2022-04-01T04:15:38.035Z"
   },
   {
    "duration": 0,
    "start_time": "2022-04-01T04:15:38.035Z"
   },
   {
    "duration": 0,
    "start_time": "2022-04-01T04:15:38.037Z"
   },
   {
    "duration": 0,
    "start_time": "2022-04-01T04:15:38.038Z"
   },
   {
    "duration": 0,
    "start_time": "2022-04-01T04:15:38.039Z"
   },
   {
    "duration": 0,
    "start_time": "2022-04-01T04:15:38.040Z"
   },
   {
    "duration": 0,
    "start_time": "2022-04-01T04:15:38.041Z"
   },
   {
    "duration": 5,
    "start_time": "2022-04-01T04:23:35.340Z"
   },
   {
    "duration": 6,
    "start_time": "2022-04-01T04:25:00.328Z"
   },
   {
    "duration": 22,
    "start_time": "2022-04-01T04:25:16.056Z"
   },
   {
    "duration": 7,
    "start_time": "2022-04-01T04:26:30.600Z"
   },
   {
    "duration": 115,
    "start_time": "2022-04-01T04:28:57.361Z"
   },
   {
    "duration": 8,
    "start_time": "2022-04-01T04:31:53.042Z"
   },
   {
    "duration": 180,
    "start_time": "2022-04-01T04:32:39.273Z"
   },
   {
    "duration": 8,
    "start_time": "2022-04-01T04:32:44.792Z"
   },
   {
    "duration": 4,
    "start_time": "2022-04-01T04:33:00.042Z"
   },
   {
    "duration": 12,
    "start_time": "2022-04-01T04:33:17.472Z"
   },
   {
    "duration": 3,
    "start_time": "2022-04-01T04:33:42.001Z"
   },
   {
    "duration": 7,
    "start_time": "2022-04-01T04:34:16.860Z"
   },
   {
    "duration": 7,
    "start_time": "2022-04-01T04:35:45.612Z"
   },
   {
    "duration": 7,
    "start_time": "2022-04-01T04:37:03.099Z"
   },
   {
    "duration": 10,
    "start_time": "2022-04-01T04:37:44.946Z"
   },
   {
    "duration": 10,
    "start_time": "2022-04-01T04:38:04.670Z"
   },
   {
    "duration": 10,
    "start_time": "2022-04-01T04:38:13.869Z"
   },
   {
    "duration": 10,
    "start_time": "2022-04-01T04:38:23.859Z"
   },
   {
    "duration": 10,
    "start_time": "2022-04-01T04:39:13.670Z"
   },
   {
    "duration": 9,
    "start_time": "2022-04-01T04:40:14.991Z"
   },
   {
    "duration": 10,
    "start_time": "2022-04-01T04:40:35.721Z"
   },
   {
    "duration": 14,
    "start_time": "2022-04-01T04:41:00.450Z"
   },
   {
    "duration": 9,
    "start_time": "2022-04-01T04:42:21.932Z"
   },
   {
    "duration": 11,
    "start_time": "2022-04-01T04:45:07.445Z"
   },
   {
    "duration": 9,
    "start_time": "2022-04-01T04:45:19.515Z"
   },
   {
    "duration": 8,
    "start_time": "2022-04-01T04:46:18.675Z"
   },
   {
    "duration": 121,
    "start_time": "2022-04-01T06:16:32.161Z"
   },
   {
    "duration": 18,
    "start_time": "2022-04-01T06:17:19.877Z"
   },
   {
    "duration": 19,
    "start_time": "2022-04-01T06:19:05.526Z"
   },
   {
    "duration": 0,
    "start_time": "2022-04-01T06:20:11.395Z"
   },
   {
    "duration": 0,
    "start_time": "2022-04-01T06:20:11.396Z"
   },
   {
    "duration": 0,
    "start_time": "2022-04-01T06:20:11.397Z"
   },
   {
    "duration": 0,
    "start_time": "2022-04-01T06:20:11.398Z"
   },
   {
    "duration": 0,
    "start_time": "2022-04-01T06:20:11.398Z"
   },
   {
    "duration": 0,
    "start_time": "2022-04-01T06:20:11.399Z"
   },
   {
    "duration": 0,
    "start_time": "2022-04-01T06:20:11.400Z"
   },
   {
    "duration": 0,
    "start_time": "2022-04-01T06:20:11.401Z"
   },
   {
    "duration": 0,
    "start_time": "2022-04-01T06:20:11.402Z"
   },
   {
    "duration": 0,
    "start_time": "2022-04-01T06:20:11.403Z"
   },
   {
    "duration": 0,
    "start_time": "2022-04-01T06:20:11.404Z"
   },
   {
    "duration": 0,
    "start_time": "2022-04-01T06:20:11.404Z"
   },
   {
    "duration": 0,
    "start_time": "2022-04-01T06:20:11.405Z"
   },
   {
    "duration": 0,
    "start_time": "2022-04-01T06:20:11.406Z"
   },
   {
    "duration": 0,
    "start_time": "2022-04-01T06:20:11.407Z"
   },
   {
    "duration": 0,
    "start_time": "2022-04-01T06:20:11.408Z"
   },
   {
    "duration": 0,
    "start_time": "2022-04-01T06:20:11.409Z"
   },
   {
    "duration": 0,
    "start_time": "2022-04-01T06:20:11.410Z"
   },
   {
    "duration": 0,
    "start_time": "2022-04-01T06:20:11.411Z"
   },
   {
    "duration": 0,
    "start_time": "2022-04-01T06:20:11.411Z"
   },
   {
    "duration": 0,
    "start_time": "2022-04-01T06:20:11.412Z"
   },
   {
    "duration": 0,
    "start_time": "2022-04-01T06:20:11.413Z"
   },
   {
    "duration": 0,
    "start_time": "2022-04-01T06:20:11.414Z"
   },
   {
    "duration": 0,
    "start_time": "2022-04-01T06:20:11.415Z"
   },
   {
    "duration": 0,
    "start_time": "2022-04-01T06:20:11.415Z"
   },
   {
    "duration": 0,
    "start_time": "2022-04-01T06:20:11.416Z"
   },
   {
    "duration": 0,
    "start_time": "2022-04-01T06:20:11.417Z"
   },
   {
    "duration": 0,
    "start_time": "2022-04-01T06:20:11.418Z"
   },
   {
    "duration": 0,
    "start_time": "2022-04-01T06:20:11.419Z"
   },
   {
    "duration": 0,
    "start_time": "2022-04-01T06:20:11.419Z"
   },
   {
    "duration": 0,
    "start_time": "2022-04-01T06:20:11.420Z"
   },
   {
    "duration": 0,
    "start_time": "2022-04-01T06:20:11.421Z"
   },
   {
    "duration": 0,
    "start_time": "2022-04-01T06:20:11.422Z"
   },
   {
    "duration": 0,
    "start_time": "2022-04-01T06:20:11.423Z"
   },
   {
    "duration": 0,
    "start_time": "2022-04-01T06:20:11.424Z"
   },
   {
    "duration": 0,
    "start_time": "2022-04-01T06:20:11.425Z"
   },
   {
    "duration": 0,
    "start_time": "2022-04-01T06:20:11.425Z"
   },
   {
    "duration": 0,
    "start_time": "2022-04-01T06:20:11.426Z"
   },
   {
    "duration": 0,
    "start_time": "2022-04-01T06:20:11.427Z"
   },
   {
    "duration": 0,
    "start_time": "2022-04-01T06:20:11.428Z"
   },
   {
    "duration": 0,
    "start_time": "2022-04-01T06:20:11.429Z"
   },
   {
    "duration": 0,
    "start_time": "2022-04-01T06:20:11.430Z"
   },
   {
    "duration": 0,
    "start_time": "2022-04-01T06:20:11.430Z"
   },
   {
    "duration": 0,
    "start_time": "2022-04-01T06:20:11.431Z"
   },
   {
    "duration": 0,
    "start_time": "2022-04-01T06:20:11.432Z"
   },
   {
    "duration": 0,
    "start_time": "2022-04-01T06:20:11.481Z"
   },
   {
    "duration": 0,
    "start_time": "2022-04-01T06:20:11.482Z"
   },
   {
    "duration": 0,
    "start_time": "2022-04-01T06:20:11.483Z"
   },
   {
    "duration": 0,
    "start_time": "2022-04-01T06:20:11.484Z"
   },
   {
    "duration": 0,
    "start_time": "2022-04-01T06:20:11.485Z"
   },
   {
    "duration": 0,
    "start_time": "2022-04-01T06:20:11.486Z"
   },
   {
    "duration": 0,
    "start_time": "2022-04-01T06:20:11.486Z"
   },
   {
    "duration": 4,
    "start_time": "2022-04-01T06:20:56.932Z"
   },
   {
    "duration": 2222,
    "start_time": "2022-04-01T06:20:56.938Z"
   },
   {
    "duration": 24,
    "start_time": "2022-04-01T06:20:59.162Z"
   },
   {
    "duration": 7,
    "start_time": "2022-04-01T06:20:59.187Z"
   },
   {
    "duration": 88,
    "start_time": "2022-04-01T06:20:59.195Z"
   },
   {
    "duration": 20,
    "start_time": "2022-04-01T06:20:59.285Z"
   },
   {
    "duration": 7,
    "start_time": "2022-04-01T06:20:59.306Z"
   },
   {
    "duration": 68,
    "start_time": "2022-04-01T06:20:59.314Z"
   },
   {
    "duration": 18,
    "start_time": "2022-04-01T06:20:59.384Z"
   },
   {
    "duration": 7,
    "start_time": "2022-04-01T06:20:59.404Z"
   },
   {
    "duration": 41,
    "start_time": "2022-04-01T06:20:59.413Z"
   },
   {
    "duration": 32,
    "start_time": "2022-04-01T06:20:59.457Z"
   },
   {
    "duration": 8,
    "start_time": "2022-04-01T06:20:59.491Z"
   },
   {
    "duration": 13,
    "start_time": "2022-04-01T06:20:59.501Z"
   },
   {
    "duration": 11,
    "start_time": "2022-04-01T06:20:59.516Z"
   },
   {
    "duration": 8,
    "start_time": "2022-04-01T06:20:59.529Z"
   },
   {
    "duration": 95,
    "start_time": "2022-04-01T06:20:59.538Z"
   },
   {
    "duration": 8,
    "start_time": "2022-04-01T06:20:59.635Z"
   },
   {
    "duration": 6,
    "start_time": "2022-04-01T06:20:59.644Z"
   },
   {
    "duration": 331,
    "start_time": "2022-04-01T06:20:59.651Z"
   },
   {
    "duration": 51,
    "start_time": "2022-04-01T06:20:59.983Z"
   },
   {
    "duration": 9,
    "start_time": "2022-04-01T06:21:00.035Z"
   },
   {
    "duration": 337,
    "start_time": "2022-04-01T06:21:00.046Z"
   },
   {
    "duration": 42,
    "start_time": "2022-04-01T06:21:00.385Z"
   },
   {
    "duration": 8,
    "start_time": "2022-04-01T06:21:00.429Z"
   },
   {
    "duration": 320,
    "start_time": "2022-04-01T06:21:00.439Z"
   },
   {
    "duration": 4,
    "start_time": "2022-04-01T06:21:00.761Z"
   },
   {
    "duration": 46,
    "start_time": "2022-04-01T06:21:00.767Z"
   },
   {
    "duration": 21,
    "start_time": "2022-04-01T06:21:00.817Z"
   },
   {
    "duration": 25,
    "start_time": "2022-04-01T06:21:00.840Z"
   },
   {
    "duration": 171,
    "start_time": "2022-04-01T06:21:00.867Z"
   },
   {
    "duration": 14,
    "start_time": "2022-04-01T06:21:01.039Z"
   },
   {
    "duration": 29,
    "start_time": "2022-04-01T06:21:01.055Z"
   },
   {
    "duration": 29,
    "start_time": "2022-04-01T06:21:01.086Z"
   },
   {
    "duration": 37,
    "start_time": "2022-04-01T06:21:01.117Z"
   },
   {
    "duration": 13,
    "start_time": "2022-04-01T06:21:01.155Z"
   },
   {
    "duration": 25,
    "start_time": "2022-04-01T06:21:01.169Z"
   },
   {
    "duration": 34,
    "start_time": "2022-04-01T06:21:01.196Z"
   },
   {
    "duration": 27,
    "start_time": "2022-04-01T06:21:01.232Z"
   },
   {
    "duration": 11,
    "start_time": "2022-04-01T06:21:01.261Z"
   },
   {
    "duration": 135,
    "start_time": "2022-04-01T06:21:01.274Z"
   },
   {
    "duration": 21,
    "start_time": "2022-04-01T06:21:01.411Z"
   },
   {
    "duration": 3461,
    "start_time": "2022-04-01T06:21:01.434Z"
   },
   {
    "duration": 0,
    "start_time": "2022-04-01T06:21:04.897Z"
   },
   {
    "duration": 0,
    "start_time": "2022-04-01T06:21:04.897Z"
   },
   {
    "duration": 0,
    "start_time": "2022-04-01T06:21:04.898Z"
   },
   {
    "duration": 0,
    "start_time": "2022-04-01T06:21:04.899Z"
   },
   {
    "duration": 0,
    "start_time": "2022-04-01T06:21:04.900Z"
   },
   {
    "duration": 0,
    "start_time": "2022-04-01T06:21:04.901Z"
   },
   {
    "duration": 0,
    "start_time": "2022-04-01T06:21:04.902Z"
   },
   {
    "duration": 1,
    "start_time": "2022-04-01T06:21:04.902Z"
   },
   {
    "duration": 0,
    "start_time": "2022-04-01T06:21:04.903Z"
   },
   {
    "duration": 429,
    "start_time": "2022-04-01T06:21:21.733Z"
   },
   {
    "duration": 427,
    "start_time": "2022-04-01T06:22:21.355Z"
   },
   {
    "duration": 186,
    "start_time": "2022-04-01T06:22:29.682Z"
   },
   {
    "duration": 3160,
    "start_time": "2022-04-01T06:23:02.958Z"
   },
   {
    "duration": 5,
    "start_time": "2022-04-01T06:24:52.788Z"
   },
   {
    "duration": 883,
    "start_time": "2022-04-01T06:24:52.794Z"
   },
   {
    "duration": 23,
    "start_time": "2022-04-01T06:24:53.678Z"
   },
   {
    "duration": 8,
    "start_time": "2022-04-01T06:24:53.702Z"
   },
   {
    "duration": 90,
    "start_time": "2022-04-01T06:24:53.711Z"
   },
   {
    "duration": 21,
    "start_time": "2022-04-01T06:24:53.803Z"
   },
   {
    "duration": 8,
    "start_time": "2022-04-01T06:24:53.826Z"
   },
   {
    "duration": 73,
    "start_time": "2022-04-01T06:24:53.836Z"
   },
   {
    "duration": 19,
    "start_time": "2022-04-01T06:24:53.910Z"
   },
   {
    "duration": 6,
    "start_time": "2022-04-01T06:24:53.930Z"
   },
   {
    "duration": 126,
    "start_time": "2022-04-01T06:24:53.939Z"
   },
   {
    "duration": 15,
    "start_time": "2022-04-01T06:24:54.067Z"
   },
   {
    "duration": 9,
    "start_time": "2022-04-01T06:24:54.084Z"
   },
   {
    "duration": 11,
    "start_time": "2022-04-01T06:24:54.094Z"
   },
   {
    "duration": 9,
    "start_time": "2022-04-01T06:24:54.107Z"
   },
   {
    "duration": 5,
    "start_time": "2022-04-01T06:24:54.118Z"
   },
   {
    "duration": 88,
    "start_time": "2022-04-01T06:24:54.124Z"
   },
   {
    "duration": 8,
    "start_time": "2022-04-01T06:24:54.214Z"
   },
   {
    "duration": 5,
    "start_time": "2022-04-01T06:24:54.224Z"
   },
   {
    "duration": 334,
    "start_time": "2022-04-01T06:24:54.230Z"
   },
   {
    "duration": 58,
    "start_time": "2022-04-01T06:24:54.566Z"
   },
   {
    "duration": 8,
    "start_time": "2022-04-01T06:24:54.626Z"
   },
   {
    "duration": 328,
    "start_time": "2022-04-01T06:24:54.636Z"
   },
   {
    "duration": 49,
    "start_time": "2022-04-01T06:24:54.965Z"
   },
   {
    "duration": 8,
    "start_time": "2022-04-01T06:24:55.016Z"
   },
   {
    "duration": 320,
    "start_time": "2022-04-01T06:24:55.026Z"
   },
   {
    "duration": 3,
    "start_time": "2022-04-01T06:24:55.348Z"
   },
   {
    "duration": 37,
    "start_time": "2022-04-01T06:24:55.353Z"
   },
   {
    "duration": 21,
    "start_time": "2022-04-01T06:24:55.393Z"
   },
   {
    "duration": 19,
    "start_time": "2022-04-01T06:24:55.415Z"
   },
   {
    "duration": 97,
    "start_time": "2022-04-01T06:24:55.435Z"
   },
   {
    "duration": 12,
    "start_time": "2022-04-01T06:24:55.534Z"
   },
   {
    "duration": 10,
    "start_time": "2022-04-01T06:24:55.547Z"
   },
   {
    "duration": 23,
    "start_time": "2022-04-01T06:24:55.559Z"
   },
   {
    "duration": 16,
    "start_time": "2022-04-01T06:24:55.583Z"
   },
   {
    "duration": 5,
    "start_time": "2022-04-01T06:24:55.600Z"
   },
   {
    "duration": 11,
    "start_time": "2022-04-01T06:24:55.606Z"
   },
   {
    "duration": 9,
    "start_time": "2022-04-01T06:24:55.618Z"
   },
   {
    "duration": 7,
    "start_time": "2022-04-01T06:24:55.628Z"
   },
   {
    "duration": 5,
    "start_time": "2022-04-01T06:24:55.636Z"
   },
   {
    "duration": 153,
    "start_time": "2022-04-01T06:24:55.642Z"
   },
   {
    "duration": 6,
    "start_time": "2022-04-01T06:24:55.797Z"
   },
   {
    "duration": 193,
    "start_time": "2022-04-01T06:24:55.805Z"
   },
   {
    "duration": 495,
    "start_time": "2022-04-01T06:24:56.000Z"
   },
   {
    "duration": 177,
    "start_time": "2022-04-01T06:24:56.497Z"
   },
   {
    "duration": 425,
    "start_time": "2022-04-01T06:24:56.675Z"
   },
   {
    "duration": 183,
    "start_time": "2022-04-01T06:24:57.101Z"
   },
   {
    "duration": 419,
    "start_time": "2022-04-01T06:24:57.285Z"
   },
   {
    "duration": 17,
    "start_time": "2022-04-01T06:24:57.706Z"
   },
   {
    "duration": 3125,
    "start_time": "2022-04-01T06:24:57.725Z"
   },
   {
    "duration": 0,
    "start_time": "2022-04-01T06:25:00.852Z"
   },
   {
    "duration": 0,
    "start_time": "2022-04-01T06:25:00.853Z"
   },
   {
    "duration": 3832,
    "start_time": "2022-04-01T06:27:26.440Z"
   },
   {
    "duration": 14,
    "start_time": "2022-04-01T06:29:13.596Z"
   },
   {
    "duration": 5,
    "start_time": "2022-04-01T06:29:30.647Z"
   },
   {
    "duration": 864,
    "start_time": "2022-04-01T06:29:30.654Z"
   },
   {
    "duration": 24,
    "start_time": "2022-04-01T06:29:31.520Z"
   },
   {
    "duration": 6,
    "start_time": "2022-04-01T06:29:31.546Z"
   },
   {
    "duration": 80,
    "start_time": "2022-04-01T06:29:31.554Z"
   },
   {
    "duration": 20,
    "start_time": "2022-04-01T06:29:31.636Z"
   },
   {
    "duration": 7,
    "start_time": "2022-04-01T06:29:31.657Z"
   },
   {
    "duration": 64,
    "start_time": "2022-04-01T06:29:31.665Z"
   },
   {
    "duration": 18,
    "start_time": "2022-04-01T06:29:31.732Z"
   },
   {
    "duration": 6,
    "start_time": "2022-04-01T06:29:31.751Z"
   },
   {
    "duration": 62,
    "start_time": "2022-04-01T06:29:31.759Z"
   },
   {
    "duration": 11,
    "start_time": "2022-04-01T06:29:31.823Z"
   },
   {
    "duration": 25,
    "start_time": "2022-04-01T06:29:31.836Z"
   },
   {
    "duration": 22,
    "start_time": "2022-04-01T06:29:31.863Z"
   },
   {
    "duration": 10,
    "start_time": "2022-04-01T06:29:31.887Z"
   },
   {
    "duration": 8,
    "start_time": "2022-04-01T06:29:31.898Z"
   },
   {
    "duration": 82,
    "start_time": "2022-04-01T06:29:31.907Z"
   },
   {
    "duration": 8,
    "start_time": "2022-04-01T06:29:31.991Z"
   },
   {
    "duration": 7,
    "start_time": "2022-04-01T06:29:32.001Z"
   },
   {
    "duration": 340,
    "start_time": "2022-04-01T06:29:32.009Z"
   },
   {
    "duration": 60,
    "start_time": "2022-04-01T06:29:32.350Z"
   },
   {
    "duration": 8,
    "start_time": "2022-04-01T06:29:32.412Z"
   },
   {
    "duration": 441,
    "start_time": "2022-04-01T06:29:32.421Z"
   },
   {
    "duration": 49,
    "start_time": "2022-04-01T06:29:32.865Z"
   },
   {
    "duration": 8,
    "start_time": "2022-04-01T06:29:32.915Z"
   },
   {
    "duration": 346,
    "start_time": "2022-04-01T06:29:32.925Z"
   },
   {
    "duration": 10,
    "start_time": "2022-04-01T06:29:33.272Z"
   },
   {
    "duration": 26,
    "start_time": "2022-04-01T06:29:33.283Z"
   },
   {
    "duration": 20,
    "start_time": "2022-04-01T06:29:33.311Z"
   },
   {
    "duration": 19,
    "start_time": "2022-04-01T06:29:33.333Z"
   },
   {
    "duration": 109,
    "start_time": "2022-04-01T06:29:33.353Z"
   },
   {
    "duration": 21,
    "start_time": "2022-04-01T06:29:33.464Z"
   },
   {
    "duration": 10,
    "start_time": "2022-04-01T06:29:33.486Z"
   },
   {
    "duration": 6,
    "start_time": "2022-04-01T06:29:33.498Z"
   },
   {
    "duration": 15,
    "start_time": "2022-04-01T06:29:33.506Z"
   },
   {
    "duration": 5,
    "start_time": "2022-04-01T06:29:33.523Z"
   },
   {
    "duration": 10,
    "start_time": "2022-04-01T06:29:33.529Z"
   },
   {
    "duration": 41,
    "start_time": "2022-04-01T06:29:33.540Z"
   },
   {
    "duration": 7,
    "start_time": "2022-04-01T06:29:33.583Z"
   },
   {
    "duration": 5,
    "start_time": "2022-04-01T06:29:33.591Z"
   },
   {
    "duration": 131,
    "start_time": "2022-04-01T06:29:33.598Z"
   },
   {
    "duration": 6,
    "start_time": "2022-04-01T06:29:33.730Z"
   },
   {
    "duration": 196,
    "start_time": "2022-04-01T06:29:33.737Z"
   },
   {
    "duration": 443,
    "start_time": "2022-04-01T06:29:33.935Z"
   },
   {
    "duration": 249,
    "start_time": "2022-04-01T06:29:34.380Z"
   },
   {
    "duration": 438,
    "start_time": "2022-04-01T06:29:34.631Z"
   },
   {
    "duration": 190,
    "start_time": "2022-04-01T06:29:35.071Z"
   },
   {
    "duration": 406,
    "start_time": "2022-04-01T06:29:35.263Z"
   },
   {
    "duration": 23,
    "start_time": "2022-04-01T06:29:35.671Z"
   },
   {
    "duration": 12,
    "start_time": "2022-04-01T06:29:35.696Z"
   },
   {
    "duration": 0,
    "start_time": "2022-04-01T06:29:35.710Z"
   },
   {
    "duration": 0,
    "start_time": "2022-04-01T06:29:35.712Z"
   },
   {
    "duration": 1586,
    "start_time": "2022-04-01T06:31:45.887Z"
   },
   {
    "duration": 1492,
    "start_time": "2022-04-01T06:32:21.421Z"
   },
   {
    "duration": 5,
    "start_time": "2022-04-01T06:34:40.040Z"
   },
   {
    "duration": 847,
    "start_time": "2022-04-01T06:34:40.047Z"
   },
   {
    "duration": 25,
    "start_time": "2022-04-01T06:34:40.896Z"
   },
   {
    "duration": 10,
    "start_time": "2022-04-01T06:34:40.923Z"
   },
   {
    "duration": 85,
    "start_time": "2022-04-01T06:34:40.936Z"
   },
   {
    "duration": 20,
    "start_time": "2022-04-01T06:34:41.023Z"
   },
   {
    "duration": 7,
    "start_time": "2022-04-01T06:34:41.044Z"
   },
   {
    "duration": 71,
    "start_time": "2022-04-01T06:34:41.052Z"
   },
   {
    "duration": 18,
    "start_time": "2022-04-01T06:34:41.124Z"
   },
   {
    "duration": 6,
    "start_time": "2022-04-01T06:34:41.144Z"
   },
   {
    "duration": 60,
    "start_time": "2022-04-01T06:34:41.152Z"
   },
   {
    "duration": 10,
    "start_time": "2022-04-01T06:34:41.213Z"
   },
   {
    "duration": 9,
    "start_time": "2022-04-01T06:34:41.225Z"
   },
   {
    "duration": 10,
    "start_time": "2022-04-01T06:34:41.237Z"
   },
   {
    "duration": 10,
    "start_time": "2022-04-01T06:34:41.248Z"
   },
   {
    "duration": 26,
    "start_time": "2022-04-01T06:34:41.259Z"
   },
   {
    "duration": 69,
    "start_time": "2022-04-01T06:34:41.286Z"
   },
   {
    "duration": 8,
    "start_time": "2022-04-01T06:34:41.357Z"
   },
   {
    "duration": 17,
    "start_time": "2022-04-01T06:34:41.366Z"
   },
   {
    "duration": 306,
    "start_time": "2022-04-01T06:34:41.384Z"
   },
   {
    "duration": 51,
    "start_time": "2022-04-01T06:34:41.692Z"
   },
   {
    "duration": 8,
    "start_time": "2022-04-01T06:34:41.745Z"
   },
   {
    "duration": 326,
    "start_time": "2022-04-01T06:34:41.755Z"
   },
   {
    "duration": 40,
    "start_time": "2022-04-01T06:34:42.083Z"
   },
   {
    "duration": 8,
    "start_time": "2022-04-01T06:34:42.125Z"
   },
   {
    "duration": 319,
    "start_time": "2022-04-01T06:34:42.135Z"
   },
   {
    "duration": 4,
    "start_time": "2022-04-01T06:34:42.456Z"
   },
   {
    "duration": 38,
    "start_time": "2022-04-01T06:34:42.462Z"
   },
   {
    "duration": 21,
    "start_time": "2022-04-01T06:34:42.502Z"
   },
   {
    "duration": 20,
    "start_time": "2022-04-01T06:34:42.525Z"
   },
   {
    "duration": 216,
    "start_time": "2022-04-01T06:34:42.546Z"
   },
   {
    "duration": 26,
    "start_time": "2022-04-01T06:34:42.764Z"
   },
   {
    "duration": 12,
    "start_time": "2022-04-01T06:34:42.792Z"
   },
   {
    "duration": 8,
    "start_time": "2022-04-01T06:34:42.805Z"
   },
   {
    "duration": 19,
    "start_time": "2022-04-01T06:34:42.815Z"
   },
   {
    "duration": 6,
    "start_time": "2022-04-01T06:34:42.835Z"
   },
   {
    "duration": 39,
    "start_time": "2022-04-01T06:34:42.843Z"
   },
   {
    "duration": 11,
    "start_time": "2022-04-01T06:34:42.884Z"
   },
   {
    "duration": 8,
    "start_time": "2022-04-01T06:34:42.897Z"
   },
   {
    "duration": 4,
    "start_time": "2022-04-01T06:34:42.907Z"
   },
   {
    "duration": 145,
    "start_time": "2022-04-01T06:34:42.916Z"
   },
   {
    "duration": 7,
    "start_time": "2022-04-01T06:34:43.063Z"
   },
   {
    "duration": 197,
    "start_time": "2022-04-01T06:34:43.072Z"
   },
   {
    "duration": 427,
    "start_time": "2022-04-01T06:34:43.271Z"
   },
   {
    "duration": 183,
    "start_time": "2022-04-01T06:34:43.700Z"
   },
   {
    "duration": 492,
    "start_time": "2022-04-01T06:34:43.885Z"
   },
   {
    "duration": 189,
    "start_time": "2022-04-01T06:34:44.380Z"
   },
   {
    "duration": 412,
    "start_time": "2022-04-01T06:34:44.571Z"
   },
   {
    "duration": 19,
    "start_time": "2022-04-01T06:34:44.985Z"
   },
   {
    "duration": 1463,
    "start_time": "2022-04-01T06:34:45.006Z"
   },
   {
    "duration": 16,
    "start_time": "2022-04-01T06:34:46.471Z"
   },
   {
    "duration": 10,
    "start_time": "2022-04-01T06:34:46.489Z"
   },
   {
    "duration": 6,
    "start_time": "2022-04-01T06:37:09.565Z"
   },
   {
    "duration": 6,
    "start_time": "2022-04-01T06:37:15.425Z"
   },
   {
    "duration": 6,
    "start_time": "2022-04-01T06:37:17.552Z"
   },
   {
    "duration": 6,
    "start_time": "2022-04-01T06:37:28.330Z"
   },
   {
    "duration": 8,
    "start_time": "2022-04-01T06:38:18.071Z"
   },
   {
    "duration": 6,
    "start_time": "2022-04-01T06:38:42.370Z"
   },
   {
    "duration": 6,
    "start_time": "2022-04-01T06:39:26.410Z"
   },
   {
    "duration": 6,
    "start_time": "2022-04-01T06:39:36.794Z"
   },
   {
    "duration": 8,
    "start_time": "2022-04-01T06:42:59.432Z"
   },
   {
    "duration": 7,
    "start_time": "2022-04-01T06:43:01.704Z"
   },
   {
    "duration": 1167,
    "start_time": "2022-04-11T21:04:50.839Z"
   },
   {
    "duration": 996,
    "start_time": "2022-04-11T21:04:52.007Z"
   },
   {
    "duration": 24,
    "start_time": "2022-04-11T21:04:53.005Z"
   },
   {
    "duration": 11,
    "start_time": "2022-04-11T21:04:53.032Z"
   },
   {
    "duration": 93,
    "start_time": "2022-04-11T21:04:53.045Z"
   },
   {
    "duration": 22,
    "start_time": "2022-04-11T21:04:53.141Z"
   },
   {
    "duration": 21,
    "start_time": "2022-04-11T21:04:53.165Z"
   },
   {
    "duration": 96,
    "start_time": "2022-04-11T21:04:53.188Z"
   },
   {
    "duration": 29,
    "start_time": "2022-04-11T21:04:53.286Z"
   },
   {
    "duration": 8,
    "start_time": "2022-04-11T21:04:53.320Z"
   },
   {
    "duration": 81,
    "start_time": "2022-04-11T21:04:53.330Z"
   },
   {
    "duration": 13,
    "start_time": "2022-04-11T21:04:53.413Z"
   },
   {
    "duration": 14,
    "start_time": "2022-04-11T21:04:53.428Z"
   },
   {
    "duration": 12,
    "start_time": "2022-04-11T21:04:53.444Z"
   },
   {
    "duration": 30,
    "start_time": "2022-04-11T21:04:53.458Z"
   },
   {
    "duration": 13,
    "start_time": "2022-04-11T21:04:53.490Z"
   },
   {
    "duration": 105,
    "start_time": "2022-04-11T21:04:53.504Z"
   },
   {
    "duration": 9,
    "start_time": "2022-04-11T21:04:53.611Z"
   },
   {
    "duration": 6,
    "start_time": "2022-04-11T21:04:53.621Z"
   },
   {
    "duration": 348,
    "start_time": "2022-04-11T21:04:53.628Z"
   },
   {
    "duration": 50,
    "start_time": "2022-04-11T21:04:53.980Z"
   },
   {
    "duration": 9,
    "start_time": "2022-04-11T21:04:54.032Z"
   },
   {
    "duration": 379,
    "start_time": "2022-04-11T21:04:54.042Z"
   },
   {
    "duration": 93,
    "start_time": "2022-04-11T21:04:54.422Z"
   },
   {
    "duration": 9,
    "start_time": "2022-04-11T21:04:54.516Z"
   },
   {
    "duration": 524,
    "start_time": "2022-04-11T21:04:54.582Z"
   },
   {
    "duration": 4,
    "start_time": "2022-04-11T21:04:55.108Z"
   },
   {
    "duration": 91,
    "start_time": "2022-04-11T21:04:55.117Z"
   },
   {
    "duration": 86,
    "start_time": "2022-04-11T21:04:55.210Z"
   },
   {
    "duration": 83,
    "start_time": "2022-04-11T21:04:55.298Z"
   },
   {
    "duration": 434,
    "start_time": "2022-04-11T21:04:55.383Z"
   },
   {
    "duration": 67,
    "start_time": "2022-04-11T21:04:55.819Z"
   },
   {
    "duration": 15,
    "start_time": "2022-04-11T21:04:55.888Z"
   },
   {
    "duration": 8,
    "start_time": "2022-04-11T21:04:55.905Z"
   },
   {
    "duration": 67,
    "start_time": "2022-04-11T21:04:55.915Z"
   },
   {
    "duration": 6,
    "start_time": "2022-04-11T21:04:55.984Z"
   },
   {
    "duration": 11,
    "start_time": "2022-04-11T21:04:55.992Z"
   },
   {
    "duration": 10,
    "start_time": "2022-04-11T21:04:56.005Z"
   },
   {
    "duration": 7,
    "start_time": "2022-04-11T21:04:56.017Z"
   },
   {
    "duration": 5,
    "start_time": "2022-04-11T21:04:56.081Z"
   },
   {
    "duration": 195,
    "start_time": "2022-04-11T21:04:56.087Z"
   },
   {
    "duration": 7,
    "start_time": "2022-04-11T21:04:56.283Z"
   },
   {
    "duration": 195,
    "start_time": "2022-04-11T21:04:56.291Z"
   },
   {
    "duration": 449,
    "start_time": "2022-04-11T21:04:56.487Z"
   },
   {
    "duration": 183,
    "start_time": "2022-04-11T21:04:56.938Z"
   },
   {
    "duration": 458,
    "start_time": "2022-04-11T21:04:57.123Z"
   },
   {
    "duration": 184,
    "start_time": "2022-04-11T21:04:57.582Z"
   },
   {
    "duration": 423,
    "start_time": "2022-04-11T21:04:57.768Z"
   },
   {
    "duration": 18,
    "start_time": "2022-04-11T21:04:58.192Z"
   },
   {
    "duration": 1552,
    "start_time": "2022-04-11T21:04:58.211Z"
   },
   {
    "duration": 16,
    "start_time": "2022-04-11T21:04:59.765Z"
   },
   {
    "duration": 6,
    "start_time": "2022-04-11T21:04:59.782Z"
   },
   {
    "duration": 10,
    "start_time": "2022-04-11T21:04:59.789Z"
   },
   {
    "duration": 8,
    "start_time": "2022-04-11T21:04:59.800Z"
   },
   {
    "duration": 14,
    "start_time": "2022-04-11T21:15:44.556Z"
   },
   {
    "duration": 16,
    "start_time": "2022-04-11T21:15:51.689Z"
   },
   {
    "duration": 1097,
    "start_time": "2022-04-11T21:18:55.182Z"
   },
   {
    "duration": 1842,
    "start_time": "2022-04-11T21:18:56.288Z"
   },
   {
    "duration": 25,
    "start_time": "2022-04-11T21:18:58.132Z"
   },
   {
    "duration": 9,
    "start_time": "2022-04-11T21:18:58.159Z"
   },
   {
    "duration": 80,
    "start_time": "2022-04-11T21:18:58.170Z"
   },
   {
    "duration": 30,
    "start_time": "2022-04-11T21:18:58.251Z"
   },
   {
    "duration": 8,
    "start_time": "2022-04-11T21:18:58.283Z"
   },
   {
    "duration": 58,
    "start_time": "2022-04-11T21:18:58.292Z"
   },
   {
    "duration": 36,
    "start_time": "2022-04-11T21:18:58.352Z"
   },
   {
    "duration": 7,
    "start_time": "2022-04-11T21:18:58.390Z"
   },
   {
    "duration": 41,
    "start_time": "2022-04-11T21:18:58.398Z"
   },
   {
    "duration": 11,
    "start_time": "2022-04-11T21:18:58.440Z"
   },
   {
    "duration": 30,
    "start_time": "2022-04-11T21:18:58.452Z"
   },
   {
    "duration": 9,
    "start_time": "2022-04-11T21:18:58.483Z"
   },
   {
    "duration": 11,
    "start_time": "2022-04-11T21:18:58.493Z"
   },
   {
    "duration": 9,
    "start_time": "2022-04-11T21:18:58.506Z"
   },
   {
    "duration": 89,
    "start_time": "2022-04-11T21:18:58.517Z"
   },
   {
    "duration": 8,
    "start_time": "2022-04-11T21:18:58.608Z"
   },
   {
    "duration": 5,
    "start_time": "2022-04-11T21:18:58.617Z"
   },
   {
    "duration": 353,
    "start_time": "2022-04-11T21:18:58.624Z"
   },
   {
    "duration": 54,
    "start_time": "2022-04-11T21:18:58.981Z"
   },
   {
    "duration": 8,
    "start_time": "2022-04-11T21:18:59.037Z"
   },
   {
    "duration": 324,
    "start_time": "2022-04-11T21:18:59.046Z"
   },
   {
    "duration": 49,
    "start_time": "2022-04-11T21:18:59.371Z"
   },
   {
    "duration": 8,
    "start_time": "2022-04-11T21:18:59.421Z"
   },
   {
    "duration": 353,
    "start_time": "2022-04-11T21:18:59.430Z"
   },
   {
    "duration": 3,
    "start_time": "2022-04-11T21:18:59.785Z"
   },
   {
    "duration": 30,
    "start_time": "2022-04-11T21:18:59.791Z"
   },
   {
    "duration": 25,
    "start_time": "2022-04-11T21:18:59.822Z"
   },
   {
    "duration": 47,
    "start_time": "2022-04-11T21:18:59.848Z"
   },
   {
    "duration": 145,
    "start_time": "2022-04-11T21:18:59.896Z"
   },
   {
    "duration": 13,
    "start_time": "2022-04-11T21:19:00.042Z"
   },
   {
    "duration": 26,
    "start_time": "2022-04-11T21:19:00.056Z"
   },
   {
    "duration": 7,
    "start_time": "2022-04-11T21:19:00.083Z"
   },
   {
    "duration": 15,
    "start_time": "2022-04-11T21:19:00.091Z"
   },
   {
    "duration": 5,
    "start_time": "2022-04-11T21:19:00.108Z"
   },
   {
    "duration": 14,
    "start_time": "2022-04-11T21:19:00.114Z"
   },
   {
    "duration": 9,
    "start_time": "2022-04-11T21:19:00.130Z"
   },
   {
    "duration": 7,
    "start_time": "2022-04-11T21:19:00.140Z"
   },
   {
    "duration": 35,
    "start_time": "2022-04-11T21:19:00.149Z"
   },
   {
    "duration": 130,
    "start_time": "2022-04-11T21:19:00.185Z"
   },
   {
    "duration": 7,
    "start_time": "2022-04-11T21:19:00.317Z"
   },
   {
    "duration": 206,
    "start_time": "2022-04-11T21:19:00.326Z"
   },
   {
    "duration": 452,
    "start_time": "2022-04-11T21:19:00.534Z"
   },
   {
    "duration": 196,
    "start_time": "2022-04-11T21:19:00.988Z"
   },
   {
    "duration": 442,
    "start_time": "2022-04-11T21:19:01.186Z"
   },
   {
    "duration": 194,
    "start_time": "2022-04-11T21:19:01.630Z"
   },
   {
    "duration": 428,
    "start_time": "2022-04-11T21:19:01.826Z"
   },
   {
    "duration": 27,
    "start_time": "2022-04-11T21:19:02.256Z"
   },
   {
    "duration": 1519,
    "start_time": "2022-04-11T21:19:02.285Z"
   },
   {
    "duration": 7,
    "start_time": "2022-04-11T21:19:03.806Z"
   },
   {
    "duration": 7,
    "start_time": "2022-04-11T21:19:03.814Z"
   },
   {
    "duration": 9,
    "start_time": "2022-04-11T21:19:03.823Z"
   },
   {
    "duration": 8,
    "start_time": "2022-04-11T21:19:03.834Z"
   },
   {
    "duration": 18,
    "start_time": "2022-04-11T21:19:14.797Z"
   },
   {
    "duration": 1182,
    "start_time": "2022-04-11T22:04:07.840Z"
   },
   {
    "duration": 943,
    "start_time": "2022-04-11T22:04:09.024Z"
   },
   {
    "duration": 33,
    "start_time": "2022-04-11T22:04:09.969Z"
   },
   {
    "duration": 10,
    "start_time": "2022-04-11T22:04:10.004Z"
   },
   {
    "duration": 191,
    "start_time": "2022-04-11T22:04:10.016Z"
   },
   {
    "duration": 73,
    "start_time": "2022-04-11T22:04:10.209Z"
   },
   {
    "duration": 9,
    "start_time": "2022-04-11T22:04:10.283Z"
   },
   {
    "duration": 109,
    "start_time": "2022-04-11T22:04:10.293Z"
   },
   {
    "duration": 18,
    "start_time": "2022-04-11T22:04:10.403Z"
   },
   {
    "duration": 60,
    "start_time": "2022-04-11T22:04:10.424Z"
   },
   {
    "duration": 99,
    "start_time": "2022-04-11T22:04:10.485Z"
   },
   {
    "duration": 10,
    "start_time": "2022-04-11T22:04:10.586Z"
   },
   {
    "duration": 12,
    "start_time": "2022-04-11T22:04:10.597Z"
   },
   {
    "duration": 14,
    "start_time": "2022-04-11T22:04:10.610Z"
   },
   {
    "duration": 10,
    "start_time": "2022-04-11T22:04:10.681Z"
   },
   {
    "duration": 7,
    "start_time": "2022-04-11T22:04:10.693Z"
   },
   {
    "duration": 130,
    "start_time": "2022-04-11T22:04:10.701Z"
   },
   {
    "duration": 64,
    "start_time": "2022-04-11T22:04:10.833Z"
   },
   {
    "duration": 7,
    "start_time": "2022-04-11T22:04:10.898Z"
   },
   {
    "duration": 513,
    "start_time": "2022-04-11T22:04:10.907Z"
   },
   {
    "duration": 100,
    "start_time": "2022-04-11T22:04:11.421Z"
   },
   {
    "duration": 62,
    "start_time": "2022-04-11T22:04:11.522Z"
   },
   {
    "duration": 414,
    "start_time": "2022-04-11T22:04:11.585Z"
   },
   {
    "duration": 40,
    "start_time": "2022-04-11T22:04:12.001Z"
   },
   {
    "duration": 8,
    "start_time": "2022-04-11T22:04:12.042Z"
   },
   {
    "duration": 332,
    "start_time": "2022-04-11T22:04:12.051Z"
   },
   {
    "duration": 4,
    "start_time": "2022-04-11T22:04:12.384Z"
   },
   {
    "duration": 41,
    "start_time": "2022-04-11T22:04:12.391Z"
   },
   {
    "duration": 21,
    "start_time": "2022-04-11T22:04:12.434Z"
   },
   {
    "duration": 36,
    "start_time": "2022-04-11T22:04:12.457Z"
   },
   {
    "duration": 157,
    "start_time": "2022-04-11T22:04:12.494Z"
   },
   {
    "duration": 13,
    "start_time": "2022-04-11T22:04:12.652Z"
   },
   {
    "duration": 22,
    "start_time": "2022-04-11T22:04:12.667Z"
   },
   {
    "duration": 7,
    "start_time": "2022-04-11T22:04:12.691Z"
   },
   {
    "duration": 18,
    "start_time": "2022-04-11T22:04:12.700Z"
   },
   {
    "duration": 5,
    "start_time": "2022-04-11T22:04:12.719Z"
   },
   {
    "duration": 14,
    "start_time": "2022-04-11T22:04:12.726Z"
   },
   {
    "duration": 9,
    "start_time": "2022-04-11T22:04:12.742Z"
   },
   {
    "duration": 33,
    "start_time": "2022-04-11T22:04:12.753Z"
   },
   {
    "duration": 5,
    "start_time": "2022-04-11T22:04:12.787Z"
   },
   {
    "duration": 132,
    "start_time": "2022-04-11T22:04:12.794Z"
   },
   {
    "duration": 6,
    "start_time": "2022-04-11T22:04:12.927Z"
   },
   {
    "duration": 199,
    "start_time": "2022-04-11T22:04:12.935Z"
   },
   {
    "duration": 455,
    "start_time": "2022-04-11T22:04:13.136Z"
   },
   {
    "duration": 176,
    "start_time": "2022-04-11T22:04:13.593Z"
   },
   {
    "duration": 425,
    "start_time": "2022-04-11T22:04:13.771Z"
   },
   {
    "duration": 190,
    "start_time": "2022-04-11T22:04:14.198Z"
   },
   {
    "duration": 424,
    "start_time": "2022-04-11T22:04:14.389Z"
   },
   {
    "duration": 18,
    "start_time": "2022-04-11T22:04:14.815Z"
   },
   {
    "duration": 1530,
    "start_time": "2022-04-11T22:04:14.834Z"
   },
   {
    "duration": 17,
    "start_time": "2022-04-11T22:04:16.365Z"
   },
   {
    "duration": 6,
    "start_time": "2022-04-11T22:04:16.383Z"
   },
   {
    "duration": 8,
    "start_time": "2022-04-11T22:04:16.390Z"
   },
   {
    "duration": 7,
    "start_time": "2022-04-11T22:04:16.399Z"
   },
   {
    "duration": 1239,
    "start_time": "2022-04-11T22:09:29.638Z"
   },
   {
    "duration": 1068,
    "start_time": "2022-04-11T22:09:30.879Z"
   },
   {
    "duration": 32,
    "start_time": "2022-04-11T22:09:31.949Z"
   },
   {
    "duration": 13,
    "start_time": "2022-04-11T22:09:31.984Z"
   },
   {
    "duration": 131,
    "start_time": "2022-04-11T22:09:31.999Z"
   },
   {
    "duration": 31,
    "start_time": "2022-04-11T22:09:32.132Z"
   },
   {
    "duration": 22,
    "start_time": "2022-04-11T22:09:32.165Z"
   },
   {
    "duration": 54,
    "start_time": "2022-04-11T22:09:32.189Z"
   },
   {
    "duration": 18,
    "start_time": "2022-04-11T22:09:32.244Z"
   },
   {
    "duration": 7,
    "start_time": "2022-04-11T22:09:32.280Z"
   },
   {
    "duration": 40,
    "start_time": "2022-04-11T22:09:32.288Z"
   },
   {
    "duration": 9,
    "start_time": "2022-04-11T22:09:32.330Z"
   },
   {
    "duration": 9,
    "start_time": "2022-04-11T22:09:32.341Z"
   },
   {
    "duration": 34,
    "start_time": "2022-04-11T22:09:32.351Z"
   },
   {
    "duration": 8,
    "start_time": "2022-04-11T22:09:32.386Z"
   },
   {
    "duration": 6,
    "start_time": "2022-04-11T22:09:32.396Z"
   },
   {
    "duration": 88,
    "start_time": "2022-04-11T22:09:32.403Z"
   },
   {
    "duration": 8,
    "start_time": "2022-04-11T22:09:32.493Z"
   },
   {
    "duration": 6,
    "start_time": "2022-04-11T22:09:32.503Z"
   },
   {
    "duration": 364,
    "start_time": "2022-04-11T22:09:32.510Z"
   },
   {
    "duration": 52,
    "start_time": "2022-04-11T22:09:32.880Z"
   },
   {
    "duration": 10,
    "start_time": "2022-04-11T22:09:32.933Z"
   },
   {
    "duration": 338,
    "start_time": "2022-04-11T22:09:32.945Z"
   },
   {
    "duration": 46,
    "start_time": "2022-04-11T22:09:33.285Z"
   },
   {
    "duration": 12,
    "start_time": "2022-04-11T22:09:33.333Z"
   },
   {
    "duration": 438,
    "start_time": "2022-04-11T22:09:33.347Z"
   },
   {
    "duration": 4,
    "start_time": "2022-04-11T22:09:33.788Z"
   },
   {
    "duration": 44,
    "start_time": "2022-04-11T22:09:33.798Z"
   },
   {
    "duration": 41,
    "start_time": "2022-04-11T22:09:33.844Z"
   },
   {
    "duration": 21,
    "start_time": "2022-04-11T22:09:33.886Z"
   },
   {
    "duration": 165,
    "start_time": "2022-04-11T22:09:33.909Z"
   },
   {
    "duration": 17,
    "start_time": "2022-04-11T22:09:34.075Z"
   },
   {
    "duration": 13,
    "start_time": "2022-04-11T22:09:34.093Z"
   },
   {
    "duration": 7,
    "start_time": "2022-04-11T22:09:34.108Z"
   },
   {
    "duration": 20,
    "start_time": "2022-04-11T22:09:34.117Z"
   },
   {
    "duration": 43,
    "start_time": "2022-04-11T22:09:34.138Z"
   },
   {
    "duration": 12,
    "start_time": "2022-04-11T22:09:34.183Z"
   },
   {
    "duration": 10,
    "start_time": "2022-04-11T22:09:34.197Z"
   },
   {
    "duration": 10,
    "start_time": "2022-04-11T22:09:34.208Z"
   },
   {
    "duration": 5,
    "start_time": "2022-04-11T22:09:34.219Z"
   },
   {
    "duration": 162,
    "start_time": "2022-04-11T22:09:34.226Z"
   },
   {
    "duration": 7,
    "start_time": "2022-04-11T22:09:34.389Z"
   },
   {
    "duration": 354,
    "start_time": "2022-04-11T22:09:34.397Z"
   },
   {
    "duration": 699,
    "start_time": "2022-04-11T22:09:34.753Z"
   },
   {
    "duration": 314,
    "start_time": "2022-04-11T22:09:35.455Z"
   },
   {
    "duration": 665,
    "start_time": "2022-04-11T22:09:35.771Z"
   },
   {
    "duration": 198,
    "start_time": "2022-04-11T22:09:36.438Z"
   },
   {
    "duration": 440,
    "start_time": "2022-04-11T22:09:36.638Z"
   },
   {
    "duration": 19,
    "start_time": "2022-04-11T22:09:37.080Z"
   },
   {
    "duration": 1567,
    "start_time": "2022-04-11T22:09:37.101Z"
   },
   {
    "duration": 14,
    "start_time": "2022-04-11T22:09:38.669Z"
   },
   {
    "duration": 9,
    "start_time": "2022-04-11T22:09:38.684Z"
   },
   {
    "duration": 9,
    "start_time": "2022-04-11T22:09:38.694Z"
   },
   {
    "duration": 7,
    "start_time": "2022-04-11T22:09:38.704Z"
   },
   {
    "duration": 74,
    "start_time": "2022-04-12T07:35:51.985Z"
   },
   {
    "duration": 1817,
    "start_time": "2022-04-12T07:35:55.948Z"
   },
   {
    "duration": 1340,
    "start_time": "2022-04-12T07:35:57.768Z"
   },
   {
    "duration": 36,
    "start_time": "2022-04-12T07:35:59.110Z"
   },
   {
    "duration": 15,
    "start_time": "2022-04-12T07:35:59.148Z"
   },
   {
    "duration": 141,
    "start_time": "2022-04-12T07:35:59.166Z"
   },
   {
    "duration": 30,
    "start_time": "2022-04-12T07:35:59.309Z"
   },
   {
    "duration": 41,
    "start_time": "2022-04-12T07:35:59.341Z"
   },
   {
    "duration": 107,
    "start_time": "2022-04-12T07:35:59.384Z"
   },
   {
    "duration": 30,
    "start_time": "2022-04-12T07:35:59.494Z"
   },
   {
    "duration": 9,
    "start_time": "2022-04-12T07:35:59.527Z"
   },
   {
    "duration": 102,
    "start_time": "2022-04-12T07:35:59.538Z"
   },
   {
    "duration": 16,
    "start_time": "2022-04-12T07:35:59.642Z"
   },
   {
    "duration": 22,
    "start_time": "2022-04-12T07:35:59.660Z"
   },
   {
    "duration": 45,
    "start_time": "2022-04-12T07:35:59.689Z"
   },
   {
    "duration": 19,
    "start_time": "2022-04-12T07:35:59.737Z"
   },
   {
    "duration": 29,
    "start_time": "2022-04-12T07:35:59.759Z"
   },
   {
    "duration": 126,
    "start_time": "2022-04-12T07:35:59.790Z"
   },
   {
    "duration": 12,
    "start_time": "2022-04-12T07:35:59.918Z"
   },
   {
    "duration": 8,
    "start_time": "2022-04-12T07:35:59.932Z"
   },
   {
    "duration": 558,
    "start_time": "2022-04-12T07:35:59.942Z"
   },
   {
    "duration": 82,
    "start_time": "2022-04-12T07:36:00.503Z"
   },
   {
    "duration": 15,
    "start_time": "2022-04-12T07:36:00.587Z"
   },
   {
    "duration": 515,
    "start_time": "2022-04-12T07:36:00.604Z"
   },
   {
    "duration": 81,
    "start_time": "2022-04-12T07:36:01.122Z"
   },
   {
    "duration": 12,
    "start_time": "2022-04-12T07:36:01.206Z"
   },
   {
    "duration": 508,
    "start_time": "2022-04-12T07:36:01.220Z"
   },
   {
    "duration": 7,
    "start_time": "2022-04-12T07:36:01.730Z"
   },
   {
    "duration": 73,
    "start_time": "2022-04-12T07:36:01.739Z"
   },
   {
    "duration": 35,
    "start_time": "2022-04-12T07:36:01.815Z"
   },
   {
    "duration": 52,
    "start_time": "2022-04-12T07:36:01.853Z"
   },
   {
    "duration": 236,
    "start_time": "2022-04-12T07:36:01.908Z"
   },
   {
    "duration": 37,
    "start_time": "2022-04-12T07:36:02.146Z"
   },
   {
    "duration": 39,
    "start_time": "2022-04-12T07:36:02.185Z"
   },
   {
    "duration": 23,
    "start_time": "2022-04-12T07:36:02.226Z"
   },
   {
    "duration": 46,
    "start_time": "2022-04-12T07:36:02.251Z"
   },
   {
    "duration": 28,
    "start_time": "2022-04-12T07:36:02.299Z"
   },
   {
    "duration": 39,
    "start_time": "2022-04-12T07:36:02.330Z"
   },
   {
    "duration": 64,
    "start_time": "2022-04-12T07:36:02.371Z"
   },
   {
    "duration": 69,
    "start_time": "2022-04-12T07:36:02.438Z"
   },
   {
    "duration": 20,
    "start_time": "2022-04-12T07:36:02.511Z"
   },
   {
    "duration": 531,
    "start_time": "2022-04-12T07:36:02.579Z"
   },
   {
    "duration": 10,
    "start_time": "2022-04-12T07:36:03.113Z"
   },
   {
    "duration": 950,
    "start_time": "2022-04-12T07:36:03.125Z"
   },
   {
    "duration": 1793,
    "start_time": "2022-04-12T07:36:04.082Z"
   },
   {
    "duration": 404,
    "start_time": "2022-04-12T07:36:05.878Z"
   },
   {
    "duration": 762,
    "start_time": "2022-04-12T07:36:06.285Z"
   },
   {
    "duration": 413,
    "start_time": "2022-04-12T07:36:07.050Z"
   },
   {
    "duration": 951,
    "start_time": "2022-04-12T07:36:07.465Z"
   },
   {
    "duration": 40,
    "start_time": "2022-04-12T07:36:08.418Z"
   },
   {
    "duration": 3200,
    "start_time": "2022-04-12T07:36:08.481Z"
   },
   {
    "duration": 12,
    "start_time": "2022-04-12T07:36:11.684Z"
   },
   {
    "duration": 21,
    "start_time": "2022-04-12T07:36:11.698Z"
   },
   {
    "duration": 10,
    "start_time": "2022-04-12T07:36:11.722Z"
   },
   {
    "duration": 11,
    "start_time": "2022-04-12T07:36:11.734Z"
   },
   {
    "duration": 141,
    "start_time": "2022-04-12T07:36:23.788Z"
   },
   {
    "duration": 24,
    "start_time": "2022-04-12T07:36:28.503Z"
   },
   {
    "duration": 14,
    "start_time": "2022-04-12T07:36:33.703Z"
   },
   {
    "duration": 111,
    "start_time": "2022-04-12T07:36:40.083Z"
   },
   {
    "duration": 32,
    "start_time": "2022-04-12T07:36:45.121Z"
   },
   {
    "duration": 13,
    "start_time": "2022-04-12T07:36:52.090Z"
   },
   {
    "duration": 59,
    "start_time": "2022-04-12T07:36:58.600Z"
   },
   {
    "duration": 15,
    "start_time": "2022-04-12T07:37:03.618Z"
   },
   {
    "duration": 12,
    "start_time": "2022-04-12T07:37:09.157Z"
   },
   {
    "duration": 142,
    "start_time": "2022-04-12T07:37:14.139Z"
   },
   {
    "duration": 21,
    "start_time": "2022-04-12T07:37:19.312Z"
   },
   {
    "duration": 16,
    "start_time": "2022-04-12T07:37:23.529Z"
   },
   {
    "duration": 113,
    "start_time": "2022-04-12T07:37:29.077Z"
   },
   {
    "duration": 8,
    "start_time": "2022-04-12T07:37:36.916Z"
   },
   {
    "duration": 14,
    "start_time": "2022-04-12T07:48:38.397Z"
   },
   {
    "duration": 25,
    "start_time": "2022-04-12T07:48:48.265Z"
   },
   {
    "duration": 39,
    "start_time": "2022-04-12T07:48:59.720Z"
   },
   {
    "duration": 47,
    "start_time": "2022-04-12T07:49:07.270Z"
   },
   {
    "duration": 41,
    "start_time": "2022-04-12T07:50:32.460Z"
   },
   {
    "duration": 141,
    "start_time": "2022-04-12T07:50:38.504Z"
   },
   {
    "duration": 25,
    "start_time": "2022-04-12T07:50:45.510Z"
   },
   {
    "duration": 19,
    "start_time": "2022-04-12T07:51:14.740Z"
   },
   {
    "duration": 15,
    "start_time": "2022-04-12T07:51:21.993Z"
   },
   {
    "duration": 26,
    "start_time": "2022-04-12T07:51:29.927Z"
   },
   {
    "duration": 9,
    "start_time": "2022-04-12T07:51:40.147Z"
   },
   {
    "duration": 24,
    "start_time": "2022-04-12T07:51:47.055Z"
   },
   {
    "duration": 17,
    "start_time": "2022-04-12T07:51:55.802Z"
   },
   {
    "duration": 29,
    "start_time": "2022-04-12T07:52:23.066Z"
   },
   {
    "duration": 18,
    "start_time": "2022-04-12T07:52:35.148Z"
   },
   {
    "duration": 11,
    "start_time": "2022-04-12T07:52:40.906Z"
   },
   {
    "duration": 242,
    "start_time": "2022-04-12T07:52:57.501Z"
   },
   {
    "duration": 106,
    "start_time": "2022-04-12T08:01:57.344Z"
   },
   {
    "duration": 14,
    "start_time": "2022-04-12T08:02:34.703Z"
   },
   {
    "duration": 16,
    "start_time": "2022-04-12T08:08:39.386Z"
   },
   {
    "duration": 14,
    "start_time": "2022-04-12T08:09:11.890Z"
   },
   {
    "duration": 12,
    "start_time": "2022-04-12T08:09:31.319Z"
   },
   {
    "duration": 12,
    "start_time": "2022-04-12T08:16:43.544Z"
   },
   {
    "duration": 19,
    "start_time": "2022-04-12T08:19:27.480Z"
   },
   {
    "duration": 12,
    "start_time": "2022-04-12T08:20:40.608Z"
   },
   {
    "duration": 10,
    "start_time": "2022-04-12T08:29:56.678Z"
   },
   {
    "duration": 1060,
    "start_time": "2022-04-12T08:29:56.692Z"
   },
   {
    "duration": 42,
    "start_time": "2022-04-12T08:29:57.755Z"
   },
   {
    "duration": 21,
    "start_time": "2022-04-12T08:29:57.802Z"
   },
   {
    "duration": 136,
    "start_time": "2022-04-12T08:29:57.826Z"
   },
   {
    "duration": 49,
    "start_time": "2022-04-12T08:29:57.964Z"
   },
   {
    "duration": 12,
    "start_time": "2022-04-12T08:29:58.015Z"
   },
   {
    "duration": 132,
    "start_time": "2022-04-12T08:29:58.029Z"
   },
   {
    "duration": 32,
    "start_time": "2022-04-12T08:29:58.163Z"
   },
   {
    "duration": 19,
    "start_time": "2022-04-12T08:29:58.199Z"
   },
   {
    "duration": 84,
    "start_time": "2022-04-12T08:29:58.220Z"
   },
   {
    "duration": 106,
    "start_time": "2022-04-12T08:29:58.307Z"
   },
   {
    "duration": 14,
    "start_time": "2022-04-12T08:29:58.416Z"
   },
   {
    "duration": 42,
    "start_time": "2022-04-12T08:29:58.437Z"
   },
   {
    "duration": 36,
    "start_time": "2022-04-12T08:29:58.481Z"
   },
   {
    "duration": 17,
    "start_time": "2022-04-12T08:29:58.519Z"
   },
   {
    "duration": 107,
    "start_time": "2022-04-12T08:29:58.539Z"
   },
   {
    "duration": 29,
    "start_time": "2022-04-12T08:29:58.648Z"
   },
   {
    "duration": 11,
    "start_time": "2022-04-12T08:29:58.682Z"
   },
   {
    "duration": 513,
    "start_time": "2022-04-12T08:29:58.695Z"
   },
   {
    "duration": 96,
    "start_time": "2022-04-12T08:29:59.210Z"
   },
   {
    "duration": 16,
    "start_time": "2022-04-12T08:29:59.308Z"
   },
   {
    "duration": 525,
    "start_time": "2022-04-12T08:29:59.327Z"
   },
   {
    "duration": 83,
    "start_time": "2022-04-12T08:29:59.854Z"
   },
   {
    "duration": 13,
    "start_time": "2022-04-12T08:29:59.939Z"
   },
   {
    "duration": 543,
    "start_time": "2022-04-12T08:29:59.954Z"
   },
   {
    "duration": 6,
    "start_time": "2022-04-12T08:30:00.505Z"
   },
   {
    "duration": 55,
    "start_time": "2022-04-12T08:30:00.513Z"
   },
   {
    "duration": 49,
    "start_time": "2022-04-12T08:30:00.570Z"
   },
   {
    "duration": 59,
    "start_time": "2022-04-12T08:30:00.622Z"
   },
   {
    "duration": 151,
    "start_time": "2022-04-12T08:30:00.684Z"
   },
   {
    "duration": 23,
    "start_time": "2022-04-12T08:30:00.837Z"
   },
   {
    "duration": 31,
    "start_time": "2022-04-12T08:30:00.877Z"
   },
   {
    "duration": 35,
    "start_time": "2022-04-12T08:30:00.910Z"
   },
   {
    "duration": 38,
    "start_time": "2022-04-12T08:30:00.947Z"
   },
   {
    "duration": 13,
    "start_time": "2022-04-12T08:30:00.988Z"
   },
   {
    "duration": 36,
    "start_time": "2022-04-12T08:30:01.005Z"
   },
   {
    "duration": 22,
    "start_time": "2022-04-12T08:30:01.043Z"
   },
   {
    "duration": 40,
    "start_time": "2022-04-12T08:30:01.067Z"
   },
   {
    "duration": 39,
    "start_time": "2022-04-12T08:30:01.110Z"
   },
   {
    "duration": 309,
    "start_time": "2022-04-12T08:30:01.155Z"
   },
   {
    "duration": 12,
    "start_time": "2022-04-12T08:30:01.468Z"
   },
   {
    "duration": 512,
    "start_time": "2022-04-12T08:30:01.482Z"
   },
   {
    "duration": 855,
    "start_time": "2022-04-12T08:30:01.997Z"
   },
   {
    "duration": 399,
    "start_time": "2022-04-12T08:30:02.854Z"
   },
   {
    "duration": 780,
    "start_time": "2022-04-12T08:30:03.255Z"
   },
   {
    "duration": 406,
    "start_time": "2022-04-12T08:30:04.038Z"
   },
   {
    "duration": 762,
    "start_time": "2022-04-12T08:30:04.447Z"
   },
   {
    "duration": 32,
    "start_time": "2022-04-12T08:30:05.212Z"
   },
   {
    "duration": 3199,
    "start_time": "2022-04-12T08:30:05.247Z"
   },
   {
    "duration": 9,
    "start_time": "2022-04-12T08:30:08.448Z"
   },
   {
    "duration": 11,
    "start_time": "2022-04-12T08:30:08.476Z"
   },
   {
    "duration": 30,
    "start_time": "2022-04-12T08:30:08.489Z"
   },
   {
    "duration": 27,
    "start_time": "2022-04-12T08:30:08.522Z"
   },
   {
    "duration": 17,
    "start_time": "2022-04-12T08:44:10.797Z"
   },
   {
    "duration": 6,
    "start_time": "2022-04-12T08:44:51.236Z"
   },
   {
    "duration": 1305,
    "start_time": "2022-04-12T08:44:51.245Z"
   },
   {
    "duration": 42,
    "start_time": "2022-04-12T08:44:52.553Z"
   },
   {
    "duration": 21,
    "start_time": "2022-04-12T08:44:52.600Z"
   },
   {
    "duration": 142,
    "start_time": "2022-04-12T08:44:52.625Z"
   },
   {
    "duration": 42,
    "start_time": "2022-04-12T08:44:52.776Z"
   },
   {
    "duration": 11,
    "start_time": "2022-04-12T08:44:52.820Z"
   },
   {
    "duration": 139,
    "start_time": "2022-04-12T08:44:52.833Z"
   },
   {
    "duration": 32,
    "start_time": "2022-04-12T08:44:52.981Z"
   },
   {
    "duration": 10,
    "start_time": "2022-04-12T08:44:53.016Z"
   },
   {
    "duration": 91,
    "start_time": "2022-04-12T08:44:53.030Z"
   },
   {
    "duration": 16,
    "start_time": "2022-04-12T08:44:53.124Z"
   },
   {
    "duration": 34,
    "start_time": "2022-04-12T08:44:53.143Z"
   },
   {
    "duration": 35,
    "start_time": "2022-04-12T08:44:53.181Z"
   },
   {
    "duration": 18,
    "start_time": "2022-04-12T08:44:53.218Z"
   },
   {
    "duration": 13,
    "start_time": "2022-04-12T08:44:53.238Z"
   },
   {
    "duration": 121,
    "start_time": "2022-04-12T08:44:53.253Z"
   },
   {
    "duration": 16,
    "start_time": "2022-04-12T08:44:53.384Z"
   },
   {
    "duration": 13,
    "start_time": "2022-04-12T08:44:53.402Z"
   },
   {
    "duration": 524,
    "start_time": "2022-04-12T08:44:53.417Z"
   },
   {
    "duration": 97,
    "start_time": "2022-04-12T08:44:53.943Z"
   },
   {
    "duration": 15,
    "start_time": "2022-04-12T08:44:54.042Z"
   },
   {
    "duration": 553,
    "start_time": "2022-04-12T08:44:54.059Z"
   },
   {
    "duration": 90,
    "start_time": "2022-04-12T08:44:54.615Z"
   },
   {
    "duration": 14,
    "start_time": "2022-04-12T08:44:54.707Z"
   },
   {
    "duration": 495,
    "start_time": "2022-04-12T08:44:54.724Z"
   },
   {
    "duration": 6,
    "start_time": "2022-04-12T08:44:55.222Z"
   },
   {
    "duration": 69,
    "start_time": "2022-04-12T08:44:55.231Z"
   },
   {
    "duration": 38,
    "start_time": "2022-04-12T08:44:55.306Z"
   },
   {
    "duration": 57,
    "start_time": "2022-04-12T08:44:55.346Z"
   },
   {
    "duration": 15,
    "start_time": "2022-04-12T08:44:55.406Z"
   },
   {
    "duration": 0,
    "start_time": "2022-04-12T08:44:55.423Z"
   },
   {
    "duration": 0,
    "start_time": "2022-04-12T08:44:55.425Z"
   },
   {
    "duration": 0,
    "start_time": "2022-04-12T08:44:55.427Z"
   },
   {
    "duration": 0,
    "start_time": "2022-04-12T08:44:55.428Z"
   },
   {
    "duration": 0,
    "start_time": "2022-04-12T08:44:55.430Z"
   },
   {
    "duration": 0,
    "start_time": "2022-04-12T08:44:55.431Z"
   },
   {
    "duration": 0,
    "start_time": "2022-04-12T08:44:55.432Z"
   },
   {
    "duration": 1,
    "start_time": "2022-04-12T08:44:55.433Z"
   },
   {
    "duration": 0,
    "start_time": "2022-04-12T08:44:55.435Z"
   },
   {
    "duration": 0,
    "start_time": "2022-04-12T08:44:55.436Z"
   },
   {
    "duration": 0,
    "start_time": "2022-04-12T08:44:55.438Z"
   },
   {
    "duration": 0,
    "start_time": "2022-04-12T08:44:55.474Z"
   },
   {
    "duration": 0,
    "start_time": "2022-04-12T08:44:55.475Z"
   },
   {
    "duration": 0,
    "start_time": "2022-04-12T08:44:55.476Z"
   },
   {
    "duration": 0,
    "start_time": "2022-04-12T08:44:55.477Z"
   },
   {
    "duration": 0,
    "start_time": "2022-04-12T08:44:55.481Z"
   },
   {
    "duration": 0,
    "start_time": "2022-04-12T08:44:55.482Z"
   },
   {
    "duration": 0,
    "start_time": "2022-04-12T08:44:55.484Z"
   },
   {
    "duration": 0,
    "start_time": "2022-04-12T08:44:55.492Z"
   },
   {
    "duration": 0,
    "start_time": "2022-04-12T08:44:55.494Z"
   },
   {
    "duration": 0,
    "start_time": "2022-04-12T08:44:55.495Z"
   },
   {
    "duration": 0,
    "start_time": "2022-04-12T08:44:55.497Z"
   },
   {
    "duration": 0,
    "start_time": "2022-04-12T08:44:55.498Z"
   },
   {
    "duration": 24,
    "start_time": "2022-04-12T08:48:02.387Z"
   },
   {
    "duration": 19,
    "start_time": "2022-04-12T08:48:58.599Z"
   },
   {
    "duration": 29,
    "start_time": "2022-04-12T08:51:54.717Z"
   },
   {
    "duration": 39,
    "start_time": "2022-04-12T08:52:03.514Z"
   },
   {
    "duration": 7,
    "start_time": "2022-04-12T08:52:51.797Z"
   },
   {
    "duration": 1019,
    "start_time": "2022-04-12T08:52:51.808Z"
   },
   {
    "duration": 33,
    "start_time": "2022-04-12T08:52:52.829Z"
   },
   {
    "duration": 14,
    "start_time": "2022-04-12T08:52:52.865Z"
   },
   {
    "duration": 145,
    "start_time": "2022-04-12T08:52:52.882Z"
   },
   {
    "duration": 46,
    "start_time": "2022-04-12T08:52:53.030Z"
   },
   {
    "duration": 22,
    "start_time": "2022-04-12T08:52:53.082Z"
   },
   {
    "duration": 116,
    "start_time": "2022-04-12T08:52:53.107Z"
   },
   {
    "duration": 26,
    "start_time": "2022-04-12T08:52:53.229Z"
   },
   {
    "duration": 29,
    "start_time": "2022-04-12T08:52:53.257Z"
   },
   {
    "duration": 79,
    "start_time": "2022-04-12T08:52:53.288Z"
   },
   {
    "duration": 20,
    "start_time": "2022-04-12T08:52:53.373Z"
   },
   {
    "duration": 18,
    "start_time": "2022-04-12T08:52:53.396Z"
   },
   {
    "duration": 16,
    "start_time": "2022-04-12T08:52:53.417Z"
   },
   {
    "duration": 42,
    "start_time": "2022-04-12T08:52:53.435Z"
   },
   {
    "duration": 9,
    "start_time": "2022-04-12T08:52:53.485Z"
   },
   {
    "duration": 115,
    "start_time": "2022-04-12T08:52:53.495Z"
   },
   {
    "duration": 14,
    "start_time": "2022-04-12T08:52:53.612Z"
   },
   {
    "duration": 7,
    "start_time": "2022-04-12T08:52:53.628Z"
   },
   {
    "duration": 503,
    "start_time": "2022-04-12T08:52:53.638Z"
   },
   {
    "duration": 97,
    "start_time": "2022-04-12T08:52:54.143Z"
   },
   {
    "duration": 18,
    "start_time": "2022-04-12T08:52:54.242Z"
   },
   {
    "duration": 500,
    "start_time": "2022-04-12T08:52:54.262Z"
   },
   {
    "duration": 79,
    "start_time": "2022-04-12T08:52:54.767Z"
   },
   {
    "duration": 36,
    "start_time": "2022-04-12T08:52:54.849Z"
   },
   {
    "duration": 509,
    "start_time": "2022-04-12T08:52:54.888Z"
   },
   {
    "duration": 5,
    "start_time": "2022-04-12T08:52:55.403Z"
   },
   {
    "duration": 45,
    "start_time": "2022-04-12T08:52:55.410Z"
   },
   {
    "duration": 57,
    "start_time": "2022-04-12T08:52:55.457Z"
   },
   {
    "duration": 30,
    "start_time": "2022-04-12T08:52:55.516Z"
   },
   {
    "duration": 64,
    "start_time": "2022-04-12T08:52:55.548Z"
   },
   {
    "duration": 17,
    "start_time": "2022-04-12T08:52:55.615Z"
   },
   {
    "duration": 0,
    "start_time": "2022-04-12T08:52:55.635Z"
   },
   {
    "duration": 0,
    "start_time": "2022-04-12T08:52:55.636Z"
   },
   {
    "duration": 0,
    "start_time": "2022-04-12T08:52:55.638Z"
   },
   {
    "duration": 0,
    "start_time": "2022-04-12T08:52:55.640Z"
   },
   {
    "duration": 0,
    "start_time": "2022-04-12T08:52:55.641Z"
   },
   {
    "duration": 0,
    "start_time": "2022-04-12T08:52:55.673Z"
   },
   {
    "duration": 0,
    "start_time": "2022-04-12T08:52:55.674Z"
   },
   {
    "duration": 0,
    "start_time": "2022-04-12T08:52:55.677Z"
   },
   {
    "duration": 0,
    "start_time": "2022-04-12T08:52:55.678Z"
   },
   {
    "duration": 0,
    "start_time": "2022-04-12T08:52:55.679Z"
   },
   {
    "duration": 0,
    "start_time": "2022-04-12T08:52:55.680Z"
   },
   {
    "duration": 0,
    "start_time": "2022-04-12T08:52:55.686Z"
   },
   {
    "duration": 0,
    "start_time": "2022-04-12T08:52:55.690Z"
   },
   {
    "duration": 0,
    "start_time": "2022-04-12T08:52:55.694Z"
   },
   {
    "duration": 0,
    "start_time": "2022-04-12T08:52:55.696Z"
   },
   {
    "duration": 0,
    "start_time": "2022-04-12T08:52:55.700Z"
   },
   {
    "duration": 0,
    "start_time": "2022-04-12T08:52:55.702Z"
   },
   {
    "duration": 0,
    "start_time": "2022-04-12T08:52:55.704Z"
   },
   {
    "duration": 0,
    "start_time": "2022-04-12T08:52:55.706Z"
   },
   {
    "duration": 0,
    "start_time": "2022-04-12T08:52:55.708Z"
   },
   {
    "duration": 0,
    "start_time": "2022-04-12T08:52:55.710Z"
   },
   {
    "duration": 0,
    "start_time": "2022-04-12T08:52:55.713Z"
   },
   {
    "duration": 7,
    "start_time": "2022-04-12T08:53:52.631Z"
   },
   {
    "duration": 1059,
    "start_time": "2022-04-12T08:53:52.640Z"
   },
   {
    "duration": 33,
    "start_time": "2022-04-12T08:53:53.701Z"
   },
   {
    "duration": 11,
    "start_time": "2022-04-12T08:53:53.737Z"
   },
   {
    "duration": 141,
    "start_time": "2022-04-12T08:53:53.750Z"
   },
   {
    "duration": 33,
    "start_time": "2022-04-12T08:53:53.894Z"
   },
   {
    "duration": 12,
    "start_time": "2022-04-12T08:53:53.930Z"
   },
   {
    "duration": 134,
    "start_time": "2022-04-12T08:53:53.980Z"
   },
   {
    "duration": 25,
    "start_time": "2022-04-12T08:53:54.117Z"
   },
   {
    "duration": 135,
    "start_time": "2022-04-12T08:53:54.144Z"
   },
   {
    "duration": 85,
    "start_time": "2022-04-12T08:53:54.282Z"
   },
   {
    "duration": 22,
    "start_time": "2022-04-12T08:53:54.369Z"
   },
   {
    "duration": 24,
    "start_time": "2022-04-12T08:53:54.393Z"
   },
   {
    "duration": 16,
    "start_time": "2022-04-12T08:53:54.419Z"
   },
   {
    "duration": 16,
    "start_time": "2022-04-12T08:53:54.437Z"
   },
   {
    "duration": 8,
    "start_time": "2022-04-12T08:53:54.455Z"
   },
   {
    "duration": 117,
    "start_time": "2022-04-12T08:53:54.465Z"
   },
   {
    "duration": 16,
    "start_time": "2022-04-12T08:53:54.586Z"
   },
   {
    "duration": 6,
    "start_time": "2022-04-12T08:53:54.605Z"
   },
   {
    "duration": 705,
    "start_time": "2022-04-12T08:53:54.613Z"
   },
   {
    "duration": 190,
    "start_time": "2022-04-12T08:53:55.320Z"
   },
   {
    "duration": 13,
    "start_time": "2022-04-12T08:53:55.512Z"
   },
   {
    "duration": 493,
    "start_time": "2022-04-12T08:53:55.528Z"
   },
   {
    "duration": 83,
    "start_time": "2022-04-12T08:53:56.026Z"
   },
   {
    "duration": 13,
    "start_time": "2022-04-12T08:53:56.111Z"
   },
   {
    "duration": 479,
    "start_time": "2022-04-12T08:53:56.126Z"
   },
   {
    "duration": 5,
    "start_time": "2022-04-12T08:53:56.607Z"
   },
   {
    "duration": 37,
    "start_time": "2022-04-12T08:53:56.615Z"
   },
   {
    "duration": 63,
    "start_time": "2022-04-12T08:53:56.654Z"
   },
   {
    "duration": 29,
    "start_time": "2022-04-12T08:53:56.719Z"
   },
   {
    "duration": 66,
    "start_time": "2022-04-12T08:53:56.750Z"
   },
   {
    "duration": 3,
    "start_time": "2022-04-12T08:53:56.818Z"
   },
   {
    "duration": 35,
    "start_time": "2022-04-12T08:53:56.823Z"
   },
   {
    "duration": 0,
    "start_time": "2022-04-12T08:53:56.860Z"
   },
   {
    "duration": 0,
    "start_time": "2022-04-12T08:53:56.861Z"
   },
   {
    "duration": 0,
    "start_time": "2022-04-12T08:53:56.863Z"
   },
   {
    "duration": 0,
    "start_time": "2022-04-12T08:53:56.878Z"
   },
   {
    "duration": 0,
    "start_time": "2022-04-12T08:53:56.879Z"
   },
   {
    "duration": 0,
    "start_time": "2022-04-12T08:53:56.882Z"
   },
   {
    "duration": 0,
    "start_time": "2022-04-12T08:53:56.884Z"
   },
   {
    "duration": 0,
    "start_time": "2022-04-12T08:53:56.885Z"
   },
   {
    "duration": 0,
    "start_time": "2022-04-12T08:53:56.887Z"
   },
   {
    "duration": 0,
    "start_time": "2022-04-12T08:53:56.888Z"
   },
   {
    "duration": 0,
    "start_time": "2022-04-12T08:53:56.890Z"
   },
   {
    "duration": 0,
    "start_time": "2022-04-12T08:53:56.892Z"
   },
   {
    "duration": 0,
    "start_time": "2022-04-12T08:53:56.894Z"
   },
   {
    "duration": 0,
    "start_time": "2022-04-12T08:53:56.895Z"
   },
   {
    "duration": 0,
    "start_time": "2022-04-12T08:53:56.898Z"
   },
   {
    "duration": 0,
    "start_time": "2022-04-12T08:53:56.899Z"
   },
   {
    "duration": 0,
    "start_time": "2022-04-12T08:53:56.901Z"
   },
   {
    "duration": 0,
    "start_time": "2022-04-12T08:53:56.903Z"
   },
   {
    "duration": 0,
    "start_time": "2022-04-12T08:53:56.904Z"
   },
   {
    "duration": 0,
    "start_time": "2022-04-12T08:53:56.905Z"
   },
   {
    "duration": 0,
    "start_time": "2022-04-12T08:53:56.907Z"
   },
   {
    "duration": 7,
    "start_time": "2022-04-12T08:55:29.247Z"
   },
   {
    "duration": 952,
    "start_time": "2022-04-12T08:55:29.256Z"
   },
   {
    "duration": 34,
    "start_time": "2022-04-12T08:55:30.210Z"
   },
   {
    "duration": 12,
    "start_time": "2022-04-12T08:55:30.246Z"
   },
   {
    "duration": 147,
    "start_time": "2022-04-12T08:55:30.261Z"
   },
   {
    "duration": 29,
    "start_time": "2022-04-12T08:55:30.410Z"
   },
   {
    "duration": 11,
    "start_time": "2022-04-12T08:55:30.442Z"
   },
   {
    "duration": 114,
    "start_time": "2022-04-12T08:55:30.481Z"
   },
   {
    "duration": 26,
    "start_time": "2022-04-12T08:55:30.599Z"
   },
   {
    "duration": 11,
    "start_time": "2022-04-12T08:55:30.627Z"
   },
   {
    "duration": 94,
    "start_time": "2022-04-12T08:55:30.642Z"
   },
   {
    "duration": 16,
    "start_time": "2022-04-12T08:55:30.738Z"
   },
   {
    "duration": 36,
    "start_time": "2022-04-12T08:55:30.756Z"
   },
   {
    "duration": 38,
    "start_time": "2022-04-12T08:55:30.795Z"
   },
   {
    "duration": 24,
    "start_time": "2022-04-12T08:55:30.835Z"
   },
   {
    "duration": 27,
    "start_time": "2022-04-12T08:55:30.861Z"
   },
   {
    "duration": 127,
    "start_time": "2022-04-12T08:55:30.890Z"
   },
   {
    "duration": 13,
    "start_time": "2022-04-12T08:55:31.019Z"
   },
   {
    "duration": 21,
    "start_time": "2022-04-12T08:55:31.034Z"
   },
   {
    "duration": 529,
    "start_time": "2022-04-12T08:55:31.057Z"
   },
   {
    "duration": 82,
    "start_time": "2022-04-12T08:55:31.592Z"
   },
   {
    "duration": 24,
    "start_time": "2022-04-12T08:55:31.676Z"
   },
   {
    "duration": 520,
    "start_time": "2022-04-12T08:55:31.703Z"
   },
   {
    "duration": 84,
    "start_time": "2022-04-12T08:55:32.225Z"
   },
   {
    "duration": 13,
    "start_time": "2022-04-12T08:55:32.311Z"
   },
   {
    "duration": 485,
    "start_time": "2022-04-12T08:55:32.327Z"
   },
   {
    "duration": 6,
    "start_time": "2022-04-12T08:55:32.815Z"
   },
   {
    "duration": 66,
    "start_time": "2022-04-12T08:55:32.823Z"
   },
   {
    "duration": 38,
    "start_time": "2022-04-12T08:55:32.896Z"
   },
   {
    "duration": 60,
    "start_time": "2022-04-12T08:55:32.936Z"
   },
   {
    "duration": 39,
    "start_time": "2022-04-12T08:55:33.002Z"
   },
   {
    "duration": 4,
    "start_time": "2022-04-12T08:55:33.043Z"
   },
   {
    "duration": 43,
    "start_time": "2022-04-12T08:55:33.049Z"
   },
   {
    "duration": 0,
    "start_time": "2022-04-12T08:55:33.101Z"
   },
   {
    "duration": 0,
    "start_time": "2022-04-12T08:55:33.102Z"
   },
   {
    "duration": 0,
    "start_time": "2022-04-12T08:55:33.104Z"
   },
   {
    "duration": 0,
    "start_time": "2022-04-12T08:55:33.105Z"
   },
   {
    "duration": 0,
    "start_time": "2022-04-12T08:55:33.107Z"
   },
   {
    "duration": 0,
    "start_time": "2022-04-12T08:55:33.109Z"
   },
   {
    "duration": 0,
    "start_time": "2022-04-12T08:55:33.110Z"
   },
   {
    "duration": 0,
    "start_time": "2022-04-12T08:55:33.112Z"
   },
   {
    "duration": 0,
    "start_time": "2022-04-12T08:55:33.114Z"
   },
   {
    "duration": 0,
    "start_time": "2022-04-12T08:55:33.117Z"
   },
   {
    "duration": 0,
    "start_time": "2022-04-12T08:55:33.118Z"
   },
   {
    "duration": 0,
    "start_time": "2022-04-12T08:55:33.120Z"
   },
   {
    "duration": 0,
    "start_time": "2022-04-12T08:55:33.121Z"
   },
   {
    "duration": 0,
    "start_time": "2022-04-12T08:55:33.123Z"
   },
   {
    "duration": 0,
    "start_time": "2022-04-12T08:55:33.125Z"
   },
   {
    "duration": 0,
    "start_time": "2022-04-12T08:55:33.126Z"
   },
   {
    "duration": 0,
    "start_time": "2022-04-12T08:55:33.128Z"
   },
   {
    "duration": 0,
    "start_time": "2022-04-12T08:55:33.129Z"
   },
   {
    "duration": 0,
    "start_time": "2022-04-12T08:55:33.131Z"
   },
   {
    "duration": 0,
    "start_time": "2022-04-12T08:55:33.132Z"
   },
   {
    "duration": 0,
    "start_time": "2022-04-12T08:55:33.178Z"
   },
   {
    "duration": 6,
    "start_time": "2022-04-12T08:55:59.162Z"
   },
   {
    "duration": 966,
    "start_time": "2022-04-12T08:55:59.170Z"
   },
   {
    "duration": 33,
    "start_time": "2022-04-12T08:56:00.139Z"
   },
   {
    "duration": 12,
    "start_time": "2022-04-12T08:56:00.176Z"
   },
   {
    "duration": 155,
    "start_time": "2022-04-12T08:56:00.190Z"
   },
   {
    "duration": 42,
    "start_time": "2022-04-12T08:56:00.347Z"
   },
   {
    "duration": 12,
    "start_time": "2022-04-12T08:56:00.397Z"
   },
   {
    "duration": 125,
    "start_time": "2022-04-12T08:56:00.411Z"
   },
   {
    "duration": 37,
    "start_time": "2022-04-12T08:56:00.540Z"
   },
   {
    "duration": 18,
    "start_time": "2022-04-12T08:56:00.584Z"
   },
   {
    "duration": 79,
    "start_time": "2022-04-12T08:56:00.605Z"
   },
   {
    "duration": 18,
    "start_time": "2022-04-12T08:56:00.686Z"
   },
   {
    "duration": 20,
    "start_time": "2022-04-12T08:56:00.706Z"
   },
   {
    "duration": 34,
    "start_time": "2022-04-12T08:56:00.729Z"
   },
   {
    "duration": 25,
    "start_time": "2022-04-12T08:56:00.765Z"
   },
   {
    "duration": 30,
    "start_time": "2022-04-12T08:56:00.794Z"
   },
   {
    "duration": 112,
    "start_time": "2022-04-12T08:56:00.826Z"
   },
   {
    "duration": 13,
    "start_time": "2022-04-12T08:56:00.941Z"
   },
   {
    "duration": 28,
    "start_time": "2022-04-12T08:56:00.956Z"
   },
   {
    "duration": 528,
    "start_time": "2022-04-12T08:56:00.989Z"
   },
   {
    "duration": 95,
    "start_time": "2022-04-12T08:56:01.521Z"
   },
   {
    "duration": 14,
    "start_time": "2022-04-12T08:56:01.618Z"
   },
   {
    "duration": 511,
    "start_time": "2022-04-12T08:56:01.634Z"
   },
   {
    "duration": 81,
    "start_time": "2022-04-12T08:56:02.153Z"
   },
   {
    "duration": 15,
    "start_time": "2022-04-12T08:56:02.236Z"
   },
   {
    "duration": 547,
    "start_time": "2022-04-12T08:56:02.253Z"
   },
   {
    "duration": 6,
    "start_time": "2022-04-12T08:56:02.803Z"
   },
   {
    "duration": 45,
    "start_time": "2022-04-12T08:56:02.812Z"
   },
   {
    "duration": 42,
    "start_time": "2022-04-12T08:56:02.883Z"
   },
   {
    "duration": 55,
    "start_time": "2022-04-12T08:56:02.928Z"
   },
   {
    "duration": 149,
    "start_time": "2022-04-12T08:56:02.985Z"
   },
   {
    "duration": 4,
    "start_time": "2022-04-12T08:56:03.137Z"
   },
   {
    "duration": 13,
    "start_time": "2022-04-12T08:56:03.143Z"
   },
   {
    "duration": 56,
    "start_time": "2022-04-12T08:56:03.158Z"
   },
   {
    "duration": 26,
    "start_time": "2022-04-12T08:56:03.216Z"
   },
   {
    "duration": 0,
    "start_time": "2022-04-12T08:56:03.244Z"
   },
   {
    "duration": 0,
    "start_time": "2022-04-12T08:56:03.246Z"
   },
   {
    "duration": 0,
    "start_time": "2022-04-12T08:56:03.247Z"
   },
   {
    "duration": 0,
    "start_time": "2022-04-12T08:56:03.248Z"
   },
   {
    "duration": 0,
    "start_time": "2022-04-12T08:56:03.250Z"
   },
   {
    "duration": 0,
    "start_time": "2022-04-12T08:56:03.251Z"
   },
   {
    "duration": 0,
    "start_time": "2022-04-12T08:56:03.253Z"
   },
   {
    "duration": 0,
    "start_time": "2022-04-12T08:56:03.254Z"
   },
   {
    "duration": 0,
    "start_time": "2022-04-12T08:56:03.256Z"
   },
   {
    "duration": 0,
    "start_time": "2022-04-12T08:56:03.257Z"
   },
   {
    "duration": 0,
    "start_time": "2022-04-12T08:56:03.258Z"
   },
   {
    "duration": 0,
    "start_time": "2022-04-12T08:56:03.260Z"
   },
   {
    "duration": 0,
    "start_time": "2022-04-12T08:56:03.261Z"
   },
   {
    "duration": 0,
    "start_time": "2022-04-12T08:56:03.262Z"
   },
   {
    "duration": 0,
    "start_time": "2022-04-12T08:56:03.277Z"
   },
   {
    "duration": 0,
    "start_time": "2022-04-12T08:56:03.285Z"
   },
   {
    "duration": 0,
    "start_time": "2022-04-12T08:56:03.287Z"
   },
   {
    "duration": 0,
    "start_time": "2022-04-12T08:56:03.292Z"
   },
   {
    "duration": 0,
    "start_time": "2022-04-12T08:56:03.296Z"
   },
   {
    "duration": 20,
    "start_time": "2022-04-12T08:57:11.095Z"
   },
   {
    "duration": 21,
    "start_time": "2022-04-12T08:58:22.560Z"
   },
   {
    "duration": 25,
    "start_time": "2022-04-12T08:58:38.903Z"
   },
   {
    "duration": 19,
    "start_time": "2022-04-12T08:58:50.098Z"
   },
   {
    "duration": 12,
    "start_time": "2022-04-12T08:58:55.007Z"
   },
   {
    "duration": 9,
    "start_time": "2022-04-12T08:59:00.681Z"
   },
   {
    "duration": 1035,
    "start_time": "2022-04-12T08:59:00.693Z"
   },
   {
    "duration": 34,
    "start_time": "2022-04-12T08:59:01.730Z"
   },
   {
    "duration": 24,
    "start_time": "2022-04-12T08:59:01.767Z"
   },
   {
    "duration": 173,
    "start_time": "2022-04-12T08:59:01.794Z"
   },
   {
    "duration": 42,
    "start_time": "2022-04-12T08:59:01.969Z"
   },
   {
    "duration": 12,
    "start_time": "2022-04-12T08:59:02.013Z"
   },
   {
    "duration": 140,
    "start_time": "2022-04-12T08:59:02.028Z"
   },
   {
    "duration": 34,
    "start_time": "2022-04-12T08:59:02.173Z"
   },
   {
    "duration": 12,
    "start_time": "2022-04-12T08:59:02.209Z"
   },
   {
    "duration": 100,
    "start_time": "2022-04-12T08:59:02.222Z"
   },
   {
    "duration": 15,
    "start_time": "2022-04-12T08:59:02.324Z"
   },
   {
    "duration": 42,
    "start_time": "2022-04-12T08:59:02.341Z"
   },
   {
    "duration": 40,
    "start_time": "2022-04-12T08:59:02.385Z"
   },
   {
    "duration": 26,
    "start_time": "2022-04-12T08:59:02.427Z"
   },
   {
    "duration": 11,
    "start_time": "2022-04-12T08:59:02.456Z"
   },
   {
    "duration": 124,
    "start_time": "2022-04-12T08:59:02.470Z"
   },
   {
    "duration": 16,
    "start_time": "2022-04-12T08:59:02.596Z"
   },
   {
    "duration": 6,
    "start_time": "2022-04-12T08:59:02.615Z"
   },
   {
    "duration": 515,
    "start_time": "2022-04-12T08:59:02.624Z"
   },
   {
    "duration": 97,
    "start_time": "2022-04-12T08:59:03.141Z"
   },
   {
    "duration": 14,
    "start_time": "2022-04-12T08:59:03.240Z"
   },
   {
    "duration": 529,
    "start_time": "2022-04-12T08:59:03.256Z"
   },
   {
    "duration": 66,
    "start_time": "2022-04-12T08:59:03.793Z"
   },
   {
    "duration": 25,
    "start_time": "2022-04-12T08:59:03.861Z"
   },
   {
    "duration": 532,
    "start_time": "2022-04-12T08:59:03.893Z"
   },
   {
    "duration": 5,
    "start_time": "2022-04-12T08:59:04.428Z"
   },
   {
    "duration": 66,
    "start_time": "2022-04-12T08:59:04.435Z"
   },
   {
    "duration": 33,
    "start_time": "2022-04-12T08:59:04.504Z"
   },
   {
    "duration": 47,
    "start_time": "2022-04-12T08:59:04.539Z"
   },
   {
    "duration": 41,
    "start_time": "2022-04-12T08:59:04.593Z"
   },
   {
    "duration": 24,
    "start_time": "2022-04-12T08:59:04.636Z"
   },
   {
    "duration": 31,
    "start_time": "2022-04-12T08:59:04.662Z"
   },
   {
    "duration": 23,
    "start_time": "2022-04-12T08:59:04.695Z"
   },
   {
    "duration": 25,
    "start_time": "2022-04-12T08:59:04.720Z"
   },
   {
    "duration": 35,
    "start_time": "2022-04-12T08:59:04.747Z"
   },
   {
    "duration": 1974,
    "start_time": "2022-04-12T08:59:04.785Z"
   },
   {
    "duration": 0,
    "start_time": "2022-04-12T08:59:06.762Z"
   },
   {
    "duration": 0,
    "start_time": "2022-04-12T08:59:06.763Z"
   },
   {
    "duration": 0,
    "start_time": "2022-04-12T08:59:06.765Z"
   },
   {
    "duration": 1,
    "start_time": "2022-04-12T08:59:06.766Z"
   },
   {
    "duration": 0,
    "start_time": "2022-04-12T08:59:06.769Z"
   },
   {
    "duration": 0,
    "start_time": "2022-04-12T08:59:06.770Z"
   },
   {
    "duration": 0,
    "start_time": "2022-04-12T08:59:06.771Z"
   },
   {
    "duration": 0,
    "start_time": "2022-04-12T08:59:06.773Z"
   },
   {
    "duration": 0,
    "start_time": "2022-04-12T08:59:06.774Z"
   },
   {
    "duration": 0,
    "start_time": "2022-04-12T08:59:06.776Z"
   },
   {
    "duration": 0,
    "start_time": "2022-04-12T08:59:06.778Z"
   },
   {
    "duration": 0,
    "start_time": "2022-04-12T08:59:06.780Z"
   },
   {
    "duration": 0,
    "start_time": "2022-04-12T08:59:06.781Z"
   },
   {
    "duration": 0,
    "start_time": "2022-04-12T08:59:06.783Z"
   },
   {
    "duration": 0,
    "start_time": "2022-04-12T08:59:06.784Z"
   },
   {
    "duration": 0,
    "start_time": "2022-04-12T08:59:06.785Z"
   },
   {
    "duration": 0,
    "start_time": "2022-04-12T08:59:06.787Z"
   },
   {
    "duration": 142,
    "start_time": "2022-04-12T09:00:47.821Z"
   },
   {
    "duration": 23,
    "start_time": "2022-04-12T09:01:06.020Z"
   },
   {
    "duration": 28,
    "start_time": "2022-04-12T09:01:12.168Z"
   },
   {
    "duration": 20,
    "start_time": "2022-04-12T09:01:27.550Z"
   },
   {
    "duration": 11,
    "start_time": "2022-04-12T09:01:38.490Z"
   },
   {
    "duration": 1031,
    "start_time": "2022-04-12T09:01:38.504Z"
   },
   {
    "duration": 32,
    "start_time": "2022-04-12T09:01:39.538Z"
   },
   {
    "duration": 22,
    "start_time": "2022-04-12T09:01:39.573Z"
   },
   {
    "duration": 145,
    "start_time": "2022-04-12T09:01:39.598Z"
   },
   {
    "duration": 41,
    "start_time": "2022-04-12T09:01:39.745Z"
   },
   {
    "duration": 31,
    "start_time": "2022-04-12T09:01:39.789Z"
   },
   {
    "duration": 118,
    "start_time": "2022-04-12T09:01:39.823Z"
   },
   {
    "duration": 33,
    "start_time": "2022-04-12T09:01:39.944Z"
   },
   {
    "duration": 27,
    "start_time": "2022-04-12T09:01:39.982Z"
   },
   {
    "duration": 69,
    "start_time": "2022-04-12T09:01:40.011Z"
   },
   {
    "duration": 24,
    "start_time": "2022-04-12T09:01:40.082Z"
   },
   {
    "duration": 19,
    "start_time": "2022-04-12T09:01:40.108Z"
   },
   {
    "duration": 20,
    "start_time": "2022-04-12T09:01:40.132Z"
   },
   {
    "duration": 61,
    "start_time": "2022-04-12T09:01:40.154Z"
   },
   {
    "duration": 11,
    "start_time": "2022-04-12T09:01:40.218Z"
   },
   {
    "duration": 122,
    "start_time": "2022-04-12T09:01:40.231Z"
   },
   {
    "duration": 21,
    "start_time": "2022-04-12T09:01:40.356Z"
   },
   {
    "duration": 44,
    "start_time": "2022-04-12T09:01:40.380Z"
   },
   {
    "duration": 495,
    "start_time": "2022-04-12T09:01:40.426Z"
   },
   {
    "duration": 91,
    "start_time": "2022-04-12T09:01:40.924Z"
   },
   {
    "duration": 15,
    "start_time": "2022-04-12T09:01:41.018Z"
   },
   {
    "duration": 601,
    "start_time": "2022-04-12T09:01:41.035Z"
   },
   {
    "duration": 81,
    "start_time": "2022-04-12T09:01:41.638Z"
   },
   {
    "duration": 12,
    "start_time": "2022-04-12T09:01:41.722Z"
   },
   {
    "duration": 496,
    "start_time": "2022-04-12T09:01:41.736Z"
   },
   {
    "duration": 7,
    "start_time": "2022-04-12T09:01:42.235Z"
   },
   {
    "duration": 62,
    "start_time": "2022-04-12T09:01:42.245Z"
   },
   {
    "duration": 39,
    "start_time": "2022-04-12T09:01:42.309Z"
   },
   {
    "duration": 42,
    "start_time": "2022-04-12T09:01:42.382Z"
   },
   {
    "duration": 139,
    "start_time": "2022-04-12T09:01:42.426Z"
   },
   {
    "duration": 40,
    "start_time": "2022-04-12T09:01:42.567Z"
   },
   {
    "duration": 18,
    "start_time": "2022-04-12T09:01:42.609Z"
   },
   {
    "duration": 11,
    "start_time": "2022-04-12T09:01:42.629Z"
   },
   {
    "duration": 53,
    "start_time": "2022-04-12T09:01:42.642Z"
   },
   {
    "duration": 9,
    "start_time": "2022-04-12T09:01:42.700Z"
   },
   {
    "duration": 19,
    "start_time": "2022-04-12T09:01:42.712Z"
   },
   {
    "duration": 42,
    "start_time": "2022-04-12T09:01:42.734Z"
   },
   {
    "duration": 15,
    "start_time": "2022-04-12T09:01:42.778Z"
   },
   {
    "duration": 15,
    "start_time": "2022-04-12T09:01:42.796Z"
   },
   {
    "duration": 272,
    "start_time": "2022-04-12T09:01:42.817Z"
   },
   {
    "duration": 14,
    "start_time": "2022-04-12T09:01:43.091Z"
   },
   {
    "duration": 422,
    "start_time": "2022-04-12T09:01:43.107Z"
   },
   {
    "duration": 799,
    "start_time": "2022-04-12T09:01:43.532Z"
   },
   {
    "duration": 493,
    "start_time": "2022-04-12T09:01:44.333Z"
   },
   {
    "duration": 809,
    "start_time": "2022-04-12T09:01:44.829Z"
   },
   {
    "duration": 399,
    "start_time": "2022-04-12T09:01:45.641Z"
   },
   {
    "duration": 767,
    "start_time": "2022-04-12T09:01:46.043Z"
   },
   {
    "duration": 32,
    "start_time": "2022-04-12T09:01:46.813Z"
   },
   {
    "duration": 3137,
    "start_time": "2022-04-12T09:01:46.847Z"
   },
   {
    "duration": 11,
    "start_time": "2022-04-12T09:01:49.987Z"
   },
   {
    "duration": 16,
    "start_time": "2022-04-12T09:01:50.000Z"
   },
   {
    "duration": 16,
    "start_time": "2022-04-12T09:01:50.019Z"
   },
   {
    "duration": 17,
    "start_time": "2022-04-12T09:01:50.037Z"
   },
   {
    "duration": 20,
    "start_time": "2022-04-12T09:05:05.227Z"
   },
   {
    "duration": 15,
    "start_time": "2022-04-12T09:07:04.408Z"
   },
   {
    "duration": 18,
    "start_time": "2022-04-12T09:13:40.383Z"
   },
   {
    "duration": 19,
    "start_time": "2022-04-12T09:14:16.232Z"
   },
   {
    "duration": 112,
    "start_time": "2022-04-12T09:14:33.274Z"
   },
   {
    "duration": 30,
    "start_time": "2022-04-12T09:14:58.171Z"
   },
   {
    "duration": 14,
    "start_time": "2022-04-12T09:15:36.813Z"
   },
   {
    "duration": 14,
    "start_time": "2022-04-12T09:16:21.921Z"
   },
   {
    "duration": 11,
    "start_time": "2022-04-12T09:16:52.123Z"
   },
   {
    "duration": 26,
    "start_time": "2022-04-12T09:18:18.174Z"
   },
   {
    "duration": 17,
    "start_time": "2022-04-12T09:18:24.443Z"
   },
   {
    "duration": 143,
    "start_time": "2022-04-12T09:18:34.168Z"
   },
   {
    "duration": 7,
    "start_time": "2022-04-12T09:22:08.105Z"
   },
   {
    "duration": 1092,
    "start_time": "2022-04-12T09:22:08.115Z"
   },
   {
    "duration": 35,
    "start_time": "2022-04-12T09:22:09.210Z"
   },
   {
    "duration": 11,
    "start_time": "2022-04-12T09:22:09.248Z"
   },
   {
    "duration": 148,
    "start_time": "2022-04-12T09:22:09.261Z"
   },
   {
    "duration": 31,
    "start_time": "2022-04-12T09:22:09.411Z"
   },
   {
    "duration": 41,
    "start_time": "2022-04-12T09:22:09.444Z"
   },
   {
    "duration": 125,
    "start_time": "2022-04-12T09:22:09.488Z"
   },
   {
    "duration": 25,
    "start_time": "2022-04-12T09:22:09.617Z"
   },
   {
    "duration": 31,
    "start_time": "2022-04-12T09:22:09.644Z"
   },
   {
    "duration": 67,
    "start_time": "2022-04-12T09:22:09.679Z"
   },
   {
    "duration": 41,
    "start_time": "2022-04-12T09:22:09.748Z"
   },
   {
    "duration": 20,
    "start_time": "2022-04-12T09:22:09.792Z"
   },
   {
    "duration": 19,
    "start_time": "2022-04-12T09:22:09.814Z"
   },
   {
    "duration": 18,
    "start_time": "2022-04-12T09:22:09.835Z"
   },
   {
    "duration": 32,
    "start_time": "2022-04-12T09:22:09.855Z"
   },
   {
    "duration": 129,
    "start_time": "2022-04-12T09:22:09.893Z"
   },
   {
    "duration": 13,
    "start_time": "2022-04-12T09:22:10.024Z"
   },
   {
    "duration": 9,
    "start_time": "2022-04-12T09:22:10.039Z"
   },
   {
    "duration": 504,
    "start_time": "2022-04-12T09:22:10.050Z"
   },
   {
    "duration": 93,
    "start_time": "2022-04-12T09:22:10.557Z"
   },
   {
    "duration": 23,
    "start_time": "2022-04-12T09:22:10.653Z"
   },
   {
    "duration": 552,
    "start_time": "2022-04-12T09:22:10.678Z"
   },
   {
    "duration": 83,
    "start_time": "2022-04-12T09:22:11.235Z"
   },
   {
    "duration": 14,
    "start_time": "2022-04-12T09:22:11.320Z"
   },
   {
    "duration": 495,
    "start_time": "2022-04-12T09:22:11.338Z"
   },
   {
    "duration": 5,
    "start_time": "2022-04-12T09:22:11.836Z"
   },
   {
    "duration": 54,
    "start_time": "2022-04-12T09:22:11.844Z"
   },
   {
    "duration": 33,
    "start_time": "2022-04-12T09:22:11.903Z"
   },
   {
    "duration": 63,
    "start_time": "2022-04-12T09:22:11.938Z"
   },
   {
    "duration": 262,
    "start_time": "2022-04-12T09:22:12.003Z"
   },
   {
    "duration": 28,
    "start_time": "2022-04-12T09:22:12.268Z"
   },
   {
    "duration": 29,
    "start_time": "2022-04-12T09:22:12.298Z"
   },
   {
    "duration": 12,
    "start_time": "2022-04-12T09:22:12.330Z"
   },
   {
    "duration": 50,
    "start_time": "2022-04-12T09:22:12.344Z"
   },
   {
    "duration": 10,
    "start_time": "2022-04-12T09:22:12.397Z"
   },
   {
    "duration": 19,
    "start_time": "2022-04-12T09:22:12.410Z"
   },
   {
    "duration": 50,
    "start_time": "2022-04-12T09:22:12.432Z"
   },
   {
    "duration": 16,
    "start_time": "2022-04-12T09:22:12.486Z"
   },
   {
    "duration": 12,
    "start_time": "2022-04-12T09:22:12.504Z"
   },
   {
    "duration": 269,
    "start_time": "2022-04-12T09:22:12.518Z"
   },
   {
    "duration": 13,
    "start_time": "2022-04-12T09:22:12.790Z"
   },
   {
    "duration": 416,
    "start_time": "2022-04-12T09:22:12.805Z"
   },
   {
    "duration": 813,
    "start_time": "2022-04-12T09:22:13.223Z"
   },
   {
    "duration": 398,
    "start_time": "2022-04-12T09:22:14.038Z"
   },
   {
    "duration": 896,
    "start_time": "2022-04-12T09:22:14.438Z"
   },
   {
    "duration": 391,
    "start_time": "2022-04-12T09:22:15.336Z"
   },
   {
    "duration": 866,
    "start_time": "2022-04-12T09:22:15.730Z"
   },
   {
    "duration": 41,
    "start_time": "2022-04-12T09:22:16.599Z"
   },
   {
    "duration": 3098,
    "start_time": "2022-04-12T09:22:16.642Z"
   },
   {
    "duration": 10,
    "start_time": "2022-04-12T09:22:19.743Z"
   },
   {
    "duration": 42,
    "start_time": "2022-04-12T09:22:19.755Z"
   },
   {
    "duration": 23,
    "start_time": "2022-04-12T09:22:19.800Z"
   },
   {
    "duration": 12,
    "start_time": "2022-04-12T09:22:19.827Z"
   },
   {
    "duration": 1280,
    "start_time": "2022-04-12T15:45:16.678Z"
   },
   {
    "duration": 1070,
    "start_time": "2022-04-12T15:45:17.960Z"
   },
   {
    "duration": 29,
    "start_time": "2022-04-12T15:45:19.033Z"
   },
   {
    "duration": 16,
    "start_time": "2022-04-12T15:45:19.064Z"
   },
   {
    "duration": 119,
    "start_time": "2022-04-12T15:45:19.082Z"
   },
   {
    "duration": 31,
    "start_time": "2022-04-12T15:45:19.203Z"
   },
   {
    "duration": 9,
    "start_time": "2022-04-12T15:45:19.236Z"
   },
   {
    "duration": 72,
    "start_time": "2022-04-12T15:45:19.247Z"
   },
   {
    "duration": 29,
    "start_time": "2022-04-12T15:45:19.323Z"
   },
   {
    "duration": 7,
    "start_time": "2022-04-12T15:45:19.355Z"
   },
   {
    "duration": 79,
    "start_time": "2022-04-12T15:45:19.364Z"
   },
   {
    "duration": 11,
    "start_time": "2022-04-12T15:45:19.445Z"
   },
   {
    "duration": 20,
    "start_time": "2022-04-12T15:45:19.458Z"
   },
   {
    "duration": 14,
    "start_time": "2022-04-12T15:45:19.479Z"
   },
   {
    "duration": 30,
    "start_time": "2022-04-12T15:45:19.495Z"
   },
   {
    "duration": 15,
    "start_time": "2022-04-12T15:45:19.528Z"
   },
   {
    "duration": 83,
    "start_time": "2022-04-12T15:45:19.545Z"
   },
   {
    "duration": 11,
    "start_time": "2022-04-12T15:45:19.632Z"
   },
   {
    "duration": 17,
    "start_time": "2022-04-12T15:45:19.645Z"
   },
   {
    "duration": 402,
    "start_time": "2022-04-12T15:45:19.664Z"
   },
   {
    "duration": 64,
    "start_time": "2022-04-12T15:45:20.068Z"
   },
   {
    "duration": 12,
    "start_time": "2022-04-12T15:45:20.135Z"
   },
   {
    "duration": 392,
    "start_time": "2022-04-12T15:45:20.148Z"
   },
   {
    "duration": 44,
    "start_time": "2022-04-12T15:45:20.542Z"
   },
   {
    "duration": 9,
    "start_time": "2022-04-12T15:45:20.587Z"
   },
   {
    "duration": 359,
    "start_time": "2022-04-12T15:45:20.598Z"
   },
   {
    "duration": 4,
    "start_time": "2022-04-12T15:45:20.959Z"
   },
   {
    "duration": 30,
    "start_time": "2022-04-12T15:45:20.967Z"
   },
   {
    "duration": 48,
    "start_time": "2022-04-12T15:45:20.999Z"
   },
   {
    "duration": 21,
    "start_time": "2022-04-12T15:45:21.049Z"
   },
   {
    "duration": 184,
    "start_time": "2022-04-12T15:45:21.071Z"
   },
   {
    "duration": 16,
    "start_time": "2022-04-12T15:45:21.256Z"
   },
   {
    "duration": 14,
    "start_time": "2022-04-12T15:45:21.273Z"
   },
   {
    "duration": 10,
    "start_time": "2022-04-12T15:45:21.288Z"
   },
   {
    "duration": 47,
    "start_time": "2022-04-12T15:45:21.299Z"
   },
   {
    "duration": 8,
    "start_time": "2022-04-12T15:45:21.348Z"
   },
   {
    "duration": 13,
    "start_time": "2022-04-12T15:45:21.358Z"
   },
   {
    "duration": 15,
    "start_time": "2022-04-12T15:45:21.373Z"
   },
   {
    "duration": 47,
    "start_time": "2022-04-12T15:45:21.390Z"
   },
   {
    "duration": 7,
    "start_time": "2022-04-12T15:45:21.439Z"
   },
   {
    "duration": 148,
    "start_time": "2022-04-12T15:45:21.447Z"
   },
   {
    "duration": 6,
    "start_time": "2022-04-12T15:45:21.597Z"
   },
   {
    "duration": 242,
    "start_time": "2022-04-12T15:45:21.605Z"
   },
   {
    "duration": 523,
    "start_time": "2022-04-12T15:45:21.849Z"
   },
   {
    "duration": 215,
    "start_time": "2022-04-12T15:45:22.373Z"
   },
   {
    "duration": 486,
    "start_time": "2022-04-12T15:45:22.590Z"
   },
   {
    "duration": 220,
    "start_time": "2022-04-12T15:45:23.078Z"
   },
   {
    "duration": 470,
    "start_time": "2022-04-12T15:45:23.299Z"
   },
   {
    "duration": 20,
    "start_time": "2022-04-12T15:45:23.771Z"
   },
   {
    "duration": 1872,
    "start_time": "2022-04-12T15:45:23.793Z"
   },
   {
    "duration": 8,
    "start_time": "2022-04-12T15:45:25.666Z"
   },
   {
    "duration": 21,
    "start_time": "2022-04-12T15:45:25.676Z"
   },
   {
    "duration": 18,
    "start_time": "2022-04-12T15:45:25.699Z"
   },
   {
    "duration": 13,
    "start_time": "2022-04-12T15:45:25.719Z"
   },
   {
    "duration": 1781,
    "start_time": "2022-04-13T01:43:02.726Z"
   },
   {
    "duration": 1106,
    "start_time": "2022-04-13T01:43:04.510Z"
   },
   {
    "duration": 38,
    "start_time": "2022-04-13T01:43:05.618Z"
   },
   {
    "duration": 15,
    "start_time": "2022-04-13T01:43:05.659Z"
   },
   {
    "duration": 152,
    "start_time": "2022-04-13T01:43:05.676Z"
   },
   {
    "duration": 27,
    "start_time": "2022-04-13T01:43:05.831Z"
   },
   {
    "duration": 11,
    "start_time": "2022-04-13T01:43:05.860Z"
   },
   {
    "duration": 124,
    "start_time": "2022-04-13T01:43:05.872Z"
   },
   {
    "duration": 25,
    "start_time": "2022-04-13T01:43:05.998Z"
   },
   {
    "duration": 10,
    "start_time": "2022-04-13T01:43:06.027Z"
   },
   {
    "duration": 94,
    "start_time": "2022-04-13T01:43:06.039Z"
   },
   {
    "duration": 14,
    "start_time": "2022-04-13T01:43:06.135Z"
   },
   {
    "duration": 14,
    "start_time": "2022-04-13T01:43:06.151Z"
   },
   {
    "duration": 40,
    "start_time": "2022-04-13T01:43:06.167Z"
   },
   {
    "duration": 17,
    "start_time": "2022-04-13T01:43:06.209Z"
   },
   {
    "duration": 10,
    "start_time": "2022-04-13T01:43:06.228Z"
   },
   {
    "duration": 127,
    "start_time": "2022-04-13T01:43:06.240Z"
   },
   {
    "duration": 25,
    "start_time": "2022-04-13T01:43:06.369Z"
   },
   {
    "duration": 6,
    "start_time": "2022-04-13T01:43:06.396Z"
   },
   {
    "duration": 559,
    "start_time": "2022-04-13T01:43:06.404Z"
   },
   {
    "duration": 76,
    "start_time": "2022-04-13T01:43:06.966Z"
   },
   {
    "duration": 13,
    "start_time": "2022-04-13T01:43:07.044Z"
   },
   {
    "duration": 460,
    "start_time": "2022-04-13T01:43:07.059Z"
   },
   {
    "duration": 72,
    "start_time": "2022-04-13T01:43:07.522Z"
   },
   {
    "duration": 13,
    "start_time": "2022-04-13T01:43:07.596Z"
   },
   {
    "duration": 473,
    "start_time": "2022-04-13T01:43:07.611Z"
   },
   {
    "duration": 9,
    "start_time": "2022-04-13T01:43:08.087Z"
   },
   {
    "duration": 46,
    "start_time": "2022-04-13T01:43:08.102Z"
   },
   {
    "duration": 54,
    "start_time": "2022-04-13T01:43:08.150Z"
   },
   {
    "duration": 30,
    "start_time": "2022-04-13T01:43:08.206Z"
   },
   {
    "duration": 212,
    "start_time": "2022-04-13T01:43:08.238Z"
   },
   {
    "duration": 22,
    "start_time": "2022-04-13T01:43:08.452Z"
   },
   {
    "duration": 18,
    "start_time": "2022-04-13T01:43:08.493Z"
   },
   {
    "duration": 14,
    "start_time": "2022-04-13T01:43:08.513Z"
   },
   {
    "duration": 26,
    "start_time": "2022-04-13T01:43:08.529Z"
   },
   {
    "duration": 37,
    "start_time": "2022-04-13T01:43:08.558Z"
   },
   {
    "duration": 22,
    "start_time": "2022-04-13T01:43:08.597Z"
   },
   {
    "duration": 16,
    "start_time": "2022-04-13T01:43:08.621Z"
   },
   {
    "duration": 9,
    "start_time": "2022-04-13T01:43:08.639Z"
   },
   {
    "duration": 42,
    "start_time": "2022-04-13T01:43:08.651Z"
   },
   {
    "duration": 215,
    "start_time": "2022-04-13T01:43:08.696Z"
   },
   {
    "duration": 10,
    "start_time": "2022-04-13T01:43:08.913Z"
   },
   {
    "duration": 368,
    "start_time": "2022-04-13T01:43:08.925Z"
   },
   {
    "duration": 687,
    "start_time": "2022-04-13T01:43:09.295Z"
   },
   {
    "duration": 353,
    "start_time": "2022-04-13T01:43:09.984Z"
   },
   {
    "duration": 678,
    "start_time": "2022-04-13T01:43:10.339Z"
   },
   {
    "duration": 346,
    "start_time": "2022-04-13T01:43:11.020Z"
   },
   {
    "duration": 694,
    "start_time": "2022-04-13T01:43:11.368Z"
   },
   {
    "duration": 41,
    "start_time": "2022-04-13T01:43:12.065Z"
   },
   {
    "duration": 2820,
    "start_time": "2022-04-13T01:43:12.109Z"
   },
   {
    "duration": 10,
    "start_time": "2022-04-13T01:43:14.931Z"
   },
   {
    "duration": 14,
    "start_time": "2022-04-13T01:43:14.943Z"
   },
   {
    "duration": 39,
    "start_time": "2022-04-13T01:43:14.959Z"
   },
   {
    "duration": 11,
    "start_time": "2022-04-13T01:43:15.001Z"
   },
   {
    "duration": 1801,
    "start_time": "2022-04-13T07:19:02.999Z"
   },
   {
    "duration": 1826,
    "start_time": "2022-04-13T07:19:04.802Z"
   },
   {
    "duration": 39,
    "start_time": "2022-04-13T07:19:06.630Z"
   },
   {
    "duration": 15,
    "start_time": "2022-04-13T07:19:06.673Z"
   },
   {
    "duration": 169,
    "start_time": "2022-04-13T07:19:06.690Z"
   },
   {
    "duration": 30,
    "start_time": "2022-04-13T07:19:06.862Z"
   },
   {
    "duration": 11,
    "start_time": "2022-04-13T07:19:06.894Z"
   },
   {
    "duration": 132,
    "start_time": "2022-04-13T07:19:06.907Z"
   },
   {
    "duration": 38,
    "start_time": "2022-04-13T07:19:07.040Z"
   },
   {
    "duration": 10,
    "start_time": "2022-04-13T07:19:07.082Z"
   },
   {
    "duration": 93,
    "start_time": "2022-04-13T07:19:07.094Z"
   },
   {
    "duration": 15,
    "start_time": "2022-04-13T07:19:07.189Z"
   },
   {
    "duration": 15,
    "start_time": "2022-04-13T07:19:07.206Z"
   },
   {
    "duration": 41,
    "start_time": "2022-04-13T07:19:07.223Z"
   },
   {
    "duration": 20,
    "start_time": "2022-04-13T07:19:07.267Z"
   },
   {
    "duration": 12,
    "start_time": "2022-04-13T07:19:07.289Z"
   },
   {
    "duration": 133,
    "start_time": "2022-04-13T07:19:07.304Z"
   },
   {
    "duration": 23,
    "start_time": "2022-04-13T07:19:07.440Z"
   },
   {
    "duration": 22,
    "start_time": "2022-04-13T07:19:07.466Z"
   },
   {
    "duration": 569,
    "start_time": "2022-04-13T07:19:07.490Z"
   },
   {
    "duration": 90,
    "start_time": "2022-04-13T07:19:08.062Z"
   },
   {
    "duration": 18,
    "start_time": "2022-04-13T07:19:08.155Z"
   },
   {
    "duration": 537,
    "start_time": "2022-04-13T07:19:08.175Z"
   },
   {
    "duration": 77,
    "start_time": "2022-04-13T07:19:08.714Z"
   },
   {
    "duration": 12,
    "start_time": "2022-04-13T07:19:08.793Z"
   },
   {
    "duration": 526,
    "start_time": "2022-04-13T07:19:08.807Z"
   },
   {
    "duration": 5,
    "start_time": "2022-04-13T07:19:09.336Z"
   },
   {
    "duration": 53,
    "start_time": "2022-04-13T07:19:09.356Z"
   },
   {
    "duration": 50,
    "start_time": "2022-04-13T07:19:09.411Z"
   },
   {
    "duration": 33,
    "start_time": "2022-04-13T07:19:09.464Z"
   },
   {
    "duration": 223,
    "start_time": "2022-04-13T07:19:09.499Z"
   },
   {
    "duration": 41,
    "start_time": "2022-04-13T07:19:09.724Z"
   },
   {
    "duration": 18,
    "start_time": "2022-04-13T07:19:09.768Z"
   },
   {
    "duration": 14,
    "start_time": "2022-04-13T07:19:09.789Z"
   },
   {
    "duration": 54,
    "start_time": "2022-04-13T07:19:09.805Z"
   },
   {
    "duration": 12,
    "start_time": "2022-04-13T07:19:09.861Z"
   },
   {
    "duration": 23,
    "start_time": "2022-04-13T07:19:09.875Z"
   },
   {
    "duration": 15,
    "start_time": "2022-04-13T07:19:09.900Z"
   },
   {
    "duration": 47,
    "start_time": "2022-04-13T07:19:09.918Z"
   },
   {
    "duration": 11,
    "start_time": "2022-04-13T07:19:09.968Z"
   },
   {
    "duration": 259,
    "start_time": "2022-04-13T07:19:09.982Z"
   },
   {
    "duration": 16,
    "start_time": "2022-04-13T07:19:10.251Z"
   },
   {
    "duration": 416,
    "start_time": "2022-04-13T07:19:10.270Z"
   },
   {
    "duration": 790,
    "start_time": "2022-04-13T07:19:10.689Z"
   },
   {
    "duration": 386,
    "start_time": "2022-04-13T07:19:11.482Z"
   },
   {
    "duration": 781,
    "start_time": "2022-04-13T07:19:11.871Z"
   },
   {
    "duration": 400,
    "start_time": "2022-04-13T07:19:12.656Z"
   },
   {
    "duration": 738,
    "start_time": "2022-04-13T07:19:13.060Z"
   },
   {
    "duration": 32,
    "start_time": "2022-04-13T07:19:13.800Z"
   },
   {
    "duration": 3149,
    "start_time": "2022-04-13T07:19:13.852Z"
   },
   {
    "duration": 9,
    "start_time": "2022-04-13T07:19:17.004Z"
   },
   {
    "duration": 12,
    "start_time": "2022-04-13T07:19:17.015Z"
   },
   {
    "duration": 35,
    "start_time": "2022-04-13T07:19:17.030Z"
   },
   {
    "duration": 12,
    "start_time": "2022-04-13T07:19:17.069Z"
   },
   {
    "duration": 1033,
    "start_time": "2022-09-20T08:32:09.342Z"
   },
   {
    "duration": 992,
    "start_time": "2022-09-20T08:32:10.376Z"
   },
   {
    "duration": 20,
    "start_time": "2022-09-20T08:32:11.370Z"
   },
   {
    "duration": 15,
    "start_time": "2022-09-20T08:32:11.392Z"
   },
   {
    "duration": 98,
    "start_time": "2022-09-20T08:32:11.410Z"
   },
   {
    "duration": 18,
    "start_time": "2022-09-20T08:32:11.510Z"
   },
   {
    "duration": 7,
    "start_time": "2022-09-20T08:32:11.529Z"
   },
   {
    "duration": 66,
    "start_time": "2022-09-20T08:32:11.538Z"
   },
   {
    "duration": 21,
    "start_time": "2022-09-20T08:32:11.606Z"
   },
   {
    "duration": 7,
    "start_time": "2022-09-20T08:32:11.628Z"
   },
   {
    "duration": 44,
    "start_time": "2022-09-20T08:32:11.637Z"
   },
   {
    "duration": 29,
    "start_time": "2022-09-20T08:32:11.683Z"
   },
   {
    "duration": 20,
    "start_time": "2022-09-20T08:32:11.714Z"
   },
   {
    "duration": 20,
    "start_time": "2022-09-20T08:32:11.737Z"
   },
   {
    "duration": 15,
    "start_time": "2022-09-20T08:32:11.758Z"
   },
   {
    "duration": 7,
    "start_time": "2022-09-20T08:32:11.775Z"
   },
   {
    "duration": 76,
    "start_time": "2022-09-20T08:32:11.783Z"
   },
   {
    "duration": 7,
    "start_time": "2022-09-20T08:32:11.861Z"
   },
   {
    "duration": 10,
    "start_time": "2022-09-20T08:32:11.869Z"
   },
   {
    "duration": 344,
    "start_time": "2022-09-20T08:32:11.881Z"
   },
   {
    "duration": 45,
    "start_time": "2022-09-20T08:32:12.227Z"
   },
   {
    "duration": 8,
    "start_time": "2022-09-20T08:32:12.274Z"
   },
   {
    "duration": 341,
    "start_time": "2022-09-20T08:32:12.283Z"
   },
   {
    "duration": 37,
    "start_time": "2022-09-20T08:32:12.625Z"
   },
   {
    "duration": 7,
    "start_time": "2022-09-20T08:32:12.663Z"
   },
   {
    "duration": 345,
    "start_time": "2022-09-20T08:32:12.671Z"
   },
   {
    "duration": 3,
    "start_time": "2022-09-20T08:32:13.018Z"
   },
   {
    "duration": 31,
    "start_time": "2022-09-20T08:32:13.023Z"
   },
   {
    "duration": 21,
    "start_time": "2022-09-20T08:32:13.055Z"
   },
   {
    "duration": 35,
    "start_time": "2022-09-20T08:32:13.077Z"
   },
   {
    "duration": 137,
    "start_time": "2022-09-20T08:32:13.114Z"
   },
   {
    "duration": 15,
    "start_time": "2022-09-20T08:32:13.253Z"
   },
   {
    "duration": 35,
    "start_time": "2022-09-20T08:32:13.270Z"
   },
   {
    "duration": 9,
    "start_time": "2022-09-20T08:32:13.309Z"
   },
   {
    "duration": 18,
    "start_time": "2022-09-20T08:32:13.319Z"
   },
   {
    "duration": 6,
    "start_time": "2022-09-20T08:32:13.338Z"
   },
   {
    "duration": 13,
    "start_time": "2022-09-20T08:32:13.346Z"
   },
   {
    "duration": 8,
    "start_time": "2022-09-20T08:32:13.361Z"
   },
   {
    "duration": 8,
    "start_time": "2022-09-20T08:32:13.371Z"
   },
   {
    "duration": 6,
    "start_time": "2022-09-20T08:32:13.400Z"
   },
   {
    "duration": 160,
    "start_time": "2022-09-20T08:32:13.409Z"
   },
   {
    "duration": 6,
    "start_time": "2022-09-20T08:32:13.571Z"
   },
   {
    "duration": 335,
    "start_time": "2022-09-20T08:32:13.578Z"
   },
   {
    "duration": 903,
    "start_time": "2022-09-20T08:32:13.917Z"
   },
   {
    "duration": 506,
    "start_time": "2022-09-20T08:32:14.822Z"
   },
   {
    "duration": 606,
    "start_time": "2022-09-20T08:32:15.332Z"
   },
   {
    "duration": 204,
    "start_time": "2022-09-20T08:32:15.940Z"
   },
   {
    "duration": 471,
    "start_time": "2022-09-20T08:32:16.146Z"
   },
   {
    "duration": 18,
    "start_time": "2022-09-20T08:32:16.619Z"
   },
   {
    "duration": 1645,
    "start_time": "2022-09-20T08:32:16.639Z"
   },
   {
    "duration": 7,
    "start_time": "2022-09-20T08:32:18.285Z"
   },
   {
    "duration": 23,
    "start_time": "2022-09-20T08:32:18.293Z"
   },
   {
    "duration": 11,
    "start_time": "2022-09-20T08:32:18.318Z"
   },
   {
    "duration": 8,
    "start_time": "2022-09-20T08:32:18.332Z"
   }
  ],
  "kernelspec": {
   "display_name": "Python 3 (ipykernel)",
   "language": "python",
   "name": "python3"
  },
  "language_info": {
   "codemirror_mode": {
    "name": "ipython",
    "version": 3
   },
   "file_extension": ".py",
   "mimetype": "text/x-python",
   "name": "python",
   "nbconvert_exporter": "python",
   "pygments_lexer": "ipython3",
   "version": "3.9.5"
  },
  "toc": {
   "base_numbering": 1,
   "nav_menu": {},
   "number_sections": true,
   "sideBar": true,
   "skip_h1_title": true,
   "title_cell": "Table of Contents",
   "title_sidebar": "Contents",
   "toc_cell": false,
   "toc_position": {
    "height": "calc(100% - 180px)",
    "left": "10px",
    "top": "150px",
    "width": "255.188px"
   },
   "toc_section_display": true,
   "toc_window_display": true
  }
 },
 "nbformat": 4,
 "nbformat_minor": 2
}
