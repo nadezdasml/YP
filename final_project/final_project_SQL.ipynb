{
 "cells": [
  {
   "cell_type": "markdown",
   "id": "80788630",
   "metadata": {},
   "source": [
    "# Содержание\n",
    "\n",
    "1. [Описание проекта](#start)\n",
    " * [Описание данных](#data)\n",
    " * [Задачи](#tasks)\n",
    " * [Цель исследования](#goal)\n",
    "2. [Исследование таблиц](#table_research)\n",
    " * [Таблица books](#books)\n",
    " * [Таблица authors](#authors)\n",
    " * [Таблица publishers](#publishers)\n",
    " * [Таблица reviews](#reviews)\n",
    "3. [Расчет количества книг, выпущенных после 1 января 2000 года](#number_of_books)\n",
    "4. [Расчет количества обзоров и средней оценки для каждой книги](#overview_and_average_rating)\n",
    "5. [Определение издательства, которое выпустило наибольшее число книг толще 50 страниц](#max_books)\n",
    "6. [Определение автора с самой высокой средней оценкой книг (с учетом только книг с 50 и более оценками)](#average_book_rating)  \n",
    "7. [Расчет среднего количества обзоров от пользователей, которые поставили больше 50 оценок](#average_review)  \n",
    "8. [Общий вывод](#conclusion)\n",
    "9. [Рекомендации](#recommendations)"
   ]
  },
  {
   "cell_type": "markdown",
   "id": "9f2d7627",
   "metadata": {},
   "source": [
    "# Проект по SQL"
   ]
  },
  {
   "cell_type": "markdown",
   "id": "6e68a88d",
   "metadata": {},
   "source": [
    "<a id=\"start\"></a> \n",
    "##  Описание проекта"
   ]
  },
  {
   "cell_type": "markdown",
   "id": "9a045c35",
   "metadata": {},
   "source": [
    "Коронавирус застал мир врасплох, изменив привычный порядок вещей. В свободное время жители городов больше не выходят на улицу, не посещают кафе и торговые центры. Зато стало больше времени для книг. Это заметили стартаперы — и бросились создавать приложения для тех, кто любит читать.\n",
    "\n",
    "Ваша компания решила быть на волне и купила крупный сервис для чтения книг по подписке. Ваша первая задача как аналитика — проанализировать базу данных.\n",
    "В ней — информация о книгах, издательствах, авторах, а также пользовательские обзоры книг. Эти данные помогут сформулировать ценностное предложение для нового продукта."
   ]
  },
  {
   "cell_type": "markdown",
   "id": "d7bffd64",
   "metadata": {},
   "source": [
    "<a id=\"data\"></a>\n",
    "### Описание данных\n",
    "\n",
    "**Таблица `books`**\n",
    "\n",
    "Содержит данные о книгах:\n",
    "\n",
    "- `book_id` — идентификатор книги;\n",
    "- `author_id` — идентификатор автора;\n",
    "- `title` — название книги;\n",
    "- `num_pages` — количество страниц;\n",
    "- `publication_date` — дата публикации книги;\n",
    "- `publisher_id` — идентификатор издателя.\n",
    "\n",
    "**Таблица `authors`**\n",
    "\n",
    "Содержит данные об авторах:\n",
    "\n",
    "- `author_id` — идентификатор автора;\n",
    "- `author` — имя автора.\n",
    "\n",
    "**Таблица `publishers`**\n",
    "\n",
    "Содержит данные об издательствах:\n",
    "\n",
    "- `publisher_id` — идентификатор издательства;\n",
    "- `publisher` — название издательства;\n",
    "\n",
    "**Таблица `ratings`**\n",
    "\n",
    "Содержит данные о пользовательских оценках книг:\n",
    "\n",
    "- `rating_id` — идентификатор оценки;\n",
    "- `book_id` — идентификатор книги;\n",
    "- `username` — имя пользователя, оставившего оценку;\n",
    "- `rating` — оценка книги.\n",
    "\n",
    "**Таблица `reviews`**\n",
    "\n",
    "Содержит данные о пользовательских обзорах на книги:\n",
    "\n",
    "- `review_id` — идентификатор обзора;\n",
    "- `book_id` — идентификатор книги;\n",
    "- `username` — имя пользователя, написавшего обзор;\n",
    "- `text` — текст обзора."
   ]
  },
  {
   "cell_type": "markdown",
   "id": "3e6d98ec",
   "metadata": {},
   "source": [
    "<a id=\"tasks\"></a>\n",
    "### Задачи\n",
    "\n",
    "- Посчитайте, сколько книг вышло после 1 января 2000 года;\n",
    "- Для каждой книги посчитайте количество обзоров и среднюю оценку;\n",
    "- Определите издательство, которое выпустило наибольшее число книг толще 50 страниц — так вы исключите из анализа брошюры;\n",
    "- Определите автора с самой высокой средней оценкой книг — учитывайте только книги с 50 и более оценками;\n",
    "- Посчитайте среднее количество обзоров от пользователей, которые поставили больше 50 оценок."
   ]
  },
  {
   "cell_type": "markdown",
   "id": "aa7edce6",
   "metadata": {},
   "source": [
    "<a id=\"goal\"></a>\n",
    "### Цель исследования\n",
    "\n",
    "Цель исследования - проанализировать базу данных. В ней — информация о книгах, издательствах, авторах, а также пользовательские обзоры книг. Эти данные помогут сформулировать ценностное предложение для нового продукта."
   ]
  },
  {
   "cell_type": "markdown",
   "id": "88a09ecb",
   "metadata": {},
   "source": [
    "<a id=\"table_research\"></a>\n",
    "## Исследование таблиц"
   ]
  },
  {
   "cell_type": "code",
   "execution_count": 1,
   "id": "23e5782b",
   "metadata": {},
   "outputs": [],
   "source": [
    "# импортируем библиотеки\n",
    "import pandas as pd\n",
    "from sqlalchemy import create_engine"
   ]
  },
  {
   "cell_type": "code",
   "execution_count": 2,
   "id": "a00bdcc0",
   "metadata": {},
   "outputs": [],
   "source": [
    "# устанавливаем параметры\n",
    "db_config = {'user': 'praktikum_student', # имя пользователя\n",
    " 'pwd': 'Sdf4$2;d-d30pp', # пароль\n",
    " 'host': 'rc1b-wcoijxj3yxfsf3fs.mdb.yandexcloud.net',\n",
    " 'port': 6432, # порт подключения\n",
    " 'db': 'data-analyst-final-project-db'} # название базы данных\n",
    "connection_string = 'postgresql://{}:{}@{}:{}/{}'.format(db_config['user'],\n",
    " db_config['pwd'],\n",
    " db_config['host'],\n",
    " db_config['port'],\n",
    " db_config['db'])\n",
    "# сохраняем коннектор\n",
    "engine = create_engine(connection_string, connect_args={'sslmode':'require'})"
   ]
  },
  {
   "cell_type": "code",
   "execution_count": 3,
   "id": "2daf6367",
   "metadata": {},
   "outputs": [],
   "source": [
    "# создаем функцию для чтения таблиц и присвоения им имен\n",
    "def select(sql):\n",
    "    return pd.io.sql.read_sql(sql, con = engine)"
   ]
  },
  {
   "cell_type": "code",
   "execution_count": 4,
   "id": "0fd0ea60",
   "metadata": {},
   "outputs": [],
   "source": [
    "query = '''\n",
    "SELECT * FROM books\n",
    "'''\n",
    "books = pd.io.sql.read_sql(query, con = engine)\n",
    "query_1 = '''\n",
    "SELECT * FROM authors\n",
    "'''\n",
    "\n",
    "authors = pd.io.sql.read_sql(query_1, con = engine)\n",
    "query_2 = '''\n",
    "SELECT * FROM publishers\n",
    "'''\n",
    "\n",
    "publishers = pd.io.sql.read_sql(query_2, con = engine)\n",
    "query_3 = '''\n",
    "SELECT * FROM ratings\n",
    "'''\n",
    "\n",
    "ratings = pd.io.sql.read_sql(query_3, con = engine)\n",
    "query_4 = '''\n",
    "SELECT * FROM reviews\n",
    "'''\n",
    "\n",
    "reviews = pd.io.sql.read_sql(query_4, con = engine)"
   ]
  },
  {
   "cell_type": "markdown",
   "id": "b243a38e",
   "metadata": {},
   "source": [
    "<a id=\"books\"></a>\n",
    "### Таблица books"
   ]
  },
  {
   "cell_type": "markdown",
   "id": "8fbfa09d",
   "metadata": {},
   "source": [
    "Содержит данные о книгах:\n",
    "\n",
    "- book_id — идентификатор книги;\n",
    "- author_id — идентификатор автора;\n",
    "- title — название книги;\n",
    "- num_pages — количество страниц;\n",
    "- publication_date — дата публикации книги;\n",
    "- publisher_id — идентификатор издателя."
   ]
  },
  {
   "cell_type": "code",
   "execution_count": 5,
   "id": "23778e20",
   "metadata": {},
   "outputs": [
    {
     "data": {
      "text/html": [
       "<div>\n",
       "<style scoped>\n",
       "    .dataframe tbody tr th:only-of-type {\n",
       "        vertical-align: middle;\n",
       "    }\n",
       "\n",
       "    .dataframe tbody tr th {\n",
       "        vertical-align: top;\n",
       "    }\n",
       "\n",
       "    .dataframe thead th {\n",
       "        text-align: right;\n",
       "    }\n",
       "</style>\n",
       "<table border=\"1\" class=\"dataframe\">\n",
       "  <thead>\n",
       "    <tr style=\"text-align: right;\">\n",
       "      <th></th>\n",
       "      <th>book_id</th>\n",
       "      <th>author_id</th>\n",
       "      <th>title</th>\n",
       "      <th>num_pages</th>\n",
       "      <th>publication_date</th>\n",
       "      <th>publisher_id</th>\n",
       "    </tr>\n",
       "  </thead>\n",
       "  <tbody>\n",
       "    <tr>\n",
       "      <th>0</th>\n",
       "      <td>1</td>\n",
       "      <td>546</td>\n",
       "      <td>'Salem's Lot</td>\n",
       "      <td>594</td>\n",
       "      <td>2005-11-01</td>\n",
       "      <td>93</td>\n",
       "    </tr>\n",
       "    <tr>\n",
       "      <th>1</th>\n",
       "      <td>2</td>\n",
       "      <td>465</td>\n",
       "      <td>1 000 Places to See Before You Die</td>\n",
       "      <td>992</td>\n",
       "      <td>2003-05-22</td>\n",
       "      <td>336</td>\n",
       "    </tr>\n",
       "    <tr>\n",
       "      <th>2</th>\n",
       "      <td>3</td>\n",
       "      <td>407</td>\n",
       "      <td>13 Little Blue Envelopes (Little Blue Envelope...</td>\n",
       "      <td>322</td>\n",
       "      <td>2010-12-21</td>\n",
       "      <td>135</td>\n",
       "    </tr>\n",
       "    <tr>\n",
       "      <th>3</th>\n",
       "      <td>4</td>\n",
       "      <td>82</td>\n",
       "      <td>1491: New Revelations of the Americas Before C...</td>\n",
       "      <td>541</td>\n",
       "      <td>2006-10-10</td>\n",
       "      <td>309</td>\n",
       "    </tr>\n",
       "    <tr>\n",
       "      <th>4</th>\n",
       "      <td>5</td>\n",
       "      <td>125</td>\n",
       "      <td>1776</td>\n",
       "      <td>386</td>\n",
       "      <td>2006-07-04</td>\n",
       "      <td>268</td>\n",
       "    </tr>\n",
       "  </tbody>\n",
       "</table>\n",
       "</div>"
      ],
      "text/plain": [
       "   book_id  author_id                                              title  \\\n",
       "0        1        546                                       'Salem's Lot   \n",
       "1        2        465                 1 000 Places to See Before You Die   \n",
       "2        3        407  13 Little Blue Envelopes (Little Blue Envelope...   \n",
       "3        4         82  1491: New Revelations of the Americas Before C...   \n",
       "4        5        125                                               1776   \n",
       "\n",
       "   num_pages publication_date  publisher_id  \n",
       "0        594       2005-11-01            93  \n",
       "1        992       2003-05-22           336  \n",
       "2        322       2010-12-21           135  \n",
       "3        541       2006-10-10           309  \n",
       "4        386       2006-07-04           268  "
      ]
     },
     "execution_count": 5,
     "metadata": {},
     "output_type": "execute_result"
    }
   ],
   "source": [
    "pd.io.sql.read_sql('''\n",
    "SELECT \n",
    "    *\n",
    "FROM books\n",
    "LIMIT 5\n",
    "''', con = engine)"
   ]
  },
  {
   "cell_type": "code",
   "execution_count": 6,
   "id": "b3ec8503",
   "metadata": {},
   "outputs": [
    {
     "name": "stdout",
     "output_type": "stream",
     "text": [
      "<class 'pandas.core.frame.DataFrame'>\n",
      "RangeIndex: 1000 entries, 0 to 999\n",
      "Data columns (total 6 columns):\n",
      " #   Column            Non-Null Count  Dtype \n",
      "---  ------            --------------  ----- \n",
      " 0   book_id           1000 non-null   int64 \n",
      " 1   author_id         1000 non-null   int64 \n",
      " 2   title             1000 non-null   object\n",
      " 3   num_pages         1000 non-null   int64 \n",
      " 4   publication_date  1000 non-null   object\n",
      " 5   publisher_id      1000 non-null   int64 \n",
      "dtypes: int64(4), object(2)\n",
      "memory usage: 47.0+ KB\n"
     ]
    }
   ],
   "source": [
    "books.info()"
   ]
  },
  {
   "cell_type": "markdown",
   "id": "94226007",
   "metadata": {},
   "source": [
    "Таблица содержит информацию о 1000 книг."
   ]
  },
  {
   "cell_type": "markdown",
   "id": "62c438f3",
   "metadata": {},
   "source": [
    "<a id=\"authors\"></a>\n",
    "### Таблица authors"
   ]
  },
  {
   "cell_type": "markdown",
   "id": "72ff1d11",
   "metadata": {},
   "source": [
    "Содержит данные об авторах:\n",
    "\n",
    "- author_id — идентификатор автора;\n",
    "- author — имя автора."
   ]
  },
  {
   "cell_type": "code",
   "execution_count": 7,
   "id": "5f0df5a4",
   "metadata": {},
   "outputs": [
    {
     "data": {
      "text/html": [
       "<div>\n",
       "<style scoped>\n",
       "    .dataframe tbody tr th:only-of-type {\n",
       "        vertical-align: middle;\n",
       "    }\n",
       "\n",
       "    .dataframe tbody tr th {\n",
       "        vertical-align: top;\n",
       "    }\n",
       "\n",
       "    .dataframe thead th {\n",
       "        text-align: right;\n",
       "    }\n",
       "</style>\n",
       "<table border=\"1\" class=\"dataframe\">\n",
       "  <thead>\n",
       "    <tr style=\"text-align: right;\">\n",
       "      <th></th>\n",
       "      <th>author_id</th>\n",
       "      <th>author</th>\n",
       "    </tr>\n",
       "  </thead>\n",
       "  <tbody>\n",
       "    <tr>\n",
       "      <th>0</th>\n",
       "      <td>1</td>\n",
       "      <td>A.S. Byatt</td>\n",
       "    </tr>\n",
       "    <tr>\n",
       "      <th>1</th>\n",
       "      <td>2</td>\n",
       "      <td>Aesop/Laura Harris/Laura Gibbs</td>\n",
       "    </tr>\n",
       "    <tr>\n",
       "      <th>2</th>\n",
       "      <td>3</td>\n",
       "      <td>Agatha Christie</td>\n",
       "    </tr>\n",
       "    <tr>\n",
       "      <th>3</th>\n",
       "      <td>4</td>\n",
       "      <td>Alan Brennert</td>\n",
       "    </tr>\n",
       "    <tr>\n",
       "      <th>4</th>\n",
       "      <td>5</td>\n",
       "      <td>Alan Moore/David   Lloyd</td>\n",
       "    </tr>\n",
       "  </tbody>\n",
       "</table>\n",
       "</div>"
      ],
      "text/plain": [
       "   author_id                          author\n",
       "0          1                      A.S. Byatt\n",
       "1          2  Aesop/Laura Harris/Laura Gibbs\n",
       "2          3                 Agatha Christie\n",
       "3          4                   Alan Brennert\n",
       "4          5        Alan Moore/David   Lloyd"
      ]
     },
     "execution_count": 7,
     "metadata": {},
     "output_type": "execute_result"
    }
   ],
   "source": [
    "pd.io.sql.read_sql('''\n",
    "SELECT \n",
    "    *\n",
    "FROM authors\n",
    "LIMIT 5\n",
    "''', con = engine)"
   ]
  },
  {
   "cell_type": "code",
   "execution_count": 8,
   "id": "643ccf0a",
   "metadata": {},
   "outputs": [
    {
     "name": "stdout",
     "output_type": "stream",
     "text": [
      "<class 'pandas.core.frame.DataFrame'>\n",
      "RangeIndex: 636 entries, 0 to 635\n",
      "Data columns (total 2 columns):\n",
      " #   Column     Non-Null Count  Dtype \n",
      "---  ------     --------------  ----- \n",
      " 0   author_id  636 non-null    int64 \n",
      " 1   author     636 non-null    object\n",
      "dtypes: int64(1), object(1)\n",
      "memory usage: 10.1+ KB\n"
     ]
    }
   ],
   "source": [
    "authors.info()"
   ]
  },
  {
   "cell_type": "markdown",
   "id": "1e615515",
   "metadata": {},
   "source": [
    "Таблица содержит информацию о 636 авторах."
   ]
  },
  {
   "cell_type": "markdown",
   "id": "07afec26",
   "metadata": {},
   "source": [
    "<a id=\"publishers\"></a>\n",
    "### Таблица publishers"
   ]
  },
  {
   "cell_type": "markdown",
   "id": "1db126a6",
   "metadata": {},
   "source": [
    "Содержит данные об издательствах:\n",
    "\n",
    "- publisher_id — идентификатор издательства;\n",
    "- publisher — название издательства;"
   ]
  },
  {
   "cell_type": "code",
   "execution_count": 9,
   "id": "790a7e5a",
   "metadata": {},
   "outputs": [
    {
     "data": {
      "text/html": [
       "<div>\n",
       "<style scoped>\n",
       "    .dataframe tbody tr th:only-of-type {\n",
       "        vertical-align: middle;\n",
       "    }\n",
       "\n",
       "    .dataframe tbody tr th {\n",
       "        vertical-align: top;\n",
       "    }\n",
       "\n",
       "    .dataframe thead th {\n",
       "        text-align: right;\n",
       "    }\n",
       "</style>\n",
       "<table border=\"1\" class=\"dataframe\">\n",
       "  <thead>\n",
       "    <tr style=\"text-align: right;\">\n",
       "      <th></th>\n",
       "      <th>publisher_id</th>\n",
       "      <th>publisher</th>\n",
       "    </tr>\n",
       "  </thead>\n",
       "  <tbody>\n",
       "    <tr>\n",
       "      <th>0</th>\n",
       "      <td>1</td>\n",
       "      <td>Ace</td>\n",
       "    </tr>\n",
       "    <tr>\n",
       "      <th>1</th>\n",
       "      <td>2</td>\n",
       "      <td>Ace Book</td>\n",
       "    </tr>\n",
       "    <tr>\n",
       "      <th>2</th>\n",
       "      <td>3</td>\n",
       "      <td>Ace Books</td>\n",
       "    </tr>\n",
       "    <tr>\n",
       "      <th>3</th>\n",
       "      <td>4</td>\n",
       "      <td>Ace Hardcover</td>\n",
       "    </tr>\n",
       "    <tr>\n",
       "      <th>4</th>\n",
       "      <td>5</td>\n",
       "      <td>Addison Wesley Publishing Company</td>\n",
       "    </tr>\n",
       "  </tbody>\n",
       "</table>\n",
       "</div>"
      ],
      "text/plain": [
       "   publisher_id                          publisher\n",
       "0             1                                Ace\n",
       "1             2                           Ace Book\n",
       "2             3                          Ace Books\n",
       "3             4                      Ace Hardcover\n",
       "4             5  Addison Wesley Publishing Company"
      ]
     },
     "execution_count": 9,
     "metadata": {},
     "output_type": "execute_result"
    }
   ],
   "source": [
    "pd.io.sql.read_sql('''\n",
    "SELECT \n",
    "    *\n",
    "FROM publishers\n",
    "LIMIT 5\n",
    "''', con = engine)"
   ]
  },
  {
   "cell_type": "code",
   "execution_count": 10,
   "id": "17ce3b03",
   "metadata": {},
   "outputs": [
    {
     "name": "stdout",
     "output_type": "stream",
     "text": [
      "<class 'pandas.core.frame.DataFrame'>\n",
      "RangeIndex: 340 entries, 0 to 339\n",
      "Data columns (total 2 columns):\n",
      " #   Column        Non-Null Count  Dtype \n",
      "---  ------        --------------  ----- \n",
      " 0   publisher_id  340 non-null    int64 \n",
      " 1   publisher     340 non-null    object\n",
      "dtypes: int64(1), object(1)\n",
      "memory usage: 5.4+ KB\n"
     ]
    }
   ],
   "source": [
    "publishers.info()"
   ]
  },
  {
   "cell_type": "markdown",
   "id": "a5f2729d",
   "metadata": {},
   "source": [
    "Таблица содержит информацию о 340 издательствах."
   ]
  },
  {
   "cell_type": "markdown",
   "id": "84c70456",
   "metadata": {},
   "source": [
    "<a id=\"ratings\"></a>\n",
    "### Таблица ratings"
   ]
  },
  {
   "cell_type": "markdown",
   "id": "458e66ba",
   "metadata": {},
   "source": [
    "Содержит данные о пользовательских оценках книг:\n",
    "\n",
    "- rating_id — идентификатор оценки;\n",
    "- book_id — идентификатор книги;\n",
    "- username — имя пользователя, оставившего оценку;\n",
    "- rating — оценка книги."
   ]
  },
  {
   "cell_type": "code",
   "execution_count": 11,
   "id": "db7a1855",
   "metadata": {},
   "outputs": [
    {
     "data": {
      "text/html": [
       "<div>\n",
       "<style scoped>\n",
       "    .dataframe tbody tr th:only-of-type {\n",
       "        vertical-align: middle;\n",
       "    }\n",
       "\n",
       "    .dataframe tbody tr th {\n",
       "        vertical-align: top;\n",
       "    }\n",
       "\n",
       "    .dataframe thead th {\n",
       "        text-align: right;\n",
       "    }\n",
       "</style>\n",
       "<table border=\"1\" class=\"dataframe\">\n",
       "  <thead>\n",
       "    <tr style=\"text-align: right;\">\n",
       "      <th></th>\n",
       "      <th>rating_id</th>\n",
       "      <th>book_id</th>\n",
       "      <th>username</th>\n",
       "      <th>rating</th>\n",
       "    </tr>\n",
       "  </thead>\n",
       "  <tbody>\n",
       "    <tr>\n",
       "      <th>0</th>\n",
       "      <td>1</td>\n",
       "      <td>1</td>\n",
       "      <td>ryanfranco</td>\n",
       "      <td>4</td>\n",
       "    </tr>\n",
       "    <tr>\n",
       "      <th>1</th>\n",
       "      <td>2</td>\n",
       "      <td>1</td>\n",
       "      <td>grantpatricia</td>\n",
       "      <td>2</td>\n",
       "    </tr>\n",
       "    <tr>\n",
       "      <th>2</th>\n",
       "      <td>3</td>\n",
       "      <td>1</td>\n",
       "      <td>brandtandrea</td>\n",
       "      <td>5</td>\n",
       "    </tr>\n",
       "    <tr>\n",
       "      <th>3</th>\n",
       "      <td>4</td>\n",
       "      <td>2</td>\n",
       "      <td>lorichen</td>\n",
       "      <td>3</td>\n",
       "    </tr>\n",
       "    <tr>\n",
       "      <th>4</th>\n",
       "      <td>5</td>\n",
       "      <td>2</td>\n",
       "      <td>mariokeller</td>\n",
       "      <td>2</td>\n",
       "    </tr>\n",
       "  </tbody>\n",
       "</table>\n",
       "</div>"
      ],
      "text/plain": [
       "   rating_id  book_id       username  rating\n",
       "0          1        1     ryanfranco       4\n",
       "1          2        1  grantpatricia       2\n",
       "2          3        1   brandtandrea       5\n",
       "3          4        2       lorichen       3\n",
       "4          5        2    mariokeller       2"
      ]
     },
     "execution_count": 11,
     "metadata": {},
     "output_type": "execute_result"
    }
   ],
   "source": [
    "pd.io.sql.read_sql('''\n",
    "SELECT \n",
    "    *\n",
    "FROM ratings\n",
    "LIMIT 5\n",
    "''', con = engine)\n"
   ]
  },
  {
   "cell_type": "code",
   "execution_count": 12,
   "id": "82bedbe3",
   "metadata": {},
   "outputs": [
    {
     "name": "stdout",
     "output_type": "stream",
     "text": [
      "<class 'pandas.core.frame.DataFrame'>\n",
      "RangeIndex: 6456 entries, 0 to 6455\n",
      "Data columns (total 4 columns):\n",
      " #   Column     Non-Null Count  Dtype \n",
      "---  ------     --------------  ----- \n",
      " 0   rating_id  6456 non-null   int64 \n",
      " 1   book_id    6456 non-null   int64 \n",
      " 2   username   6456 non-null   object\n",
      " 3   rating     6456 non-null   int64 \n",
      "dtypes: int64(3), object(1)\n",
      "memory usage: 201.9+ KB\n"
     ]
    }
   ],
   "source": [
    "ratings.info()"
   ]
  },
  {
   "cell_type": "markdown",
   "id": "34057b7b",
   "metadata": {},
   "source": [
    "Таблица содержит информацию о 6456 оценках книг."
   ]
  },
  {
   "cell_type": "markdown",
   "id": "58f4950f",
   "metadata": {},
   "source": [
    "<a id=\"reviews\"></a>\n",
    "### Таблица reviews"
   ]
  },
  {
   "cell_type": "markdown",
   "id": "5c48844c",
   "metadata": {},
   "source": [
    "Содержит данные о пользовательских обзорах на книги:\n",
    "\n",
    "- review_id — идентификатор обзора;\n",
    "- book_id — идентификатор книги;\n",
    "- username — имя пользователя, написавшего обзор;\n",
    "- text — текст обзора."
   ]
  },
  {
   "cell_type": "code",
   "execution_count": 13,
   "id": "7b4b9039",
   "metadata": {},
   "outputs": [
    {
     "data": {
      "text/html": [
       "<div>\n",
       "<style scoped>\n",
       "    .dataframe tbody tr th:only-of-type {\n",
       "        vertical-align: middle;\n",
       "    }\n",
       "\n",
       "    .dataframe tbody tr th {\n",
       "        vertical-align: top;\n",
       "    }\n",
       "\n",
       "    .dataframe thead th {\n",
       "        text-align: right;\n",
       "    }\n",
       "</style>\n",
       "<table border=\"1\" class=\"dataframe\">\n",
       "  <thead>\n",
       "    <tr style=\"text-align: right;\">\n",
       "      <th></th>\n",
       "      <th>review_id</th>\n",
       "      <th>book_id</th>\n",
       "      <th>username</th>\n",
       "      <th>text</th>\n",
       "    </tr>\n",
       "  </thead>\n",
       "  <tbody>\n",
       "    <tr>\n",
       "      <th>0</th>\n",
       "      <td>1</td>\n",
       "      <td>1</td>\n",
       "      <td>brandtandrea</td>\n",
       "      <td>Mention society tell send professor analysis. ...</td>\n",
       "    </tr>\n",
       "    <tr>\n",
       "      <th>1</th>\n",
       "      <td>2</td>\n",
       "      <td>1</td>\n",
       "      <td>ryanfranco</td>\n",
       "      <td>Foot glass pretty audience hit themselves. Amo...</td>\n",
       "    </tr>\n",
       "    <tr>\n",
       "      <th>2</th>\n",
       "      <td>3</td>\n",
       "      <td>2</td>\n",
       "      <td>lorichen</td>\n",
       "      <td>Listen treat keep worry. Miss husband tax but ...</td>\n",
       "    </tr>\n",
       "    <tr>\n",
       "      <th>3</th>\n",
       "      <td>4</td>\n",
       "      <td>3</td>\n",
       "      <td>johnsonamanda</td>\n",
       "      <td>Finally month interesting blue could nature cu...</td>\n",
       "    </tr>\n",
       "    <tr>\n",
       "      <th>4</th>\n",
       "      <td>5</td>\n",
       "      <td>3</td>\n",
       "      <td>scotttamara</td>\n",
       "      <td>Nation purpose heavy give wait song will. List...</td>\n",
       "    </tr>\n",
       "  </tbody>\n",
       "</table>\n",
       "</div>"
      ],
      "text/plain": [
       "   review_id  book_id       username  \\\n",
       "0          1        1   brandtandrea   \n",
       "1          2        1     ryanfranco   \n",
       "2          3        2       lorichen   \n",
       "3          4        3  johnsonamanda   \n",
       "4          5        3    scotttamara   \n",
       "\n",
       "                                                text  \n",
       "0  Mention society tell send professor analysis. ...  \n",
       "1  Foot glass pretty audience hit themselves. Amo...  \n",
       "2  Listen treat keep worry. Miss husband tax but ...  \n",
       "3  Finally month interesting blue could nature cu...  \n",
       "4  Nation purpose heavy give wait song will. List...  "
      ]
     },
     "execution_count": 13,
     "metadata": {},
     "output_type": "execute_result"
    }
   ],
   "source": [
    "pd.io.sql.read_sql('''\n",
    "SELECT \n",
    "    *\n",
    "FROM reviews\n",
    "LIMIT 5\n",
    "''', con = engine)"
   ]
  },
  {
   "cell_type": "code",
   "execution_count": 14,
   "id": "20a01551",
   "metadata": {},
   "outputs": [
    {
     "name": "stdout",
     "output_type": "stream",
     "text": [
      "<class 'pandas.core.frame.DataFrame'>\n",
      "RangeIndex: 2793 entries, 0 to 2792\n",
      "Data columns (total 4 columns):\n",
      " #   Column     Non-Null Count  Dtype \n",
      "---  ------     --------------  ----- \n",
      " 0   review_id  2793 non-null   int64 \n",
      " 1   book_id    2793 non-null   int64 \n",
      " 2   username   2793 non-null   object\n",
      " 3   text       2793 non-null   object\n",
      "dtypes: int64(2), object(2)\n",
      "memory usage: 87.4+ KB\n"
     ]
    }
   ],
   "source": [
    "reviews.info()"
   ]
  },
  {
   "cell_type": "markdown",
   "id": "76bc2b73",
   "metadata": {},
   "source": [
    "Таблица содержит информацию  о 2793 обзорах на книги."
   ]
  },
  {
   "cell_type": "markdown",
   "id": "ea8faaf5",
   "metadata": {},
   "source": [
    "<a id=\"number_of_books\"></a>\n",
    "## Расчет количества книг, выпущенных после 1 января 2000 года"
   ]
  },
  {
   "cell_type": "code",
   "execution_count": 15,
   "id": "44d9cf51",
   "metadata": {},
   "outputs": [
    {
     "data": {
      "text/html": [
       "<div>\n",
       "<style scoped>\n",
       "    .dataframe tbody tr th:only-of-type {\n",
       "        vertical-align: middle;\n",
       "    }\n",
       "\n",
       "    .dataframe tbody tr th {\n",
       "        vertical-align: top;\n",
       "    }\n",
       "\n",
       "    .dataframe thead th {\n",
       "        text-align: right;\n",
       "    }\n",
       "</style>\n",
       "<table border=\"1\" class=\"dataframe\">\n",
       "  <thead>\n",
       "    <tr style=\"text-align: right;\">\n",
       "      <th></th>\n",
       "      <th>cnt</th>\n",
       "    </tr>\n",
       "  </thead>\n",
       "  <tbody>\n",
       "    <tr>\n",
       "      <th>0</th>\n",
       "      <td>819</td>\n",
       "    </tr>\n",
       "  </tbody>\n",
       "</table>\n",
       "</div>"
      ],
      "text/plain": [
       "   cnt\n",
       "0  819"
      ]
     },
     "execution_count": 15,
     "metadata": {},
     "output_type": "execute_result"
    }
   ],
   "source": [
    "pd.io.sql.read_sql('''\n",
    "SELECT \n",
    "    COUNT(DISTINCT book_id) AS cnt\n",
    "FROM \n",
    "    books\n",
    "WHERE\n",
    "    publication_date > '2000-01-01'\n",
    "''', con = engine)"
   ]
  },
  {
   "cell_type": "markdown",
   "id": "9ada69b0",
   "metadata": {},
   "source": [
    "**Вывод**\n",
    "\n",
    "В базе данных содержится информация о 819 книгах, дата публикации которых позже 1 января 2000 года."
   ]
  },
  {
   "cell_type": "markdown",
   "id": "1cfb6748",
   "metadata": {},
   "source": [
    "<a id=\"overview_and_average_rating\"></a>\n",
    "## Расчет количества обзоров и средней оценки для каждой книги"
   ]
  },
  {
   "cell_type": "code",
   "execution_count": 16,
   "id": "0cc0e72d",
   "metadata": {},
   "outputs": [
    {
     "data": {
      "text/html": [
       "<div>\n",
       "<style scoped>\n",
       "    .dataframe tbody tr th:only-of-type {\n",
       "        vertical-align: middle;\n",
       "    }\n",
       "\n",
       "    .dataframe tbody tr th {\n",
       "        vertical-align: top;\n",
       "    }\n",
       "\n",
       "    .dataframe thead th {\n",
       "        text-align: right;\n",
       "    }\n",
       "</style>\n",
       "<table border=\"1\" class=\"dataframe\">\n",
       "  <thead>\n",
       "    <tr style=\"text-align: right;\">\n",
       "      <th></th>\n",
       "      <th>title</th>\n",
       "      <th>id</th>\n",
       "      <th>avg_rating</th>\n",
       "      <th>cnt_reviews</th>\n",
       "    </tr>\n",
       "  </thead>\n",
       "  <tbody>\n",
       "    <tr>\n",
       "      <th>0</th>\n",
       "      <td>Twilight (Twilight  #1)</td>\n",
       "      <td>948</td>\n",
       "      <td>3.662500</td>\n",
       "      <td>7</td>\n",
       "    </tr>\n",
       "    <tr>\n",
       "      <th>1</th>\n",
       "      <td>The Alchemist</td>\n",
       "      <td>627</td>\n",
       "      <td>3.789474</td>\n",
       "      <td>6</td>\n",
       "    </tr>\n",
       "    <tr>\n",
       "      <th>2</th>\n",
       "      <td>Outlander (Outlander  #1)</td>\n",
       "      <td>497</td>\n",
       "      <td>4.125000</td>\n",
       "      <td>6</td>\n",
       "    </tr>\n",
       "    <tr>\n",
       "      <th>3</th>\n",
       "      <td>The Hobbit  or There and Back Again</td>\n",
       "      <td>750</td>\n",
       "      <td>4.125000</td>\n",
       "      <td>6</td>\n",
       "    </tr>\n",
       "    <tr>\n",
       "      <th>4</th>\n",
       "      <td>Eat  Pray  Love</td>\n",
       "      <td>207</td>\n",
       "      <td>3.395833</td>\n",
       "      <td>6</td>\n",
       "    </tr>\n",
       "    <tr>\n",
       "      <th>5</th>\n",
       "      <td>The Book Thief</td>\n",
       "      <td>656</td>\n",
       "      <td>4.264151</td>\n",
       "      <td>6</td>\n",
       "    </tr>\n",
       "    <tr>\n",
       "      <th>6</th>\n",
       "      <td>The Curious Incident of the Dog in the Night-Time</td>\n",
       "      <td>695</td>\n",
       "      <td>4.081081</td>\n",
       "      <td>6</td>\n",
       "    </tr>\n",
       "    <tr>\n",
       "      <th>7</th>\n",
       "      <td>The Catcher in the Rye</td>\n",
       "      <td>673</td>\n",
       "      <td>3.825581</td>\n",
       "      <td>6</td>\n",
       "    </tr>\n",
       "    <tr>\n",
       "      <th>8</th>\n",
       "      <td>The Giver (The Giver  #1)</td>\n",
       "      <td>733</td>\n",
       "      <td>3.750000</td>\n",
       "      <td>6</td>\n",
       "    </tr>\n",
       "    <tr>\n",
       "      <th>9</th>\n",
       "      <td>The Glass Castle</td>\n",
       "      <td>734</td>\n",
       "      <td>4.206897</td>\n",
       "      <td>6</td>\n",
       "    </tr>\n",
       "    <tr>\n",
       "      <th>10</th>\n",
       "      <td>The Lightning Thief (Percy Jackson and the Oly...</td>\n",
       "      <td>779</td>\n",
       "      <td>4.080645</td>\n",
       "      <td>6</td>\n",
       "    </tr>\n",
       "    <tr>\n",
       "      <th>11</th>\n",
       "      <td>The Road</td>\n",
       "      <td>854</td>\n",
       "      <td>3.772727</td>\n",
       "      <td>6</td>\n",
       "    </tr>\n",
       "    <tr>\n",
       "      <th>12</th>\n",
       "      <td>Water for Elephants</td>\n",
       "      <td>963</td>\n",
       "      <td>3.977273</td>\n",
       "      <td>6</td>\n",
       "    </tr>\n",
       "    <tr>\n",
       "      <th>13</th>\n",
       "      <td>The Da Vinci Code (Robert Langdon  #2)</td>\n",
       "      <td>696</td>\n",
       "      <td>3.830508</td>\n",
       "      <td>6</td>\n",
       "    </tr>\n",
       "    <tr>\n",
       "      <th>14</th>\n",
       "      <td>Harry Potter and the Chamber of Secrets (Harry...</td>\n",
       "      <td>299</td>\n",
       "      <td>4.287500</td>\n",
       "      <td>6</td>\n",
       "    </tr>\n",
       "    <tr>\n",
       "      <th>15</th>\n",
       "      <td>Harry Potter and the Prisoner of Azkaban (Harr...</td>\n",
       "      <td>302</td>\n",
       "      <td>4.414634</td>\n",
       "      <td>6</td>\n",
       "    </tr>\n",
       "    <tr>\n",
       "      <th>16</th>\n",
       "      <td>A Clash of Kings  (A Song of Ice and Fire  #2)</td>\n",
       "      <td>15</td>\n",
       "      <td>4.391304</td>\n",
       "      <td>5</td>\n",
       "    </tr>\n",
       "    <tr>\n",
       "      <th>17</th>\n",
       "      <td>Extremely Loud and Incredibly Close</td>\n",
       "      <td>232</td>\n",
       "      <td>3.416667</td>\n",
       "      <td>5</td>\n",
       "    </tr>\n",
       "    <tr>\n",
       "      <th>18</th>\n",
       "      <td>Freakonomics: A Rogue Economist Explores the H...</td>\n",
       "      <td>267</td>\n",
       "      <td>3.909091</td>\n",
       "      <td>5</td>\n",
       "    </tr>\n",
       "    <tr>\n",
       "      <th>19</th>\n",
       "      <td>Dracula</td>\n",
       "      <td>194</td>\n",
       "      <td>3.296296</td>\n",
       "      <td>5</td>\n",
       "    </tr>\n",
       "  </tbody>\n",
       "</table>\n",
       "</div>"
      ],
      "text/plain": [
       "                                                title   id  avg_rating  \\\n",
       "0                             Twilight (Twilight  #1)  948    3.662500   \n",
       "1                                       The Alchemist  627    3.789474   \n",
       "2                           Outlander (Outlander  #1)  497    4.125000   \n",
       "3                 The Hobbit  or There and Back Again  750    4.125000   \n",
       "4                                     Eat  Pray  Love  207    3.395833   \n",
       "5                                      The Book Thief  656    4.264151   \n",
       "6   The Curious Incident of the Dog in the Night-Time  695    4.081081   \n",
       "7                              The Catcher in the Rye  673    3.825581   \n",
       "8                           The Giver (The Giver  #1)  733    3.750000   \n",
       "9                                    The Glass Castle  734    4.206897   \n",
       "10  The Lightning Thief (Percy Jackson and the Oly...  779    4.080645   \n",
       "11                                           The Road  854    3.772727   \n",
       "12                                Water for Elephants  963    3.977273   \n",
       "13             The Da Vinci Code (Robert Langdon  #2)  696    3.830508   \n",
       "14  Harry Potter and the Chamber of Secrets (Harry...  299    4.287500   \n",
       "15  Harry Potter and the Prisoner of Azkaban (Harr...  302    4.414634   \n",
       "16     A Clash of Kings  (A Song of Ice and Fire  #2)   15    4.391304   \n",
       "17                Extremely Loud and Incredibly Close  232    3.416667   \n",
       "18  Freakonomics: A Rogue Economist Explores the H...  267    3.909091   \n",
       "19                                            Dracula  194    3.296296   \n",
       "\n",
       "    cnt_reviews  \n",
       "0             7  \n",
       "1             6  \n",
       "2             6  \n",
       "3             6  \n",
       "4             6  \n",
       "5             6  \n",
       "6             6  \n",
       "7             6  \n",
       "8             6  \n",
       "9             6  \n",
       "10            6  \n",
       "11            6  \n",
       "12            6  \n",
       "13            6  \n",
       "14            6  \n",
       "15            6  \n",
       "16            5  \n",
       "17            5  \n",
       "18            5  \n",
       "19            5  "
      ]
     },
     "execution_count": 16,
     "metadata": {},
     "output_type": "execute_result"
    }
   ],
   "source": [
    "pd.io.sql.read_sql('''\n",
    "SELECT \n",
    "    books.title AS title,\n",
    "    books.book_id AS id,\n",
    "    AVG(ratings.rating) AS avg_rating,\n",
    "    COUNT(DISTINCT reviews.text) AS cnt_reviews\n",
    "FROM\n",
    "    books\n",
    "INNER JOIN ratings ON ratings.book_id = books.book_id\n",
    "INNER JOIN reviews ON reviews.book_id = books.book_id\n",
    "GROUP BY\n",
    "     books.title,\n",
    "     books.book_id\n",
    "order by\n",
    "     cnt_reviews DESC\n",
    "limit 20\n",
    "''', con = engine)"
   ]
  },
  {
   "cell_type": "markdown",
   "id": "aa0f29eb",
   "metadata": {},
   "source": [
    "**Вывод**\n",
    "\n",
    "Для 7 книг отсуствуют рейтинг и обзор, максимальное кол-во обзоров у книги Twilight (Twilight #1). Достаточно много книг с оценкой 5, но у них всего 2 обзора."
   ]
  },
  {
   "cell_type": "markdown",
   "id": "24e11893",
   "metadata": {},
   "source": [
    "<a id=\"max_books\"></a>\n",
    "## Определение издательства, которое выпустило наибольшее число книг толще 50 страниц"
   ]
  },
  {
   "cell_type": "code",
   "execution_count": 17,
   "id": "3f620f97",
   "metadata": {},
   "outputs": [
    {
     "data": {
      "text/html": [
       "<div>\n",
       "<style scoped>\n",
       "    .dataframe tbody tr th:only-of-type {\n",
       "        vertical-align: middle;\n",
       "    }\n",
       "\n",
       "    .dataframe tbody tr th {\n",
       "        vertical-align: top;\n",
       "    }\n",
       "\n",
       "    .dataframe thead th {\n",
       "        text-align: right;\n",
       "    }\n",
       "</style>\n",
       "<table border=\"1\" class=\"dataframe\">\n",
       "  <thead>\n",
       "    <tr style=\"text-align: right;\">\n",
       "      <th></th>\n",
       "      <th>publisher</th>\n",
       "      <th>books_cnt</th>\n",
       "    </tr>\n",
       "  </thead>\n",
       "  <tbody>\n",
       "    <tr>\n",
       "      <th>0</th>\n",
       "      <td>Penguin Books</td>\n",
       "      <td>42</td>\n",
       "    </tr>\n",
       "  </tbody>\n",
       "</table>\n",
       "</div>"
      ],
      "text/plain": [
       "       publisher  books_cnt\n",
       "0  Penguin Books         42"
      ]
     },
     "execution_count": 17,
     "metadata": {},
     "output_type": "execute_result"
    }
   ],
   "source": [
    "pd.io.sql.read_sql('''\n",
    "SELECT\n",
    "    publishers.publisher,\n",
    "    COUNT(book_id) AS books_cnt\n",
    "FROM\n",
    "    books\n",
    "    LEFT JOIN publishers ON publishers.publisher_id = books.publisher_id\n",
    "WHERE \n",
    "    num_pages > 50\n",
    "GROUP BY\n",
    "    publishers.publisher\n",
    "ORDER BY\n",
    "    books_cnt DESC\n",
    "LIMIT 1\n",
    "''', con = engine)"
   ]
  },
  {
   "cell_type": "markdown",
   "id": "0caef0e5",
   "metadata": {},
   "source": [
    "**Вывод**\n",
    "\n",
    "Издательство, которое выпустило наибольшее число книг толще 50 страниц - это Penguin Books. Оно выпустило 42 книги. Это достаточно старое и серьезное издательство, поэтому неудивительно, что оно на первом месте."
   ]
  },
  {
   "cell_type": "markdown",
   "id": "2061601a",
   "metadata": {},
   "source": [
    "<a id=\"average_book_rating\"></a>\n",
    "## Определение автора с самой высокой средней оценкой книг (с учетом только книг с 50 и более оценками)"
   ]
  },
  {
   "cell_type": "code",
   "execution_count": 18,
   "id": "020ecc0a",
   "metadata": {},
   "outputs": [
    {
     "data": {
      "text/html": [
       "<div>\n",
       "<style scoped>\n",
       "    .dataframe tbody tr th:only-of-type {\n",
       "        vertical-align: middle;\n",
       "    }\n",
       "\n",
       "    .dataframe tbody tr th {\n",
       "        vertical-align: top;\n",
       "    }\n",
       "\n",
       "    .dataframe thead th {\n",
       "        text-align: right;\n",
       "    }\n",
       "</style>\n",
       "<table border=\"1\" class=\"dataframe\">\n",
       "  <thead>\n",
       "    <tr style=\"text-align: right;\">\n",
       "      <th></th>\n",
       "      <th>author</th>\n",
       "      <th>avg_rating</th>\n",
       "    </tr>\n",
       "  </thead>\n",
       "  <tbody>\n",
       "    <tr>\n",
       "      <th>0</th>\n",
       "      <td>J.K. Rowling/Mary GrandPré</td>\n",
       "      <td>4.283844</td>\n",
       "    </tr>\n",
       "  </tbody>\n",
       "</table>\n",
       "</div>"
      ],
      "text/plain": [
       "                       author  avg_rating\n",
       "0  J.K. Rowling/Mary GrandPré    4.283844"
      ]
     },
     "execution_count": 18,
     "metadata": {},
     "output_type": "execute_result"
    }
   ],
   "source": [
    "pd.io.sql.read_sql('''\n",
    "SELECT\n",
    "    authors.author,\n",
    "    AVG(subquery_ratings.avg_rating) AS avg_rating\n",
    "FROM\n",
    "    books\n",
    "    LEFT JOIN (\n",
    "        SELECT \n",
    "            book_id,\n",
    "            AVG(rating) AS avg_rating,\n",
    "            COUNT(rating_id) AS rating_cnt\n",
    "        FROM\n",
    "            ratings\n",
    "        GROUP BY\n",
    "            book_id\n",
    "    ) AS subquery_ratings ON subquery_ratings.book_id = books.book_id\n",
    "    LEFT JOIN authors ON authors.author_id = books.author_id\n",
    "WHERE\n",
    "    rating_cnt >= 50\n",
    "GROUP BY\n",
    "    author\n",
    "ORDER BY\n",
    "    avg_rating DESC\n",
    "LIMIT 1\n",
    "''', con = engine)"
   ]
  },
  {
   "cell_type": "markdown",
   "id": "1d838b7e",
   "metadata": {},
   "source": [
    "**Вывод**\n",
    "\n",
    "Самая высокая средняя оценка книг у автора Д. Роулинг. Это довольно ожидаемый результат - серия книг о Гарри Поттере действительно пользуется популярностью по всему миру. Средняя оценка ее книг составляет 4.28 балла."
   ]
  },
  {
   "cell_type": "markdown",
   "id": "26ea2d5a",
   "metadata": {},
   "source": [
    "<a id=\"average_review\"></a>\n",
    "## Расчет среднего количества обзоров от пользователей, которые поставили больше 50 оценок"
   ]
  },
  {
   "cell_type": "code",
   "execution_count": 19,
   "id": "e8ff86b8",
   "metadata": {},
   "outputs": [
    {
     "data": {
      "text/html": [
       "<div>\n",
       "<style scoped>\n",
       "    .dataframe tbody tr th:only-of-type {\n",
       "        vertical-align: middle;\n",
       "    }\n",
       "\n",
       "    .dataframe tbody tr th {\n",
       "        vertical-align: top;\n",
       "    }\n",
       "\n",
       "    .dataframe thead th {\n",
       "        text-align: right;\n",
       "    }\n",
       "</style>\n",
       "<table border=\"1\" class=\"dataframe\">\n",
       "  <thead>\n",
       "    <tr style=\"text-align: right;\">\n",
       "      <th></th>\n",
       "      <th>avg_reviews_cnt</th>\n",
       "    </tr>\n",
       "  </thead>\n",
       "  <tbody>\n",
       "    <tr>\n",
       "      <th>0</th>\n",
       "      <td>24.333333</td>\n",
       "    </tr>\n",
       "  </tbody>\n",
       "</table>\n",
       "</div>"
      ],
      "text/plain": [
       "   avg_reviews_cnt\n",
       "0        24.333333"
      ]
     },
     "execution_count": 19,
     "metadata": {},
     "output_type": "execute_result"
    }
   ],
   "source": [
    "pd.io.sql.read_sql('''\n",
    "WITH\n",
    "    ratings_subquery AS (\n",
    "        SELECT\n",
    "            ratings.username,\n",
    "            COUNT(rating_id) AS ratings_cnt\n",
    "        FROM\n",
    "            ratings\n",
    "        GROUP BY\n",
    "            ratings.username\n",
    "        HAVING\n",
    "            COUNT(rating_id) > 50\n",
    "        ),\n",
    "    reviews_subquery AS (\n",
    "        SELECT\n",
    "            reviews.username,\n",
    "            COUNT(review_id) AS reviews_cnt\n",
    "        FROM\n",
    "            reviews\n",
    "        GROUP BY\n",
    "            reviews.username\n",
    "    )\n",
    "SELECT\n",
    "    AVG(reviews_cnt) as avg_reviews_cnt\n",
    "FROM\n",
    "    ratings_subquery\n",
    "    LEFT JOIN reviews_subquery ON reviews_subquery.username = ratings_subquery.username\n",
    "''', con = engine)"
   ]
  },
  {
   "cell_type": "markdown",
   "id": "e927f2ca",
   "metadata": {},
   "source": [
    "**Вывод**\n",
    "\n",
    "Найдена информация об активных пользователях, которые поставили более 50 оценок. В среднем такие пользователи оставляют 24 обзора."
   ]
  },
  {
   "cell_type": "markdown",
   "id": "16e93874",
   "metadata": {},
   "source": [
    "В ходе данного проекта была проанализирована база данных крупного сервиса для чтения книг по подписке. В ней содержится информация о книгах, издательствах, авторах, а также пользовательские обзоры книг. В резулате анализа получены следующие результаты:\n",
    "\n",
    "1. В БД нового сервиса содержится информация о 1000 книг. Для крупного сервиса это не так много.\n",
    "2. В БД содержится информация о 636 авторах, 340 издательствах, 6456 оценках книг и о 2793 обзорах на книги.\n",
    "3. Порядка 82% книг выпущены за последние 20 лет (819).\n",
    "4. Для большинства книг в БД есть оценки и обзоры (99%).\n",
    "5. Максимальное количество обзоров не слишком велико - 7, оно пришлось на книгу Сумерки.\n",
    "6. Издательство, которое выпустило наибольшее число книг толще 50 страниц - это Penguin Books. Оно выпустило 42 книги, что составляет 4% от выборки.\n",
    "7. Самые высокие оценки у автора Д. Роулинг. Средняя оценка ее книг составляет 4.28 балла.\n"
   ]
  },
  {
   "cell_type": "markdown",
   "id": "aab36006",
   "metadata": {},
   "source": [
    "<a id=\"recommendations\"></a>\n",
    "## Рекомендации"
   ]
  },
  {
   "cell_type": "markdown",
   "id": "98f7be68",
   "metadata": {},
   "source": [
    "1. Предлагать подписчикам свежие книги;\n",
    "2. Предлагать подписчикам популярные книги, но интересные пользователю;\n",
    "3. Предлагать книги издательств Penguin Books;\n",
    "4. Акцентировать внимание пользователей на книгах авторов J.K. Rowling и Mary GrandPré;"
   ]
  }
 ],
 "metadata": {
  "ExecuteTimeLog": [
   {
    "duration": 545,
    "start_time": "2022-07-31T11:39:17.525Z"
   },
   {
    "duration": 6426,
    "start_time": "2022-07-31T11:39:29.314Z"
   },
   {
    "duration": 3,
    "start_time": "2022-07-31T11:40:32.119Z"
   },
   {
    "duration": 302,
    "start_time": "2022-07-31T11:40:42.418Z"
   },
   {
    "duration": 48,
    "start_time": "2022-07-31T11:41:25.642Z"
   },
   {
    "duration": 5,
    "start_time": "2022-07-31T11:42:09.644Z"
   },
   {
    "duration": 119,
    "start_time": "2022-07-31T11:42:17.243Z"
   },
   {
    "duration": 3,
    "start_time": "2022-07-31T11:43:31.351Z"
   },
   {
    "duration": 84,
    "start_time": "2022-07-31T11:43:39.376Z"
   },
   {
    "duration": 52,
    "start_time": "2022-07-31T11:44:47.424Z"
   },
   {
    "duration": 3,
    "start_time": "2022-07-31T11:44:58.724Z"
   },
   {
    "duration": 123,
    "start_time": "2022-07-31T11:45:06.729Z"
   },
   {
    "duration": 75,
    "start_time": "2022-07-31T11:46:44.711Z"
   },
   {
    "duration": 4,
    "start_time": "2022-07-31T11:46:49.605Z"
   },
   {
    "duration": 125,
    "start_time": "2022-07-31T11:46:58.019Z"
   },
   {
    "duration": 7,
    "start_time": "2022-07-31T11:48:19.131Z"
   },
   {
    "duration": 78,
    "start_time": "2022-07-31T11:48:28.617Z"
   },
   {
    "duration": 76,
    "start_time": "2022-07-31T11:49:28.288Z"
   },
   {
    "duration": 104,
    "start_time": "2022-07-31T11:50:03.549Z"
   },
   {
    "duration": 134,
    "start_time": "2022-07-31T11:50:45.346Z"
   },
   {
    "duration": 3,
    "start_time": "2022-07-31T11:52:16.156Z"
   },
   {
    "duration": 44,
    "start_time": "2022-07-31T11:52:16.162Z"
   },
   {
    "duration": 353,
    "start_time": "2022-07-31T11:52:16.208Z"
   },
   {
    "duration": 99,
    "start_time": "2022-07-31T11:52:16.564Z"
   },
   {
    "duration": 99,
    "start_time": "2022-07-31T11:52:16.665Z"
   },
   {
    "duration": 133,
    "start_time": "2022-07-31T11:52:16.766Z"
   },
   {
    "duration": 108,
    "start_time": "2022-07-31T11:52:16.902Z"
   },
   {
    "duration": 94,
    "start_time": "2022-07-31T11:52:17.012Z"
   },
   {
    "duration": 166,
    "start_time": "2022-07-31T11:53:48.380Z"
   },
   {
    "duration": 117,
    "start_time": "2022-07-31T11:55:04.558Z"
   },
   {
    "duration": 76,
    "start_time": "2022-07-31T11:57:01.142Z"
   },
   {
    "duration": 84,
    "start_time": "2022-07-31T11:58:23.821Z"
   },
   {
    "duration": 91,
    "start_time": "2022-07-31T11:59:35.076Z"
   },
   {
    "duration": 3,
    "start_time": "2022-07-31T12:06:03.687Z"
   },
   {
    "duration": 9,
    "start_time": "2022-07-31T12:06:03.694Z"
   },
   {
    "duration": 299,
    "start_time": "2022-07-31T12:06:03.705Z"
   },
   {
    "duration": 84,
    "start_time": "2022-07-31T12:06:04.006Z"
   },
   {
    "duration": 93,
    "start_time": "2022-07-31T12:06:04.092Z"
   },
   {
    "duration": 124,
    "start_time": "2022-07-31T12:06:04.187Z"
   },
   {
    "duration": 109,
    "start_time": "2022-07-31T12:06:04.313Z"
   },
   {
    "duration": 81,
    "start_time": "2022-07-31T12:06:04.423Z"
   },
   {
    "duration": 96,
    "start_time": "2022-07-31T12:06:04.506Z"
   },
   {
    "duration": 95,
    "start_time": "2022-07-31T12:06:04.604Z"
   },
   {
    "duration": 85,
    "start_time": "2022-07-31T12:06:04.701Z"
   },
   {
    "duration": 91,
    "start_time": "2022-07-31T12:06:04.788Z"
   },
   {
    "duration": 90,
    "start_time": "2022-07-31T12:06:04.881Z"
   },
   {
    "duration": 3,
    "start_time": "2022-07-31T12:07:19.399Z"
   },
   {
    "duration": 9,
    "start_time": "2022-07-31T12:07:19.404Z"
   },
   {
    "duration": 302,
    "start_time": "2022-07-31T12:07:19.415Z"
   },
   {
    "duration": 81,
    "start_time": "2022-07-31T12:07:19.720Z"
   },
   {
    "duration": 84,
    "start_time": "2022-07-31T12:07:19.804Z"
   },
   {
    "duration": 121,
    "start_time": "2022-07-31T12:07:19.889Z"
   },
   {
    "duration": 107,
    "start_time": "2022-07-31T12:07:20.012Z"
   },
   {
    "duration": 82,
    "start_time": "2022-07-31T12:07:20.121Z"
   },
   {
    "duration": 88,
    "start_time": "2022-07-31T12:07:20.205Z"
   },
   {
    "duration": 92,
    "start_time": "2022-07-31T12:07:20.295Z"
   },
   {
    "duration": 83,
    "start_time": "2022-07-31T12:07:20.390Z"
   },
   {
    "duration": 83,
    "start_time": "2022-07-31T12:07:20.475Z"
   },
   {
    "duration": 78,
    "start_time": "2022-07-31T12:07:20.560Z"
   },
   {
    "duration": 4,
    "start_time": "2022-07-31T12:29:57.663Z"
   },
   {
    "duration": 19,
    "start_time": "2022-07-31T12:29:57.674Z"
   },
   {
    "duration": 353,
    "start_time": "2022-07-31T12:29:57.695Z"
   },
   {
    "duration": 85,
    "start_time": "2022-07-31T12:29:58.052Z"
   },
   {
    "duration": 83,
    "start_time": "2022-07-31T12:29:58.145Z"
   },
   {
    "duration": 149,
    "start_time": "2022-07-31T12:29:58.230Z"
   },
   {
    "duration": 116,
    "start_time": "2022-07-31T12:29:58.382Z"
   },
   {
    "duration": 98,
    "start_time": "2022-07-31T12:29:58.499Z"
   },
   {
    "duration": 159,
    "start_time": "2022-07-31T12:29:58.599Z"
   },
   {
    "duration": 113,
    "start_time": "2022-07-31T12:29:58.760Z"
   },
   {
    "duration": 115,
    "start_time": "2022-07-31T12:29:58.876Z"
   },
   {
    "duration": 106,
    "start_time": "2022-07-31T12:29:58.993Z"
   },
   {
    "duration": 94,
    "start_time": "2022-07-31T12:29:59.101Z"
   },
   {
    "duration": 3,
    "start_time": "2022-07-31T12:30:06.829Z"
   },
   {
    "duration": 27,
    "start_time": "2022-07-31T12:30:06.834Z"
   },
   {
    "duration": 295,
    "start_time": "2022-07-31T12:30:06.863Z"
   },
   {
    "duration": 86,
    "start_time": "2022-07-31T12:30:07.160Z"
   },
   {
    "duration": 75,
    "start_time": "2022-07-31T12:30:07.249Z"
   },
   {
    "duration": 132,
    "start_time": "2022-07-31T12:30:07.332Z"
   },
   {
    "duration": 102,
    "start_time": "2022-07-31T12:30:07.467Z"
   },
   {
    "duration": 81,
    "start_time": "2022-07-31T12:30:07.571Z"
   },
   {
    "duration": 95,
    "start_time": "2022-07-31T12:30:07.653Z"
   },
   {
    "duration": 91,
    "start_time": "2022-07-31T12:30:07.750Z"
   },
   {
    "duration": 73,
    "start_time": "2022-07-31T12:30:07.843Z"
   },
   {
    "duration": 88,
    "start_time": "2022-07-31T12:30:07.918Z"
   },
   {
    "duration": 84,
    "start_time": "2022-07-31T12:30:08.008Z"
   },
   {
    "duration": 538,
    "start_time": "2022-08-08T09:34:41.421Z"
   },
   {
    "duration": 7646,
    "start_time": "2022-08-08T09:34:41.961Z"
   },
   {
    "duration": 281,
    "start_time": "2022-08-08T09:34:49.609Z"
   },
   {
    "duration": 71,
    "start_time": "2022-08-08T09:34:49.892Z"
   },
   {
    "duration": 77,
    "start_time": "2022-08-08T09:34:49.965Z"
   },
   {
    "duration": 110,
    "start_time": "2022-08-08T09:34:50.044Z"
   },
   {
    "duration": 106,
    "start_time": "2022-08-08T09:34:50.155Z"
   },
   {
    "duration": 79,
    "start_time": "2022-08-08T09:34:50.263Z"
   },
   {
    "duration": 100,
    "start_time": "2022-08-08T09:34:50.343Z"
   },
   {
    "duration": 82,
    "start_time": "2022-08-08T09:34:50.445Z"
   },
   {
    "duration": 72,
    "start_time": "2022-08-08T09:34:50.529Z"
   },
   {
    "duration": 70,
    "start_time": "2022-08-08T09:34:50.602Z"
   },
   {
    "duration": 81,
    "start_time": "2022-08-08T09:34:50.674Z"
   },
   {
    "duration": 44,
    "start_time": "2022-08-12T11:27:09.056Z"
   },
   {
    "duration": 484,
    "start_time": "2022-08-12T11:27:11.676Z"
   },
   {
    "duration": 5969,
    "start_time": "2022-08-12T11:27:12.162Z"
   },
   {
    "duration": 307,
    "start_time": "2022-08-12T11:27:18.133Z"
   },
   {
    "duration": 82,
    "start_time": "2022-08-12T11:27:18.443Z"
   },
   {
    "duration": 79,
    "start_time": "2022-08-12T11:27:18.527Z"
   },
   {
    "duration": 108,
    "start_time": "2022-08-12T11:27:18.607Z"
   },
   {
    "duration": 194,
    "start_time": "2022-08-12T11:27:18.717Z"
   },
   {
    "duration": 0,
    "start_time": "2022-08-12T11:27:18.913Z"
   },
   {
    "duration": 0,
    "start_time": "2022-08-12T11:27:18.915Z"
   },
   {
    "duration": 1,
    "start_time": "2022-08-12T11:27:18.916Z"
   },
   {
    "duration": 0,
    "start_time": "2022-08-12T11:27:18.918Z"
   },
   {
    "duration": 0,
    "start_time": "2022-08-12T11:27:18.919Z"
   },
   {
    "duration": 2,
    "start_time": "2022-08-12T11:28:21.990Z"
   },
   {
    "duration": 2,
    "start_time": "2022-08-12T11:28:40.908Z"
   },
   {
    "duration": 424,
    "start_time": "2022-08-12T11:29:03.155Z"
   },
   {
    "duration": 4,
    "start_time": "2022-08-12T11:30:26.014Z"
   },
   {
    "duration": 20,
    "start_time": "2022-08-12T11:30:26.023Z"
   },
   {
    "duration": 9,
    "start_time": "2022-08-12T11:30:26.045Z"
   },
   {
    "duration": 638,
    "start_time": "2022-08-12T11:30:26.055Z"
   },
   {
    "duration": 86,
    "start_time": "2022-08-12T11:30:26.695Z"
   },
   {
    "duration": 79,
    "start_time": "2022-08-12T11:30:26.783Z"
   },
   {
    "duration": 77,
    "start_time": "2022-08-12T11:30:26.863Z"
   },
   {
    "duration": 90,
    "start_time": "2022-08-12T11:30:26.942Z"
   },
   {
    "duration": 85,
    "start_time": "2022-08-12T11:30:27.034Z"
   },
   {
    "duration": 77,
    "start_time": "2022-08-12T11:30:27.121Z"
   },
   {
    "duration": 97,
    "start_time": "2022-08-12T11:30:27.200Z"
   },
   {
    "duration": 80,
    "start_time": "2022-08-12T11:30:27.299Z"
   },
   {
    "duration": 81,
    "start_time": "2022-08-12T11:30:27.381Z"
   },
   {
    "duration": 80,
    "start_time": "2022-08-12T11:30:27.463Z"
   },
   {
    "duration": 427,
    "start_time": "2022-08-12T11:31:34.334Z"
   },
   {
    "duration": 4,
    "start_time": "2022-08-12T11:32:02.787Z"
   },
   {
    "duration": 253,
    "start_time": "2022-08-12T11:35:28.136Z"
   },
   {
    "duration": 79,
    "start_time": "2022-08-12T11:35:49.814Z"
   },
   {
    "duration": 77,
    "start_time": "2022-08-12T11:35:54.886Z"
   },
   {
    "duration": 80,
    "start_time": "2022-08-12T11:35:59.943Z"
   },
   {
    "duration": 79,
    "start_time": "2022-08-12T11:36:05.411Z"
   },
   {
    "duration": 81,
    "start_time": "2022-08-12T11:37:32.410Z"
   },
   {
    "duration": 81,
    "start_time": "2022-08-12T11:37:36.309Z"
   },
   {
    "duration": 10,
    "start_time": "2022-08-12T11:38:07.909Z"
   },
   {
    "duration": 3,
    "start_time": "2022-08-12T11:38:14.345Z"
   },
   {
    "duration": 7,
    "start_time": "2022-08-12T11:38:14.350Z"
   },
   {
    "duration": 14,
    "start_time": "2022-08-12T11:38:14.359Z"
   },
   {
    "duration": 301,
    "start_time": "2022-08-12T11:38:14.375Z"
   },
   {
    "duration": 75,
    "start_time": "2022-08-12T11:38:14.678Z"
   },
   {
    "duration": 75,
    "start_time": "2022-08-12T11:38:14.754Z"
   },
   {
    "duration": 75,
    "start_time": "2022-08-12T11:38:14.831Z"
   },
   {
    "duration": 76,
    "start_time": "2022-08-12T11:38:14.908Z"
   },
   {
    "duration": 76,
    "start_time": "2022-08-12T11:38:14.986Z"
   },
   {
    "duration": 93,
    "start_time": "2022-08-12T11:38:15.063Z"
   },
   {
    "duration": 76,
    "start_time": "2022-08-12T11:38:15.157Z"
   },
   {
    "duration": 79,
    "start_time": "2022-08-12T11:38:15.235Z"
   },
   {
    "duration": 79,
    "start_time": "2022-08-12T11:38:15.315Z"
   },
   {
    "duration": 77,
    "start_time": "2022-08-12T11:38:29.485Z"
   },
   {
    "duration": 116,
    "start_time": "2022-08-12T11:38:42.809Z"
   },
   {
    "duration": 10,
    "start_time": "2022-08-12T11:38:46.909Z"
   },
   {
    "duration": 80,
    "start_time": "2022-08-12T11:39:02.694Z"
   },
   {
    "duration": 12,
    "start_time": "2022-08-12T11:39:53.325Z"
   },
   {
    "duration": 436,
    "start_time": "2022-08-12T11:40:13.864Z"
   },
   {
    "duration": 7080,
    "start_time": "2022-08-12T11:40:14.302Z"
   },
   {
    "duration": 65,
    "start_time": "2022-08-12T11:40:21.383Z"
   },
   {
    "duration": 0,
    "start_time": "2022-08-12T11:40:21.450Z"
   },
   {
    "duration": 0,
    "start_time": "2022-08-12T11:40:21.451Z"
   },
   {
    "duration": 0,
    "start_time": "2022-08-12T11:40:21.452Z"
   },
   {
    "duration": 0,
    "start_time": "2022-08-12T11:40:21.453Z"
   },
   {
    "duration": 0,
    "start_time": "2022-08-12T11:40:21.454Z"
   },
   {
    "duration": 0,
    "start_time": "2022-08-12T11:40:21.455Z"
   },
   {
    "duration": 0,
    "start_time": "2022-08-12T11:40:21.456Z"
   },
   {
    "duration": 0,
    "start_time": "2022-08-12T11:40:21.456Z"
   },
   {
    "duration": 0,
    "start_time": "2022-08-12T11:40:21.457Z"
   },
   {
    "duration": 0,
    "start_time": "2022-08-12T11:40:21.458Z"
   },
   {
    "duration": 6,
    "start_time": "2022-08-12T11:40:34.263Z"
   },
   {
    "duration": 260,
    "start_time": "2022-08-12T11:40:43.639Z"
   },
   {
    "duration": 7,
    "start_time": "2022-08-12T11:40:44.948Z"
   },
   {
    "duration": 6,
    "start_time": "2022-08-12T11:40:49.646Z"
   },
   {
    "duration": 76,
    "start_time": "2022-08-12T11:42:14.776Z"
   },
   {
    "duration": 75,
    "start_time": "2022-08-12T11:42:24.456Z"
   },
   {
    "duration": 77,
    "start_time": "2022-08-12T11:42:29.795Z"
   },
   {
    "duration": 85,
    "start_time": "2022-08-12T11:42:47.538Z"
   },
   {
    "duration": 75,
    "start_time": "2022-08-12T11:42:56.511Z"
   },
   {
    "duration": 92,
    "start_time": "2022-08-12T11:43:04.619Z"
   },
   {
    "duration": 77,
    "start_time": "2022-08-12T11:43:10.188Z"
   },
   {
    "duration": 81,
    "start_time": "2022-08-12T11:43:16.123Z"
   },
   {
    "duration": 78,
    "start_time": "2022-08-12T11:43:18.319Z"
   },
   {
    "duration": 3,
    "start_time": "2022-08-12T11:52:15.888Z"
   },
   {
    "duration": 13,
    "start_time": "2022-08-12T11:52:15.892Z"
   },
   {
    "duration": 266,
    "start_time": "2022-08-12T11:52:15.908Z"
   },
   {
    "duration": 76,
    "start_time": "2022-08-12T11:52:16.175Z"
   },
   {
    "duration": 76,
    "start_time": "2022-08-12T11:52:16.253Z"
   },
   {
    "duration": 77,
    "start_time": "2022-08-12T11:52:16.331Z"
   },
   {
    "duration": 78,
    "start_time": "2022-08-12T11:52:16.409Z"
   },
   {
    "duration": 77,
    "start_time": "2022-08-12T11:52:16.488Z"
   },
   {
    "duration": 93,
    "start_time": "2022-08-12T11:52:16.567Z"
   },
   {
    "duration": 77,
    "start_time": "2022-08-12T11:52:16.662Z"
   },
   {
    "duration": 78,
    "start_time": "2022-08-12T11:52:16.741Z"
   },
   {
    "duration": 76,
    "start_time": "2022-08-12T11:52:16.821Z"
   },
   {
    "duration": 78,
    "start_time": "2022-08-12T12:01:16.203Z"
   },
   {
    "duration": 7,
    "start_time": "2022-08-12T12:01:37.905Z"
   },
   {
    "duration": 3,
    "start_time": "2022-08-12T12:03:02.494Z"
   },
   {
    "duration": 32,
    "start_time": "2022-08-12T12:03:02.499Z"
   },
   {
    "duration": 275,
    "start_time": "2022-08-12T12:03:02.533Z"
   },
   {
    "duration": 79,
    "start_time": "2022-08-12T12:03:02.809Z"
   },
   {
    "duration": 79,
    "start_time": "2022-08-12T12:03:02.890Z"
   },
   {
    "duration": 79,
    "start_time": "2022-08-12T12:03:02.971Z"
   },
   {
    "duration": 77,
    "start_time": "2022-08-12T12:03:03.052Z"
   },
   {
    "duration": 80,
    "start_time": "2022-08-12T12:03:03.131Z"
   },
   {
    "duration": 92,
    "start_time": "2022-08-12T12:03:03.214Z"
   },
   {
    "duration": 80,
    "start_time": "2022-08-12T12:03:03.308Z"
   },
   {
    "duration": 80,
    "start_time": "2022-08-12T12:03:03.390Z"
   },
   {
    "duration": 84,
    "start_time": "2022-08-12T12:03:03.471Z"
   },
   {
    "duration": 84,
    "start_time": "2022-08-12T12:03:08.279Z"
   },
   {
    "duration": 7,
    "start_time": "2022-08-12T12:03:17.709Z"
   },
   {
    "duration": 7,
    "start_time": "2022-08-12T12:03:25.471Z"
   },
   {
    "duration": 148,
    "start_time": "2022-08-12T12:06:42.600Z"
   },
   {
    "duration": 169,
    "start_time": "2022-08-12T12:07:57.147Z"
   },
   {
    "duration": 149,
    "start_time": "2022-08-12T12:10:15.990Z"
   },
   {
    "duration": 139,
    "start_time": "2022-08-12T12:13:38.755Z"
   },
   {
    "duration": 82,
    "start_time": "2022-08-12T12:14:14.943Z"
   },
   {
    "duration": 487,
    "start_time": "2022-08-12T12:16:11.042Z"
   },
   {
    "duration": 6649,
    "start_time": "2022-08-12T12:16:11.531Z"
   },
   {
    "duration": 268,
    "start_time": "2022-08-12T12:16:18.181Z"
   },
   {
    "duration": 82,
    "start_time": "2022-08-12T12:16:18.451Z"
   },
   {
    "duration": 75,
    "start_time": "2022-08-12T12:16:18.535Z"
   },
   {
    "duration": 86,
    "start_time": "2022-08-12T12:16:18.611Z"
   },
   {
    "duration": 83,
    "start_time": "2022-08-12T12:16:18.698Z"
   },
   {
    "duration": 78,
    "start_time": "2022-08-12T12:16:18.783Z"
   },
   {
    "duration": 103,
    "start_time": "2022-08-12T12:16:18.862Z"
   },
   {
    "duration": 82,
    "start_time": "2022-08-12T12:16:18.967Z"
   },
   {
    "duration": 81,
    "start_time": "2022-08-12T12:16:19.051Z"
   },
   {
    "duration": 78,
    "start_time": "2022-08-12T12:16:19.133Z"
   },
   {
    "duration": 3,
    "start_time": "2022-08-12T12:21:15.443Z"
   },
   {
    "duration": 78,
    "start_time": "2022-08-12T12:22:05.822Z"
   },
   {
    "duration": 62,
    "start_time": "2022-08-12T12:22:24.335Z"
   },
   {
    "duration": 3,
    "start_time": "2022-08-12T12:23:05.971Z"
   },
   {
    "duration": 42,
    "start_time": "2022-08-12T12:23:05.976Z"
   },
   {
    "duration": 10,
    "start_time": "2022-08-12T12:23:06.020Z"
   },
   {
    "duration": 630,
    "start_time": "2022-08-12T12:23:06.032Z"
   },
   {
    "duration": 76,
    "start_time": "2022-08-12T12:23:06.664Z"
   },
   {
    "duration": 9,
    "start_time": "2022-08-12T12:23:06.742Z"
   },
   {
    "duration": 80,
    "start_time": "2022-08-12T12:23:06.753Z"
   },
   {
    "duration": 76,
    "start_time": "2022-08-12T12:23:06.834Z"
   },
   {
    "duration": 75,
    "start_time": "2022-08-12T12:23:06.911Z"
   },
   {
    "duration": 80,
    "start_time": "2022-08-12T12:23:06.988Z"
   },
   {
    "duration": 76,
    "start_time": "2022-08-12T12:23:07.070Z"
   },
   {
    "duration": 100,
    "start_time": "2022-08-12T12:23:07.148Z"
   },
   {
    "duration": 80,
    "start_time": "2022-08-12T12:23:07.250Z"
   },
   {
    "duration": 90,
    "start_time": "2022-08-12T12:23:07.333Z"
   },
   {
    "duration": 86,
    "start_time": "2022-08-12T12:23:07.424Z"
   },
   {
    "duration": 11,
    "start_time": "2022-08-12T12:25:58.163Z"
   },
   {
    "duration": 76,
    "start_time": "2022-08-12T12:26:28.456Z"
   },
   {
    "duration": 9,
    "start_time": "2022-08-12T12:26:47.976Z"
   },
   {
    "duration": 81,
    "start_time": "2022-08-12T12:27:27.198Z"
   },
   {
    "duration": 10,
    "start_time": "2022-08-12T12:27:37.525Z"
   },
   {
    "duration": 75,
    "start_time": "2022-08-12T12:28:08.973Z"
   },
   {
    "duration": 10,
    "start_time": "2022-08-12T12:28:21.537Z"
   },
   {
    "duration": 79,
    "start_time": "2022-08-12T12:28:54.151Z"
   },
   {
    "duration": 11,
    "start_time": "2022-08-12T12:29:10.921Z"
   },
   {
    "duration": 10,
    "start_time": "2022-08-12T12:29:17.864Z"
   },
   {
    "duration": 3,
    "start_time": "2022-08-12T12:31:00.903Z"
   },
   {
    "duration": 460,
    "start_time": "2022-08-12T12:31:17.857Z"
   },
   {
    "duration": 6790,
    "start_time": "2022-08-12T12:31:18.319Z"
   },
   {
    "duration": 3,
    "start_time": "2022-08-12T12:31:25.110Z"
   },
   {
    "duration": 604,
    "start_time": "2022-08-12T12:31:25.115Z"
   },
   {
    "duration": 84,
    "start_time": "2022-08-12T12:31:25.720Z"
   },
   {
    "duration": 10,
    "start_time": "2022-08-12T12:31:25.805Z"
   },
   {
    "duration": 80,
    "start_time": "2022-08-12T12:31:25.817Z"
   },
   {
    "duration": 10,
    "start_time": "2022-08-12T12:31:25.899Z"
   },
   {
    "duration": 84,
    "start_time": "2022-08-12T12:31:25.910Z"
   },
   {
    "duration": 9,
    "start_time": "2022-08-12T12:31:25.996Z"
   },
   {
    "duration": 83,
    "start_time": "2022-08-12T12:31:26.007Z"
   },
   {
    "duration": 10,
    "start_time": "2022-08-12T12:31:26.092Z"
   },
   {
    "duration": 80,
    "start_time": "2022-08-12T12:31:26.103Z"
   },
   {
    "duration": 9,
    "start_time": "2022-08-12T12:31:26.184Z"
   },
   {
    "duration": 78,
    "start_time": "2022-08-12T12:31:26.195Z"
   },
   {
    "duration": 91,
    "start_time": "2022-08-12T12:31:26.275Z"
   },
   {
    "duration": 80,
    "start_time": "2022-08-12T12:31:26.368Z"
   },
   {
    "duration": 78,
    "start_time": "2022-08-12T12:31:26.450Z"
   },
   {
    "duration": 77,
    "start_time": "2022-08-12T12:31:26.530Z"
   },
   {
    "duration": 829,
    "start_time": "2022-08-12T16:37:03.673Z"
   },
   {
    "duration": 10897,
    "start_time": "2022-08-12T16:37:04.505Z"
   },
   {
    "duration": 3,
    "start_time": "2022-08-12T16:37:15.404Z"
   },
   {
    "duration": 675,
    "start_time": "2022-08-12T16:37:15.409Z"
   },
   {
    "duration": 85,
    "start_time": "2022-08-12T16:37:16.087Z"
   },
   {
    "duration": 12,
    "start_time": "2022-08-12T16:37:16.174Z"
   },
   {
    "duration": 85,
    "start_time": "2022-08-12T16:37:16.188Z"
   },
   {
    "duration": 12,
    "start_time": "2022-08-12T16:37:16.275Z"
   },
   {
    "duration": 86,
    "start_time": "2022-08-12T16:37:16.289Z"
   },
   {
    "duration": 9,
    "start_time": "2022-08-12T16:37:16.376Z"
   },
   {
    "duration": 80,
    "start_time": "2022-08-12T16:37:16.387Z"
   },
   {
    "duration": 10,
    "start_time": "2022-08-12T16:37:16.468Z"
   },
   {
    "duration": 80,
    "start_time": "2022-08-12T16:37:16.480Z"
   },
   {
    "duration": 11,
    "start_time": "2022-08-12T16:37:16.563Z"
   },
   {
    "duration": 81,
    "start_time": "2022-08-12T16:37:16.575Z"
   },
   {
    "duration": 96,
    "start_time": "2022-08-12T16:37:16.658Z"
   },
   {
    "duration": 76,
    "start_time": "2022-08-12T16:37:16.756Z"
   },
   {
    "duration": 78,
    "start_time": "2022-08-12T16:37:16.834Z"
   },
   {
    "duration": 76,
    "start_time": "2022-08-12T16:37:16.913Z"
   },
   {
    "duration": 118,
    "start_time": "2022-08-12T16:42:28.566Z"
   },
   {
    "duration": 95,
    "start_time": "2022-08-12T16:42:41.863Z"
   },
   {
    "duration": 490,
    "start_time": "2022-09-20T12:49:02.858Z"
   },
   {
    "duration": 17572,
    "start_time": "2022-09-20T12:49:03.351Z"
   },
   {
    "duration": 5,
    "start_time": "2022-09-20T12:49:20.929Z"
   },
   {
    "duration": 224,
    "start_time": "2022-09-20T12:49:20.942Z"
   },
   {
    "duration": 26,
    "start_time": "2022-09-20T12:49:21.169Z"
   },
   {
    "duration": 17,
    "start_time": "2022-09-20T12:49:21.198Z"
   },
   {
    "duration": 46,
    "start_time": "2022-09-20T12:49:21.217Z"
   },
   {
    "duration": 12,
    "start_time": "2022-09-20T12:49:21.265Z"
   },
   {
    "duration": 16,
    "start_time": "2022-09-20T12:49:21.279Z"
   },
   {
    "duration": 11,
    "start_time": "2022-09-20T12:49:21.298Z"
   },
   {
    "duration": 77,
    "start_time": "2022-09-20T12:49:21.312Z"
   },
   {
    "duration": 16,
    "start_time": "2022-09-20T12:49:21.392Z"
   },
   {
    "duration": 64,
    "start_time": "2022-09-20T12:49:21.410Z"
   },
   {
    "duration": 14,
    "start_time": "2022-09-20T12:49:21.477Z"
   },
   {
    "duration": 24,
    "start_time": "2022-09-20T12:49:21.493Z"
   },
   {
    "duration": 85,
    "start_time": "2022-09-20T12:49:21.519Z"
   },
   {
    "duration": 30,
    "start_time": "2022-09-20T12:49:21.606Z"
   },
   {
    "duration": 33,
    "start_time": "2022-09-20T12:49:21.642Z"
   },
   {
    "duration": 15,
    "start_time": "2022-09-20T12:49:21.677Z"
   }
  ],
  "kernelspec": {
   "display_name": "Python 3 (ipykernel)",
   "language": "python",
   "name": "python3"
  },
  "language_info": {
   "codemirror_mode": {
    "name": "ipython",
    "version": 3
   },
   "file_extension": ".py",
   "mimetype": "text/x-python",
   "name": "python",
   "nbconvert_exporter": "python",
   "pygments_lexer": "ipython3",
   "version": "3.9.5"
  },
  "toc": {
   "base_numbering": 1,
   "nav_menu": {},
   "number_sections": true,
   "sideBar": true,
   "skip_h1_title": true,
   "title_cell": "Table of Contents",
   "title_sidebar": "Contents",
   "toc_cell": false,
   "toc_position": {
    "height": "calc(100% - 180px)",
    "left": "10px",
    "top": "150px",
    "width": "273.188px"
   },
   "toc_section_display": true,
   "toc_window_display": false
  }
 },
 "nbformat": 4,
 "nbformat_minor": 5
}
