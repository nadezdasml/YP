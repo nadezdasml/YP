{
 "cells": [
  {
   "cell_type": "markdown",
   "metadata": {
    "toc": true
   },
   "source": [
    "<h1>Содержание<span class=\"tocSkip\"></span></h1>\n",
    "<div class=\"toc\"><ul class=\"toc-item\"><li><span><a href=\"#Изучение-данных-из-файла\" data-toc-modified-id=\"Изучение-данных-из-файла-1\"><span class=\"toc-item-num\">1&nbsp;&nbsp;</span>Изучение данных из файла</a></span><ul class=\"toc-item\"><li><span><a href=\"#Вывод\" data-toc-modified-id=\"Вывод-1.1\"><span class=\"toc-item-num\">1.1&nbsp;&nbsp;</span>Вывод</a></span></li></ul></li><li><span><a href=\"#Предобработка-данных\" data-toc-modified-id=\"Предобработка-данных-2\"><span class=\"toc-item-num\">2&nbsp;&nbsp;</span>Предобработка данных</a></span></li><li><span><a href=\"#Расчёты-и-добавление-результатов-в-таблицу\" data-toc-modified-id=\"Расчёты-и-добавление-результатов-в-таблицу-3\"><span class=\"toc-item-num\">3&nbsp;&nbsp;</span>Расчёты и добавление результатов в таблицу</a></span></li><li><span><a href=\"#Исследовательский-анализ-данных\" data-toc-modified-id=\"Исследовательский-анализ-данных-4\"><span class=\"toc-item-num\">4&nbsp;&nbsp;</span>Исследовательский анализ данных</a></span></li><li><span><a href=\"#Общий-вывод\" data-toc-modified-id=\"Общий-вывод-5\"><span class=\"toc-item-num\">5&nbsp;&nbsp;</span>Общий вывод</a></span></li></ul></div>"
   ]
  },
  {
   "cell_type": "markdown",
   "metadata": {},
   "source": [
    "# Исследование объявлений о продаже квартир\n",
    "\n",
    "В вашем распоряжении данные сервиса Яндекc Недвижимость — архив объявлений о продаже квартир в Санкт-Петербурге и соседних населённых пунктах за несколько лет. Нужно научиться определять рыночную стоимость объектов недвижимости. Ваша задача — установить параметры. Это позволит построить автоматизированную систему: она отследит аномалии и мошенническую деятельность. \n",
    "\n",
    "По каждой квартире на продажу доступны два вида данных. Первые вписаны пользователем, вторые получены автоматически на основе картографических данных. Например, расстояние до центра, аэропорта, ближайшего парка и водоёма. "
   ]
  },
  {
   "cell_type": "markdown",
   "metadata": {},
   "source": [
    "## Изучение данных из файла"
   ]
  },
  {
   "cell_type": "code",
   "execution_count": 1,
   "metadata": {},
   "outputs": [],
   "source": [
    "import pandas as pd\n",
    "import matplotlib.pyplot as plt\n",
    "import seaborn as sns"
   ]
  },
  {
   "cell_type": "code",
   "execution_count": 2,
   "metadata": {},
   "outputs": [
    {
     "data": {
      "text/html": [
       "<div>\n",
       "<style scoped>\n",
       "    .dataframe tbody tr th:only-of-type {\n",
       "        vertical-align: middle;\n",
       "    }\n",
       "\n",
       "    .dataframe tbody tr th {\n",
       "        vertical-align: top;\n",
       "    }\n",
       "\n",
       "    .dataframe thead th {\n",
       "        text-align: right;\n",
       "    }\n",
       "</style>\n",
       "<table border=\"1\" class=\"dataframe\">\n",
       "  <thead>\n",
       "    <tr style=\"text-align: right;\">\n",
       "      <th></th>\n",
       "      <th>total_images</th>\n",
       "      <th>last_price</th>\n",
       "      <th>total_area</th>\n",
       "      <th>first_day_exposition</th>\n",
       "      <th>rooms</th>\n",
       "      <th>ceiling_height</th>\n",
       "      <th>floors_total</th>\n",
       "      <th>living_area</th>\n",
       "      <th>floor</th>\n",
       "      <th>is_apartment</th>\n",
       "      <th>...</th>\n",
       "      <th>kitchen_area</th>\n",
       "      <th>balcony</th>\n",
       "      <th>locality_name</th>\n",
       "      <th>airports_nearest</th>\n",
       "      <th>cityCenters_nearest</th>\n",
       "      <th>parks_around3000</th>\n",
       "      <th>parks_nearest</th>\n",
       "      <th>ponds_around3000</th>\n",
       "      <th>ponds_nearest</th>\n",
       "      <th>days_exposition</th>\n",
       "    </tr>\n",
       "  </thead>\n",
       "  <tbody>\n",
       "    <tr>\n",
       "      <th>0</th>\n",
       "      <td>20</td>\n",
       "      <td>13000000.0</td>\n",
       "      <td>108.00</td>\n",
       "      <td>2019-03-07T00:00:00</td>\n",
       "      <td>3</td>\n",
       "      <td>2.70</td>\n",
       "      <td>16.0</td>\n",
       "      <td>51.00</td>\n",
       "      <td>8</td>\n",
       "      <td>NaN</td>\n",
       "      <td>...</td>\n",
       "      <td>25.00</td>\n",
       "      <td>NaN</td>\n",
       "      <td>Санкт-Петербург</td>\n",
       "      <td>18863.0</td>\n",
       "      <td>16028.0</td>\n",
       "      <td>1.0</td>\n",
       "      <td>482.0</td>\n",
       "      <td>2.0</td>\n",
       "      <td>755.0</td>\n",
       "      <td>NaN</td>\n",
       "    </tr>\n",
       "    <tr>\n",
       "      <th>1</th>\n",
       "      <td>7</td>\n",
       "      <td>3350000.0</td>\n",
       "      <td>40.40</td>\n",
       "      <td>2018-12-04T00:00:00</td>\n",
       "      <td>1</td>\n",
       "      <td>NaN</td>\n",
       "      <td>11.0</td>\n",
       "      <td>18.60</td>\n",
       "      <td>1</td>\n",
       "      <td>NaN</td>\n",
       "      <td>...</td>\n",
       "      <td>11.00</td>\n",
       "      <td>2.0</td>\n",
       "      <td>посёлок Шушары</td>\n",
       "      <td>12817.0</td>\n",
       "      <td>18603.0</td>\n",
       "      <td>0.0</td>\n",
       "      <td>NaN</td>\n",
       "      <td>0.0</td>\n",
       "      <td>NaN</td>\n",
       "      <td>81.0</td>\n",
       "    </tr>\n",
       "    <tr>\n",
       "      <th>2</th>\n",
       "      <td>10</td>\n",
       "      <td>5196000.0</td>\n",
       "      <td>56.00</td>\n",
       "      <td>2015-08-20T00:00:00</td>\n",
       "      <td>2</td>\n",
       "      <td>NaN</td>\n",
       "      <td>5.0</td>\n",
       "      <td>34.30</td>\n",
       "      <td>4</td>\n",
       "      <td>NaN</td>\n",
       "      <td>...</td>\n",
       "      <td>8.30</td>\n",
       "      <td>0.0</td>\n",
       "      <td>Санкт-Петербург</td>\n",
       "      <td>21741.0</td>\n",
       "      <td>13933.0</td>\n",
       "      <td>1.0</td>\n",
       "      <td>90.0</td>\n",
       "      <td>2.0</td>\n",
       "      <td>574.0</td>\n",
       "      <td>558.0</td>\n",
       "    </tr>\n",
       "    <tr>\n",
       "      <th>3</th>\n",
       "      <td>0</td>\n",
       "      <td>64900000.0</td>\n",
       "      <td>159.00</td>\n",
       "      <td>2015-07-24T00:00:00</td>\n",
       "      <td>3</td>\n",
       "      <td>NaN</td>\n",
       "      <td>14.0</td>\n",
       "      <td>NaN</td>\n",
       "      <td>9</td>\n",
       "      <td>NaN</td>\n",
       "      <td>...</td>\n",
       "      <td>NaN</td>\n",
       "      <td>0.0</td>\n",
       "      <td>Санкт-Петербург</td>\n",
       "      <td>28098.0</td>\n",
       "      <td>6800.0</td>\n",
       "      <td>2.0</td>\n",
       "      <td>84.0</td>\n",
       "      <td>3.0</td>\n",
       "      <td>234.0</td>\n",
       "      <td>424.0</td>\n",
       "    </tr>\n",
       "    <tr>\n",
       "      <th>4</th>\n",
       "      <td>2</td>\n",
       "      <td>10000000.0</td>\n",
       "      <td>100.00</td>\n",
       "      <td>2018-06-19T00:00:00</td>\n",
       "      <td>2</td>\n",
       "      <td>3.03</td>\n",
       "      <td>14.0</td>\n",
       "      <td>32.00</td>\n",
       "      <td>13</td>\n",
       "      <td>NaN</td>\n",
       "      <td>...</td>\n",
       "      <td>41.00</td>\n",
       "      <td>NaN</td>\n",
       "      <td>Санкт-Петербург</td>\n",
       "      <td>31856.0</td>\n",
       "      <td>8098.0</td>\n",
       "      <td>2.0</td>\n",
       "      <td>112.0</td>\n",
       "      <td>1.0</td>\n",
       "      <td>48.0</td>\n",
       "      <td>121.0</td>\n",
       "    </tr>\n",
       "    <tr>\n",
       "      <th>5</th>\n",
       "      <td>10</td>\n",
       "      <td>2890000.0</td>\n",
       "      <td>30.40</td>\n",
       "      <td>2018-09-10T00:00:00</td>\n",
       "      <td>1</td>\n",
       "      <td>NaN</td>\n",
       "      <td>12.0</td>\n",
       "      <td>14.40</td>\n",
       "      <td>5</td>\n",
       "      <td>NaN</td>\n",
       "      <td>...</td>\n",
       "      <td>9.10</td>\n",
       "      <td>NaN</td>\n",
       "      <td>городской посёлок Янино-1</td>\n",
       "      <td>NaN</td>\n",
       "      <td>NaN</td>\n",
       "      <td>NaN</td>\n",
       "      <td>NaN</td>\n",
       "      <td>NaN</td>\n",
       "      <td>NaN</td>\n",
       "      <td>55.0</td>\n",
       "    </tr>\n",
       "    <tr>\n",
       "      <th>6</th>\n",
       "      <td>6</td>\n",
       "      <td>3700000.0</td>\n",
       "      <td>37.30</td>\n",
       "      <td>2017-11-02T00:00:00</td>\n",
       "      <td>1</td>\n",
       "      <td>NaN</td>\n",
       "      <td>26.0</td>\n",
       "      <td>10.60</td>\n",
       "      <td>6</td>\n",
       "      <td>NaN</td>\n",
       "      <td>...</td>\n",
       "      <td>14.40</td>\n",
       "      <td>1.0</td>\n",
       "      <td>посёлок Парголово</td>\n",
       "      <td>52996.0</td>\n",
       "      <td>19143.0</td>\n",
       "      <td>0.0</td>\n",
       "      <td>NaN</td>\n",
       "      <td>0.0</td>\n",
       "      <td>NaN</td>\n",
       "      <td>155.0</td>\n",
       "    </tr>\n",
       "    <tr>\n",
       "      <th>7</th>\n",
       "      <td>5</td>\n",
       "      <td>7915000.0</td>\n",
       "      <td>71.60</td>\n",
       "      <td>2019-04-18T00:00:00</td>\n",
       "      <td>2</td>\n",
       "      <td>NaN</td>\n",
       "      <td>24.0</td>\n",
       "      <td>NaN</td>\n",
       "      <td>22</td>\n",
       "      <td>NaN</td>\n",
       "      <td>...</td>\n",
       "      <td>18.90</td>\n",
       "      <td>2.0</td>\n",
       "      <td>Санкт-Петербург</td>\n",
       "      <td>23982.0</td>\n",
       "      <td>11634.0</td>\n",
       "      <td>0.0</td>\n",
       "      <td>NaN</td>\n",
       "      <td>0.0</td>\n",
       "      <td>NaN</td>\n",
       "      <td>NaN</td>\n",
       "    </tr>\n",
       "    <tr>\n",
       "      <th>8</th>\n",
       "      <td>20</td>\n",
       "      <td>2900000.0</td>\n",
       "      <td>33.16</td>\n",
       "      <td>2018-05-23T00:00:00</td>\n",
       "      <td>1</td>\n",
       "      <td>NaN</td>\n",
       "      <td>27.0</td>\n",
       "      <td>15.43</td>\n",
       "      <td>26</td>\n",
       "      <td>NaN</td>\n",
       "      <td>...</td>\n",
       "      <td>8.81</td>\n",
       "      <td>NaN</td>\n",
       "      <td>посёлок Мурино</td>\n",
       "      <td>NaN</td>\n",
       "      <td>NaN</td>\n",
       "      <td>NaN</td>\n",
       "      <td>NaN</td>\n",
       "      <td>NaN</td>\n",
       "      <td>NaN</td>\n",
       "      <td>189.0</td>\n",
       "    </tr>\n",
       "    <tr>\n",
       "      <th>9</th>\n",
       "      <td>18</td>\n",
       "      <td>5400000.0</td>\n",
       "      <td>61.00</td>\n",
       "      <td>2017-02-26T00:00:00</td>\n",
       "      <td>3</td>\n",
       "      <td>2.50</td>\n",
       "      <td>9.0</td>\n",
       "      <td>43.60</td>\n",
       "      <td>7</td>\n",
       "      <td>NaN</td>\n",
       "      <td>...</td>\n",
       "      <td>6.50</td>\n",
       "      <td>2.0</td>\n",
       "      <td>Санкт-Петербург</td>\n",
       "      <td>50898.0</td>\n",
       "      <td>15008.0</td>\n",
       "      <td>0.0</td>\n",
       "      <td>NaN</td>\n",
       "      <td>0.0</td>\n",
       "      <td>NaN</td>\n",
       "      <td>289.0</td>\n",
       "    </tr>\n",
       "  </tbody>\n",
       "</table>\n",
       "<p>10 rows × 22 columns</p>\n",
       "</div>"
      ],
      "text/plain": [
       "   total_images  last_price  total_area first_day_exposition  rooms  \\\n",
       "0            20  13000000.0      108.00  2019-03-07T00:00:00      3   \n",
       "1             7   3350000.0       40.40  2018-12-04T00:00:00      1   \n",
       "2            10   5196000.0       56.00  2015-08-20T00:00:00      2   \n",
       "3             0  64900000.0      159.00  2015-07-24T00:00:00      3   \n",
       "4             2  10000000.0      100.00  2018-06-19T00:00:00      2   \n",
       "5            10   2890000.0       30.40  2018-09-10T00:00:00      1   \n",
       "6             6   3700000.0       37.30  2017-11-02T00:00:00      1   \n",
       "7             5   7915000.0       71.60  2019-04-18T00:00:00      2   \n",
       "8            20   2900000.0       33.16  2018-05-23T00:00:00      1   \n",
       "9            18   5400000.0       61.00  2017-02-26T00:00:00      3   \n",
       "\n",
       "   ceiling_height  floors_total  living_area  floor is_apartment  ...  \\\n",
       "0            2.70          16.0        51.00      8          NaN  ...   \n",
       "1             NaN          11.0        18.60      1          NaN  ...   \n",
       "2             NaN           5.0        34.30      4          NaN  ...   \n",
       "3             NaN          14.0          NaN      9          NaN  ...   \n",
       "4            3.03          14.0        32.00     13          NaN  ...   \n",
       "5             NaN          12.0        14.40      5          NaN  ...   \n",
       "6             NaN          26.0        10.60      6          NaN  ...   \n",
       "7             NaN          24.0          NaN     22          NaN  ...   \n",
       "8             NaN          27.0        15.43     26          NaN  ...   \n",
       "9            2.50           9.0        43.60      7          NaN  ...   \n",
       "\n",
       "   kitchen_area  balcony              locality_name  airports_nearest  \\\n",
       "0         25.00      NaN            Санкт-Петербург           18863.0   \n",
       "1         11.00      2.0             посёлок Шушары           12817.0   \n",
       "2          8.30      0.0            Санкт-Петербург           21741.0   \n",
       "3           NaN      0.0            Санкт-Петербург           28098.0   \n",
       "4         41.00      NaN            Санкт-Петербург           31856.0   \n",
       "5          9.10      NaN  городской посёлок Янино-1               NaN   \n",
       "6         14.40      1.0          посёлок Парголово           52996.0   \n",
       "7         18.90      2.0            Санкт-Петербург           23982.0   \n",
       "8          8.81      NaN             посёлок Мурино               NaN   \n",
       "9          6.50      2.0            Санкт-Петербург           50898.0   \n",
       "\n",
       "  cityCenters_nearest  parks_around3000  parks_nearest  ponds_around3000  \\\n",
       "0             16028.0               1.0          482.0               2.0   \n",
       "1             18603.0               0.0            NaN               0.0   \n",
       "2             13933.0               1.0           90.0               2.0   \n",
       "3              6800.0               2.0           84.0               3.0   \n",
       "4              8098.0               2.0          112.0               1.0   \n",
       "5                 NaN               NaN            NaN               NaN   \n",
       "6             19143.0               0.0            NaN               0.0   \n",
       "7             11634.0               0.0            NaN               0.0   \n",
       "8                 NaN               NaN            NaN               NaN   \n",
       "9             15008.0               0.0            NaN               0.0   \n",
       "\n",
       "   ponds_nearest  days_exposition  \n",
       "0          755.0              NaN  \n",
       "1            NaN             81.0  \n",
       "2          574.0            558.0  \n",
       "3          234.0            424.0  \n",
       "4           48.0            121.0  \n",
       "5            NaN             55.0  \n",
       "6            NaN            155.0  \n",
       "7            NaN              NaN  \n",
       "8            NaN            189.0  \n",
       "9            NaN            289.0  \n",
       "\n",
       "[10 rows x 22 columns]"
      ]
     },
     "metadata": {},
     "output_type": "display_data"
    }
   ],
   "source": [
    "df = pd.read_csv('/datasets/real_estate_data.csv', sep = '\\t')\n",
    "# выведем первые 10 строк таблицы на экран\n",
    "display(df.head(10))"
   ]
  },
  {
   "cell_type": "code",
   "execution_count": 3,
   "metadata": {},
   "outputs": [
    {
     "name": "stdout",
     "output_type": "stream",
     "text": [
      "<class 'pandas.core.frame.DataFrame'>\n",
      "RangeIndex: 23699 entries, 0 to 23698\n",
      "Data columns (total 22 columns):\n",
      " #   Column                Non-Null Count  Dtype  \n",
      "---  ------                --------------  -----  \n",
      " 0   total_images          23699 non-null  int64  \n",
      " 1   last_price            23699 non-null  float64\n",
      " 2   total_area            23699 non-null  float64\n",
      " 3   first_day_exposition  23699 non-null  object \n",
      " 4   rooms                 23699 non-null  int64  \n",
      " 5   ceiling_height        14504 non-null  float64\n",
      " 6   floors_total          23613 non-null  float64\n",
      " 7   living_area           21796 non-null  float64\n",
      " 8   floor                 23699 non-null  int64  \n",
      " 9   is_apartment          2775 non-null   object \n",
      " 10  studio                23699 non-null  bool   \n",
      " 11  open_plan             23699 non-null  bool   \n",
      " 12  kitchen_area          21421 non-null  float64\n",
      " 13  balcony               12180 non-null  float64\n",
      " 14  locality_name         23650 non-null  object \n",
      " 15  airports_nearest      18157 non-null  float64\n",
      " 16  cityCenters_nearest   18180 non-null  float64\n",
      " 17  parks_around3000      18181 non-null  float64\n",
      " 18  parks_nearest         8079 non-null   float64\n",
      " 19  ponds_around3000      18181 non-null  float64\n",
      " 20  ponds_nearest         9110 non-null   float64\n",
      " 21  days_exposition       20518 non-null  float64\n",
      "dtypes: bool(2), float64(14), int64(3), object(3)\n",
      "memory usage: 3.7+ MB\n",
      "None\n",
      "       total_images    last_price    total_area         rooms  ceiling_height  \\\n",
      "count  23699.000000  2.369900e+04  23699.000000  23699.000000    14504.000000   \n",
      "mean       9.858475  6.541549e+06     60.348651      2.070636        2.771499   \n",
      "std        5.682529  1.088701e+07     35.654083      1.078405        1.261056   \n",
      "min        0.000000  1.219000e+04     12.000000      0.000000        1.000000   \n",
      "25%        6.000000  3.400000e+06     40.000000      1.000000        2.520000   \n",
      "50%        9.000000  4.650000e+06     52.000000      2.000000        2.650000   \n",
      "75%       14.000000  6.800000e+06     69.900000      3.000000        2.800000   \n",
      "max       50.000000  7.630000e+08    900.000000     19.000000      100.000000   \n",
      "\n",
      "       floors_total   living_area         floor  kitchen_area       balcony  \\\n",
      "count  23613.000000  21796.000000  23699.000000  21421.000000  12180.000000   \n",
      "mean      10.673824     34.457852      5.892358     10.569807      1.150082   \n",
      "std        6.597173     22.030445      4.885249      5.905438      1.071300   \n",
      "min        1.000000      2.000000      1.000000      1.300000      0.000000   \n",
      "25%        5.000000     18.600000      2.000000      7.000000      0.000000   \n",
      "50%        9.000000     30.000000      4.000000      9.100000      1.000000   \n",
      "75%       16.000000     42.300000      8.000000     12.000000      2.000000   \n",
      "max       60.000000    409.700000     33.000000    112.000000      5.000000   \n",
      "\n",
      "       airports_nearest  cityCenters_nearest  parks_around3000  parks_nearest  \\\n",
      "count      18157.000000         18180.000000      18181.000000    8079.000000   \n",
      "mean       28793.672193         14191.277833          0.611408     490.804555   \n",
      "std        12630.880622          8608.386210          0.802074     342.317995   \n",
      "min            0.000000           181.000000          0.000000       1.000000   \n",
      "25%        18585.000000          9238.000000          0.000000     288.000000   \n",
      "50%        26726.000000         13098.500000          0.000000     455.000000   \n",
      "75%        37273.000000         16293.000000          1.000000     612.000000   \n",
      "max        84869.000000         65968.000000          3.000000    3190.000000   \n",
      "\n",
      "       ponds_around3000  ponds_nearest  days_exposition  \n",
      "count      18181.000000    9110.000000     20518.000000  \n",
      "mean           0.770255     517.980900       180.888634  \n",
      "std            0.938346     277.720643       219.727988  \n",
      "min            0.000000      13.000000         1.000000  \n",
      "25%            0.000000     294.000000        45.000000  \n",
      "50%            1.000000     502.000000        95.000000  \n",
      "75%            1.000000     729.000000       232.000000  \n",
      "max            3.000000    1344.000000      1580.000000  \n"
     ]
    }
   ],
   "source": [
    "# изучим данные с помощью методов info() и describe()\n",
    "print(df.info())\n",
    "print(df.describe())"
   ]
  },
  {
   "cell_type": "markdown",
   "metadata": {},
   "source": [
    "### Вывод\n",
    "Итак, в таблице 22 столбца. В столбцах встречаются различные типы данных, а именно:`object`, `int64`, `float64`.\n",
    "\n",
    "Согласно документации к данным:\n",
    "\n",
    "*\t`airports_nearest` — расстояние до ближайшего аэропорта в метрах (м)\n",
    "*\t`balcony` — число балконов\n",
    "*\t`ceiling_height` — высота потолков (м)\n",
    "*\t`cityCenters_nearest` — расстояние до центра города (м)\n",
    "*\t`days_exposition` — сколько дней было размещено объявление (от публикации до снятия)\n",
    "*\t`first_day_exposition` — дата публикации\n",
    "*\t`floor` — этаж\n",
    "*\t`floors_total` — всего этажей в доме\n",
    "*\t`is_apartment` — апартаменты (булев тип)\n",
    "*\t`kitchen_area` — площадь кухни в квадратных метрах (м²)\n",
    "*\t`last_price` — цена на момент снятия с публикации\n",
    "*\t`living_area` — жилая площадь в квадратных метрах (м²)\n",
    "*\t`locality_name` — название населённого пункта\n",
    "*\t`open_plan` — свободная планировка (булев тип)\n",
    "*\t`parks_around3000` — число парков в радиусе 3 км\n",
    "*\t`parks_nearest` — расстояние до ближайшего парка (м)\n",
    "*\t`ponds_around3000` — число водоёмов в радиусе 3 км\n",
    "*\t`ponds_nearest` — расстояние до ближайшего водоёма (м)\n",
    "*\t`rooms` — число комнат\n",
    "*\t`studio` — квартира-студия (булев тип)\n",
    "*\t`total_area` — площадь квартиры в квадратных метрах (м²)\n",
    "*\t`total_images` — число фотографий квартиры в объявлении\n",
    "Пояснение: апартаменты — это нежилые помещения, которые не относятся к жилому фонду, но имеют необходимые условия для проживания.\n",
    "\n",
    "В названиях колонок установлено нарушения стиля, а именно cityCenters_nearest. Имеет смысл его переименовать.\n",
    "\n",
    "Количество значений в столбцах различается. Значит, в данных есть пропущенные значения."
   ]
  },
  {
   "cell_type": "code",
   "execution_count": 4,
   "metadata": {},
   "outputs": [
    {
     "name": "stdout",
     "output_type": "stream",
     "text": [
      "<class 'pandas.core.frame.DataFrame'>\n",
      "RangeIndex: 23699 entries, 0 to 23698\n",
      "Data columns (total 22 columns):\n",
      " #   Column                Non-Null Count  Dtype  \n",
      "---  ------                --------------  -----  \n",
      " 0   total_images          23699 non-null  int64  \n",
      " 1   last_price            23699 non-null  float64\n",
      " 2   total_area            23699 non-null  float64\n",
      " 3   first_day_exposition  23699 non-null  object \n",
      " 4   rooms                 23699 non-null  int64  \n",
      " 5   ceiling_height        14504 non-null  float64\n",
      " 6   floors_total          23613 non-null  float64\n",
      " 7   living_area           21796 non-null  float64\n",
      " 8   floor                 23699 non-null  int64  \n",
      " 9   is_apartment          2775 non-null   object \n",
      " 10  studio                23699 non-null  bool   \n",
      " 11  open_plan             23699 non-null  bool   \n",
      " 12  kitchen_area          21421 non-null  float64\n",
      " 13  balcony               12180 non-null  float64\n",
      " 14  locality_name         23650 non-null  object \n",
      " 15  airports_nearest      18157 non-null  float64\n",
      " 16  cityсenters_nearest   18180 non-null  float64\n",
      " 17  parks_around3000      18181 non-null  float64\n",
      " 18  parks_nearest         8079 non-null   float64\n",
      " 19  ponds_around3000      18181 non-null  float64\n",
      " 20  ponds_nearest         9110 non-null   float64\n",
      " 21  days_exposition       20518 non-null  float64\n",
      "dtypes: bool(2), float64(14), int64(3), object(3)\n",
      "memory usage: 3.7+ MB\n",
      "None\n"
     ]
    }
   ],
   "source": [
    "# приведем название столбца cityCenters_nearest в соответствие с хорошим стилем:\n",
    "df = df.rename(columns = {'cityCenters_nearest':'cityсenters_nearest'})\n",
    "# проверка результата\n",
    "print(df.info())"
   ]
  },
  {
   "cell_type": "markdown",
   "metadata": {},
   "source": [
    "## Предобработка данных"
   ]
  },
  {
   "cell_type": "markdown",
   "metadata": {},
   "source": [
    "Пропуски найдены в следующих столбцах (напрвтив названия столбца указан тип переменной для определения способа обработки пропущенных значений):\n",
    "\n",
    "* `ceiling_height` - количественная\n",
    "* `floors_total` - количественная\n",
    "* `living_area` - количественная\n",
    "* `is_apartment` - качественная\n",
    "* `kitchen_area` - количественная\n",
    "* `balcony`- количественная\n",
    "* `locality_name` - качественная\n",
    "* `airports_nearest` - количественная\n",
    "* `cityсenters_nearest` - количественная\n",
    "* `parks_around3000` - количественная\n",
    "* `parks_nearest` - количественная\n",
    "* `ponds_around3000` - количественная\n",
    "* `ponds_nearest` - количественная\n",
    "* `days_exposition` - количественная\n",
    "\n",
    "Логично предположить, что если в столбцах balcony, parks_around3000, ponds_around3000 не указали данные, то истинное значение здесь равно 0, так как балконов у квартиры / водоемов или парков поблизости нет. Заменим пропуски на 0, а заодно изменим тип данных на int, так как вещественного типа данных здесь быть не может."
   ]
  },
  {
   "cell_type": "code",
   "execution_count": 5,
   "metadata": {},
   "outputs": [],
   "source": [
    "df['balcony'] = df['balcony'].fillna(0).astype(int)\n",
    "df['parks_around3000'] = df['parks_around3000'].fillna(0).astype(int)\n",
    "df['ponds_around3000'] = df['ponds_around3000'].fillna(0).astype(int)"
   ]
  },
  {
   "cell_type": "markdown",
   "metadata": {},
   "source": [
    "От наблюдений с пустыми значениями floors_total,locality_name и cityсenters_nearest избавимся, так как отсутствие этих данных помешает нам в дальнейших рассчётах. Для заполенения столбца locality_name нам бы могли понадобиться адрес или почтовый индекс квартиры, для floors_total - высота дома, для cityсenters_nearest  невозможно  корректно рассчитать расстояние."
   ]
  },
  {
   "cell_type": "code",
   "execution_count": 6,
   "metadata": {},
   "outputs": [],
   "source": [
    "df.dropna(subset = ['floors_total', 'locality_name', 'cityсenters_nearest'], inplace = True)"
   ]
  },
  {
   "cell_type": "markdown",
   "metadata": {},
   "source": [
    "Пропуски в столбцах airports_nearest, parks_nearest и ponds_nearest заменим на нетипичные значения и будем учитывать в дальнейших рассчётах."
   ]
  },
  {
   "cell_type": "code",
   "execution_count": 7,
   "metadata": {},
   "outputs": [],
   "source": [
    "df['airports_nearest'] = df['airports_nearest'].fillna(-1)\n",
    "df['parks_nearest'] = df['parks_nearest'].fillna(-1)\n",
    "df['ponds_nearest'] = df['ponds_nearest'].fillna(-1)\n",
    "df['days_exposition'] = df['days_exposition'].fillna(-1).astype(int)"
   ]
  },
  {
   "cell_type": "markdown",
   "metadata": {},
   "source": [
    "Можем предположить, что объявления с пропусками в days_exposition все ещё активны. Заполнить пустые занчния мы могли бы, спрогнозировав данные, исходя из набора параметров: цена, размер, местоположение, ситуация на рынке недвижимости и т.п. Однако, сейчас этот признак ничем не заполнять, оставить как есть с пустыми значениями."
   ]
  },
  {
   "cell_type": "markdown",
   "metadata": {},
   "source": [
    "Значение пропусков в столбце living_area посчитаем с помощью медианы, предварительно заменив NaN значения на нетипичные и сгруппировав по общей площади квартиры."
   ]
  },
  {
   "cell_type": "code",
   "execution_count": 8,
   "metadata": {},
   "outputs": [],
   "source": [
    "# заменим занчения NaN на -1\n",
    "df['living_area'] = df['living_area'].fillna(-1)"
   ]
  },
  {
   "cell_type": "code",
   "execution_count": 9,
   "metadata": {},
   "outputs": [],
   "source": [
    "# создадим функцию, которая c помощью последовательной фильтрации \n",
    "# сначала получит из исходной таблицы строки с жилой площадью,\n",
    "# затем из результата отфильтрует строки с общей площадью квартиры,\n",
    "# затем методом median заполнит пустые значения в колонке living_area \n",
    "# эти значения функция вернёт в качестве результата\n",
    "def count_living_area(row):\n",
    "    living_area = row['living_area']\n",
    "    total_area = row['total_area']\n",
    "    if living_area == -1:      \n",
    "        return total_area_to_median[total_area]\n",
    "    return living_area\n",
    "\n",
    "# создадим переменную, в которой сохраиним медианное занчение столбца living_area,\n",
    "# сгруппированного по столбцу total_area \n",
    "total_area_to_median = df.groupby('total_area').median()['living_area'].to_dict()    \n",
    "\n",
    "# заполним пропуски \n",
    "df['living_area'] = df.apply(count_living_area, axis=1)"
   ]
  },
  {
   "cell_type": "code",
   "execution_count": 10,
   "metadata": {},
   "outputs": [
    {
     "name": "stdout",
     "output_type": "stream",
     "text": [
      "102\n"
     ]
    }
   ],
   "source": [
    "# проверка результата\n",
    "print(len(df.query('living_area == -1')))"
   ]
  },
  {
   "cell_type": "markdown",
   "metadata": {},
   "source": [
    "Функция сработала не во всех случаях, несколько ячеек в living_area всё ещё равны -1, для них не нашлось медианы. Эти значения выбиваются из общих данных, и их совсем мало - избавимся от них."
   ]
  },
  {
   "cell_type": "code",
   "execution_count": 11,
   "metadata": {},
   "outputs": [],
   "source": [
    "df = df[df['living_area'] != -1]"
   ]
  },
  {
   "cell_type": "markdown",
   "metadata": {},
   "source": [
    "Чтобы заполнить NaN значения в kitchen_area, найдем коэффициент корреляции для kitchen_area с total_area, чтобы выявить взаимосвязь этих параметров, и если она достаточно сильна, то найдем, какую часть общей площади занимает кухня. Этот параметр добавим в таблицу как kitchen_part, найдем среднее арифметическое по этому столбцу, а затем заполним по нему пропуски."
   ]
  },
  {
   "cell_type": "code",
   "execution_count": 12,
   "metadata": {},
   "outputs": [
    {
     "name": "stdout",
     "output_type": "stream",
     "text": [
      "0.6161700017397614\n"
     ]
    }
   ],
   "source": [
    "# найдем коэффициент корреляции\n",
    "total_to_kitchen_area_corr = df['total_area'].corr(df['kitchen_area'])\n",
    "print(total_to_kitchen_area_corr)"
   ]
  },
  {
   "cell_type": "code",
   "execution_count": 13,
   "metadata": {},
   "outputs": [],
   "source": [
    "# создадим столбец kitchen_part и сохраним свдения о том, какую часть занимает кухня от общей\n",
    "# площади квартиры\n",
    "df['kitchen_part'] = df['kitchen_area'] / df['total_area']"
   ]
  },
  {
   "cell_type": "code",
   "execution_count": 14,
   "metadata": {},
   "outputs": [
    {
     "name": "stdout",
     "output_type": "stream",
     "text": [
      "0.18593708131281736\n"
     ]
    }
   ],
   "source": [
    "# рассчитаем среднее значение\n",
    "kitchen_mean = df['kitchen_part'].mean()\n",
    "print(kitchen_mean)"
   ]
  },
  {
   "cell_type": "code",
   "execution_count": 15,
   "metadata": {},
   "outputs": [],
   "source": [
    "# заполним пропуски в столбце kitchen_area\n",
    "df['kitchen_area'] = df['kitchen_area'].fillna(df['total_area'] * kitchen_mean).round(1)"
   ]
  },
  {
   "cell_type": "markdown",
   "metadata": {},
   "source": [
    "Подумаем, как заполнить пропуски в ceiling_height. Заполнение их медианным или средним значением может привести к искажению данных, поэтому посмотрим на корреляцию и заполним пропуски на основании данных из другого столбца. Например, rooms."
   ]
  },
  {
   "cell_type": "code",
   "execution_count": 16,
   "metadata": {},
   "outputs": [
    {
     "name": "stdout",
     "output_type": "stream",
     "text": [
      "0.06376660812427183\n"
     ]
    }
   ],
   "source": [
    "print(df['ceiling_height'].corr(df['rooms']))"
   ]
  },
  {
   "cell_type": "markdown",
   "metadata": {},
   "source": [
    "Коэффициент корреляции очень высокий, следовательно столбец rooms подойдет для обрабтки пустых значений."
   ]
  },
  {
   "cell_type": "code",
   "execution_count": 17,
   "metadata": {},
   "outputs": [],
   "source": [
    "# заменим занчения NaN на -1\n",
    "df['ceiling_height'] = df['ceiling_height'].fillna(-1)"
   ]
  },
  {
   "cell_type": "code",
   "execution_count": 18,
   "metadata": {},
   "outputs": [],
   "source": [
    "# создадим функцию, которая c помощью последовательной фильтрации \n",
    "# сначала получит из исходной таблицы строки с высотой потолков (м),\n",
    "# затем из результата отфильтрует строки с числом комнат,\n",
    "# затем методом median заполнит пустые значения в колонке ceiling_height \n",
    "# эти значения функция вернёт в качестве результата\n",
    "def count_ceiling_height(row):\n",
    "    ceiling_height = row['ceiling_height']\n",
    "    rooms = row['rooms']\n",
    "    if ceiling_height == -1:      \n",
    "        return rooms_to_median[rooms]\n",
    "    return ceiling_height\n",
    "\n",
    "# создадим переменную, в которой сохраиним медианное занчение столбца ceiling_height,\n",
    "# сгруппированного по столбцу rooms \n",
    "rooms_to_median = df.groupby('rooms').median()['ceiling_height'].to_dict()    \n",
    "\n",
    "# заполним пропуски \n",
    "df['ceiling_height'] = df.apply(count_ceiling_height, axis=1)"
   ]
  },
  {
   "cell_type": "markdown",
   "metadata": {},
   "source": [
    "В столбце is_apartment слишком мало ненулевых значений, у тому же, в процессе работы над проектом мы не будем использовать этот столбец, поэтому от него можно избавиться. Также можно избавиться от столбцов total_images, studio и open_plan - в дальнейшей работе они нам не понадобятся."
   ]
  },
  {
   "cell_type": "code",
   "execution_count": 19,
   "metadata": {},
   "outputs": [],
   "source": [
    "df.drop(['is_apartment'], axis='columns', inplace=True)\n",
    "df.drop(['total_images'], axis='columns', inplace=True)\n",
    "df.drop(['studio'], axis='columns', inplace=True)\n",
    "df.drop(['open_plan'], axis='columns', inplace=True)"
   ]
  },
  {
   "cell_type": "markdown",
   "metadata": {},
   "source": [
    "Приведем столбец first_day_exposition к типу данных datetime."
   ]
  },
  {
   "cell_type": "code",
   "execution_count": 20,
   "metadata": {},
   "outputs": [],
   "source": [
    "df['first_day_exposition'] = pd.to_datetime(df['first_day_exposition'], format='%Y%m%dT%H:%M:%S')"
   ]
  },
  {
   "cell_type": "markdown",
   "metadata": {},
   "source": [
    "Столбец floors_total приведем к типу данных int - в этом столбце не может быть вещественного типа данных."
   ]
  },
  {
   "cell_type": "code",
   "execution_count": 21,
   "metadata": {},
   "outputs": [],
   "source": [
    "df['floors_total'] = df['floors_total'].astype(int)"
   ]
  },
  {
   "cell_type": "markdown",
   "metadata": {},
   "source": [
    "Данные в столбце kitchen_area округлим до десятых для удобства."
   ]
  },
  {
   "cell_type": "code",
   "execution_count": 22,
   "metadata": {},
   "outputs": [],
   "source": [
    "df['kitchen_area'] = df['kitchen_area'].round(1)"
   ]
  },
  {
   "cell_type": "markdown",
   "metadata": {},
   "source": [
    "Проверим, насколько успешно удалось заполнить пропуски и заменить типы данных. Если все получилось, можем приступать к добавлению новых столбцов в таблицу."
   ]
  },
  {
   "cell_type": "code",
   "execution_count": 23,
   "metadata": {},
   "outputs": [
    {
     "name": "stdout",
     "output_type": "stream",
     "text": [
      "<class 'pandas.core.frame.DataFrame'>\n",
      "Int64Index: 17962 entries, 0 to 23694\n",
      "Data columns (total 19 columns):\n",
      " #   Column                Non-Null Count  Dtype         \n",
      "---  ------                --------------  -----         \n",
      " 0   last_price            17962 non-null  float64       \n",
      " 1   total_area            17962 non-null  float64       \n",
      " 2   first_day_exposition  17962 non-null  datetime64[ns]\n",
      " 3   rooms                 17962 non-null  int64         \n",
      " 4   ceiling_height        17962 non-null  float64       \n",
      " 5   floors_total          17962 non-null  int64         \n",
      " 6   living_area           17962 non-null  float64       \n",
      " 7   floor                 17962 non-null  int64         \n",
      " 8   kitchen_area          17962 non-null  float64       \n",
      " 9   balcony               17962 non-null  int64         \n",
      " 10  locality_name         17962 non-null  object        \n",
      " 11  airports_nearest      17962 non-null  float64       \n",
      " 12  cityсenters_nearest   17962 non-null  float64       \n",
      " 13  parks_around3000      17962 non-null  int64         \n",
      " 14  parks_nearest         17962 non-null  float64       \n",
      " 15  ponds_around3000      17962 non-null  int64         \n",
      " 16  ponds_nearest         17962 non-null  float64       \n",
      " 17  days_exposition       17962 non-null  int64         \n",
      " 18  kitchen_part          16485 non-null  float64       \n",
      "dtypes: datetime64[ns](1), float64(10), int64(7), object(1)\n",
      "memory usage: 2.7+ MB\n",
      "None\n"
     ]
    }
   ],
   "source": [
    "print(df.info())"
   ]
  },
  {
   "cell_type": "markdown",
   "metadata": {},
   "source": [
    "## Расчёты и добавление результатов в таблицу"
   ]
  },
  {
   "cell_type": "markdown",
   "metadata": {},
   "source": [
    "Посчитаем и добавим в таблицу:\n",
    "\n",
    "* цену квадратного метра;\n",
    "* день недели, месяц и год публикации объявления;\n",
    "* этаж квартиры (варианты — первый, последний, другой);\n",
    "* соотношение жилой и общей площади, а также отношение площади кухни к общей.\n",
    "\n",
    "Чтобы узнать цену квадратного метра, разделим стоимость квартиры на общую площадь."
   ]
  },
  {
   "cell_type": "code",
   "execution_count": 24,
   "metadata": {},
   "outputs": [
    {
     "name": "stdout",
     "output_type": "stream",
     "text": [
      "0    120370\n",
      "1     82921\n",
      "2     92786\n",
      "3    408176\n",
      "4    100000\n",
      "Name: sq_m_price, dtype: int64\n"
     ]
    }
   ],
   "source": [
    "df['sq_m_price'] = (df['last_price'] / df['total_area']).round().astype(int)\n",
    "print(df['sq_m_price'].head())"
   ]
  },
  {
   "cell_type": "markdown",
   "metadata": {},
   "source": [
    "Добавим еще 3 столбца - день недели (exposition_weekday), где понедельник под номером 0, а воскресенье - 6; месяц (exposition_month); и год публикации объявления (exposition_year)."
   ]
  },
  {
   "cell_type": "code",
   "execution_count": 25,
   "metadata": {},
   "outputs": [],
   "source": [
    "df['exposition_weekday'] = df['first_day_exposition'].dt.weekday\n",
    "df['exposition_month'] = df['first_day_exposition'].dt.month\n",
    "df['exposition_year'] = df['first_day_exposition'].dt.year"
   ]
  },
  {
   "cell_type": "markdown",
   "metadata": {},
   "source": [
    "В последнем столбце у нас будет отображаться этаж - первый, последний, другой. Напишем функцию для определения этажа и применим её к столбцу floor."
   ]
  },
  {
   "cell_type": "code",
   "execution_count": 26,
   "metadata": {},
   "outputs": [],
   "source": [
    "floors_total = df['floors_total']\n",
    "\n",
    "def find_floor(row):\n",
    "    floor = row['floor']\n",
    "    if floor == 1:\n",
    "        return('первый')\n",
    "    elif floor == row['floors_total']:\n",
    "        return('последний')\n",
    "    return('другой')"
   ]
  },
  {
   "cell_type": "code",
   "execution_count": 27,
   "metadata": {},
   "outputs": [],
   "source": [
    "# заполним столбец значениями\n",
    "df['floor_type'] = df.apply(find_floor, axis=1)"
   ]
  },
  {
   "cell_type": "code",
   "execution_count": 28,
   "metadata": {},
   "outputs": [],
   "source": [
    "# обновим столбец kitchen_part и сохраним свдения о том, какую часть занимает кухня от общей\n",
    "# площади квартиры\n",
    "df['kitchen_part'] = df['kitchen_area'] / df['total_area']"
   ]
  },
  {
   "cell_type": "code",
   "execution_count": 29,
   "metadata": {},
   "outputs": [],
   "source": [
    "# создадим столбец living_area _part и сохраним свдения о том, какую часть занимает жилая площадь от общей\n",
    "# площади квартиры\n",
    "df['living_area_part'] = df['living_area'] / df['total_area']"
   ]
  },
  {
   "cell_type": "markdown",
   "metadata": {},
   "source": [
    "Проверим обновленную таблицу на правильность данных и наличие дубликатов. Если всё верно и дублирующихся наблюдений нет, перейдём к исследовательскому анализу."
   ]
  },
  {
   "cell_type": "code",
   "execution_count": 30,
   "metadata": {},
   "outputs": [
    {
     "data": {
      "text/html": [
       "<div>\n",
       "<style scoped>\n",
       "    .dataframe tbody tr th:only-of-type {\n",
       "        vertical-align: middle;\n",
       "    }\n",
       "\n",
       "    .dataframe tbody tr th {\n",
       "        vertical-align: top;\n",
       "    }\n",
       "\n",
       "    .dataframe thead th {\n",
       "        text-align: right;\n",
       "    }\n",
       "</style>\n",
       "<table border=\"1\" class=\"dataframe\">\n",
       "  <thead>\n",
       "    <tr style=\"text-align: right;\">\n",
       "      <th></th>\n",
       "      <th>last_price</th>\n",
       "      <th>total_area</th>\n",
       "      <th>first_day_exposition</th>\n",
       "      <th>rooms</th>\n",
       "      <th>ceiling_height</th>\n",
       "      <th>floors_total</th>\n",
       "      <th>living_area</th>\n",
       "      <th>floor</th>\n",
       "      <th>kitchen_area</th>\n",
       "      <th>balcony</th>\n",
       "      <th>...</th>\n",
       "      <th>ponds_around3000</th>\n",
       "      <th>ponds_nearest</th>\n",
       "      <th>days_exposition</th>\n",
       "      <th>kitchen_part</th>\n",
       "      <th>sq_m_price</th>\n",
       "      <th>exposition_weekday</th>\n",
       "      <th>exposition_month</th>\n",
       "      <th>exposition_year</th>\n",
       "      <th>floor_type</th>\n",
       "      <th>living_area_part</th>\n",
       "    </tr>\n",
       "  </thead>\n",
       "  <tbody>\n",
       "    <tr>\n",
       "      <th>0</th>\n",
       "      <td>13000000.0</td>\n",
       "      <td>108.0</td>\n",
       "      <td>2019-03-07</td>\n",
       "      <td>3</td>\n",
       "      <td>2.70</td>\n",
       "      <td>16</td>\n",
       "      <td>51.0</td>\n",
       "      <td>8</td>\n",
       "      <td>25.0</td>\n",
       "      <td>0</td>\n",
       "      <td>...</td>\n",
       "      <td>2</td>\n",
       "      <td>755.0</td>\n",
       "      <td>-1</td>\n",
       "      <td>0.231481</td>\n",
       "      <td>120370</td>\n",
       "      <td>3</td>\n",
       "      <td>3</td>\n",
       "      <td>2019</td>\n",
       "      <td>другой</td>\n",
       "      <td>0.472222</td>\n",
       "    </tr>\n",
       "    <tr>\n",
       "      <th>1</th>\n",
       "      <td>3350000.0</td>\n",
       "      <td>40.4</td>\n",
       "      <td>2018-12-04</td>\n",
       "      <td>1</td>\n",
       "      <td>2.50</td>\n",
       "      <td>11</td>\n",
       "      <td>18.6</td>\n",
       "      <td>1</td>\n",
       "      <td>11.0</td>\n",
       "      <td>2</td>\n",
       "      <td>...</td>\n",
       "      <td>0</td>\n",
       "      <td>-1.0</td>\n",
       "      <td>81</td>\n",
       "      <td>0.272277</td>\n",
       "      <td>82921</td>\n",
       "      <td>1</td>\n",
       "      <td>12</td>\n",
       "      <td>2018</td>\n",
       "      <td>первый</td>\n",
       "      <td>0.460396</td>\n",
       "    </tr>\n",
       "    <tr>\n",
       "      <th>2</th>\n",
       "      <td>5196000.0</td>\n",
       "      <td>56.0</td>\n",
       "      <td>2015-08-20</td>\n",
       "      <td>2</td>\n",
       "      <td>2.50</td>\n",
       "      <td>5</td>\n",
       "      <td>34.3</td>\n",
       "      <td>4</td>\n",
       "      <td>8.3</td>\n",
       "      <td>0</td>\n",
       "      <td>...</td>\n",
       "      <td>2</td>\n",
       "      <td>574.0</td>\n",
       "      <td>558</td>\n",
       "      <td>0.148214</td>\n",
       "      <td>92786</td>\n",
       "      <td>3</td>\n",
       "      <td>8</td>\n",
       "      <td>2015</td>\n",
       "      <td>другой</td>\n",
       "      <td>0.612500</td>\n",
       "    </tr>\n",
       "    <tr>\n",
       "      <th>3</th>\n",
       "      <td>64900000.0</td>\n",
       "      <td>159.0</td>\n",
       "      <td>2015-07-24</td>\n",
       "      <td>3</td>\n",
       "      <td>2.55</td>\n",
       "      <td>14</td>\n",
       "      <td>74.5</td>\n",
       "      <td>9</td>\n",
       "      <td>29.6</td>\n",
       "      <td>0</td>\n",
       "      <td>...</td>\n",
       "      <td>3</td>\n",
       "      <td>234.0</td>\n",
       "      <td>424</td>\n",
       "      <td>0.186164</td>\n",
       "      <td>408176</td>\n",
       "      <td>4</td>\n",
       "      <td>7</td>\n",
       "      <td>2015</td>\n",
       "      <td>другой</td>\n",
       "      <td>0.468553</td>\n",
       "    </tr>\n",
       "    <tr>\n",
       "      <th>4</th>\n",
       "      <td>10000000.0</td>\n",
       "      <td>100.0</td>\n",
       "      <td>2018-06-19</td>\n",
       "      <td>2</td>\n",
       "      <td>3.03</td>\n",
       "      <td>14</td>\n",
       "      <td>32.0</td>\n",
       "      <td>13</td>\n",
       "      <td>41.0</td>\n",
       "      <td>0</td>\n",
       "      <td>...</td>\n",
       "      <td>1</td>\n",
       "      <td>48.0</td>\n",
       "      <td>121</td>\n",
       "      <td>0.410000</td>\n",
       "      <td>100000</td>\n",
       "      <td>1</td>\n",
       "      <td>6</td>\n",
       "      <td>2018</td>\n",
       "      <td>другой</td>\n",
       "      <td>0.320000</td>\n",
       "    </tr>\n",
       "    <tr>\n",
       "      <th>6</th>\n",
       "      <td>3700000.0</td>\n",
       "      <td>37.3</td>\n",
       "      <td>2017-11-02</td>\n",
       "      <td>1</td>\n",
       "      <td>2.50</td>\n",
       "      <td>26</td>\n",
       "      <td>10.6</td>\n",
       "      <td>6</td>\n",
       "      <td>14.4</td>\n",
       "      <td>1</td>\n",
       "      <td>...</td>\n",
       "      <td>0</td>\n",
       "      <td>-1.0</td>\n",
       "      <td>155</td>\n",
       "      <td>0.386059</td>\n",
       "      <td>99196</td>\n",
       "      <td>3</td>\n",
       "      <td>11</td>\n",
       "      <td>2017</td>\n",
       "      <td>другой</td>\n",
       "      <td>0.284182</td>\n",
       "    </tr>\n",
       "    <tr>\n",
       "      <th>7</th>\n",
       "      <td>7915000.0</td>\n",
       "      <td>71.6</td>\n",
       "      <td>2019-04-18</td>\n",
       "      <td>2</td>\n",
       "      <td>2.50</td>\n",
       "      <td>24</td>\n",
       "      <td>43.1</td>\n",
       "      <td>22</td>\n",
       "      <td>18.9</td>\n",
       "      <td>2</td>\n",
       "      <td>...</td>\n",
       "      <td>0</td>\n",
       "      <td>-1.0</td>\n",
       "      <td>-1</td>\n",
       "      <td>0.263966</td>\n",
       "      <td>110545</td>\n",
       "      <td>3</td>\n",
       "      <td>4</td>\n",
       "      <td>2019</td>\n",
       "      <td>другой</td>\n",
       "      <td>0.601955</td>\n",
       "    </tr>\n",
       "    <tr>\n",
       "      <th>9</th>\n",
       "      <td>5400000.0</td>\n",
       "      <td>61.0</td>\n",
       "      <td>2017-02-26</td>\n",
       "      <td>3</td>\n",
       "      <td>2.50</td>\n",
       "      <td>9</td>\n",
       "      <td>43.6</td>\n",
       "      <td>7</td>\n",
       "      <td>6.5</td>\n",
       "      <td>2</td>\n",
       "      <td>...</td>\n",
       "      <td>0</td>\n",
       "      <td>-1.0</td>\n",
       "      <td>289</td>\n",
       "      <td>0.106557</td>\n",
       "      <td>88525</td>\n",
       "      <td>6</td>\n",
       "      <td>2</td>\n",
       "      <td>2017</td>\n",
       "      <td>другой</td>\n",
       "      <td>0.714754</td>\n",
       "    </tr>\n",
       "    <tr>\n",
       "      <th>10</th>\n",
       "      <td>5050000.0</td>\n",
       "      <td>39.6</td>\n",
       "      <td>2017-11-16</td>\n",
       "      <td>1</td>\n",
       "      <td>2.67</td>\n",
       "      <td>12</td>\n",
       "      <td>20.3</td>\n",
       "      <td>3</td>\n",
       "      <td>8.5</td>\n",
       "      <td>0</td>\n",
       "      <td>...</td>\n",
       "      <td>2</td>\n",
       "      <td>553.0</td>\n",
       "      <td>137</td>\n",
       "      <td>0.214646</td>\n",
       "      <td>127525</td>\n",
       "      <td>3</td>\n",
       "      <td>11</td>\n",
       "      <td>2017</td>\n",
       "      <td>другой</td>\n",
       "      <td>0.512626</td>\n",
       "    </tr>\n",
       "    <tr>\n",
       "      <th>11</th>\n",
       "      <td>3300000.0</td>\n",
       "      <td>44.0</td>\n",
       "      <td>2018-08-27</td>\n",
       "      <td>2</td>\n",
       "      <td>2.50</td>\n",
       "      <td>5</td>\n",
       "      <td>31.0</td>\n",
       "      <td>4</td>\n",
       "      <td>6.0</td>\n",
       "      <td>1</td>\n",
       "      <td>...</td>\n",
       "      <td>0</td>\n",
       "      <td>-1.0</td>\n",
       "      <td>7</td>\n",
       "      <td>0.136364</td>\n",
       "      <td>75000</td>\n",
       "      <td>0</td>\n",
       "      <td>8</td>\n",
       "      <td>2018</td>\n",
       "      <td>другой</td>\n",
       "      <td>0.704545</td>\n",
       "    </tr>\n",
       "  </tbody>\n",
       "</table>\n",
       "<p>10 rows × 25 columns</p>\n",
       "</div>"
      ],
      "text/plain": [
       "    last_price  total_area first_day_exposition  rooms  ceiling_height  \\\n",
       "0   13000000.0       108.0           2019-03-07      3            2.70   \n",
       "1    3350000.0        40.4           2018-12-04      1            2.50   \n",
       "2    5196000.0        56.0           2015-08-20      2            2.50   \n",
       "3   64900000.0       159.0           2015-07-24      3            2.55   \n",
       "4   10000000.0       100.0           2018-06-19      2            3.03   \n",
       "6    3700000.0        37.3           2017-11-02      1            2.50   \n",
       "7    7915000.0        71.6           2019-04-18      2            2.50   \n",
       "9    5400000.0        61.0           2017-02-26      3            2.50   \n",
       "10   5050000.0        39.6           2017-11-16      1            2.67   \n",
       "11   3300000.0        44.0           2018-08-27      2            2.50   \n",
       "\n",
       "    floors_total  living_area  floor  kitchen_area  balcony  ...  \\\n",
       "0             16         51.0      8          25.0        0  ...   \n",
       "1             11         18.6      1          11.0        2  ...   \n",
       "2              5         34.3      4           8.3        0  ...   \n",
       "3             14         74.5      9          29.6        0  ...   \n",
       "4             14         32.0     13          41.0        0  ...   \n",
       "6             26         10.6      6          14.4        1  ...   \n",
       "7             24         43.1     22          18.9        2  ...   \n",
       "9              9         43.6      7           6.5        2  ...   \n",
       "10            12         20.3      3           8.5        0  ...   \n",
       "11             5         31.0      4           6.0        1  ...   \n",
       "\n",
       "   ponds_around3000  ponds_nearest  days_exposition  kitchen_part  sq_m_price  \\\n",
       "0                 2          755.0               -1      0.231481      120370   \n",
       "1                 0           -1.0               81      0.272277       82921   \n",
       "2                 2          574.0              558      0.148214       92786   \n",
       "3                 3          234.0              424      0.186164      408176   \n",
       "4                 1           48.0              121      0.410000      100000   \n",
       "6                 0           -1.0              155      0.386059       99196   \n",
       "7                 0           -1.0               -1      0.263966      110545   \n",
       "9                 0           -1.0              289      0.106557       88525   \n",
       "10                2          553.0              137      0.214646      127525   \n",
       "11                0           -1.0                7      0.136364       75000   \n",
       "\n",
       "    exposition_weekday  exposition_month  exposition_year  floor_type  \\\n",
       "0                    3                 3             2019      другой   \n",
       "1                    1                12             2018      первый   \n",
       "2                    3                 8             2015      другой   \n",
       "3                    4                 7             2015      другой   \n",
       "4                    1                 6             2018      другой   \n",
       "6                    3                11             2017      другой   \n",
       "7                    3                 4             2019      другой   \n",
       "9                    6                 2             2017      другой   \n",
       "10                   3                11             2017      другой   \n",
       "11                   0                 8             2018      другой   \n",
       "\n",
       "    living_area_part  \n",
       "0           0.472222  \n",
       "1           0.460396  \n",
       "2           0.612500  \n",
       "3           0.468553  \n",
       "4           0.320000  \n",
       "6           0.284182  \n",
       "7           0.601955  \n",
       "9           0.714754  \n",
       "10          0.512626  \n",
       "11          0.704545  \n",
       "\n",
       "[10 rows x 25 columns]"
      ]
     },
     "metadata": {},
     "output_type": "display_data"
    }
   ],
   "source": [
    "display(df.head(10))"
   ]
  },
  {
   "cell_type": "code",
   "execution_count": 31,
   "metadata": {},
   "outputs": [
    {
     "name": "stdout",
     "output_type": "stream",
     "text": [
      "0\n"
     ]
    }
   ],
   "source": [
    "# проверим таблицу на наличие дубликатов\n",
    "print(df.duplicated().sum())"
   ]
  },
  {
   "cell_type": "code",
   "execution_count": 32,
   "metadata": {},
   "outputs": [
    {
     "name": "stdout",
     "output_type": "stream",
     "text": [
      "0\n"
     ]
    }
   ],
   "source": [
    "# удалим дубликаты и проверим результат\n",
    "df = df.drop_duplicates().reset_index(drop=True)\n",
    "print(df.duplicated().sum())"
   ]
  },
  {
   "cell_type": "markdown",
   "metadata": {},
   "source": [
    "## Исследовательский анализ данных"
   ]
  },
  {
   "cell_type": "markdown",
   "metadata": {},
   "source": [
    "Изучим параметры: площадь, цена, число комнат, высота потолков. Автоматизируем построение гистограмм для каждого параметра. Посмотрим, как выглядят диаграммы размаха для изученных данных и избавимся от выбросов."
   ]
  },
  {
   "cell_type": "code",
   "execution_count": 33,
   "metadata": {},
   "outputs": [],
   "source": [
    "def draw_hist(col, xmin, xmax):\n",
    "    df[col].hist(bins=50, range=(xmin, xmax))"
   ]
  },
  {
   "cell_type": "code",
   "execution_count": 34,
   "metadata": {},
   "outputs": [],
   "source": [
    "def draw_boxplot(col, ymin=-50, ymax=200):\n",
    "    plt.ylim(ymin, ymax)\n",
    "    df.boxplot(col)"
   ]
  },
  {
   "cell_type": "code",
   "execution_count": 35,
   "metadata": {},
   "outputs": [
    {
     "data": {
      "image/png": "[encoded data removed]",
      "text/plain": [
       "<Figure size 432x288 with 1 Axes>"
      ]
     },
     "metadata": {
      "needs_background": "light"
     },
     "output_type": "display_data"
    }
   ],
   "source": [
    "draw_hist('total_area', 0, 400)"
   ]
  },
  {
   "cell_type": "markdown",
   "metadata": {},
   "source": [
    "Гистограмма по столбцу total_area выглядит правдоподобно - квартир площадью менее 25 кв.м почти нет, большая доля квартир имеет площадь 30-60 кв.м, также видим мощный пик у значения 45 кв.м. После значения 100 кв.м число квартир стремительно убывает."
   ]
  },
  {
   "cell_type": "code",
   "execution_count": 36,
   "metadata": {},
   "outputs": [
    {
     "data": {
      "image/png": "[encoded data removed]",
      "text/plain": [
       "<Figure size 432x288 with 1 Axes>"
      ]
     },
     "metadata": {
      "needs_background": "light"
     },
     "output_type": "display_data"
    }
   ],
   "source": [
    "draw_boxplot('total_area')"
   ]
  },
  {
   "cell_type": "markdown",
   "metadata": {},
   "source": [
    "Разброс нормальных значений начинается около 15 кв.м и заканчивается у 120 кв.м. Избавимся от всех выбивающихся значений."
   ]
  },
  {
   "cell_type": "code",
   "execution_count": 37,
   "metadata": {},
   "outputs": [],
   "source": [
    "df = df.query('total_area>=15 and total_area<=120')"
   ]
  },
  {
   "cell_type": "code",
   "execution_count": 38,
   "metadata": {},
   "outputs": [
    {
     "data": {
      "image/png": "[encoded data removed]",
      "text/plain": [
       "<Figure size 432x288 with 1 Axes>"
      ]
     },
     "metadata": {
      "needs_background": "light"
     },
     "output_type": "display_data"
    }
   ],
   "source": [
    "draw_hist('last_price', 0, 20000000)"
   ]
  },
  {
   "cell_type": "markdown",
   "metadata": {},
   "source": [
    "График принимает ожидаемый вид. Можем отметить пик у значения цены 3 млн. Квартир, дороже 10 млн, гораздо меньше."
   ]
  },
  {
   "cell_type": "code",
   "execution_count": 39,
   "metadata": {},
   "outputs": [
    {
     "data": {
      "image/png": "[encoded data removed]",
      "text/plain": [
       "<Figure size 432x288 with 1 Axes>"
      ]
     },
     "metadata": {
      "needs_background": "light"
     },
     "output_type": "display_data"
    }
   ],
   "source": [
    "draw_boxplot('last_price', -500000, 15000000)"
   ]
  },
  {
   "cell_type": "markdown",
   "metadata": {},
   "source": [
    "Нормальные значения находятся в интервале от нуля до 11 млн. Оставим только их. Но сначала проверим, нет ли в данных неочивидных выбросов - например, значений, меньших 10 тыс."
   ]
  },
  {
   "cell_type": "code",
   "execution_count": 40,
   "metadata": {},
   "outputs": [
    {
     "data": {
      "text/html": [
       "<div>\n",
       "<style scoped>\n",
       "    .dataframe tbody tr th:only-of-type {\n",
       "        vertical-align: middle;\n",
       "    }\n",
       "\n",
       "    .dataframe tbody tr th {\n",
       "        vertical-align: top;\n",
       "    }\n",
       "\n",
       "    .dataframe thead th {\n",
       "        text-align: right;\n",
       "    }\n",
       "</style>\n",
       "<table border=\"1\" class=\"dataframe\">\n",
       "  <thead>\n",
       "    <tr style=\"text-align: right;\">\n",
       "      <th></th>\n",
       "      <th>last_price</th>\n",
       "      <th>total_area</th>\n",
       "      <th>first_day_exposition</th>\n",
       "      <th>rooms</th>\n",
       "      <th>ceiling_height</th>\n",
       "      <th>floors_total</th>\n",
       "      <th>living_area</th>\n",
       "      <th>floor</th>\n",
       "      <th>kitchen_area</th>\n",
       "      <th>balcony</th>\n",
       "      <th>...</th>\n",
       "      <th>ponds_around3000</th>\n",
       "      <th>ponds_nearest</th>\n",
       "      <th>days_exposition</th>\n",
       "      <th>kitchen_part</th>\n",
       "      <th>sq_m_price</th>\n",
       "      <th>exposition_weekday</th>\n",
       "      <th>exposition_month</th>\n",
       "      <th>exposition_year</th>\n",
       "      <th>floor_type</th>\n",
       "      <th>living_area_part</th>\n",
       "    </tr>\n",
       "  </thead>\n",
       "  <tbody>\n",
       "  </tbody>\n",
       "</table>\n",
       "<p>0 rows × 25 columns</p>\n",
       "</div>"
      ],
      "text/plain": [
       "Empty DataFrame\n",
       "Columns: [last_price, total_area, first_day_exposition, rooms, ceiling_height, floors_total, living_area, floor, kitchen_area, balcony, locality_name, airports_nearest, cityсenters_nearest, parks_around3000, parks_nearest, ponds_around3000, ponds_nearest, days_exposition, kitchen_part, sq_m_price, exposition_weekday, exposition_month, exposition_year, floor_type, living_area_part]\n",
       "Index: []\n",
       "\n",
       "[0 rows x 25 columns]"
      ]
     },
     "metadata": {},
     "output_type": "display_data"
    }
   ],
   "source": [
    "display(df.query('last_price < 10000'))"
   ]
  },
  {
   "cell_type": "markdown",
   "metadata": {},
   "source": [
    "Это объявление выглядит странным. Избавимся от него при фильтрации."
   ]
  },
  {
   "cell_type": "code",
   "execution_count": 41,
   "metadata": {},
   "outputs": [],
   "source": [
    "df = df.query('last_price>10000 and last_price<=11000000')"
   ]
  },
  {
   "cell_type": "code",
   "execution_count": 42,
   "metadata": {},
   "outputs": [
    {
     "data": {
      "image/png": "[encoded data removed]",
      "text/plain": [
       "<Figure size 432x288 with 1 Axes>"
      ]
     },
     "metadata": {
      "needs_background": "light"
     },
     "output_type": "display_data"
    }
   ],
   "source": [
    "draw_hist('rooms', 0, 10)"
   ]
  },
  {
   "cell_type": "markdown",
   "metadata": {},
   "source": [
    "У большинства квартир 1-3 комнаты. Видим небольшой сегмент с нулевым количеством комнат. Это студии."
   ]
  },
  {
   "cell_type": "code",
   "execution_count": 43,
   "metadata": {},
   "outputs": [
    {
     "data": {
      "image/png": "[encoded data removed]",
      "text/plain": [
       "<Figure size 432x288 with 1 Axes>"
      ]
     },
     "metadata": {
      "needs_background": "light"
     },
     "output_type": "display_data"
    }
   ],
   "source": [
    "draw_boxplot('rooms', -1, 10)"
   ]
  },
  {
   "cell_type": "markdown",
   "metadata": {},
   "source": [
    "Нормальные значения - от 0 до 6, оставим только их."
   ]
  },
  {
   "cell_type": "code",
   "execution_count": 44,
   "metadata": {},
   "outputs": [],
   "source": [
    "df = df.query('rooms>=0 and rooms <7')"
   ]
  },
  {
   "cell_type": "code",
   "execution_count": 45,
   "metadata": {},
   "outputs": [
    {
     "data": {
      "image/png": "[encoded data removed]",
      "text/plain": [
       "<Figure size 432x288 with 1 Axes>"
      ]
     },
     "metadata": {
      "needs_background": "light"
     },
     "output_type": "display_data"
    }
   ],
   "source": [
    "draw_hist('ceiling_height', 2, 5)"
   ]
  },
  {
   "cell_type": "markdown",
   "metadata": {},
   "source": [
    "У большей части квартир высота потолков 2,5-2,7 м."
   ]
  },
  {
   "cell_type": "code",
   "execution_count": 46,
   "metadata": {},
   "outputs": [
    {
     "data": {
      "image/png": "[encoded data removed]",
      "text/plain": [
       "<Figure size 432x288 with 1 Axes>"
      ]
     },
     "metadata": {
      "needs_background": "light"
     },
     "output_type": "display_data"
    }
   ],
   "source": [
    "draw_boxplot('ceiling_height', 2, 4)"
   ]
  },
  {
   "cell_type": "markdown",
   "metadata": {},
   "source": [
    "Избавимся от всех значений, меньших 2 м и больших 4,5 м."
   ]
  },
  {
   "cell_type": "code",
   "execution_count": 47,
   "metadata": {},
   "outputs": [],
   "source": [
    "df = df.query('ceiling_height>=2 and ceiling_height <=4.5')"
   ]
  },
  {
   "cell_type": "markdown",
   "metadata": {},
   "source": [
    "Построим гистограмму для времени продажи квартиры, изучим эти данные."
   ]
  },
  {
   "cell_type": "code",
   "execution_count": 48,
   "metadata": {},
   "outputs": [
    {
     "data": {
      "image/png": "[encoded data removed]",
      "text/plain": [
       "<Figure size 432x288 with 1 Axes>"
      ]
     },
     "metadata": {
      "needs_background": "light"
     },
     "output_type": "display_data"
    }
   ],
   "source": [
    "draw_hist('days_exposition', 0, 1600)"
   ]
  },
  {
   "cell_type": "markdown",
   "metadata": {},
   "source": [
    "Ожидаемое распределение дней размещения — гистограмма с длинным хвостом на высоких значениях и падением в ноль слева от пика, не доходя до нулевого значения. Вместо этого мы видим пик прямо рядом с нулём. Посмотрим, как выглядит диаграмма размаха для этих данных."
   ]
  },
  {
   "cell_type": "code",
   "execution_count": 49,
   "metadata": {},
   "outputs": [
    {
     "data": {
      "image/png": "[encoded data removed]",
      "text/plain": [
       "<Figure size 432x288 with 1 Axes>"
      ]
     },
     "metadata": {
      "needs_background": "light"
     },
     "output_type": "display_data"
    }
   ],
   "source": [
    "draw_boxplot('days_exposition', -50, 600)"
   ]
  },
  {
   "cell_type": "markdown",
   "metadata": {},
   "source": [
    "Большая часть значений находится в диапазоне до 250 дней. Посмотрим на среднее и медиану."
   ]
  },
  {
   "cell_type": "code",
   "execution_count": 50,
   "metadata": {},
   "outputs": [
    {
     "name": "stdout",
     "output_type": "stream",
     "text": [
      "count    15609.000000\n",
      "mean       151.857070\n",
      "std        205.309399\n",
      "min         -1.000000\n",
      "25%         24.000000\n",
      "50%         72.000000\n",
      "75%        193.000000\n",
      "max       1553.000000\n",
      "Name: days_exposition, dtype: float64\n"
     ]
    }
   ],
   "source": [
    "print(df['days_exposition'].describe())"
   ]
  },
  {
   "cell_type": "markdown",
   "metadata": {},
   "source": [
    "Можно считать, что сделка прошла быстро, если продажа состоялась в срок до 24 дней после подачи объявления, а если сделка состоялась через 193 и больше дней - она длилась долго.\n",
    "\n",
    "Разница среднего и медианы почти в два раза. Это говорит о том, что в распределении длинный хвост высоких значений, влияющих на среднее, но не на медиану. Действительно, видим, что третий квартиль у нас заканчивается на значении 193, а максимальное значение - целых 1553 дня. Как видим по графикам, нормальные значения находятся в промежутке от 0 до 430."
   ]
  },
  {
   "cell_type": "markdown",
   "metadata": {},
   "source": [
    "Изучим, какие факторы больше всего влияют на стоимость квартиры. Зависит ли цена квадратного метра от числа комнат и удалённости от центра? Также изучим зависимость цены от того, на каком этаже расположена квартира: первом, последнем или другом."
   ]
  },
  {
   "cell_type": "code",
   "execution_count": 51,
   "metadata": {},
   "outputs": [],
   "source": [
    "def draw_plot(data, y, x):\n",
    "    data.plot(y=y, x=x, kind='scatter', alpha=0.05)"
   ]
  },
  {
   "cell_type": "code",
   "execution_count": 52,
   "metadata": {},
   "outputs": [
    {
     "data": {
      "text/html": [
       "<div>\n",
       "<style scoped>\n",
       "    .dataframe tbody tr th:only-of-type {\n",
       "        vertical-align: middle;\n",
       "    }\n",
       "\n",
       "    .dataframe tbody tr th {\n",
       "        vertical-align: top;\n",
       "    }\n",
       "\n",
       "    .dataframe thead th {\n",
       "        text-align: right;\n",
       "    }\n",
       "</style>\n",
       "<table border=\"1\" class=\"dataframe\">\n",
       "  <thead>\n",
       "    <tr style=\"text-align: right;\">\n",
       "      <th></th>\n",
       "      <th>rooms</th>\n",
       "      <th>sq_m_price</th>\n",
       "      <th>total_area</th>\n",
       "    </tr>\n",
       "  </thead>\n",
       "  <tbody>\n",
       "    <tr>\n",
       "      <th>rooms</th>\n",
       "      <td>1.000000</td>\n",
       "      <td>-0.348270</td>\n",
       "      <td>0.801312</td>\n",
       "    </tr>\n",
       "    <tr>\n",
       "      <th>sq_m_price</th>\n",
       "      <td>-0.348270</td>\n",
       "      <td>1.000000</td>\n",
       "      <td>-0.211894</td>\n",
       "    </tr>\n",
       "    <tr>\n",
       "      <th>total_area</th>\n",
       "      <td>0.801312</td>\n",
       "      <td>-0.211894</td>\n",
       "      <td>1.000000</td>\n",
       "    </tr>\n",
       "  </tbody>\n",
       "</table>\n",
       "</div>"
      ],
      "text/plain": [
       "               rooms  sq_m_price  total_area\n",
       "rooms       1.000000   -0.348270    0.801312\n",
       "sq_m_price -0.348270    1.000000   -0.211894\n",
       "total_area  0.801312   -0.211894    1.000000"
      ]
     },
     "metadata": {},
     "output_type": "display_data"
    }
   ],
   "source": [
    "# создадим сводную таблицу \n",
    "index = df.index \n",
    "price_rooms_area_corr = df.pivot_table(index=index, values=['total_area','rooms', 'sq_m_price'], aggfunc='mean')\n",
    "\n",
    "# построим матрицу корреляции\n",
    "display(price_rooms_area_corr.corr())"
   ]
  },
  {
   "cell_type": "code",
   "execution_count": 53,
   "metadata": {},
   "outputs": [
    {
     "data": {
      "image/png": "[encoded data removed]",
      "text/plain": [
       "<Figure size 432x288 with 1 Axes>"
      ]
     },
     "metadata": {
      "needs_background": "light"
     },
     "output_type": "display_data"
    }
   ],
   "source": [
    "draw_plot(price_rooms_area_corr, 'sq_m_price', 'rooms')"
   ]
  },
  {
   "cell_type": "code",
   "execution_count": 54,
   "metadata": {},
   "outputs": [
    {
     "data": {
      "image/png": "[encoded data removed]",
      "text/plain": [
       "<Figure size 432x288 with 1 Axes>"
      ]
     },
     "metadata": {
      "needs_background": "light"
     },
     "output_type": "display_data"
    }
   ],
   "source": [
    "draw_plot(price_rooms_area_corr, 'sq_m_price', 'total_area')"
   ]
  },
  {
   "cell_type": "markdown",
   "metadata": {},
   "source": [
    "Видим, что стоимость средне зависит от общей площади, и в меньшей степени от количества комнат. Как наблюдение - больше всего в таблице зависимость между количеством комнат и площадью, что достаточно логично.\n",
    "\n",
    "Тем не менее, с увеличением количества комнат цена за кв.м падает. А если рассматриваем общую площадь, то стоимость за квадратный метр падает с каждым метром при увеличении площади после 60 кв.м."
   ]
  },
  {
   "cell_type": "code",
   "execution_count": 55,
   "metadata": {},
   "outputs": [
    {
     "name": "stdout",
     "output_type": "stream",
     "text": [
      "-0.39181294670888006\n"
     ]
    }
   ],
   "source": [
    "# с помощью метода query() отберем занчения для последующего расчета коэффициента корреляции\n",
    "distance_from_center = df.query('cityсenters_nearest != -1')\n",
    "print(distance_from_center['sq_m_price'].corr(distance_from_center['cityсenters_nearest']))"
   ]
  },
  {
   "cell_type": "code",
   "execution_count": 56,
   "metadata": {},
   "outputs": [
    {
     "data": {
      "image/png": "[encoded data removed]",
      "text/plain": [
       "<Figure size 432x288 with 1 Axes>"
      ]
     },
     "metadata": {
      "needs_background": "light"
     },
     "output_type": "display_data"
    }
   ],
   "source": [
    "draw_plot(distance_from_center, 'sq_m_price', 'cityсenters_nearest')"
   ]
  },
  {
   "cell_type": "markdown",
   "metadata": {},
   "source": [
    "Коэффициент корреляции отрицательный. Это значит, что увеличение расстояния от центра связано с уменьшением стоимости квартиры, что подтверждается на графике.\n",
    "\n",
    "Посмотрим на взаимосвязь стоимости квартиры и этажа, на котором она расположена."
   ]
  },
  {
   "cell_type": "code",
   "execution_count": 57,
   "metadata": {},
   "outputs": [
    {
     "name": "stdout",
     "output_type": "stream",
     "text": [
      "AxesSubplot(0.125,0.125;0.775x0.755)\n"
     ]
    },
    {
     "data": {
      "image/png": "[encoded data removed]",
      "text/plain": [
       "<Figure size 432x288 with 1 Axes>"
      ]
     },
     "metadata": {
      "needs_background": "light"
     },
     "output_type": "display_data"
    }
   ],
   "source": [
    "print(df.pivot_table(index='floor_type',values='sq_m_price',aggfunc='mean').plot(kind='bar'))"
   ]
  },
  {
   "cell_type": "markdown",
   "metadata": {},
   "source": [
    "Видим, что квартиры, расположенные на первом и последнем этаже, стоят дешевле, чем на любом другом.\n",
    "\n",
    "С помощью метода heatmap из библиотеки seaborn визуалицируем корреляцию."
   ]
  },
  {
   "cell_type": "code",
   "execution_count": 58,
   "metadata": {},
   "outputs": [
    {
     "name": "stdout",
     "output_type": "stream",
     "text": [
      "AxesSubplot(0.125,0.1925;0.62x0.62)\n"
     ]
    },
    {
     "data": {
      "image/png": "[encoded data removed]",
      "text/plain": [
       "<Figure size 864x864 with 2 Axes>"
      ]
     },
     "metadata": {
      "needs_background": "light"
     },
     "output_type": "display_data"
    }
   ],
   "source": [
    "fig, ax = plt.subplots(figsize=(12,12))\n",
    "print(sns.heatmap(df.corr(), annot=True, square=True, vmin=-1, vmax=1, center=0, ax=ax))"
   ]
  },
  {
   "cell_type": "markdown",
   "metadata": {},
   "source": [
    "С помощью графика можем отметить, что что есть слабая корреляция у параметра sq_m_price c общей и жилой площадью, площадью кухни, удаленность от центра города, а так же инфраструктурой вокруг (парки, водоемы, аэропорты).\n",
    "\n",
    "Посмотрим на взаимосвязь стоимости и времени размещения объявления: дня недели, месяца и года."
   ]
  },
  {
   "cell_type": "code",
   "execution_count": 59,
   "metadata": {},
   "outputs": [
    {
     "name": "stdout",
     "output_type": "stream",
     "text": [
      "AxesSubplot(0.125,0.125;0.775x0.755)\n"
     ]
    },
    {
     "data": {
      "image/png": "[encoded data removed]",
      "text/plain": [
       "<Figure size 432x288 with 1 Axes>"
      ]
     },
     "metadata": {
      "needs_background": "light"
     },
     "output_type": "display_data"
    }
   ],
   "source": [
    "print (df.pivot_table(index='exposition_weekday', values='sq_m_price', aggfunc='mean')\n",
    "                .plot(kind='bar') \n",
    ")"
   ]
  },
  {
   "cell_type": "code",
   "execution_count": 60,
   "metadata": {},
   "outputs": [
    {
     "name": "stdout",
     "output_type": "stream",
     "text": [
      "AxesSubplot(0.125,0.125;0.775x0.755)\n"
     ]
    },
    {
     "data": {
      "image/png": "[encoded data removed]",
      "text/plain": [
       "<Figure size 432x288 with 1 Axes>"
      ]
     },
     "metadata": {
      "needs_background": "light"
     },
     "output_type": "display_data"
    }
   ],
   "source": [
    "print (df.pivot_table(index='exposition_month',values='sq_m_price',aggfunc='mean')\n",
    "                .plot(kind='bar') \n",
    ")"
   ]
  },
  {
   "cell_type": "code",
   "execution_count": 61,
   "metadata": {},
   "outputs": [
    {
     "name": "stdout",
     "output_type": "stream",
     "text": [
      "AxesSubplot(0.125,0.125;0.775x0.755)\n"
     ]
    },
    {
     "data": {
      "image/png": "[encoded data removed]",
      "text/plain": [
       "<Figure size 432x288 with 1 Axes>"
      ]
     },
     "metadata": {
      "needs_background": "light"
     },
     "output_type": "display_data"
    }
   ],
   "source": [
    "print (df.pivot_table(index='exposition_year',values='sq_m_price',aggfunc='mean')\n",
    "                .plot(kind='bar') \n",
    ")"
   ]
  },
  {
   "cell_type": "markdown",
   "metadata": {},
   "source": [
    "**Приходим к следующим выводам:**\n",
    "\n",
    "* Прямой зависимости стоимости квадаратного мтера от дня размещения объявления не выявлено.\n",
    "* Квартиры, выставленные на продажу в январе и аперле дороже всего. Дешевле всего - в июне.\n",
    "* С 2015 года можем отметить тенденцию роста цен от года к году, однако дороже всего квартиры стоили в 2019 году.\n",
    "\n",
    "Выберем 10 населённых пунктов с наибольшим числом объявлений. Посчитем среднюю цену квадратного метра в этих населённых пунктах. Выделим населённые пункты с самой высокой и низкой стоимостью жилья."
   ]
  },
  {
   "cell_type": "code",
   "execution_count": 62,
   "metadata": {},
   "outputs": [
    {
     "data": {
      "image/png": "[encoded data removed]",
      "text/plain": [
       "<Figure size 432x288 with 1 Axes>"
      ]
     },
     "metadata": {
      "needs_background": "light"
     },
     "output_type": "display_data"
    }
   ],
   "source": [
    "# код ревьюера. Можно ли сказать, что \"дороже всего квартиры стоили в 2018 году\"?\n",
    "\n",
    "(df.pivot_table(index='exposition_year',values='sq_m_price',aggfunc='mean')\n",
    "                .plot(kind='bar') \n",
    ");"
   ]
  },
  {
   "cell_type": "code",
   "execution_count": 63,
   "metadata": {},
   "outputs": [
    {
     "name": "stdout",
     "output_type": "stream",
     "text": [
      "AxesSubplot(0.135,0.125;0.755x0.755)\n"
     ]
    },
    {
     "data": {
      "image/png": "[encoded data removed]",
      "text/plain": [
       "<Figure size 504x504 with 1 Axes>"
      ]
     },
     "metadata": {},
     "output_type": "display_data"
    }
   ],
   "source": [
    "locality_sq_m_price = df.loc[:, ['locality_name', 'sq_m_price']]\n",
    "locality_sq_m_price = locality_sq_m_price.pivot_table(index='locality_name', values='sq_m_price', aggfunc=['count', 'mean'])\n",
    "locality_sq_m_price.columns = ['count', 'mean_sq_m_price']\n",
    "top10_locality = locality_sq_m_price.sort_values(by='count', ascending=False).head(10)\n",
    "print(top10_locality.plot(y='count', kind='pie', figsize=(7, 7)))"
   ]
  },
  {
   "cell_type": "code",
   "execution_count": 64,
   "metadata": {},
   "outputs": [
    {
     "data": {
      "text/html": [
       "<div>\n",
       "<style scoped>\n",
       "    .dataframe tbody tr th:only-of-type {\n",
       "        vertical-align: middle;\n",
       "    }\n",
       "\n",
       "    .dataframe tbody tr th {\n",
       "        vertical-align: top;\n",
       "    }\n",
       "\n",
       "    .dataframe thead th {\n",
       "        text-align: right;\n",
       "    }\n",
       "</style>\n",
       "<table border=\"1\" class=\"dataframe\">\n",
       "  <thead>\n",
       "    <tr style=\"text-align: right;\">\n",
       "      <th></th>\n",
       "      <th>count</th>\n",
       "      <th>mean_sq_m_price</th>\n",
       "    </tr>\n",
       "    <tr>\n",
       "      <th>locality_name</th>\n",
       "      <th></th>\n",
       "      <th></th>\n",
       "    </tr>\n",
       "  </thead>\n",
       "  <tbody>\n",
       "    <tr>\n",
       "      <th>Санкт-Петербург</th>\n",
       "      <td>13231</td>\n",
       "      <td>105011.685209</td>\n",
       "    </tr>\n",
       "    <tr>\n",
       "      <th>посёлок Шушары</th>\n",
       "      <td>433</td>\n",
       "      <td>78199.381062</td>\n",
       "    </tr>\n",
       "    <tr>\n",
       "      <th>Пушкин</th>\n",
       "      <td>334</td>\n",
       "      <td>100179.227545</td>\n",
       "    </tr>\n",
       "    <tr>\n",
       "      <th>Колпино</th>\n",
       "      <td>334</td>\n",
       "      <td>75198.985030</td>\n",
       "    </tr>\n",
       "    <tr>\n",
       "      <th>посёлок Парголово</th>\n",
       "      <td>322</td>\n",
       "      <td>90448.400621</td>\n",
       "    </tr>\n",
       "    <tr>\n",
       "      <th>Петергоф</th>\n",
       "      <td>194</td>\n",
       "      <td>83118.530928</td>\n",
       "    </tr>\n",
       "    <tr>\n",
       "      <th>Красное Село</th>\n",
       "      <td>171</td>\n",
       "      <td>71998.625731</td>\n",
       "    </tr>\n",
       "    <tr>\n",
       "      <th>Сестрорецк</th>\n",
       "      <td>164</td>\n",
       "      <td>100125.280488</td>\n",
       "    </tr>\n",
       "    <tr>\n",
       "      <th>Ломоносов</th>\n",
       "      <td>129</td>\n",
       "      <td>73012.806202</td>\n",
       "    </tr>\n",
       "    <tr>\n",
       "      <th>Кронштадт</th>\n",
       "      <td>91</td>\n",
       "      <td>79102.725275</td>\n",
       "    </tr>\n",
       "  </tbody>\n",
       "</table>\n",
       "</div>"
      ],
      "text/plain": [
       "                   count  mean_sq_m_price\n",
       "locality_name                            \n",
       "Санкт-Петербург    13231    105011.685209\n",
       "посёлок Шушары       433     78199.381062\n",
       "Пушкин               334    100179.227545\n",
       "Колпино              334     75198.985030\n",
       "посёлок Парголово    322     90448.400621\n",
       "Петергоф             194     83118.530928\n",
       "Красное Село         171     71998.625731\n",
       "Сестрорецк           164    100125.280488\n",
       "Ломоносов            129     73012.806202\n",
       "Кронштадт             91     79102.725275"
      ]
     },
     "metadata": {},
     "output_type": "display_data"
    }
   ],
   "source": [
    "display(top10_locality)"
   ]
  },
  {
   "cell_type": "markdown",
   "metadata": {},
   "source": [
    "Дороже всего кадратный метр стоит в Санкт-Петербурге (что неудивительно) и в Пушкине. Дешевле всего квартиру можно купить в Выборге.\n",
    "\n",
    "Выделим квартиры в Санкт-Петербурге и выясним, какая область входит в центр. Расстояние до центра приведем в километры и округлим до целых значений. Посчитаем среднюю цену для каждого километра. Затем построим график, который покажет, как цена зависит от удалённости от центра."
   ]
  },
  {
   "cell_type": "code",
   "execution_count": 65,
   "metadata": {},
   "outputs": [
    {
     "name": "stdout",
     "output_type": "stream",
     "text": [
      "AxesSubplot(0.125,0.125;0.775x0.755)\n"
     ]
    },
    {
     "data": {
      "image/png": "[encoded data removed]",
      "text/plain": [
       "<Figure size 504x504 with 1 Axes>"
      ]
     },
     "metadata": {
      "needs_background": "light"
     },
     "output_type": "display_data"
    }
   ],
   "source": [
    "flats_in_spb = df.query('locality_name == \"Санкт-Петербург\"')\n",
    "flats_in_spb = flats_in_spb.query('cityсenters_nearest != -1')\n",
    "flats_in_spb_price = flats_in_spb.loc[:, ['locality_name', 'cityсenters_nearest','last_price']]\n",
    "\n",
    "# приводим расстояние в км, округляем\n",
    "flats_in_spb_price['cityсenters_nearest'] = (flats_in_spb_price['cityсenters_nearest']/1000).round().astype(int)\n",
    "\n",
    "# приводим цену в млн\n",
    "flats_in_spb_price['last_price'] = flats_in_spb_price['last_price']/1000000\n",
    "flats_in_spb_pivot = flats_in_spb_price.pivot_table(index='cityсenters_nearest', values='last_price', aggfunc=('mean'))\n",
    "print(flats_in_spb_pivot.plot(y='last_price', kind='bar', figsize=(7, 7)))"
   ]
  },
  {
   "cell_type": "markdown",
   "metadata": {},
   "source": [
    "Начиная с третьего километра цена сильно падает. С 4 по 7 километры также есть небольшой всплеск стоимости. Будем считать центром километры с 0 по 2 включительно.\n",
    "\n",
    "Выделим сегмент квартир в центре Санкт-Петербурга."
   ]
  },
  {
   "cell_type": "code",
   "execution_count": 66,
   "metadata": {},
   "outputs": [],
   "source": [
    "flats_in_spb_center = flats_in_spb.query('cityсenters_nearest != -1')\n",
    "flats_in_spb_center['cityсenters_nearest'] = (flats_in_spb_center['cityсenters_nearest']/1000).round().astype(int)\n",
    "flats_in_spb_center = flats_in_spb_center.query('cityсenters_nearest < 3')"
   ]
  },
  {
   "cell_type": "code",
   "execution_count": 67,
   "metadata": {},
   "outputs": [],
   "source": [
    "def draw_hist_spb(col, xmin=0, xmax=7):\n",
    "    flats_in_spb_center[col].hist(bins=50, range=(xmin,xmax))"
   ]
  },
  {
   "cell_type": "markdown",
   "metadata": {},
   "source": [
    "Для этой территории изучим следующие параметры: площадь, цена, число комнат, высота потолков."
   ]
  },
  {
   "cell_type": "code",
   "execution_count": 68,
   "metadata": {},
   "outputs": [
    {
     "data": {
      "image/png": "[encoded data removed]",
      "text/plain": [
       "<Figure size 432x288 with 1 Axes>"
      ]
     },
     "metadata": {
      "needs_background": "light"
     },
     "output_type": "display_data"
    }
   ],
   "source": [
    "draw_hist_spb('total_area', xmax=150)"
   ]
  },
  {
   "cell_type": "code",
   "execution_count": 69,
   "metadata": {},
   "outputs": [
    {
     "data": {
      "image/png": "[encoded data removed]",
      "text/plain": [
       "<Figure size 432x288 with 1 Axes>"
      ]
     },
     "metadata": {
      "needs_background": "light"
     },
     "output_type": "display_data"
    }
   ],
   "source": [
    "draw_hist_spb('last_price', xmax=12500000)"
   ]
  },
  {
   "cell_type": "code",
   "execution_count": 70,
   "metadata": {},
   "outputs": [
    {
     "data": {
      "image/png": "[encoded data removed]",
      "text/plain": [
       "<Figure size 432x288 with 1 Axes>"
      ]
     },
     "metadata": {
      "needs_background": "light"
     },
     "output_type": "display_data"
    }
   ],
   "source": [
    "draw_hist_spb('rooms')"
   ]
  },
  {
   "cell_type": "code",
   "execution_count": 71,
   "metadata": {},
   "outputs": [
    {
     "data": {
      "image/png": "[encoded data removed]",
      "text/plain": [
       "<Figure size 432x288 with 1 Axes>"
      ]
     },
     "metadata": {
      "needs_background": "light"
     },
     "output_type": "display_data"
    }
   ],
   "source": [
    "draw_hist_spb('ceiling_height', xmin=2, xmax=3.5)"
   ]
  },
  {
   "cell_type": "markdown",
   "metadata": {},
   "source": [
    "**О квартирах в центре Санкт-Петербурга можем сделать следующие выводы:**\n",
    "\n",
    "* они имеют бОльшую площадь - 70-80 кв.м (против 45-50 кв.м);\n",
    "* их стоимость гораздо больше - если на общем графике пиковое значение цены было 3 млн, то здесь это значение почти в 3 раза больше;\n",
    "* количество комнат в них больше - в основном, 2-4 комнаты (против 1-3);\n",
    "* потолки выше - помимо медианного значения 2.5, видим пик у значения 3/\n",
    "\n",
    "Выделим факторы, которые влияют на стоимость квартиры (число комнат, этаж, удалённость от центра, дата размещения объявления)."
   ]
  },
  {
   "cell_type": "code",
   "execution_count": 72,
   "metadata": {},
   "outputs": [
    {
     "name": "stdout",
     "output_type": "stream",
     "text": [
      "-0.40875769289823705\n"
     ]
    }
   ],
   "source": [
    "print(flats_in_spb_center['sq_m_price'].corr(flats_in_spb_center['rooms']))"
   ]
  },
  {
   "cell_type": "code",
   "execution_count": 73,
   "metadata": {},
   "outputs": [
    {
     "data": {
      "image/png": "[encoded data removed]",
      "text/plain": [
       "<Figure size 432x288 with 1 Axes>"
      ]
     },
     "metadata": {
      "needs_background": "light"
     },
     "output_type": "display_data"
    }
   ],
   "source": [
    "draw_plot(flats_in_spb_center,'sq_m_price','rooms')"
   ]
  },
  {
   "cell_type": "markdown",
   "metadata": {},
   "source": [
    "В центре Санкт-Петербурга стоимость квартиры и количество комнат связаны больше. С увеличением комнат в квартире стоимость квадратного метра уменьшается."
   ]
  },
  {
   "cell_type": "code",
   "execution_count": 74,
   "metadata": {},
   "outputs": [
    {
     "name": "stdout",
     "output_type": "stream",
     "text": [
      "0.003655059167827331\n"
     ]
    }
   ],
   "source": [
    "print(flats_in_spb_center['sq_m_price'].corr(flats_in_spb_center['cityсenters_nearest']))"
   ]
  },
  {
   "cell_type": "code",
   "execution_count": 75,
   "metadata": {},
   "outputs": [
    {
     "data": {
      "image/png": "[encoded data removed]",
      "text/plain": [
       "<Figure size 432x288 with 1 Axes>"
      ]
     },
     "metadata": {
      "needs_background": "light"
     },
     "output_type": "display_data"
    }
   ],
   "source": [
    "draw_plot(flats_in_spb_center,'sq_m_price','cityсenters_nearest')"
   ]
  },
  {
   "cell_type": "markdown",
   "metadata": {},
   "source": [
    "Взаимосвязь этих двух параметров в центре Санкт-Петербурга совсем маленькая. У нас мало объявлений на нулевом и первом километре Санкт-Петербурга, но по данным, которые есть, можно судить, что в центре города квартиры одинаково дорогие на километрах 0-2."
   ]
  },
  {
   "cell_type": "code",
   "execution_count": 76,
   "metadata": {},
   "outputs": [
    {
     "name": "stdout",
     "output_type": "stream",
     "text": [
      "AxesSubplot(0.125,0.125;0.775x0.755)\n"
     ]
    },
    {
     "data": {
      "image/png": "[encoded data removed]",
      "text/plain": [
       "<Figure size 432x288 with 1 Axes>"
      ]
     },
     "metadata": {
      "needs_background": "light"
     },
     "output_type": "display_data"
    }
   ],
   "source": [
    "print(flats_in_spb_center.pivot_table(index='floor_type',values='sq_m_price',aggfunc='mean')\n",
    "                .plot(kind='bar') \n",
    ")"
   ]
  },
  {
   "cell_type": "markdown",
   "metadata": {},
   "source": [
    "Квартиры на первом и последнем этаже также дешевле."
   ]
  },
  {
   "cell_type": "code",
   "execution_count": 77,
   "metadata": {},
   "outputs": [],
   "source": [
    "index1 = flats_in_spb_center.index\n",
    "exposition_date_spb = flats_in_spb_center.pivot_table(index=index1, values=['exposition_weekday', 'exposition_month', 'exposition_year', 'sq_m_price'], aggfunc='mean')"
   ]
  },
  {
   "cell_type": "code",
   "execution_count": 78,
   "metadata": {},
   "outputs": [
    {
     "name": "stdout",
     "output_type": "stream",
     "text": [
      "AxesSubplot(0.125,0.125;0.775x0.755)\n"
     ]
    },
    {
     "data": {
      "image/png": "[encoded data removed]",
      "text/plain": [
       "<Figure size 432x288 with 1 Axes>"
      ]
     },
     "metadata": {
      "needs_background": "light"
     },
     "output_type": "display_data"
    }
   ],
   "source": [
    "print(flats_in_spb_center.pivot_table(index='exposition_weekday',values='sq_m_price',aggfunc='mean')\n",
    "                .plot(kind='bar') \n",
    ")"
   ]
  },
  {
   "cell_type": "code",
   "execution_count": 79,
   "metadata": {},
   "outputs": [
    {
     "name": "stdout",
     "output_type": "stream",
     "text": [
      "AxesSubplot(0.125,0.125;0.775x0.755)\n"
     ]
    },
    {
     "data": {
      "image/png": "[encoded data removed]",
      "text/plain": [
       "<Figure size 432x288 with 1 Axes>"
      ]
     },
     "metadata": {
      "needs_background": "light"
     },
     "output_type": "display_data"
    }
   ],
   "source": [
    "print(flats_in_spb_center.pivot_table(index='exposition_month',values='sq_m_price',aggfunc='mean')\n",
    "                .plot(kind='bar') \n",
    ")"
   ]
  },
  {
   "cell_type": "code",
   "execution_count": 80,
   "metadata": {},
   "outputs": [
    {
     "name": "stdout",
     "output_type": "stream",
     "text": [
      "AxesSubplot(0.125,0.125;0.775x0.755)\n"
     ]
    },
    {
     "data": {
      "image/png": "[encoded data removed]",
      "text/plain": [
       "<Figure size 432x288 with 1 Axes>"
      ]
     },
     "metadata": {
      "needs_background": "light"
     },
     "output_type": "display_data"
    }
   ],
   "source": [
    "print(flats_in_spb_center.pivot_table(index='exposition_year',values='sq_m_price',aggfunc='mean')\n",
    "                .plot(kind='bar') \n",
    ")"
   ]
  },
  {
   "cell_type": "markdown",
   "metadata": {},
   "source": [
    "**Выводы:**\n",
    "\n",
    "* Дешевле всего квадратный метр стоит в объявлениях, размещенных в четверг и воскресенье.\n",
    "* Квартиры, выставленные на продажу в марте и сентябре, дороже всего. Дешевле всего - в летние месяцы и январе, декабре.\n",
    "* Дороже всего квартиры стоили в 2018 и 2019 годах."
   ]
  },
  {
   "cell_type": "code",
   "execution_count": 81,
   "metadata": {},
   "outputs": [
    {
     "data": {
      "image/png": "[encoded data removed]",
      "text/plain": [
       "<Figure size 432x288 with 1 Axes>"
      ]
     },
     "metadata": {
      "needs_background": "light"
     },
     "output_type": "display_data"
    }
   ],
   "source": [
    "# код ревьюера. Можно ли сказать, что \"Дороже всего квартиры стоили в 2017 и 2018 годах\"?\n",
    "\n",
    "(flats_in_spb_center.pivot_table(index='exposition_year',values='sq_m_price',aggfunc='mean')\n",
    "                .plot(kind='bar') \n",
    ");"
   ]
  },
  {
   "cell_type": "markdown",
   "metadata": {},
   "source": [
    "## Общий вывод"
   ]
  },
  {
   "cell_type": "markdown",
   "metadata": {},
   "source": [
    "В ходе проведенного анализа был изучен архив объявлений о продаже квартир в Санкт-Петербурге и соседних населённых пунктах за несколько лет, с целью впоследствии использовать данную информацию для  определения рыночной стоимости объектов недвижимости.\n",
    "\n",
    "Были выполнены следующие задачи:\n",
    "\n",
    "* заполнены пропущенные данные в исследуемых столбцах;\n",
    "* установлены параметры (площадь, цена, число комнат, высота потолков и др.);\n",
    "* установлены связи между разными параметрами и построены графики;\n",
    "* исключены редкие и выбивающиеся значения;\n",
    "* подгостовлены ответы на поставленные в исслеовании вопросы.\n",
    "\n",
    "**На основании проведенного анализа пришли к выводам:**\n",
    "\n",
    "* от дня размещения объявления до продажи квартиры обычно проходит от 24 до 193 дней;\n",
    "* дороже всего кадратный метр стоит в Санкт-Петербурге и в Пушкине, дешевле всего квартиру можно купить в Выборге;\n",
    "* стомиость квдратного метра на первом и последнем этаже дешевле, чем на любом другом;\n",
    "* отдаление от центра города связано с уменьшением стоимости квадратного метра недвижимости, при этом центральной цасти Санкт-Петербурга это не касается - здесь квартиры одинаково дорогие;\n",
    "* квартиры в центре Санкт-Петербурга имеют бОльшую площадь, чем в других районах и населенных пунктах;\n",
    "* стоимость квадратного метра в центре Санкт-Петербурга гораздо больше - почти в 3 раза;\n",
    "* количество комнат в квартирах в центре Санкт-Петербурга больше - в основном, 2-4 комнаты (против 1-3), потолки выше;\n",
    "* обнаружилась следующая cвязь между временем размещения объявления и стоимостью квадратного метра: \n",
    " - стомиость квадаратоного метра квартир, выставленных на продажу в январе и апреле дороже ,чем в другие месяцы;\n",
    " - зависимость стоимости квадратного метра от дня публикации обявления не установлена, однако для центра Санк-Петербурга установлено, что дешевле всего квадратный метр стоит в объявлениях, размещенных в четверг и воскресенье;\n",
    " - квартиры были дороже всего в 2018 и 2019 году для центра Санкт-Петербурга и в 2019 для всех остальных районов и населенных пунктов."
   ]
  }
 ],
 "metadata": {
  "ExecuteTimeLog": [
   {
    "duration": 673,
    "start_time": "2022-03-14T08:01:23.260Z"
   },
   {
    "duration": 3,
    "start_time": "2022-03-14T08:01:29.428Z"
   },
   {
    "duration": 118,
    "start_time": "2022-03-14T08:08:40.250Z"
   },
   {
    "duration": 110,
    "start_time": "2022-03-14T08:12:29.071Z"
   },
   {
    "duration": 101,
    "start_time": "2022-03-14T08:12:54.642Z"
   },
   {
    "duration": 66,
    "start_time": "2022-03-14T08:13:07.194Z"
   },
   {
    "duration": 97,
    "start_time": "2022-03-14T08:17:16.144Z"
   },
   {
    "duration": 80,
    "start_time": "2022-03-14T08:17:33.306Z"
   },
   {
    "duration": 3,
    "start_time": "2022-03-14T08:42:00.649Z"
   },
   {
    "duration": 117,
    "start_time": "2022-03-14T08:42:00.653Z"
   },
   {
    "duration": 80,
    "start_time": "2022-03-14T08:42:00.773Z"
   },
   {
    "duration": 90,
    "start_time": "2022-03-14T08:44:59.369Z"
   },
   {
    "duration": 8,
    "start_time": "2022-03-14T08:45:22.620Z"
   },
   {
    "duration": 16,
    "start_time": "2022-03-14T08:45:42.076Z"
   },
   {
    "duration": 9,
    "start_time": "2022-03-14T08:53:09.441Z"
   },
   {
    "duration": 6,
    "start_time": "2022-03-14T08:54:10.075Z"
   },
   {
    "duration": 6,
    "start_time": "2022-03-14T08:55:32.646Z"
   },
   {
    "duration": 12,
    "start_time": "2022-03-14T08:56:53.318Z"
   },
   {
    "duration": 2,
    "start_time": "2022-03-14T08:56:58.257Z"
   },
   {
    "duration": 111,
    "start_time": "2022-03-14T08:56:58.261Z"
   },
   {
    "duration": 77,
    "start_time": "2022-03-14T08:56:58.375Z"
   },
   {
    "duration": 15,
    "start_time": "2022-03-14T08:56:58.455Z"
   },
   {
    "duration": 8,
    "start_time": "2022-03-14T08:56:58.477Z"
   },
   {
    "duration": 10,
    "start_time": "2022-03-14T08:56:58.487Z"
   },
   {
    "duration": 249,
    "start_time": "2022-03-14T13:34:51.620Z"
   },
   {
    "duration": 513,
    "start_time": "2022-03-14T13:35:13.681Z"
   },
   {
    "duration": 84,
    "start_time": "2022-03-14T13:35:14.196Z"
   },
   {
    "duration": 68,
    "start_time": "2022-03-14T13:35:14.282Z"
   },
   {
    "duration": 15,
    "start_time": "2022-03-14T13:35:14.352Z"
   },
   {
    "duration": 8,
    "start_time": "2022-03-14T13:35:14.368Z"
   },
   {
    "duration": 8,
    "start_time": "2022-03-14T13:35:14.378Z"
   },
   {
    "duration": 80,
    "start_time": "2022-03-14T13:37:46.463Z"
   },
   {
    "duration": 73,
    "start_time": "2022-03-14T13:38:03.510Z"
   },
   {
    "duration": 4685,
    "start_time": "2022-03-14T13:38:16.742Z"
   },
   {
    "duration": 4902,
    "start_time": "2022-03-14T13:38:41.071Z"
   },
   {
    "duration": 2,
    "start_time": "2022-03-14T13:39:05.789Z"
   },
   {
    "duration": 86,
    "start_time": "2022-03-14T13:39:05.794Z"
   },
   {
    "duration": 86,
    "start_time": "2022-03-14T13:39:05.882Z"
   },
   {
    "duration": 15,
    "start_time": "2022-03-14T13:39:05.970Z"
   },
   {
    "duration": 10,
    "start_time": "2022-03-14T13:39:05.987Z"
   },
   {
    "duration": 9,
    "start_time": "2022-03-14T13:39:05.999Z"
   },
   {
    "duration": 4590,
    "start_time": "2022-03-14T13:39:06.010Z"
   },
   {
    "duration": 8,
    "start_time": "2022-03-14T13:40:00.518Z"
   },
   {
    "duration": 7,
    "start_time": "2022-03-14T13:40:13.028Z"
   },
   {
    "duration": 189,
    "start_time": "2022-03-14T13:46:56.613Z"
   },
   {
    "duration": 234,
    "start_time": "2022-03-14T13:47:32.820Z"
   },
   {
    "duration": 195,
    "start_time": "2022-03-14T13:47:39.067Z"
   },
   {
    "duration": 400,
    "start_time": "2022-03-14T13:47:49.752Z"
   },
   {
    "duration": 390,
    "start_time": "2022-03-14T13:49:19.262Z"
   },
   {
    "duration": 10,
    "start_time": "2022-03-14T13:49:42.547Z"
   },
   {
    "duration": 6,
    "start_time": "2022-03-14T13:49:51.333Z"
   },
   {
    "duration": 5,
    "start_time": "2022-03-14T13:53:32.726Z"
   },
   {
    "duration": 193,
    "start_time": "2022-03-14T13:54:43.349Z"
   },
   {
    "duration": 1928,
    "start_time": "2022-03-14T13:54:52.042Z"
   },
   {
    "duration": 38,
    "start_time": "2022-03-14T13:55:03.066Z"
   },
   {
    "duration": 18,
    "start_time": "2022-03-14T13:55:12.575Z"
   },
   {
    "duration": 27,
    "start_time": "2022-03-14T13:55:53.071Z"
   },
   {
    "duration": 186,
    "start_time": "2022-03-14T13:56:25.473Z"
   },
   {
    "duration": 5,
    "start_time": "2022-03-14T13:56:39.255Z"
   },
   {
    "duration": 3,
    "start_time": "2022-03-14T13:56:43.173Z"
   },
   {
    "duration": 4,
    "start_time": "2022-03-14T13:57:02.454Z"
   },
   {
    "duration": 4,
    "start_time": "2022-03-14T13:57:19.676Z"
   },
   {
    "duration": 197,
    "start_time": "2022-03-14T13:57:24.420Z"
   },
   {
    "duration": 473,
    "start_time": "2022-03-14T13:57:46.553Z"
   },
   {
    "duration": 393,
    "start_time": "2022-03-14T13:57:56.777Z"
   },
   {
    "duration": 7,
    "start_time": "2022-03-14T13:58:03.757Z"
   },
   {
    "duration": 6,
    "start_time": "2022-03-14T13:58:11.499Z"
   },
   {
    "duration": 7,
    "start_time": "2022-03-14T13:58:29.102Z"
   },
   {
    "duration": 3,
    "start_time": "2022-03-14T14:09:53.664Z"
   },
   {
    "duration": 89,
    "start_time": "2022-03-14T14:09:53.675Z"
   },
   {
    "duration": 70,
    "start_time": "2022-03-14T14:09:53.766Z"
   },
   {
    "duration": 13,
    "start_time": "2022-03-14T14:09:53.838Z"
   },
   {
    "duration": 7,
    "start_time": "2022-03-14T14:09:53.853Z"
   },
   {
    "duration": 9,
    "start_time": "2022-03-14T14:09:53.861Z"
   },
   {
    "duration": 6,
    "start_time": "2022-03-14T14:09:53.871Z"
   },
   {
    "duration": 419,
    "start_time": "2022-03-14T14:09:53.879Z"
   },
   {
    "duration": 9,
    "start_time": "2022-03-14T14:09:54.300Z"
   },
   {
    "duration": 40,
    "start_time": "2022-03-14T14:09:54.310Z"
   },
   {
    "duration": 4,
    "start_time": "2022-03-14T14:09:54.352Z"
   },
   {
    "duration": 5,
    "start_time": "2022-03-14T14:09:54.357Z"
   },
   {
    "duration": 398,
    "start_time": "2022-03-14T14:09:54.364Z"
   },
   {
    "duration": 5,
    "start_time": "2022-03-14T14:09:54.764Z"
   },
   {
    "duration": 388,
    "start_time": "2022-03-15T07:39:41.417Z"
   },
   {
    "duration": 774,
    "start_time": "2022-03-15T07:39:48.531Z"
   },
   {
    "duration": 135,
    "start_time": "2022-03-15T07:39:49.308Z"
   },
   {
    "duration": 119,
    "start_time": "2022-03-15T07:39:49.447Z"
   },
   {
    "duration": 23,
    "start_time": "2022-03-15T07:39:49.574Z"
   },
   {
    "duration": 13,
    "start_time": "2022-03-15T07:39:49.600Z"
   },
   {
    "duration": 12,
    "start_time": "2022-03-15T07:39:49.616Z"
   },
   {
    "duration": 47,
    "start_time": "2022-03-15T07:39:49.631Z"
   },
   {
    "duration": 703,
    "start_time": "2022-03-15T07:39:49.682Z"
   },
   {
    "duration": 17,
    "start_time": "2022-03-15T07:39:50.388Z"
   },
   {
    "duration": 36,
    "start_time": "2022-03-15T07:39:50.408Z"
   },
   {
    "duration": 27,
    "start_time": "2022-03-15T07:39:50.446Z"
   },
   {
    "duration": 5,
    "start_time": "2022-03-15T07:39:50.475Z"
   },
   {
    "duration": 696,
    "start_time": "2022-03-15T07:39:50.482Z"
   },
   {
    "duration": 9,
    "start_time": "2022-03-15T07:39:51.181Z"
   },
   {
    "duration": 16,
    "start_time": "2022-03-15T07:39:51.192Z"
   },
   {
    "duration": 10,
    "start_time": "2022-03-15T07:39:58.124Z"
   },
   {
    "duration": 9,
    "start_time": "2022-03-15T07:40:59.461Z"
   },
   {
    "duration": 8,
    "start_time": "2022-03-15T07:41:39.300Z"
   },
   {
    "duration": 6,
    "start_time": "2022-03-15T07:42:04.279Z"
   },
   {
    "duration": 6,
    "start_time": "2022-03-15T07:43:52.667Z"
   },
   {
    "duration": 9,
    "start_time": "2022-03-15T07:44:24.966Z"
   },
   {
    "duration": 8,
    "start_time": "2022-03-15T07:44:35.091Z"
   },
   {
    "duration": 6,
    "start_time": "2022-03-15T07:45:43.926Z"
   },
   {
    "duration": 6,
    "start_time": "2022-03-15T07:46:04.458Z"
   },
   {
    "duration": 5,
    "start_time": "2022-03-15T07:46:51.525Z"
   },
   {
    "duration": 8,
    "start_time": "2022-03-15T07:47:14.141Z"
   },
   {
    "duration": 7,
    "start_time": "2022-03-15T07:47:19.339Z"
   },
   {
    "duration": 7,
    "start_time": "2022-03-15T07:48:17.716Z"
   },
   {
    "duration": 6,
    "start_time": "2022-03-15T07:48:27.967Z"
   },
   {
    "duration": 6,
    "start_time": "2022-03-15T07:48:32.089Z"
   },
   {
    "duration": 105,
    "start_time": "2022-03-15T07:49:21.622Z"
   },
   {
    "duration": 6,
    "start_time": "2022-03-15T07:50:01.536Z"
   },
   {
    "duration": 6,
    "start_time": "2022-03-15T07:50:48.827Z"
   },
   {
    "duration": 728,
    "start_time": "2022-03-15T07:54:34.954Z"
   },
   {
    "duration": 689,
    "start_time": "2022-03-15T07:54:49.666Z"
   },
   {
    "duration": 12,
    "start_time": "2022-03-15T07:55:29.495Z"
   },
   {
    "duration": 891,
    "start_time": "2022-03-15T07:55:35.077Z"
   },
   {
    "duration": 18,
    "start_time": "2022-03-15T07:56:23.837Z"
   },
   {
    "duration": 7,
    "start_time": "2022-03-15T07:56:46.905Z"
   },
   {
    "duration": 6,
    "start_time": "2022-03-15T07:57:11.126Z"
   },
   {
    "duration": 5,
    "start_time": "2022-03-15T07:57:21.060Z"
   },
   {
    "duration": 5,
    "start_time": "2022-03-15T07:57:43.686Z"
   },
   {
    "duration": 5,
    "start_time": "2022-03-15T07:57:55.446Z"
   },
   {
    "duration": 15,
    "start_time": "2022-03-15T07:58:21.473Z"
   },
   {
    "duration": 7,
    "start_time": "2022-03-15T08:00:40.806Z"
   },
   {
    "duration": 9,
    "start_time": "2022-03-15T08:01:05.799Z"
   },
   {
    "duration": 8,
    "start_time": "2022-03-15T08:01:16.927Z"
   },
   {
    "duration": 18,
    "start_time": "2022-03-15T08:03:11.938Z"
   },
   {
    "duration": 22,
    "start_time": "2022-03-15T08:03:35.644Z"
   },
   {
    "duration": 5,
    "start_time": "2022-03-15T08:04:31.709Z"
   },
   {
    "duration": 5,
    "start_time": "2022-03-15T08:04:45.674Z"
   },
   {
    "duration": 841,
    "start_time": "2022-03-15T08:05:31.962Z"
   },
   {
    "duration": 843,
    "start_time": "2022-03-15T08:06:08.936Z"
   },
   {
    "duration": 22,
    "start_time": "2022-03-15T08:06:39.360Z"
   },
   {
    "duration": 40,
    "start_time": "2022-03-15T08:06:47.728Z"
   },
   {
    "duration": 4,
    "start_time": "2022-03-15T08:07:27.741Z"
   },
   {
    "duration": 149,
    "start_time": "2022-03-15T08:07:27.747Z"
   },
   {
    "duration": 129,
    "start_time": "2022-03-15T08:07:27.899Z"
   },
   {
    "duration": 26,
    "start_time": "2022-03-15T08:07:28.031Z"
   },
   {
    "duration": 12,
    "start_time": "2022-03-15T08:07:28.072Z"
   },
   {
    "duration": 16,
    "start_time": "2022-03-15T08:07:28.087Z"
   },
   {
    "duration": 12,
    "start_time": "2022-03-15T08:07:28.106Z"
   },
   {
    "duration": 922,
    "start_time": "2022-03-15T08:07:28.121Z"
   },
   {
    "duration": 11,
    "start_time": "2022-03-15T08:07:29.045Z"
   },
   {
    "duration": 65,
    "start_time": "2022-03-15T08:07:29.058Z"
   },
   {
    "duration": 9,
    "start_time": "2022-03-15T08:07:29.126Z"
   },
   {
    "duration": 35,
    "start_time": "2022-03-15T08:07:29.138Z"
   },
   {
    "duration": 722,
    "start_time": "2022-03-15T08:07:29.176Z"
   },
   {
    "duration": 9,
    "start_time": "2022-03-15T08:07:29.901Z"
   },
   {
    "duration": 18,
    "start_time": "2022-03-15T08:07:29.913Z"
   },
   {
    "duration": 6,
    "start_time": "2022-03-15T08:07:29.934Z"
   },
   {
    "duration": 33,
    "start_time": "2022-03-15T08:07:29.942Z"
   },
   {
    "duration": 8,
    "start_time": "2022-03-15T08:07:29.978Z"
   },
   {
    "duration": 7,
    "start_time": "2022-03-15T08:07:29.991Z"
   },
   {
    "duration": 14,
    "start_time": "2022-03-15T08:07:30.001Z"
   },
   {
    "duration": 8,
    "start_time": "2022-03-15T08:07:30.018Z"
   },
   {
    "duration": 873,
    "start_time": "2022-03-15T08:07:30.029Z"
   },
   {
    "duration": 27,
    "start_time": "2022-03-15T08:07:30.905Z"
   },
   {
    "duration": 15,
    "start_time": "2022-03-15T08:07:30.935Z"
   },
   {
    "duration": 24,
    "start_time": "2022-03-15T08:07:30.953Z"
   },
   {
    "duration": 6,
    "start_time": "2022-03-15T08:07:30.979Z"
   },
   {
    "duration": 18,
    "start_time": "2022-03-15T08:07:30.988Z"
   },
   {
    "duration": 10,
    "start_time": "2022-03-15T08:07:31.009Z"
   },
   {
    "duration": 62,
    "start_time": "2022-03-15T08:07:31.022Z"
   },
   {
    "duration": 6,
    "start_time": "2022-03-15T08:07:31.087Z"
   },
   {
    "duration": 863,
    "start_time": "2022-03-15T08:07:31.096Z"
   },
   {
    "duration": 43,
    "start_time": "2022-03-15T08:07:31.961Z"
   },
   {
    "duration": 728,
    "start_time": "2022-03-15T08:12:21.314Z"
   },
   {
    "duration": 5,
    "start_time": "2022-03-15T08:12:28.956Z"
   },
   {
    "duration": 41,
    "start_time": "2022-03-15T08:12:32.801Z"
   },
   {
    "duration": 5,
    "start_time": "2022-03-15T08:13:09.317Z"
   },
   {
    "duration": 6,
    "start_time": "2022-03-15T08:14:32.855Z"
   },
   {
    "duration": 42,
    "start_time": "2022-03-15T08:14:35.062Z"
   },
   {
    "duration": 41,
    "start_time": "2022-03-15T08:15:06.611Z"
   },
   {
    "duration": 51,
    "start_time": "2022-03-15T08:15:50.024Z"
   },
   {
    "duration": 39,
    "start_time": "2022-03-15T08:16:03.852Z"
   },
   {
    "duration": 85,
    "start_time": "2022-03-15T08:16:58.352Z"
   },
   {
    "duration": 4,
    "start_time": "2022-03-15T08:18:29.190Z"
   },
   {
    "duration": 4,
    "start_time": "2022-03-15T08:18:46.346Z"
   },
   {
    "duration": 658,
    "start_time": "2022-03-15T08:19:08.194Z"
   },
   {
    "duration": 616,
    "start_time": "2022-03-15T08:19:27.960Z"
   },
   {
    "duration": 450,
    "start_time": "2022-03-15T08:19:48.235Z"
   },
   {
    "duration": 4,
    "start_time": "2022-03-15T08:21:41.652Z"
   },
   {
    "duration": 149,
    "start_time": "2022-03-15T08:21:41.659Z"
   },
   {
    "duration": 128,
    "start_time": "2022-03-15T08:21:41.811Z"
   },
   {
    "duration": 33,
    "start_time": "2022-03-15T08:21:41.942Z"
   },
   {
    "duration": 13,
    "start_time": "2022-03-15T08:21:41.978Z"
   },
   {
    "duration": 32,
    "start_time": "2022-03-15T08:21:41.994Z"
   },
   {
    "duration": 14,
    "start_time": "2022-03-15T08:21:42.030Z"
   },
   {
    "duration": 1249,
    "start_time": "2022-03-15T08:21:42.049Z"
   },
   {
    "duration": 15,
    "start_time": "2022-03-15T08:21:43.302Z"
   },
   {
    "duration": 68,
    "start_time": "2022-03-15T08:21:43.320Z"
   },
   {
    "duration": 7,
    "start_time": "2022-03-15T08:21:43.391Z"
   },
   {
    "duration": 6,
    "start_time": "2022-03-15T08:21:43.401Z"
   },
   {
    "duration": 725,
    "start_time": "2022-03-15T08:21:43.410Z"
   },
   {
    "duration": 9,
    "start_time": "2022-03-15T08:21:44.138Z"
   },
   {
    "duration": 23,
    "start_time": "2022-03-15T08:21:44.150Z"
   },
   {
    "duration": 7,
    "start_time": "2022-03-15T08:21:44.176Z"
   },
   {
    "duration": 6,
    "start_time": "2022-03-15T08:21:44.186Z"
   },
   {
    "duration": 10,
    "start_time": "2022-03-15T08:21:44.194Z"
   },
   {
    "duration": 7,
    "start_time": "2022-03-15T08:21:44.206Z"
   },
   {
    "duration": 7,
    "start_time": "2022-03-15T08:21:44.216Z"
   },
   {
    "duration": 48,
    "start_time": "2022-03-15T08:21:44.225Z"
   },
   {
    "duration": 1328,
    "start_time": "2022-03-15T08:21:44.277Z"
   },
   {
    "duration": 28,
    "start_time": "2022-03-15T08:21:45.613Z"
   },
   {
    "duration": 31,
    "start_time": "2022-03-15T08:21:45.645Z"
   },
   {
    "duration": 8,
    "start_time": "2022-03-15T08:21:45.678Z"
   },
   {
    "duration": 6,
    "start_time": "2022-03-15T08:21:45.688Z"
   },
   {
    "duration": 17,
    "start_time": "2022-03-15T08:21:45.697Z"
   },
   {
    "duration": 8,
    "start_time": "2022-03-15T08:21:45.717Z"
   },
   {
    "duration": 23,
    "start_time": "2022-03-15T08:21:45.775Z"
   },
   {
    "duration": 7,
    "start_time": "2022-03-15T08:21:45.801Z"
   },
   {
    "duration": 836,
    "start_time": "2022-03-15T08:21:45.811Z"
   },
   {
    "duration": 7,
    "start_time": "2022-03-15T08:21:46.650Z"
   },
   {
    "duration": 20,
    "start_time": "2022-03-15T08:21:46.659Z"
   },
   {
    "duration": 55,
    "start_time": "2022-03-15T08:21:46.682Z"
   },
   {
    "duration": 60,
    "start_time": "2022-03-15T08:21:46.740Z"
   },
   {
    "duration": 95,
    "start_time": "2022-03-15T08:21:46.803Z"
   },
   {
    "duration": 4,
    "start_time": "2022-03-15T08:21:46.901Z"
   },
   {
    "duration": 10,
    "start_time": "2022-03-15T08:21:46.908Z"
   },
   {
    "duration": 586,
    "start_time": "2022-03-15T08:21:46.921Z"
   },
   {
    "duration": 801,
    "start_time": "2022-03-15T08:21:47.510Z"
   },
   {
    "duration": 746,
    "start_time": "2022-03-15T08:22:57.200Z"
   },
   {
    "duration": 159,
    "start_time": "2022-03-15T08:22:57.949Z"
   },
   {
    "duration": 148,
    "start_time": "2022-03-15T08:22:58.111Z"
   },
   {
    "duration": 33,
    "start_time": "2022-03-15T08:22:58.262Z"
   },
   {
    "duration": 12,
    "start_time": "2022-03-15T08:22:58.299Z"
   },
   {
    "duration": 20,
    "start_time": "2022-03-15T08:22:58.314Z"
   },
   {
    "duration": 36,
    "start_time": "2022-03-15T08:22:58.338Z"
   },
   {
    "duration": 1335,
    "start_time": "2022-03-15T08:22:58.380Z"
   },
   {
    "duration": 13,
    "start_time": "2022-03-15T08:22:59.720Z"
   },
   {
    "duration": 64,
    "start_time": "2022-03-15T08:22:59.736Z"
   },
   {
    "duration": 9,
    "start_time": "2022-03-15T08:22:59.803Z"
   },
   {
    "duration": 23,
    "start_time": "2022-03-15T08:22:59.816Z"
   },
   {
    "duration": 1070,
    "start_time": "2022-03-15T08:22:59.842Z"
   },
   {
    "duration": 12,
    "start_time": "2022-03-15T08:23:00.914Z"
   },
   {
    "duration": 14,
    "start_time": "2022-03-15T08:23:00.928Z"
   },
   {
    "duration": 43,
    "start_time": "2022-03-15T08:23:00.945Z"
   },
   {
    "duration": 35,
    "start_time": "2022-03-15T08:23:00.992Z"
   },
   {
    "duration": 16,
    "start_time": "2022-03-15T08:23:01.030Z"
   },
   {
    "duration": 26,
    "start_time": "2022-03-15T08:23:01.050Z"
   },
   {
    "duration": 43,
    "start_time": "2022-03-15T08:23:01.080Z"
   },
   {
    "duration": 36,
    "start_time": "2022-03-15T08:23:01.127Z"
   },
   {
    "duration": 768,
    "start_time": "2022-03-15T08:23:01.166Z"
   },
   {
    "duration": 33,
    "start_time": "2022-03-15T08:23:01.941Z"
   },
   {
    "duration": 31,
    "start_time": "2022-03-15T08:23:01.977Z"
   },
   {
    "duration": 15,
    "start_time": "2022-03-15T08:23:02.011Z"
   },
   {
    "duration": 22,
    "start_time": "2022-03-15T08:23:02.029Z"
   },
   {
    "duration": 32,
    "start_time": "2022-03-15T08:23:02.054Z"
   },
   {
    "duration": 18,
    "start_time": "2022-03-15T08:23:02.090Z"
   },
   {
    "duration": 27,
    "start_time": "2022-03-15T08:23:02.111Z"
   },
   {
    "duration": 10,
    "start_time": "2022-03-15T08:23:02.141Z"
   },
   {
    "duration": 1161,
    "start_time": "2022-03-15T08:23:02.154Z"
   },
   {
    "duration": 6,
    "start_time": "2022-03-15T08:23:03.319Z"
   },
   {
    "duration": 9,
    "start_time": "2022-03-15T08:23:03.328Z"
   },
   {
    "duration": 62,
    "start_time": "2022-03-15T08:23:03.339Z"
   },
   {
    "duration": 70,
    "start_time": "2022-03-15T08:23:03.404Z"
   },
   {
    "duration": 103,
    "start_time": "2022-03-15T08:23:03.477Z"
   },
   {
    "duration": 4,
    "start_time": "2022-03-15T08:23:03.583Z"
   },
   {
    "duration": 38,
    "start_time": "2022-03-15T08:23:03.590Z"
   },
   {
    "duration": 452,
    "start_time": "2022-03-15T08:23:03.631Z"
   },
   {
    "duration": 329,
    "start_time": "2022-03-15T08:23:04.088Z"
   },
   {
    "duration": 227,
    "start_time": "2022-03-15T08:23:13.675Z"
   },
   {
    "duration": 13,
    "start_time": "2022-03-15T08:24:02.737Z"
   },
   {
    "duration": 17,
    "start_time": "2022-03-15T08:24:45.039Z"
   },
   {
    "duration": 489,
    "start_time": "2022-03-15T08:24:48.413Z"
   },
   {
    "duration": 654,
    "start_time": "2022-03-15T08:25:30.789Z"
   },
   {
    "duration": 259,
    "start_time": "2022-03-15T08:26:09.435Z"
   },
   {
    "duration": 254,
    "start_time": "2022-03-15T08:26:14.131Z"
   },
   {
    "duration": 35,
    "start_time": "2022-03-15T08:27:31.487Z"
   },
   {
    "duration": 39,
    "start_time": "2022-03-15T08:27:43.115Z"
   },
   {
    "duration": 37,
    "start_time": "2022-03-15T08:27:58.794Z"
   },
   {
    "duration": 12,
    "start_time": "2022-03-15T08:29:11.513Z"
   },
   {
    "duration": 11,
    "start_time": "2022-03-15T08:29:15.142Z"
   },
   {
    "duration": 464,
    "start_time": "2022-03-15T08:29:23.369Z"
   },
   {
    "duration": 440,
    "start_time": "2022-03-15T08:29:29.571Z"
   },
   {
    "duration": 215,
    "start_time": "2022-03-15T08:30:00.330Z"
   },
   {
    "duration": 228,
    "start_time": "2022-03-15T08:30:03.726Z"
   },
   {
    "duration": 111,
    "start_time": "2022-03-15T08:30:17.319Z"
   },
   {
    "duration": 19,
    "start_time": "2022-03-15T08:30:42.691Z"
   },
   {
    "duration": 14,
    "start_time": "2022-03-15T08:30:48.409Z"
   },
   {
    "duration": 434,
    "start_time": "2022-03-15T08:30:56.011Z"
   },
   {
    "duration": 592,
    "start_time": "2022-03-15T08:30:59.261Z"
   },
   {
    "duration": 148,
    "start_time": "2022-03-15T08:31:09.090Z"
   },
   {
    "duration": 241,
    "start_time": "2022-03-15T08:31:34.586Z"
   },
   {
    "duration": 235,
    "start_time": "2022-03-15T08:31:46.198Z"
   },
   {
    "duration": 12,
    "start_time": "2022-03-15T08:32:26.847Z"
   },
   {
    "duration": 12,
    "start_time": "2022-03-15T08:32:56.784Z"
   },
   {
    "duration": 434,
    "start_time": "2022-03-15T08:35:34.547Z"
   },
   {
    "duration": 437,
    "start_time": "2022-03-15T08:35:47.075Z"
   },
   {
    "duration": 224,
    "start_time": "2022-03-15T08:36:25.986Z"
   },
   {
    "duration": 211,
    "start_time": "2022-03-15T08:36:41.838Z"
   },
   {
    "duration": 12,
    "start_time": "2022-03-15T08:37:04.941Z"
   },
   {
    "duration": 12,
    "start_time": "2022-03-15T08:37:14.918Z"
   },
   {
    "duration": 11,
    "start_time": "2022-03-15T08:37:20.836Z"
   },
   {
    "duration": 12,
    "start_time": "2022-03-15T08:38:31.855Z"
   },
   {
    "duration": 12,
    "start_time": "2022-03-15T08:38:36.693Z"
   },
   {
    "duration": 5,
    "start_time": "2022-03-15T08:39:45.100Z"
   },
   {
    "duration": 4,
    "start_time": "2022-03-15T08:39:54.981Z"
   },
   {
    "duration": 373,
    "start_time": "2022-03-15T08:40:13.735Z"
   },
   {
    "duration": 30,
    "start_time": "2022-03-15T08:40:29.637Z"
   },
   {
    "duration": 28,
    "start_time": "2022-03-15T08:40:39.117Z"
   },
   {
    "duration": 29,
    "start_time": "2022-03-15T08:40:46.404Z"
   },
   {
    "duration": 29,
    "start_time": "2022-03-15T08:43:57.999Z"
   },
   {
    "duration": 647,
    "start_time": "2022-03-15T08:44:11.433Z"
   },
   {
    "duration": 701,
    "start_time": "2022-03-15T08:44:25.321Z"
   },
   {
    "duration": 664,
    "start_time": "2022-03-15T08:44:28.566Z"
   },
   {
    "duration": 732,
    "start_time": "2022-03-15T08:44:42.948Z"
   },
   {
    "duration": 419,
    "start_time": "2022-03-15T08:46:39.044Z"
   },
   {
    "duration": 411,
    "start_time": "2022-03-15T08:47:01.641Z"
   },
   {
    "duration": 379,
    "start_time": "2022-03-15T08:47:15.014Z"
   },
   {
    "duration": 4,
    "start_time": "2022-03-15T08:47:19.149Z"
   },
   {
    "duration": 165,
    "start_time": "2022-03-15T08:47:19.155Z"
   },
   {
    "duration": 158,
    "start_time": "2022-03-15T08:47:19.325Z"
   },
   {
    "duration": 33,
    "start_time": "2022-03-15T08:47:19.487Z"
   },
   {
    "duration": 14,
    "start_time": "2022-03-15T08:47:19.523Z"
   },
   {
    "duration": 44,
    "start_time": "2022-03-15T08:47:19.539Z"
   },
   {
    "duration": 13,
    "start_time": "2022-03-15T08:47:19.586Z"
   },
   {
    "duration": 1265,
    "start_time": "2022-03-15T08:47:19.604Z"
   },
   {
    "duration": 14,
    "start_time": "2022-03-15T08:47:20.876Z"
   },
   {
    "duration": 60,
    "start_time": "2022-03-15T08:47:20.893Z"
   },
   {
    "duration": 16,
    "start_time": "2022-03-15T08:47:20.975Z"
   },
   {
    "duration": 14,
    "start_time": "2022-03-15T08:47:20.994Z"
   },
   {
    "duration": 743,
    "start_time": "2022-03-15T08:47:21.011Z"
   },
   {
    "duration": 21,
    "start_time": "2022-03-15T08:47:21.757Z"
   },
   {
    "duration": 26,
    "start_time": "2022-03-15T08:47:21.782Z"
   },
   {
    "duration": 19,
    "start_time": "2022-03-15T08:47:21.816Z"
   },
   {
    "duration": 18,
    "start_time": "2022-03-15T08:47:21.837Z"
   },
   {
    "duration": 26,
    "start_time": "2022-03-15T08:47:21.858Z"
   },
   {
    "duration": 25,
    "start_time": "2022-03-15T08:47:21.890Z"
   },
   {
    "duration": 35,
    "start_time": "2022-03-15T08:47:21.918Z"
   },
   {
    "duration": 34,
    "start_time": "2022-03-15T08:47:21.955Z"
   },
   {
    "duration": 800,
    "start_time": "2022-03-15T08:47:21.992Z"
   },
   {
    "duration": 29,
    "start_time": "2022-03-15T08:47:22.800Z"
   },
   {
    "duration": 19,
    "start_time": "2022-03-15T08:47:22.834Z"
   },
   {
    "duration": 8,
    "start_time": "2022-03-15T08:47:22.873Z"
   },
   {
    "duration": 31,
    "start_time": "2022-03-15T08:47:22.884Z"
   },
   {
    "duration": 20,
    "start_time": "2022-03-15T08:47:22.918Z"
   },
   {
    "duration": 9,
    "start_time": "2022-03-15T08:47:22.941Z"
   },
   {
    "duration": 40,
    "start_time": "2022-03-15T08:47:22.953Z"
   },
   {
    "duration": 19,
    "start_time": "2022-03-15T08:47:22.996Z"
   },
   {
    "duration": 1406,
    "start_time": "2022-03-15T08:47:23.029Z"
   },
   {
    "duration": 5,
    "start_time": "2022-03-15T08:47:24.437Z"
   },
   {
    "duration": 13,
    "start_time": "2022-03-15T08:47:24.445Z"
   },
   {
    "duration": 59,
    "start_time": "2022-03-15T08:47:24.461Z"
   },
   {
    "duration": 73,
    "start_time": "2022-03-15T08:47:24.523Z"
   },
   {
    "duration": 131,
    "start_time": "2022-03-15T08:47:24.601Z"
   },
   {
    "duration": 5,
    "start_time": "2022-03-15T08:47:24.735Z"
   },
   {
    "duration": 21,
    "start_time": "2022-03-15T08:47:24.742Z"
   },
   {
    "duration": 510,
    "start_time": "2022-03-15T08:47:24.766Z"
   },
   {
    "duration": 248,
    "start_time": "2022-03-15T08:47:25.281Z"
   },
   {
    "duration": 13,
    "start_time": "2022-03-15T08:47:25.532Z"
   },
   {
    "duration": 506,
    "start_time": "2022-03-15T08:47:25.548Z"
   },
   {
    "duration": 271,
    "start_time": "2022-03-15T08:47:26.056Z"
   },
   {
    "duration": 50,
    "start_time": "2022-03-15T08:47:26.329Z"
   },
   {
    "duration": 17,
    "start_time": "2022-03-15T08:47:26.383Z"
   },
   {
    "duration": 463,
    "start_time": "2022-03-15T08:47:26.404Z"
   },
   {
    "duration": 349,
    "start_time": "2022-03-15T08:47:26.873Z"
   },
   {
    "duration": 17,
    "start_time": "2022-03-15T08:47:27.226Z"
   },
   {
    "duration": 524,
    "start_time": "2022-03-15T08:47:27.245Z"
   },
   {
    "duration": 404,
    "start_time": "2022-03-15T08:47:27.771Z"
   },
   {
    "duration": 25,
    "start_time": "2022-03-15T08:47:28.179Z"
   },
   {
    "duration": 486,
    "start_time": "2022-03-15T08:47:28.207Z"
   },
   {
    "duration": 268,
    "start_time": "2022-03-15T08:47:28.696Z"
   },
   {
    "duration": 16,
    "start_time": "2022-03-15T08:47:28.981Z"
   },
   {
    "duration": 29,
    "start_time": "2022-03-15T08:47:29.000Z"
   },
   {
    "duration": 18,
    "start_time": "2022-03-15T08:47:29.032Z"
   },
   {
    "duration": 45,
    "start_time": "2022-03-15T08:47:29.053Z"
   },
   {
    "duration": 729,
    "start_time": "2022-03-15T08:47:29.102Z"
   },
   {
    "duration": 730,
    "start_time": "2022-03-15T08:47:29.833Z"
   },
   {
    "duration": 426,
    "start_time": "2022-03-15T08:47:30.574Z"
   },
   {
    "duration": 13,
    "start_time": "2022-03-15T08:48:30.927Z"
   },
   {
    "duration": 12,
    "start_time": "2022-03-15T08:48:41.529Z"
   },
   {
    "duration": 12,
    "start_time": "2022-03-15T08:48:54.623Z"
   },
   {
    "duration": 861,
    "start_time": "2022-03-15T08:49:08.986Z"
   },
   {
    "duration": 657,
    "start_time": "2022-03-15T08:49:24.831Z"
   },
   {
    "duration": 173,
    "start_time": "2022-03-15T08:51:21.893Z"
   },
   {
    "duration": 314,
    "start_time": "2022-03-15T08:51:30.662Z"
   },
   {
    "duration": 258,
    "start_time": "2022-03-15T08:51:51.822Z"
   },
   {
    "duration": 289,
    "start_time": "2022-03-15T08:52:18.881Z"
   },
   {
    "duration": 1059,
    "start_time": "2022-03-15T08:52:34.994Z"
   },
   {
    "duration": 3805,
    "start_time": "2022-03-15T08:52:47.799Z"
   },
   {
    "duration": 3629,
    "start_time": "2022-03-15T08:53:39.251Z"
   },
   {
    "duration": 4297,
    "start_time": "2022-03-15T08:54:00.842Z"
   },
   {
    "duration": 31,
    "start_time": "2022-03-15T08:54:43.894Z"
   },
   {
    "duration": 37,
    "start_time": "2022-03-15T08:54:57.286Z"
   },
   {
    "duration": 9382,
    "start_time": "2022-03-15T08:55:27.779Z"
   },
   {
    "duration": 8462,
    "start_time": "2022-03-15T08:55:51.071Z"
   },
   {
    "duration": 444,
    "start_time": "2022-03-15T08:57:12.597Z"
   },
   {
    "duration": 334,
    "start_time": "2022-03-15T08:57:22.599Z"
   },
   {
    "duration": 345,
    "start_time": "2022-03-15T08:57:54.844Z"
   },
   {
    "duration": 12,
    "start_time": "2022-03-15T08:58:04.885Z"
   },
   {
    "duration": 14,
    "start_time": "2022-03-15T08:58:17.157Z"
   },
   {
    "duration": 569,
    "start_time": "2022-03-15T08:59:54.365Z"
   },
   {
    "duration": 666,
    "start_time": "2022-03-15T09:00:04.843Z"
   },
   {
    "duration": 25,
    "start_time": "2022-03-15T09:00:45.674Z"
   },
   {
    "duration": 18,
    "start_time": "2022-03-15T09:00:56.990Z"
   },
   {
    "duration": 5,
    "start_time": "2022-03-15T09:01:02.778Z"
   },
   {
    "duration": 4,
    "start_time": "2022-03-15T09:01:13.189Z"
   },
   {
    "duration": 570,
    "start_time": "2022-03-15T09:01:29.982Z"
   },
   {
    "duration": 626,
    "start_time": "2022-03-15T09:01:38.789Z"
   },
   {
    "duration": 417,
    "start_time": "2022-03-15T09:01:40.603Z"
   },
   {
    "duration": 419,
    "start_time": "2022-03-15T09:01:50.881Z"
   },
   {
    "duration": 618,
    "start_time": "2022-03-15T09:01:54.889Z"
   },
   {
    "duration": 652,
    "start_time": "2022-03-15T09:02:03.277Z"
   },
   {
    "duration": 436,
    "start_time": "2022-03-15T09:02:06.069Z"
   },
   {
    "duration": 441,
    "start_time": "2022-03-15T09:02:23.092Z"
   },
   {
    "duration": 8,
    "start_time": "2022-03-15T09:03:12.780Z"
   },
   {
    "duration": 6,
    "start_time": "2022-03-15T09:03:20.501Z"
   },
   {
    "duration": 12,
    "start_time": "2022-03-15T09:03:23.184Z"
   },
   {
    "duration": 460,
    "start_time": "2022-03-15T09:03:29.766Z"
   },
   {
    "duration": 450,
    "start_time": "2022-03-15T09:03:37.202Z"
   },
   {
    "duration": 7756,
    "start_time": "2022-03-15T09:03:53.668Z"
   },
   {
    "duration": 7,
    "start_time": "2022-03-15T09:04:24.761Z"
   },
   {
    "duration": 6,
    "start_time": "2022-03-15T09:04:34.365Z"
   },
   {
    "duration": 8005,
    "start_time": "2022-03-15T09:04:36.187Z"
   },
   {
    "duration": 433,
    "start_time": "2022-03-15T09:04:48.987Z"
   },
   {
    "duration": 418,
    "start_time": "2022-03-15T09:05:00.697Z"
   },
   {
    "duration": 339,
    "start_time": "2022-03-15T09:05:39.930Z"
   },
   {
    "duration": 373,
    "start_time": "2022-03-15T09:05:58.347Z"
   },
   {
    "duration": 17,
    "start_time": "2022-03-15T09:06:06.221Z"
   },
   {
    "duration": 19,
    "start_time": "2022-03-15T09:06:18.159Z"
   },
   {
    "duration": 118,
    "start_time": "2022-03-15T09:07:12.471Z"
   },
   {
    "duration": 335,
    "start_time": "2022-03-15T09:07:42.926Z"
   },
   {
    "duration": 23,
    "start_time": "2022-03-15T09:08:03.682Z"
   },
   {
    "duration": 18,
    "start_time": "2022-03-15T09:08:15.024Z"
   },
   {
    "duration": 2467,
    "start_time": "2022-03-15T09:08:19.398Z"
   },
   {
    "duration": 2294,
    "start_time": "2022-03-15T09:08:27.738Z"
   },
   {
    "duration": 2720,
    "start_time": "2022-03-15T09:08:41.000Z"
   },
   {
    "duration": 1715,
    "start_time": "2022-03-18T02:02:27.230Z"
   },
   {
    "duration": 149,
    "start_time": "2022-03-18T02:02:28.948Z"
   },
   {
    "duration": 117,
    "start_time": "2022-03-18T02:02:29.099Z"
   },
   {
    "duration": 23,
    "start_time": "2022-03-18T02:02:29.219Z"
   },
   {
    "duration": 30,
    "start_time": "2022-03-18T02:02:29.244Z"
   },
   {
    "duration": 15,
    "start_time": "2022-03-18T02:02:29.276Z"
   },
   {
    "duration": 9,
    "start_time": "2022-03-18T02:02:29.293Z"
   },
   {
    "duration": 421,
    "start_time": "2022-03-18T02:02:29.304Z"
   },
   {
    "duration": 14,
    "start_time": "2022-03-18T02:02:29.728Z"
   },
   {
    "duration": 47,
    "start_time": "2022-03-18T02:02:29.748Z"
   },
   {
    "duration": 5,
    "start_time": "2022-03-18T02:02:29.797Z"
   },
   {
    "duration": 7,
    "start_time": "2022-03-18T02:02:29.805Z"
   },
   {
    "duration": 497,
    "start_time": "2022-03-18T02:02:29.814Z"
   },
   {
    "duration": 9,
    "start_time": "2022-03-18T02:02:30.313Z"
   },
   {
    "duration": 15,
    "start_time": "2022-03-18T02:02:30.324Z"
   },
   {
    "duration": 25,
    "start_time": "2022-03-18T02:02:30.342Z"
   },
   {
    "duration": 5,
    "start_time": "2022-03-18T02:02:30.370Z"
   },
   {
    "duration": 9,
    "start_time": "2022-03-18T02:02:30.377Z"
   },
   {
    "duration": 5,
    "start_time": "2022-03-18T02:02:30.388Z"
   },
   {
    "duration": 7,
    "start_time": "2022-03-18T02:02:30.395Z"
   },
   {
    "duration": 8,
    "start_time": "2022-03-18T02:02:30.404Z"
   },
   {
    "duration": 429,
    "start_time": "2022-03-18T02:02:30.414Z"
   },
   {
    "duration": 29,
    "start_time": "2022-03-18T02:02:30.846Z"
   },
   {
    "duration": 18,
    "start_time": "2022-03-18T02:02:30.878Z"
   },
   {
    "duration": 16,
    "start_time": "2022-03-18T02:02:30.898Z"
   },
   {
    "duration": 13,
    "start_time": "2022-03-18T02:02:30.916Z"
   },
   {
    "duration": 23,
    "start_time": "2022-03-18T02:02:30.931Z"
   },
   {
    "duration": 9,
    "start_time": "2022-03-18T02:02:30.969Z"
   },
   {
    "duration": 23,
    "start_time": "2022-03-18T02:02:30.980Z"
   },
   {
    "duration": 8,
    "start_time": "2022-03-18T02:02:31.005Z"
   },
   {
    "duration": 452,
    "start_time": "2022-03-18T02:02:31.015Z"
   },
   {
    "duration": 5,
    "start_time": "2022-03-18T02:02:31.470Z"
   },
   {
    "duration": 11,
    "start_time": "2022-03-18T02:02:31.477Z"
   },
   {
    "duration": 43,
    "start_time": "2022-03-18T02:02:31.490Z"
   },
   {
    "duration": 55,
    "start_time": "2022-03-18T02:02:31.535Z"
   },
   {
    "duration": 85,
    "start_time": "2022-03-18T02:02:31.592Z"
   },
   {
    "duration": 4,
    "start_time": "2022-03-18T02:02:31.680Z"
   },
   {
    "duration": 6,
    "start_time": "2022-03-18T02:02:31.687Z"
   },
   {
    "duration": 310,
    "start_time": "2022-03-18T02:02:31.695Z"
   },
   {
    "duration": 173,
    "start_time": "2022-03-18T02:02:32.008Z"
   },
   {
    "duration": 13,
    "start_time": "2022-03-18T02:02:32.184Z"
   },
   {
    "duration": 322,
    "start_time": "2022-03-18T02:02:32.199Z"
   },
   {
    "duration": 189,
    "start_time": "2022-03-18T02:02:32.524Z"
   },
   {
    "duration": 51,
    "start_time": "2022-03-18T02:02:32.716Z"
   },
   {
    "duration": 11,
    "start_time": "2022-03-18T02:02:32.770Z"
   },
   {
    "duration": 361,
    "start_time": "2022-03-18T02:02:32.784Z"
   },
   {
    "duration": 164,
    "start_time": "2022-03-18T02:02:33.148Z"
   },
   {
    "duration": 13,
    "start_time": "2022-03-18T02:02:33.315Z"
   },
   {
    "duration": 293,
    "start_time": "2022-03-18T02:02:33.330Z"
   },
   {
    "duration": 188,
    "start_time": "2022-03-18T02:02:33.625Z"
   },
   {
    "duration": 12,
    "start_time": "2022-03-18T02:02:33.815Z"
   },
   {
    "duration": 315,
    "start_time": "2022-03-18T02:02:33.829Z"
   },
   {
    "duration": 180,
    "start_time": "2022-03-18T02:02:34.146Z"
   },
   {
    "duration": 10,
    "start_time": "2022-03-18T02:02:34.328Z"
   },
   {
    "duration": 36,
    "start_time": "2022-03-18T02:02:34.341Z"
   },
   {
    "duration": 4,
    "start_time": "2022-03-18T02:02:34.379Z"
   },
   {
    "duration": 32,
    "start_time": "2022-03-18T02:02:34.385Z"
   },
   {
    "duration": 255,
    "start_time": "2022-03-18T02:02:34.420Z"
   },
   {
    "duration": 275,
    "start_time": "2022-03-18T02:02:34.677Z"
   },
   {
    "duration": 13,
    "start_time": "2022-03-18T02:02:34.954Z"
   },
   {
    "duration": 257,
    "start_time": "2022-03-18T02:02:34.969Z"
   },
   {
    "duration": 203,
    "start_time": "2022-03-18T02:02:35.228Z"
   },
   {
    "duration": 4206,
    "start_time": "2022-03-18T02:02:35.433Z"
   },
   {
    "duration": 45,
    "start_time": "2022-03-18T02:02:39.641Z"
   },
   {
    "duration": 2325,
    "start_time": "2022-03-18T02:02:39.688Z"
   },
   {
    "duration": 536,
    "start_time": "2022-03-18T02:02:42.016Z"
   },
   {
    "duration": 16,
    "start_time": "2022-03-18T02:02:42.554Z"
   },
   {
    "duration": 447,
    "start_time": "2022-03-18T02:02:42.572Z"
   },
   {
    "duration": 21,
    "start_time": "2022-03-18T02:02:43.021Z"
   },
   {
    "duration": 4,
    "start_time": "2022-03-18T02:02:43.045Z"
   },
   {
    "duration": 293,
    "start_time": "2022-03-18T02:02:43.051Z"
   },
   {
    "duration": 293,
    "start_time": "2022-03-18T02:02:43.347Z"
   },
   {
    "duration": 282,
    "start_time": "2022-03-18T02:02:43.642Z"
   },
   {
    "duration": 407,
    "start_time": "2022-03-18T02:02:43.926Z"
   },
   {
    "duration": 6,
    "start_time": "2022-03-18T02:02:44.335Z"
   },
   {
    "duration": 232,
    "start_time": "2022-03-18T02:02:44.343Z"
   },
   {
    "duration": 7,
    "start_time": "2022-03-18T02:02:44.577Z"
   },
   {
    "duration": 259,
    "start_time": "2022-03-18T02:02:44.586Z"
   },
   {
    "duration": 26,
    "start_time": "2022-03-18T02:02:44.847Z"
   },
   {
    "duration": 28,
    "start_time": "2022-03-18T02:02:44.875Z"
   },
   {
    "duration": 1246,
    "start_time": "2022-03-18T02:02:44.906Z"
   },
   {
    "duration": 213,
    "start_time": "2022-03-18T02:10:48.128Z"
   },
   {
    "duration": 28,
    "start_time": "2022-03-18T02:11:56.189Z"
   },
   {
    "duration": 4,
    "start_time": "2022-03-18T02:25:18.983Z"
   },
   {
    "duration": 140,
    "start_time": "2022-03-18T02:25:18.989Z"
   },
   {
    "duration": 150,
    "start_time": "2022-03-18T02:25:19.132Z"
   },
   {
    "duration": 22,
    "start_time": "2022-03-18T02:25:19.285Z"
   },
   {
    "duration": 10,
    "start_time": "2022-03-18T02:25:19.311Z"
   },
   {
    "duration": 52,
    "start_time": "2022-03-18T02:25:19.324Z"
   },
   {
    "duration": 8,
    "start_time": "2022-03-18T02:25:19.379Z"
   },
   {
    "duration": 396,
    "start_time": "2022-03-18T02:25:19.389Z"
   },
   {
    "duration": 12,
    "start_time": "2022-03-18T02:25:19.787Z"
   },
   {
    "duration": 31,
    "start_time": "2022-03-18T02:25:19.802Z"
   },
   {
    "duration": 36,
    "start_time": "2022-03-18T02:25:19.838Z"
   },
   {
    "duration": 10,
    "start_time": "2022-03-18T02:25:19.876Z"
   },
   {
    "duration": 385,
    "start_time": "2022-03-18T02:25:19.889Z"
   },
   {
    "duration": 10,
    "start_time": "2022-03-18T02:25:20.277Z"
   },
   {
    "duration": 12,
    "start_time": "2022-03-18T02:25:20.290Z"
   },
   {
    "duration": 6,
    "start_time": "2022-03-18T02:25:20.305Z"
   },
   {
    "duration": 6,
    "start_time": "2022-03-18T02:25:20.314Z"
   },
   {
    "duration": 50,
    "start_time": "2022-03-18T02:25:20.323Z"
   },
   {
    "duration": 7,
    "start_time": "2022-03-18T02:25:20.376Z"
   },
   {
    "duration": 7,
    "start_time": "2022-03-18T02:25:20.385Z"
   },
   {
    "duration": 5,
    "start_time": "2022-03-18T02:25:20.395Z"
   },
   {
    "duration": 432,
    "start_time": "2022-03-18T02:25:20.403Z"
   },
   {
    "duration": 19,
    "start_time": "2022-03-18T02:25:20.837Z"
   },
   {
    "duration": 12,
    "start_time": "2022-03-18T02:25:20.867Z"
   },
   {
    "duration": 8,
    "start_time": "2022-03-18T02:25:20.882Z"
   },
   {
    "duration": 6,
    "start_time": "2022-03-18T02:25:20.892Z"
   },
   {
    "duration": 21,
    "start_time": "2022-03-18T02:25:20.900Z"
   },
   {
    "duration": 48,
    "start_time": "2022-03-18T02:25:20.923Z"
   },
   {
    "duration": 17,
    "start_time": "2022-03-18T02:25:20.977Z"
   },
   {
    "duration": 4,
    "start_time": "2022-03-18T02:25:20.996Z"
   },
   {
    "duration": 447,
    "start_time": "2022-03-18T02:25:21.002Z"
   },
   {
    "duration": 6,
    "start_time": "2022-03-18T02:25:21.451Z"
   },
   {
    "duration": 12,
    "start_time": "2022-03-18T02:25:21.459Z"
   },
   {
    "duration": 42,
    "start_time": "2022-03-18T02:25:21.474Z"
   },
   {
    "duration": 72,
    "start_time": "2022-03-18T02:25:21.519Z"
   },
   {
    "duration": 83,
    "start_time": "2022-03-18T02:25:21.594Z"
   },
   {
    "duration": 4,
    "start_time": "2022-03-18T02:25:21.680Z"
   },
   {
    "duration": 4,
    "start_time": "2022-03-18T02:25:21.688Z"
   },
   {
    "duration": 294,
    "start_time": "2022-03-18T02:25:21.694Z"
   },
   {
    "duration": 181,
    "start_time": "2022-03-18T02:25:21.990Z"
   },
   {
    "duration": 13,
    "start_time": "2022-03-18T02:25:22.173Z"
   },
   {
    "duration": 314,
    "start_time": "2022-03-18T02:25:22.188Z"
   },
   {
    "duration": 192,
    "start_time": "2022-03-18T02:25:22.504Z"
   },
   {
    "duration": 36,
    "start_time": "2022-03-18T02:25:22.698Z"
   },
   {
    "duration": 33,
    "start_time": "2022-03-18T02:25:22.736Z"
   },
   {
    "duration": 348,
    "start_time": "2022-03-18T02:25:22.771Z"
   },
   {
    "duration": 173,
    "start_time": "2022-03-18T02:25:23.121Z"
   },
   {
    "duration": 12,
    "start_time": "2022-03-18T02:25:23.296Z"
   },
   {
    "duration": 283,
    "start_time": "2022-03-18T02:25:23.310Z"
   },
   {
    "duration": 186,
    "start_time": "2022-03-18T02:25:23.595Z"
   },
   {
    "duration": 11,
    "start_time": "2022-03-18T02:25:23.784Z"
   },
   {
    "duration": 312,
    "start_time": "2022-03-18T02:25:23.797Z"
   },
   {
    "duration": 186,
    "start_time": "2022-03-18T02:25:24.111Z"
   },
   {
    "duration": 11,
    "start_time": "2022-03-18T02:25:24.299Z"
   },
   {
    "duration": 12,
    "start_time": "2022-03-18T02:25:24.312Z"
   },
   {
    "duration": 4,
    "start_time": "2022-03-18T02:25:24.326Z"
   },
   {
    "duration": 60,
    "start_time": "2022-03-18T02:25:24.332Z"
   },
   {
    "duration": 244,
    "start_time": "2022-03-18T02:25:24.394Z"
   },
   {
    "duration": 258,
    "start_time": "2022-03-18T02:25:24.640Z"
   },
   {
    "duration": 13,
    "start_time": "2022-03-18T02:25:24.900Z"
   },
   {
    "duration": 261,
    "start_time": "2022-03-18T02:25:24.915Z"
   },
   {
    "duration": 229,
    "start_time": "2022-03-18T02:25:25.178Z"
   },
   {
    "duration": 4149,
    "start_time": "2022-03-18T02:25:25.409Z"
   },
   {
    "duration": 29,
    "start_time": "2022-03-18T02:25:29.567Z"
   },
   {
    "duration": 2387,
    "start_time": "2022-03-18T02:25:29.599Z"
   },
   {
    "duration": 524,
    "start_time": "2022-03-18T02:25:31.989Z"
   },
   {
    "duration": 12,
    "start_time": "2022-03-18T02:25:32.516Z"
   },
   {
    "duration": 459,
    "start_time": "2022-03-18T02:25:32.531Z"
   },
   {
    "duration": 22,
    "start_time": "2022-03-18T02:25:32.993Z"
   },
   {
    "duration": 4,
    "start_time": "2022-03-18T02:25:33.018Z"
   },
   {
    "duration": 298,
    "start_time": "2022-03-18T02:25:33.025Z"
   },
   {
    "duration": 298,
    "start_time": "2022-03-18T02:25:33.326Z"
   },
   {
    "duration": 291,
    "start_time": "2022-03-18T02:25:33.627Z"
   },
   {
    "duration": 407,
    "start_time": "2022-03-18T02:25:33.922Z"
   },
   {
    "duration": 6,
    "start_time": "2022-03-18T02:25:34.331Z"
   },
   {
    "duration": 231,
    "start_time": "2022-03-18T02:25:34.339Z"
   },
   {
    "duration": 5,
    "start_time": "2022-03-18T02:25:34.572Z"
   },
   {
    "duration": 242,
    "start_time": "2022-03-18T02:25:34.579Z"
   },
   {
    "duration": 16,
    "start_time": "2022-03-18T02:25:34.823Z"
   },
   {
    "duration": 34,
    "start_time": "2022-03-18T02:25:34.841Z"
   },
   {
    "duration": 1250,
    "start_time": "2022-03-18T02:25:34.878Z"
   },
   {
    "duration": 1307,
    "start_time": "2022-03-28T15:43:57.425Z"
   },
   {
    "duration": 101,
    "start_time": "2022-03-28T15:43:58.735Z"
   },
   {
    "duration": 69,
    "start_time": "2022-03-28T15:43:58.838Z"
   },
   {
    "duration": 36,
    "start_time": "2022-03-28T15:43:58.908Z"
   },
   {
    "duration": 7,
    "start_time": "2022-03-28T15:43:58.946Z"
   },
   {
    "duration": 13,
    "start_time": "2022-03-28T15:43:58.955Z"
   },
   {
    "duration": 7,
    "start_time": "2022-03-28T15:43:58.969Z"
   },
   {
    "duration": 244,
    "start_time": "2022-03-28T15:43:58.977Z"
   },
   {
    "duration": 10,
    "start_time": "2022-03-28T15:43:59.223Z"
   },
   {
    "duration": 21,
    "start_time": "2022-03-28T15:43:59.235Z"
   },
   {
    "duration": 6,
    "start_time": "2022-03-28T15:43:59.258Z"
   },
   {
    "duration": 4,
    "start_time": "2022-03-28T15:43:59.266Z"
   },
   {
    "duration": 247,
    "start_time": "2022-03-28T15:43:59.272Z"
   },
   {
    "duration": 10,
    "start_time": "2022-03-28T15:43:59.523Z"
   },
   {
    "duration": 9,
    "start_time": "2022-03-28T15:43:59.535Z"
   },
   {
    "duration": 12,
    "start_time": "2022-03-28T15:43:59.545Z"
   },
   {
    "duration": 5,
    "start_time": "2022-03-28T15:43:59.559Z"
   },
   {
    "duration": 8,
    "start_time": "2022-03-28T15:43:59.566Z"
   },
   {
    "duration": 7,
    "start_time": "2022-03-28T15:43:59.576Z"
   },
   {
    "duration": 5,
    "start_time": "2022-03-28T15:43:59.584Z"
   },
   {
    "duration": 6,
    "start_time": "2022-03-28T15:43:59.591Z"
   },
   {
    "duration": 247,
    "start_time": "2022-03-28T15:43:59.598Z"
   },
   {
    "duration": 12,
    "start_time": "2022-03-28T15:43:59.847Z"
   },
   {
    "duration": 9,
    "start_time": "2022-03-28T15:43:59.860Z"
   },
   {
    "duration": 7,
    "start_time": "2022-03-28T15:43:59.871Z"
   },
   {
    "duration": 8,
    "start_time": "2022-03-28T15:43:59.880Z"
   },
   {
    "duration": 14,
    "start_time": "2022-03-28T15:43:59.890Z"
   },
   {
    "duration": 31,
    "start_time": "2022-03-28T15:43:59.907Z"
   },
   {
    "duration": 19,
    "start_time": "2022-03-28T15:43:59.939Z"
   },
   {
    "duration": 6,
    "start_time": "2022-03-28T15:43:59.960Z"
   },
   {
    "duration": 275,
    "start_time": "2022-03-28T15:43:59.967Z"
   },
   {
    "duration": 3,
    "start_time": "2022-03-28T15:44:00.244Z"
   },
   {
    "duration": 17,
    "start_time": "2022-03-28T15:44:00.249Z"
   },
   {
    "duration": 49,
    "start_time": "2022-03-28T15:44:00.267Z"
   },
   {
    "duration": 42,
    "start_time": "2022-03-28T15:44:00.318Z"
   },
   {
    "duration": 55,
    "start_time": "2022-03-28T15:44:00.362Z"
   },
   {
    "duration": 3,
    "start_time": "2022-03-28T15:44:00.419Z"
   },
   {
    "duration": 28,
    "start_time": "2022-03-28T15:44:00.423Z"
   },
   {
    "duration": 186,
    "start_time": "2022-03-28T15:44:00.453Z"
   },
   {
    "duration": 105,
    "start_time": "2022-03-28T15:44:00.640Z"
   },
   {
    "duration": 8,
    "start_time": "2022-03-28T15:44:00.750Z"
   },
   {
    "duration": 189,
    "start_time": "2022-03-28T15:44:00.759Z"
   },
   {
    "duration": 119,
    "start_time": "2022-03-28T15:44:00.949Z"
   },
   {
    "duration": 24,
    "start_time": "2022-03-28T15:44:01.069Z"
   },
   {
    "duration": 13,
    "start_time": "2022-03-28T15:44:01.095Z"
   },
   {
    "duration": 244,
    "start_time": "2022-03-28T15:44:01.110Z"
   },
   {
    "duration": 105,
    "start_time": "2022-03-28T15:44:01.356Z"
   },
   {
    "duration": 9,
    "start_time": "2022-03-28T15:44:01.463Z"
   },
   {
    "duration": 172,
    "start_time": "2022-03-28T15:44:01.474Z"
   },
   {
    "duration": 117,
    "start_time": "2022-03-28T15:44:01.648Z"
   },
   {
    "duration": 10,
    "start_time": "2022-03-28T15:44:01.766Z"
   },
   {
    "duration": 181,
    "start_time": "2022-03-28T15:44:01.777Z"
   },
   {
    "duration": 125,
    "start_time": "2022-03-28T15:44:01.959Z"
   },
   {
    "duration": 7,
    "start_time": "2022-03-28T15:44:02.086Z"
   },
   {
    "duration": 30,
    "start_time": "2022-03-28T15:44:02.095Z"
   },
   {
    "duration": 16,
    "start_time": "2022-03-28T15:44:02.127Z"
   },
   {
    "duration": 27,
    "start_time": "2022-03-28T15:44:02.145Z"
   },
   {
    "duration": 136,
    "start_time": "2022-03-28T15:44:02.174Z"
   },
   {
    "duration": 181,
    "start_time": "2022-03-28T15:44:02.312Z"
   },
   {
    "duration": 11,
    "start_time": "2022-03-28T15:44:02.496Z"
   },
   {
    "duration": 154,
    "start_time": "2022-03-28T15:44:02.508Z"
   },
   {
    "duration": 183,
    "start_time": "2022-03-28T15:44:02.664Z"
   },
   {
    "duration": 2607,
    "start_time": "2022-03-28T15:44:02.849Z"
   },
   {
    "duration": 19,
    "start_time": "2022-03-28T15:44:05.458Z"
   },
   {
    "duration": 1436,
    "start_time": "2022-03-28T15:44:05.478Z"
   },
   {
    "duration": 322,
    "start_time": "2022-03-28T15:44:06.916Z"
   },
   {
    "duration": 8,
    "start_time": "2022-03-28T15:44:07.240Z"
   },
   {
    "duration": 279,
    "start_time": "2022-03-28T15:44:07.250Z"
   },
   {
    "duration": 14,
    "start_time": "2022-03-28T15:44:07.532Z"
   },
   {
    "duration": 2,
    "start_time": "2022-03-28T15:44:07.548Z"
   },
   {
    "duration": 173,
    "start_time": "2022-03-28T15:44:07.552Z"
   },
   {
    "duration": 161,
    "start_time": "2022-03-28T15:44:07.733Z"
   },
   {
    "duration": 155,
    "start_time": "2022-03-28T15:44:07.896Z"
   },
   {
    "duration": 281,
    "start_time": "2022-03-28T15:44:08.053Z"
   },
   {
    "duration": 4,
    "start_time": "2022-03-28T15:44:08.336Z"
   },
   {
    "duration": 138,
    "start_time": "2022-03-28T15:44:08.341Z"
   },
   {
    "duration": 4,
    "start_time": "2022-03-28T15:44:08.481Z"
   },
   {
    "duration": 164,
    "start_time": "2022-03-28T15:44:08.486Z"
   },
   {
    "duration": 11,
    "start_time": "2022-03-28T15:44:08.652Z"
   },
   {
    "duration": 15,
    "start_time": "2022-03-28T15:44:08.665Z"
   },
   {
    "duration": 865,
    "start_time": "2022-03-28T15:44:08.681Z"
   },
   {
    "duration": 31,
    "start_time": "2022-03-28T15:44:17.076Z"
   },
   {
    "duration": 17,
    "start_time": "2022-03-28T15:48:28.105Z"
   },
   {
    "duration": 7,
    "start_time": "2022-03-28T15:59:23.271Z"
   },
   {
    "duration": 8,
    "start_time": "2022-03-28T15:59:38.484Z"
   },
   {
    "duration": 68,
    "start_time": "2022-03-28T16:06:23.641Z"
   },
   {
    "duration": 4,
    "start_time": "2022-03-28T16:06:31.131Z"
   },
   {
    "duration": 208,
    "start_time": "2022-03-28T16:13:02.184Z"
   },
   {
    "duration": 179,
    "start_time": "2022-03-28T16:25:14.024Z"
   },
   {
    "duration": 130,
    "start_time": "2022-03-28T16:38:26.965Z"
   },
   {
    "duration": 126,
    "start_time": "2022-03-28T16:38:38.196Z"
   },
   {
    "duration": 136,
    "start_time": "2022-03-28T16:39:23.643Z"
   },
   {
    "duration": 126,
    "start_time": "2022-03-28T16:39:27.806Z"
   },
   {
    "duration": 1489,
    "start_time": "2022-03-28T17:08:18.042Z"
   },
   {
    "duration": 161,
    "start_time": "2022-03-28T17:08:19.533Z"
   },
   {
    "duration": 105,
    "start_time": "2022-03-28T17:08:19.696Z"
   },
   {
    "duration": 21,
    "start_time": "2022-03-28T17:08:19.803Z"
   },
   {
    "duration": 21,
    "start_time": "2022-03-28T17:08:19.828Z"
   },
   {
    "duration": 26,
    "start_time": "2022-03-28T17:08:19.851Z"
   },
   {
    "duration": 11,
    "start_time": "2022-03-28T17:08:19.880Z"
   },
   {
    "duration": 399,
    "start_time": "2022-03-28T17:08:19.893Z"
   },
   {
    "duration": 11,
    "start_time": "2022-03-28T17:08:20.295Z"
   },
   {
    "duration": 48,
    "start_time": "2022-03-28T17:08:20.308Z"
   },
   {
    "duration": 6,
    "start_time": "2022-03-28T17:08:20.358Z"
   },
   {
    "duration": 19,
    "start_time": "2022-03-28T17:08:20.366Z"
   },
   {
    "duration": 397,
    "start_time": "2022-03-28T17:08:20.388Z"
   },
   {
    "duration": 9,
    "start_time": "2022-03-28T17:08:20.792Z"
   },
   {
    "duration": 28,
    "start_time": "2022-03-28T17:08:20.804Z"
   },
   {
    "duration": 11,
    "start_time": "2022-03-28T17:08:20.834Z"
   },
   {
    "duration": 5,
    "start_time": "2022-03-28T17:08:20.847Z"
   },
   {
    "duration": 32,
    "start_time": "2022-03-28T17:08:20.854Z"
   },
   {
    "duration": 9,
    "start_time": "2022-03-28T17:08:20.888Z"
   },
   {
    "duration": 15,
    "start_time": "2022-03-28T17:08:20.899Z"
   },
   {
    "duration": 15,
    "start_time": "2022-03-28T17:08:20.916Z"
   },
   {
    "duration": 395,
    "start_time": "2022-03-28T17:08:20.933Z"
   },
   {
    "duration": 22,
    "start_time": "2022-03-28T17:08:21.331Z"
   },
   {
    "duration": 22,
    "start_time": "2022-03-28T17:08:21.355Z"
   },
   {
    "duration": 10,
    "start_time": "2022-03-28T17:08:21.379Z"
   },
   {
    "duration": 5,
    "start_time": "2022-03-28T17:08:21.391Z"
   },
   {
    "duration": 32,
    "start_time": "2022-03-28T17:08:21.398Z"
   },
   {
    "duration": 15,
    "start_time": "2022-03-28T17:08:21.433Z"
   },
   {
    "duration": 38,
    "start_time": "2022-03-28T17:08:21.451Z"
   },
   {
    "duration": 5,
    "start_time": "2022-03-28T17:08:21.492Z"
   },
   {
    "duration": 446,
    "start_time": "2022-03-28T17:08:21.499Z"
   },
   {
    "duration": 5,
    "start_time": "2022-03-28T17:08:21.947Z"
   },
   {
    "duration": 15,
    "start_time": "2022-03-28T17:08:21.955Z"
   },
   {
    "duration": 62,
    "start_time": "2022-03-28T17:08:21.973Z"
   },
   {
    "duration": 36,
    "start_time": "2022-03-28T17:08:22.038Z"
   },
   {
    "duration": 85,
    "start_time": "2022-03-28T17:08:22.076Z"
   },
   {
    "duration": 4,
    "start_time": "2022-03-28T17:08:22.163Z"
   },
   {
    "duration": 22,
    "start_time": "2022-03-28T17:08:22.170Z"
   },
   {
    "duration": 308,
    "start_time": "2022-03-28T17:08:22.194Z"
   },
   {
    "duration": 192,
    "start_time": "2022-03-28T17:08:22.504Z"
   },
   {
    "duration": 13,
    "start_time": "2022-03-28T17:08:22.703Z"
   },
   {
    "duration": 329,
    "start_time": "2022-03-28T17:08:22.718Z"
   },
   {
    "duration": 194,
    "start_time": "2022-03-28T17:08:23.049Z"
   },
   {
    "duration": 36,
    "start_time": "2022-03-28T17:08:23.246Z"
   },
   {
    "duration": 10,
    "start_time": "2022-03-28T17:08:23.284Z"
   },
   {
    "duration": 378,
    "start_time": "2022-03-28T17:08:23.297Z"
   },
   {
    "duration": 178,
    "start_time": "2022-03-28T17:08:23.677Z"
   },
   {
    "duration": 14,
    "start_time": "2022-03-28T17:08:23.858Z"
   },
   {
    "duration": 318,
    "start_time": "2022-03-28T17:08:23.874Z"
   },
   {
    "duration": 202,
    "start_time": "2022-03-28T17:08:24.195Z"
   },
   {
    "duration": 13,
    "start_time": "2022-03-28T17:08:24.399Z"
   },
   {
    "duration": 324,
    "start_time": "2022-03-28T17:08:24.414Z"
   },
   {
    "duration": 187,
    "start_time": "2022-03-28T17:08:24.744Z"
   },
   {
    "duration": 21,
    "start_time": "2022-03-28T17:08:24.933Z"
   },
   {
    "duration": 35,
    "start_time": "2022-03-28T17:08:24.958Z"
   },
   {
    "duration": 28,
    "start_time": "2022-03-28T17:08:24.995Z"
   },
   {
    "duration": 64,
    "start_time": "2022-03-28T17:08:25.026Z"
   },
   {
    "duration": 258,
    "start_time": "2022-03-28T17:08:25.092Z"
   },
   {
    "duration": 299,
    "start_time": "2022-03-28T17:08:25.352Z"
   },
   {
    "duration": 14,
    "start_time": "2022-03-28T17:08:25.655Z"
   },
   {
    "duration": 311,
    "start_time": "2022-03-28T17:08:25.671Z"
   },
   {
    "duration": 240,
    "start_time": "2022-03-28T17:08:25.984Z"
   },
   {
    "duration": 4797,
    "start_time": "2022-03-28T17:08:26.226Z"
   },
   {
    "duration": 44,
    "start_time": "2022-03-28T17:08:31.025Z"
   },
   {
    "duration": 2941,
    "start_time": "2022-03-28T17:08:31.071Z"
   },
   {
    "duration": 276,
    "start_time": "2022-03-28T17:08:34.015Z"
   },
   {
    "duration": 661,
    "start_time": "2022-03-28T17:08:34.294Z"
   },
   {
    "duration": 12,
    "start_time": "2022-03-28T17:08:34.958Z"
   },
   {
    "duration": 559,
    "start_time": "2022-03-28T17:08:34.972Z"
   },
   {
    "duration": 40,
    "start_time": "2022-03-28T17:08:35.535Z"
   },
   {
    "duration": 11,
    "start_time": "2022-03-28T17:08:35.578Z"
   },
   {
    "duration": 363,
    "start_time": "2022-03-28T17:08:35.591Z"
   },
   {
    "duration": 337,
    "start_time": "2022-03-28T17:08:35.956Z"
   },
   {
    "duration": 515,
    "start_time": "2022-03-28T17:08:36.296Z"
   },
   {
    "duration": 424,
    "start_time": "2022-03-28T17:08:36.814Z"
   },
   {
    "duration": 6,
    "start_time": "2022-03-28T17:08:37.244Z"
   },
   {
    "duration": 264,
    "start_time": "2022-03-28T17:08:37.253Z"
   },
   {
    "duration": 6,
    "start_time": "2022-03-28T17:08:37.519Z"
   },
   {
    "duration": 295,
    "start_time": "2022-03-28T17:08:37.543Z"
   },
   {
    "duration": 18,
    "start_time": "2022-03-28T17:08:37.843Z"
   },
   {
    "duration": 24,
    "start_time": "2022-03-28T17:08:37.863Z"
   },
   {
    "duration": 1421,
    "start_time": "2022-03-28T17:08:37.890Z"
   },
   {
    "duration": 229,
    "start_time": "2022-03-28T17:08:39.316Z"
   },
   {
    "duration": 300,
    "start_time": "2022-03-28T17:10:06.869Z"
   },
   {
    "duration": 213,
    "start_time": "2022-03-28T17:11:11.367Z"
   },
   {
    "duration": 71,
    "start_time": "2022-03-29T11:21:47.356Z"
   },
   {
    "duration": 2009,
    "start_time": "2022-03-29T11:21:59.759Z"
   },
   {
    "duration": 160,
    "start_time": "2022-03-29T11:22:01.772Z"
   },
   {
    "duration": 128,
    "start_time": "2022-03-29T11:22:01.935Z"
   },
   {
    "duration": 36,
    "start_time": "2022-03-29T11:22:02.066Z"
   },
   {
    "duration": 81,
    "start_time": "2022-03-29T11:22:02.108Z"
   },
   {
    "duration": 44,
    "start_time": "2022-03-29T11:22:02.191Z"
   },
   {
    "duration": 20,
    "start_time": "2022-03-29T11:22:02.238Z"
   },
   {
    "duration": 316,
    "start_time": "2022-03-29T11:22:02.260Z"
   },
   {
    "duration": 11,
    "start_time": "2022-03-29T11:22:02.579Z"
   },
   {
    "duration": 49,
    "start_time": "2022-03-29T11:22:02.594Z"
   },
   {
    "duration": 6,
    "start_time": "2022-03-29T11:22:02.645Z"
   },
   {
    "duration": 19,
    "start_time": "2022-03-29T11:22:02.653Z"
   },
   {
    "duration": 326,
    "start_time": "2022-03-29T11:22:02.674Z"
   },
   {
    "duration": 9,
    "start_time": "2022-03-29T11:22:03.003Z"
   },
   {
    "duration": 21,
    "start_time": "2022-03-29T11:22:03.015Z"
   },
   {
    "duration": 215,
    "start_time": "2022-03-29T11:22:03.039Z"
   },
   {
    "duration": 12,
    "start_time": "2022-03-29T11:22:03.257Z"
   },
   {
    "duration": 20,
    "start_time": "2022-03-29T11:22:03.272Z"
   },
   {
    "duration": 18,
    "start_time": "2022-03-29T11:22:03.294Z"
   },
   {
    "duration": 24,
    "start_time": "2022-03-29T11:22:03.314Z"
   },
   {
    "duration": 24,
    "start_time": "2022-03-29T11:22:03.340Z"
   },
   {
    "duration": 311,
    "start_time": "2022-03-29T11:22:03.366Z"
   },
   {
    "duration": 17,
    "start_time": "2022-03-29T11:22:03.679Z"
   },
   {
    "duration": 15,
    "start_time": "2022-03-29T11:22:03.698Z"
   },
   {
    "duration": 13,
    "start_time": "2022-03-29T11:22:03.715Z"
   },
   {
    "duration": 16,
    "start_time": "2022-03-29T11:22:03.730Z"
   },
   {
    "duration": 36,
    "start_time": "2022-03-29T11:22:03.749Z"
   },
   {
    "duration": 7,
    "start_time": "2022-03-29T11:22:03.792Z"
   },
   {
    "duration": 20,
    "start_time": "2022-03-29T11:22:03.802Z"
   },
   {
    "duration": 5,
    "start_time": "2022-03-29T11:22:03.824Z"
   },
   {
    "duration": 627,
    "start_time": "2022-03-29T11:22:03.832Z"
   },
   {
    "duration": 7,
    "start_time": "2022-03-29T11:22:04.461Z"
   },
   {
    "duration": 22,
    "start_time": "2022-03-29T11:22:04.470Z"
   },
   {
    "duration": 67,
    "start_time": "2022-03-29T11:22:04.495Z"
   },
   {
    "duration": 56,
    "start_time": "2022-03-29T11:22:04.565Z"
   },
   {
    "duration": 94,
    "start_time": "2022-03-29T11:22:04.624Z"
   },
   {
    "duration": 5,
    "start_time": "2022-03-29T11:22:04.721Z"
   },
   {
    "duration": 15,
    "start_time": "2022-03-29T11:22:04.729Z"
   },
   {
    "duration": 518,
    "start_time": "2022-03-29T11:22:04.746Z"
   },
   {
    "duration": 208,
    "start_time": "2022-03-29T11:22:05.267Z"
   },
   {
    "duration": 18,
    "start_time": "2022-03-29T11:22:05.477Z"
   },
   {
    "duration": 508,
    "start_time": "2022-03-29T11:22:05.498Z"
   },
   {
    "duration": 289,
    "start_time": "2022-03-29T11:22:06.009Z"
   },
   {
    "duration": 36,
    "start_time": "2022-03-29T11:22:06.301Z"
   },
   {
    "duration": 29,
    "start_time": "2022-03-29T11:22:06.340Z"
   },
   {
    "duration": 559,
    "start_time": "2022-03-29T11:22:06.372Z"
   },
   {
    "duration": 253,
    "start_time": "2022-03-29T11:22:06.934Z"
   },
   {
    "duration": 19,
    "start_time": "2022-03-29T11:22:07.190Z"
   },
   {
    "duration": 315,
    "start_time": "2022-03-29T11:22:07.212Z"
   },
   {
    "duration": 297,
    "start_time": "2022-03-29T11:22:07.529Z"
   },
   {
    "duration": 17,
    "start_time": "2022-03-29T11:22:07.829Z"
   },
   {
    "duration": 493,
    "start_time": "2022-03-29T11:22:07.849Z"
   },
   {
    "duration": 373,
    "start_time": "2022-03-29T11:22:08.345Z"
   },
   {
    "duration": 11,
    "start_time": "2022-03-29T11:22:08.721Z"
   },
   {
    "duration": 13,
    "start_time": "2022-03-29T11:22:08.734Z"
   },
   {
    "duration": 34,
    "start_time": "2022-03-29T11:22:08.750Z"
   },
   {
    "duration": 30,
    "start_time": "2022-03-29T11:22:08.787Z"
   },
   {
    "duration": 264,
    "start_time": "2022-03-29T11:22:08.820Z"
   },
   {
    "duration": 378,
    "start_time": "2022-03-29T11:22:09.087Z"
   },
   {
    "duration": 27,
    "start_time": "2022-03-29T11:22:09.468Z"
   },
   {
    "duration": 412,
    "start_time": "2022-03-29T11:22:09.498Z"
   },
   {
    "duration": 334,
    "start_time": "2022-03-29T11:22:09.913Z"
   },
   {
    "duration": 6727,
    "start_time": "2022-03-29T11:22:10.250Z"
   },
   {
    "duration": 41,
    "start_time": "2022-03-29T11:22:16.980Z"
   },
   {
    "duration": 4163,
    "start_time": "2022-03-29T11:22:17.024Z"
   },
   {
    "duration": 251,
    "start_time": "2022-03-29T11:22:21.190Z"
   },
   {
    "duration": 825,
    "start_time": "2022-03-29T11:22:21.444Z"
   },
   {
    "duration": 23,
    "start_time": "2022-03-29T11:22:22.271Z"
   },
   {
    "duration": 721,
    "start_time": "2022-03-29T11:22:22.297Z"
   },
   {
    "duration": 20,
    "start_time": "2022-03-29T11:22:23.020Z"
   },
   {
    "duration": 4,
    "start_time": "2022-03-29T11:22:23.042Z"
   },
   {
    "duration": 452,
    "start_time": "2022-03-29T11:22:23.048Z"
   },
   {
    "duration": 476,
    "start_time": "2022-03-29T11:22:23.503Z"
   },
   {
    "duration": 450,
    "start_time": "2022-03-29T11:22:23.985Z"
   },
   {
    "duration": 663,
    "start_time": "2022-03-29T11:22:24.437Z"
   },
   {
    "duration": 6,
    "start_time": "2022-03-29T11:22:25.103Z"
   },
   {
    "duration": 254,
    "start_time": "2022-03-29T11:22:25.111Z"
   },
   {
    "duration": 16,
    "start_time": "2022-03-29T11:22:25.368Z"
   },
   {
    "duration": 258,
    "start_time": "2022-03-29T11:22:25.386Z"
   },
   {
    "duration": 16,
    "start_time": "2022-03-29T11:22:25.647Z"
   },
   {
    "duration": 32,
    "start_time": "2022-03-29T11:22:25.666Z"
   },
   {
    "duration": 1371,
    "start_time": "2022-03-29T11:22:25.706Z"
   },
   {
    "duration": 231,
    "start_time": "2022-03-29T11:22:27.079Z"
   },
   {
    "duration": 9,
    "start_time": "2022-03-29T11:26:17.910Z"
   },
   {
    "duration": 5,
    "start_time": "2022-03-29T11:27:10.445Z"
   },
   {
    "duration": 254,
    "start_time": "2022-03-29T11:27:10.453Z"
   },
   {
    "duration": 209,
    "start_time": "2022-03-29T11:27:10.711Z"
   },
   {
    "duration": 64,
    "start_time": "2022-03-29T11:27:10.923Z"
   },
   {
    "duration": 17,
    "start_time": "2022-03-29T11:27:10.991Z"
   },
   {
    "duration": 16,
    "start_time": "2022-03-29T11:27:11.011Z"
   },
   {
    "duration": 11,
    "start_time": "2022-03-29T11:27:11.029Z"
   },
   {
    "duration": 447,
    "start_time": "2022-03-29T11:27:11.042Z"
   },
   {
    "duration": 11,
    "start_time": "2022-03-29T11:27:11.501Z"
   },
   {
    "duration": 36,
    "start_time": "2022-03-29T11:27:11.515Z"
   },
   {
    "duration": 7,
    "start_time": "2022-03-29T11:27:11.555Z"
   },
   {
    "duration": 5,
    "start_time": "2022-03-29T11:27:11.584Z"
   },
   {
    "duration": 347,
    "start_time": "2022-03-29T11:27:11.592Z"
   },
   {
    "duration": 10,
    "start_time": "2022-03-29T11:27:11.941Z"
   },
   {
    "duration": 14,
    "start_time": "2022-03-29T11:27:11.953Z"
   },
   {
    "duration": 9,
    "start_time": "2022-03-29T11:27:11.983Z"
   },
   {
    "duration": 12,
    "start_time": "2022-03-29T11:27:11.994Z"
   },
   {
    "duration": 9,
    "start_time": "2022-03-29T11:27:12.009Z"
   },
   {
    "duration": 8,
    "start_time": "2022-03-29T11:27:12.021Z"
   },
   {
    "duration": 9,
    "start_time": "2022-03-29T11:27:12.031Z"
   },
   {
    "duration": 43,
    "start_time": "2022-03-29T11:27:12.043Z"
   },
   {
    "duration": 319,
    "start_time": "2022-03-29T11:27:12.089Z"
   },
   {
    "duration": 20,
    "start_time": "2022-03-29T11:27:12.410Z"
   },
   {
    "duration": 18,
    "start_time": "2022-03-29T11:27:12.433Z"
   },
   {
    "duration": 30,
    "start_time": "2022-03-29T11:27:12.454Z"
   },
   {
    "duration": 6,
    "start_time": "2022-03-29T11:27:12.487Z"
   },
   {
    "duration": 25,
    "start_time": "2022-03-29T11:27:12.495Z"
   },
   {
    "duration": 9,
    "start_time": "2022-03-29T11:27:12.522Z"
   },
   {
    "duration": 50,
    "start_time": "2022-03-29T11:27:12.537Z"
   },
   {
    "duration": 5,
    "start_time": "2022-03-29T11:27:12.589Z"
   },
   {
    "duration": 572,
    "start_time": "2022-03-29T11:27:12.597Z"
   },
   {
    "duration": 13,
    "start_time": "2022-03-29T11:27:13.171Z"
   },
   {
    "duration": 15,
    "start_time": "2022-03-29T11:27:13.186Z"
   },
   {
    "duration": 64,
    "start_time": "2022-03-29T11:27:13.204Z"
   },
   {
    "duration": 32,
    "start_time": "2022-03-29T11:27:13.271Z"
   },
   {
    "duration": 79,
    "start_time": "2022-03-29T11:27:13.305Z"
   },
   {
    "duration": 4,
    "start_time": "2022-03-29T11:27:13.386Z"
   },
   {
    "duration": 22,
    "start_time": "2022-03-29T11:27:13.392Z"
   },
   {
    "duration": 319,
    "start_time": "2022-03-29T11:27:13.417Z"
   },
   {
    "duration": 179,
    "start_time": "2022-03-29T11:27:13.738Z"
   },
   {
    "duration": 14,
    "start_time": "2022-03-29T11:27:13.920Z"
   },
   {
    "duration": 331,
    "start_time": "2022-03-29T11:27:13.937Z"
   },
   {
    "duration": 193,
    "start_time": "2022-03-29T11:27:14.270Z"
   },
   {
    "duration": 35,
    "start_time": "2022-03-29T11:27:14.466Z"
   },
   {
    "duration": 22,
    "start_time": "2022-03-29T11:27:14.503Z"
   },
   {
    "duration": 304,
    "start_time": "2022-03-29T11:27:14.528Z"
   },
   {
    "duration": 172,
    "start_time": "2022-03-29T11:27:14.834Z"
   },
   {
    "duration": 12,
    "start_time": "2022-03-29T11:27:15.009Z"
   },
   {
    "duration": 322,
    "start_time": "2022-03-29T11:27:15.024Z"
   },
   {
    "duration": 294,
    "start_time": "2022-03-29T11:27:15.348Z"
   },
   {
    "duration": 12,
    "start_time": "2022-03-29T11:27:15.645Z"
   },
   {
    "duration": 738,
    "start_time": "2022-03-29T11:27:15.659Z"
   },
   {
    "duration": 423,
    "start_time": "2022-03-29T11:27:16.400Z"
   },
   {
    "duration": 63,
    "start_time": "2022-03-29T11:27:16.826Z"
   },
   {
    "duration": 12,
    "start_time": "2022-03-29T11:27:16.892Z"
   },
   {
    "duration": 12,
    "start_time": "2022-03-29T11:27:16.907Z"
   },
   {
    "duration": 81,
    "start_time": "2022-03-29T11:27:16.921Z"
   },
   {
    "duration": 586,
    "start_time": "2022-03-29T11:27:17.004Z"
   },
   {
    "duration": 526,
    "start_time": "2022-03-29T11:27:17.592Z"
   },
   {
    "duration": 70,
    "start_time": "2022-03-29T11:27:18.120Z"
   },
   {
    "duration": 594,
    "start_time": "2022-03-29T11:27:18.193Z"
   },
   {
    "duration": 212,
    "start_time": "2022-03-29T11:27:18.790Z"
   },
   {
    "duration": 4827,
    "start_time": "2022-03-29T11:27:19.005Z"
   },
   {
    "duration": 28,
    "start_time": "2022-03-29T11:27:23.834Z"
   },
   {
    "duration": 2352,
    "start_time": "2022-03-29T11:27:23.885Z"
   },
   {
    "duration": 401,
    "start_time": "2022-03-29T11:27:26.240Z"
   },
   {
    "duration": 568,
    "start_time": "2022-03-29T11:27:26.644Z"
   },
   {
    "duration": 11,
    "start_time": "2022-03-29T11:27:27.214Z"
   },
   {
    "duration": 774,
    "start_time": "2022-03-29T11:27:27.228Z"
   },
   {
    "duration": 21,
    "start_time": "2022-03-29T11:27:28.005Z"
   },
   {
    "duration": 14,
    "start_time": "2022-03-29T11:27:28.030Z"
   },
   {
    "duration": 440,
    "start_time": "2022-03-29T11:27:28.046Z"
   },
   {
    "duration": 361,
    "start_time": "2022-03-29T11:27:28.489Z"
   },
   {
    "duration": 321,
    "start_time": "2022-03-29T11:27:28.853Z"
   },
   {
    "duration": 317,
    "start_time": "2022-03-29T11:27:29.177Z"
   },
   {
    "duration": 6,
    "start_time": "2022-03-29T11:27:29.496Z"
   },
   {
    "duration": 262,
    "start_time": "2022-03-29T11:27:29.505Z"
   },
   {
    "duration": 16,
    "start_time": "2022-03-29T11:27:29.770Z"
   },
   {
    "duration": 296,
    "start_time": "2022-03-29T11:27:29.789Z"
   },
   {
    "duration": 19,
    "start_time": "2022-03-29T11:27:30.088Z"
   },
   {
    "duration": 13,
    "start_time": "2022-03-29T11:27:30.110Z"
   },
   {
    "duration": 1552,
    "start_time": "2022-03-29T11:27:30.126Z"
   },
   {
    "duration": 237,
    "start_time": "2022-03-29T11:27:31.690Z"
   },
   {
    "duration": 110,
    "start_time": "2022-03-29T11:28:09.755Z"
   },
   {
    "duration": 18,
    "start_time": "2022-03-29T11:30:03.174Z"
   },
   {
    "duration": 1352,
    "start_time": "2022-03-29T11:56:40.575Z"
   },
   {
    "duration": 116,
    "start_time": "2022-03-29T11:56:41.929Z"
   },
   {
    "duration": 77,
    "start_time": "2022-03-29T11:56:42.047Z"
   },
   {
    "duration": 17,
    "start_time": "2022-03-29T11:56:42.126Z"
   },
   {
    "duration": 8,
    "start_time": "2022-03-29T11:56:42.144Z"
   },
   {
    "duration": 9,
    "start_time": "2022-03-29T11:56:42.153Z"
   },
   {
    "duration": 8,
    "start_time": "2022-03-29T11:56:42.181Z"
   },
   {
    "duration": 10,
    "start_time": "2022-03-29T11:56:42.191Z"
   },
   {
    "duration": 4,
    "start_time": "2022-03-29T11:56:42.203Z"
   },
   {
    "duration": 182,
    "start_time": "2022-03-29T11:56:42.209Z"
   },
   {
    "duration": 7,
    "start_time": "2022-03-29T11:56:42.393Z"
   },
   {
    "duration": 7,
    "start_time": "2022-03-29T11:56:42.401Z"
   },
   {
    "duration": 6,
    "start_time": "2022-03-29T11:56:42.409Z"
   },
   {
    "duration": 4,
    "start_time": "2022-03-29T11:56:42.417Z"
   },
   {
    "duration": 5,
    "start_time": "2022-03-29T11:56:42.422Z"
   },
   {
    "duration": 4,
    "start_time": "2022-03-29T11:56:42.429Z"
   },
   {
    "duration": 5,
    "start_time": "2022-03-29T11:56:42.434Z"
   },
   {
    "duration": 5,
    "start_time": "2022-03-29T11:56:42.440Z"
   },
   {
    "duration": 208,
    "start_time": "2022-03-29T11:56:42.446Z"
   },
   {
    "duration": 9,
    "start_time": "2022-03-29T11:56:42.655Z"
   },
   {
    "duration": 11,
    "start_time": "2022-03-29T11:56:42.665Z"
   },
   {
    "duration": 17,
    "start_time": "2022-03-29T11:56:42.678Z"
   },
   {
    "duration": 6,
    "start_time": "2022-03-29T11:56:42.697Z"
   },
   {
    "duration": 14,
    "start_time": "2022-03-29T11:56:42.704Z"
   },
   {
    "duration": 4,
    "start_time": "2022-03-29T11:56:42.719Z"
   },
   {
    "duration": 8,
    "start_time": "2022-03-29T11:56:42.725Z"
   },
   {
    "duration": 2,
    "start_time": "2022-03-29T11:56:42.735Z"
   },
   {
    "duration": 212,
    "start_time": "2022-03-29T11:56:42.741Z"
   },
   {
    "duration": 3,
    "start_time": "2022-03-29T11:56:42.955Z"
   },
   {
    "duration": 7,
    "start_time": "2022-03-29T11:56:42.960Z"
   },
   {
    "duration": 38,
    "start_time": "2022-03-29T11:56:42.968Z"
   },
   {
    "duration": 16,
    "start_time": "2022-03-29T11:56:43.008Z"
   },
   {
    "duration": 30,
    "start_time": "2022-03-29T11:56:43.026Z"
   },
   {
    "duration": 3,
    "start_time": "2022-03-29T11:56:43.057Z"
   },
   {
    "duration": 38,
    "start_time": "2022-03-29T11:56:43.061Z"
   },
   {
    "duration": 183,
    "start_time": "2022-03-29T11:56:43.101Z"
   },
   {
    "duration": 95,
    "start_time": "2022-03-29T11:56:43.286Z"
   },
   {
    "duration": 10,
    "start_time": "2022-03-29T11:56:43.383Z"
   },
   {
    "duration": 190,
    "start_time": "2022-03-29T11:56:43.395Z"
   },
   {
    "duration": 113,
    "start_time": "2022-03-29T11:56:43.587Z"
   },
   {
    "duration": 15,
    "start_time": "2022-03-29T11:56:43.701Z"
   },
   {
    "duration": 7,
    "start_time": "2022-03-29T11:56:43.717Z"
   },
   {
    "duration": 233,
    "start_time": "2022-03-29T11:56:43.725Z"
   },
   {
    "duration": 96,
    "start_time": "2022-03-29T11:56:43.959Z"
   },
   {
    "duration": 8,
    "start_time": "2022-03-29T11:56:44.056Z"
   },
   {
    "duration": 175,
    "start_time": "2022-03-29T11:56:44.065Z"
   },
   {
    "duration": 107,
    "start_time": "2022-03-29T11:56:44.241Z"
   },
   {
    "duration": 8,
    "start_time": "2022-03-29T11:56:44.349Z"
   },
   {
    "duration": 176,
    "start_time": "2022-03-29T11:56:44.359Z"
   },
   {
    "duration": 94,
    "start_time": "2022-03-29T11:56:44.536Z"
   },
   {
    "duration": 6,
    "start_time": "2022-03-29T11:56:44.632Z"
   },
   {
    "duration": 7,
    "start_time": "2022-03-29T11:56:44.640Z"
   },
   {
    "duration": 3,
    "start_time": "2022-03-29T11:56:44.648Z"
   },
   {
    "duration": 43,
    "start_time": "2022-03-29T11:56:44.653Z"
   },
   {
    "duration": 137,
    "start_time": "2022-03-29T11:56:44.698Z"
   },
   {
    "duration": 159,
    "start_time": "2022-03-29T11:56:44.837Z"
   },
   {
    "duration": 10,
    "start_time": "2022-03-29T11:56:44.998Z"
   },
   {
    "duration": 165,
    "start_time": "2022-03-29T11:56:45.009Z"
   },
   {
    "duration": 143,
    "start_time": "2022-03-29T11:56:45.175Z"
   },
   {
    "duration": 3897,
    "start_time": "2022-03-29T11:56:45.320Z"
   },
   {
    "duration": 16,
    "start_time": "2022-03-29T11:56:49.219Z"
   },
   {
    "duration": 1358,
    "start_time": "2022-03-29T11:56:49.236Z"
   },
   {
    "duration": 125,
    "start_time": "2022-03-29T11:56:50.596Z"
   },
   {
    "duration": 322,
    "start_time": "2022-03-29T11:56:50.723Z"
   },
   {
    "duration": 8,
    "start_time": "2022-03-29T11:56:51.047Z"
   },
   {
    "duration": 278,
    "start_time": "2022-03-29T11:56:51.056Z"
   },
   {
    "duration": 14,
    "start_time": "2022-03-29T11:56:51.335Z"
   },
   {
    "duration": 5,
    "start_time": "2022-03-29T11:56:51.351Z"
   },
   {
    "duration": 190,
    "start_time": "2022-03-29T11:56:51.358Z"
   },
   {
    "duration": 168,
    "start_time": "2022-03-29T11:56:51.549Z"
   },
   {
    "duration": 175,
    "start_time": "2022-03-29T11:56:51.718Z"
   },
   {
    "duration": 174,
    "start_time": "2022-03-29T11:56:51.894Z"
   },
   {
    "duration": 12,
    "start_time": "2022-03-29T11:56:52.070Z"
   },
   {
    "duration": 256,
    "start_time": "2022-03-29T11:56:52.084Z"
   },
   {
    "duration": 4,
    "start_time": "2022-03-29T11:56:52.341Z"
   },
   {
    "duration": 158,
    "start_time": "2022-03-29T11:56:52.347Z"
   },
   {
    "duration": 10,
    "start_time": "2022-03-29T11:56:52.506Z"
   },
   {
    "duration": 10,
    "start_time": "2022-03-29T11:56:52.518Z"
   },
   {
    "duration": 737,
    "start_time": "2022-03-29T11:56:52.529Z"
   },
   {
    "duration": 144,
    "start_time": "2022-03-29T11:56:53.267Z"
   },
   {
    "duration": 3,
    "start_time": "2022-03-29T11:57:18.879Z"
   },
   {
    "duration": 116,
    "start_time": "2022-03-29T11:57:18.884Z"
   },
   {
    "duration": 62,
    "start_time": "2022-03-29T11:57:19.001Z"
   },
   {
    "duration": 27,
    "start_time": "2022-03-29T11:57:19.065Z"
   },
   {
    "duration": 8,
    "start_time": "2022-03-29T11:57:19.094Z"
   },
   {
    "duration": 11,
    "start_time": "2022-03-29T11:57:19.103Z"
   },
   {
    "duration": 6,
    "start_time": "2022-03-29T11:57:19.116Z"
   },
   {
    "duration": 3,
    "start_time": "2022-03-29T11:57:19.123Z"
   },
   {
    "duration": 191,
    "start_time": "2022-03-29T11:57:19.128Z"
   },
   {
    "duration": 7,
    "start_time": "2022-03-29T11:57:19.320Z"
   },
   {
    "duration": 6,
    "start_time": "2022-03-29T11:57:19.329Z"
   },
   {
    "duration": 4,
    "start_time": "2022-03-29T11:57:19.337Z"
   },
   {
    "duration": 7,
    "start_time": "2022-03-29T11:57:19.343Z"
   },
   {
    "duration": 7,
    "start_time": "2022-03-29T11:57:19.353Z"
   },
   {
    "duration": 28,
    "start_time": "2022-03-29T11:57:19.361Z"
   },
   {
    "duration": 9,
    "start_time": "2022-03-29T11:57:19.390Z"
   },
   {
    "duration": 5,
    "start_time": "2022-03-29T11:57:19.400Z"
   },
   {
    "duration": 184,
    "start_time": "2022-03-29T11:57:19.407Z"
   },
   {
    "duration": 9,
    "start_time": "2022-03-29T11:57:19.593Z"
   },
   {
    "duration": 14,
    "start_time": "2022-03-29T11:57:19.604Z"
   },
   {
    "duration": 7,
    "start_time": "2022-03-29T11:57:19.619Z"
   },
   {
    "duration": 5,
    "start_time": "2022-03-29T11:57:19.628Z"
   },
   {
    "duration": 21,
    "start_time": "2022-03-29T11:57:19.635Z"
   },
   {
    "duration": 6,
    "start_time": "2022-03-29T11:57:19.659Z"
   },
   {
    "duration": 19,
    "start_time": "2022-03-29T11:57:19.667Z"
   },
   {
    "duration": 4,
    "start_time": "2022-03-29T11:57:19.688Z"
   },
   {
    "duration": 288,
    "start_time": "2022-03-29T11:57:19.693Z"
   },
   {
    "duration": 5,
    "start_time": "2022-03-29T11:57:19.983Z"
   },
   {
    "duration": 9,
    "start_time": "2022-03-29T11:57:19.990Z"
   },
   {
    "duration": 38,
    "start_time": "2022-03-29T11:57:20.001Z"
   },
   {
    "duration": 20,
    "start_time": "2022-03-29T11:57:20.042Z"
   },
   {
    "duration": 51,
    "start_time": "2022-03-29T11:57:20.064Z"
   },
   {
    "duration": 3,
    "start_time": "2022-03-29T11:57:20.117Z"
   },
   {
    "duration": 12,
    "start_time": "2022-03-29T11:57:20.121Z"
   },
   {
    "duration": 171,
    "start_time": "2022-03-29T11:57:20.134Z"
   },
   {
    "duration": 96,
    "start_time": "2022-03-29T11:57:20.306Z"
   },
   {
    "duration": 9,
    "start_time": "2022-03-29T11:57:20.404Z"
   },
   {
    "duration": 177,
    "start_time": "2022-03-29T11:57:20.414Z"
   },
   {
    "duration": 103,
    "start_time": "2022-03-29T11:57:20.593Z"
   },
   {
    "duration": 16,
    "start_time": "2022-03-29T11:57:20.698Z"
   },
   {
    "duration": 8,
    "start_time": "2022-03-29T11:57:20.718Z"
   },
   {
    "duration": 232,
    "start_time": "2022-03-29T11:57:20.728Z"
   },
   {
    "duration": 127,
    "start_time": "2022-03-29T11:57:20.961Z"
   },
   {
    "duration": 8,
    "start_time": "2022-03-29T11:57:21.089Z"
   },
   {
    "duration": 273,
    "start_time": "2022-03-29T11:57:21.099Z"
   },
   {
    "duration": 115,
    "start_time": "2022-03-29T11:57:21.374Z"
   },
   {
    "duration": 8,
    "start_time": "2022-03-29T11:57:21.491Z"
   },
   {
    "duration": 163,
    "start_time": "2022-03-29T11:57:21.500Z"
   },
   {
    "duration": 203,
    "start_time": "2022-03-29T11:57:21.665Z"
   },
   {
    "duration": 11,
    "start_time": "2022-03-29T11:57:21.870Z"
   },
   {
    "duration": 7,
    "start_time": "2022-03-29T11:57:21.883Z"
   },
   {
    "duration": 4,
    "start_time": "2022-03-29T11:57:21.891Z"
   },
   {
    "duration": 33,
    "start_time": "2022-03-29T11:57:21.897Z"
   },
   {
    "duration": 349,
    "start_time": "2022-03-29T11:57:21.932Z"
   },
   {
    "duration": 409,
    "start_time": "2022-03-29T11:57:22.284Z"
   },
   {
    "duration": 9,
    "start_time": "2022-03-29T11:57:22.695Z"
   },
   {
    "duration": 303,
    "start_time": "2022-03-29T11:57:22.706Z"
   },
   {
    "duration": 104,
    "start_time": "2022-03-29T11:57:23.010Z"
   },
   {
    "duration": 2710,
    "start_time": "2022-03-29T11:57:23.115Z"
   },
   {
    "duration": 16,
    "start_time": "2022-03-29T11:57:25.826Z"
   },
   {
    "duration": 1083,
    "start_time": "2022-03-29T11:57:25.843Z"
   },
   {
    "duration": 119,
    "start_time": "2022-03-29T11:57:26.928Z"
   },
   {
    "duration": 275,
    "start_time": "2022-03-29T11:57:27.049Z"
   },
   {
    "duration": 9,
    "start_time": "2022-03-29T11:57:27.325Z"
   },
   {
    "duration": 275,
    "start_time": "2022-03-29T11:57:27.336Z"
   },
   {
    "duration": 131,
    "start_time": "2022-03-29T11:57:27.613Z"
   },
   {
    "duration": 3,
    "start_time": "2022-03-29T11:57:27.746Z"
   },
   {
    "duration": 173,
    "start_time": "2022-03-29T11:57:27.751Z"
   },
   {
    "duration": 258,
    "start_time": "2022-03-29T11:57:27.926Z"
   },
   {
    "duration": 337,
    "start_time": "2022-03-29T11:57:28.186Z"
   },
   {
    "duration": 176,
    "start_time": "2022-03-29T11:57:28.525Z"
   },
   {
    "duration": 4,
    "start_time": "2022-03-29T11:57:28.702Z"
   },
   {
    "duration": 132,
    "start_time": "2022-03-29T11:57:28.708Z"
   },
   {
    "duration": 3,
    "start_time": "2022-03-29T11:57:28.842Z"
   },
   {
    "duration": 140,
    "start_time": "2022-03-29T11:57:28.847Z"
   },
   {
    "duration": 10,
    "start_time": "2022-03-29T11:57:28.989Z"
   },
   {
    "duration": 9,
    "start_time": "2022-03-29T11:57:29.001Z"
   },
   {
    "duration": 1192,
    "start_time": "2022-03-29T11:57:29.012Z"
   },
   {
    "duration": 134,
    "start_time": "2022-03-29T11:57:30.206Z"
   },
   {
    "duration": 1713,
    "start_time": "2022-03-29T11:59:28.461Z"
   },
   {
    "duration": 5,
    "start_time": "2022-03-29T11:59:36.547Z"
   },
   {
    "duration": 81,
    "start_time": "2022-03-29T12:00:40.702Z"
   },
   {
    "duration": 84,
    "start_time": "2022-03-29T12:00:46.571Z"
   },
   {
    "duration": 2,
    "start_time": "2022-03-29T12:00:51.686Z"
   },
   {
    "duration": 109,
    "start_time": "2022-03-29T12:00:51.692Z"
   },
   {
    "duration": 78,
    "start_time": "2022-03-29T12:00:51.803Z"
   },
   {
    "duration": 14,
    "start_time": "2022-03-29T12:00:51.882Z"
   },
   {
    "duration": 7,
    "start_time": "2022-03-29T12:00:51.898Z"
   },
   {
    "duration": 7,
    "start_time": "2022-03-29T12:00:51.907Z"
   },
   {
    "duration": 5,
    "start_time": "2022-03-29T12:00:51.916Z"
   },
   {
    "duration": 4,
    "start_time": "2022-03-29T12:00:51.922Z"
   },
   {
    "duration": 199,
    "start_time": "2022-03-29T12:00:51.927Z"
   },
   {
    "duration": 6,
    "start_time": "2022-03-29T12:00:52.128Z"
   },
   {
    "duration": 9,
    "start_time": "2022-03-29T12:00:52.136Z"
   },
   {
    "duration": 5,
    "start_time": "2022-03-29T12:00:52.147Z"
   },
   {
    "duration": 4,
    "start_time": "2022-03-29T12:00:52.153Z"
   },
   {
    "duration": 5,
    "start_time": "2022-03-29T12:00:52.158Z"
   },
   {
    "duration": 3,
    "start_time": "2022-03-29T12:00:52.180Z"
   },
   {
    "duration": 7,
    "start_time": "2022-03-29T12:00:52.185Z"
   },
   {
    "duration": 3,
    "start_time": "2022-03-29T12:00:52.193Z"
   },
   {
    "duration": 197,
    "start_time": "2022-03-29T12:00:52.197Z"
   },
   {
    "duration": 10,
    "start_time": "2022-03-29T12:00:52.396Z"
   },
   {
    "duration": 12,
    "start_time": "2022-03-29T12:00:52.407Z"
   },
   {
    "duration": 7,
    "start_time": "2022-03-29T12:00:52.420Z"
   },
   {
    "duration": 12,
    "start_time": "2022-03-29T12:00:52.429Z"
   },
   {
    "duration": 16,
    "start_time": "2022-03-29T12:00:52.442Z"
   },
   {
    "duration": 9,
    "start_time": "2022-03-29T12:00:52.460Z"
   },
   {
    "duration": 28,
    "start_time": "2022-03-29T12:00:52.471Z"
   },
   {
    "duration": 3,
    "start_time": "2022-03-29T12:00:52.501Z"
   },
   {
    "duration": 191,
    "start_time": "2022-03-29T12:00:52.506Z"
   },
   {
    "duration": 3,
    "start_time": "2022-03-29T12:00:52.698Z"
   },
   {
    "duration": 6,
    "start_time": "2022-03-29T12:00:52.705Z"
   },
   {
    "duration": 23,
    "start_time": "2022-03-29T12:00:52.712Z"
   },
   {
    "duration": 17,
    "start_time": "2022-03-29T12:00:52.736Z"
   },
   {
    "duration": 53,
    "start_time": "2022-03-29T12:00:52.754Z"
   },
   {
    "duration": 3,
    "start_time": "2022-03-29T12:00:52.808Z"
   },
   {
    "duration": 5,
    "start_time": "2022-03-29T12:00:52.813Z"
   },
   {
    "duration": 190,
    "start_time": "2022-03-29T12:00:52.820Z"
   },
   {
    "duration": 94,
    "start_time": "2022-03-29T12:00:53.012Z"
   },
   {
    "duration": 7,
    "start_time": "2022-03-29T12:00:53.107Z"
   },
   {
    "duration": 167,
    "start_time": "2022-03-29T12:00:53.116Z"
   },
   {
    "duration": 201,
    "start_time": "2022-03-29T12:00:53.284Z"
   },
   {
    "duration": 15,
    "start_time": "2022-03-29T12:00:53.487Z"
   },
   {
    "duration": 11,
    "start_time": "2022-03-29T12:00:53.503Z"
   },
   {
    "duration": 149,
    "start_time": "2022-03-29T12:00:53.516Z"
   },
   {
    "duration": 97,
    "start_time": "2022-03-29T12:00:53.667Z"
   },
   {
    "duration": 17,
    "start_time": "2022-03-29T12:00:53.766Z"
   },
   {
    "duration": 155,
    "start_time": "2022-03-29T12:00:53.784Z"
   },
   {
    "duration": 105,
    "start_time": "2022-03-29T12:00:53.941Z"
   },
   {
    "duration": 6,
    "start_time": "2022-03-29T12:00:54.047Z"
   },
   {
    "duration": 153,
    "start_time": "2022-03-29T12:00:54.055Z"
   },
   {
    "duration": 88,
    "start_time": "2022-03-29T12:00:54.210Z"
   },
   {
    "duration": 6,
    "start_time": "2022-03-29T12:00:54.300Z"
   },
   {
    "duration": 10,
    "start_time": "2022-03-29T12:00:54.308Z"
   },
   {
    "duration": 4,
    "start_time": "2022-03-29T12:00:54.320Z"
   },
   {
    "duration": 22,
    "start_time": "2022-03-29T12:00:54.326Z"
   },
   {
    "duration": 133,
    "start_time": "2022-03-29T12:00:54.350Z"
   },
   {
    "duration": 126,
    "start_time": "2022-03-29T12:00:54.484Z"
   },
   {
    "duration": 7,
    "start_time": "2022-03-29T12:00:54.612Z"
   },
   {
    "duration": 116,
    "start_time": "2022-03-29T12:00:54.621Z"
   },
   {
    "duration": 8,
    "start_time": "2022-03-29T12:00:54.739Z"
   },
   {
    "duration": 2542,
    "start_time": "2022-03-29T12:00:54.749Z"
   },
   {
    "duration": 15,
    "start_time": "2022-03-29T12:00:57.292Z"
   },
   {
    "duration": 999,
    "start_time": "2022-03-29T12:00:57.308Z"
   },
   {
    "duration": 481,
    "start_time": "2022-03-29T12:00:58.309Z"
   },
   {
    "duration": 309,
    "start_time": "2022-03-29T12:00:58.792Z"
   },
   {
    "duration": 6,
    "start_time": "2022-03-29T12:00:59.102Z"
   },
   {
    "duration": 289,
    "start_time": "2022-03-29T12:00:59.110Z"
   },
   {
    "duration": 15,
    "start_time": "2022-03-29T12:00:59.401Z"
   },
   {
    "duration": 8,
    "start_time": "2022-03-29T12:00:59.417Z"
   },
   {
    "duration": 273,
    "start_time": "2022-03-29T12:00:59.427Z"
   },
   {
    "duration": 148,
    "start_time": "2022-03-29T12:00:59.702Z"
   },
   {
    "duration": 138,
    "start_time": "2022-03-29T12:00:59.852Z"
   },
   {
    "duration": 149,
    "start_time": "2022-03-29T12:00:59.992Z"
   },
   {
    "duration": 4,
    "start_time": "2022-03-29T12:01:00.143Z"
   },
   {
    "duration": 105,
    "start_time": "2022-03-29T12:01:00.148Z"
   },
   {
    "duration": 4,
    "start_time": "2022-03-29T12:01:00.255Z"
   },
   {
    "duration": 104,
    "start_time": "2022-03-29T12:01:00.260Z"
   },
   {
    "duration": 17,
    "start_time": "2022-03-29T12:01:00.365Z"
   },
   {
    "duration": 9,
    "start_time": "2022-03-29T12:01:00.384Z"
   },
   {
    "duration": 22,
    "start_time": "2022-03-29T12:01:00.394Z"
   },
   {
    "duration": 0,
    "start_time": "2022-03-29T12:01:00.418Z"
   },
   {
    "duration": 6,
    "start_time": "2022-03-29T12:01:35.683Z"
   },
   {
    "duration": 188,
    "start_time": "2022-03-29T12:03:03.194Z"
   },
   {
    "duration": 2,
    "start_time": "2022-03-29T12:08:55.916Z"
   },
   {
    "duration": 94,
    "start_time": "2022-03-29T12:08:55.923Z"
   },
   {
    "duration": 177,
    "start_time": "2022-03-29T12:08:56.019Z"
   },
   {
    "duration": 17,
    "start_time": "2022-03-29T12:08:56.197Z"
   },
   {
    "duration": 7,
    "start_time": "2022-03-29T12:08:56.216Z"
   },
   {
    "duration": 8,
    "start_time": "2022-03-29T12:08:56.224Z"
   },
   {
    "duration": 6,
    "start_time": "2022-03-29T12:08:56.233Z"
   },
   {
    "duration": 2,
    "start_time": "2022-03-29T12:08:56.240Z"
   },
   {
    "duration": 202,
    "start_time": "2022-03-29T12:08:56.244Z"
   },
   {
    "duration": 6,
    "start_time": "2022-03-29T12:08:56.447Z"
   },
   {
    "duration": 11,
    "start_time": "2022-03-29T12:08:56.455Z"
   },
   {
    "duration": 14,
    "start_time": "2022-03-29T12:08:56.467Z"
   },
   {
    "duration": 3,
    "start_time": "2022-03-29T12:08:56.482Z"
   },
   {
    "duration": 7,
    "start_time": "2022-03-29T12:08:56.487Z"
   },
   {
    "duration": 7,
    "start_time": "2022-03-29T12:08:56.495Z"
   },
   {
    "duration": 5,
    "start_time": "2022-03-29T12:08:56.503Z"
   },
   {
    "duration": 7,
    "start_time": "2022-03-29T12:08:56.510Z"
   },
   {
    "duration": 175,
    "start_time": "2022-03-29T12:08:56.518Z"
   },
   {
    "duration": 9,
    "start_time": "2022-03-29T12:08:56.695Z"
   },
   {
    "duration": 10,
    "start_time": "2022-03-29T12:08:56.705Z"
   },
   {
    "duration": 5,
    "start_time": "2022-03-29T12:08:56.716Z"
   },
   {
    "duration": 4,
    "start_time": "2022-03-29T12:08:56.723Z"
   },
   {
    "duration": 13,
    "start_time": "2022-03-29T12:08:56.728Z"
   },
   {
    "duration": 5,
    "start_time": "2022-03-29T12:08:56.742Z"
   },
   {
    "duration": 34,
    "start_time": "2022-03-29T12:08:56.748Z"
   },
   {
    "duration": 3,
    "start_time": "2022-03-29T12:08:56.784Z"
   },
   {
    "duration": 196,
    "start_time": "2022-03-29T12:08:56.788Z"
   },
   {
    "duration": 3,
    "start_time": "2022-03-29T12:08:56.986Z"
   },
   {
    "duration": 5,
    "start_time": "2022-03-29T12:08:56.994Z"
   },
   {
    "duration": 23,
    "start_time": "2022-03-29T12:08:57.000Z"
   },
   {
    "duration": 29,
    "start_time": "2022-03-29T12:08:57.025Z"
   },
   {
    "duration": 48,
    "start_time": "2022-03-29T12:08:57.056Z"
   },
   {
    "duration": 3,
    "start_time": "2022-03-29T12:08:57.105Z"
   },
   {
    "duration": 18,
    "start_time": "2022-03-29T12:08:57.110Z"
   },
   {
    "duration": 172,
    "start_time": "2022-03-29T12:08:57.130Z"
   },
   {
    "duration": 95,
    "start_time": "2022-03-29T12:08:57.304Z"
   },
   {
    "duration": 8,
    "start_time": "2022-03-29T12:08:57.401Z"
   },
   {
    "duration": 164,
    "start_time": "2022-03-29T12:08:57.410Z"
   },
   {
    "duration": 96,
    "start_time": "2022-03-29T12:08:57.576Z"
   },
   {
    "duration": 14,
    "start_time": "2022-03-29T12:08:57.680Z"
   },
   {
    "duration": 19,
    "start_time": "2022-03-29T12:08:57.695Z"
   },
   {
    "duration": 147,
    "start_time": "2022-03-29T12:08:57.716Z"
   },
   {
    "duration": 86,
    "start_time": "2022-03-29T12:08:57.864Z"
   },
   {
    "duration": 7,
    "start_time": "2022-03-29T12:08:57.952Z"
   },
   {
    "duration": 161,
    "start_time": "2022-03-29T12:08:57.961Z"
   },
   {
    "duration": 180,
    "start_time": "2022-03-29T12:08:58.124Z"
   },
   {
    "duration": 7,
    "start_time": "2022-03-29T12:08:58.306Z"
   },
   {
    "duration": 166,
    "start_time": "2022-03-29T12:08:58.315Z"
   },
   {
    "duration": 99,
    "start_time": "2022-03-29T12:08:58.482Z"
   },
   {
    "duration": 6,
    "start_time": "2022-03-29T12:08:58.582Z"
   },
   {
    "duration": 30,
    "start_time": "2022-03-29T12:08:58.589Z"
   },
   {
    "duration": 8,
    "start_time": "2022-03-29T12:08:58.620Z"
   },
   {
    "duration": 40,
    "start_time": "2022-03-29T12:08:58.629Z"
   },
   {
    "duration": 139,
    "start_time": "2022-03-29T12:08:58.670Z"
   },
   {
    "duration": 124,
    "start_time": "2022-03-29T12:08:58.810Z"
   },
   {
    "duration": 8,
    "start_time": "2022-03-29T12:08:58.936Z"
   },
   {
    "duration": 148,
    "start_time": "2022-03-29T12:08:58.945Z"
   },
   {
    "duration": 49,
    "start_time": "2022-03-29T12:08:59.095Z"
   },
   {
    "duration": 2961,
    "start_time": "2022-03-29T12:08:59.146Z"
   },
   {
    "duration": 73,
    "start_time": "2022-03-29T12:09:02.108Z"
   },
   {
    "duration": 1447,
    "start_time": "2022-03-29T12:09:02.183Z"
   },
   {
    "duration": 121,
    "start_time": "2022-03-29T12:09:03.632Z"
   },
   {
    "duration": 360,
    "start_time": "2022-03-29T12:09:03.754Z"
   },
   {
    "duration": 7,
    "start_time": "2022-03-29T12:09:04.116Z"
   },
   {
    "duration": 243,
    "start_time": "2022-03-29T12:09:04.125Z"
   },
   {
    "duration": 18,
    "start_time": "2022-03-29T12:09:04.370Z"
   },
   {
    "duration": 4,
    "start_time": "2022-03-29T12:09:04.389Z"
   },
   {
    "duration": 157,
    "start_time": "2022-03-29T12:09:04.394Z"
   },
   {
    "duration": 151,
    "start_time": "2022-03-29T12:09:04.557Z"
   },
   {
    "duration": 156,
    "start_time": "2022-03-29T12:09:04.710Z"
   },
   {
    "duration": 162,
    "start_time": "2022-03-29T12:09:04.868Z"
   },
   {
    "duration": 4,
    "start_time": "2022-03-29T12:09:05.031Z"
   },
   {
    "duration": 133,
    "start_time": "2022-03-29T12:09:05.036Z"
   },
   {
    "duration": 11,
    "start_time": "2022-03-29T12:09:05.170Z"
   },
   {
    "duration": 226,
    "start_time": "2022-03-29T12:09:05.183Z"
   },
   {
    "duration": 10,
    "start_time": "2022-03-29T12:09:05.410Z"
   },
   {
    "duration": 16,
    "start_time": "2022-03-29T12:09:05.422Z"
   },
   {
    "duration": 697,
    "start_time": "2022-03-29T12:09:05.440Z"
   },
   {
    "duration": 119,
    "start_time": "2022-03-29T12:09:06.139Z"
   },
   {
    "duration": 50,
    "start_time": "2022-03-29T12:20:23.060Z"
   },
   {
    "duration": 189,
    "start_time": "2022-03-29T12:21:30.844Z"
   },
   {
    "duration": 89,
    "start_time": "2022-03-29T12:22:08.905Z"
   },
   {
    "duration": 99,
    "start_time": "2022-03-29T12:24:03.464Z"
   },
   {
    "duration": 104,
    "start_time": "2022-03-29T12:28:40.763Z"
   },
   {
    "duration": 105,
    "start_time": "2022-03-29T12:28:53.844Z"
   },
   {
    "duration": 100,
    "start_time": "2022-03-29T12:30:06.360Z"
   },
   {
    "duration": 18,
    "start_time": "2022-03-29T12:36:24.292Z"
   },
   {
    "duration": 124,
    "start_time": "2022-03-29T12:37:28.377Z"
   },
   {
    "duration": 118,
    "start_time": "2022-03-29T12:37:32.937Z"
   },
   {
    "duration": 250,
    "start_time": "2022-03-29T12:37:54.024Z"
   },
   {
    "duration": 128,
    "start_time": "2022-03-29T12:37:58.760Z"
   },
   {
    "duration": 124,
    "start_time": "2022-03-29T12:38:06.994Z"
   },
   {
    "duration": 17,
    "start_time": "2022-03-29T12:38:23.300Z"
   },
   {
    "duration": 154,
    "start_time": "2022-03-29T12:38:41.564Z"
   },
   {
    "duration": 146,
    "start_time": "2022-03-29T12:38:49.793Z"
   },
   {
    "duration": 3,
    "start_time": "2022-03-29T12:39:19.160Z"
   },
   {
    "duration": 110,
    "start_time": "2022-03-29T12:39:19.165Z"
   },
   {
    "duration": 67,
    "start_time": "2022-03-29T12:39:19.276Z"
   },
   {
    "duration": 14,
    "start_time": "2022-03-29T12:39:19.345Z"
   },
   {
    "duration": 24,
    "start_time": "2022-03-29T12:39:19.361Z"
   },
   {
    "duration": 10,
    "start_time": "2022-03-29T12:39:19.386Z"
   },
   {
    "duration": 5,
    "start_time": "2022-03-29T12:39:19.398Z"
   },
   {
    "duration": 3,
    "start_time": "2022-03-29T12:39:19.404Z"
   },
   {
    "duration": 206,
    "start_time": "2022-03-29T12:39:19.408Z"
   },
   {
    "duration": 6,
    "start_time": "2022-03-29T12:39:19.616Z"
   },
   {
    "duration": 7,
    "start_time": "2022-03-29T12:39:19.623Z"
   },
   {
    "duration": 4,
    "start_time": "2022-03-29T12:39:19.631Z"
   },
   {
    "duration": 4,
    "start_time": "2022-03-29T12:39:19.637Z"
   },
   {
    "duration": 3,
    "start_time": "2022-03-29T12:39:19.644Z"
   },
   {
    "duration": 37,
    "start_time": "2022-03-29T12:39:19.648Z"
   },
   {
    "duration": 5,
    "start_time": "2022-03-29T12:39:19.687Z"
   },
   {
    "duration": 8,
    "start_time": "2022-03-29T12:39:19.694Z"
   },
   {
    "duration": 167,
    "start_time": "2022-03-29T12:39:19.704Z"
   },
   {
    "duration": 13,
    "start_time": "2022-03-29T12:39:19.873Z"
   },
   {
    "duration": 19,
    "start_time": "2022-03-29T12:39:19.887Z"
   },
   {
    "duration": 5,
    "start_time": "2022-03-29T12:39:19.908Z"
   },
   {
    "duration": 3,
    "start_time": "2022-03-29T12:39:19.915Z"
   },
   {
    "duration": 11,
    "start_time": "2022-03-29T12:39:19.920Z"
   },
   {
    "duration": 5,
    "start_time": "2022-03-29T12:39:19.933Z"
   },
   {
    "duration": 11,
    "start_time": "2022-03-29T12:39:19.940Z"
   },
   {
    "duration": 3,
    "start_time": "2022-03-29T12:39:19.953Z"
   },
   {
    "duration": 308,
    "start_time": "2022-03-29T12:39:19.958Z"
   },
   {
    "duration": 4,
    "start_time": "2022-03-29T12:39:20.268Z"
   },
   {
    "duration": 5,
    "start_time": "2022-03-29T12:39:20.283Z"
   },
   {
    "duration": 28,
    "start_time": "2022-03-29T12:39:20.290Z"
   },
   {
    "duration": 18,
    "start_time": "2022-03-29T12:39:20.319Z"
   },
   {
    "duration": 53,
    "start_time": "2022-03-29T12:39:20.339Z"
   },
   {
    "duration": 3,
    "start_time": "2022-03-29T12:39:20.394Z"
   },
   {
    "duration": 5,
    "start_time": "2022-03-29T12:39:20.398Z"
   },
   {
    "duration": 170,
    "start_time": "2022-03-29T12:39:20.405Z"
   },
   {
    "duration": 91,
    "start_time": "2022-03-29T12:39:20.576Z"
   },
   {
    "duration": 23,
    "start_time": "2022-03-29T12:39:20.668Z"
   },
   {
    "duration": 182,
    "start_time": "2022-03-29T12:39:20.693Z"
   },
   {
    "duration": 113,
    "start_time": "2022-03-29T12:39:20.876Z"
   },
   {
    "duration": 16,
    "start_time": "2022-03-29T12:39:21.000Z"
   },
   {
    "duration": 9,
    "start_time": "2022-03-29T12:39:21.021Z"
   },
   {
    "duration": 152,
    "start_time": "2022-03-29T12:39:21.032Z"
   },
   {
    "duration": 83,
    "start_time": "2022-03-29T12:39:21.186Z"
   },
   {
    "duration": 11,
    "start_time": "2022-03-29T12:39:21.283Z"
   },
   {
    "duration": 164,
    "start_time": "2022-03-29T12:39:21.295Z"
   },
   {
    "duration": 104,
    "start_time": "2022-03-29T12:39:21.460Z"
   },
   {
    "duration": 17,
    "start_time": "2022-03-29T12:39:21.566Z"
   },
   {
    "duration": 245,
    "start_time": "2022-03-29T12:39:21.585Z"
   },
   {
    "duration": 101,
    "start_time": "2022-03-29T12:39:21.831Z"
   },
   {
    "duration": 6,
    "start_time": "2022-03-29T12:39:21.934Z"
   },
   {
    "duration": 3,
    "start_time": "2022-03-29T12:39:21.941Z"
   },
   {
    "duration": 23,
    "start_time": "2022-03-29T12:39:21.945Z"
   },
   {
    "duration": 153,
    "start_time": "2022-03-29T12:39:21.970Z"
   },
   {
    "duration": 137,
    "start_time": "2022-03-29T12:39:22.125Z"
   },
   {
    "duration": 10,
    "start_time": "2022-03-29T12:39:22.264Z"
   },
   {
    "duration": 159,
    "start_time": "2022-03-29T12:39:22.284Z"
   },
   {
    "duration": 116,
    "start_time": "2022-03-29T12:39:22.444Z"
   },
   {
    "duration": 2768,
    "start_time": "2022-03-29T12:39:22.562Z"
   },
   {
    "duration": 18,
    "start_time": "2022-03-29T12:39:25.332Z"
   },
   {
    "duration": 142,
    "start_time": "2022-03-29T12:39:25.351Z"
   },
   {
    "duration": 154,
    "start_time": "2022-03-29T12:39:25.494Z"
   },
   {
    "duration": 124,
    "start_time": "2022-03-29T12:39:25.650Z"
   },
   {
    "duration": 1270,
    "start_time": "2022-03-29T12:39:25.782Z"
   },
   {
    "duration": 133,
    "start_time": "2022-03-29T12:39:27.054Z"
   },
   {
    "duration": 397,
    "start_time": "2022-03-29T12:39:27.189Z"
   },
   {
    "duration": 8,
    "start_time": "2022-03-29T12:39:27.588Z"
   },
   {
    "duration": 255,
    "start_time": "2022-03-29T12:39:27.598Z"
   },
   {
    "duration": 13,
    "start_time": "2022-03-29T12:39:27.855Z"
   },
   {
    "duration": 13,
    "start_time": "2022-03-29T12:39:27.869Z"
   },
   {
    "duration": 161,
    "start_time": "2022-03-29T12:39:27.883Z"
   },
   {
    "duration": 169,
    "start_time": "2022-03-29T12:39:28.046Z"
   },
   {
    "duration": 157,
    "start_time": "2022-03-29T12:39:28.217Z"
   },
   {
    "duration": 163,
    "start_time": "2022-03-29T12:39:28.375Z"
   },
   {
    "duration": 3,
    "start_time": "2022-03-29T12:39:28.540Z"
   },
   {
    "duration": 136,
    "start_time": "2022-03-29T12:39:28.544Z"
   },
   {
    "duration": 6,
    "start_time": "2022-03-29T12:39:28.682Z"
   },
   {
    "duration": 166,
    "start_time": "2022-03-29T12:39:28.693Z"
   },
   {
    "duration": 11,
    "start_time": "2022-03-29T12:39:28.861Z"
   },
   {
    "duration": 33,
    "start_time": "2022-03-29T12:39:28.874Z"
   },
   {
    "duration": 819,
    "start_time": "2022-03-29T12:39:28.909Z"
   },
   {
    "duration": 128,
    "start_time": "2022-03-29T12:39:29.730Z"
   },
   {
    "duration": 12,
    "start_time": "2022-03-29T12:48:19.394Z"
   },
   {
    "duration": 172,
    "start_time": "2022-03-29T12:48:54.206Z"
   },
   {
    "duration": 3,
    "start_time": "2022-03-29T12:50:52.439Z"
   },
   {
    "duration": 107,
    "start_time": "2022-03-29T12:50:52.449Z"
   },
   {
    "duration": 79,
    "start_time": "2022-03-29T12:50:52.558Z"
   },
   {
    "duration": 15,
    "start_time": "2022-03-29T12:50:52.639Z"
   },
   {
    "duration": 29,
    "start_time": "2022-03-29T12:50:52.656Z"
   },
   {
    "duration": 11,
    "start_time": "2022-03-29T12:50:52.687Z"
   },
   {
    "duration": 6,
    "start_time": "2022-03-29T12:50:52.699Z"
   },
   {
    "duration": 5,
    "start_time": "2022-03-29T12:50:52.706Z"
   },
   {
    "duration": 215,
    "start_time": "2022-03-29T12:50:52.712Z"
   },
   {
    "duration": 7,
    "start_time": "2022-03-29T12:50:52.928Z"
   },
   {
    "duration": 8,
    "start_time": "2022-03-29T12:50:52.937Z"
   },
   {
    "duration": 5,
    "start_time": "2022-03-29T12:50:52.946Z"
   },
   {
    "duration": 4,
    "start_time": "2022-03-29T12:50:52.953Z"
   },
   {
    "duration": 26,
    "start_time": "2022-03-29T12:50:52.959Z"
   },
   {
    "duration": 6,
    "start_time": "2022-03-29T12:50:52.986Z"
   },
   {
    "duration": 11,
    "start_time": "2022-03-29T12:50:52.993Z"
   },
   {
    "duration": 10,
    "start_time": "2022-03-29T12:50:53.005Z"
   },
   {
    "duration": 181,
    "start_time": "2022-03-29T12:50:53.016Z"
   },
   {
    "duration": 11,
    "start_time": "2022-03-29T12:50:53.199Z"
   },
   {
    "duration": 8,
    "start_time": "2022-03-29T12:50:53.211Z"
   },
   {
    "duration": 4,
    "start_time": "2022-03-29T12:50:53.221Z"
   },
   {
    "duration": 4,
    "start_time": "2022-03-29T12:50:53.226Z"
   },
   {
    "duration": 12,
    "start_time": "2022-03-29T12:50:53.232Z"
   },
   {
    "duration": 5,
    "start_time": "2022-03-29T12:50:53.245Z"
   },
   {
    "duration": 42,
    "start_time": "2022-03-29T12:50:53.251Z"
   },
   {
    "duration": 4,
    "start_time": "2022-03-29T12:50:53.295Z"
   },
   {
    "duration": 219,
    "start_time": "2022-03-29T12:50:53.301Z"
   },
   {
    "duration": 3,
    "start_time": "2022-03-29T12:50:53.522Z"
   },
   {
    "duration": 26,
    "start_time": "2022-03-29T12:50:53.529Z"
   },
   {
    "duration": 33,
    "start_time": "2022-03-29T12:50:53.557Z"
   },
   {
    "duration": 19,
    "start_time": "2022-03-29T12:50:53.592Z"
   },
   {
    "duration": 35,
    "start_time": "2022-03-29T12:50:53.613Z"
   },
   {
    "duration": 3,
    "start_time": "2022-03-29T12:50:53.650Z"
   },
   {
    "duration": 7,
    "start_time": "2022-03-29T12:50:53.655Z"
   },
   {
    "duration": 269,
    "start_time": "2022-03-29T12:50:53.683Z"
   },
   {
    "duration": 104,
    "start_time": "2022-03-29T12:50:53.954Z"
   },
   {
    "duration": 8,
    "start_time": "2022-03-29T12:50:54.060Z"
   },
   {
    "duration": 191,
    "start_time": "2022-03-29T12:50:54.069Z"
   },
   {
    "duration": 111,
    "start_time": "2022-03-29T12:50:54.262Z"
   },
   {
    "duration": 25,
    "start_time": "2022-03-29T12:50:54.375Z"
   },
   {
    "duration": 9,
    "start_time": "2022-03-29T12:50:54.402Z"
   },
   {
    "duration": 148,
    "start_time": "2022-03-29T12:50:54.413Z"
   },
   {
    "duration": 97,
    "start_time": "2022-03-29T12:50:54.563Z"
   },
   {
    "duration": 9,
    "start_time": "2022-03-29T12:50:54.661Z"
   },
   {
    "duration": 163,
    "start_time": "2022-03-29T12:50:54.681Z"
   },
   {
    "duration": 113,
    "start_time": "2022-03-29T12:50:54.846Z"
   },
   {
    "duration": 10,
    "start_time": "2022-03-29T12:50:54.960Z"
   },
   {
    "duration": 177,
    "start_time": "2022-03-29T12:50:54.971Z"
   },
   {
    "duration": 107,
    "start_time": "2022-03-29T12:50:55.150Z"
   },
   {
    "duration": 7,
    "start_time": "2022-03-29T12:50:55.258Z"
   },
   {
    "duration": 16,
    "start_time": "2022-03-29T12:50:55.266Z"
   },
   {
    "duration": 22,
    "start_time": "2022-03-29T12:50:55.284Z"
   },
   {
    "duration": 246,
    "start_time": "2022-03-29T12:50:55.308Z"
   },
   {
    "duration": 148,
    "start_time": "2022-03-29T12:50:55.556Z"
   },
   {
    "duration": 9,
    "start_time": "2022-03-29T12:50:55.705Z"
   },
   {
    "duration": 166,
    "start_time": "2022-03-29T12:50:55.715Z"
   },
   {
    "duration": 118,
    "start_time": "2022-03-29T12:50:55.883Z"
   },
   {
    "duration": 2613,
    "start_time": "2022-03-29T12:50:56.002Z"
   },
   {
    "duration": 128,
    "start_time": "2022-03-29T12:50:58.616Z"
   },
   {
    "duration": 468,
    "start_time": "2022-03-29T12:50:58.745Z"
   },
   {
    "duration": 308,
    "start_time": "2022-03-29T12:50:59.215Z"
   },
   {
    "duration": 273,
    "start_time": "2022-03-29T12:50:59.525Z"
   },
   {
    "duration": 634,
    "start_time": "2022-03-29T12:50:59.800Z"
   },
   {
    "duration": 7,
    "start_time": "2022-03-29T12:51:00.436Z"
   },
   {
    "duration": 272,
    "start_time": "2022-03-29T12:51:00.444Z"
   },
   {
    "duration": 12,
    "start_time": "2022-03-29T12:51:00.718Z"
   },
   {
    "duration": 9,
    "start_time": "2022-03-29T12:51:00.731Z"
   },
   {
    "duration": 175,
    "start_time": "2022-03-29T12:51:00.742Z"
   },
   {
    "duration": 184,
    "start_time": "2022-03-29T12:51:00.919Z"
   },
   {
    "duration": 158,
    "start_time": "2022-03-29T12:51:01.104Z"
   },
   {
    "duration": 167,
    "start_time": "2022-03-29T12:51:01.263Z"
   },
   {
    "duration": 4,
    "start_time": "2022-03-29T12:51:01.431Z"
   },
   {
    "duration": 246,
    "start_time": "2022-03-29T12:51:01.437Z"
   },
   {
    "duration": 5,
    "start_time": "2022-03-29T12:51:01.685Z"
   },
   {
    "duration": 151,
    "start_time": "2022-03-29T12:51:01.691Z"
   },
   {
    "duration": 11,
    "start_time": "2022-03-29T12:51:01.843Z"
   },
   {
    "duration": 125,
    "start_time": "2022-03-29T12:51:01.856Z"
   },
   {
    "duration": 12,
    "start_time": "2022-03-29T12:51:01.982Z"
   },
   {
    "duration": 733,
    "start_time": "2022-03-29T12:51:01.995Z"
   },
   {
    "duration": 128,
    "start_time": "2022-03-29T12:51:02.729Z"
   },
   {
    "duration": 134,
    "start_time": "2022-03-29T12:53:15.964Z"
   },
   {
    "duration": 213,
    "start_time": "2022-03-29T12:53:27.949Z"
   },
   {
    "duration": 9,
    "start_time": "2022-03-29T12:55:33.820Z"
   },
   {
    "duration": 9,
    "start_time": "2022-03-29T12:55:48.548Z"
   },
   {
    "duration": 135,
    "start_time": "2022-03-29T12:56:13.205Z"
   },
   {
    "duration": 125,
    "start_time": "2022-03-29T12:56:22.025Z"
   },
   {
    "duration": 157,
    "start_time": "2022-03-29T12:56:27.541Z"
   },
   {
    "duration": 114,
    "start_time": "2022-03-29T12:56:32.102Z"
   },
   {
    "duration": 130,
    "start_time": "2022-03-29T12:57:57.477Z"
   },
   {
    "duration": 15,
    "start_time": "2022-03-29T12:58:13.986Z"
   },
   {
    "duration": 2,
    "start_time": "2022-03-29T12:58:34.100Z"
   },
   {
    "duration": 111,
    "start_time": "2022-03-29T12:58:34.109Z"
   },
   {
    "duration": 90,
    "start_time": "2022-03-29T12:58:34.222Z"
   },
   {
    "duration": 21,
    "start_time": "2022-03-29T12:58:34.314Z"
   },
   {
    "duration": 8,
    "start_time": "2022-03-29T12:58:34.338Z"
   },
   {
    "duration": 48,
    "start_time": "2022-03-29T12:58:34.349Z"
   },
   {
    "duration": 6,
    "start_time": "2022-03-29T12:58:34.399Z"
   },
   {
    "duration": 3,
    "start_time": "2022-03-29T12:58:34.407Z"
   },
   {
    "duration": 234,
    "start_time": "2022-03-29T12:58:34.411Z"
   },
   {
    "duration": 8,
    "start_time": "2022-03-29T12:58:34.647Z"
   },
   {
    "duration": 26,
    "start_time": "2022-03-29T12:58:34.659Z"
   },
   {
    "duration": 15,
    "start_time": "2022-03-29T12:58:34.687Z"
   },
   {
    "duration": 11,
    "start_time": "2022-03-29T12:58:34.704Z"
   },
   {
    "duration": 9,
    "start_time": "2022-03-29T12:58:34.716Z"
   },
   {
    "duration": 7,
    "start_time": "2022-03-29T12:58:34.726Z"
   },
   {
    "duration": 18,
    "start_time": "2022-03-29T12:58:34.734Z"
   },
   {
    "duration": 11,
    "start_time": "2022-03-29T12:58:34.753Z"
   },
   {
    "duration": 188,
    "start_time": "2022-03-29T12:58:34.765Z"
   },
   {
    "duration": 9,
    "start_time": "2022-03-29T12:58:34.954Z"
   },
   {
    "duration": 29,
    "start_time": "2022-03-29T12:58:34.965Z"
   },
   {
    "duration": 32,
    "start_time": "2022-03-29T12:58:34.996Z"
   },
   {
    "duration": 16,
    "start_time": "2022-03-29T12:58:35.030Z"
   },
   {
    "duration": 47,
    "start_time": "2022-03-29T12:58:35.047Z"
   },
   {
    "duration": 22,
    "start_time": "2022-03-29T12:58:35.096Z"
   },
   {
    "duration": 30,
    "start_time": "2022-03-29T12:58:35.119Z"
   },
   {
    "duration": 26,
    "start_time": "2022-03-29T12:58:35.151Z"
   },
   {
    "duration": 252,
    "start_time": "2022-03-29T12:58:35.178Z"
   },
   {
    "duration": 4,
    "start_time": "2022-03-29T12:58:35.431Z"
   },
   {
    "duration": 26,
    "start_time": "2022-03-29T12:58:35.440Z"
   },
   {
    "duration": 55,
    "start_time": "2022-03-29T12:58:35.467Z"
   },
   {
    "duration": 71,
    "start_time": "2022-03-29T12:58:35.524Z"
   },
   {
    "duration": 33,
    "start_time": "2022-03-29T12:58:35.598Z"
   },
   {
    "duration": 3,
    "start_time": "2022-03-29T12:58:35.633Z"
   },
   {
    "duration": 7,
    "start_time": "2022-03-29T12:58:35.637Z"
   },
   {
    "duration": 214,
    "start_time": "2022-03-29T12:58:35.645Z"
   },
   {
    "duration": 96,
    "start_time": "2022-03-29T12:58:35.860Z"
   },
   {
    "duration": 8,
    "start_time": "2022-03-29T12:58:35.957Z"
   },
   {
    "duration": 279,
    "start_time": "2022-03-29T12:58:35.966Z"
   },
   {
    "duration": 118,
    "start_time": "2022-03-29T12:58:36.247Z"
   },
   {
    "duration": 27,
    "start_time": "2022-03-29T12:58:36.367Z"
   },
   {
    "duration": 7,
    "start_time": "2022-03-29T12:58:36.396Z"
   },
   {
    "duration": 171,
    "start_time": "2022-03-29T12:58:36.404Z"
   },
   {
    "duration": 93,
    "start_time": "2022-03-29T12:58:36.577Z"
   },
   {
    "duration": 11,
    "start_time": "2022-03-29T12:58:36.680Z"
   },
   {
    "duration": 182,
    "start_time": "2022-03-29T12:58:36.693Z"
   },
   {
    "duration": 118,
    "start_time": "2022-03-29T12:58:36.877Z"
   },
   {
    "duration": 8,
    "start_time": "2022-03-29T12:58:36.997Z"
   },
   {
    "duration": 165,
    "start_time": "2022-03-29T12:58:37.006Z"
   },
   {
    "duration": 96,
    "start_time": "2022-03-29T12:58:37.172Z"
   },
   {
    "duration": 12,
    "start_time": "2022-03-29T12:58:37.269Z"
   },
   {
    "duration": 18,
    "start_time": "2022-03-29T12:58:37.283Z"
   },
   {
    "duration": 21,
    "start_time": "2022-03-29T12:58:37.303Z"
   },
   {
    "duration": 128,
    "start_time": "2022-03-29T12:58:37.326Z"
   },
   {
    "duration": 146,
    "start_time": "2022-03-29T12:58:37.456Z"
   },
   {
    "duration": 9,
    "start_time": "2022-03-29T12:58:37.603Z"
   },
   {
    "duration": 166,
    "start_time": "2022-03-29T12:58:37.613Z"
   },
   {
    "duration": 220,
    "start_time": "2022-03-29T12:58:37.780Z"
   },
   {
    "duration": 3896,
    "start_time": "2022-03-29T12:58:38.002Z"
   },
   {
    "duration": 12,
    "start_time": "2022-03-29T12:58:41.899Z"
   },
   {
    "duration": 131,
    "start_time": "2022-03-29T12:58:41.912Z"
   },
   {
    "duration": 155,
    "start_time": "2022-03-29T12:58:42.045Z"
   },
   {
    "duration": 122,
    "start_time": "2022-03-29T12:58:42.202Z"
   },
   {
    "duration": 128,
    "start_time": "2022-03-29T12:58:42.326Z"
   },
   {
    "duration": 383,
    "start_time": "2022-03-29T12:58:42.456Z"
   },
   {
    "duration": 7,
    "start_time": "2022-03-29T12:58:42.840Z"
   },
   {
    "duration": 265,
    "start_time": "2022-03-29T12:58:42.849Z"
   },
   {
    "duration": 13,
    "start_time": "2022-03-29T12:58:43.116Z"
   },
   {
    "duration": 3,
    "start_time": "2022-03-29T12:58:43.130Z"
   },
   {
    "duration": 187,
    "start_time": "2022-03-29T12:58:43.135Z"
   },
   {
    "duration": 169,
    "start_time": "2022-03-29T12:58:43.323Z"
   },
   {
    "duration": 160,
    "start_time": "2022-03-29T12:58:43.494Z"
   },
   {
    "duration": 162,
    "start_time": "2022-03-29T12:58:43.656Z"
   },
   {
    "duration": 4,
    "start_time": "2022-03-29T12:58:43.819Z"
   },
   {
    "duration": 126,
    "start_time": "2022-03-29T12:58:43.825Z"
   },
   {
    "duration": 4,
    "start_time": "2022-03-29T12:58:43.952Z"
   },
   {
    "duration": 149,
    "start_time": "2022-03-29T12:58:43.957Z"
   },
   {
    "duration": 212,
    "start_time": "2022-03-29T12:58:44.107Z"
   },
   {
    "duration": 9,
    "start_time": "2022-03-29T12:58:44.320Z"
   },
   {
    "duration": 133,
    "start_time": "2022-03-29T12:58:44.330Z"
   },
   {
    "duration": 166,
    "start_time": "2022-03-29T12:58:44.464Z"
   },
   {
    "duration": 131,
    "start_time": "2022-03-29T12:58:44.631Z"
   },
   {
    "duration": 132,
    "start_time": "2022-03-29T12:58:44.763Z"
   },
   {
    "duration": 117,
    "start_time": "2022-03-29T13:05:37.819Z"
   },
   {
    "duration": 119,
    "start_time": "2022-03-29T13:31:11.645Z"
   },
   {
    "duration": 1785,
    "start_time": "2022-03-29T14:42:39.734Z"
   },
   {
    "duration": 155,
    "start_time": "2022-03-29T14:42:41.522Z"
   },
   {
    "duration": 122,
    "start_time": "2022-03-29T14:42:41.679Z"
   },
   {
    "duration": 24,
    "start_time": "2022-03-29T14:42:41.804Z"
   },
   {
    "duration": 11,
    "start_time": "2022-03-29T14:42:41.830Z"
   },
   {
    "duration": 51,
    "start_time": "2022-03-29T14:42:41.846Z"
   },
   {
    "duration": 9,
    "start_time": "2022-03-29T14:42:41.901Z"
   },
   {
    "duration": 5,
    "start_time": "2022-03-29T14:42:41.912Z"
   },
   {
    "duration": 344,
    "start_time": "2022-03-29T14:42:41.919Z"
   },
   {
    "duration": 21,
    "start_time": "2022-03-29T14:42:42.267Z"
   },
   {
    "duration": 21,
    "start_time": "2022-03-29T14:42:42.290Z"
   },
   {
    "duration": 19,
    "start_time": "2022-03-29T14:42:42.313Z"
   },
   {
    "duration": 8,
    "start_time": "2022-03-29T14:42:42.335Z"
   },
   {
    "duration": 8,
    "start_time": "2022-03-29T14:42:42.346Z"
   },
   {
    "duration": 24,
    "start_time": "2022-03-29T14:42:42.357Z"
   },
   {
    "duration": 9,
    "start_time": "2022-03-29T14:42:42.391Z"
   },
   {
    "duration": 8,
    "start_time": "2022-03-29T14:42:42.405Z"
   },
   {
    "duration": 319,
    "start_time": "2022-03-29T14:42:42.417Z"
   },
   {
    "duration": 14,
    "start_time": "2022-03-29T14:42:42.738Z"
   },
   {
    "duration": 35,
    "start_time": "2022-03-29T14:42:42.754Z"
   },
   {
    "duration": 5,
    "start_time": "2022-03-29T14:42:42.791Z"
   },
   {
    "duration": 5,
    "start_time": "2022-03-29T14:42:42.798Z"
   },
   {
    "duration": 18,
    "start_time": "2022-03-29T14:42:42.805Z"
   },
   {
    "duration": 7,
    "start_time": "2022-03-29T14:42:42.825Z"
   },
   {
    "duration": 52,
    "start_time": "2022-03-29T14:42:42.834Z"
   },
   {
    "duration": 7,
    "start_time": "2022-03-29T14:42:42.888Z"
   },
   {
    "duration": 378,
    "start_time": "2022-03-29T14:42:42.897Z"
   },
   {
    "duration": 6,
    "start_time": "2022-03-29T14:42:43.283Z"
   },
   {
    "duration": 8,
    "start_time": "2022-03-29T14:42:43.292Z"
   },
   {
    "duration": 42,
    "start_time": "2022-03-29T14:42:43.303Z"
   },
   {
    "duration": 55,
    "start_time": "2022-03-29T14:42:43.347Z"
   },
   {
    "duration": 78,
    "start_time": "2022-03-29T14:42:43.404Z"
   },
   {
    "duration": 5,
    "start_time": "2022-03-29T14:42:43.485Z"
   },
   {
    "duration": 10,
    "start_time": "2022-03-29T14:42:43.493Z"
   },
   {
    "duration": 356,
    "start_time": "2022-03-29T14:42:43.505Z"
   },
   {
    "duration": 173,
    "start_time": "2022-03-29T14:42:43.863Z"
   },
   {
    "duration": 11,
    "start_time": "2022-03-29T14:42:44.038Z"
   },
   {
    "duration": 340,
    "start_time": "2022-03-29T14:42:44.051Z"
   },
   {
    "duration": 207,
    "start_time": "2022-03-29T14:42:44.394Z"
   },
   {
    "duration": 29,
    "start_time": "2022-03-29T14:42:44.604Z"
   },
   {
    "duration": 13,
    "start_time": "2022-03-29T14:42:44.636Z"
   },
   {
    "duration": 449,
    "start_time": "2022-03-29T14:42:44.674Z"
   },
   {
    "duration": 189,
    "start_time": "2022-03-29T14:42:45.126Z"
   },
   {
    "duration": 13,
    "start_time": "2022-03-29T14:42:45.317Z"
   },
   {
    "duration": 311,
    "start_time": "2022-03-29T14:42:45.332Z"
   },
   {
    "duration": 199,
    "start_time": "2022-03-29T14:42:45.645Z"
   },
   {
    "duration": 29,
    "start_time": "2022-03-29T14:42:45.847Z"
   },
   {
    "duration": 352,
    "start_time": "2022-03-29T14:42:45.879Z"
   },
   {
    "duration": 194,
    "start_time": "2022-03-29T14:42:46.234Z"
   },
   {
    "duration": 9,
    "start_time": "2022-03-29T14:42:46.431Z"
   },
   {
    "duration": 4,
    "start_time": "2022-03-29T14:42:46.442Z"
   },
   {
    "duration": 48,
    "start_time": "2022-03-29T14:42:46.449Z"
   },
   {
    "duration": 266,
    "start_time": "2022-03-29T14:42:46.499Z"
   },
   {
    "duration": 265,
    "start_time": "2022-03-29T14:42:46.768Z"
   },
   {
    "duration": 15,
    "start_time": "2022-03-29T14:42:47.035Z"
   },
   {
    "duration": 300,
    "start_time": "2022-03-29T14:42:47.052Z"
   },
   {
    "duration": 220,
    "start_time": "2022-03-29T14:42:47.354Z"
   },
   {
    "duration": 4689,
    "start_time": "2022-03-29T14:42:47.576Z"
   },
   {
    "duration": 233,
    "start_time": "2022-03-29T14:42:52.268Z"
   },
   {
    "duration": 277,
    "start_time": "2022-03-29T14:42:52.503Z"
   },
   {
    "duration": 236,
    "start_time": "2022-03-29T14:42:52.783Z"
   },
   {
    "duration": 247,
    "start_time": "2022-03-29T14:42:53.021Z"
   },
   {
    "duration": 564,
    "start_time": "2022-03-29T14:42:53.274Z"
   },
   {
    "duration": 11,
    "start_time": "2022-03-29T14:42:53.840Z"
   },
   {
    "duration": 582,
    "start_time": "2022-03-29T14:42:53.854Z"
   },
   {
    "duration": 20,
    "start_time": "2022-03-29T14:42:54.439Z"
   },
   {
    "duration": 5,
    "start_time": "2022-03-29T14:42:54.477Z"
   },
   {
    "duration": 307,
    "start_time": "2022-03-29T14:42:54.485Z"
   },
   {
    "duration": 305,
    "start_time": "2022-03-29T14:42:54.794Z"
   },
   {
    "duration": 290,
    "start_time": "2022-03-29T14:42:55.101Z"
   },
   {
    "duration": 299,
    "start_time": "2022-03-29T14:42:55.393Z"
   },
   {
    "duration": 5,
    "start_time": "2022-03-29T14:42:55.695Z"
   },
   {
    "duration": 241,
    "start_time": "2022-03-29T14:42:55.702Z"
   },
   {
    "duration": 6,
    "start_time": "2022-03-29T14:42:55.945Z"
   },
   {
    "duration": 263,
    "start_time": "2022-03-29T14:42:55.953Z"
   },
   {
    "duration": 221,
    "start_time": "2022-03-29T14:42:56.219Z"
   },
   {
    "duration": 14,
    "start_time": "2022-03-29T14:42:56.442Z"
   },
   {
    "duration": 343,
    "start_time": "2022-03-29T14:42:56.457Z"
   },
   {
    "duration": 297,
    "start_time": "2022-03-29T14:42:56.803Z"
   },
   {
    "duration": 242,
    "start_time": "2022-03-29T14:42:57.102Z"
   },
   {
    "duration": 226,
    "start_time": "2022-03-29T14:42:57.347Z"
   },
   {
    "duration": 109,
    "start_time": "2022-03-29T14:43:03.351Z"
   },
   {
    "duration": 4,
    "start_time": "2022-03-29T14:43:33.621Z"
   },
   {
    "duration": 162,
    "start_time": "2022-03-29T14:43:37.829Z"
   },
   {
    "duration": 213,
    "start_time": "2022-03-29T14:54:36.604Z"
   },
   {
    "duration": 90,
    "start_time": "2022-03-29T14:54:42.944Z"
   },
   {
    "duration": 323,
    "start_time": "2022-03-29T14:54:58.388Z"
   },
   {
    "duration": 213,
    "start_time": "2022-03-29T14:55:04.261Z"
   },
   {
    "duration": 1273,
    "start_time": "2022-09-20T08:25:16.191Z"
   },
   {
    "duration": 351,
    "start_time": "2022-09-20T08:25:17.467Z"
   },
   {
    "duration": 93,
    "start_time": "2022-09-20T08:25:17.819Z"
   },
   {
    "duration": 17,
    "start_time": "2022-09-20T08:25:17.914Z"
   },
   {
    "duration": 8,
    "start_time": "2022-09-20T08:25:17.933Z"
   },
   {
    "duration": 9,
    "start_time": "2022-09-20T08:25:17.943Z"
   },
   {
    "duration": 5,
    "start_time": "2022-09-20T08:25:17.954Z"
   },
   {
    "duration": 4,
    "start_time": "2022-09-20T08:25:17.961Z"
   },
   {
    "duration": 215,
    "start_time": "2022-09-20T08:25:17.966Z"
   },
   {
    "duration": 6,
    "start_time": "2022-09-20T08:25:18.183Z"
   },
   {
    "duration": 14,
    "start_time": "2022-09-20T08:25:18.200Z"
   },
   {
    "duration": 8,
    "start_time": "2022-09-20T08:25:18.216Z"
   },
   {
    "duration": 4,
    "start_time": "2022-09-20T08:25:18.225Z"
   },
   {
    "duration": 6,
    "start_time": "2022-09-20T08:25:18.230Z"
   },
   {
    "duration": 5,
    "start_time": "2022-09-20T08:25:18.237Z"
   },
   {
    "duration": 10,
    "start_time": "2022-09-20T08:25:18.243Z"
   },
   {
    "duration": 6,
    "start_time": "2022-09-20T08:25:18.255Z"
   },
   {
    "duration": 185,
    "start_time": "2022-09-20T08:25:18.263Z"
   },
   {
    "duration": 8,
    "start_time": "2022-09-20T08:25:18.450Z"
   },
   {
    "duration": 8,
    "start_time": "2022-09-20T08:25:18.459Z"
   },
   {
    "duration": 6,
    "start_time": "2022-09-20T08:25:18.468Z"
   },
   {
    "duration": 5,
    "start_time": "2022-09-20T08:25:18.475Z"
   },
   {
    "duration": 28,
    "start_time": "2022-09-20T08:25:18.481Z"
   },
   {
    "duration": 7,
    "start_time": "2022-09-20T08:25:18.511Z"
   },
   {
    "duration": 11,
    "start_time": "2022-09-20T08:25:18.519Z"
   },
   {
    "duration": 2,
    "start_time": "2022-09-20T08:25:18.531Z"
   },
   {
    "duration": 202,
    "start_time": "2022-09-20T08:25:18.535Z"
   },
   {
    "duration": 3,
    "start_time": "2022-09-20T08:25:18.740Z"
   },
   {
    "duration": 17,
    "start_time": "2022-09-20T08:25:18.744Z"
   },
   {
    "duration": 23,
    "start_time": "2022-09-20T08:25:18.762Z"
   },
   {
    "duration": 26,
    "start_time": "2022-09-20T08:25:18.787Z"
   },
   {
    "duration": 32,
    "start_time": "2022-09-20T08:25:18.819Z"
   },
   {
    "duration": 2,
    "start_time": "2022-09-20T08:25:18.852Z"
   },
   {
    "duration": 11,
    "start_time": "2022-09-20T08:25:18.856Z"
   },
   {
    "duration": 199,
    "start_time": "2022-09-20T08:25:18.869Z"
   },
   {
    "duration": 119,
    "start_time": "2022-09-20T08:25:19.069Z"
   },
   {
    "duration": 12,
    "start_time": "2022-09-20T08:25:19.190Z"
   },
   {
    "duration": 190,
    "start_time": "2022-09-20T08:25:19.203Z"
   },
   {
    "duration": 118,
    "start_time": "2022-09-20T08:25:19.395Z"
   },
   {
    "duration": 15,
    "start_time": "2022-09-20T08:25:19.515Z"
   },
   {
    "duration": 16,
    "start_time": "2022-09-20T08:25:19.532Z"
   },
   {
    "duration": 209,
    "start_time": "2022-09-20T08:25:19.549Z"
   },
   {
    "duration": 98,
    "start_time": "2022-09-20T08:25:19.759Z"
   },
   {
    "duration": 8,
    "start_time": "2022-09-20T08:25:19.858Z"
   },
   {
    "duration": 182,
    "start_time": "2022-09-20T08:25:19.867Z"
   },
   {
    "duration": 118,
    "start_time": "2022-09-20T08:25:20.050Z"
   },
   {
    "duration": 7,
    "start_time": "2022-09-20T08:25:20.169Z"
   },
   {
    "duration": 182,
    "start_time": "2022-09-20T08:25:20.178Z"
   },
   {
    "duration": 112,
    "start_time": "2022-09-20T08:25:20.362Z"
   },
   {
    "duration": 8,
    "start_time": "2022-09-20T08:25:20.476Z"
   },
   {
    "duration": 3,
    "start_time": "2022-09-20T08:25:20.485Z"
   },
   {
    "duration": 33,
    "start_time": "2022-09-20T08:25:20.490Z"
   },
   {
    "duration": 149,
    "start_time": "2022-09-20T08:25:20.524Z"
   },
   {
    "duration": 160,
    "start_time": "2022-09-20T08:25:20.675Z"
   },
   {
    "duration": 9,
    "start_time": "2022-09-20T08:25:20.836Z"
   },
   {
    "duration": 169,
    "start_time": "2022-09-20T08:25:20.847Z"
   },
   {
    "duration": 125,
    "start_time": "2022-09-20T08:25:21.018Z"
   },
   {
    "duration": 2864,
    "start_time": "2022-09-20T08:25:21.144Z"
   },
   {
    "duration": 132,
    "start_time": "2022-09-20T08:25:24.014Z"
   },
   {
    "duration": 362,
    "start_time": "2022-09-20T08:25:24.147Z"
   },
   {
    "duration": 309,
    "start_time": "2022-09-20T08:25:24.514Z"
   },
   {
    "duration": 289,
    "start_time": "2022-09-20T08:25:24.824Z"
   },
   {
    "duration": 691,
    "start_time": "2022-09-20T08:25:25.116Z"
   },
   {
    "duration": 8,
    "start_time": "2022-09-20T08:25:25.809Z"
   },
   {
    "duration": 512,
    "start_time": "2022-09-20T08:25:25.818Z"
   },
   {
    "duration": 13,
    "start_time": "2022-09-20T08:25:26.331Z"
   },
   {
    "duration": 2,
    "start_time": "2022-09-20T08:25:26.346Z"
   },
   {
    "duration": 199,
    "start_time": "2022-09-20T08:25:26.350Z"
   },
   {
    "duration": 186,
    "start_time": "2022-09-20T08:25:26.550Z"
   },
   {
    "duration": 177,
    "start_time": "2022-09-20T08:25:26.737Z"
   },
   {
    "duration": 163,
    "start_time": "2022-09-20T08:25:26.916Z"
   },
   {
    "duration": 4,
    "start_time": "2022-09-20T08:25:27.081Z"
   },
   {
    "duration": 141,
    "start_time": "2022-09-20T08:25:27.086Z"
   },
   {
    "duration": 4,
    "start_time": "2022-09-20T08:25:27.229Z"
   },
   {
    "duration": 153,
    "start_time": "2022-09-20T08:25:27.234Z"
   },
   {
    "duration": 132,
    "start_time": "2022-09-20T08:25:27.388Z"
   },
   {
    "duration": 8,
    "start_time": "2022-09-20T08:25:27.522Z"
   },
   {
    "duration": 227,
    "start_time": "2022-09-20T08:25:27.531Z"
   },
   {
    "duration": 177,
    "start_time": "2022-09-20T08:25:27.760Z"
   },
   {
    "duration": 136,
    "start_time": "2022-09-20T08:25:27.938Z"
   },
   {
    "duration": 152,
    "start_time": "2022-09-20T08:25:28.076Z"
   }
  ],
  "kernelspec": {
   "display_name": "Python 3 (ipykernel)",
   "language": "python",
   "name": "python3"
  },
  "language_info": {
   "codemirror_mode": {
    "name": "ipython",
    "version": 3
   },
   "file_extension": ".py",
   "mimetype": "text/x-python",
   "name": "python",
   "nbconvert_exporter": "python",
   "pygments_lexer": "ipython3",
   "version": "3.9.5"
  },
  "toc": {
   "base_numbering": 1,
   "nav_menu": {},
   "number_sections": true,
   "sideBar": true,
   "skip_h1_title": true,
   "title_cell": "Содержание",
   "title_sidebar": "Contents",
   "toc_cell": true,
   "toc_position": {
    "height": "calc(100% - 180px)",
    "left": "10px",
    "top": "150px",
    "width": "165px"
   },
   "toc_section_display": true,
   "toc_window_display": true
  }
 },
 "nbformat": 4,
 "nbformat_minor": 4
}
