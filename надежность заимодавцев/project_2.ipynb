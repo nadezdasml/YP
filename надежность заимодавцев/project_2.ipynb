{
 "cells": [
  {
   "cell_type": "markdown",
   "id": "4b9a858e",
   "metadata": {},
   "source": [
    "# Исследование надежности заемщиков."
   ]
  },
  {
   "cell_type": "markdown",
   "id": "924bafc6",
   "metadata": {},
   "source": [
    "**Описание проекта:**\n",
    "\n",
    "Заказчик — кредитный отдел банка. Нужно разобраться, влияет ли семейное положение и количество детей клиента на факт погашения кредита в срок. Входные данные от банка — статистика о платёжеспособности клиентов.\n",
    "Результаты исследования будут учтены при построении модели кредитного скоринга — специальной системы, которая оценивает способность потенциального заёмщика вернуть кредит банку."
   ]
  },
  {
   "cell_type": "markdown",
   "id": "9d071821",
   "metadata": {},
   "source": [
    "### Шаг 1. 1 Обзор данных"
   ]
  },
  {
   "cell_type": "code",
   "execution_count": 1,
   "id": "7fe9d2a3",
   "metadata": {},
   "outputs": [],
   "source": [
    "import pandas as pd"
   ]
  },
  {
   "cell_type": "code",
   "execution_count": 2,
   "id": "261d98de",
   "metadata": {},
   "outputs": [
    {
     "data": {
      "text/html": [
       "<div>\n",
       "<style scoped>\n",
       "    .dataframe tbody tr th:only-of-type {\n",
       "        vertical-align: middle;\n",
       "    }\n",
       "\n",
       "    .dataframe tbody tr th {\n",
       "        vertical-align: top;\n",
       "    }\n",
       "\n",
       "    .dataframe thead th {\n",
       "        text-align: right;\n",
       "    }\n",
       "</style>\n",
       "<table border=\"1\" class=\"dataframe\">\n",
       "  <thead>\n",
       "    <tr style=\"text-align: right;\">\n",
       "      <th></th>\n",
       "      <th>children</th>\n",
       "      <th>days_employed</th>\n",
       "      <th>dob_years</th>\n",
       "      <th>education</th>\n",
       "      <th>education_id</th>\n",
       "      <th>family_status</th>\n",
       "      <th>family_status_id</th>\n",
       "      <th>gender</th>\n",
       "      <th>income_type</th>\n",
       "      <th>debt</th>\n",
       "      <th>total_income</th>\n",
       "      <th>purpose</th>\n",
       "    </tr>\n",
       "  </thead>\n",
       "  <tbody>\n",
       "    <tr>\n",
       "      <th>0</th>\n",
       "      <td>1</td>\n",
       "      <td>-8437.673028</td>\n",
       "      <td>42</td>\n",
       "      <td>высшее</td>\n",
       "      <td>0</td>\n",
       "      <td>женат / замужем</td>\n",
       "      <td>0</td>\n",
       "      <td>F</td>\n",
       "      <td>сотрудник</td>\n",
       "      <td>0</td>\n",
       "      <td>253875.639453</td>\n",
       "      <td>покупка жилья</td>\n",
       "    </tr>\n",
       "    <tr>\n",
       "      <th>1</th>\n",
       "      <td>1</td>\n",
       "      <td>-4024.803754</td>\n",
       "      <td>36</td>\n",
       "      <td>среднее</td>\n",
       "      <td>1</td>\n",
       "      <td>женат / замужем</td>\n",
       "      <td>0</td>\n",
       "      <td>F</td>\n",
       "      <td>сотрудник</td>\n",
       "      <td>0</td>\n",
       "      <td>112080.014102</td>\n",
       "      <td>приобретение автомобиля</td>\n",
       "    </tr>\n",
       "    <tr>\n",
       "      <th>2</th>\n",
       "      <td>0</td>\n",
       "      <td>-5623.422610</td>\n",
       "      <td>33</td>\n",
       "      <td>Среднее</td>\n",
       "      <td>1</td>\n",
       "      <td>женат / замужем</td>\n",
       "      <td>0</td>\n",
       "      <td>M</td>\n",
       "      <td>сотрудник</td>\n",
       "      <td>0</td>\n",
       "      <td>145885.952297</td>\n",
       "      <td>покупка жилья</td>\n",
       "    </tr>\n",
       "    <tr>\n",
       "      <th>3</th>\n",
       "      <td>3</td>\n",
       "      <td>-4124.747207</td>\n",
       "      <td>32</td>\n",
       "      <td>среднее</td>\n",
       "      <td>1</td>\n",
       "      <td>женат / замужем</td>\n",
       "      <td>0</td>\n",
       "      <td>M</td>\n",
       "      <td>сотрудник</td>\n",
       "      <td>0</td>\n",
       "      <td>267628.550329</td>\n",
       "      <td>дополнительное образование</td>\n",
       "    </tr>\n",
       "    <tr>\n",
       "      <th>4</th>\n",
       "      <td>0</td>\n",
       "      <td>340266.072047</td>\n",
       "      <td>53</td>\n",
       "      <td>среднее</td>\n",
       "      <td>1</td>\n",
       "      <td>гражданский брак</td>\n",
       "      <td>1</td>\n",
       "      <td>F</td>\n",
       "      <td>пенсионер</td>\n",
       "      <td>0</td>\n",
       "      <td>158616.077870</td>\n",
       "      <td>сыграть свадьбу</td>\n",
       "    </tr>\n",
       "    <tr>\n",
       "      <th>5</th>\n",
       "      <td>0</td>\n",
       "      <td>-926.185831</td>\n",
       "      <td>27</td>\n",
       "      <td>высшее</td>\n",
       "      <td>0</td>\n",
       "      <td>гражданский брак</td>\n",
       "      <td>1</td>\n",
       "      <td>M</td>\n",
       "      <td>компаньон</td>\n",
       "      <td>0</td>\n",
       "      <td>255763.565419</td>\n",
       "      <td>покупка жилья</td>\n",
       "    </tr>\n",
       "    <tr>\n",
       "      <th>6</th>\n",
       "      <td>0</td>\n",
       "      <td>-2879.202052</td>\n",
       "      <td>43</td>\n",
       "      <td>высшее</td>\n",
       "      <td>0</td>\n",
       "      <td>женат / замужем</td>\n",
       "      <td>0</td>\n",
       "      <td>F</td>\n",
       "      <td>компаньон</td>\n",
       "      <td>0</td>\n",
       "      <td>240525.971920</td>\n",
       "      <td>операции с жильем</td>\n",
       "    </tr>\n",
       "    <tr>\n",
       "      <th>7</th>\n",
       "      <td>0</td>\n",
       "      <td>-152.779569</td>\n",
       "      <td>50</td>\n",
       "      <td>СРЕДНЕЕ</td>\n",
       "      <td>1</td>\n",
       "      <td>женат / замужем</td>\n",
       "      <td>0</td>\n",
       "      <td>M</td>\n",
       "      <td>сотрудник</td>\n",
       "      <td>0</td>\n",
       "      <td>135823.934197</td>\n",
       "      <td>образование</td>\n",
       "    </tr>\n",
       "    <tr>\n",
       "      <th>8</th>\n",
       "      <td>2</td>\n",
       "      <td>-6929.865299</td>\n",
       "      <td>35</td>\n",
       "      <td>ВЫСШЕЕ</td>\n",
       "      <td>0</td>\n",
       "      <td>гражданский брак</td>\n",
       "      <td>1</td>\n",
       "      <td>F</td>\n",
       "      <td>сотрудник</td>\n",
       "      <td>0</td>\n",
       "      <td>95856.832424</td>\n",
       "      <td>на проведение свадьбы</td>\n",
       "    </tr>\n",
       "    <tr>\n",
       "      <th>9</th>\n",
       "      <td>0</td>\n",
       "      <td>-2188.756445</td>\n",
       "      <td>41</td>\n",
       "      <td>среднее</td>\n",
       "      <td>1</td>\n",
       "      <td>женат / замужем</td>\n",
       "      <td>0</td>\n",
       "      <td>M</td>\n",
       "      <td>сотрудник</td>\n",
       "      <td>0</td>\n",
       "      <td>144425.938277</td>\n",
       "      <td>покупка жилья для семьи</td>\n",
       "    </tr>\n",
       "  </tbody>\n",
       "</table>\n",
       "</div>"
      ],
      "text/plain": [
       "   children  days_employed  dob_years education  education_id  \\\n",
       "0         1   -8437.673028         42    высшее             0   \n",
       "1         1   -4024.803754         36   среднее             1   \n",
       "2         0   -5623.422610         33   Среднее             1   \n",
       "3         3   -4124.747207         32   среднее             1   \n",
       "4         0  340266.072047         53   среднее             1   \n",
       "5         0    -926.185831         27    высшее             0   \n",
       "6         0   -2879.202052         43    высшее             0   \n",
       "7         0    -152.779569         50   СРЕДНЕЕ             1   \n",
       "8         2   -6929.865299         35    ВЫСШЕЕ             0   \n",
       "9         0   -2188.756445         41   среднее             1   \n",
       "\n",
       "      family_status  family_status_id gender income_type  debt   total_income  \\\n",
       "0   женат / замужем                 0      F   сотрудник     0  253875.639453   \n",
       "1   женат / замужем                 0      F   сотрудник     0  112080.014102   \n",
       "2   женат / замужем                 0      M   сотрудник     0  145885.952297   \n",
       "3   женат / замужем                 0      M   сотрудник     0  267628.550329   \n",
       "4  гражданский брак                 1      F   пенсионер     0  158616.077870   \n",
       "5  гражданский брак                 1      M   компаньон     0  255763.565419   \n",
       "6   женат / замужем                 0      F   компаньон     0  240525.971920   \n",
       "7   женат / замужем                 0      M   сотрудник     0  135823.934197   \n",
       "8  гражданский брак                 1      F   сотрудник     0   95856.832424   \n",
       "9   женат / замужем                 0      M   сотрудник     0  144425.938277   \n",
       "\n",
       "                      purpose  \n",
       "0               покупка жилья  \n",
       "1     приобретение автомобиля  \n",
       "2               покупка жилья  \n",
       "3  дополнительное образование  \n",
       "4             сыграть свадьбу  \n",
       "5               покупка жилья  \n",
       "6           операции с жильем  \n",
       "7                 образование  \n",
       "8       на проведение свадьбы  \n",
       "9     покупка жилья для семьи  "
      ]
     },
     "metadata": {},
     "output_type": "display_data"
    },
    {
     "name": "stdout",
     "output_type": "stream",
     "text": [
      "<class 'pandas.core.frame.DataFrame'>\n",
      "RangeIndex: 21525 entries, 0 to 21524\n",
      "Data columns (total 12 columns):\n",
      " #   Column            Non-Null Count  Dtype  \n",
      "---  ------            --------------  -----  \n",
      " 0   children          21525 non-null  int64  \n",
      " 1   days_employed     19351 non-null  float64\n",
      " 2   dob_years         21525 non-null  int64  \n",
      " 3   education         21525 non-null  object \n",
      " 4   education_id      21525 non-null  int64  \n",
      " 5   family_status     21525 non-null  object \n",
      " 6   family_status_id  21525 non-null  int64  \n",
      " 7   gender            21525 non-null  object \n",
      " 8   income_type       21525 non-null  object \n",
      " 9   debt              21525 non-null  int64  \n",
      " 10  total_income      19351 non-null  float64\n",
      " 11  purpose           21525 non-null  object \n",
      "dtypes: float64(2), int64(5), object(5)\n",
      "memory usage: 2.0+ MB\n"
     ]
    }
   ],
   "source": [
    "# откроем таблицу и изучим общую информацию о данных\n",
    "df = pd.read_csv('/datasets/data.csv')\n",
    "# выведем первые 10 строк таблицы на экран\n",
    "display(df.head(10))\n",
    "df.info()"
   ]
  },
  {
   "cell_type": "markdown",
   "id": "156e9db7",
   "metadata": {},
   "source": [
    "Итак, в таблице 12 столбцов. В столбцах встречаются различные типы данных, а именно:`object`, `int64`, `float64`.\n",
    "\n",
    "Согласно документации к данным:\n",
    "\n",
    "*   `children` — количество детей в семье\n",
    "*\t`days_employed` — общий трудовой стаж в днях\n",
    "*\t`dob_years` — возраст клиента в годах\n",
    "*\t`education` — уровень образования клиента\n",
    "*\t`education_id` — идентификатор уровня образования\n",
    "*\t`family_status` — семейное положение\n",
    "*\t`family_status_id` — идентификатор семейного положения\n",
    "*\t`gender` — пол клиента\n",
    "*\t`income_type` — тип занятости\n",
    "*\t`debt` — имел ли задолженность по возврату кредитов\n",
    "*\t`total_income` — ежемесячный доход\n",
    "*\t`purpose` — цель получения кредита\n",
    "\n",
    "В названиях колонок отсутсвует нарушения стиля.\n",
    "\n",
    "Однако:\n",
    "* в колонке с указанием общего трудового стажа в днях `days_employed` встречаются отрицательные значения, кроме того, дни не могут быть вещественным числом. Возможно есть проблема с выгрузкой и про это стоит создать тикет человеку, который эти данные формировал. Но, предварительно, эти данные для анализа нам не нужны.\n",
    "* в столбце с идентификатором уровня образования `education_id` одни и те же сведния записаны в различном регистре, их необходимо привести к одному виду перед анализом.\n",
    "\n",
    "Имеет смысл переименовать:\n",
    "\n",
    "* dob_years в full_years\n",
    "* children в children_count, все же это не бинарный признак\n",
    "* education в education_level\n",
    "\n",
    "Количество значений в столбцах различается. Значит, в данных есть пропущенные значения."
   ]
  },
  {
   "cell_type": "markdown",
   "id": "c8f73188",
   "metadata": {},
   "source": [
    "### Шаг 1.2 Предобработка данных\n",
    "**Заголовки таблицы**"
   ]
  },
  {
   "cell_type": "code",
   "execution_count": 3,
   "id": "f23112c4",
   "metadata": {},
   "outputs": [
    {
     "name": "stdout",
     "output_type": "stream",
     "text": [
      "<class 'pandas.core.frame.DataFrame'>\n",
      "RangeIndex: 21525 entries, 0 to 21524\n",
      "Data columns (total 12 columns):\n",
      " #   Column            Non-Null Count  Dtype  \n",
      "---  ------            --------------  -----  \n",
      " 0   children_count    21525 non-null  int64  \n",
      " 1   days_employed     19351 non-null  float64\n",
      " 2   full_years        21525 non-null  int64  \n",
      " 3   education_level   21525 non-null  object \n",
      " 4   education_id      21525 non-null  int64  \n",
      " 5   family_status     21525 non-null  object \n",
      " 6   family_status_id  21525 non-null  int64  \n",
      " 7   gender            21525 non-null  object \n",
      " 8   income_type       21525 non-null  object \n",
      " 9   debt              21525 non-null  int64  \n",
      " 10  total_income      19351 non-null  float64\n",
      " 11  purpose           21525 non-null  object \n",
      "dtypes: float64(2), int64(5), object(5)\n",
      "memory usage: 2.0+ MB\n"
     ]
    }
   ],
   "source": [
    "# переименуем ряд заголовков для более удобной работы с ними\n",
    "df.set_axis(['children_count', 'days_employed', 'full_years', 'education_level', 'education_id', 'family_status', 'family_status_id', 'gender', 'income_type', 'debt', 'total_income', 'purpose'], axis = 'columns', inplace = True)\n",
    "df.info()"
   ]
  },
  {
   "cell_type": "markdown",
   "id": "87d923fe",
   "metadata": {},
   "source": [
    "**Один регистр для названий категорий**"
   ]
  },
  {
   "cell_type": "code",
   "execution_count": 4,
   "id": "72ec30fe",
   "metadata": {},
   "outputs": [
    {
     "data": {
      "text/html": [
       "<div>\n",
       "<style scoped>\n",
       "    .dataframe tbody tr th:only-of-type {\n",
       "        vertical-align: middle;\n",
       "    }\n",
       "\n",
       "    .dataframe tbody tr th {\n",
       "        vertical-align: top;\n",
       "    }\n",
       "\n",
       "    .dataframe thead th {\n",
       "        text-align: right;\n",
       "    }\n",
       "</style>\n",
       "<table border=\"1\" class=\"dataframe\">\n",
       "  <thead>\n",
       "    <tr style=\"text-align: right;\">\n",
       "      <th></th>\n",
       "      <th>children_count</th>\n",
       "      <th>days_employed</th>\n",
       "      <th>full_years</th>\n",
       "      <th>education_level</th>\n",
       "      <th>education_id</th>\n",
       "      <th>family_status</th>\n",
       "      <th>family_status_id</th>\n",
       "      <th>gender</th>\n",
       "      <th>income_type</th>\n",
       "      <th>debt</th>\n",
       "      <th>total_income</th>\n",
       "      <th>purpose</th>\n",
       "    </tr>\n",
       "  </thead>\n",
       "  <tbody>\n",
       "    <tr>\n",
       "      <th>0</th>\n",
       "      <td>1</td>\n",
       "      <td>-8437.673028</td>\n",
       "      <td>42</td>\n",
       "      <td>высшее</td>\n",
       "      <td>0</td>\n",
       "      <td>женат / замужем</td>\n",
       "      <td>0</td>\n",
       "      <td>F</td>\n",
       "      <td>сотрудник</td>\n",
       "      <td>0</td>\n",
       "      <td>253875.639453</td>\n",
       "      <td>покупка жилья</td>\n",
       "    </tr>\n",
       "    <tr>\n",
       "      <th>1</th>\n",
       "      <td>1</td>\n",
       "      <td>-4024.803754</td>\n",
       "      <td>36</td>\n",
       "      <td>среднее</td>\n",
       "      <td>1</td>\n",
       "      <td>женат / замужем</td>\n",
       "      <td>0</td>\n",
       "      <td>F</td>\n",
       "      <td>сотрудник</td>\n",
       "      <td>0</td>\n",
       "      <td>112080.014102</td>\n",
       "      <td>приобретение автомобиля</td>\n",
       "    </tr>\n",
       "    <tr>\n",
       "      <th>2</th>\n",
       "      <td>0</td>\n",
       "      <td>-5623.422610</td>\n",
       "      <td>33</td>\n",
       "      <td>среднее</td>\n",
       "      <td>1</td>\n",
       "      <td>женат / замужем</td>\n",
       "      <td>0</td>\n",
       "      <td>M</td>\n",
       "      <td>сотрудник</td>\n",
       "      <td>0</td>\n",
       "      <td>145885.952297</td>\n",
       "      <td>покупка жилья</td>\n",
       "    </tr>\n",
       "    <tr>\n",
       "      <th>3</th>\n",
       "      <td>3</td>\n",
       "      <td>-4124.747207</td>\n",
       "      <td>32</td>\n",
       "      <td>среднее</td>\n",
       "      <td>1</td>\n",
       "      <td>женат / замужем</td>\n",
       "      <td>0</td>\n",
       "      <td>M</td>\n",
       "      <td>сотрудник</td>\n",
       "      <td>0</td>\n",
       "      <td>267628.550329</td>\n",
       "      <td>дополнительное образование</td>\n",
       "    </tr>\n",
       "    <tr>\n",
       "      <th>4</th>\n",
       "      <td>0</td>\n",
       "      <td>340266.072047</td>\n",
       "      <td>53</td>\n",
       "      <td>среднее</td>\n",
       "      <td>1</td>\n",
       "      <td>гражданский брак</td>\n",
       "      <td>1</td>\n",
       "      <td>F</td>\n",
       "      <td>пенсионер</td>\n",
       "      <td>0</td>\n",
       "      <td>158616.077870</td>\n",
       "      <td>сыграть свадьбу</td>\n",
       "    </tr>\n",
       "    <tr>\n",
       "      <th>5</th>\n",
       "      <td>0</td>\n",
       "      <td>-926.185831</td>\n",
       "      <td>27</td>\n",
       "      <td>высшее</td>\n",
       "      <td>0</td>\n",
       "      <td>гражданский брак</td>\n",
       "      <td>1</td>\n",
       "      <td>M</td>\n",
       "      <td>компаньон</td>\n",
       "      <td>0</td>\n",
       "      <td>255763.565419</td>\n",
       "      <td>покупка жилья</td>\n",
       "    </tr>\n",
       "    <tr>\n",
       "      <th>6</th>\n",
       "      <td>0</td>\n",
       "      <td>-2879.202052</td>\n",
       "      <td>43</td>\n",
       "      <td>высшее</td>\n",
       "      <td>0</td>\n",
       "      <td>женат / замужем</td>\n",
       "      <td>0</td>\n",
       "      <td>F</td>\n",
       "      <td>компаньон</td>\n",
       "      <td>0</td>\n",
       "      <td>240525.971920</td>\n",
       "      <td>операции с жильем</td>\n",
       "    </tr>\n",
       "    <tr>\n",
       "      <th>7</th>\n",
       "      <td>0</td>\n",
       "      <td>-152.779569</td>\n",
       "      <td>50</td>\n",
       "      <td>среднее</td>\n",
       "      <td>1</td>\n",
       "      <td>женат / замужем</td>\n",
       "      <td>0</td>\n",
       "      <td>M</td>\n",
       "      <td>сотрудник</td>\n",
       "      <td>0</td>\n",
       "      <td>135823.934197</td>\n",
       "      <td>образование</td>\n",
       "    </tr>\n",
       "    <tr>\n",
       "      <th>8</th>\n",
       "      <td>2</td>\n",
       "      <td>-6929.865299</td>\n",
       "      <td>35</td>\n",
       "      <td>высшее</td>\n",
       "      <td>0</td>\n",
       "      <td>гражданский брак</td>\n",
       "      <td>1</td>\n",
       "      <td>F</td>\n",
       "      <td>сотрудник</td>\n",
       "      <td>0</td>\n",
       "      <td>95856.832424</td>\n",
       "      <td>на проведение свадьбы</td>\n",
       "    </tr>\n",
       "    <tr>\n",
       "      <th>9</th>\n",
       "      <td>0</td>\n",
       "      <td>-2188.756445</td>\n",
       "      <td>41</td>\n",
       "      <td>среднее</td>\n",
       "      <td>1</td>\n",
       "      <td>женат / замужем</td>\n",
       "      <td>0</td>\n",
       "      <td>M</td>\n",
       "      <td>сотрудник</td>\n",
       "      <td>0</td>\n",
       "      <td>144425.938277</td>\n",
       "      <td>покупка жилья для семьи</td>\n",
       "    </tr>\n",
       "  </tbody>\n",
       "</table>\n",
       "</div>"
      ],
      "text/plain": [
       "   children_count  days_employed  full_years education_level  education_id  \\\n",
       "0               1   -8437.673028          42          высшее             0   \n",
       "1               1   -4024.803754          36         среднее             1   \n",
       "2               0   -5623.422610          33         среднее             1   \n",
       "3               3   -4124.747207          32         среднее             1   \n",
       "4               0  340266.072047          53         среднее             1   \n",
       "5               0    -926.185831          27          высшее             0   \n",
       "6               0   -2879.202052          43          высшее             0   \n",
       "7               0    -152.779569          50         среднее             1   \n",
       "8               2   -6929.865299          35          высшее             0   \n",
       "9               0   -2188.756445          41         среднее             1   \n",
       "\n",
       "      family_status  family_status_id gender income_type  debt   total_income  \\\n",
       "0   женат / замужем                 0      F   сотрудник     0  253875.639453   \n",
       "1   женат / замужем                 0      F   сотрудник     0  112080.014102   \n",
       "2   женат / замужем                 0      M   сотрудник     0  145885.952297   \n",
       "3   женат / замужем                 0      M   сотрудник     0  267628.550329   \n",
       "4  гражданский брак                 1      F   пенсионер     0  158616.077870   \n",
       "5  гражданский брак                 1      M   компаньон     0  255763.565419   \n",
       "6   женат / замужем                 0      F   компаньон     0  240525.971920   \n",
       "7   женат / замужем                 0      M   сотрудник     0  135823.934197   \n",
       "8  гражданский брак                 1      F   сотрудник     0   95856.832424   \n",
       "9   женат / замужем                 0      M   сотрудник     0  144425.938277   \n",
       "\n",
       "                      purpose  \n",
       "0               покупка жилья  \n",
       "1     приобретение автомобиля  \n",
       "2               покупка жилья  \n",
       "3  дополнительное образование  \n",
       "4             сыграть свадьбу  \n",
       "5               покупка жилья  \n",
       "6           операции с жильем  \n",
       "7                 образование  \n",
       "8       на проведение свадьбы  \n",
       "9     покупка жилья для семьи  "
      ]
     },
     "metadata": {},
     "output_type": "display_data"
    }
   ],
   "source": [
    "# приведем сразу все категории к одному регистру для более удобного анализа\n",
    "df['education_level'] = df['education_level'].str.lower()\n",
    "df['income_type'] = df['income_type'].str.lower()\n",
    "df['family_status'] = df['family_status'].str.lower()\n",
    "df['purpose'] = df['purpose'].str.lower()\n",
    "\n",
    "# вывод, чтобы проверить результат\n",
    "display(df.head(10))"
   ]
  },
  {
   "cell_type": "markdown",
   "id": "263d0a77",
   "metadata": {},
   "source": [
    "### Шаг 2.1 Заполнение пропусков"
   ]
  },
  {
   "cell_type": "code",
   "execution_count": 5,
   "id": "b7111df3",
   "metadata": {},
   "outputs": [
    {
     "name": "stdout",
     "output_type": "stream",
     "text": [
      "children_count         0\n",
      "days_employed       2174\n",
      "full_years             0\n",
      "education_level        0\n",
      "education_id           0\n",
      "family_status          0\n",
      "family_status_id       0\n",
      "gender                 0\n",
      "income_type            0\n",
      "debt                   0\n",
      "total_income        2174\n",
      "purpose                0\n",
      "dtype: int64\n"
     ]
    }
   ],
   "source": [
    "# сначала найдем количество пустых значений\n",
    "print(df.isnull().sum())"
   ]
  },
  {
   "cell_type": "code",
   "execution_count": 6,
   "id": "2cc6e035",
   "metadata": {},
   "outputs": [
    {
     "data": {
      "text/plain": [
       "children_count      0.000000\n",
       "days_employed       0.100999\n",
       "full_years          0.000000\n",
       "education_level     0.000000\n",
       "education_id        0.000000\n",
       "family_status       0.000000\n",
       "family_status_id    0.000000\n",
       "gender              0.000000\n",
       "income_type         0.000000\n",
       "debt                0.000000\n",
       "total_income        0.100999\n",
       "purpose             0.000000\n",
       "dtype: float64"
      ]
     },
     "metadata": {},
     "output_type": "display_data"
    }
   ],
   "source": [
    "# проверим, какую долю составляют пропущенные значения в каждом из столбцов с пропусками\n",
    "display(df.isnull().sum()/len(df))"
   ]
  },
  {
   "cell_type": "markdown",
   "id": "adab96a7",
   "metadata": {},
   "source": [
    "Таким образом, доля пропущенных занчений в столбцах days_employed и total_income составляет чуть более 10 %. Если говорить о причинах возникновения пропусков, скорее всего они связаны с тем, что у людей нет подтвержденного дохода и стажа работы (неофициальное трудоустройство и т.д). Однако сейчас у нас нет возможности уточнить этот момент у коллег, делающих выгрузку."
   ]
  },
  {
   "cell_type": "code",
   "execution_count": 7,
   "id": "0cdfb08f",
   "metadata": {},
   "outputs": [
    {
     "data": {
      "text/html": [
       "<div>\n",
       "<style scoped>\n",
       "    .dataframe tbody tr th:only-of-type {\n",
       "        vertical-align: middle;\n",
       "    }\n",
       "\n",
       "    .dataframe tbody tr th {\n",
       "        vertical-align: top;\n",
       "    }\n",
       "\n",
       "    .dataframe thead th {\n",
       "        text-align: right;\n",
       "    }\n",
       "</style>\n",
       "<table border=\"1\" class=\"dataframe\">\n",
       "  <thead>\n",
       "    <tr style=\"text-align: right;\">\n",
       "      <th></th>\n",
       "      <th>children_count</th>\n",
       "      <th>days_employed</th>\n",
       "      <th>full_years</th>\n",
       "      <th>education_level</th>\n",
       "      <th>education_id</th>\n",
       "      <th>family_status</th>\n",
       "      <th>family_status_id</th>\n",
       "      <th>gender</th>\n",
       "      <th>income_type</th>\n",
       "      <th>debt</th>\n",
       "      <th>total_income</th>\n",
       "      <th>purpose</th>\n",
       "    </tr>\n",
       "  </thead>\n",
       "  <tbody>\n",
       "    <tr>\n",
       "      <th>21489</th>\n",
       "      <td>2</td>\n",
       "      <td>NaN</td>\n",
       "      <td>47</td>\n",
       "      <td>среднее</td>\n",
       "      <td>1</td>\n",
       "      <td>женат / замужем</td>\n",
       "      <td>0</td>\n",
       "      <td>M</td>\n",
       "      <td>компаньон</td>\n",
       "      <td>0</td>\n",
       "      <td>NaN</td>\n",
       "      <td>сделка с автомобилем</td>\n",
       "    </tr>\n",
       "    <tr>\n",
       "      <th>21495</th>\n",
       "      <td>1</td>\n",
       "      <td>NaN</td>\n",
       "      <td>50</td>\n",
       "      <td>среднее</td>\n",
       "      <td>1</td>\n",
       "      <td>гражданский брак</td>\n",
       "      <td>1</td>\n",
       "      <td>F</td>\n",
       "      <td>сотрудник</td>\n",
       "      <td>0</td>\n",
       "      <td>NaN</td>\n",
       "      <td>свадьба</td>\n",
       "    </tr>\n",
       "    <tr>\n",
       "      <th>21497</th>\n",
       "      <td>0</td>\n",
       "      <td>NaN</td>\n",
       "      <td>48</td>\n",
       "      <td>высшее</td>\n",
       "      <td>0</td>\n",
       "      <td>женат / замужем</td>\n",
       "      <td>0</td>\n",
       "      <td>F</td>\n",
       "      <td>компаньон</td>\n",
       "      <td>0</td>\n",
       "      <td>NaN</td>\n",
       "      <td>строительство недвижимости</td>\n",
       "    </tr>\n",
       "    <tr>\n",
       "      <th>21502</th>\n",
       "      <td>1</td>\n",
       "      <td>NaN</td>\n",
       "      <td>42</td>\n",
       "      <td>среднее</td>\n",
       "      <td>1</td>\n",
       "      <td>женат / замужем</td>\n",
       "      <td>0</td>\n",
       "      <td>F</td>\n",
       "      <td>сотрудник</td>\n",
       "      <td>0</td>\n",
       "      <td>NaN</td>\n",
       "      <td>строительство жилой недвижимости</td>\n",
       "    </tr>\n",
       "    <tr>\n",
       "      <th>21510</th>\n",
       "      <td>2</td>\n",
       "      <td>NaN</td>\n",
       "      <td>28</td>\n",
       "      <td>среднее</td>\n",
       "      <td>1</td>\n",
       "      <td>женат / замужем</td>\n",
       "      <td>0</td>\n",
       "      <td>F</td>\n",
       "      <td>сотрудник</td>\n",
       "      <td>0</td>\n",
       "      <td>NaN</td>\n",
       "      <td>приобретение автомобиля</td>\n",
       "    </tr>\n",
       "  </tbody>\n",
       "</table>\n",
       "</div>"
      ],
      "text/plain": [
       "       children_count  days_employed  full_years education_level  \\\n",
       "21489               2            NaN          47         среднее   \n",
       "21495               1            NaN          50         среднее   \n",
       "21497               0            NaN          48          высшее   \n",
       "21502               1            NaN          42         среднее   \n",
       "21510               2            NaN          28         среднее   \n",
       "\n",
       "       education_id     family_status  family_status_id gender income_type  \\\n",
       "21489             1   женат / замужем                 0      M   компаньон   \n",
       "21495             1  гражданский брак                 1      F   сотрудник   \n",
       "21497             0   женат / замужем                 0      F   компаньон   \n",
       "21502             1   женат / замужем                 0      F   сотрудник   \n",
       "21510             1   женат / замужем                 0      F   сотрудник   \n",
       "\n",
       "       debt  total_income                           purpose  \n",
       "21489     0           NaN              сделка с автомобилем  \n",
       "21495     0           NaN                           свадьба  \n",
       "21497     0           NaN        строительство недвижимости  \n",
       "21502     0           NaN  строительство жилой недвижимости  \n",
       "21510     0           NaN           приобретение автомобиля  "
      ]
     },
     "metadata": {},
     "output_type": "display_data"
    }
   ],
   "source": [
    "# посмотрим, какие именно записи хранят пустые значения\n",
    "display(df[df['total_income'].isnull()].tail())"
   ]
  },
  {
   "cell_type": "markdown",
   "id": "bc4ab1a3",
   "metadata": {},
   "source": [
    "Среднее и медиана оценивают значения в центре выборки. Однако следует учесть, что медиана оценивает среднее, нивелировав влияние выбросов, которые могут сильно смещать значение среднего. Вот почему заполнить пропуски медианным значением — лучшее решение для количественных переменных."
   ]
  },
  {
   "cell_type": "code",
   "execution_count": 8,
   "id": "15f0b257",
   "metadata": {},
   "outputs": [
    {
     "data": {
      "text/plain": [
       "children_count         0\n",
       "days_employed       2174\n",
       "full_years             0\n",
       "education_level        0\n",
       "education_id           0\n",
       "family_status          0\n",
       "family_status_id       0\n",
       "gender                 0\n",
       "income_type            0\n",
       "debt                   0\n",
       "total_income           0\n",
       "purpose                0\n",
       "dtype: int64"
      ]
     },
     "metadata": {},
     "output_type": "display_data"
    }
   ],
   "source": [
    "# заполним пропущенные данные total_income\n",
    "# для заполненния пропущенных значений будем использовать медиану\n",
    "# чтобы получить более точные данные, используем уровень образования и тип занятости \n",
    "\n",
    "# создадим функцию, которая будет вычислять медиану по уровню образования и типу занятости\n",
    "\n",
    "def calc_median_by_education_and_income(df, education_level, income_type):\n",
    "    # ориентируемся на оба параметра\n",
    "    median = df[(df['education_level'] == education_level) & (df['income_type'] == income_type)]['total_income'].median()\n",
    "    return median\n",
    "\n",
    "# c помощью последовательной фильтрации с логической индексацией функция \n",
    "# сначала получит из исходной таблицы строки с нужным уровнем образования,\n",
    "# затем из результата отфильтрует строки с нужным типом занатости,\n",
    "# методом median заполнит пустые значения в колонке  total_income. \n",
    "# эти значения функция вернёт в качестве результата\n",
    "for education_level in df[df['total_income'].isnull()]['education_level'].unique():\n",
    "    for income_type in df[df['total_income'].isnull()]['income_type'].unique():\n",
    "        median = calc_median_by_education_and_income(df, education_level, income_type)\n",
    "        searchRow = (df['education_level'] == education_level) & (df['income_type'] == income_type) & (df['total_income'].isnull())\n",
    "        df.loc[searchRow, 'total_income'] = df.loc[searchRow, 'total_income'].fillna(median)\n",
    "\n",
    "# проверка на наличие пустых знанчение в total_income\n",
    "display(df.isnull().sum())"
   ]
  },
  {
   "cell_type": "markdown",
   "id": "a21a83dd",
   "metadata": {},
   "source": [
    "### Шаг 2.2 Проверка данных на аномалии и исправления."
   ]
  },
  {
   "cell_type": "markdown",
   "id": "70a152f8",
   "metadata": {},
   "source": [
    "Столбец с днями трудового стажа сожержит некорретную информацию (это артефакты (аномалии) — значения, которые не отражают действительность или появились по какой-то ошибке). Так количество дней трудового стажа в столбце days_employed в некоторых случаях является отрицательным. Сначала заменим отрицательные занчения столбца на положительные и пропущенные значения на медиану."
   ]
  },
  {
   "cell_type": "code",
   "execution_count": 9,
   "id": "4fde1823",
   "metadata": {},
   "outputs": [
    {
     "data": {
      "text/html": [
       "<div>\n",
       "<style scoped>\n",
       "    .dataframe tbody tr th:only-of-type {\n",
       "        vertical-align: middle;\n",
       "    }\n",
       "\n",
       "    .dataframe tbody tr th {\n",
       "        vertical-align: top;\n",
       "    }\n",
       "\n",
       "    .dataframe thead th {\n",
       "        text-align: right;\n",
       "    }\n",
       "</style>\n",
       "<table border=\"1\" class=\"dataframe\">\n",
       "  <thead>\n",
       "    <tr style=\"text-align: right;\">\n",
       "      <th></th>\n",
       "      <th>children_count</th>\n",
       "      <th>days_employed</th>\n",
       "      <th>full_years</th>\n",
       "      <th>education_level</th>\n",
       "      <th>education_id</th>\n",
       "      <th>family_status</th>\n",
       "      <th>family_status_id</th>\n",
       "      <th>gender</th>\n",
       "      <th>income_type</th>\n",
       "      <th>debt</th>\n",
       "      <th>total_income</th>\n",
       "      <th>purpose</th>\n",
       "    </tr>\n",
       "  </thead>\n",
       "  <tbody>\n",
       "    <tr>\n",
       "      <th>0</th>\n",
       "      <td>1</td>\n",
       "      <td>8437.673028</td>\n",
       "      <td>42</td>\n",
       "      <td>высшее</td>\n",
       "      <td>0</td>\n",
       "      <td>женат / замужем</td>\n",
       "      <td>0</td>\n",
       "      <td>F</td>\n",
       "      <td>сотрудник</td>\n",
       "      <td>0</td>\n",
       "      <td>253875.639453</td>\n",
       "      <td>покупка жилья</td>\n",
       "    </tr>\n",
       "    <tr>\n",
       "      <th>1</th>\n",
       "      <td>1</td>\n",
       "      <td>4024.803754</td>\n",
       "      <td>36</td>\n",
       "      <td>среднее</td>\n",
       "      <td>1</td>\n",
       "      <td>женат / замужем</td>\n",
       "      <td>0</td>\n",
       "      <td>F</td>\n",
       "      <td>сотрудник</td>\n",
       "      <td>0</td>\n",
       "      <td>112080.014102</td>\n",
       "      <td>приобретение автомобиля</td>\n",
       "    </tr>\n",
       "    <tr>\n",
       "      <th>2</th>\n",
       "      <td>0</td>\n",
       "      <td>5623.422610</td>\n",
       "      <td>33</td>\n",
       "      <td>среднее</td>\n",
       "      <td>1</td>\n",
       "      <td>женат / замужем</td>\n",
       "      <td>0</td>\n",
       "      <td>M</td>\n",
       "      <td>сотрудник</td>\n",
       "      <td>0</td>\n",
       "      <td>145885.952297</td>\n",
       "      <td>покупка жилья</td>\n",
       "    </tr>\n",
       "    <tr>\n",
       "      <th>3</th>\n",
       "      <td>3</td>\n",
       "      <td>4124.747207</td>\n",
       "      <td>32</td>\n",
       "      <td>среднее</td>\n",
       "      <td>1</td>\n",
       "      <td>женат / замужем</td>\n",
       "      <td>0</td>\n",
       "      <td>M</td>\n",
       "      <td>сотрудник</td>\n",
       "      <td>0</td>\n",
       "      <td>267628.550329</td>\n",
       "      <td>дополнительное образование</td>\n",
       "    </tr>\n",
       "    <tr>\n",
       "      <th>4</th>\n",
       "      <td>0</td>\n",
       "      <td>340266.072047</td>\n",
       "      <td>53</td>\n",
       "      <td>среднее</td>\n",
       "      <td>1</td>\n",
       "      <td>гражданский брак</td>\n",
       "      <td>1</td>\n",
       "      <td>F</td>\n",
       "      <td>пенсионер</td>\n",
       "      <td>0</td>\n",
       "      <td>158616.077870</td>\n",
       "      <td>сыграть свадьбу</td>\n",
       "    </tr>\n",
       "    <tr>\n",
       "      <th>5</th>\n",
       "      <td>0</td>\n",
       "      <td>926.185831</td>\n",
       "      <td>27</td>\n",
       "      <td>высшее</td>\n",
       "      <td>0</td>\n",
       "      <td>гражданский брак</td>\n",
       "      <td>1</td>\n",
       "      <td>M</td>\n",
       "      <td>компаньон</td>\n",
       "      <td>0</td>\n",
       "      <td>255763.565419</td>\n",
       "      <td>покупка жилья</td>\n",
       "    </tr>\n",
       "    <tr>\n",
       "      <th>6</th>\n",
       "      <td>0</td>\n",
       "      <td>2879.202052</td>\n",
       "      <td>43</td>\n",
       "      <td>высшее</td>\n",
       "      <td>0</td>\n",
       "      <td>женат / замужем</td>\n",
       "      <td>0</td>\n",
       "      <td>F</td>\n",
       "      <td>компаньон</td>\n",
       "      <td>0</td>\n",
       "      <td>240525.971920</td>\n",
       "      <td>операции с жильем</td>\n",
       "    </tr>\n",
       "    <tr>\n",
       "      <th>7</th>\n",
       "      <td>0</td>\n",
       "      <td>152.779569</td>\n",
       "      <td>50</td>\n",
       "      <td>среднее</td>\n",
       "      <td>1</td>\n",
       "      <td>женат / замужем</td>\n",
       "      <td>0</td>\n",
       "      <td>M</td>\n",
       "      <td>сотрудник</td>\n",
       "      <td>0</td>\n",
       "      <td>135823.934197</td>\n",
       "      <td>образование</td>\n",
       "    </tr>\n",
       "    <tr>\n",
       "      <th>8</th>\n",
       "      <td>2</td>\n",
       "      <td>6929.865299</td>\n",
       "      <td>35</td>\n",
       "      <td>высшее</td>\n",
       "      <td>0</td>\n",
       "      <td>гражданский брак</td>\n",
       "      <td>1</td>\n",
       "      <td>F</td>\n",
       "      <td>сотрудник</td>\n",
       "      <td>0</td>\n",
       "      <td>95856.832424</td>\n",
       "      <td>на проведение свадьбы</td>\n",
       "    </tr>\n",
       "    <tr>\n",
       "      <th>9</th>\n",
       "      <td>0</td>\n",
       "      <td>2188.756445</td>\n",
       "      <td>41</td>\n",
       "      <td>среднее</td>\n",
       "      <td>1</td>\n",
       "      <td>женат / замужем</td>\n",
       "      <td>0</td>\n",
       "      <td>M</td>\n",
       "      <td>сотрудник</td>\n",
       "      <td>0</td>\n",
       "      <td>144425.938277</td>\n",
       "      <td>покупка жилья для семьи</td>\n",
       "    </tr>\n",
       "  </tbody>\n",
       "</table>\n",
       "</div>"
      ],
      "text/plain": [
       "   children_count  days_employed  full_years education_level  education_id  \\\n",
       "0               1    8437.673028          42          высшее             0   \n",
       "1               1    4024.803754          36         среднее             1   \n",
       "2               0    5623.422610          33         среднее             1   \n",
       "3               3    4124.747207          32         среднее             1   \n",
       "4               0  340266.072047          53         среднее             1   \n",
       "5               0     926.185831          27          высшее             0   \n",
       "6               0    2879.202052          43          высшее             0   \n",
       "7               0     152.779569          50         среднее             1   \n",
       "8               2    6929.865299          35          высшее             0   \n",
       "9               0    2188.756445          41         среднее             1   \n",
       "\n",
       "      family_status  family_status_id gender income_type  debt   total_income  \\\n",
       "0   женат / замужем                 0      F   сотрудник     0  253875.639453   \n",
       "1   женат / замужем                 0      F   сотрудник     0  112080.014102   \n",
       "2   женат / замужем                 0      M   сотрудник     0  145885.952297   \n",
       "3   женат / замужем                 0      M   сотрудник     0  267628.550329   \n",
       "4  гражданский брак                 1      F   пенсионер     0  158616.077870   \n",
       "5  гражданский брак                 1      M   компаньон     0  255763.565419   \n",
       "6   женат / замужем                 0      F   компаньон     0  240525.971920   \n",
       "7   женат / замужем                 0      M   сотрудник     0  135823.934197   \n",
       "8  гражданский брак                 1      F   сотрудник     0   95856.832424   \n",
       "9   женат / замужем                 0      M   сотрудник     0  144425.938277   \n",
       "\n",
       "                      purpose  \n",
       "0               покупка жилья  \n",
       "1     приобретение автомобиля  \n",
       "2               покупка жилья  \n",
       "3  дополнительное образование  \n",
       "4             сыграть свадьбу  \n",
       "5               покупка жилья  \n",
       "6           операции с жильем  \n",
       "7                 образование  \n",
       "8       на проведение свадьбы  \n",
       "9     покупка жилья для семьи  "
      ]
     },
     "metadata": {},
     "output_type": "display_data"
    }
   ],
   "source": [
    "# заменим отрицательные занчения столбца на положительные\n",
    "df['days_employed'] = abs(df['days_employed'])\n",
    "# проверка результата\n",
    "display(df.head(10))"
   ]
  },
  {
   "cell_type": "code",
   "execution_count": 10,
   "id": "e5f43c23",
   "metadata": {},
   "outputs": [
    {
     "data": {
      "text/plain": [
       "children_count      0\n",
       "days_employed       0\n",
       "full_years          0\n",
       "education_level     0\n",
       "education_id        0\n",
       "family_status       0\n",
       "family_status_id    0\n",
       "gender              0\n",
       "income_type         0\n",
       "debt                0\n",
       "total_income        0\n",
       "purpose             0\n",
       "dtype: int64"
      ]
     },
     "metadata": {},
     "output_type": "display_data"
    }
   ],
   "source": [
    "# заполним пропущенные данные days_employed\n",
    "# для заполненния пропущенных значений будем использовать медиану\n",
    "# чтобы получить более точные данные, используем уровень образования и тип занятости \n",
    "\n",
    "# используем ранее созданную функцию, которая будет вычислять медиану\n",
    "# по уровню образования и типу занятости\n",
    "\n",
    "# c помощью последовательной фильтрации с логической индексацией функция \n",
    "# сначала получит из исходной таблицы строки с нужным уровнем образования,\n",
    "# затем из результата отфильтрует строки с нужным типом занатости,\n",
    "# методом median заполнит пустые значения в колонке  days_employed\t. \n",
    "# эти значения функция вернёт в качестве результата\n",
    "for education_level in df[df['days_employed'].isnull()]['education_level'].unique():\n",
    "    for income_type in df[df['days_employed'].isnull()]['income_type'].unique():\n",
    "        median = calc_median_by_education_and_income(df, education_level, income_type)\n",
    "        searchRow = (df['education_level'] == education_level) & (df['income_type'] == income_type) & (df['days_employed'].isnull())\n",
    "        df.loc[searchRow, 'days_employed'] = df.loc[searchRow, 'days_employed'].fillna(median)\n",
    "\n",
    "# проверка на наличие пустых знанчение в total_income\n",
    "display(df.isnull().sum())"
   ]
  },
  {
   "cell_type": "markdown",
   "id": "3122cae1",
   "metadata": {},
   "source": [
    "Дополнительно изучим данные на уровне подсчета уникальных значений (value_counts()) для каждого столбца, чтобы выявить иные аномалии."
   ]
  },
  {
   "cell_type": "code",
   "execution_count": 11,
   "id": "56590922",
   "metadata": {},
   "outputs": [
    {
     "data": {
      "text/plain": [
       " 0     14149\n",
       " 1      4818\n",
       " 2      2055\n",
       " 3       330\n",
       " 20       76\n",
       "-1        47\n",
       " 4        41\n",
       " 5         9\n",
       "Name: children_count, dtype: int64"
      ]
     },
     "metadata": {},
     "output_type": "display_data"
    }
   ],
   "source": [
    "display(df['children_count'].value_counts())# проверка уникальных значений в столбце children_count"
   ]
  },
  {
   "cell_type": "code",
   "execution_count": 12,
   "id": "518de392",
   "metadata": {},
   "outputs": [
    {
     "data": {
      "text/plain": [
       "35    617\n",
       "40    609\n",
       "41    607\n",
       "34    603\n",
       "38    598\n",
       "42    597\n",
       "33    581\n",
       "39    573\n",
       "31    560\n",
       "36    555\n",
       "44    547\n",
       "29    545\n",
       "30    540\n",
       "48    538\n",
       "37    537\n",
       "50    514\n",
       "43    513\n",
       "32    510\n",
       "49    508\n",
       "28    503\n",
       "45    497\n",
       "27    493\n",
       "56    487\n",
       "52    484\n",
       "47    480\n",
       "54    479\n",
       "46    475\n",
       "58    461\n",
       "57    460\n",
       "53    459\n",
       "51    448\n",
       "59    444\n",
       "55    443\n",
       "26    408\n",
       "60    377\n",
       "25    357\n",
       "61    355\n",
       "62    352\n",
       "63    269\n",
       "64    265\n",
       "24    264\n",
       "23    254\n",
       "65    194\n",
       "66    183\n",
       "22    183\n",
       "67    167\n",
       "21    111\n",
       "0     101\n",
       "68     99\n",
       "69     85\n",
       "70     65\n",
       "71     58\n",
       "20     51\n",
       "72     33\n",
       "19     14\n",
       "73      8\n",
       "74      6\n",
       "75      1\n",
       "Name: full_years, dtype: int64"
      ]
     },
     "metadata": {},
     "output_type": "display_data"
    }
   ],
   "source": [
    "display(df['full_years'].value_counts())# проверка уникальных значений в столбце full_years"
   ]
  },
  {
   "cell_type": "code",
   "execution_count": 13,
   "id": "7ab18b81",
   "metadata": {},
   "outputs": [
    {
     "data": {
      "text/plain": [
       "среднее                15233\n",
       "высшее                  5260\n",
       "неоконченное высшее      744\n",
       "начальное                282\n",
       "ученая степень             6\n",
       "Name: education_level, dtype: int64"
      ]
     },
     "metadata": {},
     "output_type": "display_data"
    }
   ],
   "source": [
    "display(df['education_level'].value_counts())# проверка уникальных значений в столбце education_level"
   ]
  },
  {
   "cell_type": "code",
   "execution_count": 14,
   "id": "efa18a52",
   "metadata": {},
   "outputs": [
    {
     "data": {
      "text/plain": [
       "1    15233\n",
       "0     5260\n",
       "2      744\n",
       "3      282\n",
       "4        6\n",
       "Name: education_id, dtype: int64"
      ]
     },
     "metadata": {},
     "output_type": "display_data"
    }
   ],
   "source": [
    "display(df['education_id'].value_counts())# проверка уникальных значений в столбце education_id"
   ]
  },
  {
   "cell_type": "code",
   "execution_count": 15,
   "id": "5f0c90f9",
   "metadata": {},
   "outputs": [
    {
     "data": {
      "text/plain": [
       "женат / замужем          12380\n",
       "гражданский брак          4177\n",
       "не женат / не замужем     2813\n",
       "в разводе                 1195\n",
       "вдовец / вдова             960\n",
       "Name: family_status, dtype: int64"
      ]
     },
     "metadata": {},
     "output_type": "display_data"
    }
   ],
   "source": [
    "display(df['family_status'].value_counts())# проверка уникальных значений в столбце family_status"
   ]
  },
  {
   "cell_type": "code",
   "execution_count": 16,
   "id": "3d240200",
   "metadata": {},
   "outputs": [
    {
     "data": {
      "text/plain": [
       "0    12380\n",
       "1     4177\n",
       "4     2813\n",
       "3     1195\n",
       "2      960\n",
       "Name: family_status_id, dtype: int64"
      ]
     },
     "metadata": {},
     "output_type": "display_data"
    }
   ],
   "source": [
    "display(df['family_status_id'].value_counts())# проверка уникальных значений в столбце family_status_id"
   ]
  },
  {
   "cell_type": "code",
   "execution_count": 17,
   "id": "dfaba50a",
   "metadata": {},
   "outputs": [
    {
     "data": {
      "text/plain": [
       "F      14236\n",
       "M       7288\n",
       "XNA        1\n",
       "Name: gender, dtype: int64"
      ]
     },
     "metadata": {},
     "output_type": "display_data"
    }
   ],
   "source": [
    "display(df['gender'].value_counts())# проверка уникальных значений в столбце gender"
   ]
  },
  {
   "cell_type": "code",
   "execution_count": 18,
   "id": "05aedfd5",
   "metadata": {},
   "outputs": [
    {
     "data": {
      "text/plain": [
       "сотрудник          11119\n",
       "компаньон           5085\n",
       "пенсионер           3856\n",
       "госслужащий         1459\n",
       "безработный            2\n",
       "предприниматель        2\n",
       "студент                1\n",
       "в декрете              1\n",
       "Name: income_type, dtype: int64"
      ]
     },
     "metadata": {},
     "output_type": "display_data"
    }
   ],
   "source": [
    "display(df['income_type'].value_counts())# проверка уникальных значений в income_type "
   ]
  },
  {
   "cell_type": "code",
   "execution_count": 19,
   "id": "a272d202",
   "metadata": {},
   "outputs": [
    {
     "data": {
      "text/plain": [
       "0    19784\n",
       "1     1741\n",
       "Name: debt, dtype: int64"
      ]
     },
     "metadata": {},
     "output_type": "display_data"
    }
   ],
   "source": [
    "display(df['debt'].value_counts())# проверка уникальных значений в idebt "
   ]
  },
  {
   "cell_type": "code",
   "execution_count": 20,
   "id": "ca0e3916",
   "metadata": {},
   "outputs": [
    {
     "data": {
      "text/plain": [
       "136555.108821    820\n",
       "114842.854099    345\n",
       "159070.690289    300\n",
       "165640.744634    237\n",
       "201785.400018    188\n",
       "                ... \n",
       "101516.604975      1\n",
       "239154.168013      1\n",
       "165009.733021      1\n",
       "94270.049769       1\n",
       "189255.286637      1\n",
       "Name: total_income, Length: 19357, dtype: int64"
      ]
     },
     "metadata": {},
     "output_type": "display_data"
    }
   ],
   "source": [
    "display(df['total_income'].value_counts())# проверка уникальных значений в total_income "
   ]
  },
  {
   "cell_type": "code",
   "execution_count": 21,
   "id": "401658dd",
   "metadata": {},
   "outputs": [
    {
     "data": {
      "text/plain": [
       "свадьба                                   797\n",
       "на проведение свадьбы                     777\n",
       "сыграть свадьбу                           774\n",
       "операции с недвижимостью                  676\n",
       "покупка коммерческой недвижимости         664\n",
       "покупка жилья для сдачи                   653\n",
       "операции с жильем                         653\n",
       "операции с коммерческой недвижимостью     651\n",
       "жилье                                     647\n",
       "покупка жилья                             647\n",
       "покупка жилья для семьи                   641\n",
       "строительство собственной недвижимости    635\n",
       "недвижимость                              634\n",
       "операции со своей недвижимостью           630\n",
       "строительство жилой недвижимости          626\n",
       "покупка недвижимости                      624\n",
       "строительство недвижимости                620\n",
       "покупка своего жилья                      620\n",
       "ремонт жилью                              612\n",
       "покупка жилой недвижимости                607\n",
       "на покупку своего автомобиля              505\n",
       "заняться высшим образованием              496\n",
       "автомобиль                                495\n",
       "сделка с подержанным автомобилем          489\n",
       "свой автомобиль                           480\n",
       "на покупку подержанного автомобиля        479\n",
       "автомобили                                478\n",
       "на покупку автомобиля                     472\n",
       "дополнительное образование                462\n",
       "приобретение автомобиля                   462\n",
       "сделка с автомобилем                      455\n",
       "высшее образование                        453\n",
       "образование                               447\n",
       "получение дополнительного образования     447\n",
       "получение образования                     443\n",
       "профильное образование                    436\n",
       "получение высшего образования             426\n",
       "заняться образованием                     412\n",
       "Name: purpose, dtype: int64"
      ]
     },
     "metadata": {},
     "output_type": "display_data"
    }
   ],
   "source": [
    "display(df['purpose'].value_counts())# проверка уникальных значений в purpose"
   ]
  },
  {
   "cell_type": "markdown",
   "id": "cc65c005",
   "metadata": {},
   "source": [
    "**В результате проведенного анализа установлено следующее:**\n",
    "* children_count содержит значение 20 и -1, хотя отрицательного числа быть не может и 20 сильно выделяется на фоне остальной выборки\n",
    "* full_years содержит нулевой возраст\n",
    "* gender содержит пол XNA\n",
    "* purpose содержит опечатку - ремонт жильЮ\n",
    "\n",
    "**Возможные причины выявленных аномалий:**\n",
    "* значение 20 в количестве детей скорее всего опечатка, когда набирая 2, случайно задели ноль.\n",
    "* значение -1 могло означать раннее отсуствие детей либо их наличие, но почеуму-то выгруженное, как отрицательное число. Так как по df[df['children_count'] == -1]['family_status'].value_counts() можно убедиться, что большая часть этих людей находится или находилась в браке, остановимся на втором варианте.\n",
    "* возраст нулевым быть не может, скорее всего он нам просто неизвестен. Так как для целью нашего исследования вопрос о влиянии возраста на возврат кредита в срок  в данный момент не является, исправлять значения не будем.\n",
    "* поскольку пол XNA только один и невозможно достоверно сказать, к какому полу ближе это значение, то оставим его без изменений.\n",
    "Исправим эти моменты."
   ]
  },
  {
   "cell_type": "code",
   "execution_count": 22,
   "id": "019415b0",
   "metadata": {},
   "outputs": [
    {
     "name": "stdout",
     "output_type": "stream",
     "text": [
      "0\n"
     ]
    }
   ],
   "source": [
    "# исправим значения 20 для children_count\n",
    "df.loc[df['children_count'] == 20, 'children_count'] = 2\n",
    "# проверка результата\n",
    "print(df.loc[df['children_count'] == 20]['children_count'].count())"
   ]
  },
  {
   "cell_type": "code",
   "execution_count": 23,
   "id": "bb605abb",
   "metadata": {},
   "outputs": [
    {
     "name": "stdout",
     "output_type": "stream",
     "text": [
      "0\n"
     ]
    }
   ],
   "source": [
    "# исправим значение -1 для количества детей согласно нашей гипотезы (то есть заменим на 1)\n",
    "df.loc[df['children_count'] == -1, 'children_count'] = 1\n",
    "# проверка результата\n",
    "print(df.loc[df['children_count'] == -1]['children_count'].count())"
   ]
  },
  {
   "cell_type": "code",
   "execution_count": 24,
   "id": "04b19637",
   "metadata": {},
   "outputs": [
    {
     "name": "stdout",
     "output_type": "stream",
     "text": [
      "0\n"
     ]
    }
   ],
   "source": [
    "# исправим опечатку в purpose\n",
    "df.loc[df['purpose'] == 'ремонт жилью', 'purpose'] = 'ремонт жилья'\n",
    "# проверка результата\n",
    "print(df.loc[df['purpose'] == 'ремонт жилью']['purpose'].count())"
   ]
  },
  {
   "cell_type": "markdown",
   "id": "3fc1e8c5",
   "metadata": {},
   "source": [
    "### Шаг 2.3. Изменение типов данных."
   ]
  },
  {
   "cell_type": "code",
   "execution_count": 25,
   "id": "1238d1ad",
   "metadata": {},
   "outputs": [
    {
     "name": "stdout",
     "output_type": "stream",
     "text": [
      "<class 'pandas.core.frame.DataFrame'>\n",
      "RangeIndex: 21525 entries, 0 to 21524\n",
      "Data columns (total 12 columns):\n",
      " #   Column            Non-Null Count  Dtype  \n",
      "---  ------            --------------  -----  \n",
      " 0   children_count    21525 non-null  int64  \n",
      " 1   days_employed     21525 non-null  float64\n",
      " 2   full_years        21525 non-null  int64  \n",
      " 3   education_level   21525 non-null  object \n",
      " 4   education_id      21525 non-null  int64  \n",
      " 5   family_status     21525 non-null  object \n",
      " 6   family_status_id  21525 non-null  int64  \n",
      " 7   gender            21525 non-null  object \n",
      " 8   income_type       21525 non-null  object \n",
      " 9   debt              21525 non-null  int64  \n",
      " 10  total_income      21525 non-null  int64  \n",
      " 11  purpose           21525 non-null  object \n",
      "dtypes: float64(1), int64(6), object(5)\n",
      "memory usage: 2.0+ MB\n"
     ]
    }
   ],
   "source": [
    "# заменим тип total_income на int\n",
    "# поскольку нам нужно конкретный целочисленный тип, а не вещественный, используем именно astype\n",
    "df['total_income'] = df['total_income'].astype('int')\n",
    "\n",
    "# проверка результата\n",
    "df.info()"
   ]
  },
  {
   "cell_type": "markdown",
   "id": "1f6be129",
   "metadata": {},
   "source": [
    "### Шаг 2.4. Удаление дубликатов."
   ]
  },
  {
   "cell_type": "code",
   "execution_count": 26,
   "id": "f9a6fc5a",
   "metadata": {},
   "outputs": [
    {
     "name": "stdout",
     "output_type": "stream",
     "text": [
      "71\n"
     ]
    }
   ],
   "source": [
    "# проверим, есть ли дубликаты в таблице с помощью метода duplicated()\n",
    "# использование именно этого метода обусловлено тем, что проверка на наличие дубликатов с помощью  value_counts()\n",
    "# потребует создания отдельной Series, которая в дальнейшем не пригодится\n",
    "print(df.duplicated().sum())"
   ]
  },
  {
   "cell_type": "code",
   "execution_count": 27,
   "id": "4b14cb77",
   "metadata": {},
   "outputs": [
    {
     "name": "stdout",
     "output_type": "stream",
     "text": [
      "0\n"
     ]
    }
   ],
   "source": [
    "df = df.drop_duplicates().reset_index(drop=True)# удаление явных дубликатов (с удалением старых индексов и формированием новых)\n",
    "print(df.duplicated().sum())# проверка на отсутствие дубликатов"
   ]
  },
  {
   "cell_type": "markdown",
   "id": "9dcaf52d",
   "metadata": {},
   "source": [
    "**Вывод**\n",
    "\n",
    "Дубликатов оказалось не так много.Возможно, это были одобренные заявки от одних и тех же людей либо просто человеческий фактор.\n",
    "От неявных дубликатов в колонке education_level мы избавились ранее в шаге 1.2, когда привели сразу все категории к одному регистру для более удобного анализа."
   ]
  },
  {
   "cell_type": "markdown",
   "id": "4291e8d6",
   "metadata": {},
   "source": [
    "### Шаг 2.5. Формирование дополнительных датафреймов словарей, декомпозиция исходного датафрейма."
   ]
  },
  {
   "cell_type": "code",
   "execution_count": 28,
   "id": "8cee36d5",
   "metadata": {},
   "outputs": [
    {
     "data": {
      "text/html": [
       "<div>\n",
       "<style scoped>\n",
       "    .dataframe tbody tr th:only-of-type {\n",
       "        vertical-align: middle;\n",
       "    }\n",
       "\n",
       "    .dataframe tbody tr th {\n",
       "        vertical-align: top;\n",
       "    }\n",
       "\n",
       "    .dataframe thead th {\n",
       "        text-align: right;\n",
       "    }\n",
       "</style>\n",
       "<table border=\"1\" class=\"dataframe\">\n",
       "  <thead>\n",
       "    <tr style=\"text-align: right;\">\n",
       "      <th></th>\n",
       "      <th>education_id</th>\n",
       "      <th>education_level</th>\n",
       "    </tr>\n",
       "  </thead>\n",
       "  <tbody>\n",
       "    <tr>\n",
       "      <th>0</th>\n",
       "      <td>0</td>\n",
       "      <td>высшее</td>\n",
       "    </tr>\n",
       "    <tr>\n",
       "      <th>1</th>\n",
       "      <td>1</td>\n",
       "      <td>среднее</td>\n",
       "    </tr>\n",
       "    <tr>\n",
       "      <th>2</th>\n",
       "      <td>2</td>\n",
       "      <td>неоконченное высшее</td>\n",
       "    </tr>\n",
       "    <tr>\n",
       "      <th>3</th>\n",
       "      <td>3</td>\n",
       "      <td>начальное</td>\n",
       "    </tr>\n",
       "    <tr>\n",
       "      <th>4</th>\n",
       "      <td>4</td>\n",
       "      <td>ученая степень</td>\n",
       "    </tr>\n",
       "  </tbody>\n",
       "</table>\n",
       "</div>"
      ],
      "text/plain": [
       "   education_id      education_level\n",
       "0             0               высшее\n",
       "1             1              среднее\n",
       "2             2  неоконченное высшее\n",
       "3             3            начальное\n",
       "4             4       ученая степень"
      ]
     },
     "metadata": {},
     "output_type": "display_data"
    }
   ],
   "source": [
    "#создадим новый датафрейм со столбцами:\n",
    "#education_id и education_level\n",
    "education_log = df[['education_id','education_level']]\n",
    "# удалим дубликаты из словаря\n",
    "education_log = education_log.drop_duplicates().reset_index(drop=True)\n",
    "#проверка результата\n",
    "display(education_log.head(10))"
   ]
  },
  {
   "cell_type": "code",
   "execution_count": 29,
   "id": "84f2d18f",
   "metadata": {},
   "outputs": [
    {
     "data": {
      "text/html": [
       "<div>\n",
       "<style scoped>\n",
       "    .dataframe tbody tr th:only-of-type {\n",
       "        vertical-align: middle;\n",
       "    }\n",
       "\n",
       "    .dataframe tbody tr th {\n",
       "        vertical-align: top;\n",
       "    }\n",
       "\n",
       "    .dataframe thead th {\n",
       "        text-align: right;\n",
       "    }\n",
       "</style>\n",
       "<table border=\"1\" class=\"dataframe\">\n",
       "  <thead>\n",
       "    <tr style=\"text-align: right;\">\n",
       "      <th></th>\n",
       "      <th>family_status_id</th>\n",
       "      <th>family_status</th>\n",
       "    </tr>\n",
       "  </thead>\n",
       "  <tbody>\n",
       "    <tr>\n",
       "      <th>0</th>\n",
       "      <td>0</td>\n",
       "      <td>женат / замужем</td>\n",
       "    </tr>\n",
       "    <tr>\n",
       "      <th>1</th>\n",
       "      <td>1</td>\n",
       "      <td>гражданский брак</td>\n",
       "    </tr>\n",
       "    <tr>\n",
       "      <th>2</th>\n",
       "      <td>2</td>\n",
       "      <td>вдовец / вдова</td>\n",
       "    </tr>\n",
       "    <tr>\n",
       "      <th>3</th>\n",
       "      <td>3</td>\n",
       "      <td>в разводе</td>\n",
       "    </tr>\n",
       "    <tr>\n",
       "      <th>4</th>\n",
       "      <td>4</td>\n",
       "      <td>не женат / не замужем</td>\n",
       "    </tr>\n",
       "  </tbody>\n",
       "</table>\n",
       "</div>"
      ],
      "text/plain": [
       "   family_status_id          family_status\n",
       "0                 0        женат / замужем\n",
       "1                 1       гражданский брак\n",
       "2                 2         вдовец / вдова\n",
       "3                 3              в разводе\n",
       "4                 4  не женат / не замужем"
      ]
     },
     "metadata": {},
     "output_type": "display_data"
    }
   ],
   "source": [
    "#создадим новый датафрейм со столбцами:\n",
    "#family_status_id и family_status\n",
    "family_log = df[['family_status_id','family_status']]\n",
    "# удалим дубликаты из словаря\n",
    "family_log = family_log.drop_duplicates().reset_index(drop=True)\n",
    "#проверка результата\n",
    "display(family_log.head(10))"
   ]
  },
  {
   "cell_type": "code",
   "execution_count": 30,
   "id": "fab033aa",
   "metadata": {},
   "outputs": [
    {
     "name": "stdout",
     "output_type": "stream",
     "text": [
      "<class 'pandas.core.frame.DataFrame'>\n",
      "RangeIndex: 21454 entries, 0 to 21453\n",
      "Data columns (total 10 columns):\n",
      " #   Column            Non-Null Count  Dtype  \n",
      "---  ------            --------------  -----  \n",
      " 0   children_count    21454 non-null  int64  \n",
      " 1   days_employed     21454 non-null  float64\n",
      " 2   full_years        21454 non-null  int64  \n",
      " 3   education_id      21454 non-null  int64  \n",
      " 4   family_status_id  21454 non-null  int64  \n",
      " 5   gender            21454 non-null  object \n",
      " 6   income_type       21454 non-null  object \n",
      " 7   debt              21454 non-null  int64  \n",
      " 8   total_income      21454 non-null  int64  \n",
      " 9   purpose           21454 non-null  object \n",
      "dtypes: float64(1), int64(6), object(3)\n",
      "memory usage: 1.6+ MB\n",
      "None\n"
     ]
    }
   ],
   "source": [
    "#удалим из исходного датафрейма столбцы education_level и family_status, оставив только их идентификаторы:\n",
    "#education_id и family_status_id:\n",
    "del df['education_level']\n",
    "del df['family_status']\n",
    "#проверка результата\n",
    "print(df.info())"
   ]
  },
  {
   "cell_type": "markdown",
   "id": "1539ba6a",
   "metadata": {},
   "source": [
    "### Шаг 2.6. Категоризация дохода."
   ]
  },
  {
   "cell_type": "markdown",
   "id": "2a685559",
   "metadata": {},
   "source": [
    "На основании диапазонов, указанных ниже, создадим столбец total_income_category с категориями дохода:\n",
    "* 0–30000 — 'E';\n",
    "* 30001–50000 — 'D';\n",
    "* 50001–200000 — 'C';\n",
    "* 200001–1000000 — 'B';\n",
    "* 1000001 и выше — 'A'.\n"
   ]
  },
  {
   "cell_type": "code",
   "execution_count": 31,
   "id": "99cfe3a0",
   "metadata": {},
   "outputs": [
    {
     "name": "stdout",
     "output_type": "stream",
     "text": [
      "C    15829\n",
      "B     5228\n",
      "D      350\n",
      "A       25\n",
      "E       22\n",
      "Name: total_income_category, dtype: int64\n"
     ]
    }
   ],
   "source": [
    "#создадим функцию, которая соотносит уровень дохода клиента с опредленной категорией \n",
    "def make_income_category(total_income):\n",
    "    if total_income < 30000:\n",
    "        return 'E'\n",
    "    if 30001 <= total_income < 50000:\n",
    "        return 'D'\n",
    "    if 50001 <= total_income < 200000:\n",
    "        return 'C'\n",
    "    if 200001 <= total_income < 1000000:\n",
    "        return 'B'\n",
    "    return 'A'\n",
    "\n",
    "#создадим столбец total_income_category, в котором сохраним результатработы функции\n",
    "df['total_income_category'] = df['total_income'].apply(make_income_category) \n",
    "\n",
    "# проверка результата\n",
    "print(df['total_income_category'].value_counts())"
   ]
  },
  {
   "cell_type": "markdown",
   "id": "6958bb58",
   "metadata": {},
   "source": [
    "### Шаг 2.7. Категоризация целей кредита."
   ]
  },
  {
   "cell_type": "markdown",
   "id": "909444aa",
   "metadata": {},
   "source": [
    "Создадим функцию, которая на основании данных из столбца purpose сформирует новый столбец purpose_category, в который войдут следующие категории:\n",
    "* операции с автомобилем,\n",
    "* операции с недвижимостью,\n",
    "* получение образования.\n"
   ]
  },
  {
   "cell_type": "code",
   "execution_count": 32,
   "id": "b68b38eb",
   "metadata": {},
   "outputs": [
    {
     "data": {
      "text/plain": [
       "операции с недвижимостью    10811\n",
       "операции с автомобилем       4306\n",
       "получение образования        4013\n",
       "проведение свадьбы           1533\n",
       "иные цели                     791\n",
       "Name: purpose_category, dtype: int64"
      ]
     },
     "metadata": {},
     "output_type": "display_data"
    }
   ],
   "source": [
    "# создадим списки с ункиальными занчениями столбца purpose (часть строки, не полное наименование)\n",
    "# для дальнешей обработки функцией\n",
    "target_car = ['автомобиль', 'автомобиля', 'автомобилем', 'автомобили']\n",
    "target_realty = ['недвижимость', 'недвижимости', 'недвижимостью', 'жилье', 'жилья', 'жильем']\n",
    "target_wedding = ['сваьба', 'свадьбы', 'свадьбу']\n",
    "target_education = ['образование', 'образования', 'образованием'] \n",
    "\n",
    "def make_purpose_category(purpose):\n",
    "    for value in target_car:\n",
    "        if value in  purpose:\n",
    "            return 'операции с автомобилем'\n",
    "            \n",
    "    for value in target_realty:\n",
    "         if value in  purpose:\n",
    "            return 'операции с недвижимостью'\n",
    "        \n",
    "    for value in target_wedding:\n",
    "         if value in  purpose:\n",
    "            return 'проведение свадьбы'\n",
    "            \n",
    "    for value in target_education:\n",
    "        if value in  purpose:\n",
    "            return 'получение образования'\n",
    "            \n",
    "    return 'иные цели'\n",
    "\n",
    "#создадим столбец purpose_category, в котором сохраним результатработы функции\n",
    "df['purpose_category'] = df['purpose'].apply(make_purpose_category) \n",
    "\n",
    "#проверка результата\n",
    "display(df['purpose_category'].value_counts())"
   ]
  },
  {
   "cell_type": "markdown",
   "id": "1d6e56c3",
   "metadata": {},
   "source": [
    "### Ответы на вопросы."
   ]
  },
  {
   "cell_type": "markdown",
   "id": "93cd4a94",
   "metadata": {},
   "source": [
    "##### Вопрос 1:  Есть ли зависимость между количеством детей и возвратом кредита в срок?"
   ]
  },
  {
   "cell_type": "markdown",
   "id": "e60f51b8",
   "metadata": {},
   "source": [
    "Для ответа на поставленный вопрос сначала создадим столбец children_category со ледующими категориями:\n",
    "* нет детей\n",
    "* 1 ребенок;\n",
    "* 2 ребенка;\n",
    "* много детей - если в семье более 2-х детей"
   ]
  },
  {
   "cell_type": "code",
   "execution_count": 33,
   "id": "a6777fda",
   "metadata": {},
   "outputs": [
    {
     "data": {
      "text/plain": [
       "нет детей      14091\n",
       "1 ребенок       4855\n",
       "2 ребенка       2128\n",
       "много детей      380\n",
       "Name: children_category, dtype: int64"
      ]
     },
     "metadata": {},
     "output_type": "display_data"
    }
   ],
   "source": [
    "#создадим функцию, которая соотносит количество детей клиента с опредленной категорией \n",
    "def make_children_category(children_count):\n",
    "    if children_count == 1:\n",
    "        return '1 ребенок'\n",
    "    if children_count == 2:\n",
    "        return '2 ребенка'\n",
    "    if children_count >= 3:\n",
    "        return 'много детей'\n",
    "    return 'нет детей'\n",
    "\n",
    "df['children_category'] = df['children_count'].apply(make_children_category)\n",
    "\n",
    "# проверим, что все ок\n",
    "display(df['children_category'].value_counts())"
   ]
  },
  {
   "cell_type": "code",
   "execution_count": 34,
   "id": "980fd973",
   "metadata": {},
   "outputs": [
    {
     "data": {
      "text/html": [
       "<div>\n",
       "<style scoped>\n",
       "    .dataframe tbody tr th:only-of-type {\n",
       "        vertical-align: middle;\n",
       "    }\n",
       "\n",
       "    .dataframe tbody tr th {\n",
       "        vertical-align: top;\n",
       "    }\n",
       "\n",
       "    .dataframe thead tr th {\n",
       "        text-align: left;\n",
       "    }\n",
       "\n",
       "    .dataframe thead tr:last-of-type th {\n",
       "        text-align: right;\n",
       "    }\n",
       "</style>\n",
       "<table border=\"1\" class=\"dataframe\">\n",
       "  <thead>\n",
       "    <tr>\n",
       "      <th></th>\n",
       "      <th>sum</th>\n",
       "      <th>count</th>\n",
       "      <th>make_proportion</th>\n",
       "    </tr>\n",
       "    <tr>\n",
       "      <th></th>\n",
       "      <th>debt</th>\n",
       "      <th>debt</th>\n",
       "      <th>debt</th>\n",
       "    </tr>\n",
       "    <tr>\n",
       "      <th>children_category</th>\n",
       "      <th></th>\n",
       "      <th></th>\n",
       "      <th></th>\n",
       "    </tr>\n",
       "  </thead>\n",
       "  <tbody>\n",
       "    <tr>\n",
       "      <th>нет детей</th>\n",
       "      <td>1063</td>\n",
       "      <td>14091</td>\n",
       "      <td>7.54%</td>\n",
       "    </tr>\n",
       "    <tr>\n",
       "      <th>много детей</th>\n",
       "      <td>31</td>\n",
       "      <td>380</td>\n",
       "      <td>8.16%</td>\n",
       "    </tr>\n",
       "    <tr>\n",
       "      <th>1 ребенок</th>\n",
       "      <td>445</td>\n",
       "      <td>4855</td>\n",
       "      <td>9.17%</td>\n",
       "    </tr>\n",
       "    <tr>\n",
       "      <th>2 ребенка</th>\n",
       "      <td>202</td>\n",
       "      <td>2128</td>\n",
       "      <td>9.49%</td>\n",
       "    </tr>\n",
       "  </tbody>\n",
       "</table>\n",
       "</div>"
      ],
      "text/plain": [
       "                    sum  count make_proportion\n",
       "                   debt   debt            debt\n",
       "children_category                             \n",
       "нет детей          1063  14091           7.54%\n",
       "много детей          31    380           8.16%\n",
       "1 ребенок           445   4855           9.17%\n",
       "2 ребенка           202   2128           9.49%"
      ]
     },
     "metadata": {},
     "output_type": "display_data"
    }
   ],
   "source": [
    "# теперь создадим функцию, которая позволить рассчитывать отношение в процентах для ответов на все вопросы исследоваания\n",
    "def make_proportion(pdSerises):\n",
    "    return str(round((pdSerises.sum() / pdSerises.count()) * 100, 2)) + '%'\n",
    "# построим сводную таблицу\n",
    "data_pivot = df.pivot_table(index=['children_category'], values=[\"debt\"], aggfunc=['sum', 'count', make_proportion])\n",
    "# сортируем полученный результат\n",
    "data_pivot = data_pivot.sort_values(by=('make_proportion', 'debt'))\n",
    "display(data_pivot)"
   ]
  },
  {
   "cell_type": "markdown",
   "id": "e2e32690",
   "metadata": {},
   "source": [
    "##### Вывод 1:"
   ]
  },
  {
   "cell_type": "markdown",
   "id": "0ed7cd56",
   "metadata": {},
   "source": [
    "Таким образом, наибольшую вероятность возниконовения задолженности имеют клиенты с 2 детьми. При этом процент задолженности в семьях без детей и в семьях, где количество детей более 2-х примерно одинаков. Полученные данные свидетельствуют о том, что существует зависимость между количеством детей и возвратом кредита в срок."
   ]
  },
  {
   "cell_type": "markdown",
   "id": "bc548ae7",
   "metadata": {},
   "source": [
    "##### Вопрос 2:  Есть ли зависимость между семейным положением и возвратом кредита в срок?"
   ]
  },
  {
   "cell_type": "code",
   "execution_count": 35,
   "id": "bd8db524",
   "metadata": {},
   "outputs": [
    {
     "data": {
      "text/html": [
       "<div>\n",
       "<style scoped>\n",
       "    .dataframe tbody tr th:only-of-type {\n",
       "        vertical-align: middle;\n",
       "    }\n",
       "\n",
       "    .dataframe tbody tr th {\n",
       "        vertical-align: top;\n",
       "    }\n",
       "\n",
       "    .dataframe thead tr th {\n",
       "        text-align: left;\n",
       "    }\n",
       "\n",
       "    .dataframe thead tr:last-of-type th {\n",
       "        text-align: right;\n",
       "    }\n",
       "</style>\n",
       "<table border=\"1\" class=\"dataframe\">\n",
       "  <thead>\n",
       "    <tr>\n",
       "      <th></th>\n",
       "      <th>sum</th>\n",
       "      <th>count</th>\n",
       "      <th>make_proportion</th>\n",
       "    </tr>\n",
       "    <tr>\n",
       "      <th></th>\n",
       "      <th>debt</th>\n",
       "      <th>debt</th>\n",
       "      <th>debt</th>\n",
       "    </tr>\n",
       "    <tr>\n",
       "      <th>family_status</th>\n",
       "      <th></th>\n",
       "      <th></th>\n",
       "      <th></th>\n",
       "    </tr>\n",
       "  </thead>\n",
       "  <tbody>\n",
       "    <tr>\n",
       "      <th>вдовец / вдова</th>\n",
       "      <td>63</td>\n",
       "      <td>959</td>\n",
       "      <td>6.57%</td>\n",
       "    </tr>\n",
       "    <tr>\n",
       "      <th>в разводе</th>\n",
       "      <td>85</td>\n",
       "      <td>1195</td>\n",
       "      <td>7.11%</td>\n",
       "    </tr>\n",
       "    <tr>\n",
       "      <th>женат / замужем</th>\n",
       "      <td>931</td>\n",
       "      <td>12339</td>\n",
       "      <td>7.55%</td>\n",
       "    </tr>\n",
       "    <tr>\n",
       "      <th>гражданский брак</th>\n",
       "      <td>388</td>\n",
       "      <td>4151</td>\n",
       "      <td>9.35%</td>\n",
       "    </tr>\n",
       "    <tr>\n",
       "      <th>не женат / не замужем</th>\n",
       "      <td>274</td>\n",
       "      <td>2810</td>\n",
       "      <td>9.75%</td>\n",
       "    </tr>\n",
       "  </tbody>\n",
       "</table>\n",
       "</div>"
      ],
      "text/plain": [
       "                       sum  count make_proportion\n",
       "                      debt   debt            debt\n",
       "family_status                                    \n",
       "вдовец / вдова          63    959           6.57%\n",
       "в разводе               85   1195           7.11%\n",
       "женат / замужем        931  12339           7.55%\n",
       "гражданский брак       388   4151           9.35%\n",
       "не женат / не замужем  274   2810           9.75%"
      ]
     },
     "metadata": {},
     "output_type": "display_data"
    }
   ],
   "source": [
    "# поскольку мы до этого удаляли из основных данных  family_status, тут необходимо их вернуть\n",
    "df_with_family_status = df.merge(family_log, on='family_status_id', how='left')\n",
    "\n",
    "# построим сводную таблицу\n",
    "data_pivot = df_with_family_status.pivot_table(index=['family_status'], values=[\"debt\"], aggfunc=['sum', 'count', make_proportion])\n",
    "# сортируем полученный результат\n",
    "data_pivot = data_pivot.sort_values(by=('make_proportion', 'debt'))\n",
    "display(data_pivot)"
   ]
  },
  {
   "cell_type": "markdown",
   "id": "f953fc50",
   "metadata": {},
   "source": [
    "##### Вывод 2:"
   ]
  },
  {
   "cell_type": "markdown",
   "id": "f779fdda",
   "metadata": {},
   "source": [
    "Согласно полученным данным вдовец/вдова и люди в разводе имеют наименьший процент возникновения задолженности. Наибольшая вероятность просрочки по кредиту имеют неженатые и состоящие в гражданском браке.  Полученные данные свидетельствуют о том, что существует зависимость между семейным положением и возвратом кредита в срок."
   ]
  },
  {
   "cell_type": "markdown",
   "id": "6f265f45",
   "metadata": {},
   "source": [
    "##### Вопрос 3: Есть ли зависимость между уровнем дохода и возвратом кредита в срок?"
   ]
  },
  {
   "cell_type": "code",
   "execution_count": 36,
   "id": "c6c5b996",
   "metadata": {},
   "outputs": [
    {
     "data": {
      "text/html": [
       "<div>\n",
       "<style scoped>\n",
       "    .dataframe tbody tr th:only-of-type {\n",
       "        vertical-align: middle;\n",
       "    }\n",
       "\n",
       "    .dataframe tbody tr th {\n",
       "        vertical-align: top;\n",
       "    }\n",
       "\n",
       "    .dataframe thead tr th {\n",
       "        text-align: left;\n",
       "    }\n",
       "\n",
       "    .dataframe thead tr:last-of-type th {\n",
       "        text-align: right;\n",
       "    }\n",
       "</style>\n",
       "<table border=\"1\" class=\"dataframe\">\n",
       "  <thead>\n",
       "    <tr>\n",
       "      <th></th>\n",
       "      <th>sum</th>\n",
       "      <th>count</th>\n",
       "      <th>make_proportion</th>\n",
       "    </tr>\n",
       "    <tr>\n",
       "      <th></th>\n",
       "      <th>debt</th>\n",
       "      <th>debt</th>\n",
       "      <th>debt</th>\n",
       "    </tr>\n",
       "    <tr>\n",
       "      <th>total_income_category</th>\n",
       "      <th></th>\n",
       "      <th></th>\n",
       "      <th></th>\n",
       "    </tr>\n",
       "  </thead>\n",
       "  <tbody>\n",
       "    <tr>\n",
       "      <th>D</th>\n",
       "      <td>21</td>\n",
       "      <td>350</td>\n",
       "      <td>6.0%</td>\n",
       "    </tr>\n",
       "    <tr>\n",
       "      <th>B</th>\n",
       "      <td>364</td>\n",
       "      <td>5228</td>\n",
       "      <td>6.96%</td>\n",
       "    </tr>\n",
       "    <tr>\n",
       "      <th>A</th>\n",
       "      <td>2</td>\n",
       "      <td>25</td>\n",
       "      <td>8.0%</td>\n",
       "    </tr>\n",
       "    <tr>\n",
       "      <th>C</th>\n",
       "      <td>1352</td>\n",
       "      <td>15829</td>\n",
       "      <td>8.54%</td>\n",
       "    </tr>\n",
       "    <tr>\n",
       "      <th>E</th>\n",
       "      <td>2</td>\n",
       "      <td>22</td>\n",
       "      <td>9.09%</td>\n",
       "    </tr>\n",
       "  </tbody>\n",
       "</table>\n",
       "</div>"
      ],
      "text/plain": [
       "                        sum  count make_proportion\n",
       "                       debt   debt            debt\n",
       "total_income_category                             \n",
       "D                        21    350            6.0%\n",
       "B                       364   5228           6.96%\n",
       "A                         2     25            8.0%\n",
       "C                      1352  15829           8.54%\n",
       "E                         2     22           9.09%"
      ]
     },
     "metadata": {},
     "output_type": "display_data"
    }
   ],
   "source": [
    "# построим сводную таблицу\n",
    "data_pivot = df.pivot_table(index=['total_income_category'], values=[\"debt\"], aggfunc=['sum', 'count', make_proportion])\n",
    "# сортируем полученный результат\n",
    "data_pivot = data_pivot.sort_values(by=('make_proportion', 'debt'))\n",
    "display(data_pivot)"
   ]
  },
  {
   "cell_type": "markdown",
   "id": "e234c28d",
   "metadata": {},
   "source": [
    "##### Вывод 3:"
   ]
  },
  {
   "cell_type": "markdown",
   "id": "28bb8501",
   "metadata": {},
   "source": [
    "Как и следовало ожтдать,  невысокий процент просрочки у людей со средним доходом (категория D), и доходом выше среднего (категория B), а частые просрочки по кредитам у людей снизким уровнем дохода. "
   ]
  },
  {
   "cell_type": "markdown",
   "id": "ce8994e2",
   "metadata": {},
   "source": [
    "##### Вопрос 4:  Как разные цели кредита влияют на его возврат в срок?"
   ]
  },
  {
   "cell_type": "code",
   "execution_count": 37,
   "id": "39a46a05",
   "metadata": {},
   "outputs": [
    {
     "data": {
      "text/html": [
       "<div>\n",
       "<style scoped>\n",
       "    .dataframe tbody tr th:only-of-type {\n",
       "        vertical-align: middle;\n",
       "    }\n",
       "\n",
       "    .dataframe tbody tr th {\n",
       "        vertical-align: top;\n",
       "    }\n",
       "\n",
       "    .dataframe thead tr th {\n",
       "        text-align: left;\n",
       "    }\n",
       "\n",
       "    .dataframe thead tr:last-of-type th {\n",
       "        text-align: right;\n",
       "    }\n",
       "</style>\n",
       "<table border=\"1\" class=\"dataframe\">\n",
       "  <thead>\n",
       "    <tr>\n",
       "      <th></th>\n",
       "      <th>sum</th>\n",
       "      <th>count</th>\n",
       "      <th>make_proportion</th>\n",
       "    </tr>\n",
       "    <tr>\n",
       "      <th></th>\n",
       "      <th>debt</th>\n",
       "      <th>debt</th>\n",
       "      <th>debt</th>\n",
       "    </tr>\n",
       "    <tr>\n",
       "      <th>purpose_category</th>\n",
       "      <th></th>\n",
       "      <th></th>\n",
       "      <th></th>\n",
       "    </tr>\n",
       "  </thead>\n",
       "  <tbody>\n",
       "    <tr>\n",
       "      <th>операции с недвижимостью</th>\n",
       "      <td>782</td>\n",
       "      <td>10811</td>\n",
       "      <td>7.23%</td>\n",
       "    </tr>\n",
       "    <tr>\n",
       "      <th>проведение свадьбы</th>\n",
       "      <td>122</td>\n",
       "      <td>1533</td>\n",
       "      <td>7.96%</td>\n",
       "    </tr>\n",
       "    <tr>\n",
       "      <th>иные цели</th>\n",
       "      <td>64</td>\n",
       "      <td>791</td>\n",
       "      <td>8.09%</td>\n",
       "    </tr>\n",
       "    <tr>\n",
       "      <th>получение образования</th>\n",
       "      <td>370</td>\n",
       "      <td>4013</td>\n",
       "      <td>9.22%</td>\n",
       "    </tr>\n",
       "    <tr>\n",
       "      <th>операции с автомобилем</th>\n",
       "      <td>403</td>\n",
       "      <td>4306</td>\n",
       "      <td>9.36%</td>\n",
       "    </tr>\n",
       "  </tbody>\n",
       "</table>\n",
       "</div>"
      ],
      "text/plain": [
       "                          sum  count make_proportion\n",
       "                         debt   debt            debt\n",
       "purpose_category                                    \n",
       "операции с недвижимостью  782  10811           7.23%\n",
       "проведение свадьбы        122   1533           7.96%\n",
       "иные цели                  64    791           8.09%\n",
       "получение образования     370   4013           9.22%\n",
       "операции с автомобилем    403   4306           9.36%"
      ]
     },
     "metadata": {},
     "output_type": "display_data"
    }
   ],
   "source": [
    "# построим сводную таблицу \n",
    "data_pivot = df.pivot_table(index=['purpose_category'], values=[\"debt\"], aggfunc=['sum', 'count', make_proportion])\n",
    "# сортируем полученный результат\n",
    "data_pivot = data_pivot.sort_values(by=('make_proportion', 'debt'))\n",
    "display(data_pivot)"
   ]
  },
  {
   "cell_type": "markdown",
   "id": "394a7ba8",
   "metadata": {},
   "source": [
    "##### Вывод 4:"
   ]
  },
  {
   "cell_type": "markdown",
   "id": "7890df31",
   "metadata": {},
   "source": [
    "Полученные данные свидетельствуют о том, что выгоднее всего давать кредиты на недвижимость, а автомобиль и образование - в зоне риска. "
   ]
  },
  {
   "cell_type": "markdown",
   "id": "583385eb",
   "metadata": {},
   "source": [
    "### Общий вывод:"
   ]
  },
  {
   "cell_type": "markdown",
   "id": "2d2d7bc1",
   "metadata": {},
   "source": [
    "Самый идеальный заемщик - это человек без детей, состоящий или состоявший в официальных отношениях, имеющий средний или выше среднего уровень дохода и берущий деньги на недвижимость.\n",
    "Разница в процентном соотношении просроченных выплат по каждой из категорий примерно одинаковая. В среднем, это диапазоны от 6 до 9 %, то есть относительная разница составляет в среднем 3 %, что означает разницу в вероятности просрочки платежа примерно 30%."
   ]
  }
 ],
 "metadata": {
  "ExecuteTimeLog": [
   {
    "duration": 3216,
    "start_time": "2022-02-26T08:06:31.118Z"
   },
   {
    "duration": 54,
    "start_time": "2022-02-26T08:07:18.211Z"
   },
   {
    "duration": 65,
    "start_time": "2022-02-26T08:13:07.052Z"
   },
   {
    "duration": 59,
    "start_time": "2022-02-26T08:55:13.264Z"
   },
   {
    "duration": 11,
    "start_time": "2022-02-26T08:55:18.154Z"
   },
   {
    "duration": 10,
    "start_time": "2022-02-26T08:56:43.412Z"
   },
   {
    "duration": 61,
    "start_time": "2022-02-26T08:57:33.563Z"
   },
   {
    "duration": 61,
    "start_time": "2022-02-26T08:57:44.205Z"
   },
   {
    "duration": 52,
    "start_time": "2022-02-26T08:58:02.645Z"
   },
   {
    "duration": 62,
    "start_time": "2022-02-26T08:58:18.540Z"
   },
   {
    "duration": 8137,
    "start_time": "2022-02-26T08:58:36.194Z"
   },
   {
    "duration": 68,
    "start_time": "2022-02-26T08:58:56.397Z"
   },
   {
    "duration": 9,
    "start_time": "2022-02-26T08:58:56.467Z"
   },
   {
    "duration": 44,
    "start_time": "2022-02-26T08:58:56.477Z"
   },
   {
    "duration": 9,
    "start_time": "2022-02-26T09:00:33.199Z"
   },
   {
    "duration": 329,
    "start_time": "2022-02-26T09:00:49.770Z"
   },
   {
    "duration": 9,
    "start_time": "2022-02-26T09:00:55.677Z"
   },
   {
    "duration": 9,
    "start_time": "2022-02-26T09:01:29.170Z"
   },
   {
    "duration": 13,
    "start_time": "2022-02-26T09:02:27.179Z"
   },
   {
    "duration": 13,
    "start_time": "2022-02-26T09:02:38.570Z"
   },
   {
    "duration": 13,
    "start_time": "2022-02-26T09:03:44.763Z"
   },
   {
    "duration": 227,
    "start_time": "2022-02-27T03:16:54.081Z"
   },
   {
    "duration": 633,
    "start_time": "2022-02-27T03:17:00.418Z"
   },
   {
    "duration": 13,
    "start_time": "2022-02-27T03:17:01.053Z"
   },
   {
    "duration": 49,
    "start_time": "2022-02-27T03:17:01.068Z"
   },
   {
    "duration": 10,
    "start_time": "2022-02-27T03:17:01.119Z"
   },
   {
    "duration": 34,
    "start_time": "2022-02-27T03:17:01.131Z"
   },
   {
    "duration": 178,
    "start_time": "2022-02-27T03:17:01.167Z"
   },
   {
    "duration": 5117,
    "start_time": "2022-02-27T03:17:22.212Z"
   },
   {
    "duration": -157,
    "start_time": "2022-02-27T03:17:32.910Z"
   },
   {
    "duration": 60,
    "start_time": "2022-02-27T03:17:38.719Z"
   },
   {
    "duration": 12,
    "start_time": "2022-02-27T03:17:38.781Z"
   },
   {
    "duration": 66,
    "start_time": "2022-02-27T03:17:38.795Z"
   },
   {
    "duration": 10,
    "start_time": "2022-02-27T03:17:38.863Z"
   },
   {
    "duration": 13,
    "start_time": "2022-02-27T03:17:38.875Z"
   },
   {
    "duration": 194,
    "start_time": "2022-02-27T03:17:38.890Z"
   },
   {
    "duration": 60,
    "start_time": "2022-02-27T03:24:23.032Z"
   },
   {
    "duration": 10,
    "start_time": "2022-02-27T03:24:23.094Z"
   },
   {
    "duration": 57,
    "start_time": "2022-02-27T03:24:23.105Z"
   },
   {
    "duration": 9,
    "start_time": "2022-02-27T03:24:23.163Z"
   },
   {
    "duration": 13,
    "start_time": "2022-02-27T03:24:23.174Z"
   },
   {
    "duration": 190,
    "start_time": "2022-02-27T03:24:23.188Z"
   },
   {
    "duration": 310,
    "start_time": "2022-02-27T07:52:43.733Z"
   },
   {
    "duration": 847,
    "start_time": "2022-02-27T07:52:50.410Z"
   },
   {
    "duration": 10,
    "start_time": "2022-02-27T07:52:51.259Z"
   },
   {
    "duration": 48,
    "start_time": "2022-02-27T07:52:51.271Z"
   },
   {
    "duration": 8,
    "start_time": "2022-02-27T07:52:51.321Z"
   },
   {
    "duration": 11,
    "start_time": "2022-02-27T07:52:51.331Z"
   },
   {
    "duration": 719,
    "start_time": "2022-02-27T07:52:51.344Z"
   },
   {
    "duration": 293,
    "start_time": "2022-02-27T07:54:09.323Z"
   },
   {
    "duration": 60,
    "start_time": "2022-02-27T07:54:12.327Z"
   },
   {
    "duration": 11,
    "start_time": "2022-02-27T07:54:12.388Z"
   },
   {
    "duration": 43,
    "start_time": "2022-02-27T07:54:12.401Z"
   },
   {
    "duration": 9,
    "start_time": "2022-02-27T07:54:12.445Z"
   },
   {
    "duration": 11,
    "start_time": "2022-02-27T07:54:12.456Z"
   },
   {
    "duration": 302,
    "start_time": "2022-02-27T07:54:12.468Z"
   },
   {
    "duration": 61,
    "start_time": "2022-02-27T07:55:07.700Z"
   },
   {
    "duration": 11,
    "start_time": "2022-02-27T07:55:07.763Z"
   },
   {
    "duration": 57,
    "start_time": "2022-02-27T07:55:07.776Z"
   },
   {
    "duration": 9,
    "start_time": "2022-02-27T07:55:07.835Z"
   },
   {
    "duration": 12,
    "start_time": "2022-02-27T07:55:07.845Z"
   },
   {
    "duration": 269,
    "start_time": "2022-02-27T07:55:07.859Z"
   },
   {
    "duration": 57,
    "start_time": "2022-02-27T07:55:36.408Z"
   },
   {
    "duration": 10,
    "start_time": "2022-02-27T07:55:36.467Z"
   },
   {
    "duration": 48,
    "start_time": "2022-02-27T07:55:36.480Z"
   },
   {
    "duration": 8,
    "start_time": "2022-02-27T07:55:36.530Z"
   },
   {
    "duration": 12,
    "start_time": "2022-02-27T07:55:36.540Z"
   },
   {
    "duration": 107,
    "start_time": "2022-02-27T07:55:36.554Z"
   },
   {
    "duration": 60,
    "start_time": "2022-02-27T07:55:57.526Z"
   },
   {
    "duration": 10,
    "start_time": "2022-02-27T07:55:57.588Z"
   },
   {
    "duration": 46,
    "start_time": "2022-02-27T07:55:57.600Z"
   },
   {
    "duration": 9,
    "start_time": "2022-02-27T07:55:57.648Z"
   },
   {
    "duration": 13,
    "start_time": "2022-02-27T07:55:57.659Z"
   },
   {
    "duration": 162,
    "start_time": "2022-02-27T07:55:57.674Z"
   },
   {
    "duration": 60,
    "start_time": "2022-02-27T07:56:14.203Z"
   },
   {
    "duration": 11,
    "start_time": "2022-02-27T07:56:14.265Z"
   },
   {
    "duration": 52,
    "start_time": "2022-02-27T07:56:14.278Z"
   },
   {
    "duration": 8,
    "start_time": "2022-02-27T07:56:14.332Z"
   },
   {
    "duration": 11,
    "start_time": "2022-02-27T07:56:14.342Z"
   },
   {
    "duration": 194,
    "start_time": "2022-02-27T07:56:14.355Z"
   },
   {
    "duration": 72,
    "start_time": "2022-02-27T08:08:06.608Z"
   },
   {
    "duration": 9,
    "start_time": "2022-02-27T08:08:06.682Z"
   },
   {
    "duration": 47,
    "start_time": "2022-02-27T08:08:06.693Z"
   },
   {
    "duration": 8,
    "start_time": "2022-02-27T08:08:06.741Z"
   },
   {
    "duration": 11,
    "start_time": "2022-02-27T08:08:06.750Z"
   },
   {
    "duration": 168,
    "start_time": "2022-02-27T08:08:06.763Z"
   },
   {
    "duration": 71,
    "start_time": "2022-02-27T08:10:01.037Z"
   },
   {
    "duration": 10,
    "start_time": "2022-02-27T08:10:01.110Z"
   },
   {
    "duration": 45,
    "start_time": "2022-02-27T08:10:01.122Z"
   },
   {
    "duration": 9,
    "start_time": "2022-02-27T08:10:01.168Z"
   },
   {
    "duration": 34,
    "start_time": "2022-02-27T08:10:01.178Z"
   },
   {
    "duration": 179,
    "start_time": "2022-02-27T08:10:01.214Z"
   },
   {
    "duration": 8,
    "start_time": "2022-02-27T08:10:01.395Z"
   },
   {
    "duration": 9,
    "start_time": "2022-02-27T08:12:51.225Z"
   },
   {
    "duration": 64,
    "start_time": "2022-02-27T08:17:03.752Z"
   },
   {
    "duration": 10,
    "start_time": "2022-02-27T08:17:03.818Z"
   },
   {
    "duration": 44,
    "start_time": "2022-02-27T08:17:03.830Z"
   },
   {
    "duration": 25,
    "start_time": "2022-02-27T08:17:03.877Z"
   },
   {
    "duration": 13,
    "start_time": "2022-02-27T08:17:03.903Z"
   },
   {
    "duration": 12,
    "start_time": "2022-02-27T08:17:03.917Z"
   },
   {
    "duration": 181,
    "start_time": "2022-02-27T08:17:03.931Z"
   },
   {
    "duration": 2,
    "start_time": "2022-02-27T08:17:04.115Z"
   },
   {
    "duration": 300,
    "start_time": "2022-02-27T08:17:23.392Z"
   },
   {
    "duration": 10,
    "start_time": "2022-02-27T08:17:31.143Z"
   },
   {
    "duration": 64,
    "start_time": "2022-02-27T08:17:38.179Z"
   },
   {
    "duration": 9,
    "start_time": "2022-02-27T08:17:38.245Z"
   },
   {
    "duration": 53,
    "start_time": "2022-02-27T08:17:38.256Z"
   },
   {
    "duration": 8,
    "start_time": "2022-02-27T08:17:38.311Z"
   },
   {
    "duration": 9,
    "start_time": "2022-02-27T08:17:38.321Z"
   },
   {
    "duration": 11,
    "start_time": "2022-02-27T08:17:38.332Z"
   },
   {
    "duration": 178,
    "start_time": "2022-02-27T08:17:38.344Z"
   },
   {
    "duration": 3,
    "start_time": "2022-02-27T08:17:38.523Z"
   },
   {
    "duration": 10,
    "start_time": "2022-02-27T08:18:20.022Z"
   },
   {
    "duration": 87,
    "start_time": "2022-02-27T08:19:09.567Z"
   },
   {
    "duration": 15,
    "start_time": "2022-02-27T08:19:09.656Z"
   },
   {
    "duration": 83,
    "start_time": "2022-02-27T08:19:09.673Z"
   },
   {
    "duration": 12,
    "start_time": "2022-02-27T08:19:09.758Z"
   },
   {
    "duration": 30,
    "start_time": "2022-02-27T08:19:09.772Z"
   },
   {
    "duration": 15,
    "start_time": "2022-02-27T08:19:09.804Z"
   },
   {
    "duration": 267,
    "start_time": "2022-02-27T08:19:09.821Z"
   },
   {
    "duration": 10,
    "start_time": "2022-02-27T08:19:10.091Z"
   },
   {
    "duration": 13,
    "start_time": "2022-02-27T08:20:15.702Z"
   },
   {
    "duration": 7,
    "start_time": "2022-02-27T08:30:58.645Z"
   },
   {
    "duration": 60,
    "start_time": "2022-02-27T08:36:22.037Z"
   },
   {
    "duration": 9,
    "start_time": "2022-02-27T08:36:22.098Z"
   },
   {
    "duration": 43,
    "start_time": "2022-02-27T08:36:22.109Z"
   },
   {
    "duration": 7,
    "start_time": "2022-02-27T08:36:22.154Z"
   },
   {
    "duration": 8,
    "start_time": "2022-02-27T08:36:22.163Z"
   },
   {
    "duration": 35,
    "start_time": "2022-02-27T08:36:22.173Z"
   },
   {
    "duration": 158,
    "start_time": "2022-02-27T08:36:22.209Z"
   },
   {
    "duration": 3,
    "start_time": "2022-02-27T08:36:22.368Z"
   },
   {
    "duration": 10,
    "start_time": "2022-02-27T08:40:05.907Z"
   },
   {
    "duration": 20,
    "start_time": "2022-02-27T08:42:27.802Z"
   },
   {
    "duration": 13,
    "start_time": "2022-02-27T08:42:41.423Z"
   },
   {
    "duration": 14,
    "start_time": "2022-02-27T08:43:47.817Z"
   },
   {
    "duration": 28,
    "start_time": "2022-02-27T08:45:11.183Z"
   },
   {
    "duration": 34,
    "start_time": "2022-02-27T08:45:19.954Z"
   },
   {
    "duration": 7201,
    "start_time": "2022-02-27T08:48:16.250Z"
   },
   {
    "duration": 58,
    "start_time": "2022-02-27T08:48:23.980Z"
   },
   {
    "duration": 9,
    "start_time": "2022-02-27T08:48:24.039Z"
   },
   {
    "duration": 54,
    "start_time": "2022-02-27T08:48:24.050Z"
   },
   {
    "duration": 8,
    "start_time": "2022-02-27T08:48:24.106Z"
   },
   {
    "duration": 8,
    "start_time": "2022-02-27T08:48:24.115Z"
   },
   {
    "duration": 11,
    "start_time": "2022-02-27T08:48:24.124Z"
   },
   {
    "duration": 196,
    "start_time": "2022-02-27T08:48:24.137Z"
   },
   {
    "duration": 3,
    "start_time": "2022-02-27T08:48:24.336Z"
   },
   {
    "duration": 13,
    "start_time": "2022-02-27T08:48:24.341Z"
   },
   {
    "duration": 21,
    "start_time": "2022-02-27T08:48:24.356Z"
   },
   {
    "duration": 49,
    "start_time": "2022-02-27T08:48:24.379Z"
   },
   {
    "duration": 6904,
    "start_time": "2022-02-27T08:48:24.430Z"
   },
   {
    "duration": 5,
    "start_time": "2022-02-27T08:49:37.123Z"
   },
   {
    "duration": 78,
    "start_time": "2022-02-27T08:54:00.614Z"
   },
   {
    "duration": 15,
    "start_time": "2022-02-27T08:54:00.694Z"
   },
   {
    "duration": 79,
    "start_time": "2022-02-27T08:54:00.711Z"
   },
   {
    "duration": 12,
    "start_time": "2022-02-27T08:54:00.792Z"
   },
   {
    "duration": 32,
    "start_time": "2022-02-27T08:54:00.806Z"
   },
   {
    "duration": 30,
    "start_time": "2022-02-27T08:54:00.840Z"
   },
   {
    "duration": 213,
    "start_time": "2022-02-27T08:54:00.872Z"
   },
   {
    "duration": 3,
    "start_time": "2022-02-27T08:54:01.087Z"
   },
   {
    "duration": 19,
    "start_time": "2022-02-27T08:54:01.091Z"
   },
   {
    "duration": 19,
    "start_time": "2022-02-27T08:54:01.111Z"
   },
   {
    "duration": 28,
    "start_time": "2022-02-27T08:54:01.132Z"
   },
   {
    "duration": 7534,
    "start_time": "2022-02-27T08:56:46.418Z"
   },
   {
    "duration": 60,
    "start_time": "2022-02-27T08:57:41.111Z"
   },
   {
    "duration": 11,
    "start_time": "2022-02-27T08:57:41.172Z"
   },
   {
    "duration": 46,
    "start_time": "2022-02-27T08:57:41.185Z"
   },
   {
    "duration": 8,
    "start_time": "2022-02-27T08:57:41.232Z"
   },
   {
    "duration": 9,
    "start_time": "2022-02-27T08:57:41.241Z"
   },
   {
    "duration": 10,
    "start_time": "2022-02-27T08:57:41.252Z"
   },
   {
    "duration": 176,
    "start_time": "2022-02-27T08:57:41.264Z"
   },
   {
    "duration": 2,
    "start_time": "2022-02-27T08:57:41.442Z"
   },
   {
    "duration": 12,
    "start_time": "2022-02-27T08:57:41.446Z"
   },
   {
    "duration": 19,
    "start_time": "2022-02-27T08:57:41.459Z"
   },
   {
    "duration": 43,
    "start_time": "2022-02-27T08:57:41.479Z"
   },
   {
    "duration": 5,
    "start_time": "2022-02-27T08:59:49.619Z"
   },
   {
    "duration": 4,
    "start_time": "2022-02-27T09:01:02.614Z"
   },
   {
    "duration": 5,
    "start_time": "2022-02-27T09:01:16.656Z"
   },
   {
    "duration": 4,
    "start_time": "2022-02-27T09:03:05.596Z"
   },
   {
    "duration": 5,
    "start_time": "2022-02-27T09:03:19.372Z"
   },
   {
    "duration": 5,
    "start_time": "2022-02-27T09:04:25.505Z"
   },
   {
    "duration": 5,
    "start_time": "2022-02-27T09:04:36.731Z"
   },
   {
    "duration": 7,
    "start_time": "2022-02-27T09:05:02.098Z"
   },
   {
    "duration": 7,
    "start_time": "2022-02-27T09:05:08.376Z"
   },
   {
    "duration": 6,
    "start_time": "2022-02-27T09:05:32.486Z"
   },
   {
    "duration": 5,
    "start_time": "2022-02-27T09:05:46.049Z"
   },
   {
    "duration": 7,
    "start_time": "2022-02-27T09:06:09.509Z"
   },
   {
    "duration": 6,
    "start_time": "2022-02-27T09:06:21.175Z"
   },
   {
    "duration": 4,
    "start_time": "2022-02-27T09:06:45.170Z"
   },
   {
    "duration": 4,
    "start_time": "2022-02-27T09:06:51.924Z"
   },
   {
    "duration": 7,
    "start_time": "2022-02-27T09:07:24.106Z"
   },
   {
    "duration": 9,
    "start_time": "2022-02-27T09:07:29.930Z"
   },
   {
    "duration": 7,
    "start_time": "2022-02-27T09:08:31.657Z"
   },
   {
    "duration": 6,
    "start_time": "2022-02-27T09:08:39.652Z"
   },
   {
    "duration": 7,
    "start_time": "2022-02-27T09:08:54.426Z"
   },
   {
    "duration": 5,
    "start_time": "2022-02-27T09:09:19.105Z"
   },
   {
    "duration": -858,
    "start_time": "2022-02-27T09:09:50.415Z"
   },
   {
    "duration": 7,
    "start_time": "2022-02-27T09:09:54.916Z"
   },
   {
    "duration": 8,
    "start_time": "2022-02-27T09:10:39.384Z"
   },
   {
    "duration": 79,
    "start_time": "2022-02-27T09:11:30.527Z"
   },
   {
    "duration": 12,
    "start_time": "2022-02-27T09:11:30.608Z"
   },
   {
    "duration": 60,
    "start_time": "2022-02-27T09:11:30.623Z"
   },
   {
    "duration": 24,
    "start_time": "2022-02-27T09:11:30.685Z"
   },
   {
    "duration": 10,
    "start_time": "2022-02-27T09:11:30.710Z"
   },
   {
    "duration": 48,
    "start_time": "2022-02-27T09:11:30.721Z"
   },
   {
    "duration": 167,
    "start_time": "2022-02-27T09:11:30.771Z"
   },
   {
    "duration": 3,
    "start_time": "2022-02-27T09:11:30.940Z"
   },
   {
    "duration": 6,
    "start_time": "2022-02-27T09:11:30.945Z"
   },
   {
    "duration": 8,
    "start_time": "2022-02-27T09:11:30.953Z"
   },
   {
    "duration": 21,
    "start_time": "2022-02-27T09:11:30.962Z"
   },
   {
    "duration": 7,
    "start_time": "2022-02-27T09:11:30.985Z"
   },
   {
    "duration": 10,
    "start_time": "2022-02-27T09:11:30.994Z"
   },
   {
    "duration": 6,
    "start_time": "2022-02-27T09:11:31.006Z"
   },
   {
    "duration": 14,
    "start_time": "2022-02-27T09:11:31.013Z"
   },
   {
    "duration": 11,
    "start_time": "2022-02-27T09:11:31.029Z"
   },
   {
    "duration": 14,
    "start_time": "2022-02-27T09:11:31.042Z"
   },
   {
    "duration": 14,
    "start_time": "2022-02-27T09:11:31.057Z"
   },
   {
    "duration": 11,
    "start_time": "2022-02-27T09:11:31.073Z"
   },
   {
    "duration": 24,
    "start_time": "2022-02-27T09:11:31.085Z"
   },
   {
    "duration": 21,
    "start_time": "2022-02-27T09:11:31.110Z"
   },
   {
    "duration": 35,
    "start_time": "2022-02-27T09:11:31.132Z"
   },
   {
    "duration": 8,
    "start_time": "2022-02-27T09:11:46.356Z"
   },
   {
    "duration": 9,
    "start_time": "2022-02-27T09:21:55.632Z"
   },
   {
    "duration": 7,
    "start_time": "2022-02-27T09:22:22.906Z"
   },
   {
    "duration": 7,
    "start_time": "2022-02-27T09:22:42.866Z"
   },
   {
    "duration": 7,
    "start_time": "2022-02-27T09:23:30.718Z"
   },
   {
    "duration": 7,
    "start_time": "2022-02-27T09:23:40.531Z"
   },
   {
    "duration": 9,
    "start_time": "2022-02-27T09:24:26.315Z"
   },
   {
    "duration": 8,
    "start_time": "2022-02-27T09:24:51.441Z"
   },
   {
    "duration": 10,
    "start_time": "2022-02-27T09:25:03.719Z"
   },
   {
    "duration": 9,
    "start_time": "2022-02-27T09:25:14.128Z"
   },
   {
    "duration": 61,
    "start_time": "2022-02-27T09:25:30.308Z"
   },
   {
    "duration": 11,
    "start_time": "2022-02-27T09:25:30.371Z"
   },
   {
    "duration": 52,
    "start_time": "2022-02-27T09:25:30.384Z"
   },
   {
    "duration": 8,
    "start_time": "2022-02-27T09:25:30.437Z"
   },
   {
    "duration": 20,
    "start_time": "2022-02-27T09:25:30.447Z"
   },
   {
    "duration": 15,
    "start_time": "2022-02-27T09:25:30.468Z"
   },
   {
    "duration": 177,
    "start_time": "2022-02-27T09:25:30.484Z"
   },
   {
    "duration": 3,
    "start_time": "2022-02-27T09:25:30.663Z"
   },
   {
    "duration": 15,
    "start_time": "2022-02-27T09:25:30.668Z"
   },
   {
    "duration": 23,
    "start_time": "2022-02-27T09:25:30.684Z"
   },
   {
    "duration": 17,
    "start_time": "2022-02-27T09:25:30.708Z"
   },
   {
    "duration": 16,
    "start_time": "2022-02-27T09:25:30.727Z"
   },
   {
    "duration": 8,
    "start_time": "2022-02-27T09:25:30.745Z"
   },
   {
    "duration": 16,
    "start_time": "2022-02-27T09:25:30.755Z"
   },
   {
    "duration": 10,
    "start_time": "2022-02-27T09:25:30.773Z"
   },
   {
    "duration": 12,
    "start_time": "2022-02-27T09:25:30.785Z"
   },
   {
    "duration": 11,
    "start_time": "2022-02-27T09:25:30.799Z"
   },
   {
    "duration": 15,
    "start_time": "2022-02-27T09:25:30.812Z"
   },
   {
    "duration": 15,
    "start_time": "2022-02-27T09:25:30.828Z"
   },
   {
    "duration": 11,
    "start_time": "2022-02-27T09:25:30.844Z"
   },
   {
    "duration": 14,
    "start_time": "2022-02-27T09:25:30.856Z"
   },
   {
    "duration": 16,
    "start_time": "2022-02-27T09:25:30.871Z"
   },
   {
    "duration": 17,
    "start_time": "2022-02-27T09:25:30.890Z"
   },
   {
    "duration": 12,
    "start_time": "2022-02-27T09:25:30.908Z"
   },
   {
    "duration": 20,
    "start_time": "2022-02-27T09:25:30.921Z"
   },
   {
    "duration": 27,
    "start_time": "2022-02-27T09:25:30.942Z"
   },
   {
    "duration": 298,
    "start_time": "2022-02-28T07:47:18.169Z"
   },
   {
    "duration": 231,
    "start_time": "2022-02-28T07:47:27.521Z"
   },
   {
    "duration": 762,
    "start_time": "2022-02-28T07:47:32.824Z"
   },
   {
    "duration": 14,
    "start_time": "2022-02-28T07:47:33.589Z"
   },
   {
    "duration": 84,
    "start_time": "2022-02-28T07:47:33.606Z"
   },
   {
    "duration": 13,
    "start_time": "2022-02-28T07:47:33.692Z"
   },
   {
    "duration": 24,
    "start_time": "2022-02-28T07:47:33.707Z"
   },
   {
    "duration": 26,
    "start_time": "2022-02-28T07:47:33.733Z"
   },
   {
    "duration": 245,
    "start_time": "2022-02-28T07:47:33.782Z"
   },
   {
    "duration": 4,
    "start_time": "2022-02-28T07:47:34.029Z"
   },
   {
    "duration": 16,
    "start_time": "2022-02-28T07:47:34.037Z"
   },
   {
    "duration": 20,
    "start_time": "2022-02-28T07:47:34.056Z"
   },
   {
    "duration": 17,
    "start_time": "2022-02-28T07:47:34.083Z"
   },
   {
    "duration": 14,
    "start_time": "2022-02-28T07:47:34.102Z"
   },
   {
    "duration": 15,
    "start_time": "2022-02-28T07:47:34.119Z"
   },
   {
    "duration": 17,
    "start_time": "2022-02-28T07:47:34.137Z"
   },
   {
    "duration": 9,
    "start_time": "2022-02-28T07:47:34.157Z"
   },
   {
    "duration": 9,
    "start_time": "2022-02-28T07:47:34.183Z"
   },
   {
    "duration": 18,
    "start_time": "2022-02-28T07:47:34.194Z"
   },
   {
    "duration": 17,
    "start_time": "2022-02-28T07:47:34.214Z"
   },
   {
    "duration": 11,
    "start_time": "2022-02-28T07:47:34.233Z"
   },
   {
    "duration": 21,
    "start_time": "2022-02-28T07:47:34.246Z"
   },
   {
    "duration": 10,
    "start_time": "2022-02-28T07:47:34.283Z"
   },
   {
    "duration": 17,
    "start_time": "2022-02-28T07:47:34.296Z"
   },
   {
    "duration": 34,
    "start_time": "2022-02-28T07:47:34.315Z"
   },
   {
    "duration": 26,
    "start_time": "2022-02-28T07:47:34.352Z"
   },
   {
    "duration": 31,
    "start_time": "2022-02-28T07:47:34.383Z"
   },
   {
    "duration": 66,
    "start_time": "2022-02-28T07:47:34.416Z"
   },
   {
    "duration": 264,
    "start_time": "2022-02-28T07:47:34.487Z"
   },
   {
    "duration": 442,
    "start_time": "2022-02-28T07:48:02.674Z"
   },
   {
    "duration": 9,
    "start_time": "2022-02-28T07:48:24.463Z"
   },
   {
    "duration": 9,
    "start_time": "2022-02-28T07:48:52.929Z"
   },
   {
    "duration": 10,
    "start_time": "2022-02-28T07:49:48.824Z"
   },
   {
    "duration": 10,
    "start_time": "2022-02-28T07:51:34.438Z"
   },
   {
    "duration": 6475,
    "start_time": "2022-02-28T07:53:26.933Z"
   },
   {
    "duration": 5522,
    "start_time": "2022-02-28T07:54:11.080Z"
   },
   {
    "duration": 139,
    "start_time": "2022-02-28T07:54:45.788Z"
   },
   {
    "duration": 23,
    "start_time": "2022-02-28T07:54:45.930Z"
   },
   {
    "duration": 141,
    "start_time": "2022-02-28T07:54:45.957Z"
   },
   {
    "duration": 11,
    "start_time": "2022-02-28T07:54:46.101Z"
   },
   {
    "duration": 13,
    "start_time": "2022-02-28T07:54:46.114Z"
   },
   {
    "duration": 19,
    "start_time": "2022-02-28T07:54:46.129Z"
   },
   {
    "duration": 273,
    "start_time": "2022-02-28T07:54:46.150Z"
   },
   {
    "duration": 4,
    "start_time": "2022-02-28T07:54:46.426Z"
   },
   {
    "duration": 10,
    "start_time": "2022-02-28T07:54:46.433Z"
   },
   {
    "duration": 10,
    "start_time": "2022-02-28T07:54:46.445Z"
   },
   {
    "duration": 11,
    "start_time": "2022-02-28T07:54:46.482Z"
   },
   {
    "duration": 11,
    "start_time": "2022-02-28T07:54:46.495Z"
   },
   {
    "duration": 13,
    "start_time": "2022-02-28T07:54:46.508Z"
   },
   {
    "duration": 10,
    "start_time": "2022-02-28T07:54:46.523Z"
   },
   {
    "duration": 9,
    "start_time": "2022-02-28T07:54:46.535Z"
   },
   {
    "duration": 11,
    "start_time": "2022-02-28T07:54:46.583Z"
   },
   {
    "duration": 15,
    "start_time": "2022-02-28T07:54:46.597Z"
   },
   {
    "duration": 10,
    "start_time": "2022-02-28T07:54:46.615Z"
   },
   {
    "duration": 11,
    "start_time": "2022-02-28T07:54:46.628Z"
   },
   {
    "duration": 52,
    "start_time": "2022-02-28T07:54:46.641Z"
   },
   {
    "duration": 16,
    "start_time": "2022-02-28T07:54:46.696Z"
   },
   {
    "duration": 12,
    "start_time": "2022-02-28T07:54:46.715Z"
   },
   {
    "duration": 20,
    "start_time": "2022-02-28T07:54:46.733Z"
   },
   {
    "duration": 19,
    "start_time": "2022-02-28T07:54:46.782Z"
   },
   {
    "duration": 30,
    "start_time": "2022-02-28T07:54:46.805Z"
   },
   {
    "duration": 77,
    "start_time": "2022-02-28T07:54:46.837Z"
   },
   {
    "duration": 10,
    "start_time": "2022-02-28T07:54:46.916Z"
   },
   {
    "duration": 13,
    "start_time": "2022-02-28T07:54:46.928Z"
   },
   {
    "duration": 5819,
    "start_time": "2022-02-28T07:54:46.944Z"
   },
   {
    "duration": 88,
    "start_time": "2022-02-28T07:57:13.050Z"
   },
   {
    "duration": 43,
    "start_time": "2022-02-28T07:57:13.141Z"
   },
   {
    "duration": 70,
    "start_time": "2022-02-28T07:57:13.186Z"
   },
   {
    "duration": 32,
    "start_time": "2022-02-28T07:57:13.259Z"
   },
   {
    "duration": 15,
    "start_time": "2022-02-28T07:57:13.294Z"
   },
   {
    "duration": 19,
    "start_time": "2022-02-28T07:57:13.311Z"
   },
   {
    "duration": 278,
    "start_time": "2022-02-28T07:57:13.332Z"
   },
   {
    "duration": 4,
    "start_time": "2022-02-28T07:57:13.613Z"
   },
   {
    "duration": 11,
    "start_time": "2022-02-28T07:57:13.620Z"
   },
   {
    "duration": 19,
    "start_time": "2022-02-28T07:57:13.634Z"
   },
   {
    "duration": 27,
    "start_time": "2022-02-28T07:57:13.656Z"
   },
   {
    "duration": 6,
    "start_time": "2022-02-28T07:57:13.685Z"
   },
   {
    "duration": 10,
    "start_time": "2022-02-28T07:57:13.694Z"
   },
   {
    "duration": 8,
    "start_time": "2022-02-28T07:57:13.707Z"
   },
   {
    "duration": 8,
    "start_time": "2022-02-28T07:57:13.717Z"
   },
   {
    "duration": 12,
    "start_time": "2022-02-28T07:57:13.727Z"
   },
   {
    "duration": 47,
    "start_time": "2022-02-28T07:57:13.742Z"
   },
   {
    "duration": 21,
    "start_time": "2022-02-28T07:57:13.792Z"
   },
   {
    "duration": 15,
    "start_time": "2022-02-28T07:57:13.816Z"
   },
   {
    "duration": 48,
    "start_time": "2022-02-28T07:57:13.834Z"
   },
   {
    "duration": 11,
    "start_time": "2022-02-28T07:57:13.884Z"
   },
   {
    "duration": 15,
    "start_time": "2022-02-28T07:57:13.898Z"
   },
   {
    "duration": 16,
    "start_time": "2022-02-28T07:57:13.917Z"
   },
   {
    "duration": 49,
    "start_time": "2022-02-28T07:57:13.936Z"
   },
   {
    "duration": 30,
    "start_time": "2022-02-28T07:57:13.988Z"
   },
   {
    "duration": 63,
    "start_time": "2022-02-28T07:57:14.021Z"
   },
   {
    "duration": 9,
    "start_time": "2022-02-28T07:57:14.087Z"
   },
   {
    "duration": 19,
    "start_time": "2022-02-28T07:57:14.099Z"
   },
   {
    "duration": 8093,
    "start_time": "2022-02-28T07:57:14.120Z"
   },
   {
    "duration": 9,
    "start_time": "2022-02-28T07:57:47.575Z"
   },
   {
    "duration": 17,
    "start_time": "2022-02-28T08:09:39.858Z"
   },
   {
    "duration": 95,
    "start_time": "2022-02-28T08:10:34.111Z"
   },
   {
    "duration": 14,
    "start_time": "2022-02-28T08:10:34.209Z"
   },
   {
    "duration": 101,
    "start_time": "2022-02-28T08:10:34.226Z"
   },
   {
    "duration": 13,
    "start_time": "2022-02-28T08:10:34.329Z"
   },
   {
    "duration": 47,
    "start_time": "2022-02-28T08:10:34.344Z"
   },
   {
    "duration": 20,
    "start_time": "2022-02-28T08:10:34.395Z"
   },
   {
    "duration": 332,
    "start_time": "2022-02-28T08:10:34.417Z"
   },
   {
    "duration": 5,
    "start_time": "2022-02-28T08:10:34.752Z"
   },
   {
    "duration": 24,
    "start_time": "2022-02-28T08:10:34.759Z"
   },
   {
    "duration": 18,
    "start_time": "2022-02-28T08:10:34.786Z"
   },
   {
    "duration": 10,
    "start_time": "2022-02-28T08:10:34.807Z"
   },
   {
    "duration": 20,
    "start_time": "2022-02-28T08:10:34.819Z"
   },
   {
    "duration": 10,
    "start_time": "2022-02-28T08:10:34.842Z"
   },
   {
    "duration": 33,
    "start_time": "2022-02-28T08:10:34.854Z"
   },
   {
    "duration": 37,
    "start_time": "2022-02-28T08:10:34.890Z"
   },
   {
    "duration": 23,
    "start_time": "2022-02-28T08:10:34.929Z"
   },
   {
    "duration": 16,
    "start_time": "2022-02-28T08:10:34.955Z"
   },
   {
    "duration": 17,
    "start_time": "2022-02-28T08:10:34.974Z"
   },
   {
    "duration": 14,
    "start_time": "2022-02-28T08:10:34.993Z"
   },
   {
    "duration": 19,
    "start_time": "2022-02-28T08:10:35.010Z"
   },
   {
    "duration": 12,
    "start_time": "2022-02-28T08:10:35.031Z"
   },
   {
    "duration": 40,
    "start_time": "2022-02-28T08:10:35.045Z"
   },
   {
    "duration": 36,
    "start_time": "2022-02-28T08:10:35.092Z"
   },
   {
    "duration": 23,
    "start_time": "2022-02-28T08:10:35.131Z"
   },
   {
    "duration": 43,
    "start_time": "2022-02-28T08:10:35.157Z"
   },
   {
    "duration": 43,
    "start_time": "2022-02-28T08:10:35.204Z"
   },
   {
    "duration": 9,
    "start_time": "2022-02-28T08:10:35.249Z"
   },
   {
    "duration": 13,
    "start_time": "2022-02-28T08:10:35.283Z"
   },
   {
    "duration": 35,
    "start_time": "2022-02-28T08:10:35.299Z"
   },
   {
    "duration": 1228,
    "start_time": "2022-02-28T08:11:48.570Z"
   },
   {
    "duration": 18,
    "start_time": "2022-02-28T08:12:11.803Z"
   },
   {
    "duration": 251,
    "start_time": "2022-02-28T08:15:43.608Z"
   },
   {
    "duration": 85,
    "start_time": "2022-02-28T08:15:46.910Z"
   },
   {
    "duration": 14,
    "start_time": "2022-02-28T08:15:46.997Z"
   },
   {
    "duration": 89,
    "start_time": "2022-02-28T08:15:47.015Z"
   },
   {
    "duration": 12,
    "start_time": "2022-02-28T08:15:47.106Z"
   },
   {
    "duration": 16,
    "start_time": "2022-02-28T08:15:47.120Z"
   },
   {
    "duration": 51,
    "start_time": "2022-02-28T08:15:47.138Z"
   },
   {
    "duration": 248,
    "start_time": "2022-02-28T08:15:47.192Z"
   },
   {
    "duration": 4,
    "start_time": "2022-02-28T08:15:47.444Z"
   },
   {
    "duration": 9,
    "start_time": "2022-02-28T08:15:47.451Z"
   },
   {
    "duration": 31,
    "start_time": "2022-02-28T08:15:47.462Z"
   },
   {
    "duration": 10,
    "start_time": "2022-02-28T08:15:47.496Z"
   },
   {
    "duration": 11,
    "start_time": "2022-02-28T08:15:47.508Z"
   },
   {
    "duration": 10,
    "start_time": "2022-02-28T08:15:47.521Z"
   },
   {
    "duration": 8,
    "start_time": "2022-02-28T08:15:47.533Z"
   },
   {
    "duration": 41,
    "start_time": "2022-02-28T08:15:47.544Z"
   },
   {
    "duration": 12,
    "start_time": "2022-02-28T08:15:47.587Z"
   },
   {
    "duration": 12,
    "start_time": "2022-02-28T08:15:47.601Z"
   },
   {
    "duration": 13,
    "start_time": "2022-02-28T08:15:47.615Z"
   },
   {
    "duration": 10,
    "start_time": "2022-02-28T08:15:47.631Z"
   },
   {
    "duration": 47,
    "start_time": "2022-02-28T08:15:47.644Z"
   },
   {
    "duration": 9,
    "start_time": "2022-02-28T08:15:47.693Z"
   },
   {
    "duration": 14,
    "start_time": "2022-02-28T08:15:47.704Z"
   },
   {
    "duration": 13,
    "start_time": "2022-02-28T08:15:47.722Z"
   },
   {
    "duration": 55,
    "start_time": "2022-02-28T08:15:47.738Z"
   },
   {
    "duration": 28,
    "start_time": "2022-02-28T08:15:47.795Z"
   },
   {
    "duration": 60,
    "start_time": "2022-02-28T08:15:47.825Z"
   },
   {
    "duration": 283,
    "start_time": "2022-02-28T08:15:47.887Z"
   },
   {
    "duration": -40,
    "start_time": "2022-02-28T08:15:48.212Z"
   },
   {
    "duration": -44,
    "start_time": "2022-02-28T08:15:48.217Z"
   },
   {
    "duration": 14,
    "start_time": "2022-02-28T08:16:09.889Z"
   },
   {
    "duration": 15,
    "start_time": "2022-02-28T08:16:39.993Z"
   },
   {
    "duration": 15,
    "start_time": "2022-02-28T08:17:17.630Z"
   },
   {
    "duration": 282,
    "start_time": "2022-02-28T08:19:06.512Z"
   },
   {
    "duration": 229,
    "start_time": "2022-02-28T08:19:13.492Z"
   },
   {
    "duration": 429,
    "start_time": "2022-02-28T08:19:20.632Z"
   },
   {
    "duration": 91,
    "start_time": "2022-02-28T08:19:44.097Z"
   },
   {
    "duration": 14,
    "start_time": "2022-02-28T08:19:44.191Z"
   },
   {
    "duration": 86,
    "start_time": "2022-02-28T08:19:44.208Z"
   },
   {
    "duration": 12,
    "start_time": "2022-02-28T08:19:44.297Z"
   },
   {
    "duration": 14,
    "start_time": "2022-02-28T08:19:44.311Z"
   },
   {
    "duration": 18,
    "start_time": "2022-02-28T08:19:44.327Z"
   },
   {
    "duration": 244,
    "start_time": "2022-02-28T08:19:44.383Z"
   },
   {
    "duration": 3,
    "start_time": "2022-02-28T08:19:44.631Z"
   },
   {
    "duration": 10,
    "start_time": "2022-02-28T08:19:44.637Z"
   },
   {
    "duration": 12,
    "start_time": "2022-02-28T08:19:44.649Z"
   },
   {
    "duration": 27,
    "start_time": "2022-02-28T08:19:44.663Z"
   },
   {
    "duration": 11,
    "start_time": "2022-02-28T08:19:44.692Z"
   },
   {
    "duration": 10,
    "start_time": "2022-02-28T08:19:44.705Z"
   },
   {
    "duration": 7,
    "start_time": "2022-02-28T08:19:44.718Z"
   },
   {
    "duration": 8,
    "start_time": "2022-02-28T08:19:44.728Z"
   },
   {
    "duration": 48,
    "start_time": "2022-02-28T08:19:44.738Z"
   },
   {
    "duration": 9,
    "start_time": "2022-02-28T08:19:44.788Z"
   },
   {
    "duration": 12,
    "start_time": "2022-02-28T08:19:44.799Z"
   },
   {
    "duration": 10,
    "start_time": "2022-02-28T08:19:44.814Z"
   },
   {
    "duration": 10,
    "start_time": "2022-02-28T08:19:44.826Z"
   },
   {
    "duration": 51,
    "start_time": "2022-02-28T08:19:44.838Z"
   },
   {
    "duration": 12,
    "start_time": "2022-02-28T08:19:44.891Z"
   },
   {
    "duration": 13,
    "start_time": "2022-02-28T08:19:44.907Z"
   },
   {
    "duration": 16,
    "start_time": "2022-02-28T08:19:44.922Z"
   },
   {
    "duration": 68,
    "start_time": "2022-02-28T08:19:44.941Z"
   },
   {
    "duration": 44,
    "start_time": "2022-02-28T08:19:45.012Z"
   },
   {
    "duration": 17,
    "start_time": "2022-02-28T08:19:45.082Z"
   },
   {
    "duration": 16,
    "start_time": "2022-02-28T08:19:45.101Z"
   },
   {
    "duration": 15,
    "start_time": "2022-02-28T08:19:45.119Z"
   },
   {
    "duration": 78,
    "start_time": "2022-02-28T08:33:21.154Z"
   },
   {
    "duration": 105,
    "start_time": "2022-02-28T08:33:48.943Z"
   },
   {
    "duration": 90,
    "start_time": "2022-02-28T08:34:04.542Z"
   },
   {
    "duration": 14,
    "start_time": "2022-02-28T08:34:04.634Z"
   },
   {
    "duration": 97,
    "start_time": "2022-02-28T08:34:04.651Z"
   },
   {
    "duration": 11,
    "start_time": "2022-02-28T08:34:04.751Z"
   },
   {
    "duration": 14,
    "start_time": "2022-02-28T08:34:04.783Z"
   },
   {
    "duration": 36,
    "start_time": "2022-02-28T08:34:04.799Z"
   },
   {
    "duration": 260,
    "start_time": "2022-02-28T08:34:04.837Z"
   },
   {
    "duration": 4,
    "start_time": "2022-02-28T08:34:05.100Z"
   },
   {
    "duration": 24,
    "start_time": "2022-02-28T08:34:05.107Z"
   },
   {
    "duration": 37,
    "start_time": "2022-02-28T08:34:05.133Z"
   },
   {
    "duration": 18,
    "start_time": "2022-02-28T08:34:05.172Z"
   },
   {
    "duration": 32,
    "start_time": "2022-02-28T08:34:05.192Z"
   },
   {
    "duration": 27,
    "start_time": "2022-02-28T08:34:05.226Z"
   },
   {
    "duration": 36,
    "start_time": "2022-02-28T08:34:05.255Z"
   },
   {
    "duration": 21,
    "start_time": "2022-02-28T08:34:05.294Z"
   },
   {
    "duration": 26,
    "start_time": "2022-02-28T08:34:05.317Z"
   },
   {
    "duration": 41,
    "start_time": "2022-02-28T08:34:05.346Z"
   },
   {
    "duration": 22,
    "start_time": "2022-02-28T08:34:05.389Z"
   },
   {
    "duration": 23,
    "start_time": "2022-02-28T08:34:05.413Z"
   },
   {
    "duration": 20,
    "start_time": "2022-02-28T08:34:05.439Z"
   },
   {
    "duration": 17,
    "start_time": "2022-02-28T08:34:05.461Z"
   },
   {
    "duration": 20,
    "start_time": "2022-02-28T08:34:05.483Z"
   },
   {
    "duration": 23,
    "start_time": "2022-02-28T08:34:05.507Z"
   },
   {
    "duration": 26,
    "start_time": "2022-02-28T08:34:05.533Z"
   },
   {
    "duration": 29,
    "start_time": "2022-02-28T08:34:05.581Z"
   },
   {
    "duration": 45,
    "start_time": "2022-02-28T08:34:05.612Z"
   },
   {
    "duration": 36,
    "start_time": "2022-02-28T08:34:05.659Z"
   },
   {
    "duration": 16,
    "start_time": "2022-02-28T08:34:05.697Z"
   },
   {
    "duration": 30,
    "start_time": "2022-02-28T08:34:05.715Z"
   },
   {
    "duration": 77,
    "start_time": "2022-02-28T08:34:05.748Z"
   },
   {
    "duration": 103,
    "start_time": "2022-02-28T08:35:15.421Z"
   },
   {
    "duration": 23,
    "start_time": "2022-02-28T08:35:57.509Z"
   },
   {
    "duration": 1182,
    "start_time": "2022-02-28T08:47:05.822Z"
   },
   {
    "duration": 1192,
    "start_time": "2022-02-28T08:48:30.730Z"
   },
   {
    "duration": 30,
    "start_time": "2022-02-28T08:48:55.467Z"
   },
   {
    "duration": 20,
    "start_time": "2022-02-28T08:49:06.506Z"
   },
   {
    "duration": 81,
    "start_time": "2022-02-28T08:58:25.340Z"
   },
   {
    "duration": 89,
    "start_time": "2022-02-28T08:58:32.954Z"
   },
   {
    "duration": 27,
    "start_time": "2022-02-28T08:59:08.934Z"
   },
   {
    "duration": 346,
    "start_time": "2022-02-28T09:02:21.937Z"
   },
   {
    "duration": 229,
    "start_time": "2022-02-28T09:03:14.293Z"
   },
   {
    "duration": 370,
    "start_time": "2022-03-01T10:50:12.185Z"
   },
   {
    "duration": 678,
    "start_time": "2022-03-01T10:50:17.873Z"
   },
   {
    "duration": 10,
    "start_time": "2022-03-01T10:50:18.552Z"
   },
   {
    "duration": 58,
    "start_time": "2022-03-01T10:50:18.564Z"
   },
   {
    "duration": 9,
    "start_time": "2022-03-01T10:50:18.623Z"
   },
   {
    "duration": 10,
    "start_time": "2022-03-01T10:50:18.634Z"
   },
   {
    "duration": 12,
    "start_time": "2022-03-01T10:50:18.645Z"
   },
   {
    "duration": 177,
    "start_time": "2022-03-01T10:50:18.658Z"
   },
   {
    "duration": 3,
    "start_time": "2022-03-01T10:50:18.837Z"
   },
   {
    "duration": 6,
    "start_time": "2022-03-01T10:50:18.841Z"
   },
   {
    "duration": 15,
    "start_time": "2022-03-01T10:50:18.848Z"
   },
   {
    "duration": 7,
    "start_time": "2022-03-01T10:50:18.864Z"
   },
   {
    "duration": 6,
    "start_time": "2022-03-01T10:50:18.872Z"
   },
   {
    "duration": 24,
    "start_time": "2022-03-01T10:50:18.879Z"
   },
   {
    "duration": 5,
    "start_time": "2022-03-01T10:50:18.904Z"
   },
   {
    "duration": 9,
    "start_time": "2022-03-01T10:50:18.911Z"
   },
   {
    "duration": 13,
    "start_time": "2022-03-01T10:50:18.921Z"
   },
   {
    "duration": 8,
    "start_time": "2022-03-01T10:50:18.935Z"
   },
   {
    "duration": 11,
    "start_time": "2022-03-01T10:50:18.945Z"
   },
   {
    "duration": 9,
    "start_time": "2022-03-01T10:50:18.957Z"
   },
   {
    "duration": 9,
    "start_time": "2022-03-01T10:50:18.968Z"
   },
   {
    "duration": 9,
    "start_time": "2022-03-01T10:50:18.978Z"
   },
   {
    "duration": 17,
    "start_time": "2022-03-01T10:50:18.989Z"
   },
   {
    "duration": 11,
    "start_time": "2022-03-01T10:50:19.008Z"
   },
   {
    "duration": 12,
    "start_time": "2022-03-01T10:50:19.021Z"
   },
   {
    "duration": 19,
    "start_time": "2022-03-01T10:50:19.034Z"
   },
   {
    "duration": 46,
    "start_time": "2022-03-01T10:50:19.055Z"
   },
   {
    "duration": 10,
    "start_time": "2022-03-01T10:50:19.103Z"
   },
   {
    "duration": 10,
    "start_time": "2022-03-01T10:50:19.115Z"
   },
   {
    "duration": 10,
    "start_time": "2022-03-01T10:50:19.126Z"
   },
   {
    "duration": 15,
    "start_time": "2022-03-01T10:50:19.137Z"
   },
   {
    "duration": 1350,
    "start_time": "2022-03-01T10:50:19.153Z"
   },
   {
    "duration": -229,
    "start_time": "2022-03-01T10:50:20.733Z"
   },
   {
    "duration": 104,
    "start_time": "2022-03-01T10:57:07.524Z"
   },
   {
    "duration": 1468,
    "start_time": "2022-03-01T10:57:33.985Z"
   },
   {
    "duration": 1414,
    "start_time": "2022-03-01T11:24:41.138Z"
   },
   {
    "duration": 1292,
    "start_time": "2022-03-01T11:24:55.793Z"
   },
   {
    "duration": 86,
    "start_time": "2022-03-01T11:28:09.890Z"
   },
   {
    "duration": 23,
    "start_time": "2022-03-01T11:28:09.978Z"
   },
   {
    "duration": 43,
    "start_time": "2022-03-01T11:28:10.003Z"
   },
   {
    "duration": 16,
    "start_time": "2022-03-01T11:28:10.048Z"
   },
   {
    "duration": 25,
    "start_time": "2022-03-01T11:28:10.066Z"
   },
   {
    "duration": 26,
    "start_time": "2022-03-01T11:28:10.092Z"
   },
   {
    "duration": 157,
    "start_time": "2022-03-01T11:28:10.119Z"
   },
   {
    "duration": 2,
    "start_time": "2022-03-01T11:28:10.279Z"
   },
   {
    "duration": 32,
    "start_time": "2022-03-01T11:28:10.283Z"
   },
   {
    "duration": 28,
    "start_time": "2022-03-01T11:28:10.317Z"
   },
   {
    "duration": 11,
    "start_time": "2022-03-01T11:28:10.347Z"
   },
   {
    "duration": 6,
    "start_time": "2022-03-01T11:28:10.360Z"
   },
   {
    "duration": 31,
    "start_time": "2022-03-01T11:28:10.368Z"
   },
   {
    "duration": 16,
    "start_time": "2022-03-01T11:28:10.400Z"
   },
   {
    "duration": 23,
    "start_time": "2022-03-01T11:28:10.418Z"
   },
   {
    "duration": 11,
    "start_time": "2022-03-01T11:28:10.442Z"
   },
   {
    "duration": 15,
    "start_time": "2022-03-01T11:28:10.455Z"
   },
   {
    "duration": 19,
    "start_time": "2022-03-01T11:28:10.472Z"
   },
   {
    "duration": 11,
    "start_time": "2022-03-01T11:28:10.492Z"
   },
   {
    "duration": 27,
    "start_time": "2022-03-01T11:28:10.504Z"
   },
   {
    "duration": 13,
    "start_time": "2022-03-01T11:28:10.532Z"
   },
   {
    "duration": 13,
    "start_time": "2022-03-01T11:28:10.546Z"
   },
   {
    "duration": 37,
    "start_time": "2022-03-01T11:28:10.562Z"
   },
   {
    "duration": 24,
    "start_time": "2022-03-01T11:28:10.601Z"
   },
   {
    "duration": 28,
    "start_time": "2022-03-01T11:28:10.626Z"
   },
   {
    "duration": 29,
    "start_time": "2022-03-01T11:28:10.655Z"
   },
   {
    "duration": 10,
    "start_time": "2022-03-01T11:28:10.686Z"
   },
   {
    "duration": 24,
    "start_time": "2022-03-01T11:28:10.698Z"
   },
   {
    "duration": 39,
    "start_time": "2022-03-01T11:28:10.724Z"
   },
   {
    "duration": 13,
    "start_time": "2022-03-01T11:28:10.765Z"
   },
   {
    "duration": 1495,
    "start_time": "2022-03-01T11:28:10.780Z"
   },
   {
    "duration": -161,
    "start_time": "2022-03-01T11:28:12.438Z"
   },
   {
    "duration": 1304,
    "start_time": "2022-03-01T11:28:51.424Z"
   },
   {
    "duration": 1331,
    "start_time": "2022-03-01T11:29:25.527Z"
   },
   {
    "duration": 1591,
    "start_time": "2022-03-01T11:30:13.244Z"
   },
   {
    "duration": 1733,
    "start_time": "2022-03-01T11:31:03.421Z"
   },
   {
    "duration": 1315,
    "start_time": "2022-03-01T11:31:34.305Z"
   },
   {
    "duration": 97,
    "start_time": "2022-03-01T11:32:23.118Z"
   },
   {
    "duration": 14,
    "start_time": "2022-03-01T11:32:52.079Z"
   },
   {
    "duration": 1356,
    "start_time": "2022-03-01T11:33:35.468Z"
   },
   {
    "duration": 13,
    "start_time": "2022-03-01T11:33:58.885Z"
   },
   {
    "duration": 1525,
    "start_time": "2022-03-01T11:37:05.572Z"
   },
   {
    "duration": 1359,
    "start_time": "2022-03-01T11:37:30.721Z"
   },
   {
    "duration": -161,
    "start_time": "2022-03-01T11:40:25.046Z"
   },
   {
    "duration": -175,
    "start_time": "2022-03-01T11:40:36.476Z"
   },
   {
    "duration": 59,
    "start_time": "2022-03-01T11:40:37.349Z"
   },
   {
    "duration": 10,
    "start_time": "2022-03-01T11:40:37.410Z"
   },
   {
    "duration": 45,
    "start_time": "2022-03-01T11:40:37.422Z"
   },
   {
    "duration": 8,
    "start_time": "2022-03-01T11:40:37.469Z"
   },
   {
    "duration": 30,
    "start_time": "2022-03-01T11:40:37.479Z"
   },
   {
    "duration": 11,
    "start_time": "2022-03-01T11:40:37.511Z"
   },
   {
    "duration": 186,
    "start_time": "2022-03-01T11:40:37.523Z"
   },
   {
    "duration": 3,
    "start_time": "2022-03-01T11:40:37.711Z"
   },
   {
    "duration": 5,
    "start_time": "2022-03-01T11:40:37.716Z"
   },
   {
    "duration": 7,
    "start_time": "2022-03-01T11:40:37.722Z"
   },
   {
    "duration": 12,
    "start_time": "2022-03-01T11:40:37.731Z"
   },
   {
    "duration": 6,
    "start_time": "2022-03-01T11:40:37.744Z"
   },
   {
    "duration": 7,
    "start_time": "2022-03-01T11:40:37.752Z"
   },
   {
    "duration": 7,
    "start_time": "2022-03-01T11:40:37.761Z"
   },
   {
    "duration": 33,
    "start_time": "2022-03-01T11:40:37.769Z"
   },
   {
    "duration": 9,
    "start_time": "2022-03-01T11:40:37.804Z"
   },
   {
    "duration": 7,
    "start_time": "2022-03-01T11:40:37.815Z"
   },
   {
    "duration": 11,
    "start_time": "2022-03-01T11:40:37.823Z"
   },
   {
    "duration": 9,
    "start_time": "2022-03-01T11:40:37.836Z"
   },
   {
    "duration": 12,
    "start_time": "2022-03-01T11:40:37.846Z"
   },
   {
    "duration": 12,
    "start_time": "2022-03-01T11:40:37.859Z"
   },
   {
    "duration": 32,
    "start_time": "2022-03-01T11:40:37.873Z"
   },
   {
    "duration": 9,
    "start_time": "2022-03-01T11:40:37.908Z"
   },
   {
    "duration": 11,
    "start_time": "2022-03-01T11:40:37.920Z"
   },
   {
    "duration": 20,
    "start_time": "2022-03-01T11:40:37.933Z"
   },
   {
    "duration": 58,
    "start_time": "2022-03-01T11:40:37.954Z"
   },
   {
    "duration": 10,
    "start_time": "2022-03-01T11:40:38.014Z"
   },
   {
    "duration": 10,
    "start_time": "2022-03-01T11:40:38.026Z"
   },
   {
    "duration": 10,
    "start_time": "2022-03-01T11:40:38.037Z"
   },
   {
    "duration": 14,
    "start_time": "2022-03-01T11:40:38.048Z"
   },
   {
    "duration": 1690,
    "start_time": "2022-03-01T11:40:38.063Z"
   },
   {
    "duration": -162,
    "start_time": "2022-03-01T11:40:39.917Z"
   },
   {
    "duration": 18,
    "start_time": "2022-03-01T11:44:03.905Z"
   },
   {
    "duration": 371,
    "start_time": "2022-03-01T11:44:20.192Z"
   },
   {
    "duration": 279,
    "start_time": "2022-03-01T11:47:16.711Z"
   },
   {
    "duration": 64,
    "start_time": "2022-03-01T11:47:55.348Z"
   },
   {
    "duration": 9,
    "start_time": "2022-03-01T11:47:55.415Z"
   },
   {
    "duration": 45,
    "start_time": "2022-03-01T11:47:55.426Z"
   },
   {
    "duration": 28,
    "start_time": "2022-03-01T11:47:55.473Z"
   },
   {
    "duration": 12,
    "start_time": "2022-03-01T11:47:55.509Z"
   },
   {
    "duration": 12,
    "start_time": "2022-03-01T11:47:55.522Z"
   },
   {
    "duration": 184,
    "start_time": "2022-03-01T11:47:55.536Z"
   },
   {
    "duration": 3,
    "start_time": "2022-03-01T11:47:55.723Z"
   },
   {
    "duration": 6,
    "start_time": "2022-03-01T11:47:55.728Z"
   },
   {
    "duration": 7,
    "start_time": "2022-03-01T11:47:55.735Z"
   },
   {
    "duration": 7,
    "start_time": "2022-03-01T11:47:55.743Z"
   },
   {
    "duration": 6,
    "start_time": "2022-03-01T11:47:55.751Z"
   },
   {
    "duration": 8,
    "start_time": "2022-03-01T11:47:55.758Z"
   },
   {
    "duration": 9,
    "start_time": "2022-03-01T11:47:55.767Z"
   },
   {
    "duration": 35,
    "start_time": "2022-03-01T11:47:55.777Z"
   },
   {
    "duration": 8,
    "start_time": "2022-03-01T11:47:55.813Z"
   },
   {
    "duration": 8,
    "start_time": "2022-03-01T11:47:55.822Z"
   },
   {
    "duration": 10,
    "start_time": "2022-03-01T11:47:55.831Z"
   },
   {
    "duration": 10,
    "start_time": "2022-03-01T11:47:55.842Z"
   },
   {
    "duration": 11,
    "start_time": "2022-03-01T11:47:55.854Z"
   },
   {
    "duration": 9,
    "start_time": "2022-03-01T11:47:55.866Z"
   },
   {
    "duration": 10,
    "start_time": "2022-03-01T11:47:55.877Z"
   },
   {
    "duration": 12,
    "start_time": "2022-03-01T11:47:55.905Z"
   },
   {
    "duration": 12,
    "start_time": "2022-03-01T11:47:55.919Z"
   },
   {
    "duration": 18,
    "start_time": "2022-03-01T11:47:55.932Z"
   },
   {
    "duration": 26,
    "start_time": "2022-03-01T11:47:55.952Z"
   },
   {
    "duration": 18,
    "start_time": "2022-03-01T11:47:56.001Z"
   },
   {
    "duration": 12,
    "start_time": "2022-03-01T11:47:56.020Z"
   },
   {
    "duration": 14,
    "start_time": "2022-03-01T11:47:56.034Z"
   },
   {
    "duration": 14,
    "start_time": "2022-03-01T11:47:56.049Z"
   },
   {
    "duration": 48,
    "start_time": "2022-03-01T11:47:56.064Z"
   },
   {
    "duration": 12,
    "start_time": "2022-03-01T11:47:56.114Z"
   },
   {
    "duration": 35,
    "start_time": "2022-03-01T11:47:56.127Z"
   },
   {
    "duration": 13,
    "start_time": "2022-03-01T11:50:52.052Z"
   },
   {
    "duration": 12,
    "start_time": "2022-03-01T11:51:51.826Z"
   },
   {
    "duration": 30,
    "start_time": "2022-03-01T11:53:45.562Z"
   },
   {
    "duration": 12,
    "start_time": "2022-03-01T11:56:04.168Z"
   },
   {
    "duration": 29,
    "start_time": "2022-03-01T11:56:08.274Z"
   },
   {
    "duration": 3,
    "start_time": "2022-03-01T12:00:30.224Z"
   },
   {
    "duration": 330,
    "start_time": "2022-03-01T12:01:50.292Z"
   },
   {
    "duration": 286,
    "start_time": "2022-03-01T12:04:09.543Z"
   },
   {
    "duration": 71,
    "start_time": "2022-03-01T12:04:28.687Z"
   },
   {
    "duration": 10,
    "start_time": "2022-03-01T12:04:28.761Z"
   },
   {
    "duration": 72,
    "start_time": "2022-03-01T12:04:28.774Z"
   },
   {
    "duration": 8,
    "start_time": "2022-03-01T12:04:28.848Z"
   },
   {
    "duration": 23,
    "start_time": "2022-03-01T12:04:28.857Z"
   },
   {
    "duration": 23,
    "start_time": "2022-03-01T12:04:28.881Z"
   },
   {
    "duration": 165,
    "start_time": "2022-03-01T12:04:28.905Z"
   },
   {
    "duration": 3,
    "start_time": "2022-03-01T12:04:29.072Z"
   },
   {
    "duration": 18,
    "start_time": "2022-03-01T12:04:29.077Z"
   },
   {
    "duration": 14,
    "start_time": "2022-03-01T12:04:29.096Z"
   },
   {
    "duration": 10,
    "start_time": "2022-03-01T12:04:29.112Z"
   },
   {
    "duration": 13,
    "start_time": "2022-03-01T12:04:29.123Z"
   },
   {
    "duration": 10,
    "start_time": "2022-03-01T12:04:29.138Z"
   },
   {
    "duration": 15,
    "start_time": "2022-03-01T12:04:29.150Z"
   },
   {
    "duration": 15,
    "start_time": "2022-03-01T12:04:29.166Z"
   },
   {
    "duration": 8,
    "start_time": "2022-03-01T12:04:29.183Z"
   },
   {
    "duration": 7,
    "start_time": "2022-03-01T12:04:29.193Z"
   },
   {
    "duration": 13,
    "start_time": "2022-03-01T12:04:29.202Z"
   },
   {
    "duration": 14,
    "start_time": "2022-03-01T12:04:29.217Z"
   },
   {
    "duration": 11,
    "start_time": "2022-03-01T12:04:29.232Z"
   },
   {
    "duration": 8,
    "start_time": "2022-03-01T12:04:29.244Z"
   },
   {
    "duration": 10,
    "start_time": "2022-03-01T12:04:29.253Z"
   },
   {
    "duration": 13,
    "start_time": "2022-03-01T12:04:29.266Z"
   },
   {
    "duration": 20,
    "start_time": "2022-03-01T12:04:29.281Z"
   },
   {
    "duration": 19,
    "start_time": "2022-03-01T12:04:29.302Z"
   },
   {
    "duration": 25,
    "start_time": "2022-03-01T12:04:29.323Z"
   },
   {
    "duration": 10,
    "start_time": "2022-03-01T12:04:29.350Z"
   },
   {
    "duration": 11,
    "start_time": "2022-03-01T12:04:29.362Z"
   },
   {
    "duration": 37,
    "start_time": "2022-03-01T12:04:29.374Z"
   },
   {
    "duration": 18,
    "start_time": "2022-03-01T12:04:29.413Z"
   },
   {
    "duration": 20,
    "start_time": "2022-03-01T12:04:29.433Z"
   },
   {
    "duration": 18,
    "start_time": "2022-03-01T12:04:29.455Z"
   },
   {
    "duration": 57,
    "start_time": "2022-03-01T12:04:29.475Z"
   },
   {
    "duration": 295,
    "start_time": "2022-03-01T12:04:29.534Z"
   },
   {
    "duration": 314,
    "start_time": "2022-03-01T12:06:01.794Z"
   },
   {
    "duration": 337,
    "start_time": "2022-03-01T12:07:49.854Z"
   },
   {
    "duration": 292,
    "start_time": "2022-03-01T12:09:28.084Z"
   },
   {
    "duration": 295,
    "start_time": "2022-03-01T12:09:55.289Z"
   },
   {
    "duration": 41,
    "start_time": "2022-03-01T12:10:09.115Z"
   },
   {
    "duration": 57,
    "start_time": "2022-03-01T12:10:29.465Z"
   },
   {
    "duration": 44,
    "start_time": "2022-03-01T12:10:53.902Z"
   },
   {
    "duration": 71,
    "start_time": "2022-03-01T12:19:29.385Z"
   },
   {
    "duration": 13,
    "start_time": "2022-03-01T12:19:29.458Z"
   },
   {
    "duration": 75,
    "start_time": "2022-03-01T12:19:29.473Z"
   },
   {
    "duration": 8,
    "start_time": "2022-03-01T12:19:29.550Z"
   },
   {
    "duration": 9,
    "start_time": "2022-03-01T12:19:29.560Z"
   },
   {
    "duration": 36,
    "start_time": "2022-03-01T12:19:29.571Z"
   },
   {
    "duration": 176,
    "start_time": "2022-03-01T12:19:29.609Z"
   },
   {
    "duration": 3,
    "start_time": "2022-03-01T12:19:29.788Z"
   },
   {
    "duration": 4,
    "start_time": "2022-03-01T12:19:29.801Z"
   },
   {
    "duration": 8,
    "start_time": "2022-03-01T12:19:29.807Z"
   },
   {
    "duration": 8,
    "start_time": "2022-03-01T12:19:29.816Z"
   },
   {
    "duration": 6,
    "start_time": "2022-03-01T12:19:29.825Z"
   },
   {
    "duration": 8,
    "start_time": "2022-03-01T12:19:29.832Z"
   },
   {
    "duration": 8,
    "start_time": "2022-03-01T12:19:29.841Z"
   },
   {
    "duration": 11,
    "start_time": "2022-03-01T12:19:29.850Z"
   },
   {
    "duration": 13,
    "start_time": "2022-03-01T12:19:29.862Z"
   },
   {
    "duration": 26,
    "start_time": "2022-03-01T12:19:29.876Z"
   },
   {
    "duration": 6,
    "start_time": "2022-03-01T12:19:29.903Z"
   },
   {
    "duration": 11,
    "start_time": "2022-03-01T12:19:29.911Z"
   },
   {
    "duration": 12,
    "start_time": "2022-03-01T12:19:29.923Z"
   },
   {
    "duration": 10,
    "start_time": "2022-03-01T12:19:29.937Z"
   },
   {
    "duration": 11,
    "start_time": "2022-03-01T12:19:29.949Z"
   },
   {
    "duration": 13,
    "start_time": "2022-03-01T12:19:29.963Z"
   },
   {
    "duration": 25,
    "start_time": "2022-03-01T12:19:29.977Z"
   },
   {
    "duration": 21,
    "start_time": "2022-03-01T12:19:30.003Z"
   },
   {
    "duration": 29,
    "start_time": "2022-03-01T12:19:30.026Z"
   },
   {
    "duration": 11,
    "start_time": "2022-03-01T12:19:30.057Z"
   },
   {
    "duration": 36,
    "start_time": "2022-03-01T12:19:30.069Z"
   },
   {
    "duration": 11,
    "start_time": "2022-03-01T12:19:30.106Z"
   },
   {
    "duration": 15,
    "start_time": "2022-03-01T12:19:30.118Z"
   },
   {
    "duration": 16,
    "start_time": "2022-03-01T12:19:30.135Z"
   },
   {
    "duration": 10,
    "start_time": "2022-03-01T12:19:30.153Z"
   },
   {
    "duration": 61,
    "start_time": "2022-03-01T12:19:30.165Z"
   },
   {
    "duration": 47,
    "start_time": "2022-03-01T12:19:30.227Z"
   },
   {
    "duration": 2,
    "start_time": "2022-03-01T12:20:07.850Z"
   },
   {
    "duration": 295,
    "start_time": "2022-03-01T12:21:01.623Z"
   },
   {
    "duration": 29,
    "start_time": "2022-03-01T12:21:52.972Z"
   },
   {
    "duration": 28,
    "start_time": "2022-03-01T12:22:10.943Z"
   },
   {
    "duration": 17,
    "start_time": "2022-03-01T14:11:01.012Z"
   },
   {
    "duration": 101,
    "start_time": "2022-03-01T14:13:09.851Z"
   },
   {
    "duration": 1302,
    "start_time": "2022-03-01T14:13:17.413Z"
   },
   {
    "duration": 1392,
    "start_time": "2022-03-01T14:15:14.029Z"
   },
   {
    "duration": 286,
    "start_time": "2022-03-01T14:15:25.429Z"
   },
   {
    "duration": 1273,
    "start_time": "2022-03-01T14:16:10.352Z"
   },
   {
    "duration": 304,
    "start_time": "2022-03-02T07:22:00.663Z"
   },
   {
    "duration": 851,
    "start_time": "2022-03-02T07:22:04.978Z"
   },
   {
    "duration": 17,
    "start_time": "2022-03-02T07:22:05.832Z"
   },
   {
    "duration": 97,
    "start_time": "2022-03-02T07:22:05.853Z"
   },
   {
    "duration": 14,
    "start_time": "2022-03-02T07:22:05.952Z"
   },
   {
    "duration": 33,
    "start_time": "2022-03-02T07:22:05.972Z"
   },
   {
    "duration": 28,
    "start_time": "2022-03-02T07:22:06.007Z"
   },
   {
    "duration": 253,
    "start_time": "2022-03-02T07:22:06.037Z"
   },
   {
    "duration": 4,
    "start_time": "2022-03-02T07:22:06.293Z"
   },
   {
    "duration": 30,
    "start_time": "2022-03-02T07:22:06.300Z"
   },
   {
    "duration": 44,
    "start_time": "2022-03-02T07:22:06.332Z"
   },
   {
    "duration": 23,
    "start_time": "2022-03-02T07:22:06.378Z"
   },
   {
    "duration": 30,
    "start_time": "2022-03-02T07:22:06.403Z"
   },
   {
    "duration": 15,
    "start_time": "2022-03-02T07:22:06.435Z"
   },
   {
    "duration": 29,
    "start_time": "2022-03-02T07:22:06.452Z"
   },
   {
    "duration": 18,
    "start_time": "2022-03-02T07:22:06.483Z"
   },
   {
    "duration": 31,
    "start_time": "2022-03-02T07:22:06.503Z"
   },
   {
    "duration": 39,
    "start_time": "2022-03-02T07:22:06.536Z"
   },
   {
    "duration": 41,
    "start_time": "2022-03-02T07:22:06.578Z"
   },
   {
    "duration": 18,
    "start_time": "2022-03-02T07:22:06.621Z"
   },
   {
    "duration": 24,
    "start_time": "2022-03-02T07:22:06.641Z"
   },
   {
    "duration": 25,
    "start_time": "2022-03-02T07:22:06.667Z"
   },
   {
    "duration": 13,
    "start_time": "2022-03-02T07:22:06.695Z"
   },
   {
    "duration": 23,
    "start_time": "2022-03-02T07:22:06.712Z"
   },
   {
    "duration": 24,
    "start_time": "2022-03-02T07:22:06.737Z"
   },
   {
    "duration": 46,
    "start_time": "2022-03-02T07:22:06.764Z"
   },
   {
    "duration": 43,
    "start_time": "2022-03-02T07:22:06.813Z"
   },
   {
    "duration": 40,
    "start_time": "2022-03-02T07:22:06.859Z"
   },
   {
    "duration": 22,
    "start_time": "2022-03-02T07:22:06.901Z"
   },
   {
    "duration": 15,
    "start_time": "2022-03-02T07:22:06.926Z"
   },
   {
    "duration": 51,
    "start_time": "2022-03-02T07:22:06.944Z"
   },
   {
    "duration": 26,
    "start_time": "2022-03-02T07:22:06.998Z"
   },
   {
    "duration": 1202,
    "start_time": "2022-03-02T07:22:07.026Z"
   },
   {
    "duration": -200,
    "start_time": "2022-03-02T07:22:08.430Z"
   },
   {
    "duration": -203,
    "start_time": "2022-03-02T07:22:08.434Z"
   },
   {
    "duration": -206,
    "start_time": "2022-03-02T07:22:08.439Z"
   },
   {
    "duration": -211,
    "start_time": "2022-03-02T07:22:08.445Z"
   },
   {
    "duration": -214,
    "start_time": "2022-03-02T07:22:08.449Z"
   },
   {
    "duration": 99,
    "start_time": "2022-03-02T07:22:47.036Z"
   },
   {
    "duration": 14,
    "start_time": "2022-03-02T07:22:47.138Z"
   },
   {
    "duration": 114,
    "start_time": "2022-03-02T07:22:47.155Z"
   },
   {
    "duration": 15,
    "start_time": "2022-03-02T07:22:47.272Z"
   },
   {
    "duration": 13,
    "start_time": "2022-03-02T07:22:47.290Z"
   },
   {
    "duration": 21,
    "start_time": "2022-03-02T07:22:47.305Z"
   },
   {
    "duration": 301,
    "start_time": "2022-03-02T07:22:47.329Z"
   },
   {
    "duration": 4,
    "start_time": "2022-03-02T07:22:47.633Z"
   },
   {
    "duration": 14,
    "start_time": "2022-03-02T07:22:47.640Z"
   },
   {
    "duration": 30,
    "start_time": "2022-03-02T07:22:47.656Z"
   },
   {
    "duration": 10,
    "start_time": "2022-03-02T07:22:47.689Z"
   },
   {
    "duration": 20,
    "start_time": "2022-03-02T07:22:47.702Z"
   },
   {
    "duration": 10,
    "start_time": "2022-03-02T07:22:47.725Z"
   },
   {
    "duration": 7,
    "start_time": "2022-03-02T07:22:47.738Z"
   },
   {
    "duration": 50,
    "start_time": "2022-03-02T07:22:47.747Z"
   },
   {
    "duration": 15,
    "start_time": "2022-03-02T07:22:47.801Z"
   },
   {
    "duration": 9,
    "start_time": "2022-03-02T07:22:47.818Z"
   },
   {
    "duration": 11,
    "start_time": "2022-03-02T07:22:47.829Z"
   },
   {
    "duration": 10,
    "start_time": "2022-03-02T07:22:47.842Z"
   },
   {
    "duration": 43,
    "start_time": "2022-03-02T07:22:47.855Z"
   },
   {
    "duration": 13,
    "start_time": "2022-03-02T07:22:47.901Z"
   },
   {
    "duration": 15,
    "start_time": "2022-03-02T07:22:47.917Z"
   },
   {
    "duration": 15,
    "start_time": "2022-03-02T07:22:47.987Z"
   },
   {
    "duration": 28,
    "start_time": "2022-03-02T07:22:48.005Z"
   },
   {
    "duration": 31,
    "start_time": "2022-03-02T07:22:48.035Z"
   },
   {
    "duration": 45,
    "start_time": "2022-03-02T07:22:48.088Z"
   },
   {
    "duration": 16,
    "start_time": "2022-03-02T07:22:48.136Z"
   },
   {
    "duration": 40,
    "start_time": "2022-03-02T07:22:48.154Z"
   },
   {
    "duration": 14,
    "start_time": "2022-03-02T07:22:48.197Z"
   },
   {
    "duration": 22,
    "start_time": "2022-03-02T07:22:48.214Z"
   },
   {
    "duration": 74,
    "start_time": "2022-03-02T07:22:48.239Z"
   },
   {
    "duration": 4,
    "start_time": "2022-03-02T07:22:48.316Z"
   },
   {
    "duration": 29,
    "start_time": "2022-03-02T07:22:48.323Z"
   },
   {
    "duration": 81,
    "start_time": "2022-03-02T07:22:48.354Z"
   },
   {
    "duration": 85,
    "start_time": "2022-03-02T07:22:48.439Z"
   },
   {
    "duration": 63,
    "start_time": "2022-03-02T07:22:48.527Z"
   },
   {
    "duration": 252,
    "start_time": "2022-03-02T07:22:48.592Z"
   },
   {
    "duration": 72,
    "start_time": "2022-03-02T07:23:07.844Z"
   },
   {
    "duration": 49,
    "start_time": "2022-03-02T07:24:07.345Z"
   },
   {
    "duration": 50,
    "start_time": "2022-03-02T07:24:34.582Z"
   },
   {
    "duration": 83,
    "start_time": "2022-03-02T07:25:40.606Z"
   },
   {
    "duration": 15,
    "start_time": "2022-03-02T07:25:40.692Z"
   },
   {
    "duration": 100,
    "start_time": "2022-03-02T07:25:40.710Z"
   },
   {
    "duration": 11,
    "start_time": "2022-03-02T07:25:40.812Z"
   },
   {
    "duration": 13,
    "start_time": "2022-03-02T07:25:40.825Z"
   },
   {
    "duration": 56,
    "start_time": "2022-03-02T07:25:40.841Z"
   },
   {
    "duration": 258,
    "start_time": "2022-03-02T07:25:40.899Z"
   },
   {
    "duration": 4,
    "start_time": "2022-03-02T07:25:41.161Z"
   },
   {
    "duration": 26,
    "start_time": "2022-03-02T07:25:41.168Z"
   },
   {
    "duration": 13,
    "start_time": "2022-03-02T07:25:41.196Z"
   },
   {
    "duration": 9,
    "start_time": "2022-03-02T07:25:41.211Z"
   },
   {
    "duration": 9,
    "start_time": "2022-03-02T07:25:41.222Z"
   },
   {
    "duration": 13,
    "start_time": "2022-03-02T07:25:41.233Z"
   },
   {
    "duration": 41,
    "start_time": "2022-03-02T07:25:41.248Z"
   },
   {
    "duration": 10,
    "start_time": "2022-03-02T07:25:41.292Z"
   },
   {
    "duration": 12,
    "start_time": "2022-03-02T07:25:41.305Z"
   },
   {
    "duration": 8,
    "start_time": "2022-03-02T07:25:41.320Z"
   },
   {
    "duration": 10,
    "start_time": "2022-03-02T07:25:41.330Z"
   },
   {
    "duration": 54,
    "start_time": "2022-03-02T07:25:41.342Z"
   },
   {
    "duration": 16,
    "start_time": "2022-03-02T07:25:41.399Z"
   },
   {
    "duration": 11,
    "start_time": "2022-03-02T07:25:41.418Z"
   },
   {
    "duration": 12,
    "start_time": "2022-03-02T07:25:41.431Z"
   },
   {
    "duration": 47,
    "start_time": "2022-03-02T07:25:41.448Z"
   },
   {
    "duration": 18,
    "start_time": "2022-03-02T07:25:41.499Z"
   },
   {
    "duration": 31,
    "start_time": "2022-03-02T07:25:41.519Z"
   },
   {
    "duration": 73,
    "start_time": "2022-03-02T07:25:41.552Z"
   },
   {
    "duration": 15,
    "start_time": "2022-03-02T07:25:41.627Z"
   },
   {
    "duration": 50,
    "start_time": "2022-03-02T07:25:41.645Z"
   },
   {
    "duration": 14,
    "start_time": "2022-03-02T07:25:41.697Z"
   },
   {
    "duration": 22,
    "start_time": "2022-03-02T07:25:41.714Z"
   },
   {
    "duration": 57,
    "start_time": "2022-03-02T07:25:41.738Z"
   },
   {
    "duration": 2,
    "start_time": "2022-03-02T07:25:41.798Z"
   },
   {
    "duration": 26,
    "start_time": "2022-03-02T07:25:41.803Z"
   },
   {
    "duration": 79,
    "start_time": "2022-03-02T07:25:41.831Z"
   },
   {
    "duration": 76,
    "start_time": "2022-03-02T07:25:41.912Z"
   },
   {
    "duration": 47,
    "start_time": "2022-03-02T07:25:41.990Z"
   },
   {
    "duration": 73,
    "start_time": "2022-03-02T07:25:42.039Z"
   },
   {
    "duration": 1077,
    "start_time": "2022-03-02T07:38:10.256Z"
   },
   {
    "duration": 670,
    "start_time": "2022-03-02T07:38:23.024Z"
   },
   {
    "duration": 92,
    "start_time": "2022-03-02T07:38:47.525Z"
   },
   {
    "duration": 18,
    "start_time": "2022-03-02T07:38:47.619Z"
   },
   {
    "duration": 103,
    "start_time": "2022-03-02T07:38:47.641Z"
   },
   {
    "duration": 38,
    "start_time": "2022-03-02T07:38:47.748Z"
   },
   {
    "duration": 16,
    "start_time": "2022-03-02T07:38:47.789Z"
   },
   {
    "duration": 21,
    "start_time": "2022-03-02T07:38:47.808Z"
   },
   {
    "duration": 277,
    "start_time": "2022-03-02T07:38:47.832Z"
   },
   {
    "duration": 3,
    "start_time": "2022-03-02T07:38:48.113Z"
   },
   {
    "duration": 9,
    "start_time": "2022-03-02T07:38:48.119Z"
   },
   {
    "duration": 11,
    "start_time": "2022-03-02T07:38:48.130Z"
   },
   {
    "duration": 10,
    "start_time": "2022-03-02T07:38:48.143Z"
   },
   {
    "duration": 36,
    "start_time": "2022-03-02T07:38:48.155Z"
   },
   {
    "duration": 11,
    "start_time": "2022-03-02T07:38:48.193Z"
   },
   {
    "duration": 8,
    "start_time": "2022-03-02T07:38:48.206Z"
   },
   {
    "duration": 9,
    "start_time": "2022-03-02T07:38:48.216Z"
   },
   {
    "duration": 13,
    "start_time": "2022-03-02T07:38:48.228Z"
   },
   {
    "duration": 48,
    "start_time": "2022-03-02T07:38:48.243Z"
   },
   {
    "duration": 10,
    "start_time": "2022-03-02T07:38:48.294Z"
   },
   {
    "duration": 10,
    "start_time": "2022-03-02T07:38:48.306Z"
   },
   {
    "duration": 11,
    "start_time": "2022-03-02T07:38:48.318Z"
   },
   {
    "duration": 10,
    "start_time": "2022-03-02T07:38:48.332Z"
   },
   {
    "duration": 54,
    "start_time": "2022-03-02T07:38:48.343Z"
   },
   {
    "duration": 18,
    "start_time": "2022-03-02T07:38:48.402Z"
   },
   {
    "duration": 17,
    "start_time": "2022-03-02T07:38:48.423Z"
   },
   {
    "duration": 62,
    "start_time": "2022-03-02T07:38:48.442Z"
   },
   {
    "duration": 43,
    "start_time": "2022-03-02T07:38:48.506Z"
   },
   {
    "duration": 36,
    "start_time": "2022-03-02T07:38:48.552Z"
   },
   {
    "duration": 15,
    "start_time": "2022-03-02T07:38:48.591Z"
   },
   {
    "duration": 19,
    "start_time": "2022-03-02T07:38:48.608Z"
   },
   {
    "duration": 28,
    "start_time": "2022-03-02T07:38:48.629Z"
   },
   {
    "duration": 26,
    "start_time": "2022-03-02T07:38:48.688Z"
   },
   {
    "duration": 415,
    "start_time": "2022-03-02T07:38:48.717Z"
   },
   {
    "duration": 18,
    "start_time": "2022-03-02T07:38:49.134Z"
   },
   {
    "duration": 74,
    "start_time": "2022-03-02T07:38:49.155Z"
   },
   {
    "duration": 82,
    "start_time": "2022-03-02T07:38:49.232Z"
   },
   {
    "duration": 51,
    "start_time": "2022-03-02T07:38:49.317Z"
   },
   {
    "duration": 275,
    "start_time": "2022-03-02T07:38:49.370Z"
   },
   {
    "duration": 21,
    "start_time": "2022-03-02T07:39:17.649Z"
   },
   {
    "duration": 23,
    "start_time": "2022-03-02T07:39:47.308Z"
   },
   {
    "duration": 32,
    "start_time": "2022-03-02T07:46:09.482Z"
   },
   {
    "duration": 33,
    "start_time": "2022-03-02T07:46:31.266Z"
   },
   {
    "duration": 86,
    "start_time": "2022-03-02T07:47:26.684Z"
   },
   {
    "duration": 31,
    "start_time": "2022-03-02T07:48:08.917Z"
   },
   {
    "duration": 33,
    "start_time": "2022-03-02T07:48:22.927Z"
   },
   {
    "duration": 98,
    "start_time": "2022-03-02T07:50:21.503Z"
   },
   {
    "duration": 16,
    "start_time": "2022-03-02T07:50:21.603Z"
   },
   {
    "duration": 109,
    "start_time": "2022-03-02T07:50:21.622Z"
   },
   {
    "duration": 12,
    "start_time": "2022-03-02T07:50:21.734Z"
   },
   {
    "duration": 46,
    "start_time": "2022-03-02T07:50:21.748Z"
   },
   {
    "duration": 20,
    "start_time": "2022-03-02T07:50:21.797Z"
   },
   {
    "duration": 292,
    "start_time": "2022-03-02T07:50:21.820Z"
   },
   {
    "duration": 4,
    "start_time": "2022-03-02T07:50:22.116Z"
   },
   {
    "duration": 10,
    "start_time": "2022-03-02T07:50:22.122Z"
   },
   {
    "duration": 11,
    "start_time": "2022-03-02T07:50:22.134Z"
   },
   {
    "duration": 42,
    "start_time": "2022-03-02T07:50:22.148Z"
   },
   {
    "duration": 10,
    "start_time": "2022-03-02T07:50:22.193Z"
   },
   {
    "duration": 10,
    "start_time": "2022-03-02T07:50:22.205Z"
   },
   {
    "duration": 9,
    "start_time": "2022-03-02T07:50:22.218Z"
   },
   {
    "duration": 8,
    "start_time": "2022-03-02T07:50:22.229Z"
   },
   {
    "duration": 10,
    "start_time": "2022-03-02T07:50:22.288Z"
   },
   {
    "duration": 9,
    "start_time": "2022-03-02T07:50:22.300Z"
   },
   {
    "duration": 9,
    "start_time": "2022-03-02T07:50:22.312Z"
   },
   {
    "duration": 11,
    "start_time": "2022-03-02T07:50:22.323Z"
   },
   {
    "duration": 57,
    "start_time": "2022-03-02T07:50:22.336Z"
   },
   {
    "duration": 11,
    "start_time": "2022-03-02T07:50:22.395Z"
   },
   {
    "duration": 14,
    "start_time": "2022-03-02T07:50:22.408Z"
   },
   {
    "duration": 58,
    "start_time": "2022-03-02T07:50:22.429Z"
   },
   {
    "duration": 22,
    "start_time": "2022-03-02T07:50:22.490Z"
   },
   {
    "duration": 34,
    "start_time": "2022-03-02T07:50:22.516Z"
   },
   {
    "duration": 74,
    "start_time": "2022-03-02T07:50:22.553Z"
   },
   {
    "duration": 18,
    "start_time": "2022-03-02T07:50:22.630Z"
   },
   {
    "duration": 51,
    "start_time": "2022-03-02T07:50:22.651Z"
   },
   {
    "duration": 17,
    "start_time": "2022-03-02T07:50:22.705Z"
   },
   {
    "duration": 24,
    "start_time": "2022-03-02T07:50:22.725Z"
   },
   {
    "duration": 36,
    "start_time": "2022-03-02T07:50:22.788Z"
   },
   {
    "duration": 19,
    "start_time": "2022-03-02T07:50:22.827Z"
   },
   {
    "duration": 87,
    "start_time": "2022-03-02T07:50:22.849Z"
   },
   {
    "duration": 99,
    "start_time": "2022-03-02T07:50:22.939Z"
   },
   {
    "duration": 64,
    "start_time": "2022-03-02T07:50:23.041Z"
   },
   {
    "duration": 50,
    "start_time": "2022-03-02T07:50:23.107Z"
   },
   {
    "duration": 33,
    "start_time": "2022-03-02T07:54:57.335Z"
   },
   {
    "duration": 33,
    "start_time": "2022-03-02T07:55:04.933Z"
   },
   {
    "duration": 33,
    "start_time": "2022-03-02T07:55:11.543Z"
   },
   {
    "duration": 36,
    "start_time": "2022-03-02T07:55:24.656Z"
   },
   {
    "duration": 8,
    "start_time": "2022-03-02T07:59:29.681Z"
   },
   {
    "duration": 9,
    "start_time": "2022-03-02T07:59:37.029Z"
   },
   {
    "duration": 5507,
    "start_time": "2022-03-02T07:59:42.182Z"
   },
   {
    "duration": 86,
    "start_time": "2022-03-02T08:00:29.841Z"
   },
   {
    "duration": 14,
    "start_time": "2022-03-02T08:00:29.930Z"
   },
   {
    "duration": 101,
    "start_time": "2022-03-02T08:00:29.947Z"
   },
   {
    "duration": 13,
    "start_time": "2022-03-02T08:00:30.052Z"
   },
   {
    "duration": 33,
    "start_time": "2022-03-02T08:00:30.067Z"
   },
   {
    "duration": 19,
    "start_time": "2022-03-02T08:00:30.102Z"
   },
   {
    "duration": 301,
    "start_time": "2022-03-02T08:00:30.124Z"
   },
   {
    "duration": 4,
    "start_time": "2022-03-02T08:00:30.432Z"
   },
   {
    "duration": 13,
    "start_time": "2022-03-02T08:00:30.440Z"
   },
   {
    "duration": 35,
    "start_time": "2022-03-02T08:00:30.456Z"
   },
   {
    "duration": 23,
    "start_time": "2022-03-02T08:00:30.494Z"
   },
   {
    "duration": 22,
    "start_time": "2022-03-02T08:00:30.519Z"
   },
   {
    "duration": 12,
    "start_time": "2022-03-02T08:00:30.543Z"
   },
   {
    "duration": 13,
    "start_time": "2022-03-02T08:00:30.558Z"
   },
   {
    "duration": 22,
    "start_time": "2022-03-02T08:00:30.573Z"
   },
   {
    "duration": 22,
    "start_time": "2022-03-02T08:00:30.597Z"
   },
   {
    "duration": 22,
    "start_time": "2022-03-02T08:00:30.622Z"
   },
   {
    "duration": 22,
    "start_time": "2022-03-02T08:00:30.647Z"
   },
   {
    "duration": 26,
    "start_time": "2022-03-02T08:00:30.672Z"
   },
   {
    "duration": 15,
    "start_time": "2022-03-02T08:00:30.700Z"
   },
   {
    "duration": 11,
    "start_time": "2022-03-02T08:00:30.718Z"
   },
   {
    "duration": 15,
    "start_time": "2022-03-02T08:00:30.731Z"
   },
   {
    "duration": 45,
    "start_time": "2022-03-02T08:00:30.750Z"
   },
   {
    "duration": 24,
    "start_time": "2022-03-02T08:00:30.799Z"
   },
   {
    "duration": 36,
    "start_time": "2022-03-02T08:00:30.826Z"
   },
   {
    "duration": 67,
    "start_time": "2022-03-02T08:00:30.865Z"
   },
   {
    "duration": 16,
    "start_time": "2022-03-02T08:00:30.935Z"
   },
   {
    "duration": 44,
    "start_time": "2022-03-02T08:00:30.953Z"
   },
   {
    "duration": 24,
    "start_time": "2022-03-02T08:00:31.000Z"
   },
   {
    "duration": 39,
    "start_time": "2022-03-02T08:00:31.027Z"
   },
   {
    "duration": 48,
    "start_time": "2022-03-02T08:00:31.068Z"
   },
   {
    "duration": 19,
    "start_time": "2022-03-02T08:00:31.119Z"
   },
   {
    "duration": 80,
    "start_time": "2022-03-02T08:00:31.140Z"
   },
   {
    "duration": 76,
    "start_time": "2022-03-02T08:00:31.223Z"
   },
   {
    "duration": 48,
    "start_time": "2022-03-02T08:00:31.302Z"
   },
   {
    "duration": 74,
    "start_time": "2022-03-02T08:00:31.352Z"
   },
   {
    "duration": 614,
    "start_time": "2022-03-10T18:55:14.308Z"
   },
   {
    "duration": 13,
    "start_time": "2022-03-10T18:55:14.925Z"
   },
   {
    "duration": 67,
    "start_time": "2022-03-10T18:55:14.940Z"
   },
   {
    "duration": 9,
    "start_time": "2022-03-10T18:55:15.010Z"
   },
   {
    "duration": 20,
    "start_time": "2022-03-10T18:55:15.021Z"
   },
   {
    "duration": 15,
    "start_time": "2022-03-10T18:55:15.059Z"
   },
   {
    "duration": 202,
    "start_time": "2022-03-10T18:55:15.075Z"
   },
   {
    "duration": 4,
    "start_time": "2022-03-10T18:55:15.281Z"
   },
   {
    "duration": 7,
    "start_time": "2022-03-10T18:55:15.287Z"
   },
   {
    "duration": 9,
    "start_time": "2022-03-10T18:55:15.296Z"
   },
   {
    "duration": 12,
    "start_time": "2022-03-10T18:55:15.306Z"
   },
   {
    "duration": 40,
    "start_time": "2022-03-10T18:55:15.320Z"
   },
   {
    "duration": 11,
    "start_time": "2022-03-10T18:55:15.362Z"
   },
   {
    "duration": 7,
    "start_time": "2022-03-10T18:55:15.375Z"
   },
   {
    "duration": 9,
    "start_time": "2022-03-10T18:55:15.384Z"
   },
   {
    "duration": 11,
    "start_time": "2022-03-10T18:55:15.395Z"
   },
   {
    "duration": 9,
    "start_time": "2022-03-10T18:55:15.408Z"
   },
   {
    "duration": 42,
    "start_time": "2022-03-10T18:55:15.419Z"
   },
   {
    "duration": 10,
    "start_time": "2022-03-10T18:55:15.463Z"
   },
   {
    "duration": 9,
    "start_time": "2022-03-10T18:55:15.475Z"
   },
   {
    "duration": 7,
    "start_time": "2022-03-10T18:55:15.486Z"
   },
   {
    "duration": 9,
    "start_time": "2022-03-10T18:55:15.495Z"
   },
   {
    "duration": 56,
    "start_time": "2022-03-10T18:55:15.508Z"
   },
   {
    "duration": 14,
    "start_time": "2022-03-10T18:55:15.567Z"
   },
   {
    "duration": 24,
    "start_time": "2022-03-10T18:55:15.583Z"
   },
   {
    "duration": 63,
    "start_time": "2022-03-10T18:55:15.609Z"
   },
   {
    "duration": 13,
    "start_time": "2022-03-10T18:55:15.674Z"
   },
   {
    "duration": 14,
    "start_time": "2022-03-10T18:55:15.689Z"
   },
   {
    "duration": 12,
    "start_time": "2022-03-10T18:55:15.705Z"
   },
   {
    "duration": 49,
    "start_time": "2022-03-10T18:55:15.719Z"
   },
   {
    "duration": 23,
    "start_time": "2022-03-10T18:55:15.770Z"
   },
   {
    "duration": 22,
    "start_time": "2022-03-10T18:55:15.795Z"
   },
   {
    "duration": 82,
    "start_time": "2022-03-10T18:55:15.820Z"
   },
   {
    "duration": 64,
    "start_time": "2022-03-10T18:55:15.904Z"
   },
   {
    "duration": 32,
    "start_time": "2022-03-10T18:55:15.969Z"
   },
   {
    "duration": 36,
    "start_time": "2022-03-10T18:55:16.003Z"
   },
   {
    "duration": 16,
    "start_time": "2022-03-10T18:56:05.681Z"
   },
   {
    "duration": 106,
    "start_time": "2022-03-11T09:33:36.702Z"
   },
   {
    "duration": 751,
    "start_time": "2022-03-11T09:40:23.493Z"
   },
   {
    "duration": 58,
    "start_time": "2022-03-11T09:40:45.019Z"
   },
   {
    "duration": 18,
    "start_time": "2022-03-11T09:40:47.678Z"
   },
   {
    "duration": 61,
    "start_time": "2022-03-11T09:43:11.373Z"
   },
   {
    "duration": 23,
    "start_time": "2022-03-11T09:53:29.029Z"
   },
   {
    "duration": 119,
    "start_time": "2022-03-11T09:54:28.506Z"
   },
   {
    "duration": 7,
    "start_time": "2022-03-11T09:56:01.310Z"
   },
   {
    "duration": 3,
    "start_time": "2022-03-11T10:19:07.913Z"
   },
   {
    "duration": 13,
    "start_time": "2022-03-11T10:20:52.687Z"
   },
   {
    "duration": 15,
    "start_time": "2022-03-11T10:21:13.537Z"
   },
   {
    "duration": 2,
    "start_time": "2022-03-11T10:29:16.432Z"
   },
   {
    "duration": 83,
    "start_time": "2022-03-11T10:29:16.437Z"
   },
   {
    "duration": 11,
    "start_time": "2022-03-11T10:29:16.522Z"
   },
   {
    "duration": 66,
    "start_time": "2022-03-11T10:29:16.535Z"
   },
   {
    "duration": 9,
    "start_time": "2022-03-11T10:29:16.603Z"
   },
   {
    "duration": 27,
    "start_time": "2022-03-11T10:29:16.614Z"
   },
   {
    "duration": 18,
    "start_time": "2022-03-11T10:29:16.644Z"
   },
   {
    "duration": 156,
    "start_time": "2022-03-11T10:29:16.664Z"
   },
   {
    "duration": 13,
    "start_time": "2022-03-11T10:29:16.822Z"
   },
   {
    "duration": 168,
    "start_time": "2022-03-11T10:29:16.836Z"
   },
   {
    "duration": 6,
    "start_time": "2022-03-11T10:29:17.006Z"
   },
   {
    "duration": 18,
    "start_time": "2022-03-11T10:29:17.014Z"
   },
   {
    "duration": 24,
    "start_time": "2022-03-11T10:29:17.034Z"
   },
   {
    "duration": 15,
    "start_time": "2022-03-11T10:29:17.060Z"
   },
   {
    "duration": 21,
    "start_time": "2022-03-11T10:29:17.076Z"
   },
   {
    "duration": 22,
    "start_time": "2022-03-11T10:29:17.099Z"
   },
   {
    "duration": 20,
    "start_time": "2022-03-11T10:29:17.122Z"
   },
   {
    "duration": 23,
    "start_time": "2022-03-11T10:29:17.143Z"
   },
   {
    "duration": 7,
    "start_time": "2022-03-11T10:29:17.169Z"
   },
   {
    "duration": 19,
    "start_time": "2022-03-11T10:29:17.178Z"
   },
   {
    "duration": 18,
    "start_time": "2022-03-11T10:29:17.198Z"
   },
   {
    "duration": 19,
    "start_time": "2022-03-11T10:29:17.217Z"
   },
   {
    "duration": 18,
    "start_time": "2022-03-11T10:29:17.238Z"
   },
   {
    "duration": 13,
    "start_time": "2022-03-11T10:29:17.258Z"
   },
   {
    "duration": 30,
    "start_time": "2022-03-11T10:29:17.272Z"
   },
   {
    "duration": 25,
    "start_time": "2022-03-11T10:29:17.303Z"
   },
   {
    "duration": 28,
    "start_time": "2022-03-11T10:29:17.330Z"
   },
   {
    "duration": 9,
    "start_time": "2022-03-11T10:29:17.360Z"
   },
   {
    "duration": 19,
    "start_time": "2022-03-11T10:29:17.370Z"
   },
   {
    "duration": 31,
    "start_time": "2022-03-11T10:29:17.391Z"
   },
   {
    "duration": 30,
    "start_time": "2022-03-11T10:29:17.424Z"
   },
   {
    "duration": 28,
    "start_time": "2022-03-11T10:29:17.456Z"
   },
   {
    "duration": 38,
    "start_time": "2022-03-11T10:29:17.485Z"
   },
   {
    "duration": 62,
    "start_time": "2022-03-11T10:29:17.524Z"
   },
   {
    "duration": 42,
    "start_time": "2022-03-11T10:29:17.588Z"
   },
   {
    "duration": 27,
    "start_time": "2022-03-11T10:29:17.632Z"
   },
   {
    "duration": 28,
    "start_time": "2022-03-11T10:29:17.661Z"
   },
   {
    "duration": 13,
    "start_time": "2022-03-11T10:33:53.430Z"
   },
   {
    "duration": 12,
    "start_time": "2022-03-11T10:36:36.202Z"
   },
   {
    "duration": 8209,
    "start_time": "2022-03-11T10:36:47.262Z"
   },
   {
    "duration": 3,
    "start_time": "2022-03-11T10:36:57.158Z"
   },
   {
    "duration": 88,
    "start_time": "2022-03-11T10:36:57.162Z"
   },
   {
    "duration": 9,
    "start_time": "2022-03-11T10:36:57.252Z"
   },
   {
    "duration": 60,
    "start_time": "2022-03-11T10:36:57.263Z"
   },
   {
    "duration": 7,
    "start_time": "2022-03-11T10:36:57.325Z"
   },
   {
    "duration": 8,
    "start_time": "2022-03-11T10:36:57.334Z"
   },
   {
    "duration": 12,
    "start_time": "2022-03-11T10:36:57.345Z"
   },
   {
    "duration": 186,
    "start_time": "2022-03-11T10:36:57.358Z"
   },
   {
    "duration": 11,
    "start_time": "2022-03-11T10:36:57.546Z"
   },
   {
    "duration": 369,
    "start_time": "2022-03-11T10:36:57.558Z"
   },
   {
    "duration": 48,
    "start_time": "2022-03-11T10:36:57.882Z"
   },
   {
    "duration": 47,
    "start_time": "2022-03-11T10:36:57.884Z"
   },
   {
    "duration": 44,
    "start_time": "2022-03-11T10:36:57.887Z"
   },
   {
    "duration": 43,
    "start_time": "2022-03-11T10:36:57.889Z"
   },
   {
    "duration": 42,
    "start_time": "2022-03-11T10:36:57.891Z"
   },
   {
    "duration": 40,
    "start_time": "2022-03-11T10:36:57.893Z"
   },
   {
    "duration": 39,
    "start_time": "2022-03-11T10:36:57.895Z"
   },
   {
    "duration": 38,
    "start_time": "2022-03-11T10:36:57.897Z"
   },
   {
    "duration": 37,
    "start_time": "2022-03-11T10:36:57.899Z"
   },
   {
    "duration": 8,
    "start_time": "2022-03-11T10:36:57.928Z"
   },
   {
    "duration": -2,
    "start_time": "2022-03-11T10:36:57.939Z"
   },
   {
    "duration": -3,
    "start_time": "2022-03-11T10:36:57.941Z"
   },
   {
    "duration": -4,
    "start_time": "2022-03-11T10:36:57.943Z"
   },
   {
    "duration": -5,
    "start_time": "2022-03-11T10:36:57.945Z"
   },
   {
    "duration": -6,
    "start_time": "2022-03-11T10:36:57.947Z"
   },
   {
    "duration": -8,
    "start_time": "2022-03-11T10:36:57.950Z"
   },
   {
    "duration": -10,
    "start_time": "2022-03-11T10:36:57.953Z"
   },
   {
    "duration": -11,
    "start_time": "2022-03-11T10:36:57.955Z"
   },
   {
    "duration": -13,
    "start_time": "2022-03-11T10:36:57.957Z"
   },
   {
    "duration": -13,
    "start_time": "2022-03-11T10:36:57.958Z"
   },
   {
    "duration": -14,
    "start_time": "2022-03-11T10:36:57.960Z"
   },
   {
    "duration": -15,
    "start_time": "2022-03-11T10:36:57.962Z"
   },
   {
    "duration": -17,
    "start_time": "2022-03-11T10:36:57.964Z"
   },
   {
    "duration": -18,
    "start_time": "2022-03-11T10:36:57.966Z"
   },
   {
    "duration": -19,
    "start_time": "2022-03-11T10:36:57.968Z"
   },
   {
    "duration": -20,
    "start_time": "2022-03-11T10:36:57.970Z"
   },
   {
    "duration": -20,
    "start_time": "2022-03-11T10:36:57.971Z"
   },
   {
    "duration": -21,
    "start_time": "2022-03-11T10:36:57.973Z"
   },
   {
    "duration": 578,
    "start_time": "2022-03-11T10:38:50.217Z"
   },
   {
    "duration": 68,
    "start_time": "2022-03-11T10:38:50.797Z"
   },
   {
    "duration": 10,
    "start_time": "2022-03-11T10:38:50.867Z"
   },
   {
    "duration": 51,
    "start_time": "2022-03-11T10:38:50.879Z"
   },
   {
    "duration": 8,
    "start_time": "2022-03-11T10:38:50.931Z"
   },
   {
    "duration": 10,
    "start_time": "2022-03-11T10:38:50.940Z"
   },
   {
    "duration": 11,
    "start_time": "2022-03-11T10:38:50.952Z"
   },
   {
    "duration": 184,
    "start_time": "2022-03-11T10:38:50.965Z"
   },
   {
    "duration": 12,
    "start_time": "2022-03-11T10:38:51.151Z"
   },
   {
    "duration": 378,
    "start_time": "2022-03-11T10:38:51.164Z"
   },
   {
    "duration": 56,
    "start_time": "2022-03-11T10:38:51.488Z"
   },
   {
    "duration": 54,
    "start_time": "2022-03-11T10:38:51.491Z"
   },
   {
    "duration": 53,
    "start_time": "2022-03-11T10:38:51.493Z"
   },
   {
    "duration": 51,
    "start_time": "2022-03-11T10:38:51.496Z"
   },
   {
    "duration": 39,
    "start_time": "2022-03-11T10:38:51.509Z"
   },
   {
    "duration": 37,
    "start_time": "2022-03-11T10:38:51.512Z"
   },
   {
    "duration": 37,
    "start_time": "2022-03-11T10:38:51.513Z"
   },
   {
    "duration": 36,
    "start_time": "2022-03-11T10:38:51.515Z"
   },
   {
    "duration": 34,
    "start_time": "2022-03-11T10:38:51.517Z"
   },
   {
    "duration": 29,
    "start_time": "2022-03-11T10:38:51.523Z"
   },
   {
    "duration": 28,
    "start_time": "2022-03-11T10:38:51.525Z"
   },
   {
    "duration": 26,
    "start_time": "2022-03-11T10:38:51.528Z"
   },
   {
    "duration": 25,
    "start_time": "2022-03-11T10:38:51.530Z"
   },
   {
    "duration": 24,
    "start_time": "2022-03-11T10:38:51.532Z"
   },
   {
    "duration": 23,
    "start_time": "2022-03-11T10:38:51.534Z"
   },
   {
    "duration": 18,
    "start_time": "2022-03-11T10:38:51.539Z"
   },
   {
    "duration": 17,
    "start_time": "2022-03-11T10:38:51.541Z"
   },
   {
    "duration": 16,
    "start_time": "2022-03-11T10:38:51.543Z"
   },
   {
    "duration": 16,
    "start_time": "2022-03-11T10:38:51.545Z"
   },
   {
    "duration": 15,
    "start_time": "2022-03-11T10:38:51.547Z"
   },
   {
    "duration": 14,
    "start_time": "2022-03-11T10:38:51.549Z"
   },
   {
    "duration": 12,
    "start_time": "2022-03-11T10:38:51.552Z"
   },
   {
    "duration": 9,
    "start_time": "2022-03-11T10:38:51.556Z"
   },
   {
    "duration": 8,
    "start_time": "2022-03-11T10:38:51.558Z"
   },
   {
    "duration": 7,
    "start_time": "2022-03-11T10:38:51.560Z"
   },
   {
    "duration": 5,
    "start_time": "2022-03-11T10:38:51.562Z"
   },
   {
    "duration": 4,
    "start_time": "2022-03-11T10:38:51.564Z"
   },
   {
    "duration": 3,
    "start_time": "2022-03-11T10:38:51.566Z"
   },
   {
    "duration": 3,
    "start_time": "2022-03-11T10:39:52.445Z"
   },
   {
    "duration": 67,
    "start_time": "2022-03-11T10:39:52.450Z"
   },
   {
    "duration": 9,
    "start_time": "2022-03-11T10:39:52.519Z"
   },
   {
    "duration": 43,
    "start_time": "2022-03-11T10:39:52.530Z"
   },
   {
    "duration": 29,
    "start_time": "2022-03-11T10:39:52.575Z"
   },
   {
    "duration": 9,
    "start_time": "2022-03-11T10:39:52.605Z"
   },
   {
    "duration": 11,
    "start_time": "2022-03-11T10:39:52.616Z"
   },
   {
    "duration": 173,
    "start_time": "2022-03-11T10:39:52.629Z"
   },
   {
    "duration": 11,
    "start_time": "2022-03-11T10:39:52.804Z"
   },
   {
    "duration": 315,
    "start_time": "2022-03-11T10:39:52.817Z"
   },
   {
    "duration": 91,
    "start_time": "2022-03-11T10:39:53.043Z"
   },
   {
    "duration": 88,
    "start_time": "2022-03-11T10:39:53.047Z"
   },
   {
    "duration": 64,
    "start_time": "2022-03-11T10:39:53.072Z"
   },
   {
    "duration": 59,
    "start_time": "2022-03-11T10:39:53.078Z"
   },
   {
    "duration": 58,
    "start_time": "2022-03-11T10:39:53.080Z"
   },
   {
    "duration": 56,
    "start_time": "2022-03-11T10:39:53.082Z"
   },
   {
    "duration": 55,
    "start_time": "2022-03-11T10:39:53.084Z"
   },
   {
    "duration": 55,
    "start_time": "2022-03-11T10:39:53.085Z"
   },
   {
    "duration": 54,
    "start_time": "2022-03-11T10:39:53.087Z"
   },
   {
    "duration": 53,
    "start_time": "2022-03-11T10:39:53.089Z"
   },
   {
    "duration": 52,
    "start_time": "2022-03-11T10:39:53.091Z"
   },
   {
    "duration": 51,
    "start_time": "2022-03-11T10:39:53.093Z"
   },
   {
    "duration": 48,
    "start_time": "2022-03-11T10:39:53.097Z"
   },
   {
    "duration": 48,
    "start_time": "2022-03-11T10:39:53.098Z"
   },
   {
    "duration": 47,
    "start_time": "2022-03-11T10:39:53.100Z"
   },
   {
    "duration": 46,
    "start_time": "2022-03-11T10:39:53.102Z"
   },
   {
    "duration": 45,
    "start_time": "2022-03-11T10:39:53.104Z"
   },
   {
    "duration": 44,
    "start_time": "2022-03-11T10:39:53.106Z"
   },
   {
    "duration": 41,
    "start_time": "2022-03-11T10:39:53.110Z"
   },
   {
    "duration": 39,
    "start_time": "2022-03-11T10:39:53.113Z"
   },
   {
    "duration": 36,
    "start_time": "2022-03-11T10:39:53.116Z"
   },
   {
    "duration": 35,
    "start_time": "2022-03-11T10:39:53.118Z"
   },
   {
    "duration": 36,
    "start_time": "2022-03-11T10:39:53.119Z"
   },
   {
    "duration": 34,
    "start_time": "2022-03-11T10:39:53.121Z"
   },
   {
    "duration": 33,
    "start_time": "2022-03-11T10:39:53.123Z"
   },
   {
    "duration": 33,
    "start_time": "2022-03-11T10:39:53.124Z"
   },
   {
    "duration": 32,
    "start_time": "2022-03-11T10:39:53.126Z"
   },
   {
    "duration": 30,
    "start_time": "2022-03-11T10:39:53.129Z"
   },
   {
    "duration": 3,
    "start_time": "2022-03-11T10:42:11.332Z"
   },
   {
    "duration": 69,
    "start_time": "2022-03-11T10:42:11.337Z"
   },
   {
    "duration": 11,
    "start_time": "2022-03-11T10:42:11.408Z"
   },
   {
    "duration": 44,
    "start_time": "2022-03-11T10:42:11.421Z"
   },
   {
    "duration": 8,
    "start_time": "2022-03-11T10:42:11.467Z"
   },
   {
    "duration": 27,
    "start_time": "2022-03-11T10:42:11.477Z"
   },
   {
    "duration": 11,
    "start_time": "2022-03-11T10:42:11.506Z"
   },
   {
    "duration": 172,
    "start_time": "2022-03-11T10:42:11.520Z"
   },
   {
    "duration": 16,
    "start_time": "2022-03-11T10:42:11.694Z"
   },
   {
    "duration": 5,
    "start_time": "2022-03-11T10:42:11.712Z"
   },
   {
    "duration": 166,
    "start_time": "2022-03-11T10:42:11.718Z"
   },
   {
    "duration": 17,
    "start_time": "2022-03-11T10:42:11.885Z"
   },
   {
    "duration": 7,
    "start_time": "2022-03-11T10:42:11.904Z"
   },
   {
    "duration": 8,
    "start_time": "2022-03-11T10:42:11.912Z"
   },
   {
    "duration": 6,
    "start_time": "2022-03-11T10:42:11.922Z"
   },
   {
    "duration": 8,
    "start_time": "2022-03-11T10:42:11.929Z"
   },
   {
    "duration": 6,
    "start_time": "2022-03-11T10:42:11.939Z"
   },
   {
    "duration": 7,
    "start_time": "2022-03-11T10:42:11.946Z"
   },
   {
    "duration": 12,
    "start_time": "2022-03-11T10:42:11.955Z"
   },
   {
    "duration": 36,
    "start_time": "2022-03-11T10:42:11.968Z"
   },
   {
    "duration": 6,
    "start_time": "2022-03-11T10:42:12.006Z"
   },
   {
    "duration": 9,
    "start_time": "2022-03-11T10:42:12.013Z"
   },
   {
    "duration": 9,
    "start_time": "2022-03-11T10:42:12.025Z"
   },
   {
    "duration": 9,
    "start_time": "2022-03-11T10:42:12.036Z"
   },
   {
    "duration": 12,
    "start_time": "2022-03-11T10:42:12.046Z"
   },
   {
    "duration": 12,
    "start_time": "2022-03-11T10:42:12.060Z"
   },
   {
    "duration": 48,
    "start_time": "2022-03-11T10:42:12.073Z"
   },
   {
    "duration": 31,
    "start_time": "2022-03-11T10:42:12.123Z"
   },
   {
    "duration": 11,
    "start_time": "2022-03-11T10:42:12.155Z"
   },
   {
    "duration": 35,
    "start_time": "2022-03-11T10:42:12.167Z"
   },
   {
    "duration": 12,
    "start_time": "2022-03-11T10:42:12.203Z"
   },
   {
    "duration": 16,
    "start_time": "2022-03-11T10:42:12.216Z"
   },
   {
    "duration": 22,
    "start_time": "2022-03-11T10:42:12.234Z"
   },
   {
    "duration": 13,
    "start_time": "2022-03-11T10:42:12.257Z"
   },
   {
    "duration": 57,
    "start_time": "2022-03-11T10:42:12.271Z"
   },
   {
    "duration": 43,
    "start_time": "2022-03-11T10:42:12.330Z"
   },
   {
    "duration": 49,
    "start_time": "2022-03-11T10:42:12.375Z"
   },
   {
    "duration": 30,
    "start_time": "2022-03-11T10:42:12.426Z"
   },
   {
    "duration": 15,
    "start_time": "2022-03-11T10:43:51.119Z"
   },
   {
    "duration": 3,
    "start_time": "2022-03-11T10:44:33.253Z"
   },
   {
    "duration": 85,
    "start_time": "2022-03-11T10:44:33.258Z"
   },
   {
    "duration": 10,
    "start_time": "2022-03-11T10:44:33.345Z"
   },
   {
    "duration": 62,
    "start_time": "2022-03-11T10:44:33.357Z"
   },
   {
    "duration": 10,
    "start_time": "2022-03-11T10:44:33.420Z"
   },
   {
    "duration": 26,
    "start_time": "2022-03-11T10:44:33.432Z"
   },
   {
    "duration": 19,
    "start_time": "2022-03-11T10:44:33.461Z"
   },
   {
    "duration": 168,
    "start_time": "2022-03-11T10:44:33.482Z"
   },
   {
    "duration": 314,
    "start_time": "2022-03-11T10:44:33.651Z"
   },
   {
    "duration": 62,
    "start_time": "2022-03-11T10:44:33.905Z"
   },
   {
    "duration": 60,
    "start_time": "2022-03-11T10:44:33.908Z"
   },
   {
    "duration": 58,
    "start_time": "2022-03-11T10:44:33.910Z"
   },
   {
    "duration": 57,
    "start_time": "2022-03-11T10:44:33.912Z"
   },
   {
    "duration": 56,
    "start_time": "2022-03-11T10:44:33.914Z"
   },
   {
    "duration": 54,
    "start_time": "2022-03-11T10:44:33.916Z"
   },
   {
    "duration": 53,
    "start_time": "2022-03-11T10:44:33.918Z"
   },
   {
    "duration": 52,
    "start_time": "2022-03-11T10:44:33.920Z"
   },
   {
    "duration": 51,
    "start_time": "2022-03-11T10:44:33.922Z"
   },
   {
    "duration": 50,
    "start_time": "2022-03-11T10:44:33.924Z"
   },
   {
    "duration": 50,
    "start_time": "2022-03-11T10:44:33.925Z"
   },
   {
    "duration": 48,
    "start_time": "2022-03-11T10:44:33.927Z"
   },
   {
    "duration": 47,
    "start_time": "2022-03-11T10:44:33.929Z"
   },
   {
    "duration": 45,
    "start_time": "2022-03-11T10:44:33.932Z"
   },
   {
    "duration": 44,
    "start_time": "2022-03-11T10:44:33.934Z"
   },
   {
    "duration": 43,
    "start_time": "2022-03-11T10:44:33.936Z"
   },
   {
    "duration": 42,
    "start_time": "2022-03-11T10:44:33.938Z"
   },
   {
    "duration": 40,
    "start_time": "2022-03-11T10:44:33.940Z"
   },
   {
    "duration": 39,
    "start_time": "2022-03-11T10:44:33.942Z"
   },
   {
    "duration": 38,
    "start_time": "2022-03-11T10:44:33.944Z"
   },
   {
    "duration": 38,
    "start_time": "2022-03-11T10:44:33.945Z"
   },
   {
    "duration": 37,
    "start_time": "2022-03-11T10:44:33.947Z"
   },
   {
    "duration": 35,
    "start_time": "2022-03-11T10:44:33.949Z"
   },
   {
    "duration": 34,
    "start_time": "2022-03-11T10:44:33.951Z"
   },
   {
    "duration": 34,
    "start_time": "2022-03-11T10:44:33.952Z"
   },
   {
    "duration": 33,
    "start_time": "2022-03-11T10:44:33.954Z"
   },
   {
    "duration": 33,
    "start_time": "2022-03-11T10:44:33.955Z"
   },
   {
    "duration": 32,
    "start_time": "2022-03-11T10:44:33.957Z"
   },
   {
    "duration": 366,
    "start_time": "2022-03-11T10:44:57.967Z"
   },
   {
    "duration": 366,
    "start_time": "2022-03-11T10:45:06.639Z"
   },
   {
    "duration": 331,
    "start_time": "2022-03-11T10:45:21.862Z"
   },
   {
    "duration": 13,
    "start_time": "2022-03-11T10:46:02.132Z"
   },
   {
    "duration": 2,
    "start_time": "2022-03-11T10:46:07.436Z"
   },
   {
    "duration": 76,
    "start_time": "2022-03-11T10:46:07.440Z"
   },
   {
    "duration": 9,
    "start_time": "2022-03-11T10:46:07.518Z"
   },
   {
    "duration": 43,
    "start_time": "2022-03-11T10:46:07.529Z"
   },
   {
    "duration": 29,
    "start_time": "2022-03-11T10:46:07.573Z"
   },
   {
    "duration": 10,
    "start_time": "2022-03-11T10:46:07.603Z"
   },
   {
    "duration": 12,
    "start_time": "2022-03-11T10:46:07.616Z"
   },
   {
    "duration": 195,
    "start_time": "2022-03-11T10:46:07.630Z"
   },
   {
    "duration": 12,
    "start_time": "2022-03-11T10:46:07.827Z"
   },
   {
    "duration": 178,
    "start_time": "2022-03-11T10:46:07.840Z"
   },
   {
    "duration": 5,
    "start_time": "2022-03-11T10:46:08.020Z"
   },
   {
    "duration": 9,
    "start_time": "2022-03-11T10:46:08.026Z"
   },
   {
    "duration": 8,
    "start_time": "2022-03-11T10:46:08.037Z"
   },
   {
    "duration": 6,
    "start_time": "2022-03-11T10:46:08.046Z"
   },
   {
    "duration": 14,
    "start_time": "2022-03-11T10:46:08.054Z"
   },
   {
    "duration": 5,
    "start_time": "2022-03-11T10:46:08.070Z"
   },
   {
    "duration": 27,
    "start_time": "2022-03-11T10:46:08.077Z"
   },
   {
    "duration": 13,
    "start_time": "2022-03-11T10:46:08.106Z"
   },
   {
    "duration": 9,
    "start_time": "2022-03-11T10:46:08.122Z"
   },
   {
    "duration": 10,
    "start_time": "2022-03-11T10:46:08.133Z"
   },
   {
    "duration": 9,
    "start_time": "2022-03-11T10:46:08.144Z"
   },
   {
    "duration": 9,
    "start_time": "2022-03-11T10:46:08.155Z"
   },
   {
    "duration": 9,
    "start_time": "2022-03-11T10:46:08.165Z"
   },
   {
    "duration": 26,
    "start_time": "2022-03-11T10:46:08.175Z"
   },
   {
    "duration": 12,
    "start_time": "2022-03-11T10:46:08.203Z"
   },
   {
    "duration": 23,
    "start_time": "2022-03-11T10:46:08.217Z"
   },
   {
    "duration": 30,
    "start_time": "2022-03-11T10:46:08.242Z"
   },
   {
    "duration": 36,
    "start_time": "2022-03-11T10:46:08.273Z"
   },
   {
    "duration": 11,
    "start_time": "2022-03-11T10:46:08.310Z"
   },
   {
    "duration": 10,
    "start_time": "2022-03-11T10:46:08.322Z"
   },
   {
    "duration": 14,
    "start_time": "2022-03-11T10:46:08.333Z"
   },
   {
    "duration": 22,
    "start_time": "2022-03-11T10:46:08.348Z"
   },
   {
    "duration": 38,
    "start_time": "2022-03-11T10:46:08.371Z"
   },
   {
    "duration": 32,
    "start_time": "2022-03-11T10:46:08.411Z"
   },
   {
    "duration": 61,
    "start_time": "2022-03-11T10:46:08.445Z"
   },
   {
    "duration": 29,
    "start_time": "2022-03-11T10:46:08.508Z"
   },
   {
    "duration": 32,
    "start_time": "2022-03-11T10:46:08.538Z"
   },
   {
    "duration": 3,
    "start_time": "2022-03-11T10:47:18.045Z"
   },
   {
    "duration": 62,
    "start_time": "2022-03-11T10:47:18.050Z"
   },
   {
    "duration": 9,
    "start_time": "2022-03-11T10:47:18.113Z"
   },
   {
    "duration": 41,
    "start_time": "2022-03-11T10:47:18.124Z"
   },
   {
    "duration": 9,
    "start_time": "2022-03-11T10:47:18.167Z"
   },
   {
    "duration": 12,
    "start_time": "2022-03-11T10:47:18.201Z"
   },
   {
    "duration": 13,
    "start_time": "2022-03-11T10:47:18.214Z"
   },
   {
    "duration": 185,
    "start_time": "2022-03-11T10:47:18.229Z"
   },
   {
    "duration": 12,
    "start_time": "2022-03-11T10:47:18.417Z"
   },
   {
    "duration": 217,
    "start_time": "2022-03-11T10:47:18.431Z"
   },
   {
    "duration": 5,
    "start_time": "2022-03-11T10:47:18.649Z"
   },
   {
    "duration": 20,
    "start_time": "2022-03-11T10:47:18.656Z"
   },
   {
    "duration": 27,
    "start_time": "2022-03-11T10:47:18.677Z"
   },
   {
    "duration": 25,
    "start_time": "2022-03-11T10:47:18.706Z"
   },
   {
    "duration": 19,
    "start_time": "2022-03-11T10:47:18.732Z"
   },
   {
    "duration": 26,
    "start_time": "2022-03-11T10:47:18.753Z"
   },
   {
    "duration": 9,
    "start_time": "2022-03-11T10:47:18.781Z"
   },
   {
    "duration": 21,
    "start_time": "2022-03-11T10:47:18.792Z"
   },
   {
    "duration": 11,
    "start_time": "2022-03-11T10:47:18.814Z"
   },
   {
    "duration": 18,
    "start_time": "2022-03-11T10:47:18.827Z"
   },
   {
    "duration": 13,
    "start_time": "2022-03-11T10:47:18.846Z"
   },
   {
    "duration": 15,
    "start_time": "2022-03-11T10:47:18.861Z"
   },
   {
    "duration": 25,
    "start_time": "2022-03-11T10:47:18.878Z"
   },
   {
    "duration": 12,
    "start_time": "2022-03-11T10:47:18.907Z"
   },
   {
    "duration": 32,
    "start_time": "2022-03-11T10:47:18.921Z"
   },
   {
    "duration": 22,
    "start_time": "2022-03-11T10:47:18.955Z"
   },
   {
    "duration": 28,
    "start_time": "2022-03-11T10:47:18.979Z"
   },
   {
    "duration": 10,
    "start_time": "2022-03-11T10:47:19.009Z"
   },
   {
    "duration": 17,
    "start_time": "2022-03-11T10:47:19.020Z"
   },
   {
    "duration": 27,
    "start_time": "2022-03-11T10:47:19.039Z"
   },
   {
    "duration": 16,
    "start_time": "2022-03-11T10:47:19.067Z"
   },
   {
    "duration": 23,
    "start_time": "2022-03-11T10:47:19.085Z"
   },
   {
    "duration": 16,
    "start_time": "2022-03-11T10:47:19.109Z"
   },
   {
    "duration": 53,
    "start_time": "2022-03-11T10:47:19.127Z"
   },
   {
    "duration": 42,
    "start_time": "2022-03-11T10:47:19.182Z"
   },
   {
    "duration": 26,
    "start_time": "2022-03-11T10:47:19.226Z"
   },
   {
    "duration": 31,
    "start_time": "2022-03-11T10:47:19.254Z"
   },
   {
    "duration": 622,
    "start_time": "2022-03-12T07:20:39.435Z"
   },
   {
    "duration": 74,
    "start_time": "2022-03-12T07:20:40.059Z"
   },
   {
    "duration": 10,
    "start_time": "2022-03-12T07:20:40.134Z"
   },
   {
    "duration": 63,
    "start_time": "2022-03-12T07:20:40.145Z"
   },
   {
    "duration": 11,
    "start_time": "2022-03-12T07:20:40.210Z"
   },
   {
    "duration": 9,
    "start_time": "2022-03-12T07:20:40.223Z"
   },
   {
    "duration": 11,
    "start_time": "2022-03-12T07:20:40.234Z"
   },
   {
    "duration": 193,
    "start_time": "2022-03-12T07:20:40.247Z"
   },
   {
    "duration": 12,
    "start_time": "2022-03-12T07:20:40.442Z"
   },
   {
    "duration": 183,
    "start_time": "2022-03-12T07:20:40.455Z"
   },
   {
    "duration": 4,
    "start_time": "2022-03-12T07:20:40.640Z"
   },
   {
    "duration": 9,
    "start_time": "2022-03-12T07:20:40.646Z"
   },
   {
    "duration": 8,
    "start_time": "2022-03-12T07:20:40.656Z"
   },
   {
    "duration": 6,
    "start_time": "2022-03-12T07:20:40.665Z"
   },
   {
    "duration": 35,
    "start_time": "2022-03-12T07:20:40.672Z"
   },
   {
    "duration": 8,
    "start_time": "2022-03-12T07:20:40.709Z"
   },
   {
    "duration": 10,
    "start_time": "2022-03-12T07:20:40.719Z"
   },
   {
    "duration": 7,
    "start_time": "2022-03-12T07:20:40.730Z"
   },
   {
    "duration": 8,
    "start_time": "2022-03-12T07:20:40.739Z"
   },
   {
    "duration": 10,
    "start_time": "2022-03-12T07:20:40.748Z"
   },
   {
    "duration": 9,
    "start_time": "2022-03-12T07:20:40.760Z"
   },
   {
    "duration": 30,
    "start_time": "2022-03-12T07:20:40.771Z"
   },
   {
    "duration": 11,
    "start_time": "2022-03-12T07:20:40.806Z"
   },
   {
    "duration": 15,
    "start_time": "2022-03-12T07:20:40.819Z"
   },
   {
    "duration": 15,
    "start_time": "2022-03-12T07:20:40.835Z"
   },
   {
    "duration": 21,
    "start_time": "2022-03-12T07:20:40.851Z"
   },
   {
    "duration": 64,
    "start_time": "2022-03-12T07:20:40.873Z"
   },
   {
    "duration": 10,
    "start_time": "2022-03-12T07:20:40.939Z"
   },
   {
    "duration": 10,
    "start_time": "2022-03-12T07:20:40.950Z"
   },
   {
    "duration": 10,
    "start_time": "2022-03-12T07:20:40.962Z"
   },
   {
    "duration": 45,
    "start_time": "2022-03-12T07:20:40.973Z"
   },
   {
    "duration": 23,
    "start_time": "2022-03-12T07:20:41.020Z"
   },
   {
    "duration": 12,
    "start_time": "2022-03-12T07:20:41.044Z"
   },
   {
    "duration": 64,
    "start_time": "2022-03-12T07:20:41.057Z"
   },
   {
    "duration": 43,
    "start_time": "2022-03-12T07:20:41.122Z"
   },
   {
    "duration": 42,
    "start_time": "2022-03-12T07:20:41.166Z"
   },
   {
    "duration": 33,
    "start_time": "2022-03-12T07:20:41.209Z"
   },
   {
    "duration": 30,
    "start_time": "2022-03-12T07:22:33.079Z"
   },
   {
    "duration": 354,
    "start_time": "2022-09-20T08:14:44.563Z"
   },
   {
    "duration": 348,
    "start_time": "2022-09-20T08:14:44.919Z"
   },
   {
    "duration": 13,
    "start_time": "2022-09-20T08:14:45.268Z"
   },
   {
    "duration": 52,
    "start_time": "2022-09-20T08:14:45.282Z"
   },
   {
    "duration": 8,
    "start_time": "2022-09-20T08:14:45.335Z"
   },
   {
    "duration": 19,
    "start_time": "2022-09-20T08:14:45.344Z"
   },
   {
    "duration": 17,
    "start_time": "2022-09-20T08:14:45.364Z"
   },
   {
    "duration": 159,
    "start_time": "2022-09-20T08:14:45.383Z"
   },
   {
    "duration": 12,
    "start_time": "2022-09-20T08:14:45.544Z"
   },
   {
    "duration": 145,
    "start_time": "2022-09-20T08:14:45.558Z"
   },
   {
    "duration": 6,
    "start_time": "2022-09-20T08:14:45.710Z"
   },
   {
    "duration": 10,
    "start_time": "2022-09-20T08:14:45.718Z"
   },
   {
    "duration": 9,
    "start_time": "2022-09-20T08:14:45.729Z"
   },
   {
    "duration": 7,
    "start_time": "2022-09-20T08:14:45.739Z"
   },
   {
    "duration": 8,
    "start_time": "2022-09-20T08:14:45.747Z"
   },
   {
    "duration": 8,
    "start_time": "2022-09-20T08:14:45.756Z"
   },
   {
    "duration": 10,
    "start_time": "2022-09-20T08:14:45.765Z"
   },
   {
    "duration": 19,
    "start_time": "2022-09-20T08:14:45.777Z"
   },
   {
    "duration": 19,
    "start_time": "2022-09-20T08:14:45.798Z"
   },
   {
    "duration": 11,
    "start_time": "2022-09-20T08:14:45.818Z"
   },
   {
    "duration": 7,
    "start_time": "2022-09-20T08:14:45.831Z"
   },
   {
    "duration": 7,
    "start_time": "2022-09-20T08:14:45.839Z"
   },
   {
    "duration": 5,
    "start_time": "2022-09-20T08:14:45.848Z"
   },
   {
    "duration": 11,
    "start_time": "2022-09-20T08:14:45.854Z"
   },
   {
    "duration": 17,
    "start_time": "2022-09-20T08:14:45.866Z"
   },
   {
    "duration": 36,
    "start_time": "2022-09-20T08:14:45.884Z"
   },
   {
    "duration": 34,
    "start_time": "2022-09-20T08:14:45.922Z"
   },
   {
    "duration": 10,
    "start_time": "2022-09-20T08:14:45.959Z"
   },
   {
    "duration": 10,
    "start_time": "2022-09-20T08:14:45.970Z"
   },
   {
    "duration": 16,
    "start_time": "2022-09-20T08:14:46.006Z"
   },
   {
    "duration": 11,
    "start_time": "2022-09-20T08:14:46.023Z"
   },
   {
    "duration": 21,
    "start_time": "2022-09-20T08:14:46.035Z"
   },
   {
    "duration": 10,
    "start_time": "2022-09-20T08:14:46.058Z"
   },
   {
    "duration": 62,
    "start_time": "2022-09-20T08:14:46.069Z"
   },
   {
    "duration": 49,
    "start_time": "2022-09-20T08:14:46.133Z"
   },
   {
    "duration": 41,
    "start_time": "2022-09-20T08:14:46.183Z"
   },
   {
    "duration": 28,
    "start_time": "2022-09-20T08:14:46.225Z"
   }
  ],
  "kernelspec": {
   "display_name": "Python 3 (ipykernel)",
   "language": "python",
   "name": "python3"
  },
  "language_info": {
   "codemirror_mode": {
    "name": "ipython",
    "version": 3
   },
   "file_extension": ".py",
   "mimetype": "text/x-python",
   "name": "python",
   "nbconvert_exporter": "python",
   "pygments_lexer": "ipython3",
   "version": "3.9.5"
  },
  "toc": {
   "base_numbering": 1,
   "nav_menu": {},
   "number_sections": true,
   "sideBar": true,
   "skip_h1_title": true,
   "title_cell": "Table of Contents",
   "title_sidebar": "Contents",
   "toc_cell": false,
   "toc_position": {},
   "toc_section_display": true,
   "toc_window_display": false
  }
 },
 "nbformat": 4,
 "nbformat_minor": 5
}
